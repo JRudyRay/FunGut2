{
 "cells": [
  {
   "cell_type": "code",
   "execution_count": 2,
   "id": "babb3bf0-a258-4eec-8547-713c3534550e",
   "metadata": {
    "tags": []
   },
   "outputs": [
    {
     "name": "stdout",
     "output_type": "stream",
     "text": [
      "/home/jovyan/FunGut2/John\n"
     ]
    }
   ],
   "source": [
    "import os\n",
    "import pandas as pd\n",
    "from qiime2 import Visualization\n",
    "import matplotlib.pyplot as plt\n",
    "%matplotlib inline\n",
    "\n",
    "# Define the data directory\n",
    "data_dir = '/data'\n",
    "#os.chdir(data_dir)\n",
    "print(os.getcwd())  # Verify the current working directory\n"
   ]
  },
  {
   "cell_type": "code",
   "execution_count": 2,
   "id": "478cf25d-9707-4c49-9972-ca52c2eaf16e",
   "metadata": {},
   "outputs": [
    {
     "name": "stdout",
     "output_type": "stream",
     "text": [
      "\u001b[32mSaved Visualization to: ./data/fungut_forward_reads_summary.qzv\u001b[0m\n",
      "\u001b[0m"
     ]
    }
   ],
   "source": [
    "! qiime demux summarize \\\n",
    "  --i-data ./data/fungut_forward_reads.qza \\\n",
    "  --o-visualization ./data/fungut_forward_reads_summary.qzv\n"
   ]
  },
  {
   "cell_type": "code",
   "execution_count": 3,
   "id": "678eb38d-df7f-4e1e-88c9-394d7f989675",
   "metadata": {
    "tags": []
   },
   "outputs": [
    {
     "data": {
      "text/html": [
       "<div><img onload=\"(function(div, url){\n",
       "if (typeof require !== 'undefined') {\n",
       "    var baseURL = require.toUrl('').split('/').slice(0, -2).join('/');\n",
       "} else {\n",
       "    var baseURL = JSON.parse(\n",
       "        document.getElementById('jupyter-config-data').innerHTML\n",
       "    ).baseUrl.slice(0, -1);\n",
       "}\n",
       "url = baseURL + url;\n",
       "fetch(url).then(function(res) {\n",
       "    if (res.status === 404) {\n",
       "        div.innerHTML = 'Install QIIME 2 Jupyter extension with:<br />' +\n",
       "                        '<code>jupyter serverextension enable --py qiime2' +\n",
       "                        ' --sys-prefix</code><br />then restart your server.' +\n",
       "                        '<br /><br />(Interactive output not available on ' +\n",
       "                        'static notebook viewer services like nbviewer.)';\n",
       "    } else if (res.status === 409) {\n",
       "        div.innerHTML = 'Visualization no longer in scope. Re-run this cell' +\n",
       "                        ' to see the visualization.';\n",
       "    } else if (res.ok) {\n",
       "        url = res.url;\n",
       "        div.innerHTML = '<iframe src=\\'' + url + '\\' style=\\'' +\n",
       "                        'width: 100%; height: 700px; border: 0;\\'>' +\n",
       "                        '</iframe><hr />Open in a: <a href=\\'' + url + '\\'' +\n",
       "                        ' target=\\'_blank\\'>new window</a>'\n",
       "    } else {\n",
       "        div.innerHTML = 'Something has gone wrong. Check notebook server for' +\n",
       "                        ' errors.';\n",
       "    }\n",
       "});\n",
       "})(this.parentElement, '/qiime2/redirect?location=/tmp/qiime2/jovyan/data/f162af6f-d2d2-473e-99f9-44a7b89ad375')\" src=\"data:image/gif;base64,R0lGODlhAQABAIAAAP///wAAACH5BAEAAAAALAAAAAABAAEAAAICRAEAOw==\" /></div>"
      ],
      "text/plain": [
       "<visualization: Visualization uuid: f162af6f-d2d2-473e-99f9-44a7b89ad375>"
      ]
     },
     "execution_count": 3,
     "metadata": {},
     "output_type": "execute_result"
    }
   ],
   "source": [
    "Visualization.load('/home/jovyan/FunGut2/John/data/fungut_forward_reads_summary.qzv')"
   ]
  },
  {
   "cell_type": "code",
   "execution_count": 4,
   "id": "7b42f909-d75d-4150-9701-8bff72ed0e94",
   "metadata": {
    "tags": []
   },
   "outputs": [
    {
     "name": "stdout",
     "output_type": "stream",
     "text": [
      "\u001b[32mSaved Visualization to: /home/jovyan/FunGut2/John/data/metadata.qzv\u001b[0m\n",
      "\u001b[0m"
     ]
    }
   ],
   "source": [
    "# Check metadata file formatting\n",
    "!qiime metadata tabulate \\\n",
    "  --m-input-file /home/jovyan/FunGut2/John/data/fungut_metadata.tsv \\\n",
    "  --o-visualization /home/jovyan/FunGut2/John/data/metadata.qzv"
   ]
  },
  {
   "cell_type": "code",
   "execution_count": 5,
   "id": "8c540ff5-9515-4da7-bc93-cd84714289d5",
   "metadata": {
    "tags": []
   },
   "outputs": [
    {
     "data": {
      "text/html": [
       "<div><img onload=\"(function(div, url){\n",
       "if (typeof require !== 'undefined') {\n",
       "    var baseURL = require.toUrl('').split('/').slice(0, -2).join('/');\n",
       "} else {\n",
       "    var baseURL = JSON.parse(\n",
       "        document.getElementById('jupyter-config-data').innerHTML\n",
       "    ).baseUrl.slice(0, -1);\n",
       "}\n",
       "url = baseURL + url;\n",
       "fetch(url).then(function(res) {\n",
       "    if (res.status === 404) {\n",
       "        div.innerHTML = 'Install QIIME 2 Jupyter extension with:<br />' +\n",
       "                        '<code>jupyter serverextension enable --py qiime2' +\n",
       "                        ' --sys-prefix</code><br />then restart your server.' +\n",
       "                        '<br /><br />(Interactive output not available on ' +\n",
       "                        'static notebook viewer services like nbviewer.)';\n",
       "    } else if (res.status === 409) {\n",
       "        div.innerHTML = 'Visualization no longer in scope. Re-run this cell' +\n",
       "                        ' to see the visualization.';\n",
       "    } else if (res.ok) {\n",
       "        url = res.url;\n",
       "        div.innerHTML = '<iframe src=\\'' + url + '\\' style=\\'' +\n",
       "                        'width: 100%; height: 700px; border: 0;\\'>' +\n",
       "                        '</iframe><hr />Open in a: <a href=\\'' + url + '\\'' +\n",
       "                        ' target=\\'_blank\\'>new window</a>'\n",
       "    } else {\n",
       "        div.innerHTML = 'Something has gone wrong. Check notebook server for' +\n",
       "                        ' errors.';\n",
       "    }\n",
       "});\n",
       "})(this.parentElement, '/qiime2/redirect?location=/tmp/qiime2/jovyan/data/94e9adb0-0387-42c8-85a0-9d502ffdb659')\" src=\"data:image/gif;base64,R0lGODlhAQABAIAAAP///wAAACH5BAEAAAAALAAAAAABAAEAAAICRAEAOw==\" /></div>"
      ],
      "text/plain": [
       "<visualization: Visualization uuid: 94e9adb0-0387-42c8-85a0-9d502ffdb659>"
      ]
     },
     "execution_count": 5,
     "metadata": {},
     "output_type": "execute_result"
    }
   ],
   "source": [
    "Visualization.load('/home/jovyan/FunGut2/John/data/metadata.qzv')"
   ]
  },
  {
   "cell_type": "code",
   "execution_count": 2,
   "id": "d84fa401-aec0-4277-8446-979a3d00555a",
   "metadata": {},
   "outputs": [
    {
     "name": "stdout",
     "output_type": "stream",
     "text": [
      "\u001b[32mUUID\u001b[0m:        fe59c4c5-95a2-4a84-81b5-0dbfb21aef82\n",
      "\u001b[32mType\u001b[0m:        FeatureData[Sequence]\n",
      "\u001b[32mData format\u001b[0m: DNASequencesDirectoryFormat\n"
     ]
    }
   ],
   "source": [
    "!qiime tools peek ./data/rep-seqs.qza"
   ]
  },
  {
   "cell_type": "code",
   "execution_count": 4,
   "id": "7c7b91ea-a7bf-424c-8b59-d75141e1fef8",
   "metadata": {
    "tags": []
   },
   "outputs": [
    {
     "name": "stdout",
     "output_type": "stream",
     "text": [
      "\u001b[32mSaved FeatureTable[Frequency] to: ./data/table.qza\u001b[0m\n",
      "\u001b[32mSaved FeatureData[Sequence] to: ./data/rep-seqs.qza\u001b[0m\n",
      "\u001b[32mSaved SampleData[DADA2Stats] to: ./data/denoising-stats.qza\u001b[0m\n",
      "\u001b[0m"
     ]
    }
   ],
   "source": [
    "!qiime dada2 denoise-single \\\n",
    "  --i-demultiplexed-seqs ./data/fungut_forward_reads.qza \\\n",
    "  --p-trim-left 0 \\\n",
    "  --p-trunc-len 150 \\\n",
    "  --o-representative-sequences ./data/rep-seqs.qza \\\n",
    "  --o-table ./data/table.qza \\\n",
    "  --o-denoising-stats ./data/denoising-stats.qza"
   ]
  },
  {
   "cell_type": "code",
   "execution_count": 7,
   "id": "0c5e8b06-cf08-4f2d-8226-94da85098f75",
   "metadata": {
    "tags": []
   },
   "outputs": [
    {
     "name": "stdout",
     "output_type": "stream",
     "text": [
      "Usage: \u001b[94mqiime tools validate\u001b[0m [OPTIONS] ARTIFACT/VISUALIZATION\n",
      "\n",
      "  Validate data in a QIIME 2 Artifact. QIIME 2 automatically performs some\n",
      "  basic validation when managing your data; use this command to perform\n",
      "  explicit and/or more thorough validation of your data (e.g. when debugging\n",
      "  issues with your data or analyses).\n",
      "\n",
      "  Note: validation can take some time to complete, depending on the size and\n",
      "  type of your data.\n",
      "\n",
      "\u001b[1mOptions\u001b[0m:\n",
      "  \u001b[94m--level\u001b[0m [min|max]  Desired level of validation. \"min\" will perform minimal\n",
      "                     validation, and \"max\" will perform maximal validation (at\n",
      "                     the potential cost of runtime).            \u001b[35m[default: max]\u001b[0m\n",
      "  \u001b[94m--help\u001b[0m             Show this message and exit.\n",
      "\n",
      "\u001b[33m                    There was a problem with the command:                     \u001b[0m\n",
      "\u001b[31m\u001b[1m (1/1) Invalid value for 'ARTIFACT/VISUALIZATION': File\n",
      "  './data/classifiers/unite_ver10_99.qza' does not exist.\u001b[0m\n"
     ]
    }
   ],
   "source": [
    "!qiime tools validate ./data/classifiers/unite_ver10_99.qza"
   ]
  },
  {
   "cell_type": "code",
   "execution_count": 2,
   "id": "ba448d5e-c284-4709-b2c2-c55d3d1c380a",
   "metadata": {
    "tags": []
   },
   "outputs": [
    {
     "name": "stdout",
     "output_type": "stream",
     "text": [
      "Usage: \u001b[94mqiime feature-classifier classify-sklearn\u001b[0m [OPTIONS]\n",
      "\n",
      "  Classify reads by taxon using a fitted classifier.\n",
      "\n",
      "\u001b[1mInputs\u001b[0m:\n",
      "  \u001b[94m\u001b[4m--i-reads\u001b[0m ARTIFACT \u001b[32mFeatureData[Sequence]\u001b[0m\n",
      "                         The feature data to be classified.         \u001b[35m[required]\u001b[0m\n",
      "  \u001b[94m\u001b[4m--i-classifier\u001b[0m ARTIFACT\n",
      "    \u001b[32mTaxonomicClassifier\u001b[0m  The taxonomic classifier for classifying the reads.\n",
      "                                                                    \u001b[35m[required]\u001b[0m\n",
      "\u001b[1mParameters\u001b[0m:\n",
      "  \u001b[94m--p-reads-per-batch\u001b[0m VALUE \u001b[32mInt % Range(1, None) | Str % Choices('auto')\u001b[0m\n",
      "                         Number of reads to process in each batch. If \"auto\",\n",
      "                         this parameter is autoscaled to min( number of query\n",
      "                         sequences / \u001b[4mn-jobs\u001b[0m, 20000).         \u001b[35m[default: 'auto']\u001b[0m\n",
      "  \u001b[94m--p-n-jobs\u001b[0m NTHREADS    The maximum number of concurrent worker processes.\n",
      "                         If 0 all CPUs are used. If 1 is given, no parallel\n",
      "                         computing code is used at all, which is useful for\n",
      "                         debugging.                               \u001b[35m[default: 1]\u001b[0m\n",
      "  \u001b[94m--p-pre-dispatch\u001b[0m TEXT  \"all\" or expression, as in \"3*n_jobs\". The number of\n",
      "                         batches (of tasks) to be pre-dispatched.\n",
      "                                                         \u001b[35m[default: '2*n_jobs']\u001b[0m\n",
      "  \u001b[94m--p-confidence\u001b[0m VALUE \u001b[32mFloat % Range(0, 1, inclusive_end=True) | Str %\u001b[0m\n",
      "    \u001b[32mChoices('disable')\u001b[0m   Confidence threshold for limiting taxonomic depth.\n",
      "                         Set to \"disable\" to disable confidence calculation,\n",
      "                         or 0 to calculate confidence but not apply it to\n",
      "                         limit the taxonomic depth of the assignments.\n",
      "                                                                \u001b[35m[default: 0.7]\u001b[0m\n",
      "  \u001b[94m--p-read-orientation\u001b[0m TEXT \u001b[32mChoices('same', 'reverse-complement', 'auto')\u001b[0m\n",
      "                         Direction of reads with respect to reference\n",
      "                         sequences. same will cause reads to be classified\n",
      "                         unchanged; reverse-complement will cause reads to be\n",
      "                         reversed and complemented prior to classification.\n",
      "                         \"auto\" will autodetect orientation based on the\n",
      "                         confidence estimates for the first 100 reads.\n",
      "                                                             \u001b[35m[default: 'auto']\u001b[0m\n",
      "\u001b[1mOutputs\u001b[0m:\n",
      "  \u001b[94m\u001b[4m--o-classification\u001b[0m ARTIFACT \u001b[32mFeatureData[Taxonomy]\u001b[0m\n",
      "                                                                    \u001b[35m[required]\u001b[0m\n",
      "\u001b[1mMiscellaneous\u001b[0m:\n",
      "  \u001b[94m--output-dir\u001b[0m PATH      Output unspecified results to a directory\n",
      "  \u001b[94m--verbose\u001b[0m / \u001b[94m--quiet\u001b[0m    Display verbose output to stdout and/or stderr\n",
      "                         during execution of this action. Or silence output if\n",
      "                         execution is successful (silence is golden).\n",
      "  \u001b[94m--example-data\u001b[0m PATH    Write example data and exit.\n",
      "  \u001b[94m--citations\u001b[0m            Show citations and exit.\n",
      "  \u001b[94m--help\u001b[0m                 Show this message and exit.\n",
      "\u001b[0m"
     ]
    }
   ],
   "source": [
    "!qiime feature-classifier classify-sklearn --help"
   ]
  },
  {
   "cell_type": "code",
   "execution_count": 3,
   "id": "22c3dfaf-66af-4fef-88a0-8041755abb4d",
   "metadata": {
    "tags": []
   },
   "outputs": [
    {
     "name": "stdout",
     "output_type": "stream",
     "text": [
      "job finishied?\n"
     ]
    }
   ],
   "source": [
    "!qiime feature-classifier classify-sklearn \\\n",
    "  --i-classifier ./data/classifiers/'unite_ver10_99_04.04.2024-Q2-2024.5.qza' \\\n",
    "  --i-reads ./data/rep-seqs.qza \\\n",
    "  --p-reads-per-batch 10 \\\n",
    "  --p-n-jobs 0 \\\n",
    "  --o-classification ./taxonomy.qza\n"
   ]
  },
  {
   "cell_type": "code",
   "execution_count": null,
   "id": "3aa0361d-9e61-46f1-85c5-448259370043",
   "metadata": {
    "tags": []
   },
   "outputs": [],
   "source": [
    "!qiime metadata tabulate \\\n",
    "  --m-input-file ./data/taxonomy.qza \\\n",
    "  --o-visualization ./data/taxonomy.qzv"
   ]
  },
  {
   "cell_type": "code",
   "execution_count": null,
   "id": "240cf8c0-3a3f-4620-8ed2-94bd1c653d2e",
   "metadata": {},
   "outputs": [],
   "source": [
    "Visualization.load('/home/jovyan/FunGut2/John/data/taxonomy.qzv')"
   ]
  },
  {
   "cell_type": "code",
   "execution_count": null,
   "id": "b4d88bd5-09a6-4c2f-8688-57b75a3b2a12",
   "metadata": {},
   "outputs": [],
   "source": [
    "qiime taxa barplot \\\n",
    "  --i-table ./data/table.qza \\\n",
    "  --i-taxonomy ./data/taxonomy.qza \\\n",
    "  --m-metadata-file ./data/fungut_metadata.tsv \\\n",
    "  --o-visualization ./data/taxa-bar-plots.qzv\n"
   ]
  },
  {
   "cell_type": "code",
   "execution_count": null,
   "id": "60b8b31d-b09a-45f8-ad79-e121ebe0f8d3",
   "metadata": {},
   "outputs": [],
   "source": [
    "Visualization.load('/home/jovyan/FunGut2/John/data/taxa-bar-plot.qzv')"
   ]
  },
  {
   "cell_type": "code",
   "execution_count": null,
   "id": "470faa54-b69e-4523-93b1-f7cce4f3f893",
   "metadata": {},
   "outputs": [],
   "source": []
  },
  {
   "cell_type": "code",
   "execution_count": null,
   "id": "d10413ea-a759-48e6-9438-9895343de620",
   "metadata": {},
   "outputs": [],
   "source": []
  }
 ],
 "metadata": {
  "kernelspec": {
   "display_name": "QIIME 2",
   "language": "python",
   "name": "python3"
  },
  "language_info": {
   "codemirror_mode": {
    "name": "ipython",
    "version": 3
   },
   "file_extension": ".py",
   "mimetype": "text/x-python",
   "name": "python",
   "nbconvert_exporter": "python",
   "pygments_lexer": "ipython3",
   "version": "3.9.19"
  }
 },
 "nbformat": 4,
 "nbformat_minor": 5
}
