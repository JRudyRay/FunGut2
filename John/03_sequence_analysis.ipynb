{
 "cells": [
  {
   "cell_type": "code",
   "execution_count": 8,
   "id": "babb3bf0-a258-4eec-8547-713c3534550e",
   "metadata": {
    "tags": []
   },
   "outputs": [
    {
     "name": "stdout",
     "output_type": "stream",
     "text": [
      "/home/jovyan/FunGut2/John\n"
     ]
    }
   ],
   "source": [
    "import os\n",
    "import pandas as pd\n",
    "from qiime2 import Visualization\n",
    "import matplotlib.pyplot as plt\n",
    "%matplotlib inline\n",
    "\n",
    "# Define the data directory\n",
    "data_dir = '/data'\n",
    "#os.chdir(data_dir)\n",
    "print(os.getcwd())  # Verify the current working directory\n"
   ]
  },
  {
   "cell_type": "markdown",
   "id": "6543cb0a-f2e0-4312-8d99-d20aacac2782",
   "metadata": {},
   "source": [
    "Checking out the reads"
   ]
  },
  {
   "cell_type": "code",
   "execution_count": null,
   "id": "478cf25d-9707-4c49-9972-ca52c2eaf16e",
   "metadata": {},
   "outputs": [],
   "source": [
    "! qiime demux summarize \\\n",
    "  --i-data ./data/fungut_forward_reads.qza \\\n",
    "  --o-visualization ./data/fungut_forward_reads_summary.qzv"
   ]
  },
  {
   "cell_type": "code",
   "execution_count": null,
   "id": "678eb38d-df7f-4e1e-88c9-394d7f989675",
   "metadata": {
    "tags": []
   },
   "outputs": [],
   "source": [
    "Visualization.load('/home/jovyan/FunGut2/John/data/fungut_forward_reads_summary.qzv')"
   ]
  },
  {
   "cell_type": "markdown",
   "id": "3adba178-bbb8-4137-b07d-7b2453b73e96",
   "metadata": {
    "tags": []
   },
   "source": [
    "Checking out the metadata"
   ]
  },
  {
   "cell_type": "code",
   "execution_count": null,
   "id": "7b42f909-d75d-4150-9701-8bff72ed0e94",
   "metadata": {
    "tags": []
   },
   "outputs": [],
   "source": [
    "# Check metadata file formatting\n",
    "!qiime metadata tabulate \\\n",
    "  --m-input-file /home/jovyan/FunGut2/John/data/fungut_metadata.tsv \\\n",
    "  --o-visualization /home/jovyan/FunGut2/John/data/metadata.qzv"
   ]
  },
  {
   "cell_type": "code",
   "execution_count": 15,
   "id": "8c540ff5-9515-4da7-bc93-cd84714289d5",
   "metadata": {
    "tags": []
   },
   "outputs": [
    {
     "data": {
      "text/html": [
       "<div><img onload=\"(function(div, url){\n",
       "if (typeof require !== 'undefined') {\n",
       "    var baseURL = require.toUrl('').split('/').slice(0, -2).join('/');\n",
       "} else {\n",
       "    var baseURL = JSON.parse(\n",
       "        document.getElementById('jupyter-config-data').innerHTML\n",
       "    ).baseUrl.slice(0, -1);\n",
       "}\n",
       "url = baseURL + url;\n",
       "fetch(url).then(function(res) {\n",
       "    if (res.status === 404) {\n",
       "        div.innerHTML = 'Install QIIME 2 Jupyter extension with:<br />' +\n",
       "                        '<code>jupyter serverextension enable --py qiime2' +\n",
       "                        ' --sys-prefix</code><br />then restart your server.' +\n",
       "                        '<br /><br />(Interactive output not available on ' +\n",
       "                        'static notebook viewer services like nbviewer.)';\n",
       "    } else if (res.status === 409) {\n",
       "        div.innerHTML = 'Visualization no longer in scope. Re-run this cell' +\n",
       "                        ' to see the visualization.';\n",
       "    } else if (res.ok) {\n",
       "        url = res.url;\n",
       "        div.innerHTML = '<iframe src=\\'' + url + '\\' style=\\'' +\n",
       "                        'width: 100%; height: 700px; border: 0;\\'>' +\n",
       "                        '</iframe><hr />Open in a: <a href=\\'' + url + '\\'' +\n",
       "                        ' target=\\'_blank\\'>new window</a>'\n",
       "    } else {\n",
       "        div.innerHTML = 'Something has gone wrong. Check notebook server for' +\n",
       "                        ' errors.';\n",
       "    }\n",
       "});\n",
       "})(this.parentElement, '/qiime2/redirect?location=/tmp/qiime2/jovyan/data/94e9adb0-0387-42c8-85a0-9d502ffdb659')\" src=\"data:image/gif;base64,R0lGODlhAQABAIAAAP///wAAACH5BAEAAAAALAAAAAABAAEAAAICRAEAOw==\" /></div>"
      ],
      "text/plain": [
       "<visualization: Visualization uuid: 94e9adb0-0387-42c8-85a0-9d502ffdb659>"
      ]
     },
     "execution_count": 15,
     "metadata": {},
     "output_type": "execute_result"
    }
   ],
   "source": [
    "Visualization.load('/home/jovyan/FunGut2/John/data/metadata.qzv')"
   ]
  },
  {
   "cell_type": "markdown",
   "id": "40a6d7af-6b19-4cda-a9ee-1bdc11e281dc",
   "metadata": {},
   "source": [
    "Denoising step"
   ]
  },
  {
   "cell_type": "code",
   "execution_count": 7,
   "id": "d84fa401-aec0-4277-8446-979a3d00555a",
   "metadata": {},
   "outputs": [
    {
     "name": "stdout",
     "output_type": "stream",
     "text": [
      "\u001b[32mUUID\u001b[0m:        1866201b-f5b3-4750-9a79-c22d6031a2aa\n",
      "\u001b[32mType\u001b[0m:        FeatureData[Sequence]\n",
      "\u001b[32mData format\u001b[0m: DNASequencesDirectoryFormat\n"
     ]
    }
   ],
   "source": [
    "!qiime tools peek ./data/rep-seqs.qza"
   ]
  },
  {
   "cell_type": "code",
   "execution_count": null,
   "id": "7c7b91ea-a7bf-424c-8b59-d75141e1fef8",
   "metadata": {
    "tags": []
   },
   "outputs": [],
   "source": [
    "!qiime dada2 denoise-single \\\n",
    "  --i-demultiplexed-seqs ./data/fungut_forward_reads.qza \\\n",
    "  --p-trim-left 0 \\\n",
    "  --p-trunc-len 150 \\\n",
    "  --o-representative-sequences ./data/rep-seqs.qza \\\n",
    "  --o-table ./data/table.qza \\\n",
    "  --o-denoising-stats ./data/denoising-stats.qza"
   ]
  },
  {
   "cell_type": "markdown",
   "id": "6cc1ba44-2d49-4152-87e4-9fec7a10d31d",
   "metadata": {},
   "source": [
    "Classification"
   ]
  },
  {
   "cell_type": "code",
   "execution_count": null,
   "id": "22c3dfaf-66af-4fef-88a0-8041755abb4d",
   "metadata": {
    "tags": []
   },
   "outputs": [],
   "source": [
    "'''\n",
    "!qiime feature-classifier classify-sklearn \\\n",
    "  --i-classifier ./data/classifiers/'unite_ver10_99_04.04.2024-Q2-2024.5.qza' \\\n",
    "  --i-reads ./data/rep-seqs.qza \\\n",
    "  --p-reads-per-batch 10 \\\n",
    "  --p-n-jobs 0 \\\n",
    "  --o-classification ./taxonomy.qza\n",
    "'''"
   ]
  },
  {
   "cell_type": "code",
   "execution_count": null,
   "id": "3aa0361d-9e61-46f1-85c5-448259370043",
   "metadata": {
    "tags": []
   },
   "outputs": [],
   "source": [
    "# tabulation of the taxonomy classification only 99, so the too basic classifier, without eukaryotes\n",
    "!qiime metadata tabulate \\\n",
    "  --m-input-file ./data/taxonomy.qza \\\n",
    "  --o-visualization ./data/taxonomy.qzv"
   ]
  },
  {
   "cell_type": "code",
   "execution_count": null,
   "id": "240cf8c0-3a3f-4620-8ed2-94bd1c653d2e",
   "metadata": {},
   "outputs": [],
   "source": [
    "Visualization.load('/home/jovyan/FunGut2/John/data/taxonomy.qzv')"
   ]
  },
  {
   "cell_type": "code",
   "execution_count": null,
   "id": "b4d88bd5-09a6-4c2f-8688-57b75a3b2a12",
   "metadata": {},
   "outputs": [],
   "source": [
    "!qiime metadata tabulate \\\n",
    "  --m-input-file ./taxonomy_unite_dynamic_s_all.qza \\\n",
    "  --o-visualization ./taxonomy_unite_dynamic_s_all.qzv"
   ]
  },
  {
   "cell_type": "code",
   "execution_count": 15,
   "id": "60b8b31d-b09a-45f8-ad79-e121ebe0f8d3",
   "metadata": {},
   "outputs": [
    {
     "data": {
      "text/html": [
       "<div><img onload=\"(function(div, url){\n",
       "if (typeof require !== 'undefined') {\n",
       "    var baseURL = require.toUrl('').split('/').slice(0, -2).join('/');\n",
       "} else {\n",
       "    var baseURL = JSON.parse(\n",
       "        document.getElementById('jupyter-config-data').innerHTML\n",
       "    ).baseUrl.slice(0, -1);\n",
       "}\n",
       "url = baseURL + url;\n",
       "fetch(url).then(function(res) {\n",
       "    if (res.status === 404) {\n",
       "        div.innerHTML = 'Install QIIME 2 Jupyter extension with:<br />' +\n",
       "                        '<code>jupyter serverextension enable --py qiime2' +\n",
       "                        ' --sys-prefix</code><br />then restart your server.' +\n",
       "                        '<br /><br />(Interactive output not available on ' +\n",
       "                        'static notebook viewer services like nbviewer.)';\n",
       "    } else if (res.status === 409) {\n",
       "        div.innerHTML = 'Visualization no longer in scope. Re-run this cell' +\n",
       "                        ' to see the visualization.';\n",
       "    } else if (res.ok) {\n",
       "        url = res.url;\n",
       "        div.innerHTML = '<iframe src=\\'' + url + '\\' style=\\'' +\n",
       "                        'width: 100%; height: 700px; border: 0;\\'>' +\n",
       "                        '</iframe><hr />Open in a: <a href=\\'' + url + '\\'' +\n",
       "                        ' target=\\'_blank\\'>new window</a>'\n",
       "    } else {\n",
       "        div.innerHTML = 'Something has gone wrong. Check notebook server for' +\n",
       "                        ' errors.';\n",
       "    }\n",
       "});\n",
       "})(this.parentElement, '/qiime2/redirect?location=/tmp/qiime2/jovyan/data/5ae77c4a-c5b8-46c0-8b57-5f6234aa07ba')\" src=\"data:image/gif;base64,R0lGODlhAQABAIAAAP///wAAACH5BAEAAAAALAAAAAABAAEAAAICRAEAOw==\" /></div>"
      ],
      "text/plain": [
       "<visualization: Visualization uuid: 5ae77c4a-c5b8-46c0-8b57-5f6234aa07ba>"
      ]
     },
     "execution_count": 15,
     "metadata": {},
     "output_type": "execute_result"
    }
   ],
   "source": [
    "Visualization.load('./taxonomy_unite_dynamic_s_all.qzv')"
   ]
  },
  {
   "cell_type": "code",
   "execution_count": null,
   "id": "79b05ebc-7270-4892-88fd-ea3aff491698",
   "metadata": {},
   "outputs": [],
   "source": []
  },
  {
   "cell_type": "code",
   "execution_count": null,
   "id": "2244a3f2-d15e-4ae6-a0a1-7cfa2a4e2aa3",
   "metadata": {},
   "outputs": [],
   "source": [
    "!qiime taxa barplot \\\n",
    "  --i-table ./data/table.qza \\\n",
    "  --i-taxonomy ./taxonomy_unite_dynamic_s_all.qza \\\n",
    "  --m-metadata-file ./data/fungut_metadata.tsv \\\n",
    "  --o-visualization ./data/taxa-bar-plots.qzv\n"
   ]
  },
  {
   "cell_type": "code",
   "execution_count": null,
   "id": "41ec7488-211f-4022-853d-40033ce0499f",
   "metadata": {},
   "outputs": [],
   "source": [
    "Visualization.load('./data/taxa-bar-plots.qzv')"
   ]
  },
  {
   "cell_type": "code",
   "execution_count": 12,
   "id": "352b1c30-c473-401d-88c5-4fc50f1d7075",
   "metadata": {
    "tags": []
   },
   "outputs": [
    {
     "name": "stdout",
     "output_type": "stream",
     "text": [
      "\u001b[32mSaved Visualization to: ./data/table-summary.qzv\u001b[0m\n",
      "\u001b[0m"
     ]
    }
   ],
   "source": [
    "!qiime feature-table summarize \\\n",
    "  --i-table ./data/table.qza \\\n",
    "  --o-visualization ./data/table-summary.qzv"
   ]
  },
  {
   "cell_type": "code",
   "execution_count": null,
   "id": "80b38716-4185-4458-8ac6-2cdb376d3307",
   "metadata": {},
   "outputs": [],
   "source": [
    "Visualization.load('./data/table-summary.qzv')"
   ]
  },
  {
   "cell_type": "markdown",
   "id": "43dc68ed-8955-44aa-9196-fd472dc92c9a",
   "metadata": {},
   "source": [
    "Filtering the feature table to exclude eukaryotes"
   ]
  },
  {
   "cell_type": "code",
   "execution_count": 17,
   "id": "f7a56fdb-013a-474c-bc46-f4d3292cb22c",
   "metadata": {
    "tags": []
   },
   "outputs": [
    {
     "name": "stdout",
     "output_type": "stream",
     "text": [
      "\u001b[32mSaved FeatureTable[Frequency] to: ./data/filtered-feature-table.qza\u001b[0m\n",
      "\u001b[0m"
     ]
    }
   ],
   "source": [
    "!qiime taxa filter-table \\\n",
    "  --i-table ./data/table.qza \\\n",
    "  --i-taxonomy ./taxonomy_unite_dynamic_s_all.qza \\\n",
    "  --p-exclude Eukaryota,Unassigned \\\n",
    "  --o-filtered-table ./data/filtered-feature-table.qza\n"
   ]
  },
  {
   "cell_type": "code",
   "execution_count": 21,
   "id": "4eae8adb-ebfb-4fbf-8eba-4603388c2f6d",
   "metadata": {
    "tags": []
   },
   "outputs": [
    {
     "name": "stdout",
     "output_type": "stream",
     "text": [
      "\u001b[32mSaved Visualization to: ./data/filtered-feature-table_summary.qzv\u001b[0m\n",
      "\u001b[0m"
     ]
    }
   ],
   "source": [
    "!qiime feature-table summarize\\\n",
    "    --i-table ./data/filtered-feature-table.qza \\\n",
    "    --o-visualization ./data/filtered-feature-table_summary.qzv"
   ]
  },
  {
   "cell_type": "code",
   "execution_count": 25,
   "id": "ac1793eb-f102-48eb-9ff0-7b2806f23414",
   "metadata": {
    "tags": []
   },
   "outputs": [
    {
     "data": {
      "text/html": [
       "<div><img onload=\"(function(div, url){\n",
       "if (typeof require !== 'undefined') {\n",
       "    var baseURL = require.toUrl('').split('/').slice(0, -2).join('/');\n",
       "} else {\n",
       "    var baseURL = JSON.parse(\n",
       "        document.getElementById('jupyter-config-data').innerHTML\n",
       "    ).baseUrl.slice(0, -1);\n",
       "}\n",
       "url = baseURL + url;\n",
       "fetch(url).then(function(res) {\n",
       "    if (res.status === 404) {\n",
       "        div.innerHTML = 'Install QIIME 2 Jupyter extension with:<br />' +\n",
       "                        '<code>jupyter serverextension enable --py qiime2' +\n",
       "                        ' --sys-prefix</code><br />then restart your server.' +\n",
       "                        '<br /><br />(Interactive output not available on ' +\n",
       "                        'static notebook viewer services like nbviewer.)';\n",
       "    } else if (res.status === 409) {\n",
       "        div.innerHTML = 'Visualization no longer in scope. Re-run this cell' +\n",
       "                        ' to see the visualization.';\n",
       "    } else if (res.ok) {\n",
       "        url = res.url;\n",
       "        div.innerHTML = '<iframe src=\\'' + url + '\\' style=\\'' +\n",
       "                        'width: 100%; height: 700px; border: 0;\\'>' +\n",
       "                        '</iframe><hr />Open in a: <a href=\\'' + url + '\\'' +\n",
       "                        ' target=\\'_blank\\'>new window</a>'\n",
       "    } else {\n",
       "        div.innerHTML = 'Something has gone wrong. Check notebook server for' +\n",
       "                        ' errors.';\n",
       "    }\n",
       "});\n",
       "})(this.parentElement, '/qiime2/redirect?location=/tmp/qiime2/jovyan/data/e6a080e5-3bd7-4571-9484-81ac91b3d5b1')\" src=\"data:image/gif;base64,R0lGODlhAQABAIAAAP///wAAACH5BAEAAAAALAAAAAABAAEAAAICRAEAOw==\" /></div>"
      ],
      "text/plain": [
       "<visualization: Visualization uuid: e6a080e5-3bd7-4571-9484-81ac91b3d5b1>"
      ]
     },
     "execution_count": 25,
     "metadata": {},
     "output_type": "execute_result"
    }
   ],
   "source": [
    "Visualization.load('./data/filtered-feature-table_summary.qzv')"
   ]
  },
  {
   "cell_type": "code",
   "execution_count": 2,
   "id": "33ea9d42-1884-4db1-91c4-629f6cbe9a1e",
   "metadata": {},
   "outputs": [
    {
     "data": {
      "text/html": [
       "<div><img onload=\"(function(div, url){\n",
       "if (typeof require !== 'undefined') {\n",
       "    var baseURL = require.toUrl('').split('/').slice(0, -2).join('/');\n",
       "} else {\n",
       "    var baseURL = JSON.parse(\n",
       "        document.getElementById('jupyter-config-data').innerHTML\n",
       "    ).baseUrl.slice(0, -1);\n",
       "}\n",
       "url = baseURL + url;\n",
       "fetch(url).then(function(res) {\n",
       "    if (res.status === 404) {\n",
       "        div.innerHTML = 'Install QIIME 2 Jupyter extension with:<br />' +\n",
       "                        '<code>jupyter serverextension enable --py qiime2' +\n",
       "                        ' --sys-prefix</code><br />then restart your server.' +\n",
       "                        '<br /><br />(Interactive output not available on ' +\n",
       "                        'static notebook viewer services like nbviewer.)';\n",
       "    } else if (res.status === 409) {\n",
       "        div.innerHTML = 'Visualization no longer in scope. Re-run this cell' +\n",
       "                        ' to see the visualization.';\n",
       "    } else if (res.ok) {\n",
       "        url = res.url;\n",
       "        div.innerHTML = '<iframe src=\\'' + url + '\\' style=\\'' +\n",
       "                        'width: 100%; height: 700px; border: 0;\\'>' +\n",
       "                        '</iframe><hr />Open in a: <a href=\\'' + url + '\\'' +\n",
       "                        ' target=\\'_blank\\'>new window</a>'\n",
       "    } else {\n",
       "        div.innerHTML = 'Something has gone wrong. Check notebook server for' +\n",
       "                        ' errors.';\n",
       "    }\n",
       "});\n",
       "})(this.parentElement, '/qiime2/redirect?location=/tmp/qiime2/jovyan/data/94c735db-04a5-47d4-a4e0-e9b083539786')\" src=\"data:image/gif;base64,R0lGODlhAQABAIAAAP///wAAACH5BAEAAAAALAAAAAABAAEAAAICRAEAOw==\" /></div>"
      ],
      "text/plain": [
       "<visualization: Visualization uuid: 94c735db-04a5-47d4-a4e0-e9b083539786>"
      ]
     },
     "execution_count": 2,
     "metadata": {},
     "output_type": "execute_result"
    }
   ],
   "source": [
    "Visualization.load('fasttree-tree-rooted.qzv')"
   ]
  },
  {
   "cell_type": "markdown",
   "id": "cfc1bb17-ea97-493c-a2e1-a89b2cefb29e",
   "metadata": {},
   "source": [
    "Alpha rarefaction"
   ]
  },
  {
   "cell_type": "code",
   "execution_count": 9,
   "id": "bdb5603c-4f71-4053-aebd-a249d7d1c55b",
   "metadata": {
    "tags": []
   },
   "outputs": [
    {
     "name": "stdout",
     "output_type": "stream",
     "text": [
      "\u001b[32mSaved Visualization to: ./data/alpha-rarefaction.qzv\u001b[0m\n",
      "\u001b[0m"
     ]
    }
   ],
   "source": [
    "!qiime diversity alpha-rarefaction \\\n",
    "  --i-table ./data/filtered-feature-table.qza \\\n",
    "  --i-phylogeny ./data/fasttree-tree-rooted.qza \\\n",
    "  --p-max-depth  30000 \\\n",
    "  --m-metadata-file ./data/fungut_metadata.tsv \\\n",
    "  --o-visualization ./data/alpha-rarefaction.qzv\n"
   ]
  },
  {
   "cell_type": "code",
   "execution_count": 10,
   "id": "97a242cc-97fe-4c9b-85cb-bec081817655",
   "metadata": {
    "tags": []
   },
   "outputs": [
    {
     "data": {
      "text/html": [
       "<div><img onload=\"(function(div, url){\n",
       "if (typeof require !== 'undefined') {\n",
       "    var baseURL = require.toUrl('').split('/').slice(0, -2).join('/');\n",
       "} else {\n",
       "    var baseURL = JSON.parse(\n",
       "        document.getElementById('jupyter-config-data').innerHTML\n",
       "    ).baseUrl.slice(0, -1);\n",
       "}\n",
       "url = baseURL + url;\n",
       "fetch(url).then(function(res) {\n",
       "    if (res.status === 404) {\n",
       "        div.innerHTML = 'Install QIIME 2 Jupyter extension with:<br />' +\n",
       "                        '<code>jupyter serverextension enable --py qiime2' +\n",
       "                        ' --sys-prefix</code><br />then restart your server.' +\n",
       "                        '<br /><br />(Interactive output not available on ' +\n",
       "                        'static notebook viewer services like nbviewer.)';\n",
       "    } else if (res.status === 409) {\n",
       "        div.innerHTML = 'Visualization no longer in scope. Re-run this cell' +\n",
       "                        ' to see the visualization.';\n",
       "    } else if (res.ok) {\n",
       "        url = res.url;\n",
       "        div.innerHTML = '<iframe src=\\'' + url + '\\' style=\\'' +\n",
       "                        'width: 100%; height: 700px; border: 0;\\'>' +\n",
       "                        '</iframe><hr />Open in a: <a href=\\'' + url + '\\'' +\n",
       "                        ' target=\\'_blank\\'>new window</a>'\n",
       "    } else {\n",
       "        div.innerHTML = 'Something has gone wrong. Check notebook server for' +\n",
       "                        ' errors.';\n",
       "    }\n",
       "});\n",
       "})(this.parentElement, '/qiime2/redirect?location=/tmp/qiime2/jovyan/data/739aa812-caf2-40f4-b796-6647c7b8d96d')\" src=\"data:image/gif;base64,R0lGODlhAQABAIAAAP///wAAACH5BAEAAAAALAAAAAABAAEAAAICRAEAOw==\" /></div>"
      ],
      "text/plain": [
       "<visualization: Visualization uuid: 739aa812-caf2-40f4-b796-6647c7b8d96d>"
      ]
     },
     "execution_count": 10,
     "metadata": {},
     "output_type": "execute_result"
    }
   ],
   "source": [
    "Visualization.load('./data/alpha-rarefaction.qzv')"
   ]
  },
  {
   "cell_type": "code",
   "execution_count": 11,
   "id": "1c41aad5-0caf-4790-86ac-bdd0e17ea9e8",
   "metadata": {},
   "outputs": [
    {
     "name": "stdout",
     "output_type": "stream",
     "text": [
      "\u001b[32mSaved FeatureTable[Frequency] to: ./data/core-metrics-results/rarefied_table.qza\u001b[0m\n",
      "\u001b[32mSaved SampleData[AlphaDiversity] to: ./data/core-metrics-results/faith_pd_vector.qza\u001b[0m\n",
      "\u001b[32mSaved SampleData[AlphaDiversity] to: ./data/core-metrics-results/observed_features_vector.qza\u001b[0m\n",
      "\u001b[32mSaved SampleData[AlphaDiversity] to: ./data/core-metrics-results/shannon_vector.qza\u001b[0m\n",
      "\u001b[32mSaved SampleData[AlphaDiversity] to: ./data/core-metrics-results/evenness_vector.qza\u001b[0m\n",
      "\u001b[32mSaved DistanceMatrix to: ./data/core-metrics-results/unweighted_unifrac_distance_matrix.qza\u001b[0m\n",
      "\u001b[32mSaved DistanceMatrix to: ./data/core-metrics-results/weighted_unifrac_distance_matrix.qza\u001b[0m\n",
      "\u001b[32mSaved DistanceMatrix to: ./data/core-metrics-results/jaccard_distance_matrix.qza\u001b[0m\n",
      "\u001b[32mSaved DistanceMatrix to: ./data/core-metrics-results/bray_curtis_distance_matrix.qza\u001b[0m\n",
      "\u001b[32mSaved PCoAResults to: ./data/core-metrics-results/unweighted_unifrac_pcoa_results.qza\u001b[0m\n",
      "\u001b[32mSaved PCoAResults to: ./data/core-metrics-results/weighted_unifrac_pcoa_results.qza\u001b[0m\n",
      "\u001b[32mSaved PCoAResults to: ./data/core-metrics-results/jaccard_pcoa_results.qza\u001b[0m\n",
      "\u001b[32mSaved PCoAResults to: ./data/core-metrics-results/bray_curtis_pcoa_results.qza\u001b[0m\n",
      "\u001b[32mSaved Visualization to: ./data/core-metrics-results/unweighted_unifrac_emperor.qzv\u001b[0m\n",
      "\u001b[32mSaved Visualization to: ./data/core-metrics-results/weighted_unifrac_emperor.qzv\u001b[0m\n",
      "\u001b[32mSaved Visualization to: ./data/core-metrics-results/jaccard_emperor.qzv\u001b[0m\n",
      "\u001b[32mSaved Visualization to: ./data/core-metrics-results/bray_curtis_emperor.qzv\u001b[0m\n",
      "\u001b[0m"
     ]
    }
   ],
   "source": [
    "! qiime diversity core-metrics-phylogenetic \\\n",
    "  --i-table ./data/filtered-feature-table.qza \\\n",
    "  --i-phylogeny ./data/fasttree-tree-rooted.qza \\\n",
    "  --m-metadata-file ./data/fungut_metadata.tsv \\\n",
    "  --p-sampling-depth 5000 \\\n",
    "  --output-dir ./data/core-metrics-results"
   ]
  },
  {
   "cell_type": "code",
   "execution_count": 4,
   "id": "3e7397e5-9f0d-464d-ab74-bc47d36a88c3",
   "metadata": {
    "collapsed": true,
    "jupyter": {
     "outputs_hidden": true,
     "source_hidden": true
    },
    "tags": []
   },
   "outputs": [
    {
     "data": {
      "application/vnd.jupyter.widget-view+json": {
       "model_id": "c6ce159498704ad1af5738d2335ae9dd",
       "version_major": 2,
       "version_minor": 0
      },
      "text/plain": [
       "Dropdown(description='Select .qzv file:', options=('bray_curtis_emperor.qzv', 'jaccard_emperor.qzv', 'weighted…"
      ]
     },
     "metadata": {},
     "output_type": "display_data"
    },
    {
     "data": {
      "application/vnd.jupyter.widget-view+json": {
       "model_id": "42d359bcbe124b129fc8b9ce30e89700",
       "version_major": 2,
       "version_minor": 0
      },
      "text/plain": [
       "Output()"
      ]
     },
     "metadata": {},
     "output_type": "display_data"
    }
   ],
   "source": [
    "import os\n",
    "from ipywidgets import Dropdown, Output\n",
    "from IPython.display import display\n",
    "from qiime2 import Visualization  # Adjust this import based on your environment\n",
    "\n",
    "def list_qzv_files(directory):\n",
    "    return [f for f in os.listdir(directory) if f.endswith('.qzv') and os.path.isfile(os.path.join(directory, f))]\n",
    "\n",
    "directory = './data/core-metrics-results'  # Your directory\n",
    "qzv_files = list_qzv_files(directory)\n",
    "\n",
    "dropdown = Dropdown(\n",
    "    options=qzv_files,\n",
    "    description='Select .qzv file:',\n",
    "    disabled=False,\n",
    ")\n",
    "\n",
    "out = Output()\n",
    "\n",
    "def on_file_change(change):\n",
    "    with out:\n",
    "        out.clear_output()  # Clear previous output\n",
    "        selected_file = change[\"new\"]\n",
    "        print(f'Selected file: {selected_file}')\n",
    "        # Load and display the selected .qzv file\n",
    "        visualization = Visualization.load(os.path.join(directory, selected_file))\n",
    "        display(visualization)  # This will display the visualization\n",
    "\n",
    "dropdown.observe(on_file_change, names='value')\n",
    "\n",
    "display(dropdown, out)\n"
   ]
  },
  {
   "cell_type": "code",
   "execution_count": 46,
   "id": "9bda7c02-15a8-4018-8a98-9413f9e4daf2",
   "metadata": {
    "tags": []
   },
   "outputs": [
    {
     "name": "stderr",
     "output_type": "stream",
     "text": [
      "/opt/conda/lib/python3.9/site-packages/q2_types/sample_data/_transformer.py:27: FutureWarning: errors='ignore' is deprecated and will raise in a future version. Use to_numeric without passing `errors` and catch exceptions explicitly instead\n",
      "  df[cols] = df[cols].apply(pd.to_numeric, errors='ignore')\n"
     ]
    }
   ],
   "source": [
    "import qiime2 as q2\n",
    "types = 'gluten'\n",
    "\n",
    "div = q2.Artifact.load('./data/core-metrics-results/faith_pd_vector.qza').view(pd.Series)\n",
    "md = pd.read_csv('./data/fungut_metadata.tsv', sep='\\t', index_col=0)[f'{types}_sample']"
   ]
  },
  {
   "cell_type": "code",
   "execution_count": 47,
   "id": "628f9d2f-8a40-49d2-b52a-78816078f35b",
   "metadata": {
    "tags": []
   },
   "outputs": [],
   "source": [
    "# concatenate the series that we provided\n",
    "dd = pd.concat([div, md], axis=1, join='inner')"
   ]
  },
  {
   "cell_type": "code",
   "execution_count": 48,
   "id": "16d393f0-cdcd-4eaf-9fab-70066516ee05",
   "metadata": {
    "tags": []
   },
   "outputs": [
    {
     "data": {
      "text/html": [
       "<div>\n",
       "<style scoped>\n",
       "    .dataframe tbody tr th:only-of-type {\n",
       "        vertical-align: middle;\n",
       "    }\n",
       "\n",
       "    .dataframe tbody tr th {\n",
       "        vertical-align: top;\n",
       "    }\n",
       "\n",
       "    .dataframe thead th {\n",
       "        text-align: right;\n",
       "    }\n",
       "</style>\n",
       "<table border=\"1\" class=\"dataframe\">\n",
       "  <thead>\n",
       "    <tr style=\"text-align: right;\">\n",
       "      <th></th>\n",
       "      <th>faith_pd</th>\n",
       "      <th>gluten_sample</th>\n",
       "    </tr>\n",
       "  </thead>\n",
       "  <tbody>\n",
       "    <tr>\n",
       "      <th>ERR5327198</th>\n",
       "      <td>8.751153</td>\n",
       "      <td>No</td>\n",
       "    </tr>\n",
       "    <tr>\n",
       "      <th>ERR5327199</th>\n",
       "      <td>5.565908</td>\n",
       "      <td>I was diagnosed with gluten allergy (anti-glut...</td>\n",
       "    </tr>\n",
       "    <tr>\n",
       "      <th>ERR5327266</th>\n",
       "      <td>6.011762</td>\n",
       "      <td>I do not eat gluten because it makes me feel bad</td>\n",
       "    </tr>\n",
       "    <tr>\n",
       "      <th>ERR5327282</th>\n",
       "      <td>6.742598</td>\n",
       "      <td>No</td>\n",
       "    </tr>\n",
       "    <tr>\n",
       "      <th>ERR5327284</th>\n",
       "      <td>9.420526</td>\n",
       "      <td>No</td>\n",
       "    </tr>\n",
       "  </tbody>\n",
       "</table>\n",
       "</div>"
      ],
      "text/plain": [
       "            faith_pd                                      gluten_sample\n",
       "ERR5327198  8.751153                                                 No\n",
       "ERR5327199  5.565908  I was diagnosed with gluten allergy (anti-glut...\n",
       "ERR5327266  6.011762   I do not eat gluten because it makes me feel bad\n",
       "ERR5327282  6.742598                                                 No\n",
       "ERR5327284  9.420526                                                 No"
      ]
     },
     "execution_count": 48,
     "metadata": {},
     "output_type": "execute_result"
    }
   ],
   "source": [
    "dd.head()"
   ]
  },
  {
   "cell_type": "code",
   "execution_count": 52,
   "id": "33fd3f8d-9de9-409c-a5e8-2601a816fa1d",
   "metadata": {
    "tags": []
   },
   "outputs": [
    {
     "data": {
      "image/png": "[encoded data removed]",
      "text/plain": [
       "<Figure size 640x480 with 1 Axes>"
      ]
     },
     "metadata": {},
     "output_type": "display_data"
    }
   ],
   "source": [
    "# make a boxplot with Faith PD on the y-axis and \"sample_type\" on the x-axis (hint: look at the \"by\" parameter)\n",
    "import seaborn as sns\n",
    "import matplotlib.pyplot as plt\n",
    "\n",
    "sns.violinplot(x=f'{types}_sample', y = dd.columns[0], data = dd)\n",
    "plt.xlabel(f'{type}_sample')\n",
    "plt.xticks(rotation = 90)\n",
    "plt.ylabel('Faith PD')\n",
    "plt.title(f'Faith PD Boxplot by {types}_sample')\n",
    "plt.show()"
   ]
  },
  {
   "cell_type": "code",
   "execution_count": null,
   "id": "a2f75119-2ebe-4874-a66f-0179797b7d03",
   "metadata": {},
   "outputs": [],
   "source": []
  }
 ],
 "metadata": {
  "kernelspec": {
   "display_name": "QIIME 2",
   "language": "python",
   "name": "python3"
  },
  "language_info": {
   "codemirror_mode": {
    "name": "ipython",
    "version": 3
   },
   "file_extension": ".py",
   "mimetype": "text/x-python",
   "name": "python",
   "nbconvert_exporter": "python",
   "pygments_lexer": "ipython3",
   "version": "3.9.19"
  }
 },
 "nbformat": 4,
 "nbformat_minor": 5
}
