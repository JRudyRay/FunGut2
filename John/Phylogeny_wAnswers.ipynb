{
 "cells": [
  {
   "cell_type": "markdown",
   "id": "e550c2dd",
   "metadata": {},
   "source": [
    "# Phylogenetic analysis with QIIME 2"
   ]
  },
  {
   "cell_type": "markdown",
   "id": "2c037e47",
   "metadata": {},
   "source": [
    "In this bonus exercise we will learn how to generate and look at phylogenies using QIIME 2. \n",
    "\n",
    "Phylogenetics is the study of the evolutionary history of organisms. This contrasts with taxonomic classification and systematics, which is concerned with the naming and classification of organisms. In theory, microbial taxonomy should correspond to their phylogenetic relationship, but this is not always the case due to historical differences in taxonomic classification techniques (formerly based on morphological and then biochemical traits) that are still being rectified via the use of molecular techniques to uncover actual evolutionary relationships. The rRNA gene operon has a long history of use as a \"molecular clock\" for estimating the evolutionary relationship between organisms, due to its ubiquity in cellular life forms, its relatively high degree of conservation, but also the presence of divergent regions that are less highly conserved and enable differentiation of many species. Hence, genes like the 16S rRNA gene of bacteria can be used for phylogeny estimation, as we will perform in this notebook. This generally requires first aligning our sequences and then building a phylogeny that represents the distances between these sequences, but other methods exist that instead place sequences in an existing phylogeny or alignment, as shown at the end of this notebook.\n",
    "\n",
    "If this is your first time building and inspecting phylogenies, we highly recommend the following article as a primer:\n",
    "* Baldauf SL. Phylogeny for the faint of heart: a tutorial. Trends Genet. 2003 Jun;19(6):345-51. doi: [10.1016/S0168-9525(03)00112-4](https://doi.org/10.1016/s0168-9525(03)00112-4).\n",
    "\n",
    "There are many different software packages out there for visualizing phylogenies, and some are much more feature-rich than those available in QIIME 2. However, most are general-purpose tools that are not designed for applications in microbial ecology. We will use [empress](https://github.com/biocore/empress), a fast and scalable phylogenetic tree viewer that allows exploration of hierarchical relationships between features in a dataset (e.g., microbial species). In addition to functionality common to established tree viewers (e.g. metadata coloring, clade collapsing, and barplots), Empress supports new functionality useful for (microbial) ecology research, including integration and synchronized animations with ordination plots. We will also try out [iTOL](https://itol.embl.de/upload.cgi), which provides a feature-rich web interface for visualizing phylogenies.\n",
    "\n",
    "**Exercise overview:**<br>\n",
    "[1. Phylogeny analysis](#phylogeny_analysis)<br>\n",
    "&nbsp;&nbsp;&nbsp;&nbsp;[1.1 _De novo_](#de_novo)<br>\n",
    "&nbsp;&nbsp;&nbsp;&nbsp;[1.2 Fragment insertion](#fragm_insert)\n"
   ]
  },
  {
   "cell_type": "markdown",
   "id": "a18e8b06",
   "metadata": {},
   "source": [
    "<a id='setup'></a>\n",
    "\n",
    "## 0. Setup"
   ]
  },
  {
   "cell_type": "markdown",
   "id": "b2a0bc87",
   "metadata": {},
   "source": [
    "The cell below will import all the packages required in the downstream analyses as well as set all the necessary variables and data paths."
   ]
  },
  {
   "cell_type": "code",
   "execution_count": 1,
   "id": "72951683",
   "metadata": {
    "tags": []
   },
   "outputs": [],
   "source": [
    "from qiime2 import Visualization\n",
    "\n",
    "# location of this week's data and all the results produced by this notebook \n",
    "# - this should be a path relative to your working directory\n",
    "data_dir = 'data'"
   ]
  },
  {
   "cell_type": "code",
   "execution_count": 2,
   "id": "4ea1594c-cb9a-4579-ba5d-00bf233bbfef",
   "metadata": {
    "tags": []
   },
   "outputs": [],
   "source": [
    "%%bash -s $data_dir\n",
    "# Please do NOT modify this cell - here we copy the required data into\n",
    "# your personal Jupyter workspace.\n",
    "\n",
    "#mkdir -p \"$1\"\n",
    "#cp -rn /data/phylo_data/* \"$1\"\n",
    "#chmod -R +rxw \"$1\""
   ]
  },
  {
   "cell_type": "markdown",
   "id": "b4e8fe3e",
   "metadata": {},
   "source": [
    "<a id='phylogeny_analysis'></a>\n",
    "\n",
    "## 1. Phylogeny analysis\n",
    "\n",
    "Several diversity metrics calculated downstream require construction of a phylogenetic tree from either OTUs or ASVs. We can distinguish two main phylogeny reconstruction approaches:\n",
    "\n",
    "1. [_de novo_ reconstruction](#de_novo)\n",
    "2. [reference-based fragment insertion](#fragm_insert)\n",
    "\n",
    "Below, you will see how to use both of those."
   ]
  },
  {
   "cell_type": "markdown",
   "id": "d8cad4e9",
   "metadata": {},
   "source": [
    "<a id='de_novo'></a>\n",
    "\n",
    "### 1.1 Phylogeny _de novo_\n",
    "\n",
    "In this approach we align the marker genes (like the 16S rRNA) across divergent taxa and try to reconstruct the tree based on the resulting alignment. One of the issues of this approach is that short sequences (like the ones we are using in this experiment) may not carry enough information to capture a meaningful phylogeny."
   ]
  },
  {
   "cell_type": "markdown",
   "id": "f306ed36",
   "metadata": {},
   "source": [
    "#### 1.1.1 Sequence alignment\n",
    "Let's first use the `mafft` action from the `alignment` plugin to obtain a multiple sequence alignment of our sequences:"
   ]
  },
  {
   "cell_type": "code",
   "execution_count": 3,
   "id": "6a8210a8",
   "metadata": {
    "tags": []
   },
   "outputs": [
    {
     "name": "stdout",
     "output_type": "stream",
     "text": [
      "\u001b[32mSaved FeatureData[AlignedSequence] to: data/aligned-rep-seqs.qza\u001b[0m\n",
      "\u001b[0m"
     ]
    }
   ],
   "source": [
    "! qiime alignment mafft \\\n",
    "    --i-sequences $data_dir/rep-seqs.qza \\\n",
    "    --o-alignment $data_dir/aligned-rep-seqs.qza"
   ]
  },
  {
   "cell_type": "markdown",
   "id": "2ac9f850",
   "metadata": {},
   "source": [
    "#### 1.1.2 Alignment masking\n",
    "\n",
    "It has been suggested by some authors that masking (removing) the ambiguously aligned regions from the alignment (i.e.: regions that are phylogenetically uninformative due e.g. to alignment errors) can increase the performance of the reconstructed phylogeny. To mask the alignment, run the following cell:"
   ]
  },
  {
   "cell_type": "code",
   "execution_count": 4,
   "id": "f3ae62d8",
   "metadata": {
    "tags": []
   },
   "outputs": [
    {
     "name": "stdout",
     "output_type": "stream",
     "text": [
      "\u001b[32mSaved FeatureData[AlignedSequence] to: data/masked-aligned-rep-seqs.qza\u001b[0m\n",
      "\u001b[0m"
     ]
    }
   ],
   "source": [
    "! qiime alignment mask \\\n",
    "    --i-alignment $data_dir/aligned-rep-seqs.qza \\\n",
    "    --o-masked-alignment $data_dir/masked-aligned-rep-seqs.qza"
   ]
  },
  {
   "cell_type": "markdown",
   "id": "c81a36d8",
   "metadata": {},
   "source": [
    "#### 1.1.3 Tree construction\n",
    "\n",
    "Finally, we can use that alignment to construct our phylogenetic tree. There are many methods to do that, e.g: FastTree, RAxML or IQ-TREE (all of those supported in QIIME 2). Here, we will use FastTree, mainly due to its speed. FastTree produces an unrooted tree, hence in the second step we will place the root of the tree at the midpoint of the longest tip-to-tip distance in the unrooted tree."
   ]
  },
  {
   "cell_type": "code",
   "execution_count": 5,
   "id": "2e1e77cf",
   "metadata": {
    "tags": []
   },
   "outputs": [
    {
     "name": "stdout",
     "output_type": "stream",
     "text": [
      "\u001b[32mSaved Phylogeny[Unrooted] to: data/fasttree-tree.qza\u001b[0m\n",
      "\u001b[0m\u001b[32mSaved Phylogeny[Rooted] to: data/fasttree-tree-rooted.qza\u001b[0m\n",
      "\u001b[0m"
     ]
    }
   ],
   "source": [
    "! qiime phylogeny fasttree \\\n",
    "    --i-alignment $data_dir/masked-aligned-rep-seqs.qza \\\n",
    "    --o-tree $data_dir/fasttree-tree.qza\n",
    "\n",
    "! qiime phylogeny midpoint-root \\\n",
    "    --i-tree $data_dir/fasttree-tree.qza \\\n",
    "    --o-rooted-tree $data_dir/fasttree-tree-rooted.qza"
   ]
  },
  {
   "cell_type": "markdown",
   "id": "924b7eff",
   "metadata": {},
   "source": [
    "#### 1.1.4 Tree visualization\n",
    "\n",
    "Let's try to visualize the tree. We can do this using the `empress` plugin for QIIME 2 or an online tool: [iTOL](https://itol.embl.de/upload.cgi).\n",
    "\n",
    "First, we will use QIIME 2:"
   ]
  },
  {
   "cell_type": "code",
   "execution_count": 7,
   "id": "14dd38ab-a4a4-41d5-b2b8-aa5f928a638b",
   "metadata": {
    "tags": []
   },
   "outputs": [
    {
     "name": "stdout",
     "output_type": "stream",
     "text": [
      "Channels:\n",
      " - bioconda\n",
      " - conda-forge\n",
      " - defaults\n",
      " - https://packages.qiime2.org/qiime2/2024.5/amplicon/released\n",
      " - https://packages.qiime2.org/qiime2/2024.5/metagenome/staged\n",
      " - picrust\n",
      "Platform: linux-64\n",
      "Collecting package metadata (repodata.json): done\n",
      "Solving environment: - \u001b[33m\u001b[1mwarning  libmamba\u001b[m Added empty dependency for problem type SOLVER_RULE_UPDATE\n",
      "failed\n",
      "\n",
      "LibMambaUnsatisfiableError: Encountered problems while solving:\n",
      "  - nothing provides requested qiime2-empress\n",
      "  - package spades-3.15.2-h95f258a_1 requires sysroot_linux-64 2.17.*, but none of the providers can be installed\n",
      "  - package cutadapt-4.9-py39hff71179_1 requires python_abi 3.9.* *_cp39, but none of the providers can be installed\n",
      "  - package sepp-4.4.0-py39_0 requires python_abi 3.9.* *_cp39, but none of the providers can be installed\n",
      "\n",
      "Could not solve for environment specs\n",
      "The following packages are incompatible\n",
      "├─ \u001b[32mbowtie2 2.5.4** \u001b[0m is requested and can be installed;\n",
      "├─ \u001b[32mcutadapt\u001b[0m is installable with the potential options\n",
      "│  ├─ \u001b[32mcutadapt [3.3|3.4|...|4.9]\u001b[0m would require\n",
      "│  │  └─ \u001b[32mpython_abi 3.9.* *_cp39\u001b[0m, which can be installed;\n",
      "│  ├─ \u001b[32mcutadapt [1.10|1.11|...|1.9.1]\u001b[0m would require\n",
      "│  │  └─ \u001b[32mpython [2.7* |>=2.7,<2.8.0a0 ]\u001b[0m, which can be installed;\n",
      "│  ├─ \u001b[32mcutadapt [1.10|1.11|...|1.9.1]\u001b[0m would require\n",
      "│  │  └─ \u001b[32mpython 3.4* \u001b[0m, which can be installed;\n",
      "│  ├─ \u001b[32mcutadapt [1.10|1.11|...|1.9.1]\u001b[0m would require\n",
      "│  │  └─ \u001b[32mpython [3.5* |>=3.5,<3.6.0a0 ]\u001b[0m, which can be installed;\n",
      "│  ├─ \u001b[32mcutadapt [1.13|1.14|1.15|1.16]\u001b[0m would require\n",
      "│  │  └─ \u001b[32mpython 3.6* \u001b[0m, which can be installed;\n",
      "│  ├─ \u001b[32mcutadapt [1.16|1.17|...|3.5]\u001b[0m would require\n",
      "│  │  └─ \u001b[32mpython >=3.6,<3.7.0a0 \u001b[0m, which can be installed;\n",
      "│  ├─ \u001b[32mcutadapt [1.18|2.0|...|4.4]\u001b[0m would require\n",
      "│  │  └─ \u001b[32mpython >=3.7,<3.8.0a0 \u001b[0m, which can be installed;\n",
      "│  ├─ \u001b[32mcutadapt [2.10|3.0|...|4.9]\u001b[0m would require\n",
      "│  │  └─ \u001b[32mpython >=3.8,<3.9.0a0 \u001b[0m, which can be installed;\n",
      "│  ├─ \u001b[32mcutadapt [4.1|4.2|...|4.9]\u001b[0m would require\n",
      "│  │  └─ \u001b[32mpython >=3.10,<3.11.0a0 \u001b[0m, which can be installed;\n",
      "│  ├─ \u001b[32mcutadapt [4.8|4.9]\u001b[0m would require\n",
      "│  │  └─ \u001b[32mpython >=3.11,<3.12.0a0 \u001b[0m, which can be installed;\n",
      "│  └─ \u001b[32mcutadapt [4.8|4.9]\u001b[0m would require\n",
      "│     └─ \u001b[32mpython >=3.12,<3.13.0a0 \u001b[0m, which can be installed;\n",
      "├─ \u001b[32mkernel-headers_linux-64 2.6.32** \u001b[0m is installable and it requires\n",
      "│  └─ \u001b[32msysroot_linux-64 2.12 \u001b[0m, which can be installed;\n",
      "├─ \u001b[31mpin-1\u001b[0m is not installable because it requires\n",
      "│  └─ \u001b[31mpython 3.9.* \u001b[0m, which conflicts with any installable versions previously reported;\n",
      "├─ \u001b[31mq2-assembly\u001b[0m is not installable because there are no viable options\n",
      "│  ├─ \u001b[31mq2-assembly [2024.5.0|2024.5.0.dev0+6.g86ab2e1|2024.5.0.dev0+7.g1d87e60|2024.5.0.dev0+7.gec3f1db]\u001b[0m would require\n",
      "│  │  ├─ \u001b[31mbowtie2 2.5.1.* \u001b[0m but there are no viable options\n",
      "│  │  │  ├─ \u001b[31mbowtie2 2.5.1\u001b[0m conflicts with any installable versions previously reported;\n",
      "│  │  │  ├─ \u001b[31mbowtie2 2.5.1\u001b[0m would require\n",
      "│  │  │  │  └─ \u001b[31mpython_abi 3.10.* *_cp310\u001b[0m, which conflicts with any installable versions previously reported;\n",
      "│  │  │  ├─ \u001b[31mbowtie2 2.5.1\u001b[0m would require\n",
      "│  │  │  │  └─ \u001b[31mpython_abi 3.6.* *_cp36m\u001b[0m, which conflicts with any installable versions previously reported;\n",
      "│  │  │  ├─ \u001b[31mbowtie2 2.5.1\u001b[0m would require\n",
      "│  │  │  │  └─ \u001b[31mpython_abi 3.7.* *_cp37m\u001b[0m, which conflicts with any installable versions previously reported;\n",
      "│  │  │  └─ \u001b[31mbowtie2 2.5.1\u001b[0m would require\n",
      "│  │  │     └─ \u001b[31mpython_abi 3.8.* *_cp38\u001b[0m but there are no viable options\n",
      "│  │  │        ├─ \u001b[31mpython_abi 3.8\u001b[0m would require\n",
      "│  │  │        │  └─ \u001b[32mpython 3.8.* \u001b[0m, which can be installed;\n",
      "│  │  │        └─ \u001b[31mpython_abi 3.8\u001b[0m conflicts with any installable versions previously reported;\n",
      "│  │  └─ \u001b[31mspades 3.15.2 \u001b[0m, which requires\n",
      "│  │     └─ \u001b[31msysroot_linux-64 2.17.* \u001b[0m, which conflicts with any installable versions previously reported;\n",
      "│  └─ \u001b[31mq2-assembly [2024.5.0.dev0+1.gfd3ae4c|2024.5.0.dev0+2.gea8f24f]\u001b[0m would require\n",
      "│     ├─ \u001b[31mpython_abi 3.8.* *_cp38\u001b[0m but there are no viable options\n",
      "│     │  ├─ \u001b[31mpython_abi 3.8\u001b[0m, which cannot be installed (as previously explained);\n",
      "│     │  └─ \u001b[31mpython_abi 3.8\u001b[0m conflicts with any installable versions previously reported;\n",
      "│     └─ \u001b[31mspades 3.15.2 \u001b[0m, which cannot be installed (as previously explained);\n",
      "├─ \u001b[31mq2-moshpit\u001b[0m is not installable because there are no viable options\n",
      "│  ├─ \u001b[31mq2-moshpit [2024.5.0|2024.5.0.dev0+11.g2b3b03d|2024.5.0.dev0+19.gd6c287b|2024.5.0.dev0+20.g8cd2099]\u001b[0m would require\n",
      "│  │  └─ \u001b[31mq2-assembly 2024.5.* \u001b[0m, which cannot be installed (as previously explained);\n",
      "│  └─ \u001b[31mq2-moshpit [2024.5.0.dev0+4.g4f27961|2024.5.0.dev0+7.gd45c699]\u001b[0m would require\n",
      "│     └─ \u001b[31mpython_abi 3.8.* *_cp38\u001b[0m but there are no viable options\n",
      "│        ├─ \u001b[31mpython_abi 3.8\u001b[0m, which cannot be installed (as previously explained);\n",
      "│        └─ \u001b[31mpython_abi 3.8\u001b[0m conflicts with any installable versions previously reported;\n",
      "├─ \u001b[31mqiime2-empress\u001b[0m does not exist (perhaps a typo or a missing channel);\n",
      "├─ \u001b[32msepp 4.4.0** \u001b[0m is installable and it requires\n",
      "│  └─ \u001b[32mpython_abi 3.9.* *_cp39\u001b[0m, which can be installed;\n",
      "├─ \u001b[31msysroot_linux-64\u001b[0m is not installable because it conflicts with any installable versions previously reported;\n",
      "└─ \u001b[32msysroot_linux-64 2.12** \u001b[0m is installable and it requires\n",
      "   └─ \u001b[32mkernel-headers_linux-64 [2.6.32 h77966d4_13|2.6.32 he073ed8_14|2.6.32 he073ed8_15|2.6.32 he073ed8_16|2.6.32 he073ed8_17]\u001b[0m, which can be installed (as previously explained).\n",
      "\n"
     ]
    }
   ],
   "source": [
    "!conda install -c bioconda -c conda-forge qiime2-empress\n"
   ]
  },
  {
   "cell_type": "code",
   "execution_count": 8,
   "id": "b3216edf-5fb2-4132-88dd-3e6f41ddde84",
   "metadata": {
    "tags": []
   },
   "outputs": [
    {
     "name": "stdout",
     "output_type": "stream",
     "text": [
      "\u001b[31m\u001b[1mError: QIIME 2 has no plugin/command named 'empress'.\u001b[0m\n"
     ]
    }
   ],
   "source": [
    "!qiime empress --help\n"
   ]
  },
  {
   "cell_type": "code",
   "execution_count": 9,
   "id": "5380c085-c424-4d2f-ab2b-8a8c11b5831c",
   "metadata": {
    "tags": []
   },
   "outputs": [
    {
     "name": "stdout",
     "output_type": "stream",
     "text": [
      "/opt/conda/bin/python\n"
     ]
    }
   ],
   "source": [
    "import sys\n",
    "print(sys.executable)\n"
   ]
  },
  {
   "cell_type": "code",
   "execution_count": 10,
   "id": "504bcbe9",
   "metadata": {
    "tags": []
   },
   "outputs": [
    {
     "name": "stdout",
     "output_type": "stream",
     "text": [
      "\u001b[31m\u001b[1mError: QIIME 2 has no plugin/command named 'empress'.\u001b[0m\n"
     ]
    }
   ],
   "source": [
    "! qiime empress tree-plot \\\n",
    "    --i-tree $data_dir/fasttree-tree-rooted.qza \\\n",
    "    --m-feature-metadata-file ./taxonomy_unite_dynamic_s_all.qza \\\n",
    "    --o-visualization $data_dir/fasttree-tree-rooted.qzv"
   ]
  },
  {
   "cell_type": "markdown",
   "id": "56a5019f-fff4-4af7-a861-9d9f66a570d5",
   "metadata": {
    "execution": {
     "iopub.execute_input": "2022-09-07T15:35:50.156019Z",
     "iopub.status.busy": "2022-09-07T15:35:50.155214Z",
     "iopub.status.idle": "2022-09-07T15:35:50.262939Z",
     "shell.execute_reply": "2022-09-07T15:35:50.261865Z",
     "shell.execute_reply.started": "2022-09-07T15:35:50.155959Z"
    },
    "tags": []
   },
   "source": [
    "Open the qzv files on [view.qiime2.org](https://view.qiime2.org)."
   ]
  },
  {
   "cell_type": "markdown",
   "id": "975613f9",
   "metadata": {},
   "source": [
    "Now, for comparison, you can try [iTOL](https://itol.embl.de/upload.cgi).\n",
    "\n",
    "After opening the web page, click _Choose File_ and select the tree artifact we generated above. Click _Upload_: after a few seconds you should see the tree. In order to label all the nodes with corresponding taxonomies, find the _taxonomy.qza_ artifact and drag-and-drop it onto the tree: this will add the labels (don't worry if a warning about a couple of missing features appears: these are the taxa we filtered out earlier). If you want, you can also add the alignment itself to the tree! Just drag-and-drop it onto the tree again.\n",
    "\n",
    "You may find it easier to navigate the tree in its \"rectangular\" representation: to change the view, select the _Rectangular_ option in the _Mode_ section of the _Basic_ tab."
   ]
  },
  {
   "cell_type": "markdown",
   "id": "77b36871",
   "metadata": {},
   "source": [
    "#### 1.1.5 Bootstrapping\n",
    "\n",
    "Bootstrapping trees is a statistical approach to asserting robustness of the branch splits. In simple terms, it is based on reconstructing the same tree _n_ times by resampling and counting how often a certain branch occurs at the same position. Bootstrapping is a lengthy process, but if you are interested you can see below how it can be done in QIIME 2. The tree generated with this method will have an additional set of _bootstrap values_ that you will then be able to see on the tree (in the iTOL browser).\n",
    "\n",
    "**Note:** This step takes >30 min to run."
   ]
  },
  {
   "cell_type": "code",
   "execution_count": null,
   "id": "3f12432b",
   "metadata": {
    "tags": []
   },
   "outputs": [],
   "source": [
    "! qiime phylogeny raxml-rapid-bootstrap \\\n",
    "    --i-alignment $data_dir/masked-aligned-rep-seqs.qza \\\n",
    "    --p-seed 1723 \\\n",
    "    --p-rapid-bootstrap-seed 9384 \\\n",
    "    --p-bootstrap-replicates 100 \\\n",
    "    --p-substitution-model GTRCAT \\\n",
    "    --p-n-threads 3 \\\n",
    "    --o-tree $data_dir/raxml-cat-bootstrap-tree.qza"
   ]
  },
  {
   "cell_type": "markdown",
   "id": "2c6d5c23",
   "metadata": {},
   "source": [
    "Now visualize the new tree using your method of choice. Remember to root the tree first, as the `raxml-rapid-bootstrap` action produces an unrooted tree."
   ]
  },
  {
   "cell_type": "code",
   "execution_count": null,
   "id": "0947d158",
   "metadata": {
    "tags": []
   },
   "outputs": [],
   "source": [
    "! qiime phylogeny midpoint-root \\\n",
    "    --i-tree $data_dir/raxml-cat-bootstrap-tree.qza \\\n",
    "    --o-rooted-tree $data_dir/raxml-cat-bootstrap-tree-rooted.qza\n",
    "\n",
    "! qiime empress tree-plot \\\n",
    "    --i-tree $data_dir/raxml-cat-bootstrap-tree-rooted.qza \\\n",
    "    --m-feature-metadata-file $data_dir/taxonomy.qza \\\n",
    "    --o-visualization $data_dir/raxml-cat-bootstrap-tree-rooted.qzv"
   ]
  },
  {
   "cell_type": "markdown",
   "id": "92b96662-2818-41cc-998b-139cad472b32",
   "metadata": {
    "execution": {
     "iopub.execute_input": "2022-09-07T15:36:08.539281Z",
     "iopub.status.busy": "2022-09-07T15:36:08.537733Z",
     "iopub.status.idle": "2022-09-07T15:36:08.666652Z",
     "shell.execute_reply": "2022-09-07T15:36:08.665905Z",
     "shell.execute_reply.started": "2022-09-07T15:36:08.539126Z"
    },
    "tags": []
   },
   "source": [
    "Open the qzv files on [view.qiime2.org](https://view.qiime2.org)."
   ]
  },
  {
   "cell_type": "markdown",
   "id": "98245e3a",
   "metadata": {},
   "source": [
    "<a id='fragm_insert'></a>\n",
    "\n",
    "### 1.2 Fragment insertion\n",
    "\n",
    "A method alternative to _de novo_ tree reconstruction is **fragment insertion**. In this method, instead of constructing the entire tree from scratch, we rather use a tree that was already constructed and only try to insert our sequences into that existing tree.\n",
    "\n",
    "As our reference, we will use a tree that was built from the Greengenes 13_8 database at 99% identity."
   ]
  },
  {
   "cell_type": "code",
   "execution_count": null,
   "id": "aa0dc3e0",
   "metadata": {
    "tags": []
   },
   "outputs": [],
   "source": [
    "! wget -nv -O $data_dir/sepp-refs-gg-13-8.qza https://data.qiime2.org/2021.4/common/sepp-refs-gg-13-8.qza"
   ]
  },
  {
   "cell_type": "markdown",
   "id": "1365ea20",
   "metadata": {},
   "source": [
    "**Note:** This is a resource intensive command that again requires a large amount of memory and may take quite long to run (>30 min). Do not increase the number of threads below to more than 2 as this also increases memory demand and may cause your workspace to crash."
   ]
  },
  {
   "cell_type": "code",
   "execution_count": null,
   "id": "05676f0b",
   "metadata": {
    "tags": []
   },
   "outputs": [],
   "source": [
    "! qiime fragment-insertion sepp \\\n",
    "    --i-representative-sequences $data_dir/rep-seqs-filtered.qza \\\n",
    "    --i-reference-database $data_dir/sepp-refs-gg-13-8.qza \\\n",
    "    --p-threads 2 \\\n",
    "    --o-tree $data_dir/sepp-tree.qza \\\n",
    "    --o-placements $data_dir/sepp-tree-placements.qza"
   ]
  },
  {
   "cell_type": "markdown",
   "id": "7cc7255c",
   "metadata": {},
   "source": [
    "Finally, you can proceed to tree visualization with your method of choice. Keep in mind that this tree is already rooted so no need to run the `phylogeny midpoint-root` action."
   ]
  },
  {
   "cell_type": "markdown",
   "id": "a2ae161f",
   "metadata": {},
   "source": [
    "### 1.3 Checkpoint\n",
    "\n",
    "Look at the trees obtained using the _de novo_ and fragment insertion approach. What is the main difference between them?\n",
    "\n",
    "- The main difference is the size (expressed in the amount of branches) of each tree. The tree obtained _via_ fragment insertion is considerably larger as it comprises all the species present in the Greengenes database (and our sequences are only _inserted_ into that tree), while the _de novo_ tree consists only of the taxa that we identified in our samples."
   ]
  }
 ],
 "metadata": {
  "interpreter": {
   "hash": "91041748b0590ab7efbd5530941c47612a12accc8fae155050a565e1194f2150"
  },
  "kernelspec": {
   "display_name": "QIIME 2",
   "language": "python",
   "name": "python3"
  },
  "language_info": {
   "codemirror_mode": {
    "name": "ipython",
    "version": 3
   },
   "file_extension": ".py",
   "mimetype": "text/x-python",
   "name": "python",
   "nbconvert_exporter": "python",
   "pygments_lexer": "ipython3",
   "version": "3.9.19"
  }
 },
 "nbformat": 4,
 "nbformat_minor": 5
}
