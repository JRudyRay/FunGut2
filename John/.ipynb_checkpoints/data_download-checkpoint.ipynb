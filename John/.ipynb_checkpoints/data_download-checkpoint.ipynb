{
 "cells": [
  {
   "cell_type": "code",
   "execution_count": null,
   "id": "2d3945f9-5dd6-4de0-b335-4a0263dec781",
   "metadata": {},
   "outputs": [],
   "source": [
    "import requests\n",
    "import os"
   ]
  },
  {
   "cell_type": "code",
   "execution_count": null,
   "id": "ba3581e9-5e8c-4f66-9477-b23d91ed1db7",
   "metadata": {},
   "outputs": [],
   "source": [
    "os.chdir('data')"
   ]
  },
  {
   "cell_type": "code",
   "execution_count": null,
   "id": "4563e24c-aae0-4d00-adc6-f6690cd6d8e1",
   "metadata": {},
   "outputs": [],
   "source": [
    "# Importing and unziping the data"
   ]
  },
  {
   "cell_type": "code",
   "execution_count": null,
   "id": "f46e84d7-141e-4547-a5aa-3871216388b4",
   "metadata": {
    "tags": []
   },
   "outputs": [],
   "source": [
    "fungut_forward_reads = 'https://polybox.ethz.ch/index.php/s/uV06vmm96ZzB5eM/download'\n",
    "response = requests.get(fungut_forward_reads)\n",
    "\n",
    "with open('fungut_forward_reads.zip', 'wb') as file:\n",
    "    file.write(response.content)"
   ]
  },
  {
   "cell_type": "code",
   "execution_count": null,
   "id": "776cf6e0-4ec8-4482-b2aa-264792c8d6eb",
   "metadata": {
    "tags": []
   },
   "outputs": [],
   "source": [
    "!unzip fungut_forward_reads.zip -d fungut_forward_reads"
   ]
  },
  {
   "cell_type": "code",
   "execution_count": null,
   "id": "aa91961c-9563-4373-98ca-5ec86670f04e",
   "metadata": {},
   "outputs": [],
   "source": [
    "fungut_metadata = 'https://polybox.ethz.ch/index.php/s/CA76kKFC9FApqpR/download'\n",
    "response = requests.get(fungut_metadata)\n",
    "# Save it as a .tsv file\n",
    "with open('fungut_metadata.tsv', 'wb') as file:\n",
    "    file.write(response.content)"
   ]
  },
  {
   "cell_type": "code",
   "execution_count": null,
   "id": "bac444d4-6d6f-4a48-9cb4-54c972fccfa1",
   "metadata": {},
   "outputs": [],
   "source": []
  }
 ],
 "metadata": {
  "kernelspec": {
   "display_name": "QIIME 2",
   "language": "python",
   "name": "python3"
  },
  "language_info": {
   "codemirror_mode": {
    "name": "ipython",
    "version": 3
   },
   "file_extension": ".py",
   "mimetype": "text/x-python",
   "name": "python",
   "nbconvert_exporter": "python",
   "pygments_lexer": "ipython3",
   "version": "3.9.19"
  }
 },
 "nbformat": 4,
 "nbformat_minor": 5
}
