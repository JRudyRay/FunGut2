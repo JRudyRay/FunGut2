{
 "cells": [
  {
   "cell_type": "code",
   "execution_count": 1,
   "id": "babb3bf0-a258-4eec-8547-713c3534550e",
   "metadata": {
    "tags": []
   },
   "outputs": [
    {
     "name": "stdout",
     "output_type": "stream",
     "text": [
      "/home/jovyan/FunGut2/John\n"
     ]
    }
   ],
   "source": [
    "import os\n",
    "import pandas as pd\n",
    "from qiime2 import Visualization\n",
    "import matplotlib.pyplot as plt\n",
    "%matplotlib inline\n",
    "\n",
    "# Define the data directory\n",
    "data_dir = '/data'\n",
    "#os.chdir(data_dir)\n",
    "print(os.getcwd())  # Verify the current working directory\n"
   ]
  },
  {
   "cell_type": "code",
   "execution_count": null,
   "id": "195f7da0-9404-4716-a020-ed81daed2237",
   "metadata": {},
   "outputs": [],
   "source": [
    "# create additional metadata column containing the absolute path to the sequencing file\n",
    "#metadata_df['absolute-filepath'] = f'$PWD/{data_dir}/seqs/' + metadata_df['run-id'] + '.fastq'\n",
    "\n",
    "# export sample-id (DataFrame's index) and absolute-filepath to a manifest file\n",
    "#metadata_df[['absolute-filepath']].to_csv(f'{data_dir}/MANIFEST', sep='\\t')"
   ]
  },
  {
   "cell_type": "code",
   "execution_count": 7,
   "id": "478cf25d-9707-4c49-9972-ca52c2eaf16e",
   "metadata": {},
   "outputs": [
    {
     "name": "stdout",
     "output_type": "stream",
     "text": [
      "\u001b[32mSaved Visualization to: /home/jovyan/FunGut2/John/data/fungut_forward_reads_summary.qzv\u001b[0m\n",
      "\u001b[0m"
     ]
    }
   ],
   "source": [
    "! qiime demux summarize \\\n",
    "  --i-data /home/jovyan/FunGut2/John/data/fungut_forward_reads.qza \\\n",
    "  --o-visualization /home/jovyan/FunGut2/John/data/fungut_forward_reads_summary.qzv\n"
   ]
  },
  {
   "cell_type": "code",
   "execution_count": 8,
   "id": "60b8b31d-b09a-45f8-ad79-e121ebe0f8d3",
   "metadata": {},
   "outputs": [
    {
     "data": {
      "text/html": [
       "<div><img onload=\"(function(div, url){\n",
       "if (typeof require !== 'undefined') {\n",
       "    var baseURL = require.toUrl('').split('/').slice(0, -2).join('/');\n",
       "} else {\n",
       "    var baseURL = JSON.parse(\n",
       "        document.getElementById('jupyter-config-data').innerHTML\n",
       "    ).baseUrl.slice(0, -1);\n",
       "}\n",
       "url = baseURL + url;\n",
       "fetch(url).then(function(res) {\n",
       "    if (res.status === 404) {\n",
       "        div.innerHTML = 'Install QIIME 2 Jupyter extension with:<br />' +\n",
       "                        '<code>jupyter serverextension enable --py qiime2' +\n",
       "                        ' --sys-prefix</code><br />then restart your server.' +\n",
       "                        '<br /><br />(Interactive output not available on ' +\n",
       "                        'static notebook viewer services like nbviewer.)';\n",
       "    } else if (res.status === 409) {\n",
       "        div.innerHTML = 'Visualization no longer in scope. Re-run this cell' +\n",
       "                        ' to see the visualization.';\n",
       "    } else if (res.ok) {\n",
       "        url = res.url;\n",
       "        div.innerHTML = '<iframe src=\\'' + url + '\\' style=\\'' +\n",
       "                        'width: 100%; height: 700px; border: 0;\\'>' +\n",
       "                        '</iframe><hr />Open in a: <a href=\\'' + url + '\\'' +\n",
       "                        ' target=\\'_blank\\'>new window</a>'\n",
       "    } else {\n",
       "        div.innerHTML = 'Something has gone wrong. Check notebook server for' +\n",
       "                        ' errors.';\n",
       "    }\n",
       "});\n",
       "})(this.parentElement, '/qiime2/redirect?location=/tmp/qiime2/jovyan/data/4f9e1a0b-8c67-4335-804a-2167d3861bbe')\" src=\"data:image/gif;base64,R0lGODlhAQABAIAAAP///wAAACH5BAEAAAAALAAAAAABAAEAAAICRAEAOw==\" /></div>"
      ],
      "text/plain": [
       "<visualization: Visualization uuid: 4f9e1a0b-8c67-4335-804a-2167d3861bbe>"
      ]
     },
     "execution_count": 8,
     "metadata": {},
     "output_type": "execute_result"
    }
   ],
   "source": [
    "Visualization.load('/home/jovyan/FunGut2/John/data/fungut_forward_reads_summary.qzv')\n"
   ]
  },
  {
   "cell_type": "code",
   "execution_count": 15,
   "id": "201f923a-86b7-44f7-ab3c-ae77589b351f",
   "metadata": {},
   "outputs": [
    {
     "name": "stdout",
     "output_type": "stream",
     "text": [
      "Usage: \u001b[94mqiime dada2 denoise-single\u001b[0m [OPTIONS]\n",
      "\n",
      "  This method denoises single-end sequences, dereplicates them, and filters\n",
      "  chimeras.\n",
      "\n",
      "\u001b[1mInputs\u001b[0m:\n",
      "  \u001b[94m\u001b[4m--i-demultiplexed-seqs\u001b[0m ARTIFACT \u001b[32mSampleData[SequencesWithQuality |\u001b[0m\n",
      "    \u001b[32mPairedEndSequencesWithQuality]\u001b[0m\n",
      "                          The single-end demultiplexed sequences to be\n",
      "                          denoised.                                 \u001b[35m[required]\u001b[0m\n",
      "\u001b[1mParameters\u001b[0m:\n",
      "  \u001b[94m\u001b[4m--p-trunc-len\u001b[0m INTEGER   Position at which sequences should be truncated due\n",
      "                          to decrease in quality. This truncates the 3' end of\n",
      "                          the of the input sequences, which will be the bases\n",
      "                          that were sequenced in the last cycles. Reads that\n",
      "                          are shorter than this value will be discarded. If 0\n",
      "                          is provided, no truncation or length filtering will\n",
      "                          be performed                              \u001b[35m[required]\u001b[0m\n",
      "  \u001b[94m--p-trim-left\u001b[0m INTEGER   Position at which sequences should be trimmed due\n",
      "                          to low quality. This trims the 5' end of the of the\n",
      "                          input sequences, which will be the bases that were\n",
      "                          sequenced in the first cycles.          \u001b[35m[default: 0]\u001b[0m\n",
      "  \u001b[94m--p-max-ee\u001b[0m NUMBER       Reads with number of expected errors higher than\n",
      "                          this value will be discarded.         \u001b[35m[default: 2.0]\u001b[0m\n",
      "  \u001b[94m--p-trunc-q\u001b[0m INTEGER     Reads are truncated at the first instance of a\n",
      "                          quality score less than or equal to this value. If\n",
      "                          the resulting read is then shorter than `\u001b[4mtrunc-len\u001b[0m`,\n",
      "                          it is discarded.                        \u001b[35m[default: 2]\u001b[0m\n",
      "  \u001b[94m--p-pooling-method\u001b[0m TEXT \u001b[32mChoices('independent', 'pseudo')\u001b[0m\n",
      "                          The method used to pool samples for denoising.\n",
      "                          \"independent\": Samples are denoised independently.\n",
      "                          \"pseudo\": The pseudo-pooling method is used to\n",
      "                          approximate pooling of samples. In short, samples\n",
      "                          are denoised independently once, ASVs detected in at\n",
      "                          least 2 samples are recorded, and samples are\n",
      "                          denoised independently a second time, but this time\n",
      "                          with prior knowledge of the recorded ASVs and thus\n",
      "                          higher sensitivity to those ASVs.\n",
      "                                                      \u001b[35m[default: 'independent']\u001b[0m\n",
      "  \u001b[94m--p-chimera-method\u001b[0m TEXT \u001b[32mChoices('consensus', 'none', 'pooled')\u001b[0m\n",
      "                          The method used to remove chimeras. \"none\": No\n",
      "                          chimera removal is performed. \"pooled\": All reads\n",
      "                          are pooled prior to chimera detection. \"consensus\":\n",
      "                          Chimeras are detected in samples individually, and\n",
      "                          sequences found chimeric in a sufficient fraction of\n",
      "                          samples are removed.          \u001b[35m[default: 'consensus']\u001b[0m\n",
      "  \u001b[94m--p-min-fold-parent-over-abundance\u001b[0m NUMBER\n",
      "                          The minimum abundance of potential parents of a\n",
      "                          sequence being tested as chimeric, expressed as a\n",
      "                          fold-change versus the abundance of the sequence\n",
      "                          being tested. Values should be greater than or equal\n",
      "                          to 1 (i.e. parents should be more abundant than the\n",
      "                          sequence being tested). This parameter has no effect\n",
      "                          if \u001b[4mchimera-method\u001b[0m is \"none\".          \u001b[35m[default: 1.0]\u001b[0m\n",
      "  \u001b[94m--p-allow-one-off\u001b[0m / \u001b[94m--p-no-allow-one-off\u001b[0m\n",
      "                          Bimeras that are one-off from exact are also\n",
      "                          identified if the `\u001b[4mallow-one-off\u001b[0m` argument is\n",
      "                          True.If True, a sequence will be identified as\n",
      "                          bimera if it is one mismatch or indel away from an\n",
      "                          exact bimera.                       \u001b[35m[default: False]\u001b[0m\n",
      "  \u001b[94m--p-n-threads\u001b[0m NTHREADS  The number of threads to use for multithreaded\n",
      "                          processing. If 0 is provided, all available cores\n",
      "                          will be used.                           \u001b[35m[default: 1]\u001b[0m\n",
      "  \u001b[94m--p-n-reads-learn\u001b[0m INTEGER\n",
      "                          The number of reads to use when training the error\n",
      "                          model. Smaller numbers will result in a shorter run\n",
      "                          time but a less reliable error model.\n",
      "                                                            \u001b[35m[default: 1000000]\u001b[0m\n",
      "  \u001b[94m--p-hashed-feature-ids\u001b[0m / \u001b[94m--p-no-hashed-feature-ids\u001b[0m\n",
      "                          If true, the feature ids in the resulting table\n",
      "                          will be presented as hashes of the sequences\n",
      "                          defining each feature. The hash will always be the\n",
      "                          same for the same sequence so this allows feature\n",
      "                          tables to be merged across runs of this method. You\n",
      "                          should only merge tables if the exact same\n",
      "                          parameters are used for each run.    \u001b[35m[default: True]\u001b[0m\n",
      "  \u001b[94m--p-retain-all-samples\u001b[0m / \u001b[94m--p-no-retain-all-samples\u001b[0m\n",
      "                          If True all samples input to dada2 will be retained\n",
      "                          in the output of dada2, if false samples with zero\n",
      "                          total frequency are removed from the table.\n",
      "                                                               \u001b[35m[default: True]\u001b[0m\n",
      "\u001b[1mOutputs\u001b[0m:\n",
      "  \u001b[94m\u001b[4m--o-table\u001b[0m ARTIFACT \u001b[32mFeatureTable[Frequency]\u001b[0m\n",
      "                          The resulting feature table.              \u001b[35m[required]\u001b[0m\n",
      "  \u001b[94m\u001b[4m--o-representative-sequences\u001b[0m ARTIFACT \u001b[32mFeatureData[Sequence]\u001b[0m\n",
      "                          The resulting feature sequences. Each feature in\n",
      "                          the feature table will be represented by exactly one\n",
      "                          sequence.                                 \u001b[35m[required]\u001b[0m\n",
      "  \u001b[94m\u001b[4m--o-denoising-stats\u001b[0m ARTIFACT \u001b[32mSampleData[DADA2Stats]\u001b[0m\n",
      "                                                                    \u001b[35m[required]\u001b[0m\n",
      "\u001b[1mMiscellaneous\u001b[0m:\n",
      "  \u001b[94m--output-dir\u001b[0m PATH       Output unspecified results to a directory\n",
      "  \u001b[94m--verbose\u001b[0m / \u001b[94m--quiet\u001b[0m     Display verbose output to stdout and/or stderr\n",
      "                          during execution of this action. Or silence output\n",
      "                          if execution is successful (silence is golden).\n",
      "  \u001b[94m--example-data\u001b[0m PATH     Write example data and exit.\n",
      "  \u001b[94m--citations\u001b[0m             Show citations and exit.\n",
      "  \u001b[94m--help\u001b[0m                  Show this message and exit.\n",
      "\n",
      "\u001b[1mExamples\u001b[0m:\n",
      "  # ### example: denoise single\n",
      "  qiime dada2 denoise-single \\\n",
      "    --i-demultiplexed-seqs demux-single.qza \\\n",
      "    --p-trim-left 0 \\\n",
      "    --p-trunc-len 120 \\\n",
      "    --o-representative-sequences representative-sequences.qza \\\n",
      "    --o-table table.qza \\\n",
      "    --o-denoising-stats denoising-stats.qza\n",
      "  \n",
      "\n",
      "\u001b[33m                    There was a problem with the command:                     \u001b[0m\n",
      "\u001b[31m\u001b[1m (1/1) Invalid value for '--i-demultiplexed-seqs':\n",
      "  /home/jovyan/FunGut2/John/data/fungut_forward_reads_summary.qza does not\n",
      "  exist.\u001b[0m\n",
      "\u001b[0m"
     ]
    }
   ],
   "source": [
    "! qiime dada2 denoise-single --i-demultiplexed-seqs /home/jovyan/FunGut2/John/data/fungut_forward_reads_summary.qza --p-trunc-len 100 --o-table table.qza --o-representative-sequences rep-seqs.qza --o-denoising-stats denoising-stats.qza\n"
   ]
  },
  {
   "cell_type": "code",
   "execution_count": null,
   "id": "b8285bf4-c796-473d-b2b4-9a88edce4dcc",
   "metadata": {},
   "outputs": [],
   "source": [
    "! qiime feature-table summarize \\\n",
    "  --i-table table.qza \\\n",
    "  --o-visualization table.qzv \\\n",
    "  --m-sample-metadata-file data/fungut_metadata.tsv\n"
   ]
  },
  {
   "cell_type": "code",
   "execution_count": null,
   "id": "c1af4b28-b9c3-4383-b230-68e6d79b1c65",
   "metadata": {},
   "outputs": [],
   "source": [
    "Visualization.load('table.qzv')\n"
   ]
  },
  {
   "cell_type": "code",
   "execution_count": null,
   "id": "e8301a90-b401-4fd0-9cb8-e128745e7828",
   "metadata": {},
   "outputs": [],
   "source": [
    "qiime phylogeny align-to-tree-mafft-fasttree \\\n",
    "  --i-sequences rep-seqs.qza \\\n",
    "  --o-alignment aligned-rep-seqs.qza \\\n",
    "  --o-masked-alignment masked-aligned-rep-seqs.qza \\\n",
    "  --o-tree unrooted-tree.qza \\\n",
    "  --o-rooted-tree rooted-tree.qza\n"
   ]
  },
  {
   "cell_type": "code",
   "execution_count": null,
   "id": "470faa54-b69e-4523-93b1-f7cce4f3f893",
   "metadata": {},
   "outputs": [],
   "source": []
  },
  {
   "cell_type": "code",
   "execution_count": null,
   "id": "d10413ea-a759-48e6-9438-9895343de620",
   "metadata": {},
   "outputs": [],
   "source": []
  }
 ],
 "metadata": {
  "kernelspec": {
   "display_name": "QIIME 2",
   "language": "python",
   "name": "python3"
  },
  "language_info": {
   "codemirror_mode": {
    "name": "ipython",
    "version": 3
   },
   "file_extension": ".py",
   "mimetype": "text/x-python",
   "name": "python",
   "nbconvert_exporter": "python",
   "pygments_lexer": "ipython3",
   "version": "3.9.19"
  }
 },
 "nbformat": 4,
 "nbformat_minor": 5
}
