{
 "cells": [
  {
   "cell_type": "markdown",
   "id": "c76b53e0-d4f9-4c64-b996-33008ed53e82",
   "metadata": {},
   "source": [
    "## 1. Log into Git"
   ]
  },
  {
   "cell_type": "markdown",
   "id": "87c2ab6e-7a11-492b-b6df-fb9bf82b3016",
   "metadata": {
    "tags": []
   },
   "source": [
    "### Follow these steps in the command line to login to GitHub and clone our Repo\n",
    "\n",
    "```bash\n",
    "gh auth login\n",
    "```\n",
    "\n",
    "### Clone the repo to your desired location on jupyter\n",
    "```bash\n",
    "git clone https://github.com/JRudyRay/FunGut2.git\n",
    "```"
   ]
  },
  {
   "cell_type": "markdown",
   "id": "45e921a1-e454-4aa0-a79d-3880b91d0bb2",
   "metadata": {},
   "source": [
    "## 2. Configure user Settings\n",
    "### Check that you are logged in propperly by checking user and email"
   ]
  },
  {
   "cell_type": "code",
   "execution_count": 1,
   "id": "6742de95-f38a-4e5d-8429-1d2703d70b50",
   "metadata": {
    "tags": []
   },
   "outputs": [
    {
     "name": "stdout",
     "output_type": "stream",
     "text": [
      "John Oehninger\n",
      "john.oehninger@gmail.com\n"
     ]
    }
   ],
   "source": [
    "!git config --global user.name\n",
    "!git config --global user.email"
   ]
  },
  {
   "cell_type": "markdown",
   "id": "624ee566-c3f3-4cf9-88e6-d4c65a8d500d",
   "metadata": {},
   "source": [
    "## 3.1 Run the block below to commit your changes to github\n",
    "### Ensure to change your repo path to where you cloned the repo to"
   ]
  },
  {
   "cell_type": "code",
   "execution_count": null,
   "id": "f775fdbc-343e-4ea8-ab84-e1b51ed451c7",
   "metadata": {},
   "outputs": [],
   "source": [
    "import os\n",
    "import subprocess\n",
    "\n",
    "# Define the folder for the current user\n",
    "user_folder = \"Nicola\"\n",
    "# Define the message for the commit\n",
    "commit_message = \"Update notebook with new changes\"\n",
    "# Define the repository path (set YOUR personal path in jupyter to where you cloned the repo to)\n",
    "repo_path = \"path to where you cloned the repo to\"\n",
    "# Step 1: Navigate to the repository\n",
    "os.chdir(repo_path)\n",
    "# Step 2: Add the specific user folder to git\n",
    "subprocess.run([\"git\", \"add\", user_folder])\n",
    "# Step 3: Commit the changes\n",
    "subprocess.run([\"git\", \"commit\", \"-m\", commit_message])\n",
    "# Step 4: Push the changes to GitHub\n",
    "subprocess.run([\"git\", \"push\", \"origin\", \"main\"])\n"
   ]
  },
  {
   "cell_type": "markdown",
   "id": "42ae4ae4-5de0-441f-8f9a-a6f7da6a4ff9",
   "metadata": {},
   "source": [
    "## 3.2 Pushing using the Command Line\n",
    "\n",
    "```bash\n",
    "git add John\n",
    "\n",
    "git commit -m 'commit message'\n",
    "\n",
    "git push origin main\n",
    "```"
   ]
  }
 ],
 "metadata": {
  "kernelspec": {
   "display_name": "QIIME 2",
   "language": "python",
   "name": "python3"
  },
  "language_info": {
   "codemirror_mode": {
    "name": "ipython",
    "version": 3
   },
   "file_extension": ".py",
   "mimetype": "text/x-python",
   "name": "python",
   "nbconvert_exporter": "python",
   "pygments_lexer": "ipython3",
   "version": "3.9.19"
  }
 },
 "nbformat": 4,
 "nbformat_minor": 5
}
