{
 "cells": [
  {
   "cell_type": "markdown",
   "id": "fa44c477-b86e-4616-a9bc-7a34d8a55584",
   "metadata": {},
   "source": [
    "# Primary analyses of our sequences"
   ]
  },
  {
   "cell_type": "code",
   "execution_count": 4,
   "id": "babb3bf0-a258-4eec-8547-713c3534550e",
   "metadata": {
    "tags": []
   },
   "outputs": [
    {
     "ename": "ModuleNotFoundError",
     "evalue": "No module named 'geopandas'",
     "output_type": "error",
     "traceback": [
      "\u001b[0;31m---------------------------------------------------------------------------\u001b[0m",
      "\u001b[0;31mModuleNotFoundError\u001b[0m                       Traceback (most recent call last)",
      "Cell \u001b[0;32mIn[4], line 8\u001b[0m\n\u001b[1;32m      6\u001b[0m \u001b[38;5;28;01mimport\u001b[39;00m \u001b[38;5;21;01mmatplotlib\u001b[39;00m\u001b[38;5;21;01m.\u001b[39;00m\u001b[38;5;21;01mpyplot\u001b[39;00m \u001b[38;5;28;01mas\u001b[39;00m \u001b[38;5;21;01mplt\u001b[39;00m\n\u001b[1;32m      7\u001b[0m \u001b[38;5;28;01mimport\u001b[39;00m \u001b[38;5;21;01mseaborn\u001b[39;00m \u001b[38;5;28;01mas\u001b[39;00m \u001b[38;5;21;01msns\u001b[39;00m\n\u001b[0;32m----> 8\u001b[0m \u001b[38;5;28;01mimport\u001b[39;00m \u001b[38;5;21;01mgeopandas\u001b[39;00m \u001b[38;5;28;01mas\u001b[39;00m \u001b[38;5;21;01mgpd\u001b[39;00m\n\u001b[1;32m      9\u001b[0m \u001b[38;5;28;01mimport\u001b[39;00m \u001b[38;5;21;01mcartopy\u001b[39;00m\u001b[38;5;21;01m.\u001b[39;00m\u001b[38;5;21;01mcrs\u001b[39;00m \u001b[38;5;28;01mas\u001b[39;00m \u001b[38;5;21;01mccrs\u001b[39;00m\n\u001b[1;32m     10\u001b[0m get_ipython()\u001b[38;5;241m.\u001b[39mrun_line_magic(\u001b[38;5;124m'\u001b[39m\u001b[38;5;124mmatplotlib\u001b[39m\u001b[38;5;124m'\u001b[39m, \u001b[38;5;124m'\u001b[39m\u001b[38;5;124minline\u001b[39m\u001b[38;5;124m'\u001b[39m)\n",
      "\u001b[0;31mModuleNotFoundError\u001b[0m: No module named 'geopandas'"
     ]
    }
   ],
   "source": [
    "import os\n",
    "import sys\n",
    "import pandas as pd\n",
    "import qiime2 as q2\n",
    "from qiime2 import Visualization\n",
    "import matplotlib.pyplot as plt\n",
    "import seaborn as sns\n",
    "import geopandas as gpd\n",
    "import cartopy.crs as ccrs\n",
    "%matplotlib inline\n",
    "\n",
    "# Define the data directory\n",
    "data_dir = '/home/jovyan/FunGut2/full-pipeline/data'"
   ]
  },
  {
   "cell_type": "code",
   "execution_count": 1,
   "id": "1b15e1b8-4679-493d-8f1d-737a4e8b6a34",
   "metadata": {
    "tags": []
   },
   "outputs": [],
   "source": [
    "import os"
   ]
  },
  {
   "cell_type": "code",
   "execution_count": 11,
   "id": "eab90f7a-9a8e-4495-a6b6-ecf02e8920f5",
   "metadata": {
    "tags": []
   },
   "outputs": [
    {
     "name": "stdout",
     "output_type": "stream",
     "text": [
      "/home/jovyan/FunGut2/Nicola\n"
     ]
    }
   ],
   "source": [
    "!pwd"
   ]
  },
  {
   "cell_type": "markdown",
   "id": "6543cb0a-f2e0-4312-8d99-d20aacac2782",
   "metadata": {},
   "source": [
    "### Checking out the reads"
   ]
  },
  {
   "cell_type": "code",
   "execution_count": 2,
   "id": "478cf25d-9707-4c49-9972-ca52c2eaf16e",
   "metadata": {
    "tags": []
   },
   "outputs": [
    {
     "name": "stdout",
     "output_type": "stream",
     "text": [
      "\u001b[32mSaved Visualization to: ./data/forward_reads/fungut_forward_reads_summary.qzv\u001b[0m\n",
      "\u001b[0m"
     ]
    }
   ],
   "source": [
    "! qiime demux summarize \\\n",
    "  --i-data ./data/forward_reads/fungut_forward_reads.qza \\\n",
    "  --o-visualization ./data/forward_reads/fungut_forward_reads_summary.qzv"
   ]
  },
  {
   "cell_type": "code",
   "execution_count": 3,
   "id": "678eb38d-df7f-4e1e-88c9-394d7f989675",
   "metadata": {
    "tags": []
   },
   "outputs": [
    {
     "data": {
      "text/html": [
       "<div><img onload=\"(function(div, url){\n",
       "if (typeof require !== 'undefined') {\n",
       "    var baseURL = require.toUrl('').split('/').slice(0, -2).join('/');\n",
       "} else {\n",
       "    var baseURL = JSON.parse(\n",
       "        document.getElementById('jupyter-config-data').innerHTML\n",
       "    ).baseUrl.slice(0, -1);\n",
       "}\n",
       "url = baseURL + url;\n",
       "fetch(url).then(function(res) {\n",
       "    if (res.status === 404) {\n",
       "        div.innerHTML = 'Install QIIME 2 Jupyter extension with:<br />' +\n",
       "                        '<code>jupyter serverextension enable --py qiime2' +\n",
       "                        ' --sys-prefix</code><br />then restart your server.' +\n",
       "                        '<br /><br />(Interactive output not available on ' +\n",
       "                        'static notebook viewer services like nbviewer.)';\n",
       "    } else if (res.status === 409) {\n",
       "        div.innerHTML = 'Visualization no longer in scope. Re-run this cell' +\n",
       "                        ' to see the visualization.';\n",
       "    } else if (res.ok) {\n",
       "        url = res.url;\n",
       "        div.innerHTML = '<iframe src=\\'' + url + '\\' style=\\'' +\n",
       "                        'width: 100%; height: 700px; border: 0;\\'>' +\n",
       "                        '</iframe><hr />Open in a: <a href=\\'' + url + '\\'' +\n",
       "                        ' target=\\'_blank\\'>new window</a>'\n",
       "    } else {\n",
       "        div.innerHTML = 'Something has gone wrong. Check notebook server for' +\n",
       "                        ' errors.';\n",
       "    }\n",
       "});\n",
       "})(this.parentElement, '/qiime2/redirect?location=/tmp/qiime2/jovyan/data/582a8e53-369c-47b2-b8be-0989ac41abfa')\" src=\"data:image/gif;base64,R0lGODlhAQABAIAAAP///wAAACH5BAEAAAAALAAAAAABAAEAAAICRAEAOw==\" /></div>"
      ],
      "text/plain": [
       "<visualization: Visualization uuid: 582a8e53-369c-47b2-b8be-0989ac41abfa>"
      ]
     },
     "execution_count": 3,
     "metadata": {},
     "output_type": "execute_result"
    }
   ],
   "source": [
    "Visualization.load('./data/forward_reads/fungut_forward_reads_summary.qzv')"
   ]
  },
  {
   "cell_type": "markdown",
   "id": "52a03cad-e7b8-4585-96e1-71333bd50a72",
   "metadata": {},
   "source": [
    "#### As seen in the visualisation, the reads have very high quality up to a length of 150. Therefore we chose a truncation length of 150."
   ]
  },
  {
   "cell_type": "markdown",
   "id": "3adba178-bbb8-4137-b07d-7b2453b73e96",
   "metadata": {
    "tags": []
   },
   "source": [
    "### Checking out the metadata"
   ]
  },
  {
   "cell_type": "code",
   "execution_count": 4,
   "id": "7b42f909-d75d-4150-9701-8bff72ed0e94",
   "metadata": {
    "tags": []
   },
   "outputs": [
    {
     "name": "stdout",
     "output_type": "stream",
     "text": [
      "\u001b[32mSaved Visualization to: ./data/metadata/fungut_metadata.qzv\u001b[0m\n",
      "\u001b[0m"
     ]
    }
   ],
   "source": [
    "!qiime metadata tabulate \\\n",
    "  --m-input-file ./data/metadata/fungut_metadata.tsv \\\n",
    "  --o-visualization ./data/metadata/fungut_metadata.qzv"
   ]
  },
  {
   "cell_type": "code",
   "execution_count": 5,
   "id": "8c540ff5-9515-4da7-bc93-cd84714289d5",
   "metadata": {
    "tags": []
   },
   "outputs": [
    {
     "data": {
      "text/html": [
       "<div><img onload=\"(function(div, url){\n",
       "if (typeof require !== 'undefined') {\n",
       "    var baseURL = require.toUrl('').split('/').slice(0, -2).join('/');\n",
       "} else {\n",
       "    var baseURL = JSON.parse(\n",
       "        document.getElementById('jupyter-config-data').innerHTML\n",
       "    ).baseUrl.slice(0, -1);\n",
       "}\n",
       "url = baseURL + url;\n",
       "fetch(url).then(function(res) {\n",
       "    if (res.status === 404) {\n",
       "        div.innerHTML = 'Install QIIME 2 Jupyter extension with:<br />' +\n",
       "                        '<code>jupyter serverextension enable --py qiime2' +\n",
       "                        ' --sys-prefix</code><br />then restart your server.' +\n",
       "                        '<br /><br />(Interactive output not available on ' +\n",
       "                        'static notebook viewer services like nbviewer.)';\n",
       "    } else if (res.status === 409) {\n",
       "        div.innerHTML = 'Visualization no longer in scope. Re-run this cell' +\n",
       "                        ' to see the visualization.';\n",
       "    } else if (res.ok) {\n",
       "        url = res.url;\n",
       "        div.innerHTML = '<iframe src=\\'' + url + '\\' style=\\'' +\n",
       "                        'width: 100%; height: 700px; border: 0;\\'>' +\n",
       "                        '</iframe><hr />Open in a: <a href=\\'' + url + '\\'' +\n",
       "                        ' target=\\'_blank\\'>new window</a>'\n",
       "    } else {\n",
       "        div.innerHTML = 'Something has gone wrong. Check notebook server for' +\n",
       "                        ' errors.';\n",
       "    }\n",
       "});\n",
       "})(this.parentElement, '/qiime2/redirect?location=/tmp/qiime2/jovyan/data/e50404b6-baf8-43e0-a25d-05d016a918a1')\" src=\"data:image/gif;base64,R0lGODlhAQABAIAAAP///wAAACH5BAEAAAAALAAAAAABAAEAAAICRAEAOw==\" /></div>"
      ],
      "text/plain": [
       "<visualization: Visualization uuid: e50404b6-baf8-43e0-a25d-05d016a918a1>"
      ]
     },
     "execution_count": 5,
     "metadata": {},
     "output_type": "execute_result"
    }
   ],
   "source": [
    "Visualization.load('./data/metadata/fungut_metadata.qzv')"
   ]
  },
  {
   "cell_type": "markdown",
   "id": "ae3eafcc-8323-42f0-a333-7015cf80cbaa",
   "metadata": {},
   "source": [
    "## Preprocessing the metadata"
   ]
  },
  {
   "cell_type": "markdown",
   "id": "0819a209-74aa-4739-99e7-9037e5f7527c",
   "metadata": {},
   "source": [
    "### Removing rows with NaN for Diseases"
   ]
  },
  {
   "cell_type": "code",
   "execution_count": 11,
   "id": "71a6f1d3-e721-4059-bb24-b6a8044a5c83",
   "metadata": {
    "tags": []
   },
   "outputs": [],
   "source": [
    "#read metadata\n",
    "metadata = pd.read_csv(\"./data/metadata/fungut_metadata.tsv\", sep=\"\\t\")"
   ]
  },
  {
   "cell_type": "code",
   "execution_count": 7,
   "id": "0f619153-9f07-43db-a0c7-e933877f24f3",
   "metadata": {
    "tags": []
   },
   "outputs": [
    {
     "name": "stdout",
     "output_type": "stream",
     "text": [
      "4 samples have both response variables not provided\n",
      "4 samples have been removed\n"
     ]
    }
   ],
   "source": [
    "#count the rows that have column \"ibd_sample\" and \"gluten_sample\" = Not provided\n",
    "filtered_rows = metadata[(metadata['ibd_sample'] == \"Not provided\") & (metadata['gluten_sample'] == \"Not provided\")]\n",
    "print(len(filtered_rows), \"samples have both response variables not provided\")\n",
    "\n",
    "#filter rows that have column \"ibd_sample\" and \"gluten_sample\" = Not provided\n",
    "metadata = metadata[~((metadata['ibd_sample'] == \"Not provided\") & (metadata['gluten_sample'] == \"Not provided\"))]\n",
    "metadata.describe()\n",
    "print(len(filtered_rows), \"samples have been removed\")"
   ]
  },
  {
   "cell_type": "markdown",
   "id": "65146361-6b08-416d-8f42-439ed289b719",
   "metadata": {},
   "source": [
    "### Removing rows with only NaN"
   ]
  },
  {
   "cell_type": "code",
   "execution_count": 8,
   "id": "55c86bc5-2653-4206-83b8-5ad11f3e5faf",
   "metadata": {
    "tags": []
   },
   "outputs": [
    {
     "name": "stdout",
     "output_type": "stream",
     "text": [
      "62 samples have not provided 1 columns\n",
      "10 samples have not provided 2 columns\n",
      "5 samples have not provided 3 columns\n",
      "2 samples have not provided 4 columns\n",
      "1 samples have not provided 5 columns\n"
     ]
    }
   ],
   "source": [
    "# count the number of rows that have more than x columns not provided\n",
    "for x in range(1, 6):\n",
    "    count = metadata[metadata.eq(\"Not provided\").sum(axis=1) >= x].shape[0]\n",
    "    print(count, \"samples have not provided\", x, \"columns\")"
   ]
  },
  {
   "cell_type": "markdown",
   "id": "d3386e21-98c4-4b57-ad74-11bdd3061821",
   "metadata": {},
   "source": [
    "We do not filter out any of these samples. the 5 missing columns in one sample is fine."
   ]
  },
  {
   "cell_type": "markdown",
   "id": "051f786d-c109-4251-b14a-1c5cc0f9a3bc",
   "metadata": {},
   "source": [
    "### Create new feature \"Symptoms vs No-Symptoms\""
   ]
  },
  {
   "cell_type": "code",
   "execution_count": 9,
   "id": "229fa5da-d9d6-42bb-9540-d5f12684b8fd",
   "metadata": {
    "tags": []
   },
   "outputs": [
    {
     "data": {
      "text/plain": [
       "array(['No',\n",
       "       'I was diagnosed with gluten allergy (anti-gluten IgG), but not celiac disease',\n",
       "       'I do not eat gluten because it makes me feel bad',\n",
       "       'I was diagnosed with celiac disease', 'Not provided'],\n",
       "      dtype=object)"
      ]
     },
     "execution_count": 9,
     "metadata": {},
     "output_type": "execute_result"
    }
   ],
   "source": [
    "metadata['gluten_sample'].unique()"
   ]
  },
  {
   "cell_type": "code",
   "execution_count": 10,
   "id": "30cf1aa8-0f94-4512-9e3e-bbf1d1a841be",
   "metadata": {
    "tags": []
   },
   "outputs": [],
   "source": [
    "# Define the categories to summarize as \"symptoms\"\n",
    "no_symptoms = ['I do not have this condition']  \n",
    "\n",
    "# Create a new column with a binary classification\n",
    "metadata['ibd_symptoms'] = metadata['ibd_sample'].apply(\n",
    "    lambda x: 'Not provided' if x == 'Not provided' else \n",
    "              ('no_symptoms' if x in no_symptoms else 'symptoms')\n",
    ")"
   ]
  },
  {
   "cell_type": "code",
   "execution_count": 11,
   "id": "6d92be69-b96d-472e-adcf-b8813eb476f1",
   "metadata": {
    "tags": []
   },
   "outputs": [],
   "source": [
    "# Define the categories to summarize as \"no_symptoms\"\n",
    "no_symptoms = ['No']  \n",
    "\n",
    "# Create a new column with a binary classification\n",
    "metadata['gluten_symptoms'] = metadata['gluten_sample'].apply(\n",
    "    lambda x: 'Not provided' if x == 'Not provided' else \n",
    "              ('no_symptoms' if x in no_symptoms else 'symptoms')\n",
    ")"
   ]
  },
  {
   "cell_type": "markdown",
   "id": "3bc8c1d9-905f-4a89-9626-6a91401727e9",
   "metadata": {},
   "source": [
    "### Add new feature \"rural_urban\""
   ]
  },
  {
   "cell_type": "code",
   "execution_count": 12,
   "id": "40c8cc2f-4a23-4516-ad08-fbff2fa1710d",
   "metadata": {
    "tags": []
   },
   "outputs": [],
   "source": [
    "# Create a boolean mask for rows with valid longitude and latitude values\n",
    "valid_coords = (metadata['longitude_sample'] != \"Not provided\") & (metadata['latitude_sample'] != \"Not provided\")\n",
    "\n",
    "# Initialize the 'is_urban' column with \"Not provided\"\n",
    "metadata['is_urban'] = \"Not provided\"\n",
    "\n",
    "# Process only rows with valid longitude and latitude\n",
    "valid_metadata = metadata[valid_coords]\n",
    "\n",
    "# Convert valid latitude and longitude columns to a GeoDataFrame\n",
    "gdf = gpd.GeoDataFrame(valid_metadata, \n",
    "                       geometry=gpd.points_from_xy(valid_metadata['longitude_sample'].astype(float), \n",
    "                                                   valid_metadata['latitude_sample'].astype(float)), \n",
    "                       crs=\"EPSG:4326\")\n",
    "\n",
    "# Load the shapefile for urban areas\n",
    "urban_areas = gpd.read_file('./data/urban_areas/ne_10m_urban_areas.shp')\n",
    "\n",
    "# Perform the spatial join for valid rows\n",
    "gdf['is_urban'] = gpd.sjoin(gdf, urban_areas, predicate='within', how='left').index_right.notnull()\n",
    "\n",
    "# Update the 'is_urban' column in the original metadata DataFrame\n",
    "metadata.loc[valid_coords, 'is_urban'] = gdf['is_urban'].astype(bool)"
   ]
  },
  {
   "cell_type": "markdown",
   "id": "2107e634-8532-43fb-b89d-759ed104fabd",
   "metadata": {},
   "source": [
    "### Save processed metadata as tsv file"
   ]
  },
  {
   "cell_type": "code",
   "execution_count": 13,
   "id": "2bc497c3-8aa2-4685-a1be-8e553c8a8549",
   "metadata": {
    "tags": []
   },
   "outputs": [],
   "source": [
    "metadata.to_csv('./data/metadata/fungut_metadata_processed.tsv', sep='\\t', index=False)"
   ]
  },
  {
   "cell_type": "markdown",
   "id": "f7295a29-4718-4001-9c68-ff5d70ca30bf",
   "metadata": {},
   "source": [
    "### Filtering the forward reads like we did the metadata"
   ]
  },
  {
   "cell_type": "code",
   "execution_count": 14,
   "id": "59afcc25-c5b1-4798-b6aa-e0bbe5153ed8",
   "metadata": {
    "tags": []
   },
   "outputs": [
    {
     "name": "stdout",
     "output_type": "stream",
     "text": [
      "\u001b[32mSaved SampleData[SequencesWithQuality] to: ./data/forward_reads/filtered_fungut_forward_reads.qza\u001b[0m\n",
      "\u001b[0m"
     ]
    }
   ],
   "source": [
    "!qiime demux filter-samples \\\n",
    "    --i-demux ./data/forward_reads/fungut_forward_reads.qza \\\n",
    "    --m-metadata-file ./data/metadata/fungut_metadata_processed.tsv \\\n",
    "    --o-filtered-demux ./data/forward_reads/filtered_fungut_forward_reads.qza"
   ]
  },
  {
   "cell_type": "markdown",
   "id": "5db3ba21-1d36-40bf-ba41-f55c5ececa6a",
   "metadata": {
    "tags": []
   },
   "source": [
    "### Checking out the filtered forward reads"
   ]
  },
  {
   "cell_type": "code",
   "execution_count": 16,
   "id": "cfb21c28-8e65-4ada-bcd0-d1221bc46d35",
   "metadata": {
    "tags": []
   },
   "outputs": [
    {
     "name": "stdout",
     "output_type": "stream",
     "text": [
      "\u001b[32mSaved Visualization to: ./data/forward_reads/filtered_fungut_forward_reads_summary.qzv\u001b[0m\n",
      "\u001b[0m"
     ]
    }
   ],
   "source": [
    "! qiime demux summarize \\\n",
    "  --i-data ./data/forward_reads/filtered_fungut_forward_reads.qza \\\n",
    "  --o-visualization ./data/forward_reads/filtered_fungut_forward_reads_summary.qzv"
   ]
  },
  {
   "cell_type": "code",
   "execution_count": 17,
   "id": "047a4dd1-fad3-4f6d-b071-5ccf9980874f",
   "metadata": {
    "tags": []
   },
   "outputs": [
    {
     "data": {
      "text/html": [
       "<div><img onload=\"(function(div, url){\n",
       "if (typeof require !== 'undefined') {\n",
       "    var baseURL = require.toUrl('').split('/').slice(0, -2).join('/');\n",
       "} else {\n",
       "    var baseURL = JSON.parse(\n",
       "        document.getElementById('jupyter-config-data').innerHTML\n",
       "    ).baseUrl.slice(0, -1);\n",
       "}\n",
       "url = baseURL + url;\n",
       "fetch(url).then(function(res) {\n",
       "    if (res.status === 404) {\n",
       "        div.innerHTML = 'Install QIIME 2 Jupyter extension with:<br />' +\n",
       "                        '<code>jupyter serverextension enable --py qiime2' +\n",
       "                        ' --sys-prefix</code><br />then restart your server.' +\n",
       "                        '<br /><br />(Interactive output not available on ' +\n",
       "                        'static notebook viewer services like nbviewer.)';\n",
       "    } else if (res.status === 409) {\n",
       "        div.innerHTML = 'Visualization no longer in scope. Re-run this cell' +\n",
       "                        ' to see the visualization.';\n",
       "    } else if (res.ok) {\n",
       "        url = res.url;\n",
       "        div.innerHTML = '<iframe src=\\'' + url + '\\' style=\\'' +\n",
       "                        'width: 100%; height: 700px; border: 0;\\'>' +\n",
       "                        '</iframe><hr />Open in a: <a href=\\'' + url + '\\'' +\n",
       "                        ' target=\\'_blank\\'>new window</a>'\n",
       "    } else {\n",
       "        div.innerHTML = 'Something has gone wrong. Check notebook server for' +\n",
       "                        ' errors.';\n",
       "    }\n",
       "});\n",
       "})(this.parentElement, '/qiime2/redirect?location=/tmp/qiime2/jovyan/data/9598bdd3-8737-43ea-9c34-152d7c2c9f59')\" src=\"data:image/gif;base64,R0lGODlhAQABAIAAAP///wAAACH5BAEAAAAALAAAAAABAAEAAAICRAEAOw==\" /></div>"
      ],
      "text/plain": [
       "<visualization: Visualization uuid: 9598bdd3-8737-43ea-9c34-152d7c2c9f59>"
      ]
     },
     "execution_count": 17,
     "metadata": {},
     "output_type": "execute_result"
    }
   ],
   "source": [
    "Visualization.load('./data/forward_reads/filtered_fungut_forward_reads_summary.qzv')"
   ]
  },
  {
   "cell_type": "markdown",
   "id": "40a6d7af-6b19-4cda-a9ee-1bdc11e281dc",
   "metadata": {},
   "source": [
    "### Denoising with dada2\n",
    "We decided not to truncate or trimm because the quality scores remained consistently high (all 25th percentile scores ≥ 30) across the entire read length. This ensures that we retain the maximum amount of sequence information for downstream analyses while avoiding unnecessary data loss."
   ]
  },
  {
   "cell_type": "code",
   "execution_count": 20,
   "id": "7c7b91ea-a7bf-424c-8b59-d75141e1fef8",
   "metadata": {
    "tags": []
   },
   "outputs": [
    {
     "name": "stdout",
     "output_type": "stream",
     "text": [
      "\u001b[32mSaved FeatureTable[Frequency] to: ./data/feature-table.qza\u001b[0m\n",
      "\u001b[32mSaved FeatureData[Sequence] to: ./data/rep-seqs.qza\u001b[0m\n",
      "\u001b[32mSaved SampleData[DADA2Stats] to: ./data/denoising-stats.qza\u001b[0m\n",
      "\u001b[0m"
     ]
    }
   ],
   "source": [
    "!qiime dada2 denoise-single \\\n",
    "  --i-demultiplexed-seqs ./data/forward_reads/filtered_fungut_forward_reads.qza \\\n",
    "  --p-trim-left 0 \\\n",
    "  --p-trunc-len 0 \\\n",
    "  --o-representative-sequences ./data/rep-seqs.qza \\\n",
    "  --o-table ./data/feature-table.qza \\\n",
    "  --o-denoising-stats ./data/denoising-stats.qza"
   ]
  },
  {
   "cell_type": "markdown",
   "id": "74adcdac-3a0d-4314-9962-faf9e38adbd2",
   "metadata": {},
   "source": [
    "#### Check out the feature table"
   ]
  },
  {
   "cell_type": "code",
   "execution_count": 21,
   "id": "f1f88d1c-69d4-4fb9-9634-ecd742a12f76",
   "metadata": {
    "tags": []
   },
   "outputs": [
    {
     "name": "stdout",
     "output_type": "stream",
     "text": [
      "\u001b[32mSaved Visualization to: ./data/feature-table-summary.qzv\u001b[0m\n",
      "\u001b[0m"
     ]
    }
   ],
   "source": [
    "!qiime feature-table summarize \\\n",
    "  --i-table ./data/feature-table.qza \\\n",
    "  --o-visualization ./data/feature-table-summary.qzv"
   ]
  },
  {
   "cell_type": "code",
   "execution_count": null,
   "id": "bf08e82e-630c-45da-8db5-f840ac060eae",
   "metadata": {
    "tags": []
   },
   "outputs": [],
   "source": [
    "Visualization.load('./data/feature-table-summary.qzv')"
   ]
  },
  {
   "cell_type": "markdown",
   "id": "6cc1ba44-2d49-4152-87e4-9fec7a10d31d",
   "metadata": {},
   "source": [
    "### Classification\n",
    "This step was executed on Euler, as we ran into the problem of not having sufficient memory on JupyterHub\n",
    "See our bash script we ran on Euler in './scripts/'"
   ]
  },
  {
   "cell_type": "markdown",
   "id": "c7eb52aa-e640-4390-bee0-4699114e4c3a",
   "metadata": {},
   "source": [
    "For classification we used the UNITE pretrained classifier from:\n",
    "\n",
    "https://github.com/colinbrislawn/unite-train/releases\n",
    "\n",
    "Classification was performed with `unite_ver10_dynamic_s_all_04.04.2024-Q2-2024.5.qza`, since resources were not an issue when performing the classification on `Euler`."
   ]
  },
  {
   "cell_type": "code",
   "execution_count": null,
   "id": "22c3dfaf-66af-4fef-88a0-8041755abb4d",
   "metadata": {
    "tags": []
   },
   "outputs": [],
   "source": [
    "'''\n",
    "!qiime feature-classifier classify-sklearn \\\n",
    "  --i-classifier ./data/taxonomy_classification/unite_ver10_dynamic_s_all_04.04.2024-Q2-2024.5.qza \\\n",
    "  --i-reads ./data/rep-seqs.qza \\\n",
    "  --p-reads-per-batch 1000 \\\n",
    "  --o-classification ./taxonomy_unite_dynamic_s_all.qza\n",
    "'''"
   ]
  },
  {
   "cell_type": "code",
   "execution_count": 23,
   "id": "3aa0361d-9e61-46f1-85c5-448259370043",
   "metadata": {
    "tags": []
   },
   "outputs": [
    {
     "name": "stdout",
     "output_type": "stream",
     "text": [
      "\u001b[32mSaved Visualization to: ./data/taxonomy_classification/taxonomy_unite_dynamic_s_all.qzv\u001b[0m\n",
      "\u001b[0m"
     ]
    }
   ],
   "source": [
    "# tabulation of the taxonomy classification\n",
    "!qiime metadata tabulate \\\n",
    "  --m-input-file ./data/taxonomy_classification/taxonomy_unite_dynamic_s_all.qza \\\n",
    "  --o-visualization ./data/taxonomy_classification/taxonomy_unite_dynamic_s_all.qzv"
   ]
  },
  {
   "cell_type": "markdown",
   "id": "3cdd3cd0-1f64-44e6-9e55-efe83ea78f17",
   "metadata": {},
   "source": [
    "Looking through the classification, we observed 30 `Unassigned` and 2 `Eukaryota` classifications which we will filter out in the next step."
   ]
  },
  {
   "cell_type": "code",
   "execution_count": 24,
   "id": "240cf8c0-3a3f-4620-8ed2-94bd1c653d2e",
   "metadata": {
    "tags": []
   },
   "outputs": [
    {
     "data": {
      "text/html": [
       "<div><img onload=\"(function(div, url){\n",
       "if (typeof require !== 'undefined') {\n",
       "    var baseURL = require.toUrl('').split('/').slice(0, -2).join('/');\n",
       "} else {\n",
       "    var baseURL = JSON.parse(\n",
       "        document.getElementById('jupyter-config-data').innerHTML\n",
       "    ).baseUrl.slice(0, -1);\n",
       "}\n",
       "url = baseURL + url;\n",
       "fetch(url).then(function(res) {\n",
       "    if (res.status === 404) {\n",
       "        div.innerHTML = 'Install QIIME 2 Jupyter extension with:<br />' +\n",
       "                        '<code>jupyter serverextension enable --py qiime2' +\n",
       "                        ' --sys-prefix</code><br />then restart your server.' +\n",
       "                        '<br /><br />(Interactive output not available on ' +\n",
       "                        'static notebook viewer services like nbviewer.)';\n",
       "    } else if (res.status === 409) {\n",
       "        div.innerHTML = 'Visualization no longer in scope. Re-run this cell' +\n",
       "                        ' to see the visualization.';\n",
       "    } else if (res.ok) {\n",
       "        url = res.url;\n",
       "        div.innerHTML = '<iframe src=\\'' + url + '\\' style=\\'' +\n",
       "                        'width: 100%; height: 700px; border: 0;\\'>' +\n",
       "                        '</iframe><hr />Open in a: <a href=\\'' + url + '\\'' +\n",
       "                        ' target=\\'_blank\\'>new window</a>'\n",
       "    } else {\n",
       "        div.innerHTML = 'Something has gone wrong. Check notebook server for' +\n",
       "                        ' errors.';\n",
       "    }\n",
       "});\n",
       "})(this.parentElement, '/qiime2/redirect?location=/tmp/qiime2/jovyan/data/ba236441-86fa-4cc5-944c-0b163bc9abfe')\" src=\"data:image/gif;base64,R0lGODlhAQABAIAAAP///wAAACH5BAEAAAAALAAAAAABAAEAAAICRAEAOw==\" /></div>"
      ],
      "text/plain": [
       "<visualization: Visualization uuid: ba236441-86fa-4cc5-944c-0b163bc9abfe>"
      ]
     },
     "execution_count": 24,
     "metadata": {},
     "output_type": "execute_result"
    }
   ],
   "source": [
    "Visualization.load('./data/taxonomy_classification/taxonomy_unite_dynamic_s_all.qzv')"
   ]
  },
  {
   "cell_type": "markdown",
   "id": "0b221f11-d754-4abe-9810-48d5feb153ee",
   "metadata": {},
   "source": [
    "#### Create the taxonomy bar plot"
   ]
  },
  {
   "cell_type": "code",
   "execution_count": 25,
   "id": "2244a3f2-d15e-4ae6-a0a1-7cfa2a4e2aa3",
   "metadata": {
    "tags": []
   },
   "outputs": [
    {
     "name": "stdout",
     "output_type": "stream",
     "text": [
      "\u001b[32mSaved Visualization to: ./data/taxa-bar-plots.qzv\u001b[0m\n",
      "\u001b[0m"
     ]
    }
   ],
   "source": [
    "!qiime taxa barplot \\\n",
    "  --i-table ./data/feature-table.qza \\\n",
    "  --i-taxonomy ./data/taxonomy_classification/taxonomy_unite_dynamic_s_all.qza \\\n",
    "  --m-metadata-file ./data/metadata/fungut_metadata_processed.tsv \\\n",
    "  --o-visualization ./data/taxa-bar-plots.qzv"
   ]
  },
  {
   "cell_type": "markdown",
   "id": "d7fe6964-b165-45bd-ba7d-ad8cedc564ae",
   "metadata": {},
   "source": [
    "We here further observe classifications belonging to different kingdoms than `k__Fungi`, which we will also filter out in the next step."
   ]
  },
  {
   "cell_type": "code",
   "execution_count": 4,
   "id": "41ec7488-211f-4022-853d-40033ce0499f",
   "metadata": {
    "tags": []
   },
   "outputs": [
    {
     "data": {
      "text/html": [
       "<div><img onload=\"(function(div, url){\n",
       "if (typeof require !== 'undefined') {\n",
       "    var baseURL = require.toUrl('').split('/').slice(0, -2).join('/');\n",
       "} else {\n",
       "    var baseURL = JSON.parse(\n",
       "        document.getElementById('jupyter-config-data').innerHTML\n",
       "    ).baseUrl.slice(0, -1);\n",
       "}\n",
       "url = baseURL + url;\n",
       "fetch(url).then(function(res) {\n",
       "    if (res.status === 404) {\n",
       "        div.innerHTML = 'Install QIIME 2 Jupyter extension with:<br />' +\n",
       "                        '<code>jupyter serverextension enable --py qiime2' +\n",
       "                        ' --sys-prefix</code><br />then restart your server.' +\n",
       "                        '<br /><br />(Interactive output not available on ' +\n",
       "                        'static notebook viewer services like nbviewer.)';\n",
       "    } else if (res.status === 409) {\n",
       "        div.innerHTML = 'Visualization no longer in scope. Re-run this cell' +\n",
       "                        ' to see the visualization.';\n",
       "    } else if (res.ok) {\n",
       "        url = res.url;\n",
       "        div.innerHTML = '<iframe src=\\'' + url + '\\' style=\\'' +\n",
       "                        'width: 100%; height: 700px; border: 0;\\'>' +\n",
       "                        '</iframe><hr />Open in a: <a href=\\'' + url + '\\'' +\n",
       "                        ' target=\\'_blank\\'>new window</a>'\n",
       "    } else {\n",
       "        div.innerHTML = 'Something has gone wrong. Check notebook server for' +\n",
       "                        ' errors.';\n",
       "    }\n",
       "});\n",
       "})(this.parentElement, '/qiime2/redirect?location=/tmp/qiime2/jovyan/data/a6b15a2c-0ca2-466a-997c-5d9dd10cfdb9')\" src=\"data:image/gif;base64,R0lGODlhAQABAIAAAP///wAAACH5BAEAAAAALAAAAAABAAEAAAICRAEAOw==\" /></div>"
      ],
      "text/plain": [
       "<visualization: Visualization uuid: a6b15a2c-0ca2-466a-997c-5d9dd10cfdb9>"
      ]
     },
     "execution_count": 4,
     "metadata": {},
     "output_type": "execute_result"
    }
   ],
   "source": [
    "Visualization.load('./data/taxa-bar-plots.qzv')"
   ]
  },
  {
   "cell_type": "markdown",
   "id": "90b96655-3471-4d82-8161-90a02d60b64e",
   "metadata": {},
   "source": []
  },
  {
   "cell_type": "markdown",
   "id": "43dc68ed-8955-44aa-9196-fd472dc92c9a",
   "metadata": {},
   "source": [
    "#### Filtering the feature table to exclude eukaryotes\n",
    "We observed that we have contamination in our samples, so we filtered out those assigned `Eukaryota` and `Unassigned`.\n",
    "\n"
   ]
  },
  {
   "cell_type": "code",
   "execution_count": 28,
   "id": "f7a56fdb-013a-474c-bc46-f4d3292cb22c",
   "metadata": {
    "tags": []
   },
   "outputs": [
    {
     "name": "stdout",
     "output_type": "stream",
     "text": [
      "\u001b[32mSaved FeatureTable[Frequency] to: ./data/filtered-feature-table.qza\u001b[0m\n",
      "\u001b[0m"
     ]
    }
   ],
   "source": [
    "!qiime taxa filter-table \\\n",
    "  --i-table ./data/feature-table.qza \\\n",
    "  --i-taxonomy ./data/taxonomy_classification/taxonomy_unite_dynamic_s_all.qza \\\n",
    "  --p-include k__Fungi \\\n",
    "  --o-filtered-table ./data/filtered-feature-table.qza\n"
   ]
  },
  {
   "cell_type": "markdown",
   "id": "423043b1-15c9-4298-b541-3d522425f122",
   "metadata": {},
   "source": [
    "We now regenerate the taxonomy barplot to ensure we only have k__Fungi classifications."
   ]
  },
  {
   "cell_type": "code",
   "execution_count": 29,
   "id": "f34ae4cd-8d40-4337-893b-8eee6469e8ed",
   "metadata": {
    "tags": []
   },
   "outputs": [
    {
     "name": "stdout",
     "output_type": "stream",
     "text": [
      "\u001b[32mSaved Visualization to: ./data/filtered-taxa-bar-plots.qzv\u001b[0m\n",
      "\u001b[0m"
     ]
    }
   ],
   "source": [
    "!qiime taxa barplot \\\n",
    "  --i-table ./data/filtered-feature-table.qza \\\n",
    "  --i-taxonomy ./data/taxonomy_classification/taxonomy_unite_dynamic_s_all.qza \\\n",
    "  --m-metadata-file ./data/metadata/fungut_metadata_processed.tsv \\\n",
    "  --o-visualization ./data/filtered-taxa-bar-plots.qzv"
   ]
  },
  {
   "cell_type": "code",
   "execution_count": 5,
   "id": "17f80309-9bd3-4028-a45f-04730e8e83ef",
   "metadata": {
    "tags": []
   },
   "outputs": [
    {
     "data": {
      "text/html": [
       "<div><img onload=\"(function(div, url){\n",
       "if (typeof require !== 'undefined') {\n",
       "    var baseURL = require.toUrl('').split('/').slice(0, -2).join('/');\n",
       "} else {\n",
       "    var baseURL = JSON.parse(\n",
       "        document.getElementById('jupyter-config-data').innerHTML\n",
       "    ).baseUrl.slice(0, -1);\n",
       "}\n",
       "url = baseURL + url;\n",
       "fetch(url).then(function(res) {\n",
       "    if (res.status === 404) {\n",
       "        div.innerHTML = 'Install QIIME 2 Jupyter extension with:<br />' +\n",
       "                        '<code>jupyter serverextension enable --py qiime2' +\n",
       "                        ' --sys-prefix</code><br />then restart your server.' +\n",
       "                        '<br /><br />(Interactive output not available on ' +\n",
       "                        'static notebook viewer services like nbviewer.)';\n",
       "    } else if (res.status === 409) {\n",
       "        div.innerHTML = 'Visualization no longer in scope. Re-run this cell' +\n",
       "                        ' to see the visualization.';\n",
       "    } else if (res.ok) {\n",
       "        url = res.url;\n",
       "        div.innerHTML = '<iframe src=\\'' + url + '\\' style=\\'' +\n",
       "                        'width: 100%; height: 700px; border: 0;\\'>' +\n",
       "                        '</iframe><hr />Open in a: <a href=\\'' + url + '\\'' +\n",
       "                        ' target=\\'_blank\\'>new window</a>'\n",
       "    } else {\n",
       "        div.innerHTML = 'Something has gone wrong. Check notebook server for' +\n",
       "                        ' errors.';\n",
       "    }\n",
       "});\n",
       "})(this.parentElement, '/qiime2/redirect?location=/tmp/qiime2/jovyan/data/6e31c62c-0d26-496b-9bfc-a3d87ba46339')\" src=\"data:image/gif;base64,R0lGODlhAQABAIAAAP///wAAACH5BAEAAAAALAAAAAABAAEAAAICRAEAOw==\" /></div>"
      ],
      "text/plain": [
       "<visualization: Visualization uuid: 6e31c62c-0d26-496b-9bfc-a3d87ba46339>"
      ]
     },
     "execution_count": 5,
     "metadata": {},
     "output_type": "execute_result"
    }
   ],
   "source": [
    "Visualization.load('./data/filtered-taxa-bar-plots.qzv')"
   ]
  },
  {
   "cell_type": "code",
   "execution_count": null,
   "id": "4c3453ac-802b-4556-85f8-22344222024a",
   "metadata": {},
   "outputs": [],
   "source": []
  },
  {
   "cell_type": "code",
   "execution_count": null,
   "id": "aeedaf7a-ba18-41d1-a37a-109299f0dd9f",
   "metadata": {},
   "outputs": [],
   "source": []
  },
  {
   "cell_type": "code",
   "execution_count": 31,
   "id": "4eae8adb-ebfb-4fbf-8eba-4603388c2f6d",
   "metadata": {
    "tags": []
   },
   "outputs": [
    {
     "name": "stdout",
     "output_type": "stream",
     "text": [
      "\u001b[32mSaved Visualization to: ./data/filtered-feature-table_summary.qzv\u001b[0m\n",
      "\u001b[0m"
     ]
    }
   ],
   "source": [
    "!qiime feature-table summarize\\\n",
    "    --i-table ./data/filtered-feature-table.qza \\\n",
    "    --o-visualization ./data/filtered-feature-table_summary.qzv"
   ]
  },
  {
   "cell_type": "code",
   "execution_count": 6,
   "id": "ac1793eb-f102-48eb-9ff0-7b2806f23414",
   "metadata": {
    "tags": []
   },
   "outputs": [
    {
     "data": {
      "text/html": [
       "<div><img onload=\"(function(div, url){\n",
       "if (typeof require !== 'undefined') {\n",
       "    var baseURL = require.toUrl('').split('/').slice(0, -2).join('/');\n",
       "} else {\n",
       "    var baseURL = JSON.parse(\n",
       "        document.getElementById('jupyter-config-data').innerHTML\n",
       "    ).baseUrl.slice(0, -1);\n",
       "}\n",
       "url = baseURL + url;\n",
       "fetch(url).then(function(res) {\n",
       "    if (res.status === 404) {\n",
       "        div.innerHTML = 'Install QIIME 2 Jupyter extension with:<br />' +\n",
       "                        '<code>jupyter serverextension enable --py qiime2' +\n",
       "                        ' --sys-prefix</code><br />then restart your server.' +\n",
       "                        '<br /><br />(Interactive output not available on ' +\n",
       "                        'static notebook viewer services like nbviewer.)';\n",
       "    } else if (res.status === 409) {\n",
       "        div.innerHTML = 'Visualization no longer in scope. Re-run this cell' +\n",
       "                        ' to see the visualization.';\n",
       "    } else if (res.ok) {\n",
       "        url = res.url;\n",
       "        div.innerHTML = '<iframe src=\\'' + url + '\\' style=\\'' +\n",
       "                        'width: 100%; height: 700px; border: 0;\\'>' +\n",
       "                        '</iframe><hr />Open in a: <a href=\\'' + url + '\\'' +\n",
       "                        ' target=\\'_blank\\'>new window</a>'\n",
       "    } else {\n",
       "        div.innerHTML = 'Something has gone wrong. Check notebook server for' +\n",
       "                        ' errors.';\n",
       "    }\n",
       "});\n",
       "})(this.parentElement, '/qiime2/redirect?location=/tmp/qiime2/jovyan/data/710186d0-4ddc-4483-928a-8c881daf4c2b')\" src=\"data:image/gif;base64,R0lGODlhAQABAIAAAP///wAAACH5BAEAAAAALAAAAAABAAEAAAICRAEAOw==\" /></div>"
      ],
      "text/plain": [
       "<visualization: Visualization uuid: 710186d0-4ddc-4483-928a-8c881daf4c2b>"
      ]
     },
     "execution_count": 6,
     "metadata": {},
     "output_type": "execute_result"
    }
   ],
   "source": [
    "Visualization.load('./data/filtered-feature-table_summary.qzv')"
   ]
  },
  {
   "cell_type": "markdown",
   "id": "a32fc128-3fcd-432f-ae7a-0c051d5772d9",
   "metadata": {
    "tags": []
   },
   "source": [
    "### Creating a phylogenetic tree\n",
    "\n",
    "#### First we align our sequences"
   ]
  },
  {
   "cell_type": "code",
   "execution_count": 33,
   "id": "73b4b271-f0dc-40bb-847a-1dcfa4241e42",
   "metadata": {
    "tags": []
   },
   "outputs": [
    {
     "name": "stdout",
     "output_type": "stream",
     "text": [
      "\u001b[32mSaved FeatureData[AlignedSequence] to: ./data/aligned-rep-seqs.qza\u001b[0m\n",
      "\u001b[0m"
     ]
    }
   ],
   "source": [
    "! qiime alignment mafft \\\n",
    "    --i-sequences ./data/rep-seqs.qza \\\n",
    "    --o-alignment ./data/aligned-rep-seqs.qza"
   ]
  },
  {
   "cell_type": "markdown",
   "id": "ea273e5e-e509-40d7-a4a9-c719bfe0b9f3",
   "metadata": {},
   "source": [
    "#### Alignment masking"
   ]
  },
  {
   "cell_type": "code",
   "execution_count": 34,
   "id": "ec11ef0f-f99a-4aff-9306-277d95fb49ff",
   "metadata": {
    "tags": []
   },
   "outputs": [
    {
     "name": "stdout",
     "output_type": "stream",
     "text": [
      "\u001b[32mSaved FeatureData[AlignedSequence] to: ./data/masked-aligned-rep-seqs.qza\u001b[0m\n",
      "\u001b[0m"
     ]
    }
   ],
   "source": [
    "! qiime alignment mask \\\n",
    "    --i-alignment ./data/aligned-rep-seqs.qza \\\n",
    "    --o-masked-alignment ./data/masked-aligned-rep-seqs.qza"
   ]
  },
  {
   "cell_type": "markdown",
   "id": "fefe13a5-dddf-4e9a-b898-ada2e7b254ac",
   "metadata": {},
   "source": [
    "#### Tree construction"
   ]
  },
  {
   "cell_type": "code",
   "execution_count": 35,
   "id": "4b66ff40-6b35-44f1-aa35-2ed5988b8994",
   "metadata": {
    "tags": []
   },
   "outputs": [
    {
     "name": "stdout",
     "output_type": "stream",
     "text": [
      "\u001b[32mSaved Phylogeny[Unrooted] to: ./data/fast-tree.qza\u001b[0m\n",
      "\u001b[0m\u001b[32mSaved Phylogeny[Rooted] to: ./data/fast-tree-rooted.qza\u001b[0m\n",
      "\u001b[0m"
     ]
    }
   ],
   "source": [
    "! qiime phylogeny fasttree \\\n",
    "    --i-alignment ./data/masked-aligned-rep-seqs.qza \\\n",
    "    --o-tree ./data/phylogeny/fast-tree.qza\n",
    "\n",
    "! qiime phylogeny midpoint-root \\\n",
    "    --i-tree ./data/phylogeny/fast-tree.qza \\\n",
    "    --o-rooted-tree ./data/phylogeny/fast-tree-rooted.qza"
   ]
  },
  {
   "cell_type": "markdown",
   "id": "09036dc0-2940-4a10-8420-6b422ae10e2b",
   "metadata": {},
   "source": [
    "#### Unable to create tree visualization on Jupyter\n",
    "\n",
    "Saddly we weren't able to install the qiime2 plugin empress to create the tree visualization, which is why we ran this step on `Euler`.\n",
    "The bash file we executed on Euler can be found in `./scripts/tree_visualization.sh`."
   ]
  },
  {
   "cell_type": "code",
   "execution_count": 36,
   "id": "33ea9d42-1884-4db1-91c4-629f6cbe9a1e",
   "metadata": {
    "tags": []
   },
   "outputs": [
    {
     "data": {
      "text/html": [
       "<div><img onload=\"(function(div, url){\n",
       "if (typeof require !== 'undefined') {\n",
       "    var baseURL = require.toUrl('').split('/').slice(0, -2).join('/');\n",
       "} else {\n",
       "    var baseURL = JSON.parse(\n",
       "        document.getElementById('jupyter-config-data').innerHTML\n",
       "    ).baseUrl.slice(0, -1);\n",
       "}\n",
       "url = baseURL + url;\n",
       "fetch(url).then(function(res) {\n",
       "    if (res.status === 404) {\n",
       "        div.innerHTML = 'Install QIIME 2 Jupyter extension with:<br />' +\n",
       "                        '<code>jupyter serverextension enable --py qiime2' +\n",
       "                        ' --sys-prefix</code><br />then restart your server.' +\n",
       "                        '<br /><br />(Interactive output not available on ' +\n",
       "                        'static notebook viewer services like nbviewer.)';\n",
       "    } else if (res.status === 409) {\n",
       "        div.innerHTML = 'Visualization no longer in scope. Re-run this cell' +\n",
       "                        ' to see the visualization.';\n",
       "    } else if (res.ok) {\n",
       "        url = res.url;\n",
       "        div.innerHTML = '<iframe src=\\'' + url + '\\' style=\\'' +\n",
       "                        'width: 100%; height: 700px; border: 0;\\'>' +\n",
       "                        '</iframe><hr />Open in a: <a href=\\'' + url + '\\'' +\n",
       "                        ' target=\\'_blank\\'>new window</a>'\n",
       "    } else {\n",
       "        div.innerHTML = 'Something has gone wrong. Check notebook server for' +\n",
       "                        ' errors.';\n",
       "    }\n",
       "});\n",
       "})(this.parentElement, '/qiime2/redirect?location=/tmp/qiime2/jovyan/data/65627d58-5d93-45f6-b058-165ddd931101')\" src=\"data:image/gif;base64,R0lGODlhAQABAIAAAP///wAAACH5BAEAAAAALAAAAAABAAEAAAICRAEAOw==\" /></div>"
      ],
      "text/plain": [
       "<visualization: Visualization uuid: 65627d58-5d93-45f6-b058-165ddd931101>"
      ]
     },
     "execution_count": 36,
     "metadata": {},
     "output_type": "execute_result"
    }
   ],
   "source": [
    "Visualization.load('./data/phylogeny/fast-tree-rooted.qzv')"
   ]
  },
  {
   "cell_type": "markdown",
   "id": "cfc1bb17-ea97-493c-a2e1-a89b2cefb29e",
   "metadata": {},
   "source": [
    "#### Alpha rarefaction"
   ]
  },
  {
   "cell_type": "code",
   "execution_count": 37,
   "id": "bdb5603c-4f71-4053-aebd-a249d7d1c55b",
   "metadata": {
    "tags": []
   },
   "outputs": [
    {
     "name": "stdout",
     "output_type": "stream",
     "text": [
      "\u001b[32mSaved Visualization to: ./data/alpha_diversity/alpha-rarefaction.qzv\u001b[0m\n",
      "\u001b[0m"
     ]
    }
   ],
   "source": [
    "!qiime diversity alpha-rarefaction \\\n",
    "  --i-table ./data/filtered-feature-table.qza \\\n",
    "  --i-phylogeny ./data/phylogeny/fast-tree-rooted.qza \\\n",
    "  --p-max-depth  30000 \\\n",
    "  --m-metadata-file ./data/metadata/fungut_metadata_processed.tsv \\\n",
    "  --o-visualization ./data/alpha_diversity/alpha-rarefaction.qzv\n"
   ]
  },
  {
   "cell_type": "code",
   "execution_count": 38,
   "id": "97a242cc-97fe-4c9b-85cb-bec081817655",
   "metadata": {
    "tags": []
   },
   "outputs": [
    {
     "data": {
      "text/html": [
       "<div><img onload=\"(function(div, url){\n",
       "if (typeof require !== 'undefined') {\n",
       "    var baseURL = require.toUrl('').split('/').slice(0, -2).join('/');\n",
       "} else {\n",
       "    var baseURL = JSON.parse(\n",
       "        document.getElementById('jupyter-config-data').innerHTML\n",
       "    ).baseUrl.slice(0, -1);\n",
       "}\n",
       "url = baseURL + url;\n",
       "fetch(url).then(function(res) {\n",
       "    if (res.status === 404) {\n",
       "        div.innerHTML = 'Install QIIME 2 Jupyter extension with:<br />' +\n",
       "                        '<code>jupyter serverextension enable --py qiime2' +\n",
       "                        ' --sys-prefix</code><br />then restart your server.' +\n",
       "                        '<br /><br />(Interactive output not available on ' +\n",
       "                        'static notebook viewer services like nbviewer.)';\n",
       "    } else if (res.status === 409) {\n",
       "        div.innerHTML = 'Visualization no longer in scope. Re-run this cell' +\n",
       "                        ' to see the visualization.';\n",
       "    } else if (res.ok) {\n",
       "        url = res.url;\n",
       "        div.innerHTML = '<iframe src=\\'' + url + '\\' style=\\'' +\n",
       "                        'width: 100%; height: 700px; border: 0;\\'>' +\n",
       "                        '</iframe><hr />Open in a: <a href=\\'' + url + '\\'' +\n",
       "                        ' target=\\'_blank\\'>new window</a>'\n",
       "    } else {\n",
       "        div.innerHTML = 'Something has gone wrong. Check notebook server for' +\n",
       "                        ' errors.';\n",
       "    }\n",
       "});\n",
       "})(this.parentElement, '/qiime2/redirect?location=/tmp/qiime2/jovyan/data/8f71a580-4c35-49c0-932b-d87061036f49')\" src=\"data:image/gif;base64,R0lGODlhAQABAIAAAP///wAAACH5BAEAAAAALAAAAAABAAEAAAICRAEAOw==\" /></div>"
      ],
      "text/plain": [
       "<visualization: Visualization uuid: 8f71a580-4c35-49c0-932b-d87061036f49>"
      ]
     },
     "execution_count": 38,
     "metadata": {},
     "output_type": "execute_result"
    }
   ],
   "source": [
    "Visualization.load('./data/alpha_diversity/alpha-rarefaction.qzv')"
   ]
  },
  {
   "cell_type": "markdown",
   "id": "8384e8fc-1b75-44ae-aaaf-48a2872b0fc8",
   "metadata": {},
   "source": [
    "#### Compute metrics\n",
    "We chose a sampling depth of 5000, as the shannon metric plateaus shortly before it  \n"
   ]
  },
  {
   "cell_type": "code",
   "execution_count": 40,
   "id": "1c41aad5-0caf-4790-86ac-bdd0e17ea9e8",
   "metadata": {
    "tags": []
   },
   "outputs": [
    {
     "name": "stdout",
     "output_type": "stream",
     "text": [
      "\u001b[32mSaved FeatureTable[Frequency] to: ./data/alpha_diversity/core-metrics-results/rarefied_table.qza\u001b[0m\n",
      "\u001b[32mSaved SampleData[AlphaDiversity] to: ./data/alpha_diversity/core-metrics-results/faith_pd_vector.qza\u001b[0m\n",
      "\u001b[32mSaved SampleData[AlphaDiversity] to: ./data/alpha_diversity/core-metrics-results/observed_features_vector.qza\u001b[0m\n",
      "\u001b[32mSaved SampleData[AlphaDiversity] to: ./data/alpha_diversity/core-metrics-results/shannon_vector.qza\u001b[0m\n",
      "\u001b[32mSaved SampleData[AlphaDiversity] to: ./data/alpha_diversity/core-metrics-results/evenness_vector.qza\u001b[0m\n",
      "\u001b[32mSaved DistanceMatrix to: ./data/alpha_diversity/core-metrics-results/unweighted_unifrac_distance_matrix.qza\u001b[0m\n",
      "\u001b[32mSaved DistanceMatrix to: ./data/alpha_diversity/core-metrics-results/weighted_unifrac_distance_matrix.qza\u001b[0m\n",
      "\u001b[32mSaved DistanceMatrix to: ./data/alpha_diversity/core-metrics-results/jaccard_distance_matrix.qza\u001b[0m\n",
      "\u001b[32mSaved DistanceMatrix to: ./data/alpha_diversity/core-metrics-results/bray_curtis_distance_matrix.qza\u001b[0m\n",
      "\u001b[32mSaved PCoAResults to: ./data/alpha_diversity/core-metrics-results/unweighted_unifrac_pcoa_results.qza\u001b[0m\n",
      "\u001b[32mSaved PCoAResults to: ./data/alpha_diversity/core-metrics-results/weighted_unifrac_pcoa_results.qza\u001b[0m\n",
      "\u001b[32mSaved PCoAResults to: ./data/alpha_diversity/core-metrics-results/jaccard_pcoa_results.qza\u001b[0m\n",
      "\u001b[32mSaved PCoAResults to: ./data/alpha_diversity/core-metrics-results/bray_curtis_pcoa_results.qza\u001b[0m\n",
      "\u001b[32mSaved Visualization to: ./data/alpha_diversity/core-metrics-results/unweighted_unifrac_emperor.qzv\u001b[0m\n",
      "\u001b[32mSaved Visualization to: ./data/alpha_diversity/core-metrics-results/weighted_unifrac_emperor.qzv\u001b[0m\n",
      "\u001b[32mSaved Visualization to: ./data/alpha_diversity/core-metrics-results/jaccard_emperor.qzv\u001b[0m\n",
      "\u001b[32mSaved Visualization to: ./data/alpha_diversity/core-metrics-results/bray_curtis_emperor.qzv\u001b[0m\n",
      "\u001b[0m"
     ]
    }
   ],
   "source": [
    "! qiime diversity core-metrics-phylogenetic \\\n",
    "  --i-table ./data/filtered-feature-table.qza \\\n",
    "  --i-phylogeny ./data/phylogeny/fast-tree-rooted.qza \\\n",
    "  --m-metadata-file ./data/metadata/fungut_metadata_processed.tsv \\\n",
    "  --p-sampling-depth 5000 \\\n",
    "  --output-dir ./data/alpha_diversity/core-metrics-results"
   ]
  },
  {
   "cell_type": "markdown",
   "id": "e00357ec-7a7e-40a8-b3ae-d25a80b78c4a",
   "metadata": {},
   "source": [
    "### Check out the core metrics results visualizations\n",
    "For easier inspection of the core metrics results we implemented a ipywidget for easier switching between visualizations."
   ]
  },
  {
   "cell_type": "code",
   "execution_count": 7,
   "id": "bf71a394-2441-4b19-973a-9cd40d525f9a",
   "metadata": {
    "tags": []
   },
   "outputs": [
    {
     "data": {
      "application/vnd.jupyter.widget-view+json": {
       "model_id": "23cc1d519a214f88b2a5e0d76f81a8fe",
       "version_major": 2,
       "version_minor": 0
      },
      "text/plain": [
       "Dropdown(description='Select .qzv file:', options=('bray_curtis_emperor.qzv', 'jaccard_emperor.qzv', 'weighted…"
      ]
     },
     "metadata": {},
     "output_type": "display_data"
    },
    {
     "data": {
      "application/vnd.jupyter.widget-view+json": {
       "model_id": "6b36cba67e384b759c54dd51d3c90fd5",
       "version_major": 2,
       "version_minor": 0
      },
      "text/plain": [
       "Output()"
      ]
     },
     "metadata": {},
     "output_type": "display_data"
    }
   ],
   "source": [
    "sys.path.append(os.path.join(os.getcwd(), 'scripts'))\n",
    "from qzv_selector import display_qzv_selector\n",
    "display_qzv_selector('./data/alpha_diversity/core-metrics-results')"
   ]
  },
  {
   "cell_type": "code",
   "execution_count": 42,
   "id": "310b9a41-3b16-4bcc-98c8-4c2eace9af18",
   "metadata": {
    "tags": []
   },
   "outputs": [
    {
     "data": {
      "application/vnd.jupyter.widget-view+json": {
       "model_id": "84a72d22c9474ffd8160db2faea488f8",
       "version_major": 2,
       "version_minor": 0
      },
      "text/plain": [
       "VBox(children=(Dropdown(description='Select Category:', options=('country', 'state', 'sex', 'diet_type', 'ibd'…"
      ]
     },
     "metadata": {},
     "output_type": "display_data"
    }
   ],
   "source": [
    "# test_import.py\n",
    "from qzv_selector import create_category_selector\n",
    "\n",
    "category_dropdown = create_category_selector()\n"
   ]
  },
  {
   "cell_type": "code",
   "execution_count": 44,
   "id": "258cc11e-d67f-4c59-901b-8aba55d71355",
   "metadata": {
    "tags": []
   },
   "outputs": [
    {
     "name": "stderr",
     "output_type": "stream",
     "text": [
      "/opt/conda/lib/python3.9/site-packages/q2_types/sample_data/_transformer.py:27: FutureWarning: errors='ignore' is deprecated and will raise in a future version. Use to_numeric without passing `errors` and catch exceptions explicitly instead\n",
      "  df[cols] = df[cols].apply(pd.to_numeric, errors='ignore')\n"
     ]
    },
    {
     "data": {
      "image/png": "[encoded data removed]",
      "text/plain": [
       "<Figure size 640x480 with 1 Axes>"
      ]
     },
     "metadata": {},
     "output_type": "display_data"
    }
   ],
   "source": [
    "types = category_dropdown.value\n",
    "\n",
    "div = q2.Artifact.load('./data/alpha_diversity/core-metrics-results/faith_pd_vector.qza').view(pd.Series)\n",
    "md = pd.read_csv('./data/metadata/fungut_metadata_processed.tsv', sep='\\t', index_col=0)[f'{types}_sample']\n",
    "# Concatenate the series that we provided\n",
    "dd = pd.concat([div, md], axis=1, join='inner')\n",
    "\n",
    "# make a boxplot with Faith PD on the y-axis and the selected 'type' on the x-axis (hint: look at the \"by\" parameter)\n",
    "sns.boxplot(x=f'{types}_sample', y = dd.columns[0], data = dd)\n",
    "plt.xlabel(f'{types}_sample')\n",
    "plt.xticks(rotation = 80)\n",
    "plt.ylabel('Faith PD')\n",
    "plt.title(f'Faith PD Boxplot by {types}_sample')\n",
    "plt.show()"
   ]
  },
  {
   "cell_type": "markdown",
   "id": "abd939db-070b-43f6-8c19-bc918433be34",
   "metadata": {},
   "source": [
    "## NEW\n",
    "### Beta_diversity"
   ]
  },
  {
   "cell_type": "code",
   "execution_count": 4,
   "id": "a2f75119-2ebe-4874-a66f-0179797b7d03",
   "metadata": {
    "tags": []
   },
   "outputs": [
    {
     "name": "stdout",
     "output_type": "stream",
     "text": [
      "/home/jovyan/FunGut2/Nicola\n"
     ]
    }
   ],
   "source": [
    "! pwd"
   ]
  },
  {
   "cell_type": "code",
   "execution_count": 8,
   "id": "cf620ff4-e7f0-405a-b786-5711cc0639d8",
   "metadata": {
    "tags": []
   },
   "outputs": [],
   "source": [
    "from skbio import OrdinationResults\n",
    "from qiime2 import Visualization\n",
    "from seaborn import scatterplot"
   ]
  },
  {
   "cell_type": "code",
   "execution_count": 9,
   "id": "951144a5-1e9c-4da0-800c-0bb3523d99fc",
   "metadata": {
    "tags": []
   },
   "outputs": [],
   "source": [
    "pcs = q2.Artifact.load(os.path.join('../full-pipeline/data/alpha_diversity/core-metrics-results/unweighted_unifrac_pcoa_results.qza'))\n",
    "pcs = pcs.view(OrdinationResults)\n",
    "# let's just take the first 3 columns (i.e., first 3 PCoA axes)\n",
    "pcs_data = pcs.samples.iloc[:,:3]\n",
    "# rename the columns for clarity\n",
    "pcs_data.columns = ['Axis 1', 'Axis 2', 'Axis 3']"
   ]
  },
  {
   "cell_type": "code",
   "execution_count": 17,
   "id": "729541d7-a6da-43de-8925-a60a5d7b57c4",
   "metadata": {
    "tags": []
   },
   "outputs": [],
   "source": [
    "metadata = pd.read_csv(\"../full-pipeline/data/metadata/fungut_metadata_processed.tsv\", \n",
    "                       sep=\"\\t\", \n",
    "                       index_col=0\n",
    "    )"
   ]
  },
  {
   "cell_type": "code",
   "execution_count": 18,
   "id": "71ea9ad0-ed70-4476-9d22-9e8be2b2753d",
   "metadata": {
    "tags": []
   },
   "outputs": [
    {
     "data": {
      "text/html": [
       "<div>\n",
       "<style scoped>\n",
       "    .dataframe tbody tr th:only-of-type {\n",
       "        vertical-align: middle;\n",
       "    }\n",
       "\n",
       "    .dataframe tbody tr th {\n",
       "        vertical-align: top;\n",
       "    }\n",
       "\n",
       "    .dataframe thead th {\n",
       "        text-align: right;\n",
       "    }\n",
       "</style>\n",
       "<table border=\"1\" class=\"dataframe\">\n",
       "  <thead>\n",
       "    <tr style=\"text-align: right;\">\n",
       "      <th></th>\n",
       "      <th>country_sample</th>\n",
       "      <th>state_sample</th>\n",
       "      <th>latitude_sample</th>\n",
       "      <th>longitude_sample</th>\n",
       "      <th>sex_sample</th>\n",
       "      <th>age_years_sample</th>\n",
       "      <th>height_cm_sample</th>\n",
       "      <th>weight_kg_sample</th>\n",
       "      <th>bmi_sample</th>\n",
       "      <th>diet_type_sample</th>\n",
       "      <th>ibd_sample</th>\n",
       "      <th>gluten_sample</th>\n",
       "      <th>ibd_symptoms</th>\n",
       "      <th>gluten_symptoms</th>\n",
       "      <th>is_urban</th>\n",
       "      <th>Axis 1</th>\n",
       "      <th>Axis 2</th>\n",
       "      <th>Axis 3</th>\n",
       "    </tr>\n",
       "  </thead>\n",
       "  <tbody>\n",
       "    <tr>\n",
       "      <th>ERR5327198</th>\n",
       "      <td>USA</td>\n",
       "      <td>TN</td>\n",
       "      <td>36.1</td>\n",
       "      <td>-86.8</td>\n",
       "      <td>female</td>\n",
       "      <td>67</td>\n",
       "      <td>152</td>\n",
       "      <td>41</td>\n",
       "      <td>17.75</td>\n",
       "      <td>Omnivore</td>\n",
       "      <td>I do not have this condition</td>\n",
       "      <td>No</td>\n",
       "      <td>no_symptoms</td>\n",
       "      <td>no_symptoms</td>\n",
       "      <td>True</td>\n",
       "      <td>0.207250</td>\n",
       "      <td>-0.018048</td>\n",
       "      <td>-0.048870</td>\n",
       "    </tr>\n",
       "    <tr>\n",
       "      <th>ERR5327199</th>\n",
       "      <td>USA</td>\n",
       "      <td>DC</td>\n",
       "      <td>38.9</td>\n",
       "      <td>-77.1</td>\n",
       "      <td>male</td>\n",
       "      <td>55.0</td>\n",
       "      <td>182.0</td>\n",
       "      <td>79.0</td>\n",
       "      <td>23.73</td>\n",
       "      <td>Omnivore</td>\n",
       "      <td>I do not have this condition</td>\n",
       "      <td>I was diagnosed with gluten allergy (anti-glut...</td>\n",
       "      <td>no_symptoms</td>\n",
       "      <td>symptoms</td>\n",
       "      <td>True</td>\n",
       "      <td>-0.170252</td>\n",
       "      <td>-0.312261</td>\n",
       "      <td>-0.084945</td>\n",
       "    </tr>\n",
       "    <tr>\n",
       "      <th>ERR5327266</th>\n",
       "      <td>USA</td>\n",
       "      <td>VA</td>\n",
       "      <td>38.9</td>\n",
       "      <td>-77.1</td>\n",
       "      <td>female</td>\n",
       "      <td>28.0</td>\n",
       "      <td>175.0</td>\n",
       "      <td>61.0</td>\n",
       "      <td>19.94</td>\n",
       "      <td>Omnivore</td>\n",
       "      <td>I do not have this condition</td>\n",
       "      <td>I do not eat gluten because it makes me feel bad</td>\n",
       "      <td>no_symptoms</td>\n",
       "      <td>symptoms</td>\n",
       "      <td>True</td>\n",
       "      <td>-0.148098</td>\n",
       "      <td>0.055881</td>\n",
       "      <td>-0.014650</td>\n",
       "    </tr>\n",
       "    <tr>\n",
       "      <th>ERR5327282</th>\n",
       "      <td>United Kingdom</td>\n",
       "      <td>Not provided</td>\n",
       "      <td>51.6</td>\n",
       "      <td>-0.2</td>\n",
       "      <td>female</td>\n",
       "      <td>26.0</td>\n",
       "      <td>166.0</td>\n",
       "      <td>60.0</td>\n",
       "      <td>21.77</td>\n",
       "      <td>Omnivore</td>\n",
       "      <td>I do not have this condition</td>\n",
       "      <td>No</td>\n",
       "      <td>no_symptoms</td>\n",
       "      <td>no_symptoms</td>\n",
       "      <td>True</td>\n",
       "      <td>-0.022064</td>\n",
       "      <td>0.085922</td>\n",
       "      <td>0.224176</td>\n",
       "    </tr>\n",
       "    <tr>\n",
       "      <th>ERR5327284</th>\n",
       "      <td>United Kingdom</td>\n",
       "      <td>Not provided</td>\n",
       "      <td>51.5</td>\n",
       "      <td>-0.2</td>\n",
       "      <td>female</td>\n",
       "      <td>25.0</td>\n",
       "      <td>173.0</td>\n",
       "      <td>59.0</td>\n",
       "      <td>20.01</td>\n",
       "      <td>Vegetarian but eat seafood</td>\n",
       "      <td>I do not have this condition</td>\n",
       "      <td>No</td>\n",
       "      <td>no_symptoms</td>\n",
       "      <td>no_symptoms</td>\n",
       "      <td>True</td>\n",
       "      <td>0.269120</td>\n",
       "      <td>0.007269</td>\n",
       "      <td>0.022519</td>\n",
       "    </tr>\n",
       "  </tbody>\n",
       "</table>\n",
       "</div>"
      ],
      "text/plain": [
       "            country_sample  state_sample latitude_sample longitude_sample  \\\n",
       "ERR5327198             USA            TN            36.1            -86.8   \n",
       "ERR5327199             USA            DC            38.9            -77.1   \n",
       "ERR5327266             USA            VA            38.9            -77.1   \n",
       "ERR5327282  United Kingdom  Not provided            51.6             -0.2   \n",
       "ERR5327284  United Kingdom  Not provided            51.5             -0.2   \n",
       "\n",
       "           sex_sample age_years_sample height_cm_sample weight_kg_sample  \\\n",
       "ERR5327198     female               67              152               41   \n",
       "ERR5327199       male             55.0            182.0             79.0   \n",
       "ERR5327266     female             28.0            175.0             61.0   \n",
       "ERR5327282     female             26.0            166.0             60.0   \n",
       "ERR5327284     female             25.0            173.0             59.0   \n",
       "\n",
       "           bmi_sample            diet_type_sample  \\\n",
       "ERR5327198      17.75                    Omnivore   \n",
       "ERR5327199      23.73                    Omnivore   \n",
       "ERR5327266      19.94                    Omnivore   \n",
       "ERR5327282      21.77                    Omnivore   \n",
       "ERR5327284      20.01  Vegetarian but eat seafood   \n",
       "\n",
       "                              ibd_sample  \\\n",
       "ERR5327198  I do not have this condition   \n",
       "ERR5327199  I do not have this condition   \n",
       "ERR5327266  I do not have this condition   \n",
       "ERR5327282  I do not have this condition   \n",
       "ERR5327284  I do not have this condition   \n",
       "\n",
       "                                                gluten_sample ibd_symptoms  \\\n",
       "ERR5327198                                                 No  no_symptoms   \n",
       "ERR5327199  I was diagnosed with gluten allergy (anti-glut...  no_symptoms   \n",
       "ERR5327266   I do not eat gluten because it makes me feel bad  no_symptoms   \n",
       "ERR5327282                                                 No  no_symptoms   \n",
       "ERR5327284                                                 No  no_symptoms   \n",
       "\n",
       "           gluten_symptoms is_urban    Axis 1    Axis 2    Axis 3  \n",
       "ERR5327198     no_symptoms     True  0.207250 -0.018048 -0.048870  \n",
       "ERR5327199        symptoms     True -0.170252 -0.312261 -0.084945  \n",
       "ERR5327266        symptoms     True -0.148098  0.055881 -0.014650  \n",
       "ERR5327282     no_symptoms     True -0.022064  0.085922  0.224176  \n",
       "ERR5327284     no_symptoms     True  0.269120  0.007269  0.022519  "
      ]
     },
     "execution_count": 18,
     "metadata": {},
     "output_type": "execute_result"
    }
   ],
   "source": [
    "pcs_data_with_md = merged_df = pd.merge(metadata, pcs_data, left_index=True, right_index=True)\n",
    "pcs_data_with_md.head()"
   ]
  },
  {
   "cell_type": "code",
   "execution_count": 20,
   "id": "9ec22009-2d5c-4ad9-bac5-46a336e9bad1",
   "metadata": {
    "tags": []
   },
   "outputs": [
    {
     "data": {
      "text/plain": [
       "<Axes: xlabel='Axis 1', ylabel='Axis 2'>"
      ]
     },
     "execution_count": 20,
     "metadata": {},
     "output_type": "execute_result"
    },
    {
     "data": {
      "image/png": "[encoded data removed]",
      "text/plain": [
       "<Figure size 640x480 with 1 Axes>"
      ]
     },
     "metadata": {},
     "output_type": "display_data"
    }
   ],
   "source": [
    "scatterplot(data=pcs_data_with_md,\n",
    "            x='Axis 1',\n",
    "            y='Axis 2',\n",
    "            hue='is_urban',\n",
    "            palette='viridis')"
   ]
  },
  {
   "cell_type": "markdown",
   "id": "156367db-5afe-4cd8-826f-1502e9ea5e0c",
   "metadata": {},
   "source": [
    "## Differential abbundance"
   ]
  },
  {
   "cell_type": "code",
   "execution_count": 21,
   "id": "2a18b8ae-bf70-4270-abf6-8763ee2f4af7",
   "metadata": {
    "tags": []
   },
   "outputs": [],
   "source": [
    "from scipy.stats import shapiro, kruskal, f_oneway"
   ]
  },
  {
   "cell_type": "code",
   "execution_count": 26,
   "id": "5077639f-3847-4081-b7c5-1a23ccf17d24",
   "metadata": {
    "tags": []
   },
   "outputs": [],
   "source": [
    "data = q2.Artifact.load(f'{data_dir}/feature-table.qza').view(pd.DataFrame)"
   ]
  },
  {
   "cell_type": "code",
   "execution_count": 27,
   "id": "d51481ca-1b7b-4503-8307-9ea490f33a0e",
   "metadata": {
    "tags": []
   },
   "outputs": [
    {
     "data": {
      "text/html": [
       "<div>\n",
       "<style scoped>\n",
       "    .dataframe tbody tr th:only-of-type {\n",
       "        vertical-align: middle;\n",
       "    }\n",
       "\n",
       "    .dataframe tbody tr th {\n",
       "        vertical-align: top;\n",
       "    }\n",
       "\n",
       "    .dataframe thead th {\n",
       "        text-align: right;\n",
       "    }\n",
       "</style>\n",
       "<table border=\"1\" class=\"dataframe\">\n",
       "  <thead>\n",
       "    <tr style=\"text-align: right;\">\n",
       "      <th></th>\n",
       "      <th>beb8f130fd78d92d09b9aa1e37fec750</th>\n",
       "      <th>1a15e1ac583395ebef75c14409e87352</th>\n",
       "      <th>2cbfc59f930219d7c49d96415c2682f1</th>\n",
       "      <th>bdc03ca13c072d3ca6db327ed382cc7f</th>\n",
       "      <th>6e3a38e86a2e4f4fd6d507b533c8d30c</th>\n",
       "      <th>28601b0842b9b4c2914d17bc4a54ab03</th>\n",
       "      <th>e8cdb05dc6b8742138c410b76d2f9057</th>\n",
       "      <th>940e166f60beb613ec316fd209b9adb8</th>\n",
       "      <th>c84004c0020de7d6ff5bde95677e8688</th>\n",
       "      <th>f99a453bb41ad922be6277dbcfd21424</th>\n",
       "      <th>...</th>\n",
       "      <th>21f510f57ea3f8f04ac8bfb3f34ae2e4</th>\n",
       "      <th>583ac103f42e2cb9d5bba11e5d96ec60</th>\n",
       "      <th>2ecbe7c59774e051b1b21da8219776d1</th>\n",
       "      <th>3390ddf8f6746b87b58f1aaedb7df952</th>\n",
       "      <th>98f75c025283be256713485701c2844a</th>\n",
       "      <th>15c85517203d7043a89c8cb87ba7a217</th>\n",
       "      <th>8da95e9a86a7c3ec7ec3cbf234a1c7fc</th>\n",
       "      <th>81a4ccb828d7eb015da463cd68409532</th>\n",
       "      <th>5626797b16f53ea2bcc4748e6e671dc4</th>\n",
       "      <th>103a02c3b0481290e6f9827d32ee93cc</th>\n",
       "    </tr>\n",
       "  </thead>\n",
       "  <tbody>\n",
       "    <tr>\n",
       "      <th>ERR5327198</th>\n",
       "      <td>0.0</td>\n",
       "      <td>0.0</td>\n",
       "      <td>0.0</td>\n",
       "      <td>0.0</td>\n",
       "      <td>0.0</td>\n",
       "      <td>0.0</td>\n",
       "      <td>0.0</td>\n",
       "      <td>0.0</td>\n",
       "      <td>0.0</td>\n",
       "      <td>0.0</td>\n",
       "      <td>...</td>\n",
       "      <td>0.0</td>\n",
       "      <td>0.0</td>\n",
       "      <td>0.0</td>\n",
       "      <td>0.0</td>\n",
       "      <td>0.0</td>\n",
       "      <td>0.0</td>\n",
       "      <td>0.0</td>\n",
       "      <td>0.0</td>\n",
       "      <td>0.0</td>\n",
       "      <td>0.0</td>\n",
       "    </tr>\n",
       "    <tr>\n",
       "      <th>ERR5327199</th>\n",
       "      <td>0.0</td>\n",
       "      <td>0.0</td>\n",
       "      <td>0.0</td>\n",
       "      <td>0.0</td>\n",
       "      <td>0.0</td>\n",
       "      <td>0.0</td>\n",
       "      <td>0.0</td>\n",
       "      <td>0.0</td>\n",
       "      <td>0.0</td>\n",
       "      <td>0.0</td>\n",
       "      <td>...</td>\n",
       "      <td>0.0</td>\n",
       "      <td>0.0</td>\n",
       "      <td>0.0</td>\n",
       "      <td>0.0</td>\n",
       "      <td>0.0</td>\n",
       "      <td>0.0</td>\n",
       "      <td>0.0</td>\n",
       "      <td>0.0</td>\n",
       "      <td>0.0</td>\n",
       "      <td>0.0</td>\n",
       "    </tr>\n",
       "    <tr>\n",
       "      <th>ERR5327266</th>\n",
       "      <td>0.0</td>\n",
       "      <td>0.0</td>\n",
       "      <td>0.0</td>\n",
       "      <td>0.0</td>\n",
       "      <td>0.0</td>\n",
       "      <td>0.0</td>\n",
       "      <td>0.0</td>\n",
       "      <td>0.0</td>\n",
       "      <td>0.0</td>\n",
       "      <td>0.0</td>\n",
       "      <td>...</td>\n",
       "      <td>0.0</td>\n",
       "      <td>0.0</td>\n",
       "      <td>0.0</td>\n",
       "      <td>0.0</td>\n",
       "      <td>0.0</td>\n",
       "      <td>0.0</td>\n",
       "      <td>0.0</td>\n",
       "      <td>0.0</td>\n",
       "      <td>0.0</td>\n",
       "      <td>0.0</td>\n",
       "    </tr>\n",
       "    <tr>\n",
       "      <th>ERR5327282</th>\n",
       "      <td>0.0</td>\n",
       "      <td>0.0</td>\n",
       "      <td>0.0</td>\n",
       "      <td>0.0</td>\n",
       "      <td>0.0</td>\n",
       "      <td>0.0</td>\n",
       "      <td>0.0</td>\n",
       "      <td>0.0</td>\n",
       "      <td>0.0</td>\n",
       "      <td>0.0</td>\n",
       "      <td>...</td>\n",
       "      <td>0.0</td>\n",
       "      <td>0.0</td>\n",
       "      <td>0.0</td>\n",
       "      <td>0.0</td>\n",
       "      <td>0.0</td>\n",
       "      <td>0.0</td>\n",
       "      <td>0.0</td>\n",
       "      <td>0.0</td>\n",
       "      <td>0.0</td>\n",
       "      <td>0.0</td>\n",
       "    </tr>\n",
       "    <tr>\n",
       "      <th>ERR5327284</th>\n",
       "      <td>0.0</td>\n",
       "      <td>0.0</td>\n",
       "      <td>0.0</td>\n",
       "      <td>0.0</td>\n",
       "      <td>0.0</td>\n",
       "      <td>0.0</td>\n",
       "      <td>0.0</td>\n",
       "      <td>0.0</td>\n",
       "      <td>0.0</td>\n",
       "      <td>0.0</td>\n",
       "      <td>...</td>\n",
       "      <td>0.0</td>\n",
       "      <td>0.0</td>\n",
       "      <td>0.0</td>\n",
       "      <td>0.0</td>\n",
       "      <td>0.0</td>\n",
       "      <td>0.0</td>\n",
       "      <td>0.0</td>\n",
       "      <td>0.0</td>\n",
       "      <td>0.0</td>\n",
       "      <td>0.0</td>\n",
       "    </tr>\n",
       "  </tbody>\n",
       "</table>\n",
       "<p>5 rows × 1021 columns</p>\n",
       "</div>"
      ],
      "text/plain": [
       "            beb8f130fd78d92d09b9aa1e37fec750  \\\n",
       "ERR5327198                               0.0   \n",
       "ERR5327199                               0.0   \n",
       "ERR5327266                               0.0   \n",
       "ERR5327282                               0.0   \n",
       "ERR5327284                               0.0   \n",
       "\n",
       "            1a15e1ac583395ebef75c14409e87352  \\\n",
       "ERR5327198                               0.0   \n",
       "ERR5327199                               0.0   \n",
       "ERR5327266                               0.0   \n",
       "ERR5327282                               0.0   \n",
       "ERR5327284                               0.0   \n",
       "\n",
       "            2cbfc59f930219d7c49d96415c2682f1  \\\n",
       "ERR5327198                               0.0   \n",
       "ERR5327199                               0.0   \n",
       "ERR5327266                               0.0   \n",
       "ERR5327282                               0.0   \n",
       "ERR5327284                               0.0   \n",
       "\n",
       "            bdc03ca13c072d3ca6db327ed382cc7f  \\\n",
       "ERR5327198                               0.0   \n",
       "ERR5327199                               0.0   \n",
       "ERR5327266                               0.0   \n",
       "ERR5327282                               0.0   \n",
       "ERR5327284                               0.0   \n",
       "\n",
       "            6e3a38e86a2e4f4fd6d507b533c8d30c  \\\n",
       "ERR5327198                               0.0   \n",
       "ERR5327199                               0.0   \n",
       "ERR5327266                               0.0   \n",
       "ERR5327282                               0.0   \n",
       "ERR5327284                               0.0   \n",
       "\n",
       "            28601b0842b9b4c2914d17bc4a54ab03  \\\n",
       "ERR5327198                               0.0   \n",
       "ERR5327199                               0.0   \n",
       "ERR5327266                               0.0   \n",
       "ERR5327282                               0.0   \n",
       "ERR5327284                               0.0   \n",
       "\n",
       "            e8cdb05dc6b8742138c410b76d2f9057  \\\n",
       "ERR5327198                               0.0   \n",
       "ERR5327199                               0.0   \n",
       "ERR5327266                               0.0   \n",
       "ERR5327282                               0.0   \n",
       "ERR5327284                               0.0   \n",
       "\n",
       "            940e166f60beb613ec316fd209b9adb8  \\\n",
       "ERR5327198                               0.0   \n",
       "ERR5327199                               0.0   \n",
       "ERR5327266                               0.0   \n",
       "ERR5327282                               0.0   \n",
       "ERR5327284                               0.0   \n",
       "\n",
       "            c84004c0020de7d6ff5bde95677e8688  \\\n",
       "ERR5327198                               0.0   \n",
       "ERR5327199                               0.0   \n",
       "ERR5327266                               0.0   \n",
       "ERR5327282                               0.0   \n",
       "ERR5327284                               0.0   \n",
       "\n",
       "            f99a453bb41ad922be6277dbcfd21424  ...  \\\n",
       "ERR5327198                               0.0  ...   \n",
       "ERR5327199                               0.0  ...   \n",
       "ERR5327266                               0.0  ...   \n",
       "ERR5327282                               0.0  ...   \n",
       "ERR5327284                               0.0  ...   \n",
       "\n",
       "            21f510f57ea3f8f04ac8bfb3f34ae2e4  \\\n",
       "ERR5327198                               0.0   \n",
       "ERR5327199                               0.0   \n",
       "ERR5327266                               0.0   \n",
       "ERR5327282                               0.0   \n",
       "ERR5327284                               0.0   \n",
       "\n",
       "            583ac103f42e2cb9d5bba11e5d96ec60  \\\n",
       "ERR5327198                               0.0   \n",
       "ERR5327199                               0.0   \n",
       "ERR5327266                               0.0   \n",
       "ERR5327282                               0.0   \n",
       "ERR5327284                               0.0   \n",
       "\n",
       "            2ecbe7c59774e051b1b21da8219776d1  \\\n",
       "ERR5327198                               0.0   \n",
       "ERR5327199                               0.0   \n",
       "ERR5327266                               0.0   \n",
       "ERR5327282                               0.0   \n",
       "ERR5327284                               0.0   \n",
       "\n",
       "            3390ddf8f6746b87b58f1aaedb7df952  \\\n",
       "ERR5327198                               0.0   \n",
       "ERR5327199                               0.0   \n",
       "ERR5327266                               0.0   \n",
       "ERR5327282                               0.0   \n",
       "ERR5327284                               0.0   \n",
       "\n",
       "            98f75c025283be256713485701c2844a  \\\n",
       "ERR5327198                               0.0   \n",
       "ERR5327199                               0.0   \n",
       "ERR5327266                               0.0   \n",
       "ERR5327282                               0.0   \n",
       "ERR5327284                               0.0   \n",
       "\n",
       "            15c85517203d7043a89c8cb87ba7a217  \\\n",
       "ERR5327198                               0.0   \n",
       "ERR5327199                               0.0   \n",
       "ERR5327266                               0.0   \n",
       "ERR5327282                               0.0   \n",
       "ERR5327284                               0.0   \n",
       "\n",
       "            8da95e9a86a7c3ec7ec3cbf234a1c7fc  \\\n",
       "ERR5327198                               0.0   \n",
       "ERR5327199                               0.0   \n",
       "ERR5327266                               0.0   \n",
       "ERR5327282                               0.0   \n",
       "ERR5327284                               0.0   \n",
       "\n",
       "            81a4ccb828d7eb015da463cd68409532  \\\n",
       "ERR5327198                               0.0   \n",
       "ERR5327199                               0.0   \n",
       "ERR5327266                               0.0   \n",
       "ERR5327282                               0.0   \n",
       "ERR5327284                               0.0   \n",
       "\n",
       "            5626797b16f53ea2bcc4748e6e671dc4  103a02c3b0481290e6f9827d32ee93cc  \n",
       "ERR5327198                               0.0                               0.0  \n",
       "ERR5327199                               0.0                               0.0  \n",
       "ERR5327266                               0.0                               0.0  \n",
       "ERR5327282                               0.0                               0.0  \n",
       "ERR5327284                               0.0                               0.0  \n",
       "\n",
       "[5 rows x 1021 columns]"
      ]
     },
     "execution_count": 27,
     "metadata": {},
     "output_type": "execute_result"
    }
   ],
   "source": [
    "data.head()"
   ]
  },
  {
   "cell_type": "code",
   "execution_count": 28,
   "id": "a7f47baf-63a6-4138-8754-a262653940a0",
   "metadata": {
    "tags": []
   },
   "outputs": [
    {
     "name": "stdout",
     "output_type": "stream",
     "text": [
      "beb8f130fd78d92d09b9aa1e37fec750    2.0\n",
      "1a15e1ac583395ebef75c14409e87352    9.0\n",
      "2cbfc59f930219d7c49d96415c2682f1    2.0\n",
      "dtype: float64\n"
     ]
    },
    {
     "data": {
      "image/png": "[encoded data removed]",
      "text/plain": [
       "<Figure size 1000x300 with 1 Axes>"
      ]
     },
     "metadata": {},
     "output_type": "display_data"
    },
    {
     "data": {
      "image/png": "[encoded data removed]",
      "text/plain": [
       "<Figure size 1000x300 with 1 Axes>"
      ]
     },
     "metadata": {},
     "output_type": "display_data"
    },
    {
     "data": {
      "image/png": "[encoded data removed]",
      "text/plain": [
       "<Figure size 1000x300 with 1 Axes>"
      ]
     },
     "metadata": {},
     "output_type": "display_data"
    }
   ],
   "source": [
    "# Get the top three most abundant sequence variants\n",
    "# based on sum of observed sequence counts. Create a dataframe of ASV counts \n",
    "# with samples as rows and sequence variants as columns.\n",
    "top_three = data[data.sum()[:3].index]\n",
    "print(top_three.sum())\n",
    "\n",
    "for asv in top_three.columns:\n",
    "    plt.figure(figsize=(10, 3))\n",
    "    plt.hist(top_three[asv], bins=100, edgecolor='black')\n",
    "    plt.title(f\"Histogram of Sample Counts for ASV: {asv}\")\n",
    "    plt.xlabel(\"ASV Count\")\n",
    "    plt.ylabel(\"Number of Samples\")\n",
    "    plt.show()\n",
    "# Your turn to try! Now view each of them as a histogram, as number of samples per ASV.\n"
   ]
  },
  {
   "cell_type": "code",
   "execution_count": 29,
   "id": "078c86da-3846-470e-b272-639f642c3c32",
   "metadata": {
    "tags": []
   },
   "outputs": [],
   "source": [
    "n = 15\n",
    "\n",
    "# draw n ASVs out of the original DataFrame\n",
    "data_samp = data.sample(n=n, axis=1, random_state=234)\n",
    "\n",
    "# create a new DataFrame with three columns (sample, ASV, abundance)\n",
    "col_names = {'level_0': 'sample', 'level_1': 'asv', 0: 'count'}\n",
    "data_plot = data_samp.stack().reset_index().rename(columns=col_names)\n",
    "\n",
    "# make sure the shape is correct (no. of rows should be equal to the size of our random \n",
    "# sample multiplied by number of samples)\n",
    "assert data_plot.shape[0] == n * data_samp.shape[0], 'The new DataFrame has an incorrect no. of rows.'"
   ]
  },
  {
   "cell_type": "code",
   "execution_count": 30,
   "id": "62d57d1e-0e00-410e-ad3e-1ec3e86dc889",
   "metadata": {
    "tags": []
   },
   "outputs": [
    {
     "data": {
      "text/html": [
       "<div>\n",
       "<style scoped>\n",
       "    .dataframe tbody tr th:only-of-type {\n",
       "        vertical-align: middle;\n",
       "    }\n",
       "\n",
       "    .dataframe tbody tr th {\n",
       "        vertical-align: top;\n",
       "    }\n",
       "\n",
       "    .dataframe thead th {\n",
       "        text-align: right;\n",
       "    }\n",
       "</style>\n",
       "<table border=\"1\" class=\"dataframe\">\n",
       "  <thead>\n",
       "    <tr style=\"text-align: right;\">\n",
       "      <th></th>\n",
       "      <th>sample</th>\n",
       "      <th>asv</th>\n",
       "      <th>count</th>\n",
       "    </tr>\n",
       "  </thead>\n",
       "  <tbody>\n",
       "    <tr>\n",
       "      <th>0</th>\n",
       "      <td>ERR5327198</td>\n",
       "      <td>f39c0d3fbd894b011a83ef471fa88201</td>\n",
       "      <td>0.0</td>\n",
       "    </tr>\n",
       "    <tr>\n",
       "      <th>1</th>\n",
       "      <td>ERR5327198</td>\n",
       "      <td>53169f3a2e83ee3517a41fcccf9bcd1b</td>\n",
       "      <td>0.0</td>\n",
       "    </tr>\n",
       "    <tr>\n",
       "      <th>2</th>\n",
       "      <td>ERR5327198</td>\n",
       "      <td>18fe8be52b3c21f154e616007372e2ae</td>\n",
       "      <td>0.0</td>\n",
       "    </tr>\n",
       "    <tr>\n",
       "      <th>3</th>\n",
       "      <td>ERR5327198</td>\n",
       "      <td>42542607a64e7d3a94e3ebea7095b953</td>\n",
       "      <td>0.0</td>\n",
       "    </tr>\n",
       "    <tr>\n",
       "      <th>4</th>\n",
       "      <td>ERR5327198</td>\n",
       "      <td>bd28d89dcf8bdd668b5bea2f7cecce85</td>\n",
       "      <td>0.0</td>\n",
       "    </tr>\n",
       "  </tbody>\n",
       "</table>\n",
       "</div>"
      ],
      "text/plain": [
       "       sample                               asv  count\n",
       "0  ERR5327198  f39c0d3fbd894b011a83ef471fa88201    0.0\n",
       "1  ERR5327198  53169f3a2e83ee3517a41fcccf9bcd1b    0.0\n",
       "2  ERR5327198  18fe8be52b3c21f154e616007372e2ae    0.0\n",
       "3  ERR5327198  42542607a64e7d3a94e3ebea7095b953    0.0\n",
       "4  ERR5327198  bd28d89dcf8bdd668b5bea2f7cecce85    0.0"
      ]
     },
     "execution_count": 30,
     "metadata": {},
     "output_type": "execute_result"
    }
   ],
   "source": [
    "data_plot.head()"
   ]
  },
  {
   "cell_type": "markdown",
   "id": "2c9fd833-149e-41b2-b09c-d0d4065e0776",
   "metadata": {},
   "source": [
    "# ANCOMBC\n",
    "filter"
   ]
  },
  {
   "cell_type": "code",
   "execution_count": 10,
   "id": "af5b3ef8-092d-41f2-8c74-76a51eb2993f",
   "metadata": {
    "tags": []
   },
   "outputs": [
    {
     "name": "stdout",
     "output_type": "stream",
     "text": [
      "Usage: \u001b[94mqiime feature-table filter-features\u001b[0m [OPTIONS]\n",
      "\n",
      "  Filter features from table based on frequency and/or metadata. Any samples\n",
      "  with a frequency of zero after feature filtering will also be removed. See\n",
      "  the filtering tutorial on https://docs.qiime2.org for additional details.\n",
      "\n",
      "\u001b[1mInputs\u001b[0m:\n",
      "  \u001b[94m\u001b[4m--i-table\u001b[0m ARTIFACT \u001b[32mFeatureTable[Frequency]\u001b[0m\n",
      "                       The feature table from which features should be\n",
      "                       filtered.                                    \u001b[35m[required]\u001b[0m\n",
      "\u001b[1mParameters\u001b[0m:\n",
      "  \u001b[94m--p-min-frequency\u001b[0m INTEGER\n",
      "                       The minimum total frequency that a feature must have\n",
      "                       to be retained.                            \u001b[35m[default: 0]\u001b[0m\n",
      "  \u001b[94m--p-max-frequency\u001b[0m INTEGER\n",
      "                       The maximum total frequency that a feature can have to\n",
      "                       be retained. If no value is provided this will default\n",
      "                       to infinity (i.e., no maximum frequency filter will be\n",
      "                       applied).                                    \u001b[35m[optional]\u001b[0m\n",
      "  \u001b[94m--p-min-samples\u001b[0m INTEGER\n",
      "                       The minimum number of samples that a feature must be\n",
      "                       observed in to be retained.                \u001b[35m[default: 0]\u001b[0m\n",
      "  \u001b[94m--p-max-samples\u001b[0m INTEGER\n",
      "                       The maximum number of samples that a feature can be\n",
      "                       observed in to be retained. If no value is provided\n",
      "                       this will default to infinity (i.e., no maximum sample\n",
      "                       filter will be applied).                     \u001b[35m[optional]\u001b[0m\n",
      "  \u001b[94m--m-metadata-file\u001b[0m METADATA...\n",
      "    (multiple          Feature metadata used with `where` parameter when\n",
      "     arguments will    selecting features to retain, or with `\u001b[4mexclude-ids\u001b[0m`\n",
      "     be merged)        when selecting features to discard.          \u001b[35m[optional]\u001b[0m\n",
      "  \u001b[94m--p-where\u001b[0m TEXT       SQLite WHERE clause specifying feature metadata\n",
      "                       criteria that must be met to be included in the\n",
      "                       filtered feature table. If not provided, all features\n",
      "                       in `metadata` that are also in the feature table will\n",
      "                       be retained.                                 \u001b[35m[optional]\u001b[0m\n",
      "  \u001b[94m--p-exclude-ids\u001b[0m / \u001b[94m--p-no-exclude-ids\u001b[0m\n",
      "                       If true, the features selected by `metadata` or\n",
      "                       `where` parameters will be excluded from the filtered\n",
      "                       table instead of being retained.       \u001b[35m[default: False]\u001b[0m\n",
      "  \u001b[94m--p-filter-empty-samples\u001b[0m / \u001b[94m--p-no-filter-empty-samples\u001b[0m\n",
      "                       If true, drop any samples where none of the retained\n",
      "                       features are present.                   \u001b[35m[default: True]\u001b[0m\n",
      "  \u001b[94m--p-allow-empty-table\u001b[0m / \u001b[94m--p-no-allow-empty-table\u001b[0m\n",
      "                       If true, the filtered table may be empty. Default\n",
      "                       behavior is to raise an error if the filtered table is\n",
      "                       empty.                                 \u001b[35m[default: False]\u001b[0m\n",
      "\u001b[1mOutputs\u001b[0m:\n",
      "  \u001b[94m\u001b[4m--o-filtered-table\u001b[0m ARTIFACT \u001b[32mFeatureTable[Frequency]\u001b[0m\n",
      "                       The resulting feature table filtered by feature.\n",
      "                                                                    \u001b[35m[required]\u001b[0m\n",
      "\u001b[1mMiscellaneous\u001b[0m:\n",
      "  \u001b[94m--output-dir\u001b[0m PATH    Output unspecified results to a directory\n",
      "  \u001b[94m--verbose\u001b[0m / \u001b[94m--quiet\u001b[0m  Display verbose output to stdout and/or stderr during\n",
      "                       execution of this action. Or silence output if\n",
      "                       execution is successful (silence is golden).\n",
      "  \u001b[94m--example-data\u001b[0m PATH  Write example data and exit.\n",
      "  \u001b[94m--citations\u001b[0m          Show citations and exit.\n",
      "  \u001b[94m--help\u001b[0m               Show this message and exit.\n",
      "\n",
      "\u001b[1mExamples\u001b[0m:\n",
      "  # ### example: filter features min samples\n",
      "  qiime feature-table filter-features \\\n",
      "    --i-table feature-table.qza \\\n",
      "    --p-min-samples 2 \\\n",
      "    --o-filtered-table filtered-table.qza\n",
      "  \n",
      "\n",
      "\u001b[33m                    There was a problem with the command:                     \u001b[0m\n",
      "\u001b[31m\u001b[1m (1/1) Invalid value for '--i-table': data/filtered-feature-table.qza does not\n",
      "  exist.\u001b[0m\n",
      "\u001b[0m"
     ]
    }
   ],
   "source": [
    "! qiime feature-table filter-features \\\n",
    "    --i-table $data_dir/filtered-feature-table.qza \\\n",
    "    --p-min-frequency 25 \\\n",
    "    --p-min-samples 4 \\\n",
    "    --o-filtered-table ./table_abund.qza"
   ]
  },
  {
   "cell_type": "code",
   "execution_count": 7,
   "id": "1fdf0027-49fd-4834-ba53-c688dee324db",
   "metadata": {
    "tags": []
   },
   "outputs": [
    {
     "name": "stdout",
     "output_type": "stream",
     "text": [
      "Usage: \u001b[94mqiime taxa collapse\u001b[0m [OPTIONS]\n",
      "\n",
      "  Collapse groups of features that have the same taxonomic assignment through\n",
      "  the specified level. The frequencies of all features will be summed when\n",
      "  they are collapsed.\n",
      "\n",
      "\u001b[1mInputs\u001b[0m:\n",
      "  \u001b[94m\u001b[4m--i-table\u001b[0m ARTIFACT \u001b[32mFeatureTable[Frequency]\u001b[0m\n",
      "                         Feature table to be collapsed.             \u001b[35m[required]\u001b[0m\n",
      "  \u001b[94m\u001b[4m--i-taxonomy\u001b[0m ARTIFACT \u001b[32mFeatureData[Taxonomy]\u001b[0m\n",
      "                         Taxonomic annotations for features in the provided\n",
      "                         feature table. All features in the feature table must\n",
      "                         have a corresponding taxonomic annotation. Taxonomic\n",
      "                         annotations that are not present in the feature table\n",
      "                         will be ignored.                           \u001b[35m[required]\u001b[0m\n",
      "\u001b[1mParameters\u001b[0m:\n",
      "  \u001b[94m\u001b[4m--p-level\u001b[0m INTEGER      The taxonomic level at which the features should be\n",
      "                         collapsed. All ouput features will have exactly this\n",
      "                         many levels of taxonomic annotation.       \u001b[35m[required]\u001b[0m\n",
      "\u001b[1mOutputs\u001b[0m:\n",
      "  \u001b[94m\u001b[4m--o-collapsed-table\u001b[0m ARTIFACT \u001b[32mFeatureTable[Frequency]\u001b[0m\n",
      "                         The resulting feature table, where all features are\n",
      "                         now taxonomic annotations with the user-specified\n",
      "                         number of levels.                          \u001b[35m[required]\u001b[0m\n",
      "\u001b[1mMiscellaneous\u001b[0m:\n",
      "  \u001b[94m--output-dir\u001b[0m PATH      Output unspecified results to a directory\n",
      "  \u001b[94m--verbose\u001b[0m / \u001b[94m--quiet\u001b[0m    Display verbose output to stdout and/or stderr\n",
      "                         during execution of this action. Or silence output if\n",
      "                         execution is successful (silence is golden).\n",
      "  \u001b[94m--example-data\u001b[0m PATH    Write example data and exit.\n",
      "  \u001b[94m--citations\u001b[0m            Show citations and exit.\n",
      "  \u001b[94m--help\u001b[0m                 Show this message and exit.\n",
      "\n",
      "\u001b[1mExamples\u001b[0m:\n",
      "  # ### example: collapse\n",
      "  qiime taxa collapse \\\n",
      "    --i-table table.qza \\\n",
      "    --i-taxonomy taxonomy.qza \\\n",
      "    --p-level 6 \\\n",
      "    --o-collapsed-table collapsed-table-l6.qza\n",
      "  \n",
      "\n",
      "\u001b[33m                    There was a problem with the command:                     \u001b[0m\n",
      "\u001b[31m\u001b[1m (1/1) Invalid value for '--i-taxonomy':\n",
      "  /taxonomy_classification/taxonomy_unite_dynamic_s_all.qza does not exist.\u001b[0m\n",
      "\u001b[0m"
     ]
    }
   ],
   "source": [
    "! qiime taxa collapse \\\n",
    "    --i-table ./table_abund.qza \\\n",
    "    --i-taxonomy $data_dir/taxonomy_classification/taxonomy_unite_dynamic_s_all.qza \\\n",
    "    --p-level 6 \\\n",
    "    --o-collapsed-table ./table_abund_l6.qza"
   ]
  },
  {
   "cell_type": "markdown",
   "id": "b6046594-5530-465f-8575-13d11c83bd99",
   "metadata": {},
   "source": [
    "### urban_rural comparison"
   ]
  },
  {
   "cell_type": "code",
   "execution_count": 8,
   "id": "51bef8b0-e57d-4600-9dc6-85d78f5da7a4",
   "metadata": {
    "tags": []
   },
   "outputs": [
    {
     "name": "stdout",
     "output_type": "stream",
     "text": [
      "\u001b[31m\u001b[1mThere was an issue with loading the file /metadata/fungut_metadata_processed.tsv as metadata:\n",
      "\n",
      "  Metadata file path doesn't exist, or the path points to something other than a file. Please check that the path exists, has read permissions, and points to a regular file (not a directory): /metadata/fungut_metadata_processed.tsv\n",
      "\n",
      "  There may be more errors present in the metadata file. To get a full report, sample/feature metadata files can be validated with Keemei: https://keemei.qiime2.org\n",
      "\n",
      "  Find details on QIIME 2 metadata requirements here: https://docs.qiime2.org/2024.5/tutorials/metadata/\u001b[0m\n",
      "\n",
      "\u001b[0m\u001b[32mSaved Visualization to: ./ancombc_urban_da_barplot.qzv\u001b[0m\n",
      "\u001b[0m\u001b[32mSaved Visualization to: ./ancombc_urban_results.qzv\u001b[0m\n",
      "\u001b[0m"
     ]
    }
   ],
   "source": [
    "# Run ANCOM-BC\n",
    "! qiime composition ancombc \\\n",
    "    --i-table ./table_abund_l6.qza \\\n",
    "    --m-metadata-file $data_dir/metadata/fungut_metadata_processed.tsv \\\n",
    "    --p-formula is_urban \\\n",
    "    --o-differentials ./ancombc_urban_differentials.qza\n",
    "\n",
    "# Generate a barplot of differentially abundant taxa between environments\n",
    "! qiime composition da-barplot \\\n",
    "    --i-data ./ancombc_urban_differentials.qza \\\n",
    "    --o-visualization ./ancombc_urban_da_barplot.qzv\n",
    "\n",
    "# Generate a table of these same values for all taxa\n",
    "! qiime composition tabulate \\\n",
    "    --i-data ./ancombc_urban_differentials.qza \\\n",
    "    --o-visualization ./ancombc_urban_results.qzv"
   ]
  },
  {
   "cell_type": "code",
   "execution_count": 5,
   "id": "0b45070d-5639-49a2-ac76-1c2e020f5eaa",
   "metadata": {
    "tags": []
   },
   "outputs": [
    {
     "data": {
      "text/html": [
       "<div><img onload=\"(function(div, url){\n",
       "if (typeof require !== 'undefined') {\n",
       "    var baseURL = require.toUrl('').split('/').slice(0, -2).join('/');\n",
       "} else {\n",
       "    var baseURL = JSON.parse(\n",
       "        document.getElementById('jupyter-config-data').innerHTML\n",
       "    ).baseUrl.slice(0, -1);\n",
       "}\n",
       "url = baseURL + url;\n",
       "fetch(url).then(function(res) {\n",
       "    if (res.status === 404) {\n",
       "        div.innerHTML = 'Install QIIME 2 Jupyter extension with:<br />' +\n",
       "                        '<code>jupyter serverextension enable --py qiime2' +\n",
       "                        ' --sys-prefix</code><br />then restart your server.' +\n",
       "                        '<br /><br />(Interactive output not available on ' +\n",
       "                        'static notebook viewer services like nbviewer.)';\n",
       "    } else if (res.status === 409) {\n",
       "        div.innerHTML = 'Visualization no longer in scope. Re-run this cell' +\n",
       "                        ' to see the visualization.';\n",
       "    } else if (res.ok) {\n",
       "        url = res.url;\n",
       "        div.innerHTML = '<iframe src=\\'' + url + '\\' style=\\'' +\n",
       "                        'width: 100%; height: 700px; border: 0;\\'>' +\n",
       "                        '</iframe><hr />Open in a: <a href=\\'' + url + '\\'' +\n",
       "                        ' target=\\'_blank\\'>new window</a>'\n",
       "    } else {\n",
       "        div.innerHTML = 'Something has gone wrong. Check notebook server for' +\n",
       "                        ' errors.';\n",
       "    }\n",
       "});\n",
       "})(this.parentElement, '/qiime2/redirect?location=/tmp/qiime2/jovyan/data/00209e7b-b2bb-4421-a3ec-c50de0315c6e')\" src=\"data:image/gif;base64,R0lGODlhAQABAIAAAP///wAAACH5BAEAAAAALAAAAAABAAEAAAICRAEAOw==\" /></div>"
      ],
      "text/plain": [
       "<visualization: Visualization uuid: 00209e7b-b2bb-4421-a3ec-c50de0315c6e>"
      ]
     },
     "execution_count": 5,
     "metadata": {},
     "output_type": "execute_result"
    }
   ],
   "source": [
    "Visualization.load(\"./ancombc_urban_da_barplot.qzv\")"
   ]
  },
  {
   "cell_type": "markdown",
   "id": "dc58a170-d40d-4f51-85e1-9439d8d9c094",
   "metadata": {},
   "source": [
    "### IBD comparison"
   ]
  },
  {
   "cell_type": "code",
   "execution_count": 39,
   "id": "a8a6d8ad-f73f-46d6-8bad-cb4ce9b857f9",
   "metadata": {
    "tags": []
   },
   "outputs": [
    {
     "name": "stdout",
     "output_type": "stream",
     "text": [
      "\u001b[32mSaved FeatureData[DifferentialAbundance] to: ./ancombc_ibd_differentials.qza\u001b[0m\n",
      "\u001b[0m\u001b[32mSaved Visualization to: ./ancombc_ibd_da_barplot.qzv\u001b[0m\n",
      "\u001b[0m\u001b[32mSaved Visualization to: ./ancombc_ibd_results.qzv\u001b[0m\n",
      "\u001b[0m"
     ]
    }
   ],
   "source": [
    "# Run ANCOM-BC\n",
    "! qiime composition ancombc \\\n",
    "    --i-table ./table_abund_l6.qza \\\n",
    "    --m-metadata-file $data_dir/metadata/fungut_metadata_processed.tsv \\\n",
    "    --p-formula ibd_symptoms \\\n",
    "    --o-differentials ./ancombc_ibd_differentials.qza\n",
    "\n",
    "# Generate a barplot of differentially abundant taxa between environments\n",
    "! qiime composition da-barplot \\\n",
    "    --i-data ./ancombc_ibd_differentials.qza \\\n",
    "    --o-visualization ./ancombc_ibd_da_barplot.qzv\n",
    "\n",
    "# Generate a table of these same values for all taxa\n",
    "! qiime composition tabulate \\\n",
    "    --i-data ./ancombc_ibd_differentials.qza \\\n",
    "    --o-visualization ./ancombc_ibd_results.qzv"
   ]
  },
  {
   "cell_type": "code",
   "execution_count": 41,
   "id": "d5af1dfd-2ce7-40f7-b778-cfab090b98b1",
   "metadata": {
    "tags": []
   },
   "outputs": [
    {
     "data": {
      "text/html": [
       "<div><img onload=\"(function(div, url){\n",
       "if (typeof require !== 'undefined') {\n",
       "    var baseURL = require.toUrl('').split('/').slice(0, -2).join('/');\n",
       "} else {\n",
       "    var baseURL = JSON.parse(\n",
       "        document.getElementById('jupyter-config-data').innerHTML\n",
       "    ).baseUrl.slice(0, -1);\n",
       "}\n",
       "url = baseURL + url;\n",
       "fetch(url).then(function(res) {\n",
       "    if (res.status === 404) {\n",
       "        div.innerHTML = 'Install QIIME 2 Jupyter extension with:<br />' +\n",
       "                        '<code>jupyter serverextension enable --py qiime2' +\n",
       "                        ' --sys-prefix</code><br />then restart your server.' +\n",
       "                        '<br /><br />(Interactive output not available on ' +\n",
       "                        'static notebook viewer services like nbviewer.)';\n",
       "    } else if (res.status === 409) {\n",
       "        div.innerHTML = 'Visualization no longer in scope. Re-run this cell' +\n",
       "                        ' to see the visualization.';\n",
       "    } else if (res.ok) {\n",
       "        url = res.url;\n",
       "        div.innerHTML = '<iframe src=\\'' + url + '\\' style=\\'' +\n",
       "                        'width: 100%; height: 700px; border: 0;\\'>' +\n",
       "                        '</iframe><hr />Open in a: <a href=\\'' + url + '\\'' +\n",
       "                        ' target=\\'_blank\\'>new window</a>'\n",
       "    } else {\n",
       "        div.innerHTML = 'Something has gone wrong. Check notebook server for' +\n",
       "                        ' errors.';\n",
       "    }\n",
       "});\n",
       "})(this.parentElement, '/qiime2/redirect?location=/tmp/qiime2/jovyan/data/f0024657-60c2-4817-93d0-42ace4501682')\" src=\"data:image/gif;base64,R0lGODlhAQABAIAAAP///wAAACH5BAEAAAAALAAAAAABAAEAAAICRAEAOw==\" /></div>"
      ],
      "text/plain": [
       "<visualization: Visualization uuid: f0024657-60c2-4817-93d0-42ace4501682>"
      ]
     },
     "execution_count": 41,
     "metadata": {},
     "output_type": "execute_result"
    }
   ],
   "source": [
    "Visualization.load(\"./ancombc_ibd_da_barplot.qzv\")"
   ]
  },
  {
   "cell_type": "markdown",
   "id": "94747014-eb2d-4be0-b5cd-68521784c102",
   "metadata": {
    "tags": []
   },
   "source": [
    "### Gluten comparison"
   ]
  },
  {
   "cell_type": "code",
   "execution_count": 42,
   "id": "5d9a92c7-4dd4-46bd-af17-07f56e700b64",
   "metadata": {
    "tags": []
   },
   "outputs": [
    {
     "name": "stdout",
     "output_type": "stream",
     "text": [
      "\u001b[32mSaved FeatureData[DifferentialAbundance] to: ./ancombc_gluten_differentials.qza\u001b[0m\n",
      "\u001b[0m\u001b[32mSaved Visualization to: ./ancombc_gluten_da_barplot.qzv\u001b[0m\n",
      "\u001b[0m\u001b[32mSaved Visualization to: ./ancombc_gluten_results.qzv\u001b[0m\n",
      "\u001b[0m"
     ]
    }
   ],
   "source": [
    "# Run ANCOM-BC\n",
    "! qiime composition ancombc \\\n",
    "    --i-table ./table_abund_l6.qza \\\n",
    "    --m-metadata-file $data_dir/metadata/fungut_metadata_processed.tsv \\\n",
    "    --p-formula gluten_symptoms \\\n",
    "    --o-differentials ./ancombc_gluten_differentials.qza\n",
    "\n",
    "# Generate a barplot of differentially abundant taxa between environments\n",
    "! qiime composition da-barplot \\\n",
    "    --i-data ./ancombc_gluten_differentials.qza \\\n",
    "    --o-visualization ./ancombc_gluten_da_barplot.qzv\n",
    "\n",
    "# Generate a table of these same values for all taxa\n",
    "! qiime composition tabulate \\\n",
    "    --i-data ./ancombc_gluten_differentials.qza \\\n",
    "    --o-visualization ./ancombc_gluten_results.qzv"
   ]
  },
  {
   "cell_type": "code",
   "execution_count": 43,
   "id": "4ab1bf6c-a6ac-42fc-abef-02512d02715d",
   "metadata": {
    "tags": []
   },
   "outputs": [
    {
     "data": {
      "text/html": [
       "<div><img onload=\"(function(div, url){\n",
       "if (typeof require !== 'undefined') {\n",
       "    var baseURL = require.toUrl('').split('/').slice(0, -2).join('/');\n",
       "} else {\n",
       "    var baseURL = JSON.parse(\n",
       "        document.getElementById('jupyter-config-data').innerHTML\n",
       "    ).baseUrl.slice(0, -1);\n",
       "}\n",
       "url = baseURL + url;\n",
       "fetch(url).then(function(res) {\n",
       "    if (res.status === 404) {\n",
       "        div.innerHTML = 'Install QIIME 2 Jupyter extension with:<br />' +\n",
       "                        '<code>jupyter serverextension enable --py qiime2' +\n",
       "                        ' --sys-prefix</code><br />then restart your server.' +\n",
       "                        '<br /><br />(Interactive output not available on ' +\n",
       "                        'static notebook viewer services like nbviewer.)';\n",
       "    } else if (res.status === 409) {\n",
       "        div.innerHTML = 'Visualization no longer in scope. Re-run this cell' +\n",
       "                        ' to see the visualization.';\n",
       "    } else if (res.ok) {\n",
       "        url = res.url;\n",
       "        div.innerHTML = '<iframe src=\\'' + url + '\\' style=\\'' +\n",
       "                        'width: 100%; height: 700px; border: 0;\\'>' +\n",
       "                        '</iframe><hr />Open in a: <a href=\\'' + url + '\\'' +\n",
       "                        ' target=\\'_blank\\'>new window</a>'\n",
       "    } else {\n",
       "        div.innerHTML = 'Something has gone wrong. Check notebook server for' +\n",
       "                        ' errors.';\n",
       "    }\n",
       "});\n",
       "})(this.parentElement, '/qiime2/redirect?location=/tmp/qiime2/jovyan/data/0dace789-7ee1-4f0e-a7eb-c3e233aef242')\" src=\"data:image/gif;base64,R0lGODlhAQABAIAAAP///wAAACH5BAEAAAAALAAAAAABAAEAAAICRAEAOw==\" /></div>"
      ],
      "text/plain": [
       "<visualization: Visualization uuid: 0dace789-7ee1-4f0e-a7eb-c3e233aef242>"
      ]
     },
     "execution_count": 43,
     "metadata": {},
     "output_type": "execute_result"
    }
   ],
   "source": [
    "Visualization.load(\"./ancombc_gluten_da_barplot.qzv\")"
   ]
  },
  {
   "cell_type": "code",
   "execution_count": null,
   "id": "c8fd7c7d-0f13-4c19-9fe8-d0c293288b6f",
   "metadata": {},
   "outputs": [],
   "source": []
  }
 ],
 "metadata": {
  "kernelspec": {
   "display_name": "QIIME 2",
   "language": "python",
   "name": "python3"
  },
  "language_info": {
   "codemirror_mode": {
    "name": "ipython",
    "version": 3
   },
   "file_extension": ".py",
   "mimetype": "text/x-python",
   "name": "python",
   "nbconvert_exporter": "python",
   "pygments_lexer": "ipython3",
   "version": "3.9.19"
  }
 },
 "nbformat": 4,
 "nbformat_minor": 5
}
