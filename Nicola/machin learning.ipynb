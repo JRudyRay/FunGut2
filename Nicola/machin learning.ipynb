{
 "cells": [
  {
   "cell_type": "markdown",
   "id": "fa44c477-b86e-4616-a9bc-7a34d8a55584",
   "metadata": {},
   "source": [
    "# Primary analyses of our sequences"
   ]
  },
  {
   "cell_type": "code",
   "execution_count": 1,
   "id": "babb3bf0-a258-4eec-8547-713c3534550e",
   "metadata": {
    "tags": []
   },
   "outputs": [],
   "source": [
    "import os\n",
    "import sys\n",
    "import pandas as pd\n",
    "import qiime2 as q2\n",
    "from qiime2 import Visualization\n",
    "import matplotlib.pyplot as plt\n",
    "%matplotlib inline\n",
    "\n",
    "# Define the data directory\n",
    "data_dir = '/home/jovyan/FunGut2/full-pipeline/data'"
   ]
  },
  {
   "cell_type": "code",
   "execution_count": 2,
   "id": "1b15e1b8-4679-493d-8f1d-737a4e8b6a34",
   "metadata": {
    "tags": []
   },
   "outputs": [],
   "source": [
    "import os"
   ]
  },
  {
   "cell_type": "code",
   "execution_count": 4,
   "id": "eab90f7a-9a8e-4495-a6b6-ecf02e8920f5",
   "metadata": {
    "tags": []
   },
   "outputs": [
    {
     "name": "stdout",
     "output_type": "stream",
     "text": [
      "/home/jovyan/FunGut2/Nicola\n"
     ]
    }
   ],
   "source": [
    "!pwd"
   ]
  },
  {
   "cell_type": "code",
   "execution_count": 20,
   "id": "0989b6a4-852d-4131-9fd3-857f7781c474",
   "metadata": {
    "tags": []
   },
   "outputs": [
    {
     "name": "stdout",
     "output_type": "stream",
     "text": [
      "Usage: \u001b[94mqiime sample-classifier classify-samples\u001b[0m [OPTIONS]\n",
      "\n",
      "  Predicts a categorical sample metadata column using a supervised learning\n",
      "  classifier. Splits input data into training and test sets. The training set\n",
      "  is used to train and test the estimator using a stratified k-fold cross-\n",
      "  validation scheme. This includes optional steps for automated feature\n",
      "  extraction and hyperparameter optimization. The test set validates\n",
      "  classification accuracy of the optimized estimator. Outputs classification\n",
      "  results for test set. For more details on the learning algorithm, see\n",
      "  http://scikit-learn.org/stable/supervised_learning.html\n",
      "\n",
      "\u001b[1mInputs\u001b[0m:\n",
      "  \u001b[94m\u001b[4m--i-table\u001b[0m ARTIFACT \u001b[32mFeatureTable[Frequency | RelativeFrequency |\u001b[0m\n",
      "    \u001b[32mPresenceAbsence | Composition]\u001b[0m\n",
      "                          Feature table containing all features that should\n",
      "                          be used for target prediction.            \u001b[35m[required]\u001b[0m\n",
      "\u001b[1mParameters\u001b[0m:\n",
      "  \u001b[94m\u001b[4m--m-metadata-file\u001b[0m METADATA\n",
      "  \u001b[94m\u001b[4m--m-metadata-column\u001b[0m COLUMN  \u001b[32mMetadataColumn[Categorical]\u001b[0m\n",
      "                          Categorical metadata column to use as prediction\n",
      "                          target.                                   \u001b[35m[required]\u001b[0m\n",
      "  \u001b[94m--p-test-size\u001b[0m PROPORTION\n",
      "    \u001b[32mRange(0.0, 1.0)\u001b[0m       Fraction of input samples to exclude from training\n",
      "                          set and use for classifier testing.   \u001b[35m[default: 0.2]\u001b[0m\n",
      "  \u001b[94m--p-step\u001b[0m PROPORTION \u001b[32mRange(0.0, 1.0, inclusive_start=False)\u001b[0m\n",
      "                          If \u001b[4moptimize-feature-selection\u001b[0m is True, step is the\n",
      "                          percentage of features to remove at each iteration.\n",
      "                                                               \u001b[35m[default: 0.05]\u001b[0m\n",
      "  \u001b[94m--p-cv\u001b[0m INTEGER          Number of k-fold cross-validations to perform.\n",
      "    \u001b[32mRange(1, None)\u001b[0m                                                \u001b[35m[default: 5]\u001b[0m\n",
      "  \u001b[94m--p-random-state\u001b[0m INTEGER\n",
      "                          Seed used by random number generator.     \u001b[35m[optional]\u001b[0m\n",
      "  \u001b[94m--p-n-jobs\u001b[0m NTHREADS     Number of jobs to run in parallel.      \u001b[35m[default: 1]\u001b[0m\n",
      "  \u001b[94m--p-n-estimators\u001b[0m INTEGER\n",
      "    \u001b[32mRange(1, None)\u001b[0m        Number of trees to grow for estimation. More trees\n",
      "                          will improve predictive accuracy up to a threshold\n",
      "                          level, but will also increase time and memory\n",
      "                          requirements. This parameter only affects ensemble\n",
      "                          estimators, such as Random Forest, AdaBoost,\n",
      "                          ExtraTrees, and GradientBoosting.     \u001b[35m[default: 100]\u001b[0m\n",
      "  \u001b[94m--p-estimator\u001b[0m TEXT \u001b[32mChoices('RandomForestClassifier',\u001b[0m\n",
      "    \u001b[32m'ExtraTreesClassifier', 'GradientBoostingClassifier',\u001b[0m\n",
      "    \u001b[32m'AdaBoostClassifier[DecisionTree]', 'AdaBoostClassifier[ExtraTrees]',\u001b[0m\n",
      "    \u001b[32m'KNeighborsClassifier', 'LinearSVC', 'SVC')\u001b[0m\n",
      "                          Estimator method to use for sample prediction.\n",
      "                                           \u001b[35m[default: 'RandomForestClassifier']\u001b[0m\n",
      "  \u001b[94m--p-optimize-feature-selection\u001b[0m / \u001b[94m--p-no-optimize-feature-selection\u001b[0m\n",
      "                          Automatically optimize input feature selection\n",
      "                          using recursive feature elimination.\n",
      "                                                              \u001b[35m[default: False]\u001b[0m\n",
      "  \u001b[94m--p-parameter-tuning\u001b[0m / \u001b[94m--p-no-parameter-tuning\u001b[0m\n",
      "                          Automatically tune hyperparameters using random\n",
      "                          grid search.                        \u001b[35m[default: False]\u001b[0m\n",
      "  \u001b[94m--p-palette\u001b[0m TEXT \u001b[32mChoices('YellowOrangeBrown', 'YellowOrangeRed',\u001b[0m\n",
      "    \u001b[32m'OrangeRed', 'PurpleRed', 'RedPurple', 'BluePurple', 'GreenBlue',\u001b[0m\n",
      "    \u001b[32m'PurpleBlue', 'YellowGreen', 'summer', 'copper', 'viridis', 'cividis',\u001b[0m\n",
      "    \u001b[32m'plasma', 'inferno', 'magma', 'sirocco', 'drifting', 'melancholy',\u001b[0m\n",
      "    \u001b[32m'enigma', 'eros', 'spectre', 'ambition', 'mysteriousstains', 'daydream',\u001b[0m\n",
      "    \u001b[32m'solano', 'navarro', 'dandelions', 'deepblue', 'verve', 'greyscale')\u001b[0m\n",
      "                          The color palette to use for plotting.\n",
      "                                                          \u001b[35m[default: 'sirocco']\u001b[0m\n",
      "  \u001b[94m--p-missing-samples\u001b[0m TEXT \u001b[32mChoices('error', 'ignore')\u001b[0m\n",
      "                          How to handle missing samples in metadata. \"error\"\n",
      "                          will fail if missing samples are detected. \"ignore\"\n",
      "                          will cause the feature table and metadata to be\n",
      "                          filtered, so that only samples found in both files\n",
      "                          are retained.                     \u001b[35m[default: 'error']\u001b[0m\n",
      "\u001b[1mOutputs\u001b[0m:\n",
      "  \u001b[94m\u001b[4m--o-sample-estimator\u001b[0m ARTIFACT \u001b[32mSampleEstimator[Classifier]\u001b[0m\n",
      "                          Trained sample estimator.                 \u001b[35m[required]\u001b[0m\n",
      "  \u001b[94m\u001b[4m--o-feature-importance\u001b[0m ARTIFACT \u001b[32mFeatureData[Importance]\u001b[0m\n",
      "                          Importance of each input feature to model accuracy.\n",
      "                                                                    \u001b[35m[required]\u001b[0m\n",
      "  \u001b[94m\u001b[4m--o-predictions\u001b[0m ARTIFACT \u001b[32mSampleData[ClassifierPredictions]\u001b[0m\n",
      "                          Predicted target values for each input sample.\n",
      "                                                                    \u001b[35m[required]\u001b[0m\n",
      "  \u001b[94m\u001b[4m--o-model-summary\u001b[0m VISUALIZATION\n",
      "                          Summarized parameter and (if enabled) feature\n",
      "                          selection information for the trained estimator.\n",
      "                                                                    \u001b[35m[required]\u001b[0m\n",
      "  \u001b[94m\u001b[4m--o-accuracy-results\u001b[0m VISUALIZATION\n",
      "                          Accuracy results visualization.           \u001b[35m[required]\u001b[0m\n",
      "  \u001b[94m\u001b[4m--o-probabilities\u001b[0m ARTIFACT \u001b[32mSampleData[Probabilities]\u001b[0m\n",
      "                          Predicted class probabilities for each input\n",
      "                          sample.                                   \u001b[35m[required]\u001b[0m\n",
      "  \u001b[94m\u001b[4m--o-heatmap\u001b[0m VISUALIZATION\n",
      "                          A heatmap of the top 50 most important features\n",
      "                          from the table.                           \u001b[35m[required]\u001b[0m\n",
      "  \u001b[94m\u001b[4m--o-training-targets\u001b[0m ARTIFACT \u001b[32mSampleData[TrueTargets]\u001b[0m\n",
      "                          Series containing true target values of train\n",
      "                          samples                                   \u001b[35m[required]\u001b[0m\n",
      "  \u001b[94m\u001b[4m--o-test-targets\u001b[0m ARTIFACT \u001b[32mSampleData[TrueTargets]\u001b[0m\n",
      "                          Series containing true target values of test\n",
      "                          samples                                   \u001b[35m[required]\u001b[0m\n",
      "\u001b[1mMiscellaneous\u001b[0m:\n",
      "  \u001b[94m--output-dir\u001b[0m PATH       Output unspecified results to a directory\n",
      "  \u001b[94m--verbose\u001b[0m / \u001b[94m--quiet\u001b[0m     Display verbose output to stdout and/or stderr\n",
      "                          during execution of this action. Or silence output\n",
      "                          if execution is successful (silence is golden).\n",
      "  \u001b[94m--recycle-pool\u001b[0m TEXT     Use a cache pool for pipeline resumption. QIIME 2\n",
      "                          will cache your results in this pool for reuse by\n",
      "                          future invocations. These pool are retained until\n",
      "                          deleted by the user. If not provided, QIIME 2 will\n",
      "                          create a pool which is automatically reused by\n",
      "                          invocations of the same action and removed if the\n",
      "                          action is successful. Note: these pools are local to\n",
      "                          the cache you are using.\n",
      "  \u001b[94m--no-recycle\u001b[0m            Do not recycle results from a previous failed\n",
      "                          pipeline run or save the results from this run for\n",
      "                          future recycling.\n",
      "  \u001b[94m--parallel\u001b[0m              Execute your action in parallel. This flag will use\n",
      "                          your default parallel config.\n",
      "  \u001b[94m--parallel-config\u001b[0m FILE  Execute your action in parallel using a config at\n",
      "                          the indicated path.\n",
      "  \u001b[94m--use-cache\u001b[0m DIRECTORY   Specify the cache to be used for the intermediate\n",
      "                          work of this pipeline. If not provided, the default\n",
      "                          cache under $TMP/qiime2/<uname> will be used.\n",
      "                          IMPORTANT FOR HPC USERS: If you are on an HPC system\n",
      "                          and are using parallel execution it is important to\n",
      "                          set this to a location that is globally accessible\n",
      "                          to all nodes in the cluster.\n",
      "  \u001b[94m--example-data\u001b[0m PATH     Write example data and exit.\n",
      "  \u001b[94m--citations\u001b[0m             Show citations and exit.\n",
      "  \u001b[94m--help\u001b[0m                  Show this message and exit.\n",
      "\u001b[0m"
     ]
    }
   ],
   "source": [
    "!qiime sample-classifier classify-samples --help"
   ]
  },
  {
   "cell_type": "code",
   "execution_count": 8,
   "id": "ec3134d4-183f-4d1f-ab22-c5b014051d0a",
   "metadata": {
    "tags": []
   },
   "outputs": [
    {
     "name": "stdout",
     "output_type": "stream",
     "text": [
      "/home/jovyan/FunGut2/Nicola\n"
     ]
    }
   ],
   "source": [
    "!pwd"
   ]
  },
  {
   "cell_type": "code",
   "execution_count": 3,
   "id": "c4861bc8-341c-4bca-9bea-1ebdfcbc263f",
   "metadata": {
    "tags": []
   },
   "outputs": [],
   "source": [
    "! rm -r machLearning"
   ]
  },
  {
   "cell_type": "code",
   "execution_count": 4,
   "id": "d7debc8c-3174-4d6b-bf49-9ce934b48fa3",
   "metadata": {
    "tags": []
   },
   "outputs": [
    {
     "name": "stdout",
     "output_type": "stream",
     "text": [
      "\u001b[32mSaved SampleEstimator[Classifier] to: ./machLearning/sample_estimator.qza\u001b[0m\n",
      "\u001b[32mSaved FeatureData[Importance] to: ./machLearning/feature_importance.qza\u001b[0m\n",
      "\u001b[32mSaved SampleData[ClassifierPredictions] to: ./machLearning/predictions.qza\u001b[0m\n",
      "\u001b[32mSaved Visualization to: ./machLearning/model_summary.qzv\u001b[0m\n",
      "\u001b[32mSaved Visualization to: ./machLearning/accuracy_results.qzv\u001b[0m\n",
      "\u001b[32mSaved SampleData[Probabilities] to: ./machLearning/probabilities.qza\u001b[0m\n",
      "\u001b[32mSaved Visualization to: ./machLearning/heatmap.qzv\u001b[0m\n",
      "\u001b[32mSaved SampleData[TrueTargets] to: ./machLearning/training_targets.qza\u001b[0m\n",
      "\u001b[32mSaved SampleData[TrueTargets] to: ./machLearning/test_targets.qza\u001b[0m\n",
      "\u001b[0m"
     ]
    }
   ],
   "source": [
    "!qiime sample-classifier classify-samples \\\n",
    "    --i-table $data_dir/filtered-feature-table.qza \\\n",
    "    --m-metadata-file $data_dir/metadata/fungut_metadata_processed.tsv \\\n",
    "    --m-metadata-column is_urban \\\n",
    "    --p-random-state 42 \\\n",
    "    --p-parameter-tuning \\\n",
    "    --p-estimator KNeighborsClassifier \\\n",
    "    --output-dir ./machLearning/"
   ]
  },
  {
   "cell_type": "code",
   "execution_count": 5,
   "id": "673207f1-1e5b-41c0-a9f6-0e51e8c874cf",
   "metadata": {
    "tags": []
   },
   "outputs": [
    {
     "data": {
      "text/html": [
       "<div><img onload=\"(function(div, url){\n",
       "if (typeof require !== 'undefined') {\n",
       "    var baseURL = require.toUrl('').split('/').slice(0, -2).join('/');\n",
       "} else {\n",
       "    var baseURL = JSON.parse(\n",
       "        document.getElementById('jupyter-config-data').innerHTML\n",
       "    ).baseUrl.slice(0, -1);\n",
       "}\n",
       "url = baseURL + url;\n",
       "fetch(url).then(function(res) {\n",
       "    if (res.status === 404) {\n",
       "        div.innerHTML = 'Install QIIME 2 Jupyter extension with:<br />' +\n",
       "                        '<code>jupyter serverextension enable --py qiime2' +\n",
       "                        ' --sys-prefix</code><br />then restart your server.' +\n",
       "                        '<br /><br />(Interactive output not available on ' +\n",
       "                        'static notebook viewer services like nbviewer.)';\n",
       "    } else if (res.status === 409) {\n",
       "        div.innerHTML = 'Visualization no longer in scope. Re-run this cell' +\n",
       "                        ' to see the visualization.';\n",
       "    } else if (res.ok) {\n",
       "        url = res.url;\n",
       "        div.innerHTML = '<iframe src=\\'' + url + '\\' style=\\'' +\n",
       "                        'width: 100%; height: 700px; border: 0;\\'>' +\n",
       "                        '</iframe><hr />Open in a: <a href=\\'' + url + '\\'' +\n",
       "                        ' target=\\'_blank\\'>new window</a>'\n",
       "    } else {\n",
       "        div.innerHTML = 'Something has gone wrong. Check notebook server for' +\n",
       "                        ' errors.';\n",
       "    }\n",
       "});\n",
       "})(this.parentElement, '/qiime2/redirect?location=/tmp/qiime2/jovyan/data/44a52309-1786-45a7-8f32-63bc6d76a4d0')\" src=\"data:image/gif;base64,R0lGODlhAQABAIAAAP///wAAACH5BAEAAAAALAAAAAABAAEAAAICRAEAOw==\" /></div>"
      ],
      "text/plain": [
       "<visualization: Visualization uuid: 44a52309-1786-45a7-8f32-63bc6d76a4d0>"
      ]
     },
     "execution_count": 5,
     "metadata": {},
     "output_type": "execute_result"
    }
   ],
   "source": [
    "Visualization.load('./machLearning/accuracy_results.qzv')"
   ]
  },
  {
   "cell_type": "code",
   "execution_count": null,
   "id": "2978dde0-cc21-435b-b937-d93ee35c56e8",
   "metadata": {},
   "outputs": [],
   "source": []
  }
 ],
 "metadata": {
  "kernelspec": {
   "display_name": "QIIME 2",
   "language": "python",
   "name": "python3"
  },
  "language_info": {
   "codemirror_mode": {
    "name": "ipython",
    "version": 3
   },
   "file_extension": ".py",
   "mimetype": "text/x-python",
   "name": "python",
   "nbconvert_exporter": "python",
   "pygments_lexer": "ipython3",
   "version": "3.9.19"
  }
 },
 "nbformat": 4,
 "nbformat_minor": 5
}
