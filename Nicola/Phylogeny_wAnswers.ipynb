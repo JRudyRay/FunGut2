{
 "cells": [
  {
   "cell_type": "markdown",
   "id": "e550c2dd",
   "metadata": {},
   "source": [
    "# Phylogenetic Inference"
   ]
  },
  {
   "cell_type": "markdown",
   "id": "a18e8b06",
   "metadata": {},
   "source": [
    "<a id='setup'></a>\n",
    "\n",
    "## 0. Setup"
   ]
  },
  {
   "cell_type": "code",
   "execution_count": 2,
   "id": "72951683",
   "metadata": {
    "tags": []
   },
   "outputs": [],
   "source": [
    "from qiime2 import Visualization\n",
    "\n",
    "# location of this week's data and all the results produced by this notebook \n",
    "# - this should be a path relative to your working directory\n",
    "data_dir = '../data'"
   ]
  },
  {
   "cell_type": "markdown",
   "id": "f306ed36",
   "metadata": {},
   "source": [
    "#### 1.1.1 Sequence alignment\n",
    "needed: rep-seqs-filtered.qza"
   ]
  },
  {
   "cell_type": "code",
   "execution_count": 3,
   "id": "6a8210a8",
   "metadata": {
    "tags": []
   },
   "outputs": [
    {
     "name": "stdout",
     "output_type": "stream",
     "text": [
      "\u001b[32mSaved FeatureData[AlignedSequence] to: ../data/aligned-rep-seqs.qza\u001b[0m\n",
      "\u001b[0m"
     ]
    }
   ],
   "source": [
    "! qiime alignment mafft \\\n",
    "    --i-sequences $data_dir/rep-seqs-filtered.qza \\\n",
    "    --o-alignment $data_dir/aligned-rep-seqs.qza"
   ]
  },
  {
   "cell_type": "markdown",
   "id": "2ac9f850",
   "metadata": {},
   "source": [
    "#### 1.1.2 Alignment masking\n",
    "\n",
    "It has been suggested by some authors that masking (removing) the ambiguously aligned regions from the alignment (i.e.: regions that are phylogenetically uninformative due e.g. to alignment errors) can increase the performance of the reconstructed phylogeny.:"
   ]
  },
  {
   "cell_type": "code",
   "execution_count": 4,
   "id": "f3ae62d8",
   "metadata": {
    "tags": []
   },
   "outputs": [
    {
     "name": "stdout",
     "output_type": "stream",
     "text": [
      "\u001b[32mSaved FeatureData[AlignedSequence] to: ../data/masked-aligned-rep-seqs.qza\u001b[0m\n",
      "\u001b[0m"
     ]
    }
   ],
   "source": [
    "! qiime alignment mask \\\n",
    "    --i-alignment $data_dir/aligned-rep-seqs.qza \\\n",
    "    --o-masked-alignment $data_dir/masked-aligned-rep-seqs.qza"
   ]
  },
  {
   "cell_type": "markdown",
   "id": "c81a36d8",
   "metadata": {},
   "source": [
    "#### 1.1.3 Tree construction\n",
    "\n",
    "Finally, we can use that alignment to construct our phylogenetic tree. There are many methods to do that, e.g: FastTree, RAxML or IQ-TREE (all of those supported in QIIME 2). Here, we will use FastTree, mainly due to its speed. FastTree produces an unrooted tree, hence in the second step we will place the root of the tree at the midpoint of the longest tip-to-tip distance in the unrooted tree."
   ]
  },
  {
   "cell_type": "code",
   "execution_count": 5,
   "id": "2e1e77cf",
   "metadata": {
    "tags": []
   },
   "outputs": [
    {
     "name": "stdout",
     "output_type": "stream",
     "text": [
      "\u001b[32mSaved Phylogeny[Unrooted] to: ../data/fasttree-tree.qza\u001b[0m\n",
      "\u001b[0m\u001b[32mSaved Phylogeny[Rooted] to: ../data/fasttree-tree-rooted.qza\u001b[0m\n",
      "\u001b[0m"
     ]
    }
   ],
   "source": [
    "! qiime phylogeny fasttree \\\n",
    "    --i-alignment $data_dir/masked-aligned-rep-seqs.qza \\\n",
    "    --o-tree $data_dir/fasttree-tree.qza\n",
    "\n",
    "! qiime phylogeny midpoint-root \\\n",
    "    --i-tree $data_dir/fasttree-tree.qza \\\n",
    "    --o-rooted-tree $data_dir/fasttree-tree-rooted.qza"
   ]
  },
  {
   "cell_type": "markdown",
   "id": "924b7eff",
   "metadata": {},
   "source": [
    "#### 1.1.4 Tree visualization\n",
    "\n",
    "has to be run on Euler (package installed)"
   ]
  },
  {
   "cell_type": "code",
   "execution_count": 11,
   "id": "504bcbe9",
   "metadata": {
    "tags": []
   },
   "outputs": [
    {
     "name": "stdout",
     "output_type": "stream",
     "text": [
      "\u001b[31m\u001b[1mError: QIIME 2 has no plugin/command named 'empress'.\u001b[0m\n"
     ]
    }
   ],
   "source": [
    "! qiime empress tree-plot \\\n",
    "    --i-tree $data_dir/fasttree-tree-rooted.qza \\\n",
    "    --m-feature-metadata-file $data_dir/taxonomy.qza \\\n",
    "    --o-visualization $data_dir/fasttree-tree-rooted.qzv"
   ]
  },
  {
   "cell_type": "markdown",
   "id": "56a5019f-fff4-4af7-a861-9d9f66a570d5",
   "metadata": {
    "execution": {
     "iopub.execute_input": "2022-09-07T15:35:50.156019Z",
     "iopub.status.busy": "2022-09-07T15:35:50.155214Z",
     "iopub.status.idle": "2022-09-07T15:35:50.262939Z",
     "shell.execute_reply": "2022-09-07T15:35:50.261865Z",
     "shell.execute_reply.started": "2022-09-07T15:35:50.155959Z"
    },
    "tags": []
   },
   "source": [
    "Open the qzv files on [view.qiime2.org](https://view.qiime2.org)."
   ]
  },
  {
   "cell_type": "markdown",
   "id": "975613f9",
   "metadata": {},
   "source": [
    "Now, for comparison, you can try [iTOL](https://itol.embl.de/upload.cgi).\n",
    "\n",
    "After opening the web page, click _Choose File_ and select the tree artifact we generated above. Click _Upload_: after a few seconds you should see the tree. In order to label all the nodes with corresponding taxonomies, find the _taxonomy.qza_ artifact and drag-and-drop it onto the tree: this will add the labels (don't worry if a warning about a couple of missing features appears: these are the taxa we filtered out earlier). If you want, you can also add the alignment itself to the tree! Just drag-and-drop it onto the tree again.\n",
    "\n",
    "You may find it easier to navigate the tree in its \"rectangular\" representation: to change the view, select the _Rectangular_ option in the _Mode_ section of the _Basic_ tab."
   ]
  },
  {
   "cell_type": "markdown",
   "id": "77b36871",
   "metadata": {},
   "source": [
    "#### 1.1.5 Bootstrapping\n",
    "\n",
    "Bootstrapping trees is a statistical approach to asserting robustness of the branch splits. In simple terms, it is based on reconstructing the same tree _n_ times by resampling and counting how often a certain branch occurs at the same position. Bootstrapping is a lengthy process, but if you are interested you can see below how it can be done in QIIME 2. The tree generated with this method will have an additional set of _bootstrap values_ that you will then be able to see on the tree (in the iTOL browser).\n",
    "\n",
    "**Note:** This step takes >30 min to run."
   ]
  },
  {
   "cell_type": "code",
   "execution_count": null,
   "id": "3f12432b",
   "metadata": {
    "tags": []
   },
   "outputs": [],
   "source": [
    "! qiime phylogeny raxml-rapid-bootstrap \\\n",
    "    --i-alignment $data_dir/masked-aligned-rep-seqs.qza \\\n",
    "    --p-seed 1723 \\\n",
    "    --p-rapid-bootstrap-seed 9384 \\\n",
    "    --p-bootstrap-replicates 100 \\\n",
    "    --p-substitution-model GTRCAT \\\n",
    "    --p-n-threads 3 \\\n",
    "    --o-tree $data_dir/raxml-cat-bootstrap-tree.qza"
   ]
  },
  {
   "cell_type": "markdown",
   "id": "2c6d5c23",
   "metadata": {},
   "source": [
    "Now visualize the new tree using your method of choice. Remember to root the tree first, as the `raxml-rapid-bootstrap` action produces an unrooted tree."
   ]
  },
  {
   "cell_type": "code",
   "execution_count": null,
   "id": "0947d158",
   "metadata": {
    "tags": []
   },
   "outputs": [],
   "source": [
    "! qiime phylogeny midpoint-root \\\n",
    "    --i-tree $data_dir/raxml-cat-bootstrap-tree.qza \\\n",
    "    --o-rooted-tree $data_dir/raxml-cat-bootstrap-tree-rooted.qza\n",
    "\n",
    "! qiime empress tree-plot \\\n",
    "    --i-tree $data_dir/raxml-cat-bootstrap-tree-rooted.qza \\\n",
    "    --m-feature-metadata-file $data_dir/taxonomy.qza \\\n",
    "    --o-visualization $data_dir/raxml-cat-bootstrap-tree-rooted.qzv"
   ]
  },
  {
   "cell_type": "markdown",
   "id": "92b96662-2818-41cc-998b-139cad472b32",
   "metadata": {
    "execution": {
     "iopub.execute_input": "2022-09-07T15:36:08.539281Z",
     "iopub.status.busy": "2022-09-07T15:36:08.537733Z",
     "iopub.status.idle": "2022-09-07T15:36:08.666652Z",
     "shell.execute_reply": "2022-09-07T15:36:08.665905Z",
     "shell.execute_reply.started": "2022-09-07T15:36:08.539126Z"
    },
    "tags": []
   },
   "source": [
    "Open the qzv files on [view.qiime2.org](https://view.qiime2.org)."
   ]
  },
  {
   "cell_type": "markdown",
   "id": "98245e3a",
   "metadata": {},
   "source": [
    "<a id='fragm_insert'></a>\n",
    "\n",
    "### 1.2 Fragment insertion\n",
    "\n",
    "A method alternative to _de novo_ tree reconstruction is **fragment insertion**. In this method, instead of constructing the entire tree from scratch, we rather use a tree that was already constructed and only try to insert our sequences into that existing tree.\n",
    "\n",
    "As our reference, we will use a tree that was built from the Greengenes 13_8 database at 99% identity."
   ]
  },
  {
   "cell_type": "code",
   "execution_count": null,
   "id": "aa0dc3e0",
   "metadata": {
    "tags": []
   },
   "outputs": [],
   "source": [
    "! wget -nv -O $data_dir/sepp-refs-gg-13-8.qza https://data.qiime2.org/2021.4/common/sepp-refs-gg-13-8.qza"
   ]
  },
  {
   "cell_type": "markdown",
   "id": "1365ea20",
   "metadata": {},
   "source": [
    "**Note:** This is a resource intensive command that again requires a large amount of memory and may take quite long to run (>30 min). Do not increase the number of threads below to more than 2 as this also increases memory demand and may cause your workspace to crash."
   ]
  },
  {
   "cell_type": "code",
   "execution_count": null,
   "id": "05676f0b",
   "metadata": {
    "tags": []
   },
   "outputs": [],
   "source": [
    "! qiime fragment-insertion sepp \\\n",
    "    --i-representative-sequences $data_dir/rep-seqs-filtered.qza \\\n",
    "    --i-reference-database $data_dir/sepp-refs-gg-13-8.qza \\\n",
    "    --p-threads 2 \\\n",
    "    --o-tree $data_dir/sepp-tree.qza \\\n",
    "    --o-placements $data_dir/sepp-tree-placements.qza"
   ]
  },
  {
   "cell_type": "markdown",
   "id": "7cc7255c",
   "metadata": {},
   "source": [
    "Finally, you can proceed to tree visualization with your method of choice. Keep in mind that this tree is already rooted so no need to run the `phylogeny midpoint-root` action."
   ]
  },
  {
   "cell_type": "markdown",
   "id": "a2ae161f",
   "metadata": {},
   "source": [
    "### 1.3 Checkpoint\n",
    "\n",
    "Look at the trees obtained using the _de novo_ and fragment insertion approach. What is the main difference between them?\n",
    "\n",
    "- The main difference is the size (expressed in the amount of branches) of each tree. The tree obtained _via_ fragment insertion is considerably larger as it comprises all the species present in the Greengenes database (and our sequences are only _inserted_ into that tree), while the _de novo_ tree consists only of the taxa that we identified in our samples."
   ]
  }
 ],
 "metadata": {
  "interpreter": {
   "hash": "91041748b0590ab7efbd5530941c47612a12accc8fae155050a565e1194f2150"
  },
  "kernelspec": {
   "display_name": "QIIME 2",
   "language": "python",
   "name": "python3"
  },
  "language_info": {
   "codemirror_mode": {
    "name": "ipython",
    "version": 3
   },
   "file_extension": ".py",
   "mimetype": "text/x-python",
   "name": "python",
   "nbconvert_exporter": "python",
   "pygments_lexer": "ipython3",
   "version": "3.9.19"
  }
 },
 "nbformat": 4,
 "nbformat_minor": 5
}
