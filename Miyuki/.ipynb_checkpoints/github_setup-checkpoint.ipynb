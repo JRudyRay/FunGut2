{
 "cells": [
  {
   "cell_type": "markdown",
   "id": "87c2ab6e-7a11-492b-b6df-fb9bf82b3016",
   "metadata": {
    "tags": []
   },
   "source": [
    "```bash\n",
    "# Follow these steps in the command line to login to GitHub and clone our Repo\n",
    "\n",
    "# Follow the steps in the command line and sign in through the browser\n",
    "gh auth login\n",
    "\n",
    "# Clone the repo to your desired location (ensure you are in the desired directory)\n",
    "git clone https://github.com/JRudyRay/FunGut2.git\n",
    "\n",
    "\n",
    "```\n"
   ]
  },
  {
   "cell_type": "markdown",
   "id": "45e921a1-e454-4aa0-a79d-3880b91d0bb2",
   "metadata": {},
   "source": [
    "## Configure user Settings"
   ]
  },
  {
   "cell_type": "code",
   "execution_count": 4,
   "id": "6742de95-f38a-4e5d-8429-1d2703d70b50",
   "metadata": {
    "tags": []
   },
   "outputs": [
    {
     "name": "stdout",
     "output_type": "stream",
     "text": [
      "John Oehninger\n",
      "john.oehninger@gmail.com\n"
     ]
    }
   ],
   "source": [
    "!git config --global user.name\n",
    "!git config --global user.email"
   ]
  },
  {
   "cell_type": "markdown",
   "id": "624ee566-c3f3-4cf9-88e6-d4c65a8d500d",
   "metadata": {},
   "source": [
    "## Run the block below to commit your changes to github"
   ]
  },
  {
   "cell_type": "code",
   "execution_count": 1,
   "id": "f775fdbc-343e-4ea8-ab84-e1b51ed451c7",
   "metadata": {},
   "outputs": [
    {
     "name": "stdout",
     "output_type": "stream",
     "text": [
      "[main 944f5d7] Update notebook with new changes\n",
      " 2 files changed, 286 insertions(+)\n",
      " create mode 100644 John/.ipynb_checkpoints/github_setup-checkpoint.ipynb\n",
      " create mode 100644 John/github_setup.ipynb\n"
     ]
    },
    {
     "name": "stderr",
     "output_type": "stream",
     "text": [
      "To https://github.com/JRudyRay/FunGut2.git\n",
      "   b879cbe..944f5d7  main -> main\n"
     ]
    },
    {
     "data": {
      "text/plain": [
       "CompletedProcess(args=['git', 'push', 'origin', 'main'], returncode=0)"
      ]
     },
     "execution_count": 1,
     "metadata": {},
     "output_type": "execute_result"
    }
   ],
   "source": [
    "import os\n",
    "import subprocess\n",
    "\n",
    "# Define the folder for the current user (for example, \"John\" in the FunGut2 repo)\n",
    "user_folder = \"Miyuki\"\n",
    "\n",
    "# Define the message for the commit\n",
    "commit_message = \"Update notebook with new changes\"\n",
    "\n",
    "# Define the repository path (you can change this according to your setup)\n",
    "repo_path = \"/home/jovyan/FunGut2_old/FunGut2/\"\n",
    "\n",
    "# Step 1: Navigate to the repository\n",
    "os.chdir(repo_path)\n",
    "\n",
    "# Step 2: Add the specific user folder to git staging\n",
    "subprocess.run([\"git\", \"add\", user_folder])\n",
    "\n",
    "# Step 3: Commit the changes\n",
    "subprocess.run([\"git\", \"commit\", \"-m\", commit_message])\n",
    "\n",
    "# Step 4: Push the changes to GitHub\n",
    "subprocess.run([\"git\", \"push\", \"origin\", \"main\"])\n"
   ]
  },
  {
   "cell_type": "code",
   "execution_count": null,
   "id": "18b3df94-be92-4b6b-a5eb-9023e25a5494",
   "metadata": {},
   "outputs": [],
   "source": []
  }
 ],
 "metadata": {
  "kernelspec": {
   "display_name": "QIIME 2",
   "language": "python",
   "name": "python3"
  },
  "language_info": {
   "codemirror_mode": {
    "name": "ipython",
    "version": 3
   },
   "file_extension": ".py",
   "mimetype": "text/x-python",
   "name": "python",
   "nbconvert_exporter": "python",
   "pygments_lexer": "ipython3",
   "version": "3.9.19"
  }
 },
 "nbformat": 4,
 "nbformat_minor": 5
}
