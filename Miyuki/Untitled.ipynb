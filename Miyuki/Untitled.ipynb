{
 "cells": [
  {
   "cell_type": "code",
   "execution_count": 2,
   "id": "f5312c4c-0bbd-4e14-bc58-ac90f8dacae2",
   "metadata": {
    "tags": []
   },
   "outputs": [],
   "source": [
    "import os\n",
    "import sys\n",
    "import pandas as pd\n",
    "import qiime2 as q2\n",
    "from qiime2 import Visualization\n",
    "import matplotlib.pyplot as plt\n",
    "import seaborn as sns\n",
    "%matplotlib inline\n",
    "\n",
    "# Define the data directory\n",
    "data_dir = '/data'"
   ]
  },
  {
   "cell_type": "code",
   "execution_count": 3,
   "id": "89f521eb-4128-4e61-bb4b-5db0d1492d45",
   "metadata": {
    "tags": []
   },
   "outputs": [
    {
     "name": "stdout",
     "output_type": "stream",
     "text": [
      "^C\n"
     ]
    }
   ],
   "source": [
    "! qiime feature-table filter-features \\\n",
    "    --i-table $data_dir/filtered-feature-table.qza \\\n",
    "    --p-min-frequency 25 \\\n",
    "    --p-min-samples 4 \\\n",
    "    --o-filtered-table $data_dir/table_abund.qza"
   ]
  }
 ],
 "metadata": {
  "kernelspec": {
   "display_name": "QIIME 2",
   "language": "python",
   "name": "python3"
  },
  "language_info": {
   "codemirror_mode": {
    "name": "ipython",
    "version": 3
   },
   "file_extension": ".py",
   "mimetype": "text/x-python",
   "name": "python",
   "nbconvert_exporter": "python",
   "pygments_lexer": "ipython3",
   "version": "3.9.19"
  }
 },
 "nbformat": 4,
 "nbformat_minor": 5
}
