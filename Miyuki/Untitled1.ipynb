{
 "cells": [
  {
   "cell_type": "code",
   "execution_count": 1,
   "id": "9ebe7218-bbd0-4df5-9602-791277f03abc",
   "metadata": {
    "tags": []
   },
   "outputs": [],
   "source": [
    "import pandas as pd"
   ]
  },
  {
   "cell_type": "code",
   "execution_count": 3,
   "id": "08174f84-f9df-45f4-9359-a42080e8f3ee",
   "metadata": {
    "tags": []
   },
   "outputs": [],
   "source": [
    "#read metadata\n",
    "metadata = pd.read_csv(\"./fungut_metadata.tsv\", sep=\"\\t\")"
   ]
  },
  {
   "cell_type": "code",
   "execution_count": 4,
   "id": "2d069727-01da-4082-811d-33bc4c054ff0",
   "metadata": {
    "tags": []
   },
   "outputs": [],
   "source": [
    "country_to_continent = {\n",
    "    \"United Kingdom\": \"Europe\",\n",
    "    \"Germany\": \"Europe\",\n",
    "    \"Sweden\": \"Europe\",\n",
    "    \"Isle of Man\": \"Europe\",\n",
    "    \"Australia\": \"Oceania\",\n",
    "    \"New Zealand\": \"Oceania\",\n",
    "    \"USA\": \"North America\"\n",
    "}\n",
    "metadata['continent'] = metadata['country_sample'].map(country_to_continent)\n",
    "metadata['continent'] = metadata['continent'].fillna(\"Unknown\")"
   ]
  }
 ],
 "metadata": {
  "kernelspec": {
   "display_name": "QIIME 2",
   "language": "python",
   "name": "python3"
  },
  "language_info": {
   "codemirror_mode": {
    "name": "ipython",
    "version": 3
   },
   "file_extension": ".py",
   "mimetype": "text/x-python",
   "name": "python",
   "nbconvert_exporter": "python",
   "pygments_lexer": "ipython3",
   "version": "3.9.19"
  }
 },
 "nbformat": 4,
 "nbformat_minor": 5
}
