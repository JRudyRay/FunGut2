{
 "cells": [
  {
   "cell_type": "markdown",
   "id": "fa44c477-b86e-4616-a9bc-7a34d8a55584",
   "metadata": {},
   "source": [
    "# Phylogenetic Tree construction and Alpha Diversity Analysis"
   ]
  },
  {
   "cell_type": "code",
   "execution_count": 1,
   "id": "babb3bf0-a258-4eec-8547-713c3534550e",
   "metadata": {
    "tags": []
   },
   "outputs": [],
   "source": [
    "import os\n",
    "import sys\n",
    "import pandas as pd\n",
    "import qiime2 as q2\n",
    "from qiime2 import Visualization\n",
    "import matplotlib.pyplot as plt\n",
    "import seaborn as sns\n",
    "%matplotlib inline\n",
    "\n",
    "# Define the data directory\n",
    "data_dir = '/data'"
   ]
  },
  {
   "cell_type": "markdown",
   "id": "a32fc128-3fcd-432f-ae7a-0c051d5772d9",
   "metadata": {
    "tags": []
   },
   "source": [
    "### Creating a Phylogenetic Tree\n",
    "\n",
    "### Step 1: Align Sequences\n",
    "Aligning sequences ensures that homologous positions in the sequences are matched up. This step is necessary to build an accurate phylogenetic tree.\n"
   ]
  },
  {
   "cell_type": "code",
   "execution_count": 33,
   "id": "73b4b271-f0dc-40bb-847a-1dcfa4241e42",
   "metadata": {
    "tags": []
   },
   "outputs": [
    {
     "name": "stdout",
     "output_type": "stream",
     "text": [
      "\u001b[32mSaved FeatureData[AlignedSequence] to: ./data/aligned-rep-seqs.qza\u001b[0m\n",
      "\u001b[0m"
     ]
    }
   ],
   "source": [
    "! qiime alignment mafft \\\n",
    "    --i-sequences ./data/rep-seqs.qza \\\n",
    "    --o-alignment ./data/aligned-rep-seqs.qza"
   ]
  },
  {
   "cell_type": "markdown",
   "id": "ea273e5e-e509-40d7-a4a9-c719bfe0b9f3",
   "metadata": {},
   "source": [
    "### Step 2: Mask Alignment\n",
    "Masking removes highly variable regions in the alignment that can introduce noise into the phylogenetic tree. This helps focus on the conserved regions, which are more reliable for tree building."
   ]
  },
  {
   "cell_type": "code",
   "execution_count": 34,
   "id": "ec11ef0f-f99a-4aff-9306-277d95fb49ff",
   "metadata": {
    "tags": []
   },
   "outputs": [
    {
     "name": "stdout",
     "output_type": "stream",
     "text": [
      "\u001b[32mSaved FeatureData[AlignedSequence] to: ./data/masked-aligned-rep-seqs.qza\u001b[0m\n",
      "\u001b[0m"
     ]
    }
   ],
   "source": [
    "! qiime alignment mask \\\n",
    "    --i-alignment ./data/aligned-rep-seqs.qza \\\n",
    "    --o-masked-alignment ./data/masked-aligned-rep-seqs.qza"
   ]
  },
  {
   "cell_type": "markdown",
   "id": "fefe13a5-dddf-4e9a-b898-ada2e7b254ac",
   "metadata": {},
   "source": [
    "### Step 3: Build and Root the Tree\n",
    "Using the masked alignment, we construct a phylogenetic tree with FastTree and root it at its midpoint to make it more interpretable. The rooted tree will be used in downstream diversity analyses.\n"
   ]
  },
  {
   "cell_type": "code",
   "execution_count": 35,
   "id": "4b66ff40-6b35-44f1-aa35-2ed5988b8994",
   "metadata": {
    "tags": []
   },
   "outputs": [
    {
     "name": "stdout",
     "output_type": "stream",
     "text": [
      "\u001b[32mSaved Phylogeny[Unrooted] to: ./data/fast-tree.qza\u001b[0m\n",
      "\u001b[0m\u001b[32mSaved Phylogeny[Rooted] to: ./data/fast-tree-rooted.qza\u001b[0m\n",
      "\u001b[0m"
     ]
    }
   ],
   "source": [
    "! qiime phylogeny fasttree \\\n",
    "    --i-alignment ./data/masked-aligned-rep-seqs.qza \\\n",
    "    --o-tree ./data/phylogeny/fast-tree.qza\n",
    "\n",
    "! qiime phylogeny midpoint-root \\\n",
    "    --i-tree ./data/phylogeny/fast-tree.qza \\\n",
    "    --o-rooted-tree ./data/phylogeny/fast-tree-rooted.qza"
   ]
  },
  {
   "cell_type": "markdown",
   "id": "09036dc0-2940-4a10-8420-6b422ae10e2b",
   "metadata": {},
   "source": [
    "#### Unable to create tree visualization on Jupyter\n",
    "\n",
    "Saddly we weren't able to install the qiime2 plugin empress to create the tree visualization, which is why we ran this step on `Euler`.\n",
    "The bash file we executed on Euler can be found in `./scripts/tree_visualization.sh`."
   ]
  },
  {
   "cell_type": "code",
   "execution_count": 2,
   "id": "33ea9d42-1884-4db1-91c4-629f6cbe9a1e",
   "metadata": {
    "tags": []
   },
   "outputs": [
    {
     "data": {
      "text/html": [
       "<div><img onload=\"(function(div, url){\n",
       "if (typeof require !== 'undefined') {\n",
       "    var baseURL = require.toUrl('').split('/').slice(0, -2).join('/');\n",
       "} else {\n",
       "    var baseURL = JSON.parse(\n",
       "        document.getElementById('jupyter-config-data').innerHTML\n",
       "    ).baseUrl.slice(0, -1);\n",
       "}\n",
       "url = baseURL + url;\n",
       "fetch(url).then(function(res) {\n",
       "    if (res.status === 404) {\n",
       "        div.innerHTML = 'Install QIIME 2 Jupyter extension with:<br />' +\n",
       "                        '<code>jupyter serverextension enable --py qiime2' +\n",
       "                        ' --sys-prefix</code><br />then restart your server.' +\n",
       "                        '<br /><br />(Interactive output not available on ' +\n",
       "                        'static notebook viewer services like nbviewer.)';\n",
       "    } else if (res.status === 409) {\n",
       "        div.innerHTML = 'Visualization no longer in scope. Re-run this cell' +\n",
       "                        ' to see the visualization.';\n",
       "    } else if (res.ok) {\n",
       "        url = res.url;\n",
       "        div.innerHTML = '<iframe src=\\'' + url + '\\' style=\\'' +\n",
       "                        'width: 100%; height: 700px; border: 0;\\'>' +\n",
       "                        '</iframe><hr />Open in a: <a href=\\'' + url + '\\'' +\n",
       "                        ' target=\\'_blank\\'>new window</a>'\n",
       "    } else {\n",
       "        div.innerHTML = 'Something has gone wrong. Check notebook server for' +\n",
       "                        ' errors.';\n",
       "    }\n",
       "});\n",
       "})(this.parentElement, '/qiime2/redirect?location=/tmp/qiime2/jovyan/data/65627d58-5d93-45f6-b058-165ddd931101')\" src=\"data:image/gif;base64,R0lGODlhAQABAIAAAP///wAAACH5BAEAAAAALAAAAAABAAEAAAICRAEAOw==\" /></div>"
      ],
      "text/plain": [
       "<visualization: Visualization uuid: 65627d58-5d93-45f6-b058-165ddd931101>"
      ]
     },
     "execution_count": 2,
     "metadata": {},
     "output_type": "execute_result"
    }
   ],
   "source": [
    "Visualization.load('./data/phylogeny/fast-tree-rooted.qzv')"
   ]
  },
  {
   "cell_type": "markdown",
   "id": "cfc1bb17-ea97-493c-a2e1-a89b2cefb29e",
   "metadata": {},
   "source": [
    "## Exploring Alpha Rarefaction\n",
    "Alpha rarefaction helps us understand whether sequencing depth is sufficient to capture the diversity in our samples.\n",
    "\n",
    "We generate rarefaction curves to evaluate diversity saturation and decide on an appropriate sequencing depth."
   ]
  },
  {
   "cell_type": "code",
   "execution_count": 37,
   "id": "bdb5603c-4f71-4053-aebd-a249d7d1c55b",
   "metadata": {
    "tags": []
   },
   "outputs": [
    {
     "name": "stdout",
     "output_type": "stream",
     "text": [
      "\u001b[32mSaved Visualization to: ./data/alpha_diversity/alpha-rarefaction.qzv\u001b[0m\n",
      "\u001b[0m"
     ]
    }
   ],
   "source": [
    "!qiime diversity alpha-rarefaction \\\n",
    "  --i-table ./data/filtered-feature-table.qza \\\n",
    "  --i-phylogeny ./data/phylogeny/fast-tree-rooted.qza \\\n",
    "  --p-max-depth  30000 \\\n",
    "  --m-metadata-file ./data/metadata/fungut_metadata_processed.tsv \\\n",
    "  --o-visualization ./data/alpha_diversity/alpha-rarefaction.qzv\n"
   ]
  },
  {
   "cell_type": "code",
   "execution_count": 3,
   "id": "97a242cc-97fe-4c9b-85cb-bec081817655",
   "metadata": {
    "tags": []
   },
   "outputs": [
    {
     "data": {
      "text/html": [
       "<div><img onload=\"(function(div, url){\n",
       "if (typeof require !== 'undefined') {\n",
       "    var baseURL = require.toUrl('').split('/').slice(0, -2).join('/');\n",
       "} else {\n",
       "    var baseURL = JSON.parse(\n",
       "        document.getElementById('jupyter-config-data').innerHTML\n",
       "    ).baseUrl.slice(0, -1);\n",
       "}\n",
       "url = baseURL + url;\n",
       "fetch(url).then(function(res) {\n",
       "    if (res.status === 404) {\n",
       "        div.innerHTML = 'Install QIIME 2 Jupyter extension with:<br />' +\n",
       "                        '<code>jupyter serverextension enable --py qiime2' +\n",
       "                        ' --sys-prefix</code><br />then restart your server.' +\n",
       "                        '<br /><br />(Interactive output not available on ' +\n",
       "                        'static notebook viewer services like nbviewer.)';\n",
       "    } else if (res.status === 409) {\n",
       "        div.innerHTML = 'Visualization no longer in scope. Re-run this cell' +\n",
       "                        ' to see the visualization.';\n",
       "    } else if (res.ok) {\n",
       "        url = res.url;\n",
       "        div.innerHTML = '<iframe src=\\'' + url + '\\' style=\\'' +\n",
       "                        'width: 100%; height: 700px; border: 0;\\'>' +\n",
       "                        '</iframe><hr />Open in a: <a href=\\'' + url + '\\'' +\n",
       "                        ' target=\\'_blank\\'>new window</a>'\n",
       "    } else {\n",
       "        div.innerHTML = 'Something has gone wrong. Check notebook server for' +\n",
       "                        ' errors.';\n",
       "    }\n",
       "});\n",
       "})(this.parentElement, '/qiime2/redirect?location=/tmp/qiime2/jovyan/data/8f71a580-4c35-49c0-932b-d87061036f49')\" src=\"data:image/gif;base64,R0lGODlhAQABAIAAAP///wAAACH5BAEAAAAALAAAAAABAAEAAAICRAEAOw==\" /></div>"
      ],
      "text/plain": [
       "<visualization: Visualization uuid: 8f71a580-4c35-49c0-932b-d87061036f49>"
      ]
     },
     "execution_count": 3,
     "metadata": {},
     "output_type": "execute_result"
    }
   ],
   "source": [
    "Visualization.load('./data/alpha_diversity/alpha-rarefaction.qzv')"
   ]
  },
  {
   "cell_type": "markdown",
   "id": "8384e8fc-1b75-44ae-aaaf-48a2872b0fc8",
   "metadata": {},
   "source": [
    "#### Selecting Sampling Depth\n",
    "We chose a sequencing depth of 5000 for computing diversity metrics, as the Shannon diversity metric plateaus just before this point. This ensures we balance capturing diversity without over-representing undersampled features.\n"
   ]
  },
  {
   "cell_type": "code",
   "execution_count": 40,
   "id": "1c41aad5-0caf-4790-86ac-bdd0e17ea9e8",
   "metadata": {
    "tags": []
   },
   "outputs": [
    {
     "name": "stdout",
     "output_type": "stream",
     "text": [
      "\u001b[32mSaved FeatureTable[Frequency] to: ./data/alpha_diversity/core-metrics-results/rarefied_table.qza\u001b[0m\n",
      "\u001b[32mSaved SampleData[AlphaDiversity] to: ./data/alpha_diversity/core-metrics-results/faith_pd_vector.qza\u001b[0m\n",
      "\u001b[32mSaved SampleData[AlphaDiversity] to: ./data/alpha_diversity/core-metrics-results/observed_features_vector.qza\u001b[0m\n",
      "\u001b[32mSaved SampleData[AlphaDiversity] to: ./data/alpha_diversity/core-metrics-results/shannon_vector.qza\u001b[0m\n",
      "\u001b[32mSaved SampleData[AlphaDiversity] to: ./data/alpha_diversity/core-metrics-results/evenness_vector.qza\u001b[0m\n",
      "\u001b[32mSaved DistanceMatrix to: ./data/alpha_diversity/core-metrics-results/unweighted_unifrac_distance_matrix.qza\u001b[0m\n",
      "\u001b[32mSaved DistanceMatrix to: ./data/alpha_diversity/core-metrics-results/weighted_unifrac_distance_matrix.qza\u001b[0m\n",
      "\u001b[32mSaved DistanceMatrix to: ./data/alpha_diversity/core-metrics-results/jaccard_distance_matrix.qza\u001b[0m\n",
      "\u001b[32mSaved DistanceMatrix to: ./data/alpha_diversity/core-metrics-results/bray_curtis_distance_matrix.qza\u001b[0m\n",
      "\u001b[32mSaved PCoAResults to: ./data/alpha_diversity/core-metrics-results/unweighted_unifrac_pcoa_results.qza\u001b[0m\n",
      "\u001b[32mSaved PCoAResults to: ./data/alpha_diversity/core-metrics-results/weighted_unifrac_pcoa_results.qza\u001b[0m\n",
      "\u001b[32mSaved PCoAResults to: ./data/alpha_diversity/core-metrics-results/jaccard_pcoa_results.qza\u001b[0m\n",
      "\u001b[32mSaved PCoAResults to: ./data/alpha_diversity/core-metrics-results/bray_curtis_pcoa_results.qza\u001b[0m\n",
      "\u001b[32mSaved Visualization to: ./data/alpha_diversity/core-metrics-results/unweighted_unifrac_emperor.qzv\u001b[0m\n",
      "\u001b[32mSaved Visualization to: ./data/alpha_diversity/core-metrics-results/weighted_unifrac_emperor.qzv\u001b[0m\n",
      "\u001b[32mSaved Visualization to: ./data/alpha_diversity/core-metrics-results/jaccard_emperor.qzv\u001b[0m\n",
      "\u001b[32mSaved Visualization to: ./data/alpha_diversity/core-metrics-results/bray_curtis_emperor.qzv\u001b[0m\n",
      "\u001b[0m"
     ]
    }
   ],
   "source": [
    "! qiime diversity core-metrics-phylogenetic \\\n",
    "  --i-table ./data/filtered-feature-table.qza \\\n",
    "  --i-phylogeny ./data/phylogeny/fast-tree-rooted.qza \\\n",
    "  --m-metadata-file ./data/metadata/fungut_metadata_processed.tsv \\\n",
    "  --p-sampling-depth 5000 \\\n",
    "  --output-dir ./data/alpha_diversity/core-metrics-results"
   ]
  },
  {
   "cell_type": "markdown",
   "id": "e00357ec-7a7e-40a8-b3ae-d25a80b78c4a",
   "metadata": {},
   "source": [
    "### Core Metrics Visualization\n",
    "We created an interactive widget to easily explore the core diversity metrics. You can switch between different visualizations, such as Faith's PD or Shannon Index, to examine how diversity varies across sample groups.\n"
   ]
  },
  {
   "cell_type": "code",
   "execution_count": 4,
   "id": "bf71a394-2441-4b19-973a-9cd40d525f9a",
   "metadata": {
    "tags": []
   },
   "outputs": [
    {
     "data": {
      "application/vnd.jupyter.widget-view+json": {
       "model_id": "4d61a3d902a14cc285b492425347e8d6",
       "version_major": 2,
       "version_minor": 0
      },
      "text/plain": [
       "Dropdown(description='Select .qzv file:', options=('bray_curtis_emperor.qzv', 'jaccard_emperor.qzv', 'weighted…"
      ]
     },
     "metadata": {},
     "output_type": "display_data"
    },
    {
     "data": {
      "application/vnd.jupyter.widget-view+json": {
       "model_id": "53f2de4b37db4233a15fe0ddbbf64b1c",
       "version_major": 2,
       "version_minor": 0
      },
      "text/plain": [
       "Output()"
      ]
     },
     "metadata": {},
     "output_type": "display_data"
    }
   ],
   "source": [
    "sys.path.append(os.path.join(os.getcwd(), 'scripts'))\n",
    "from qzv_selector import display_qzv_selector\n",
    "display_qzv_selector('./data/alpha_diversity/core-metrics-results')"
   ]
  },
  {
   "cell_type": "markdown",
   "id": "3c3e82e2-4e54-4c97-a9a6-329972ddcecb",
   "metadata": {},
   "source": [
    "### The next codeblock is another widget to select the categorical data to view the Faith PD boxplot for\n",
    "### Select a category and run the codeblock below it to display the boxplot"
   ]
  },
  {
   "cell_type": "code",
   "execution_count": 20,
   "id": "310b9a41-3b16-4bcc-98c8-4c2eace9af18",
   "metadata": {
    "tags": []
   },
   "outputs": [
    {
     "data": {
      "application/vnd.jupyter.widget-view+json": {
       "model_id": "d35637b76f744820a2da234deaaac9ad",
       "version_major": 2,
       "version_minor": 0
      },
      "text/plain": [
       "VBox(children=(Dropdown(description='Select Category:', options=('country', 'state', 'sex', 'diet_type', 'ibd'…"
      ]
     },
     "metadata": {},
     "output_type": "display_data"
    }
   ],
   "source": [
    "# test_import.py\n",
    "from qzv_selector import create_category_selector\n",
    "\n",
    "category_dropdown = create_category_selector()\n"
   ]
  },
  {
   "cell_type": "code",
   "execution_count": 24,
   "id": "258cc11e-d67f-4c59-901b-8aba55d71355",
   "metadata": {
    "tags": []
   },
   "outputs": [
    {
     "name": "stderr",
     "output_type": "stream",
     "text": [
      "/opt/conda/lib/python3.9/site-packages/q2_types/sample_data/_transformer.py:27: FutureWarning: errors='ignore' is deprecated and will raise in a future version. Use to_numeric without passing `errors` and catch exceptions explicitly instead\n",
      "  df[cols] = df[cols].apply(pd.to_numeric, errors='ignore')\n"
     ]
    },
    {
     "data": {
      "image/png": "[encoded data removed]",
      "text/plain": [
       "<Figure size 640x480 with 1 Axes>"
      ]
     },
     "metadata": {},
     "output_type": "display_data"
    }
   ],
   "source": [
    "types = category_dropdown.value\n",
    "\n",
    "div = q2.Artifact.load('./data/alpha_diversity/core-metrics-results/faith_pd_vector.qza').view(pd.Series)\n",
    "md = pd.read_csv('./data/metadata/fungut_metadata_processed.tsv', sep='\\t', index_col=0)[f'{types}_sample']\n",
    "# Concatenate the series that we provided\n",
    "dd = pd.concat([div, md], axis=1, join='inner')\n",
    "\n",
    "# make a boxplot with Faith PD on the y-axis and the selected 'type' on the x-axis (hint: look at the \"by\" parameter)\n",
    "sns.boxplot(x=f'{types}_sample', y = dd.columns[0], data = dd)\n",
    "plt.xlabel(f'{types}_sample')\n",
    "plt.xticks(rotation = 80)\n",
    "plt.ylabel('Faith PD')\n",
    "plt.title(f'Faith PD Boxplot by {types}_sample')\n",
    "plt.savefig(f'./plots/faith_PD_boxplot_by_{types}.png')\n",
    "plt.show()"
   ]
  },
  {
   "cell_type": "markdown",
   "id": "dca2c228-ee95-4b40-8f5a-f0edf31b2dc0",
   "metadata": {},
   "source": [
    "## Conclusions from Faith's Phylogenetic Diversity (PD) Boxplots\n",
    "\n",
    "**Understanding Faith's PD**: Faith's Phylogenetic Diversity (PD) quantifies the total branch lengths of a phylogenetic tree that span all species within a community. Essentially, it measures the amount of evolutionary history represented in a sample, with higher values indicating greater biodiversity.\n",
    "\n",
    "### 1. Gluten Sample\n",
    "- **Observations**:\n",
    "  - Individuals without gluten restrictions exhibit the widest range of Faith's PD, suggesting higher phylogenetic diversity.\n",
    "  - Those diagnosed with celiac disease or gluten allergies show lower diversity, possibly due to dietary limitations or health factors.\n",
    "\n",
    "### 2. IBD Sample\n",
    "- **Observations**:\n",
    "  - Samples labeled \"Self-diagnosed\" and \"Diagnosed by a medial professional\" display the lowest variability in Faith's PD.\n",
    "  - Not provided show large variability, which one would expect to contain perople with and without the disease.\n",
    "  - Individuals \"Diagnosed by a medical professional\" have notably lower diversity, indicating a potential association between confirmed IBD and reduced microbial diversity, as we would expect.\n",
    "\n",
    "### 3. Diet Type\n",
    "- **Observations**:\n",
    "  - Omnivores demonstrate the highest diversity range, including some extreme outliers, suggesting greater microbial diversity compared to other diet groups.\n",
    "  - Vegans exhibit higher diversity than vegetarians which seems a bit strange, one would expect it to be lower, but look here.\n",
    "\n",
    "### 4. Sex\n",
    "- **Observations**:\n",
    "  - No significant differences in Faith's PD are observed between males and females, indicating that gender alone may not substantially influence phylogenetic diversity.\n",
    "\n",
    "### 5. State Sample\n",
    "- **Observations**:\n",
    "  - Faith's PD varies across states; for instance, Tennessee (TN) and California (CA) show broader distributions, while Maryland (MD) and Massachusetts (MA) have narrower ranges.\n",
    "  - These differences may reflect regional dietary habits or environmental factors affecting gut microbiota.\n",
    "\n",
    "### 6. Country Sample\n",
    "- **Observations**:\n",
    "  - The USA exhibits the broadest range of Faith's PD, possibly due to diverse diets.\n",
    "  - Countries like Germany and the Isle of Man show lower diversity, potentially reflecting smaller sample sizes or more uniform dietary practices.\n",
    "\n",
    "### Overall Insights\n",
    "- Higher Faith's PD is associated with broader dietary diversity and the absence of restrictive health conditions.\n",
    "- Regional and national differences suggest that diet, lifestyle, and environment influence gut microbiota diversity.\n",
    "- Reduced diversity in groups with medically diagnosed conditions (e.g., celiac disease, IBD) highlights the impact of health on microbial diversity.\n",
    "\n",
    "---\n"
   ]
  }
 ],
 "metadata": {
  "kernelspec": {
   "display_name": "QIIME 2",
   "language": "python",
   "name": "python3"
  },
  "language_info": {
   "codemirror_mode": {
    "name": "ipython",
    "version": 3
   },
   "file_extension": ".py",
   "mimetype": "text/x-python",
   "name": "python",
   "nbconvert_exporter": "python",
   "pygments_lexer": "ipython3",
   "version": "3.9.19"
  }
 },
 "nbformat": 4,
 "nbformat_minor": 5
}
