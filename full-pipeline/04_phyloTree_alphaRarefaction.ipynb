{
 "cells": [
  {
   "cell_type": "markdown",
   "id": "fa44c477-b86e-4616-a9bc-7a34d8a55584",
   "metadata": {},
   "source": [
    "# Phylogenetic Tree  & Alpha Rarefaction analysis"
   ]
  },
  {
   "cell_type": "code",
   "execution_count": 2,
   "id": "babb3bf0-a258-4eec-8547-713c3534550e",
   "metadata": {
    "tags": []
   },
   "outputs": [],
   "source": [
    "import os # version: 3.9.19\n",
    "import sys # version: 3.9.19\n",
    "import pandas as pd # version: 2.2.2\n",
    "import qiime2 as q2 # version: 2024.5.0\n",
    "from qiime2 import Visualization\n",
    "import matplotlib.pyplot as plt # version: 3.8.4\n",
    "import seaborn as sns # version: 0.12.2\n",
    "%matplotlib inline\n",
    "\n",
    "# Define the data directory\n",
    "data_dir = '/data'"
   ]
  },
  {
   "cell_type": "markdown",
   "id": "a32fc128-3fcd-432f-ae7a-0c051d5772d9",
   "metadata": {
    "tags": []
   },
   "source": [
    "### Creating a phylogenetic tree\n",
    "\n",
    "#### First we align our sequences"
   ]
  },
  {
   "cell_type": "code",
   "execution_count": 3,
   "id": "73b4b271-f0dc-40bb-847a-1dcfa4241e42",
   "metadata": {
    "tags": []
   },
   "outputs": [
    {
     "name": "stdout",
     "output_type": "stream",
     "text": [
      "\u001b[32mSaved FeatureData[AlignedSequence] to: ./data/phylogeny/aligned-rep-seqs.qza\u001b[0m\n",
      "\u001b[0m"
     ]
    }
   ],
   "source": [
    "! qiime alignment mafft \\\n",
    "    --i-sequences ./data/feature_tables_dada/rep-seqs.qza \\\n",
    "    --o-alignment ./data/phylogeny/aligned-rep-seqs.qza"
   ]
  },
  {
   "cell_type": "markdown",
   "id": "ea273e5e-e509-40d7-a4a9-c719bfe0b9f3",
   "metadata": {},
   "source": [
    "#### Alignment masking"
   ]
  },
  {
   "cell_type": "code",
   "execution_count": 4,
   "id": "ec11ef0f-f99a-4aff-9306-277d95fb49ff",
   "metadata": {
    "tags": []
   },
   "outputs": [
    {
     "name": "stdout",
     "output_type": "stream",
     "text": [
      "\u001b[32mSaved FeatureData[AlignedSequence] to: ./data/phylogeny/masked-aligned-rep-seqs.qza\u001b[0m\n",
      "\u001b[0m"
     ]
    }
   ],
   "source": [
    "! qiime alignment mask \\\n",
    "    --i-alignment ./data/phylogeny/aligned-rep-seqs.qza \\\n",
    "    --o-masked-alignment ./data/phylogeny/masked-aligned-rep-seqs.qza"
   ]
  },
  {
   "cell_type": "markdown",
   "id": "fefe13a5-dddf-4e9a-b898-ada2e7b254ac",
   "metadata": {},
   "source": [
    "#### Tree construction"
   ]
  },
  {
   "cell_type": "code",
   "execution_count": 5,
   "id": "4b66ff40-6b35-44f1-aa35-2ed5988b8994",
   "metadata": {
    "tags": []
   },
   "outputs": [
    {
     "name": "stdout",
     "output_type": "stream",
     "text": [
      "\u001b[32mSaved Phylogeny[Unrooted] to: ./data/phylogeny/fast-tree.qza\u001b[0m\n",
      "\u001b[0m\u001b[32mSaved Phylogeny[Rooted] to: ./data/phylogeny/fast-tree-rooted.qza\u001b[0m\n",
      "\u001b[0m"
     ]
    }
   ],
   "source": [
    "! qiime phylogeny fasttree \\\n",
    "    --i-alignment ./data/phylogeny/masked-aligned-rep-seqs.qza \\\n",
    "    --o-tree ./data/phylogeny/fast-tree.qza\n",
    "\n",
    "! qiime phylogeny midpoint-root \\\n",
    "    --i-tree ./data/phylogeny/fast-tree.qza \\\n",
    "    --o-rooted-tree ./data/phylogeny/fast-tree-rooted.qza"
   ]
  },
  {
   "cell_type": "markdown",
   "id": "09036dc0-2940-4a10-8420-6b422ae10e2b",
   "metadata": {},
   "source": [
    "#### Unable to create tree visualization on Jupyter\n",
    "\n",
    "Sadly we weren't able to install the qiime2 plugin empress to create the tree visualization, which is why we ran this step on `Euler`.\n",
    "The bash file we executed on Euler can be found in `./scripts/tree_visualization.sh`."
   ]
  },
  {
   "cell_type": "code",
   "execution_count": 3,
   "id": "33ea9d42-1884-4db1-91c4-629f6cbe9a1e",
   "metadata": {
    "tags": []
   },
   "outputs": [
    {
     "data": {
      "text/html": [
       "<div><img onload=\"(function(div, url){\n",
       "if (typeof require !== 'undefined') {\n",
       "    var baseURL = require.toUrl('').split('/').slice(0, -2).join('/');\n",
       "} else {\n",
       "    var baseURL = JSON.parse(\n",
       "        document.getElementById('jupyter-config-data').innerHTML\n",
       "    ).baseUrl.slice(0, -1);\n",
       "}\n",
       "url = baseURL + url;\n",
       "fetch(url).then(function(res) {\n",
       "    if (res.status === 404) {\n",
       "        div.innerHTML = 'Install QIIME 2 Jupyter extension with:<br />' +\n",
       "                        '<code>jupyter serverextension enable --py qiime2' +\n",
       "                        ' --sys-prefix</code><br />then restart your server.' +\n",
       "                        '<br /><br />(Interactive output not available on ' +\n",
       "                        'static notebook viewer services like nbviewer.)';\n",
       "    } else if (res.status === 409) {\n",
       "        div.innerHTML = 'Visualization no longer in scope. Re-run this cell' +\n",
       "                        ' to see the visualization.';\n",
       "    } else if (res.ok) {\n",
       "        url = res.url;\n",
       "        div.innerHTML = '<iframe src=\\'' + url + '\\' style=\\'' +\n",
       "                        'width: 100%; height: 700px; border: 0;\\'>' +\n",
       "                        '</iframe><hr />Open in a: <a href=\\'' + url + '\\'' +\n",
       "                        ' target=\\'_blank\\'>new window</a>'\n",
       "    } else {\n",
       "        div.innerHTML = 'Something has gone wrong. Check notebook server for' +\n",
       "                        ' errors.';\n",
       "    }\n",
       "});\n",
       "})(this.parentElement, '/qiime2/redirect?location=/tmp/qiime2/jovyan/data/65627d58-5d93-45f6-b058-165ddd931101')\" src=\"data:image/gif;base64,R0lGODlhAQABAIAAAP///wAAACH5BAEAAAAALAAAAAABAAEAAAICRAEAOw==\" /></div>"
      ],
      "text/plain": [
       "<visualization: Visualization uuid: 65627d58-5d93-45f6-b058-165ddd931101>"
      ]
     },
     "execution_count": 3,
     "metadata": {},
     "output_type": "execute_result"
    }
   ],
   "source": [
    "Visualization.load('./data/phylogeny/fast-tree-rooted.qzv')"
   ]
  },
  {
   "cell_type": "markdown",
   "id": "cfc1bb17-ea97-493c-a2e1-a89b2cefb29e",
   "metadata": {},
   "source": [
    "## Alpha rarefaction"
   ]
  },
  {
   "cell_type": "code",
   "execution_count": 9,
   "id": "bdb5603c-4f71-4053-aebd-a249d7d1c55b",
   "metadata": {
    "tags": []
   },
   "outputs": [
    {
     "name": "stdout",
     "output_type": "stream",
     "text": [
      "\u001b[32mSaved Visualization to: ./data/alpha_diversity/alpha-rarefaction.qzv\u001b[0m\n",
      "\u001b[0m"
     ]
    }
   ],
   "source": [
    "!qiime diversity alpha-rarefaction \\\n",
    "  --i-table ./data/feature_tables_dada/filtered-feature-table.qza \\\n",
    "  --p-max-depth  30000 \\\n",
    "  --m-metadata-file ./data/metadata/fungut_metadata_processed.tsv \\\n",
    "  --o-visualization ./data/alpha_diversity/alpha-rarefaction.qzv\n"
   ]
  },
  {
   "cell_type": "code",
   "execution_count": 3,
   "id": "97a242cc-97fe-4c9b-85cb-bec081817655",
   "metadata": {
    "tags": []
   },
   "outputs": [
    {
     "data": {
      "text/html": [
       "<div><img onload=\"(function(div, url){\n",
       "if (typeof require !== 'undefined') {\n",
       "    var baseURL = require.toUrl('').split('/').slice(0, -2).join('/');\n",
       "} else {\n",
       "    var baseURL = JSON.parse(\n",
       "        document.getElementById('jupyter-config-data').innerHTML\n",
       "    ).baseUrl.slice(0, -1);\n",
       "}\n",
       "url = baseURL + url;\n",
       "fetch(url).then(function(res) {\n",
       "    if (res.status === 404) {\n",
       "        div.innerHTML = 'Install QIIME 2 Jupyter extension with:<br />' +\n",
       "                        '<code>jupyter serverextension enable --py qiime2' +\n",
       "                        ' --sys-prefix</code><br />then restart your server.' +\n",
       "                        '<br /><br />(Interactive output not available on ' +\n",
       "                        'static notebook viewer services like nbviewer.)';\n",
       "    } else if (res.status === 409) {\n",
       "        div.innerHTML = 'Visualization no longer in scope. Re-run this cell' +\n",
       "                        ' to see the visualization.';\n",
       "    } else if (res.ok) {\n",
       "        url = res.url;\n",
       "        div.innerHTML = '<iframe src=\\'' + url + '\\' style=\\'' +\n",
       "                        'width: 100%; height: 700px; border: 0;\\'>' +\n",
       "                        '</iframe><hr />Open in a: <a href=\\'' + url + '\\'' +\n",
       "                        ' target=\\'_blank\\'>new window</a>'\n",
       "    } else {\n",
       "        div.innerHTML = 'Something has gone wrong. Check notebook server for' +\n",
       "                        ' errors.';\n",
       "    }\n",
       "});\n",
       "})(this.parentElement, '/qiime2/redirect?location=/tmp/qiime2/jovyan/data/0addcaed-fe73-4c78-a622-26f9a161d932')\" src=\"data:image/gif;base64,R0lGODlhAQABAIAAAP///wAAACH5BAEAAAAALAAAAAABAAEAAAICRAEAOw==\" /></div>"
      ],
      "text/plain": [
       "<visualization: Visualization uuid: 0addcaed-fe73-4c78-a622-26f9a161d932>"
      ]
     },
     "execution_count": 3,
     "metadata": {},
     "output_type": "execute_result"
    }
   ],
   "source": [
    "Visualization.load('./data/alpha_diversity/alpha-rarefaction.qzv')"
   ]
  },
  {
   "cell_type": "markdown",
   "id": "8384e8fc-1b75-44ae-aaaf-48a2872b0fc8",
   "metadata": {
    "tags": []
   },
   "source": [
    "#### Compute metrics (non-phylogenetic)\n",
    "We chose a sampling depth of 4000, as the shannon metric plateaus shortly before it  \n"
   ]
  },
  {
   "cell_type": "code",
   "execution_count": 14,
   "id": "1c41aad5-0caf-4790-86ac-bdd0e17ea9e8",
   "metadata": {
    "tags": []
   },
   "outputs": [
    {
     "name": "stdout",
     "output_type": "stream",
     "text": [
      "\u001b[32mSaved FeatureTable[Frequency] to: ./data/alpha_diversity/core-metrics-results/rarefied_table.qza\u001b[0m\n",
      "\u001b[32mSaved SampleData[AlphaDiversity] to: ./data/alpha_diversity/core-metrics-results/observed_features_vector.qza\u001b[0m\n",
      "\u001b[32mSaved SampleData[AlphaDiversity] to: ./data/alpha_diversity/core-metrics-results/shannon_vector.qza\u001b[0m\n",
      "\u001b[32mSaved SampleData[AlphaDiversity] to: ./data/alpha_diversity/core-metrics-results/evenness_vector.qza\u001b[0m\n",
      "\u001b[32mSaved DistanceMatrix to: ./data/alpha_diversity/core-metrics-results/jaccard_distance_matrix.qza\u001b[0m\n",
      "\u001b[32mSaved DistanceMatrix to: ./data/alpha_diversity/core-metrics-results/bray_curtis_distance_matrix.qza\u001b[0m\n",
      "\u001b[32mSaved PCoAResults to: ./data/alpha_diversity/core-metrics-results/jaccard_pcoa_results.qza\u001b[0m\n",
      "\u001b[32mSaved PCoAResults to: ./data/alpha_diversity/core-metrics-results/bray_curtis_pcoa_results.qza\u001b[0m\n",
      "\u001b[32mSaved Visualization to: ./data/alpha_diversity/core-metrics-results/jaccard_emperor.qzv\u001b[0m\n",
      "\u001b[32mSaved Visualization to: ./data/alpha_diversity/core-metrics-results/bray_curtis_emperor.qzv\u001b[0m\n",
      "\u001b[0m"
     ]
    }
   ],
   "source": [
    "! qiime diversity core-metrics \\\n",
    "  --i-table ./data/feature_tables_dada/filtered-feature-table.qza \\\n",
    "  --m-metadata-file ./data/metadata/fungut_metadata_processed.tsv \\\n",
    "  --p-sampling-depth 4000 \\\n",
    "  --output-dir ./data/alpha_diversity/core-metrics-results"
   ]
  },
  {
   "cell_type": "markdown",
   "id": "f86dfaa2-70bc-4229-aa1b-1ef3b22b0447",
   "metadata": {},
   "source": [
    "## Core metrics Visualization (PCoA)\n",
    "\n",
    "### We created an interactive widget to easliy explore the diversity metrics. You can switch between the different emperor metric visualizations by selecting from the fropdown menu after running the next code block."
   ]
  },
  {
   "cell_type": "code",
   "execution_count": 2,
   "id": "bf71a394-2441-4b19-973a-9cd40d525f9a",
   "metadata": {
    "tags": []
   },
   "outputs": [
    {
     "data": {
      "application/vnd.jupyter.widget-view+json": {
       "model_id": "4be54c88d1f848cea2735d816e68b46a",
       "version_major": 2,
       "version_minor": 0
      },
      "text/plain": [
       "Dropdown(description='Select .qzv file:', options=('bray_curtis_emperor.qzv', 'jaccard_emperor.qzv'), value='b…"
      ]
     },
     "metadata": {},
     "output_type": "display_data"
    },
    {
     "data": {
      "application/vnd.jupyter.widget-view+json": {
       "model_id": "555a36d2ebfd4531ba21df2b99e8cdc2",
       "version_major": 2,
       "version_minor": 0
      },
      "text/plain": [
       "Output()"
      ]
     },
     "metadata": {},
     "output_type": "display_data"
    }
   ],
   "source": [
    "sys.path.append(os.path.join(os.getcwd(), 'scripts'))\n",
    "from qzv_selector import display_qzv_selector\n",
    "display_qzv_selector('./data/alpha_diversity/core-metrics-results')"
   ]
  },
  {
   "cell_type": "markdown",
   "id": "e797bbbb-6947-425b-9457-e72e920f6290",
   "metadata": {},
   "source": [
    "# Conclusion from core metric results\n"
   ]
  },
  {
   "cell_type": "markdown",
   "id": "4258e116-a660-48aa-92ec-e9e78eedd64c",
   "metadata": {},
   "source": [
    "-----------------------------------------------------------------------------------------------------------------------"
   ]
  },
  {
   "cell_type": "markdown",
   "id": "ded5641b-cdc7-4e96-b5f1-7c28ac302464",
   "metadata": {},
   "source": [
    "## The next codeblock is another widget to select the categorical data to view the boxplots for the selected data type\n",
    "### Select a category and run the codeblock below to display the boxplot"
   ]
  },
  {
   "cell_type": "code",
   "execution_count": 3,
   "id": "310b9a41-3b16-4bcc-98c8-4c2eace9af18",
   "metadata": {
    "tags": []
   },
   "outputs": [
    {
     "data": {
      "application/vnd.jupyter.widget-view+json": {
       "model_id": "0d1dd38dfdc043fda4f26bb5fc28d189",
       "version_major": 2,
       "version_minor": 0
      },
      "text/plain": [
       "VBox(children=(Dropdown(description='Select Category:', options=('country_sample', 'state_sample', 'sex_sample…"
      ]
     },
     "metadata": {},
     "output_type": "display_data"
    }
   ],
   "source": [
    "# test_import.py\n",
    "from qzv_selector import create_category_selector\n",
    "\n",
    "category_dropdown = create_category_selector()\n"
   ]
  },
  {
   "cell_type": "markdown",
   "id": "37b52925-da2c-4ccf-b60b-7f991b6cb037",
   "metadata": {},
   "source": [
    "## Set the \"vector\" to shannon or evenness, these have been given from the core-metrics-results."
   ]
  },
  {
   "cell_type": "code",
   "execution_count": 11,
   "id": "258cc11e-d67f-4c59-901b-8aba55d71355",
   "metadata": {
    "tags": []
   },
   "outputs": [
    {
     "name": "stderr",
     "output_type": "stream",
     "text": [
      "/opt/conda/lib/python3.9/site-packages/q2_types/sample_data/_transformer.py:27: FutureWarning: errors='ignore' is deprecated and will raise in a future version. Use to_numeric without passing `errors` and catch exceptions explicitly instead\n",
      "  df[cols] = df[cols].apply(pd.to_numeric, errors='ignore')\n"
     ]
    },
    {
     "data": {
      "image/png": "[encoded data removed]",
      "text/plain": [
       "<Figure size 640x480 with 1 Axes>"
      ]
     },
     "metadata": {},
     "output_type": "display_data"
    }
   ],
   "source": [
    "types = category_dropdown.value\n",
    "\n",
    "vector = \"shannon\" # or \"evenness\"\n",
    "\n",
    "div = q2.Artifact.load(f'./data/alpha_diversity/core-metrics-results/{vector}_vector.qza').view(pd.Series)\n",
    "md = pd.read_csv('./data/metadata/fungut_metadata_processed.tsv', sep='\\t', index_col=0)[f'{types}']\n",
    "# Concatenate the series that we provided\n",
    "dd = pd.concat([div, md], axis=1, join='inner')\n",
    "\n",
    "# make a boxplot with Faith PD on the y-axis and the selected 'type' on the x-axis (hint: look at the \"by\" parameter)\n",
    "sns.boxplot(x=f'{types}', y = dd.columns[0], data = dd)\n",
    "plt.xlabel(f'{types}')\n",
    "plt.xticks(rotation = 80)\n",
    "plt.ylabel(f'{vector}')\n",
    "plt.title(f'{vector} boxplot by {types}')\n",
    "plt.show()"
   ]
  },
  {
   "cell_type": "code",
   "execution_count": null,
   "id": "1a1e8997-6d3b-4a1e-a916-da871972efee",
   "metadata": {},
   "outputs": [],
   "source": []
  },
  {
   "cell_type": "markdown",
   "id": "d2f1b32c-da65-433a-a122-e5b0ca8ea813",
   "metadata": {
    "tags": []
   },
   "source": [
    "# Conclusions from Faith's Phylogenetic Diversity (PD) Boxplots\n",
    "\n",
    "**Understanding Faith's PD:**  \n",
    "Faith's Phylogenetic Diversity (PD) quantifies the total branch lengths of a phylogenetic tree that span all species within a community. Essentially, it measures the amount of evolutionary history represented in a sample, with higher values indicating greater biodiversity.\n",
    "\n",
    "## 1. Gluten Sample\n",
    "\n",
    "**Observations:**\n",
    "- Individuals without gluten restrictions exhibit the widest range of Faith's PD, suggesting higher phylogenetic diversity.\n",
    "- Those diagnosed with celiac disease or gluten allergies show lower diversity, possibly due to dietary limitations or health factors.\n",
    "\n",
    "## 2. IBD Sample\n",
    "\n",
    "**Observations:**\n",
    "- Samples labeled \"Self-diagnosed\" and \"Diagnosed by a medical professional\" display the lowest variability in Faith's PD.\n",
    "- \"Not provided\" show large variability, which one would expect to contain people with and without the disease.\n",
    "- Individuals \"Diagnosed by a medical professional\" have notably lower diversity, indicating a potential association between confirmed IBD and reduced microbial diversity, as we would expect.\n",
    "\n",
    "## 3. Diet Type\n",
    "\n",
    "**Observations:**\n",
    "- Omnivores demonstrate the highest diversity range, including some extreme outliers, suggesting greater microbial diversity compared to other diet groups.\n",
    "- Vegans exhibit higher diversity than vegetarians which seems a bit strange, one would expect it to be lower, but look here.\n",
    "\n",
    "## 4. Sex\n",
    "\n",
    "**Observations:**\n",
    "- No significant differences in Faith's PD are observed between males and females, indicating that gender alone may not substantially influence phylogenetic diversity.\n",
    "\n",
    "## 5. State Sample\n",
    "\n",
    "**Observations:**\n",
    "- Faith's PD varies across states; for instance, Tennessee (TN) and California (CA) show broader distributions, while Maryland (MD) and Massachusetts (MA) have narrower ranges.\n",
    "- These differences may reflect regional dietary habits or environmental factors affecting gut microbiota.\n",
    "\n",
    "## 6. Country Sample\n",
    "\n",
    "**Observations:**\n",
    "- The USA exhibits the broadest range of Faith's PD, possibly due to diverse diets.\n",
    "- Countries like Germany and the Isle of Man show lower diversity, potentially reflecting smaller sample sizes or more uniform dietary practices.\n",
    "\n",
    "## Overall Insights\n",
    "- Higher Faith's PD is associated with broader dietary diversity and the absence of restrictive health conditions.\n",
    "- Regional and national differences suggest that diet, lifestyle, and environment influence gut microbiota diversity.\n",
    "- Reduced diversity in groups with medically diagnosed conditions (e.g., celiac disease, IBD) highlights the impact of health on microbial diversity.\n"
   ]
  }
 ],
 "metadata": {
  "kernelspec": {
   "display_name": "QIIME 2",
   "language": "python",
   "name": "python3"
  },
  "language_info": {
   "codemirror_mode": {
    "name": "ipython",
    "version": 3
   },
   "file_extension": ".py",
   "mimetype": "text/x-python",
   "name": "python",
   "nbconvert_exporter": "python",
   "pygments_lexer": "ipython3",
   "version": "3.9.19"
  }
 },
 "nbformat": 4,
 "nbformat_minor": 5
}
