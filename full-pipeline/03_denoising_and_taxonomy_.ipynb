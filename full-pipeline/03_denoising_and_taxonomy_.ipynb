{
 "cells": [
  {
   "cell_type": "markdown",
   "id": "fa44c477-b86e-4616-a9bc-7a34d8a55584",
   "metadata": {},
   "source": [
    "## 1. Primary analyses of our sequences"
   ]
  },
  {
   "cell_type": "code",
   "execution_count": 1,
   "id": "babb3bf0-a258-4eec-8547-713c3534550e",
   "metadata": {
    "tags": []
   },
   "outputs": [],
   "source": [
    "import os\n",
    "import sys\n",
    "import pandas as pd\n",
    "import qiime2 as q2\n",
    "from qiime2 import Visualization\n",
    "import matplotlib.pyplot as plt\n",
    "import seaborn as sns\n",
    "%matplotlib inline\n",
    "\n",
    "# Define the data directory\n",
    "data_dir = '/data'"
   ]
  },
  {
   "cell_type": "markdown",
   "id": "6543cb0a-f2e0-4312-8d99-d20aacac2782",
   "metadata": {},
   "source": [
    "### Checking out the reads"
   ]
  },
  {
   "cell_type": "code",
   "execution_count": 2,
   "id": "478cf25d-9707-4c49-9972-ca52c2eaf16e",
   "metadata": {
    "tags": []
   },
   "outputs": [
    {
     "name": "stdout",
     "output_type": "stream",
     "text": [
      "\u001b[32mSaved Visualization to: ./data/forward_reads/fungut_forward_reads_summary.qzv\u001b[0m\n",
      "\u001b[0m"
     ]
    }
   ],
   "source": [
    "! qiime demux summarize \\\n",
    "  --i-data ./data/forward_reads/fungut_forward_reads.qza \\\n",
    "  --o-visualization ./data/forward_reads/fungut_forward_reads_summary.qzv"
   ]
  },
  {
   "cell_type": "code",
   "execution_count": null,
   "id": "678eb38d-df7f-4e1e-88c9-394d7f989675",
   "metadata": {
    "tags": []
   },
   "outputs": [],
   "source": [
    "Visualization.load('./data/forward_reads/fungut_forward_reads_summary.qzv')"
   ]
  },
  {
   "cell_type": "markdown",
   "id": "f7295a29-4718-4001-9c68-ff5d70ca30bf",
   "metadata": {},
   "source": [
    "## 2. Filtering the forward reads according to the preprocessed Metadata\n",
    "\n",
    "We filtered the forward reads to retain only those samples that we kept in our metadata after removing certain NaN values.\n",
    "\n",
    "This ensures that our datasets are consistent and ready for downstream analyses."
   ]
  },
  {
   "cell_type": "code",
   "execution_count": 3,
   "id": "59afcc25-c5b1-4798-b6aa-e0bbe5153ed8",
   "metadata": {
    "tags": []
   },
   "outputs": [
    {
     "name": "stdout",
     "output_type": "stream",
     "text": [
      "\u001b[32mSaved SampleData[SequencesWithQuality] to: ./data/forward_reads/filtered_fungut_forward_reads.qza\u001b[0m\n",
      "\u001b[0m"
     ]
    }
   ],
   "source": [
    "!qiime demux filter-samples \\\n",
    "    --i-demux ./data/forward_reads/fungut_forward_reads.qza \\\n",
    "    --m-metadata-file ./data/metadata/fungut_metadata_processed.tsv \\\n",
    "    --o-filtered-demux ./data/forward_reads/filtered_fungut_forward_reads.qza"
   ]
  },
  {
   "cell_type": "markdown",
   "id": "5db3ba21-1d36-40bf-ba41-f55c5ececa6a",
   "metadata": {
    "tags": []
   },
   "source": [
    "### Checking out the filtered forward reads"
   ]
  },
  {
   "cell_type": "code",
   "execution_count": 4,
   "id": "cfb21c28-8e65-4ada-bcd0-d1221bc46d35",
   "metadata": {
    "tags": []
   },
   "outputs": [
    {
     "name": "stdout",
     "output_type": "stream",
     "text": [
      "\u001b[32mSaved Visualization to: ./data/forward_reads/filtered_fungut_forward_reads_summary.qzv\u001b[0m\n",
      "\u001b[0m"
     ]
    }
   ],
   "source": [
    "! qiime demux summarize \\\n",
    "  --i-data ./data/forward_reads/filtered_fungut_forward_reads.qza \\\n",
    "  --o-visualization ./data/forward_reads/filtered_fungut_forward_reads_summary.qzv"
   ]
  },
  {
   "cell_type": "code",
   "execution_count": 5,
   "id": "047a4dd1-fad3-4f6d-b071-5ccf9980874f",
   "metadata": {
    "tags": []
   },
   "outputs": [
    {
     "data": {
      "text/html": [
       "<div><img onload=\"(function(div, url){\n",
       "if (typeof require !== 'undefined') {\n",
       "    var baseURL = require.toUrl('').split('/').slice(0, -2).join('/');\n",
       "} else {\n",
       "    var baseURL = JSON.parse(\n",
       "        document.getElementById('jupyter-config-data').innerHTML\n",
       "    ).baseUrl.slice(0, -1);\n",
       "}\n",
       "url = baseURL + url;\n",
       "fetch(url).then(function(res) {\n",
       "    if (res.status === 404) {\n",
       "        div.innerHTML = 'Install QIIME 2 Jupyter extension with:<br />' +\n",
       "                        '<code>jupyter serverextension enable --py qiime2' +\n",
       "                        ' --sys-prefix</code><br />then restart your server.' +\n",
       "                        '<br /><br />(Interactive output not available on ' +\n",
       "                        'static notebook viewer services like nbviewer.)';\n",
       "    } else if (res.status === 409) {\n",
       "        div.innerHTML = 'Visualization no longer in scope. Re-run this cell' +\n",
       "                        ' to see the visualization.';\n",
       "    } else if (res.ok) {\n",
       "        url = res.url;\n",
       "        div.innerHTML = '<iframe src=\\'' + url + '\\' style=\\'' +\n",
       "                        'width: 100%; height: 700px; border: 0;\\'>' +\n",
       "                        '</iframe><hr />Open in a: <a href=\\'' + url + '\\'' +\n",
       "                        ' target=\\'_blank\\'>new window</a>'\n",
       "    } else {\n",
       "        div.innerHTML = 'Something has gone wrong. Check notebook server for' +\n",
       "                        ' errors.';\n",
       "    }\n",
       "});\n",
       "})(this.parentElement, '/qiime2/redirect?location=/tmp/qiime2/jovyan/data/5eb9ee38-66d2-4504-b3fb-e6fc5c430ec3')\" src=\"data:image/gif;base64,R0lGODlhAQABAIAAAP///wAAACH5BAEAAAAALAAAAAABAAEAAAICRAEAOw==\" /></div>"
      ],
      "text/plain": [
       "<visualization: Visualization uuid: 5eb9ee38-66d2-4504-b3fb-e6fc5c430ec3>"
      ]
     },
     "execution_count": 5,
     "metadata": {},
     "output_type": "execute_result"
    }
   ],
   "source": [
    "Visualization.load('./data/forward_reads/filtered_fungut_forward_reads_summary.qzv')"
   ]
  },
  {
   "cell_type": "markdown",
   "id": "40a6d7af-6b19-4cda-a9ee-1bdc11e281dc",
   "metadata": {},
   "source": [
    "## 3. Denoising with dada2\n",
    "\n",
    "Denoising was performed with DADA2 without truncating or trimming. This decision was based on the quality scores that remained cinsistently high (25th percentile ≥ 30) across the entire read length. \n",
    "\n",
    "Retaining the full length of sequences maximizes the information available for accurate taxonomic classification and diversity analysis later down the line.\n"
   ]
  },
  {
   "cell_type": "code",
   "execution_count": 6,
   "id": "7c7b91ea-a7bf-424c-8b59-d75141e1fef8",
   "metadata": {
    "tags": []
   },
   "outputs": [
    {
     "name": "stdout",
     "output_type": "stream",
     "text": [
      "\u001b[32mSaved FeatureTable[Frequency] to: ./data/feature_tables_dada/feature-table.qza\u001b[0m\n",
      "\u001b[32mSaved FeatureData[Sequence] to: ./data/feature_tables_dada/rep-seqs.qza\u001b[0m\n",
      "\u001b[32mSaved SampleData[DADA2Stats] to: ./data/feature_tables_dada/denoising-stats.qza\u001b[0m\n",
      "\u001b[0m"
     ]
    }
   ],
   "source": [
    "!qiime dada2 denoise-single \\\n",
    "  --i-demultiplexed-seqs ./data/forward_reads/filtered_fungut_forward_reads.qza \\\n",
    "  --p-trim-left 0 \\\n",
    "  --p-trunc-len 0 \\\n",
    "  --o-representative-sequences ./data/feature_tables_dada/rep-seqs.qza \\\n",
    "  --o-table ./data/feature_tables_dada/feature-table.qza \\\n",
    "  --o-denoising-stats ./data/feature_tables_dada/denoising-stats.qza"
   ]
  },
  {
   "cell_type": "markdown",
   "id": "74adcdac-3a0d-4314-9962-faf9e38adbd2",
   "metadata": {},
   "source": [
    "#### Check out the feature table"
   ]
  },
  {
   "cell_type": "code",
   "execution_count": 7,
   "id": "f1f88d1c-69d4-4fb9-9634-ecd742a12f76",
   "metadata": {
    "tags": []
   },
   "outputs": [
    {
     "name": "stdout",
     "output_type": "stream",
     "text": [
      "\u001b[32mSaved Visualization to: ./data/feature_tables_dada/feature-table-summary.qzv\u001b[0m\n",
      "\u001b[0m"
     ]
    }
   ],
   "source": [
    "!qiime feature-table summarize \\\n",
    "  --i-table ./data/feature_tables_dada/feature-table.qza \\\n",
    "  --o-visualization ./data/feature_tables_dada/feature-table-summary.qzv"
   ]
  },
  {
   "cell_type": "code",
   "execution_count": 8,
   "id": "bf08e82e-630c-45da-8db5-f840ac060eae",
   "metadata": {
    "tags": []
   },
   "outputs": [
    {
     "data": {
      "text/html": [
       "<div><img onload=\"(function(div, url){\n",
       "if (typeof require !== 'undefined') {\n",
       "    var baseURL = require.toUrl('').split('/').slice(0, -2).join('/');\n",
       "} else {\n",
       "    var baseURL = JSON.parse(\n",
       "        document.getElementById('jupyter-config-data').innerHTML\n",
       "    ).baseUrl.slice(0, -1);\n",
       "}\n",
       "url = baseURL + url;\n",
       "fetch(url).then(function(res) {\n",
       "    if (res.status === 404) {\n",
       "        div.innerHTML = 'Install QIIME 2 Jupyter extension with:<br />' +\n",
       "                        '<code>jupyter serverextension enable --py qiime2' +\n",
       "                        ' --sys-prefix</code><br />then restart your server.' +\n",
       "                        '<br /><br />(Interactive output not available on ' +\n",
       "                        'static notebook viewer services like nbviewer.)';\n",
       "    } else if (res.status === 409) {\n",
       "        div.innerHTML = 'Visualization no longer in scope. Re-run this cell' +\n",
       "                        ' to see the visualization.';\n",
       "    } else if (res.ok) {\n",
       "        url = res.url;\n",
       "        div.innerHTML = '<iframe src=\\'' + url + '\\' style=\\'' +\n",
       "                        'width: 100%; height: 700px; border: 0;\\'>' +\n",
       "                        '</iframe><hr />Open in a: <a href=\\'' + url + '\\'' +\n",
       "                        ' target=\\'_blank\\'>new window</a>'\n",
       "    } else {\n",
       "        div.innerHTML = 'Something has gone wrong. Check notebook server for' +\n",
       "                        ' errors.';\n",
       "    }\n",
       "});\n",
       "})(this.parentElement, '/qiime2/redirect?location=/tmp/qiime2/jovyan/data/337cbbc9-cb6d-4363-86f2-c07c8b1a1ede')\" src=\"data:image/gif;base64,R0lGODlhAQABAIAAAP///wAAACH5BAEAAAAALAAAAAABAAEAAAICRAEAOw==\" /></div>"
      ],
      "text/plain": [
       "<visualization: Visualization uuid: 337cbbc9-cb6d-4363-86f2-c07c8b1a1ede>"
      ]
     },
     "execution_count": 8,
     "metadata": {},
     "output_type": "execute_result"
    }
   ],
   "source": [
    "Visualization.load('./data/feature_tables_dada/feature-table-summary.qzv')"
   ]
  },
  {
   "cell_type": "markdown",
   "id": "6cc1ba44-2d49-4152-87e4-9fec7a10d31d",
   "metadata": {},
   "source": [
    "## 4. Taxonomic Classification\n",
    "This step was executed on Euler, as we ran into the problem of not having sufficient memory on JupyterHub\n",
    "See our bash script we ran on Euler in './scripts/'"
   ]
  },
  {
   "cell_type": "markdown",
   "id": "c7eb52aa-e640-4390-bee0-4699114e4c3a",
   "metadata": {},
   "source": [
    "For classification we used the UNITE pretrained classifier from:\n",
    "\n",
    "https://github.com/colinbrislawn/unite-train/releases\n",
    "\n",
    "Classification was performed with `unite_ver10_dynamic_s_all_04.04.2024-Q2-2024.5.qza`, since resources were not an issue when performing the classification on `Euler`."
   ]
  },
  {
   "cell_type": "code",
   "execution_count": null,
   "id": "22c3dfaf-66af-4fef-88a0-8041755abb4d",
   "metadata": {
    "tags": []
   },
   "outputs": [],
   "source": [
    "'''\n",
    "!qiime feature-classifier classify-sklearn \\\n",
    "  --i-classifier ./data/taxonomy_classification/unite_ver10_dynamic_s_all_04.04.2024-Q2-2024.5.qza \\\n",
    "  --i-reads ./data/rep-seqs.qza \\\n",
    "  --p-reads-per-batch 1000 \\\n",
    "  --o-classification ./taxonomy_unite_dynamic_s_all.qza\n",
    "'''"
   ]
  },
  {
   "cell_type": "code",
   "execution_count": null,
   "id": "3aa0361d-9e61-46f1-85c5-448259370043",
   "metadata": {
    "tags": []
   },
   "outputs": [],
   "source": [
    "# tabulation of the taxonomy classification\n",
    "!qiime metadata tabulate \\\n",
    "  --m-input-file ./data/taxonomy_classification/taxonomy_unite_dynamic_s_all.qza \\\n",
    "  --o-visualization ./data/taxonomy_classification/taxonomy_unite_dynamic_s_all.qzv"
   ]
  },
  {
   "cell_type": "code",
   "execution_count": null,
   "id": "240cf8c0-3a3f-4620-8ed2-94bd1c653d2e",
   "metadata": {
    "tags": []
   },
   "outputs": [],
   "source": [
    "Visualization.load('./data/taxonomy_classification/taxonomy_unite_dynamic_s_all.qzv')"
   ]
  },
  {
   "cell_type": "markdown",
   "id": "0b221f11-d754-4abe-9810-48d5feb153ee",
   "metadata": {},
   "source": [
    "#### Create the taxonomy bar plot"
   ]
  },
  {
   "cell_type": "code",
   "execution_count": 9,
   "id": "2244a3f2-d15e-4ae6-a0a1-7cfa2a4e2aa3",
   "metadata": {
    "tags": []
   },
   "outputs": [
    {
     "name": "stdout",
     "output_type": "stream",
     "text": [
      "\u001b[32mSaved Visualization to: ./data/taxonomy_classification/taxa-bar-plots.qzv\u001b[0m\n",
      "\u001b[0m"
     ]
    }
   ],
   "source": [
    "!qiime taxa barplot \\\n",
    "  --i-table ./data/feature_tables_dada/feature-table.qza \\\n",
    "  --i-taxonomy ./data/taxonomy_classification/taxonomy_unite_dynamic_s_all.qza \\\n",
    "  --m-metadata-file ./data/metadata/fungut_metadata_processed.tsv \\\n",
    "  --o-visualization ./data/taxonomy_classification/taxa-bar-plots.qzv"
   ]
  },
  {
   "cell_type": "markdown",
   "id": "d7fe6964-b165-45bd-ba7d-ad8cedc564ae",
   "metadata": {},
   "source": [
    "Our initial taxonomy classification revelaed sequences categorized as `Eukaryota`, `Unassigned` and taxa from kingdoms other than `k__Fungi`. \n",
    "\n",
    "These likely represent contaminants, sequencing errors or classifications due to insufficient information in the reference database. To ensure our analysis is focused on fungal taxa, we filtered out all non-fungal seqeuences, including these categories, in our next step."
   ]
  },
  {
   "cell_type": "code",
   "execution_count": 10,
   "id": "41ec7488-211f-4022-853d-40033ce0499f",
   "metadata": {
    "tags": []
   },
   "outputs": [
    {
     "data": {
      "text/html": [
       "<div><img onload=\"(function(div, url){\n",
       "if (typeof require !== 'undefined') {\n",
       "    var baseURL = require.toUrl('').split('/').slice(0, -2).join('/');\n",
       "} else {\n",
       "    var baseURL = JSON.parse(\n",
       "        document.getElementById('jupyter-config-data').innerHTML\n",
       "    ).baseUrl.slice(0, -1);\n",
       "}\n",
       "url = baseURL + url;\n",
       "fetch(url).then(function(res) {\n",
       "    if (res.status === 404) {\n",
       "        div.innerHTML = 'Install QIIME 2 Jupyter extension with:<br />' +\n",
       "                        '<code>jupyter serverextension enable --py qiime2' +\n",
       "                        ' --sys-prefix</code><br />then restart your server.' +\n",
       "                        '<br /><br />(Interactive output not available on ' +\n",
       "                        'static notebook viewer services like nbviewer.)';\n",
       "    } else if (res.status === 409) {\n",
       "        div.innerHTML = 'Visualization no longer in scope. Re-run this cell' +\n",
       "                        ' to see the visualization.';\n",
       "    } else if (res.ok) {\n",
       "        url = res.url;\n",
       "        div.innerHTML = '<iframe src=\\'' + url + '\\' style=\\'' +\n",
       "                        'width: 100%; height: 700px; border: 0;\\'>' +\n",
       "                        '</iframe><hr />Open in a: <a href=\\'' + url + '\\'' +\n",
       "                        ' target=\\'_blank\\'>new window</a>'\n",
       "    } else {\n",
       "        div.innerHTML = 'Something has gone wrong. Check notebook server for' +\n",
       "                        ' errors.';\n",
       "    }\n",
       "});\n",
       "})(this.parentElement, '/qiime2/redirect?location=/tmp/qiime2/jovyan/data/2456b803-4e9f-4fcd-b149-c2f84f4e5752')\" src=\"data:image/gif;base64,R0lGODlhAQABAIAAAP///wAAACH5BAEAAAAALAAAAAABAAEAAAICRAEAOw==\" /></div>"
      ],
      "text/plain": [
       "<visualization: Visualization uuid: 2456b803-4e9f-4fcd-b149-c2f84f4e5752>"
      ]
     },
     "execution_count": 10,
     "metadata": {},
     "output_type": "execute_result"
    }
   ],
   "source": [
    "Visualization.load('./data/taxonomy_classification/taxa-bar-plots.qzv')"
   ]
  },
  {
   "cell_type": "markdown",
   "id": "43dc68ed-8955-44aa-9196-fd472dc92c9a",
   "metadata": {},
   "source": [
    "#### Filtering the feature table to exclude eukaryotes\n",
    "We observed that we have contamination in our samples, so we filtered out those assigned `Eukaryota` and `Unassigned`.\n",
    "\n"
   ]
  },
  {
   "cell_type": "code",
   "execution_count": 11,
   "id": "f7a56fdb-013a-474c-bc46-f4d3292cb22c",
   "metadata": {
    "tags": []
   },
   "outputs": [
    {
     "name": "stdout",
     "output_type": "stream",
     "text": [
      "\u001b[32mSaved FeatureTable[Frequency] to: ./data/feature_tables_dada/filtered-feature-table.qza\u001b[0m\n",
      "\u001b[0m"
     ]
    }
   ],
   "source": [
    "!qiime taxa filter-table \\\n",
    "  --i-table ./data/feature_tables_dada/feature-table.qza \\\n",
    "  --i-taxonomy ./data/taxonomy_classification/taxonomy_unite_dynamic_s_all.qza \\\n",
    "  --p-include k__Fungi \\\n",
    "  --o-filtered-table ./data/feature_tables_dada/filtered-feature-table.qza\n"
   ]
  },
  {
   "cell_type": "markdown",
   "id": "423043b1-15c9-4298-b541-3d522425f122",
   "metadata": {},
   "source": [
    "We now regenerate the taxonomy barplot to ensure we only have k__Fungi classifications."
   ]
  },
  {
   "cell_type": "markdown",
   "id": "a7adc467-e0fc-4101-8c0d-55ddc7a08b18",
   "metadata": {},
   "source": [
    "### Summary of filtered feature table"
   ]
  },
  {
   "cell_type": "code",
   "execution_count": 12,
   "id": "4eae8adb-ebfb-4fbf-8eba-4603388c2f6d",
   "metadata": {
    "tags": []
   },
   "outputs": [
    {
     "name": "stdout",
     "output_type": "stream",
     "text": [
      "\u001b[32mSaved Visualization to: ./data/feature_tables_dada/filtered-feature-table_summary.qzv\u001b[0m\n",
      "\u001b[0m"
     ]
    }
   ],
   "source": [
    "!qiime feature-table summarize\\\n",
    "    --i-table ./data/feature_tables_dada/filtered-feature-table.qza \\\n",
    "    --o-visualization ./data/feature_tables_dada/filtered-feature-table_summary.qzv"
   ]
  },
  {
   "cell_type": "code",
   "execution_count": 13,
   "id": "ac1793eb-f102-48eb-9ff0-7b2806f23414",
   "metadata": {
    "tags": []
   },
   "outputs": [
    {
     "data": {
      "text/html": [
       "<div><img onload=\"(function(div, url){\n",
       "if (typeof require !== 'undefined') {\n",
       "    var baseURL = require.toUrl('').split('/').slice(0, -2).join('/');\n",
       "} else {\n",
       "    var baseURL = JSON.parse(\n",
       "        document.getElementById('jupyter-config-data').innerHTML\n",
       "    ).baseUrl.slice(0, -1);\n",
       "}\n",
       "url = baseURL + url;\n",
       "fetch(url).then(function(res) {\n",
       "    if (res.status === 404) {\n",
       "        div.innerHTML = 'Install QIIME 2 Jupyter extension with:<br />' +\n",
       "                        '<code>jupyter serverextension enable --py qiime2' +\n",
       "                        ' --sys-prefix</code><br />then restart your server.' +\n",
       "                        '<br /><br />(Interactive output not available on ' +\n",
       "                        'static notebook viewer services like nbviewer.)';\n",
       "    } else if (res.status === 409) {\n",
       "        div.innerHTML = 'Visualization no longer in scope. Re-run this cell' +\n",
       "                        ' to see the visualization.';\n",
       "    } else if (res.ok) {\n",
       "        url = res.url;\n",
       "        div.innerHTML = '<iframe src=\\'' + url + '\\' style=\\'' +\n",
       "                        'width: 100%; height: 700px; border: 0;\\'>' +\n",
       "                        '</iframe><hr />Open in a: <a href=\\'' + url + '\\'' +\n",
       "                        ' target=\\'_blank\\'>new window</a>'\n",
       "    } else {\n",
       "        div.innerHTML = 'Something has gone wrong. Check notebook server for' +\n",
       "                        ' errors.';\n",
       "    }\n",
       "});\n",
       "})(this.parentElement, '/qiime2/redirect?location=/tmp/qiime2/jovyan/data/0fee11e7-7a28-4bf9-b4e1-f25fd5aac7c7')\" src=\"data:image/gif;base64,R0lGODlhAQABAIAAAP///wAAACH5BAEAAAAALAAAAAABAAEAAAICRAEAOw==\" /></div>"
      ],
      "text/plain": [
       "<visualization: Visualization uuid: 0fee11e7-7a28-4bf9-b4e1-f25fd5aac7c7>"
      ]
     },
     "execution_count": 13,
     "metadata": {},
     "output_type": "execute_result"
    }
   ],
   "source": [
    "Visualization.load('./data/feature_tables_dada/filtered-feature-table_summary.qzv')"
   ]
  },
  {
   "cell_type": "markdown",
   "id": "f70a2599-a6c8-4692-b20e-51f7a8c57427",
   "metadata": {
    "tags": []
   },
   "source": [
    "## Taxa Barplot with filtered feature table"
   ]
  },
  {
   "cell_type": "code",
   "execution_count": 14,
   "id": "f34ae4cd-8d40-4337-893b-8eee6469e8ed",
   "metadata": {
    "tags": []
   },
   "outputs": [
    {
     "name": "stdout",
     "output_type": "stream",
     "text": [
      "\u001b[32mSaved Visualization to: ./data/taxonomy_classification/filtered-taxa-bar-plots.qzv\u001b[0m\n",
      "\u001b[0m"
     ]
    }
   ],
   "source": [
    "!qiime taxa barplot \\\n",
    "  --i-table ./data/feature_tables_dada/filtered-feature-table.qza \\\n",
    "  --i-taxonomy ./data/taxonomy_classification/taxonomy_unite_dynamic_s_all.qza \\\n",
    "  --m-metadata-file ./data/metadata/fungut_metadata_processed.tsv \\\n",
    "  --o-visualization ./data/taxonomy_classification/filtered-taxa-bar-plots.qzv"
   ]
  },
  {
   "cell_type": "code",
   "execution_count": 15,
   "id": "17f80309-9bd3-4028-a45f-04730e8e83ef",
   "metadata": {
    "tags": []
   },
   "outputs": [
    {
     "data": {
      "text/html": [
       "<div><img onload=\"(function(div, url){\n",
       "if (typeof require !== 'undefined') {\n",
       "    var baseURL = require.toUrl('').split('/').slice(0, -2).join('/');\n",
       "} else {\n",
       "    var baseURL = JSON.parse(\n",
       "        document.getElementById('jupyter-config-data').innerHTML\n",
       "    ).baseUrl.slice(0, -1);\n",
       "}\n",
       "url = baseURL + url;\n",
       "fetch(url).then(function(res) {\n",
       "    if (res.status === 404) {\n",
       "        div.innerHTML = 'Install QIIME 2 Jupyter extension with:<br />' +\n",
       "                        '<code>jupyter serverextension enable --py qiime2' +\n",
       "                        ' --sys-prefix</code><br />then restart your server.' +\n",
       "                        '<br /><br />(Interactive output not available on ' +\n",
       "                        'static notebook viewer services like nbviewer.)';\n",
       "    } else if (res.status === 409) {\n",
       "        div.innerHTML = 'Visualization no longer in scope. Re-run this cell' +\n",
       "                        ' to see the visualization.';\n",
       "    } else if (res.ok) {\n",
       "        url = res.url;\n",
       "        div.innerHTML = '<iframe src=\\'' + url + '\\' style=\\'' +\n",
       "                        'width: 100%; height: 700px; border: 0;\\'>' +\n",
       "                        '</iframe><hr />Open in a: <a href=\\'' + url + '\\'' +\n",
       "                        ' target=\\'_blank\\'>new window</a>'\n",
       "    } else {\n",
       "        div.innerHTML = 'Something has gone wrong. Check notebook server for' +\n",
       "                        ' errors.';\n",
       "    }\n",
       "});\n",
       "})(this.parentElement, '/qiime2/redirect?location=/tmp/qiime2/jovyan/data/c1d61b81-6526-4269-9533-d52a3e5983a2')\" src=\"data:image/gif;base64,R0lGODlhAQABAIAAAP///wAAACH5BAEAAAAALAAAAAABAAEAAAICRAEAOw==\" /></div>"
      ],
      "text/plain": [
       "<visualization: Visualization uuid: c1d61b81-6526-4269-9533-d52a3e5983a2>"
      ]
     },
     "execution_count": 15,
     "metadata": {},
     "output_type": "execute_result"
    }
   ],
   "source": [
    "Visualization.load('./data/taxonomy_classification/filtered-taxa-bar-plots.qzv')"
   ]
  },
  {
   "cell_type": "code",
   "execution_count": null,
   "id": "902fab04-cf8d-414d-8789-f8984f96111f",
   "metadata": {},
   "outputs": [],
   "source": []
  }
 ],
 "metadata": {
  "kernelspec": {
   "display_name": "QIIME 2",
   "language": "python",
   "name": "python3"
  },
  "language_info": {
   "codemirror_mode": {
    "name": "ipython",
    "version": 3
   },
   "file_extension": ".py",
   "mimetype": "text/x-python",
   "name": "python",
   "nbconvert_exporter": "python",
   "pygments_lexer": "ipython3",
   "version": "3.9.19"
  }
 },
 "nbformat": 4,
 "nbformat_minor": 5
}
