{
 "cells": [
  {
   "cell_type": "markdown",
   "id": "c0884d6c-967e-4fe0-9983-04ec57371fd2",
   "metadata": {},
   "source": [
    "# Differential Abundance Analysis\n",
    "### Load modules"
   ]
  },
  {
   "cell_type": "code",
   "execution_count": 1,
   "id": "def0b86d-41c3-4c45-8625-8183b1974852",
   "metadata": {
    "tags": []
   },
   "outputs": [],
   "source": [
    "import os\n",
    "import sys\n",
    "import pandas as pd\n",
    "import qiime2 as q2\n",
    "from qiime2 import Visualization\n",
    "import matplotlib.pyplot as plt\n",
    "import seaborn as sns\n",
    "%matplotlib inline\n",
    "\n",
    "# Define the data directory\n",
    "data_dir = './data'"
   ]
  },
  {
   "cell_type": "markdown",
   "id": "86e86974-d6c1-4581-9951-463434182eed",
   "metadata": {},
   "source": [
    "### Filtering and Collapsing Feature Table\n",
    "First, we filter the feature table. We only keep features which appear overall at least 25 times  and in at least 2 different samples. (Our feature table was already filtered after preprocessing of the metadata, therefore the input is called \"filtered-feature-table.qza\").  \n",
    "We start with 977 features which we retrieved from Dada2 Denoising."
   ]
  },
  {
   "cell_type": "code",
   "execution_count": 5,
   "id": "5fffee0e-4d78-4fba-925a-45cb111089a3",
   "metadata": {
    "tags": []
   },
   "outputs": [
    {
     "name": "stdout",
     "output_type": "stream",
     "text": [
      "\u001b[32mSaved FeatureTable[Frequency] to: ./data/DA/table_abund.qza\u001b[0m\n",
      "\u001b[0m"
     ]
    }
   ],
   "source": [
    "! qiime feature-table filter-features \\\n",
    "    --i-table ./data/filtered-feature-table.qza \\\n",
    "    --p-min-frequency 15 \\\n",
    "    --p-min-samples 2 \\\n",
    "    --o-filtered-table ./data/DA/table_abund.qza"
   ]
  },
  {
   "cell_type": "markdown",
   "id": "5b5cb94a-16d3-4d61-be7f-024863045e0b",
   "metadata": {},
   "source": [
    "#### Check filtered feature table"
   ]
  },
  {
   "cell_type": "code",
   "execution_count": 6,
   "id": "510708c5-348c-4ab4-b9fa-7741931eb42d",
   "metadata": {
    "tags": []
   },
   "outputs": [
    {
     "name": "stdout",
     "output_type": "stream",
     "text": [
      "\u001b[32mSaved Visualization to: ./data/DA/table_abund_summary.qzv\u001b[0m\n",
      "\u001b[0m"
     ]
    }
   ],
   "source": [
    "!qiime feature-table summarize\\\n",
    "    --i-table ./data/DA/table_abund.qza \\\n",
    "    --o-visualization ./data/DA/table_abund_summary.qzv"
   ]
  },
  {
   "cell_type": "code",
   "execution_count": null,
   "id": "53237d0f-c767-4e52-81df-2e97446d8959",
   "metadata": {
    "tags": []
   },
   "outputs": [],
   "source": [
    "Visualization.load('./data/DA/table_abund_summary.qzv')"
   ]
  },
  {
   "cell_type": "markdown",
   "id": "e5e2593f-7b09-46be-ab66-42bd1b4baf16",
   "metadata": {},
   "source": [
    "We have now 132 relevant features\n",
    "\n",
    "Next we collapse our features at level 7. If we take a higher level (e.g. 6) we have not enough features left."
   ]
  },
  {
   "cell_type": "code",
   "execution_count": 8,
   "id": "d40e11b9-7997-42ad-b1e4-4250b59f8613",
   "metadata": {
    "tags": []
   },
   "outputs": [
    {
     "name": "stdout",
     "output_type": "stream",
     "text": [
      "\u001b[32mSaved FeatureTable[Frequency] to: ./data/DA/table_abund_l7.qza\u001b[0m\n",
      "\u001b[0m"
     ]
    }
   ],
   "source": [
    "! qiime taxa collapse \\\n",
    "    --i-table ./data/DA/table_abund.qza \\\n",
    "    --i-taxonomy $data_dir/taxonomy_classification/taxonomy_unite_dynamic_s_all.qza \\\n",
    "    --p-level 7 \\\n",
    "    --o-collapsed-table ./data/DA/table_abund_l7.qza"
   ]
  },
  {
   "cell_type": "markdown",
   "id": "cd90a87c-598d-4cfa-9191-571d24cfddba",
   "metadata": {},
   "source": [
    "Then we again check the feature table and see that we are now left with 71 features"
   ]
  },
  {
   "cell_type": "code",
   "execution_count": 13,
   "id": "35cbdcda-1164-4401-bc28-cee9f8b70003",
   "metadata": {
    "tags": []
   },
   "outputs": [
    {
     "name": "stdout",
     "output_type": "stream",
     "text": [
      "\u001b[32mSaved Visualization to: ./data/DA/l7_table_abund_summary.qzv\u001b[0m\n",
      "\u001b[0m"
     ]
    }
   ],
   "source": [
    "!qiime feature-table summarize\\\n",
    "    --i-table ./data/DA/table_abund_l7.qza \\\n",
    "    --o-visualization ./data/DA/l7_table_abund_summary.qzv"
   ]
  },
  {
   "cell_type": "code",
   "execution_count": null,
   "id": "23059fbe-b934-4c8f-b45c-d7c96bd9012e",
   "metadata": {
    "tags": []
   },
   "outputs": [],
   "source": [
    "Visualization.load('./data/DA/l7_table_abund_summary.qzv')"
   ]
  },
  {
   "cell_type": "markdown",
   "id": "6d5cd2c3-decb-434a-a551-86884a2596e2",
   "metadata": {
    "tags": []
   },
   "source": [
    "# ANCOMBC\n",
    "The next step will be the diffential abundance anlysis with ANCOMBC. We do a pariwise comparison for both diseases (gluten and IBD) as well between rural and urban living areas. We set the p-value to 0.1\n"
   ]
  },
  {
   "cell_type": "markdown",
   "id": "a943745d-6cee-45eb-a7ab-9fb625bb8ef0",
   "metadata": {
    "jp-MarkdownHeadingCollapsed": true,
    "tags": []
   },
   "source": [
    "### URBAN ANCOMBC"
   ]
  },
  {
   "cell_type": "code",
   "execution_count": 86,
   "id": "a78acfe0-5865-4153-8655-8276dcd3f76f",
   "metadata": {
    "tags": []
   },
   "outputs": [
    {
     "name": "stdout",
     "output_type": "stream",
     "text": [
      "\u001b[32mSaved FeatureData[DifferentialAbundance] to: ./data/DA/ancombc_urban_differentials.qza\u001b[0m\n",
      "\u001b[0m\u001b[32mSaved Visualization to: ./data/DA/ancombc_urban_da_barplot.qzv\u001b[0m\n",
      "\u001b[0m\u001b[32mSaved Visualization to: ./data/DA/ancombc_urban_results.qzv\u001b[0m\n",
      "\u001b[0m"
     ]
    }
   ],
   "source": [
    "# Run ANCOM-BC\n",
    "! qiime composition ancombc \\\n",
    "    --i-table ./data/DA/table_abund_l7.qza \\\n",
    "    --m-metadata-file $data_dir/metadata/fungut_metadata_processed.tsv \\\n",
    "    --p-formula is_urban \\\n",
    "    --p-reference-levels 'is_urban::True' \\\n",
    "    --o-differentials ./data/DA/ancombc_urban_differentials.qza\n",
    "\n",
    "# Generate a barplot of differentially abundant taxa between environments\n",
    "! qiime composition da-barplot \\\n",
    "    --i-data ./data/DA/ancombc_urban_differentials.qza \\\n",
    "    --p-significance-threshold 0.1 \\\n",
    "    --o-visualization ./data/DA/ancombc_urban_da_barplot.qzv\n",
    "\n",
    "# Generate a table of these same values for all taxa\n",
    "! qiime composition tabulate \\\n",
    "    --i-data ./data/DA/ancombc_urban_differentials.qza \\\n",
    "    --o-visualization ./data/DA/ancombc_urban_results.qzv"
   ]
  },
  {
   "cell_type": "code",
   "execution_count": null,
   "id": "282645d5-ef68-4d95-b21d-0742006d8602",
   "metadata": {
    "tags": []
   },
   "outputs": [],
   "source": [
    "Visualization.load(\"./data/DA/ancombc_urban_da_barplot.qzv\")"
   ]
  },
  {
   "cell_type": "markdown",
   "id": "875eefcd-bd72-4704-84c6-671d177d9450",
   "metadata": {
    "jp-MarkdownHeadingCollapsed": true,
    "tags": []
   },
   "source": [
    "### IBD ANCOMBC"
   ]
  },
  {
   "cell_type": "code",
   "execution_count": 77,
   "id": "9e3580c7-db70-4ac1-8a75-baa26520ce2c",
   "metadata": {
    "tags": []
   },
   "outputs": [
    {
     "name": "stdout",
     "output_type": "stream",
     "text": [
      "\u001b[32mSaved FeatureData[DifferentialAbundance] to: ./data/DA/ancombc_ibd_differentials.qza\u001b[0m\n",
      "\u001b[0m\u001b[32mSaved Visualization to: ./data/DA/ancombc_ibd_da_barplot.qzv\u001b[0m\n",
      "\u001b[0m\u001b[32mSaved Visualization to: ./data/DA/ancombc_ibd_results.qzv\u001b[0m\n",
      "\u001b[0m"
     ]
    }
   ],
   "source": [
    "# Run ANCOM-BC\n",
    "! qiime composition ancombc \\\n",
    "    --i-table ./data/DA/table_abund_l7.qza \\\n",
    "    --m-metadata-file $data_dir/metadata/fungut_metadata_processed.tsv \\\n",
    "    --p-formula ibd_symptoms \\\n",
    "    --p-reference-levels ibd_symptoms::symptoms \\\n",
    "    --o-differentials ./data/DA/ancombc_ibd_differentials.qza\n",
    "\n",
    "# Generate a barplot of differentially abundant taxa between environments\n",
    "! qiime composition da-barplot \\\n",
    "    --i-data ./data/DA/ancombc_ibd_differentials.qza \\\n",
    "    --p-significance-threshold 0.05 \\\n",
    "    --o-visualization ./data/DA/ancombc_ibd_da_barplot.qzv\n",
    "\n",
    "# Generate a table of these same values for all taxa\n",
    "! qiime composition tabulate \\\n",
    "    --i-data ./data/DA/ancombc_ibd_differentials.qza \\\n",
    "    --o-visualization ./data/DA/ancombc_ibd_results.qzv"
   ]
  },
  {
   "cell_type": "code",
   "execution_count": null,
   "id": "e4955743-f520-4043-a51b-4f27e6b69345",
   "metadata": {
    "tags": []
   },
   "outputs": [],
   "source": [
    "Visualization.load(\"./data/DA/ancombc_ibd_da_barplot.qzv\")"
   ]
  },
  {
   "cell_type": "markdown",
   "id": "e391eec8-7257-44a4-ad5a-ac4520b08eeb",
   "metadata": {
    "jp-MarkdownHeadingCollapsed": true,
    "tags": []
   },
   "source": [
    "### Gluten ANCOMBC"
   ]
  },
  {
   "cell_type": "code",
   "execution_count": 75,
   "id": "5d215eed-9bf0-42ca-a92b-daa68520f2fd",
   "metadata": {
    "tags": []
   },
   "outputs": [
    {
     "name": "stdout",
     "output_type": "stream",
     "text": [
      "\u001b[32mSaved FeatureData[DifferentialAbundance] to: ./data/DA/ancombc_gluten_differentials.qza\u001b[0m\n",
      "\u001b[0m\u001b[32mSaved Visualization to: ./data/DA/ancombc_gluten_da_barplot.qzv\u001b[0m\n",
      "\u001b[0m\u001b[32mSaved Visualization to: ./data/DA/ancombc_gluten_results.qzv\u001b[0m\n",
      "\u001b[0m"
     ]
    }
   ],
   "source": [
    "# Run ANCOM-BC\n",
    "! qiime composition ancombc \\\n",
    "    --i-table ./data/DA/table_abund_l7.qza \\\n",
    "    --m-metadata-file $data_dir/metadata/fungut_metadata_processed.tsv \\\n",
    "    --p-formula gluten_symptoms \\\n",
    "    --p-reference-levels gluten_symptoms::symptoms \\\n",
    "    --o-differentials ./data/DA/ancombc_gluten_differentials.qza\n",
    "\n",
    "# Generate a barplot of differentially abundant taxa between environments\n",
    "! qiime composition da-barplot \\\n",
    "    --i-data ./data/DA/ancombc_gluten_differentials.qza \\\n",
    "    --p-significance-threshold 0.1 \\\n",
    "    --o-visualization ./data/DA/ancombc_gluten_da_barplot.qzv\n",
    "\n",
    "# Generate a table of these same values for all taxa\n",
    "! qiime composition tabulate \\\n",
    "    --i-data ./data/DA/ancombc_gluten_differentials.qza \\\n",
    "    --o-visualization ./data/DA/ancombc_gluten_results.qzv"
   ]
  },
  {
   "cell_type": "code",
   "execution_count": null,
   "id": "69e473f1-7197-46d6-a9b4-ddb6b5a22719",
   "metadata": {
    "tags": []
   },
   "outputs": [],
   "source": [
    "Visualization.load(\"./data/DA/ancombc_gluten_da_barplot.qzv\")"
   ]
  },
  {
   "cell_type": "markdown",
   "id": "0465fabd-5220-4393-bf18-7fe569dd5332",
   "metadata": {
    "jp-MarkdownHeadingCollapsed": true,
    "tags": []
   },
   "source": [
    "### Country (compare to USA)"
   ]
  },
  {
   "cell_type": "code",
   "execution_count": 9,
   "id": "d958ba77-d89b-4959-b2f5-fd11037fc772",
   "metadata": {
    "tags": []
   },
   "outputs": [
    {
     "name": "stdout",
     "output_type": "stream",
     "text": [
      "\u001b[32mSaved FeatureData[DifferentialAbundance] to: ./data/DA/ancombc_country_differentials.qza\u001b[0m\n",
      "\u001b[0m\u001b[32mSaved Visualization to: ./data/DA/ancombc_country_da_barplot.qzv\u001b[0m\n",
      "\u001b[0m\u001b[32mSaved Visualization to: ./data/DA/ancombc_country_results.qzv\u001b[0m\n",
      "\u001b[0m"
     ]
    }
   ],
   "source": [
    "# Run ANCOM-BC\n",
    "! qiime composition ancombc \\\n",
    "    --i-table ./data/DA/table_abund_l7.qza \\\n",
    "    --m-metadata-file $data_dir/metadata/fungut_metadata_processed.tsv \\\n",
    "    --p-formula country_sample \\\n",
    "    --p-reference-levels country_sample::USA \\\n",
    "    --o-differentials ./data/DA/ancombc_country_differentials.qza\n",
    "\n",
    "# Generate a barplot of differentially abundant taxa between environments\n",
    "! qiime composition da-barplot \\\n",
    "    --i-data ./data/DA/ancombc_country_differentials.qza \\\n",
    "    --p-significance-threshold 0.1 \\\n",
    "    --o-visualization ./data/DA/ancombc_country_da_barplot.qzv\n",
    "\n",
    "# Generate a table of these same values for all taxa\n",
    "! qiime composition tabulate \\\n",
    "    --i-data ./data/DA/ancombc_country_differentials.qza \\\n",
    "    --o-visualization ./data/DA/ancombc_country_results.qzv"
   ]
  },
  {
   "cell_type": "code",
   "execution_count": null,
   "id": "4541bcf4-353b-4be4-b46d-900abde522aa",
   "metadata": {
    "tags": []
   },
   "outputs": [],
   "source": [
    "Visualization.load(\"./data/DA/ancombc_country_da_barplot.qzv\")"
   ]
  },
  {
   "cell_type": "markdown",
   "id": "ae8e11e3-78a7-4cf5-9332-12592e3ee576",
   "metadata": {
    "jp-MarkdownHeadingCollapsed": true,
    "tags": []
   },
   "source": [
    "### Diet type"
   ]
  },
  {
   "cell_type": "code",
   "execution_count": 15,
   "id": "67aab4cb-1aa4-4b3e-9ede-62420c06f466",
   "metadata": {
    "tags": []
   },
   "outputs": [
    {
     "name": "stdout",
     "output_type": "stream",
     "text": [
      "\u001b[32mSaved FeatureData[DifferentialAbundance] to: ./data/DA/ancombc_diet_differentials.qza\u001b[0m\n",
      "\u001b[0m\u001b[32mSaved Visualization to: ./data/DA/ancombc_diet_da_barplot.qzv\u001b[0m\n",
      "\u001b[0m\u001b[32mSaved Visualization to: ./data/DA/ancombc_diet_results.qzv\u001b[0m\n",
      "\u001b[0m"
     ]
    }
   ],
   "source": [
    "# Run ANCOM-BC\n",
    "! qiime composition ancombc \\\n",
    "    --i-table ./data/DA/table_abund_l7.qza \\\n",
    "    --m-metadata-file $data_dir/metadata/fungut_metadata_processed.tsv \\\n",
    "    --p-formula diet_type_sample \\\n",
    "    --p-reference-levels diet_type_sample::Omnivore \\\n",
    "    --o-differentials ./data/DA/ancombc_diet_differentials.qza\n",
    "\n",
    "# Generate a barplot of differentially abundant taxa between environments\n",
    "! qiime composition da-barplot \\\n",
    "    --i-data ./data/DA/ancombc_diet_differentials.qza \\\n",
    "    --p-significance-threshold 0.1 \\\n",
    "    --o-visualization ./data/DA/ancombc_diet_da_barplot.qzv\n",
    "\n",
    "# Generate a table of these same values for all taxa\n",
    "! qiime composition tabulate \\\n",
    "    --i-data ./data/DA/ancombc_diet_differentials.qza \\\n",
    "    --o-visualization ./data/DA/ancombc_diet_results.qzv"
   ]
  },
  {
   "cell_type": "code",
   "execution_count": null,
   "id": "b9e51852-6a24-4c18-b49c-86f66d88635e",
   "metadata": {
    "tags": []
   },
   "outputs": [],
   "source": [
    "Visualization.load(\"./data/DA/ancombc_diet_da_barplot.qzv\")"
   ]
  },
  {
   "cell_type": "markdown",
   "id": "a1ae4cfa-d9e0-4fe0-91ab-6ae4b7eb440f",
   "metadata": {
    "jp-MarkdownHeadingCollapsed": true,
    "tags": []
   },
   "source": [
    "### Age"
   ]
  },
  {
   "cell_type": "code",
   "execution_count": 17,
   "id": "9b3f4d36-f474-4876-93d5-9977f3acdcac",
   "metadata": {
    "tags": []
   },
   "outputs": [
    {
     "name": "stdout",
     "output_type": "stream",
     "text": [
      "\u001b[32mSaved FeatureData[DifferentialAbundance] to: ./data/DA/ancombc_age_differentials.qza\u001b[0m\n",
      "\u001b[0m\u001b[32mSaved Visualization to: ./data/DA/ancombc_age_da_barplot.qzv\u001b[0m\n",
      "\u001b[0m\u001b[32mSaved Visualization to: ./data/DA/ancombc_age_results.qzv\u001b[0m\n",
      "\u001b[0m"
     ]
    }
   ],
   "source": [
    "# Run ANCOM-BC\n",
    "! qiime composition ancombc \\\n",
    "    --i-table ./data/DA/table_abund_l7.qza \\\n",
    "    --m-metadata-file $data_dir/metadata/fungut_metadata_processed.tsv \\\n",
    "    --p-formula age_group \\\n",
    "    --p-reference-levels age_group::Adult \\\n",
    "    --o-differentials ./data/DA/ancombc_age_differentials.qza\n",
    "\n",
    "# Generate a barplot of differentially abundant taxa between environments\n",
    "! qiime composition da-barplot \\\n",
    "    --i-data ./data/DA/ancombc_age_differentials.qza \\\n",
    "    --p-significance-threshold 0.1 \\\n",
    "    --o-visualization ./data/DA/ancombc_age_da_barplot.qzv\n",
    "\n",
    "# Generate a table of these same values for all taxa\n",
    "! qiime composition tabulate \\\n",
    "    --i-data ./data/DA/ancombc_age_differentials.qza \\\n",
    "    --o-visualization ./data/DA/ancombc_age_results.qzv"
   ]
  },
  {
   "cell_type": "code",
   "execution_count": 21,
   "id": "fbb48e19-b5e8-49e0-8d69-066bba53ce37",
   "metadata": {
    "tags": []
   },
   "outputs": [
    {
     "data": {
      "text/html": [
       "<div><img onload=\"(function(div, url){\n",
       "if (typeof require !== 'undefined') {\n",
       "    var baseURL = require.toUrl('').split('/').slice(0, -2).join('/');\n",
       "} else {\n",
       "    var baseURL = JSON.parse(\n",
       "        document.getElementById('jupyter-config-data').innerHTML\n",
       "    ).baseUrl.slice(0, -1);\n",
       "}\n",
       "url = baseURL + url;\n",
       "fetch(url).then(function(res) {\n",
       "    if (res.status === 404) {\n",
       "        div.innerHTML = 'Install QIIME 2 Jupyter extension with:<br />' +\n",
       "                        '<code>jupyter serverextension enable --py qiime2' +\n",
       "                        ' --sys-prefix</code><br />then restart your server.' +\n",
       "                        '<br /><br />(Interactive output not available on ' +\n",
       "                        'static notebook viewer services like nbviewer.)';\n",
       "    } else if (res.status === 409) {\n",
       "        div.innerHTML = 'Visualization no longer in scope. Re-run this cell' +\n",
       "                        ' to see the visualization.';\n",
       "    } else if (res.ok) {\n",
       "        url = res.url;\n",
       "        div.innerHTML = '<iframe src=\\'' + url + '\\' style=\\'' +\n",
       "                        'width: 100%; height: 700px; border: 0;\\'>' +\n",
       "                        '</iframe><hr />Open in a: <a href=\\'' + url + '\\'' +\n",
       "                        ' target=\\'_blank\\'>new window</a>'\n",
       "    } else {\n",
       "        div.innerHTML = 'Something has gone wrong. Check notebook server for' +\n",
       "                        ' errors.';\n",
       "    }\n",
       "});\n",
       "})(this.parentElement, '/qiime2/redirect?location=/tmp/qiime2/jovyan/data/ae822770-904b-42b1-bfb0-849a4be3c73f')\" src=\"data:image/gif;base64,R0lGODlhAQABAIAAAP///wAAACH5BAEAAAAALAAAAAABAAEAAAICRAEAOw==\" /></div>"
      ],
      "text/plain": [
       "<visualization: Visualization uuid: ae822770-904b-42b1-bfb0-849a4be3c73f>"
      ]
     },
     "execution_count": 21,
     "metadata": {},
     "output_type": "execute_result"
    }
   ],
   "source": [
    "Visualization.load(\"./data/DA/ancombc_age_da_barplot.qzv\")"
   ]
  },
  {
   "cell_type": "markdown",
   "id": "03d94099-8039-456d-a077-e37c9fd99cd4",
   "metadata": {
    "jp-MarkdownHeadingCollapsed": true,
    "tags": []
   },
   "source": [
    "### BMI"
   ]
  },
  {
   "cell_type": "code",
   "execution_count": 19,
   "id": "cb2b4f2a-a496-4bc3-97b9-a19bced35711",
   "metadata": {
    "tags": []
   },
   "outputs": [
    {
     "name": "stdout",
     "output_type": "stream",
     "text": [
      "\u001b[32mSaved FeatureData[DifferentialAbundance] to: ./data/DA/ancombc_bmi_differentials.qza\u001b[0m\n",
      "\u001b[0m\u001b[32mSaved Visualization to: ./data/DA/ancombc_bmi_da_barplot.qzv\u001b[0m\n",
      "\u001b[0m\u001b[32mSaved Visualization to: ./data/DA/ancombc_bmi_results.qzv\u001b[0m\n",
      "\u001b[0m"
     ]
    }
   ],
   "source": [
    "# Run ANCOM-BC\n",
    "! qiime composition ancombc \\\n",
    "    --i-table ./data/DA/table_abund_l7.qza \\\n",
    "    --m-metadata-file $data_dir/metadata/fungut_metadata_processed.tsv \\\n",
    "    --p-formula bmi_category \\\n",
    "    --p-reference-levels 'bmi_category::Normal weight' \\\n",
    "    --o-differentials ./data/DA/ancombc_bmi_differentials.qza\n",
    "\n",
    "# Generate a barplot of differentially abundant taxa between environments\n",
    "! qiime composition da-barplot \\\n",
    "    --i-data ./data/DA/ancombc_bmi_differentials.qza \\\n",
    "    --p-significance-threshold 0.1 \\\n",
    "    --o-visualization ./data/DA/ancombc_bmi_da_barplot.qzv\n",
    "\n",
    "# Generate a table of these same values for all taxa\n",
    "! qiime composition tabulate \\\n",
    "    --i-data ./data/DA/ancombc_bmi_differentials.qza \\\n",
    "    --o-visualization ./data/DA/ancombc_bmi_results.qzv"
   ]
  },
  {
   "cell_type": "code",
   "execution_count": 23,
   "id": "fe73ad23-9d4f-401a-ada0-f9175b4de9d6",
   "metadata": {
    "tags": []
   },
   "outputs": [
    {
     "data": {
      "text/html": [
       "<div><img onload=\"(function(div, url){\n",
       "if (typeof require !== 'undefined') {\n",
       "    var baseURL = require.toUrl('').split('/').slice(0, -2).join('/');\n",
       "} else {\n",
       "    var baseURL = JSON.parse(\n",
       "        document.getElementById('jupyter-config-data').innerHTML\n",
       "    ).baseUrl.slice(0, -1);\n",
       "}\n",
       "url = baseURL + url;\n",
       "fetch(url).then(function(res) {\n",
       "    if (res.status === 404) {\n",
       "        div.innerHTML = 'Install QIIME 2 Jupyter extension with:<br />' +\n",
       "                        '<code>jupyter serverextension enable --py qiime2' +\n",
       "                        ' --sys-prefix</code><br />then restart your server.' +\n",
       "                        '<br /><br />(Interactive output not available on ' +\n",
       "                        'static notebook viewer services like nbviewer.)';\n",
       "    } else if (res.status === 409) {\n",
       "        div.innerHTML = 'Visualization no longer in scope. Re-run this cell' +\n",
       "                        ' to see the visualization.';\n",
       "    } else if (res.ok) {\n",
       "        url = res.url;\n",
       "        div.innerHTML = '<iframe src=\\'' + url + '\\' style=\\'' +\n",
       "                        'width: 100%; height: 700px; border: 0;\\'>' +\n",
       "                        '</iframe><hr />Open in a: <a href=\\'' + url + '\\'' +\n",
       "                        ' target=\\'_blank\\'>new window</a>'\n",
       "    } else {\n",
       "        div.innerHTML = 'Something has gone wrong. Check notebook server for' +\n",
       "                        ' errors.';\n",
       "    }\n",
       "});\n",
       "})(this.parentElement, '/qiime2/redirect?location=/tmp/qiime2/jovyan/data/ad9f9f40-bf55-4d13-b006-2cb5a0e275ab')\" src=\"data:image/gif;base64,R0lGODlhAQABAIAAAP///wAAACH5BAEAAAAALAAAAAABAAEAAAICRAEAOw==\" /></div>"
      ],
      "text/plain": [
       "<visualization: Visualization uuid: ad9f9f40-bf55-4d13-b006-2cb5a0e275ab>"
      ]
     },
     "execution_count": 23,
     "metadata": {},
     "output_type": "execute_result"
    }
   ],
   "source": [
    "Visualization.load(\"./data/DA/ancombc_bmi_da_barplot.qzv\")"
   ]
  },
  {
   "cell_type": "markdown",
   "id": "46181122-00c1-4918-bc46-608b523f68c6",
   "metadata": {},
   "source": [
    "# Results\n",
    "We did not find any significant differences between the disease groups and the urban_vs_rural group. This could be due to the small amount of features we have and because the symptoms_vs_noSymptom groups are very different in size.  \n",
    "We found some significant differences between countries."
   ]
  },
  {
   "cell_type": "code",
   "execution_count": null,
   "id": "35979bec-3402-4714-9cd7-93c257669c1d",
   "metadata": {},
   "outputs": [],
   "source": []
  },
  {
   "cell_type": "markdown",
   "id": "0dd6aba3-499b-47e9-9bdb-0d9a3e71b3c6",
   "metadata": {},
   "source": [
    "# PERMANOVA"
   ]
  },
  {
   "cell_type": "code",
   "execution_count": null,
   "id": "f3bee6b4-6aa1-4edc-b403-6980571876c1",
   "metadata": {
    "tags": []
   },
   "outputs": [],
   "source": [
    "!qiime diversity beta-group-significance --help"
   ]
  },
  {
   "cell_type": "code",
   "execution_count": 35,
   "id": "871701fb-878f-489d-99ef-5c2635fc55a1",
   "metadata": {
    "tags": []
   },
   "outputs": [
    {
     "name": "stdout",
     "output_type": "stream",
     "text": [
      "\u001b[32mSaved Visualization to: ./data/DA/permanova-results.qzv\u001b[0m\n",
      "\u001b[0m"
     ]
    }
   ],
   "source": [
    "!qiime diversity beta-group-significance \\\n",
    "  --i-distance-matrix $data_dir/alpha_diversity/core-metrics-results/bray_curtis_distance_matrix.qza \\\n",
    "  --m-metadata-file $data_dir/metadata/fungut_metadata_processed.tsv \\\n",
    "  --m-metadata-column diet_type_sample \\\n",
    "  --p-method permanova \\\n",
    "  --p-pairwise \\\n",
    "  --o-visualization $data_dir/DA/permanova-results.qzv"
   ]
  },
  {
   "cell_type": "code",
   "execution_count": 36,
   "id": "5159c3d5-76e3-4a68-ae58-ed7cc4744731",
   "metadata": {
    "tags": []
   },
   "outputs": [
    {
     "data": {
      "text/html": [
       "<div><img onload=\"(function(div, url){\n",
       "if (typeof require !== 'undefined') {\n",
       "    var baseURL = require.toUrl('').split('/').slice(0, -2).join('/');\n",
       "} else {\n",
       "    var baseURL = JSON.parse(\n",
       "        document.getElementById('jupyter-config-data').innerHTML\n",
       "    ).baseUrl.slice(0, -1);\n",
       "}\n",
       "url = baseURL + url;\n",
       "fetch(url).then(function(res) {\n",
       "    if (res.status === 404) {\n",
       "        div.innerHTML = 'Install QIIME 2 Jupyter extension with:<br />' +\n",
       "                        '<code>jupyter serverextension enable --py qiime2' +\n",
       "                        ' --sys-prefix</code><br />then restart your server.' +\n",
       "                        '<br /><br />(Interactive output not available on ' +\n",
       "                        'static notebook viewer services like nbviewer.)';\n",
       "    } else if (res.status === 409) {\n",
       "        div.innerHTML = 'Visualization no longer in scope. Re-run this cell' +\n",
       "                        ' to see the visualization.';\n",
       "    } else if (res.ok) {\n",
       "        url = res.url;\n",
       "        div.innerHTML = '<iframe src=\\'' + url + '\\' style=\\'' +\n",
       "                        'width: 100%; height: 700px; border: 0;\\'>' +\n",
       "                        '</iframe><hr />Open in a: <a href=\\'' + url + '\\'' +\n",
       "                        ' target=\\'_blank\\'>new window</a>'\n",
       "    } else {\n",
       "        div.innerHTML = 'Something has gone wrong. Check notebook server for' +\n",
       "                        ' errors.';\n",
       "    }\n",
       "});\n",
       "})(this.parentElement, '/qiime2/redirect?location=/tmp/qiime2/jovyan/data/62ab3269-19f6-4cad-ad14-b383027f0f9c')\" src=\"data:image/gif;base64,R0lGODlhAQABAIAAAP///wAAACH5BAEAAAAALAAAAAABAAEAAAICRAEAOw==\" /></div>"
      ],
      "text/plain": [
       "<visualization: Visualization uuid: 62ab3269-19f6-4cad-ad14-b383027f0f9c>"
      ]
     },
     "execution_count": 36,
     "metadata": {},
     "output_type": "execute_result"
    }
   ],
   "source": [
    "Visualization.load(\"./data/DA/permanova-results.qzv\")"
   ]
  },
  {
   "cell_type": "code",
   "execution_count": null,
   "id": "ed833dc0-1809-4a85-bb7a-b9a21734c9b8",
   "metadata": {},
   "outputs": [],
   "source": []
  }
 ],
 "metadata": {
  "kernelspec": {
   "display_name": "QIIME 2",
   "language": "python",
   "name": "python3"
  },
  "language_info": {
   "codemirror_mode": {
    "name": "ipython",
    "version": 3
   },
   "file_extension": ".py",
   "mimetype": "text/x-python",
   "name": "python",
   "nbconvert_exporter": "python",
   "pygments_lexer": "ipython3",
   "version": "3.9.19"
  }
 },
 "nbformat": 4,
 "nbformat_minor": 5
}
