{
 "cells": [
  {
   "cell_type": "markdown",
   "id": "fa44c477-b86e-4616-a9bc-7a34d8a55584",
   "metadata": {},
   "source": [
    "# Primary analyses of our sequences"
   ]
  },
  {
   "cell_type": "code",
   "execution_count": 1,
   "id": "babb3bf0-a258-4eec-8547-713c3534550e",
   "metadata": {
    "tags": []
   },
   "outputs": [],
   "source": [
    "import os\n",
    "import sys\n",
    "import pandas as pd\n",
    "import qiime2 as q2\n",
    "from qiime2 import Visualization\n",
    "import matplotlib.pyplot as plt\n",
    "import seaborn as sns\n",
    "%matplotlib inline\n",
    "\n",
    "# Define the data directory\n",
    "data_dir = '/data'"
   ]
  },
  {
   "cell_type": "markdown",
   "id": "6543cb0a-f2e0-4312-8d99-d20aacac2782",
   "metadata": {},
   "source": [
    "### Checking out the reads"
   ]
  },
  {
   "cell_type": "code",
   "execution_count": 2,
   "id": "478cf25d-9707-4c49-9972-ca52c2eaf16e",
   "metadata": {},
   "outputs": [
    {
     "name": "stdout",
     "output_type": "stream",
     "text": [
      "\u001b[32mSaved Visualization to: ./data/fungut_forward_reads_summary.qzv\u001b[0m\n",
      "\u001b[0m"
     ]
    }
   ],
   "source": [
    "! qiime demux summarize \\\n",
    "  --i-data ./data/fungut_forward_reads.qza \\\n",
    "  --o-visualization ./data/fungut_forward_reads_summary.qzv"
   ]
  },
  {
   "cell_type": "code",
   "execution_count": null,
   "id": "678eb38d-df7f-4e1e-88c9-394d7f989675",
   "metadata": {
    "tags": []
   },
   "outputs": [],
   "source": [
    "Visualization.load('./data/fungut_forward_reads_summary.qzv')"
   ]
  },
  {
   "cell_type": "markdown",
   "id": "52a03cad-e7b8-4585-96e1-71333bd50a72",
   "metadata": {},
   "source": [
    "#### As seen in the visualisation, the reads have very high quality up to a length of 150. Therefore we chose a truncation length of 150."
   ]
  },
  {
   "cell_type": "markdown",
   "id": "3adba178-bbb8-4137-b07d-7b2453b73e96",
   "metadata": {
    "tags": []
   },
   "source": [
    "### Checking out the metadata"
   ]
  },
  {
   "cell_type": "code",
   "execution_count": 4,
   "id": "7b42f909-d75d-4150-9701-8bff72ed0e94",
   "metadata": {
    "tags": []
   },
   "outputs": [
    {
     "name": "stdout",
     "output_type": "stream",
     "text": [
      "\u001b[32mSaved Visualization to: ./data/fungut_metadata.qzv\u001b[0m\n",
      "\u001b[0m"
     ]
    }
   ],
   "source": [
    "!qiime metadata tabulate \\\n",
    "  --m-input-file ./data/fungut_metadata.tsv \\\n",
    "  --o-visualization ./data/fungut_metadata.qzv"
   ]
  },
  {
   "cell_type": "code",
   "execution_count": 7,
   "id": "8c540ff5-9515-4da7-bc93-cd84714289d5",
   "metadata": {
    "tags": []
   },
   "outputs": [
    {
     "data": {
      "text/html": [
       "<div><img onload=\"(function(div, url){\n",
       "if (typeof require !== 'undefined') {\n",
       "    var baseURL = require.toUrl('').split('/').slice(0, -2).join('/');\n",
       "} else {\n",
       "    var baseURL = JSON.parse(\n",
       "        document.getElementById('jupyter-config-data').innerHTML\n",
       "    ).baseUrl.slice(0, -1);\n",
       "}\n",
       "url = baseURL + url;\n",
       "fetch(url).then(function(res) {\n",
       "    if (res.status === 404) {\n",
       "        div.innerHTML = 'Install QIIME 2 Jupyter extension with:<br />' +\n",
       "                        '<code>jupyter serverextension enable --py qiime2' +\n",
       "                        ' --sys-prefix</code><br />then restart your server.' +\n",
       "                        '<br /><br />(Interactive output not available on ' +\n",
       "                        'static notebook viewer services like nbviewer.)';\n",
       "    } else if (res.status === 409) {\n",
       "        div.innerHTML = 'Visualization no longer in scope. Re-run this cell' +\n",
       "                        ' to see the visualization.';\n",
       "    } else if (res.ok) {\n",
       "        url = res.url;\n",
       "        div.innerHTML = '<iframe src=\\'' + url + '\\' style=\\'' +\n",
       "                        'width: 100%; height: 700px; border: 0;\\'>' +\n",
       "                        '</iframe><hr />Open in a: <a href=\\'' + url + '\\'' +\n",
       "                        ' target=\\'_blank\\'>new window</a>'\n",
       "    } else {\n",
       "        div.innerHTML = 'Something has gone wrong. Check notebook server for' +\n",
       "                        ' errors.';\n",
       "    }\n",
       "});\n",
       "})(this.parentElement, '/qiime2/redirect?location=/tmp/qiime2/jovyan/data/a8b7eebb-42c5-4d68-ac79-1a32d957e8ef')\" src=\"data:image/gif;base64,R0lGODlhAQABAIAAAP///wAAACH5BAEAAAAALAAAAAABAAEAAAICRAEAOw==\" /></div>"
      ],
      "text/plain": [
       "<visualization: Visualization uuid: a8b7eebb-42c5-4d68-ac79-1a32d957e8ef>"
      ]
     },
     "execution_count": 7,
     "metadata": {},
     "output_type": "execute_result"
    }
   ],
   "source": [
    "Visualization.load('./data/fungut_metadata.qzv')"
   ]
  },
  {
   "cell_type": "markdown",
   "id": "ae3eafcc-8323-42f0-a333-7015cf80cbaa",
   "metadata": {},
   "source": [
    "## Preprocessing the metadata"
   ]
  },
  {
   "cell_type": "markdown",
   "id": "0819a209-74aa-4739-99e7-9037e5f7527c",
   "metadata": {},
   "source": [
    "### Removing rows with NaN for Diseases"
   ]
  },
  {
   "cell_type": "code",
   "execution_count": 69,
   "id": "71a6f1d3-e721-4059-bb24-b6a8044a5c83",
   "metadata": {
    "tags": []
   },
   "outputs": [],
   "source": [
    "#read metadata\n",
    "metadata = pd.read_csv(\"./datafungut_metadata.tsv\", sep=\"\\t\")"
   ]
  },
  {
   "cell_type": "code",
   "execution_count": 70,
   "id": "0f619153-9f07-43db-a0c7-e933877f24f3",
   "metadata": {
    "tags": []
   },
   "outputs": [
    {
     "name": "stdout",
     "output_type": "stream",
     "text": [
      "4 samples have both response variables not provided\n",
      "4 samples have been removed\n"
     ]
    }
   ],
   "source": [
    "#count the rows that have column \"ibd_sample\" and \"gluten_sample\" = Not provided\n",
    "filtered_rows = metadata[(metadata['ibd_sample'] == \"Not provided\") & (metadata['gluten_sample'] == \"Not provided\")]\n",
    "print(len(filtered_rows), \"samples have both response variables not provided\")\n",
    "\n",
    "#filter rows that have column \"ibd_sample\" and \"gluten_sample\" = Not provided\n",
    "metadata = metadata[~((metadata['ibd_sample'] == \"Not provided\") & (metadata['gluten_sample'] == \"Not provided\"))]\n",
    "metadata.describe()\n",
    "print(len(filtered_rows), \"samples have been removed\")"
   ]
  },
  {
   "cell_type": "markdown",
   "id": "65146361-6b08-416d-8f42-439ed289b719",
   "metadata": {},
   "source": [
    "### Removing rows with only NaN"
   ]
  },
  {
   "cell_type": "code",
   "execution_count": 71,
   "id": "55c86bc5-2653-4206-83b8-5ad11f3e5faf",
   "metadata": {
    "tags": []
   },
   "outputs": [
    {
     "name": "stdout",
     "output_type": "stream",
     "text": [
      "62 samples have not provided 1 columns\n",
      "10 samples have not provided 2 columns\n",
      "5 samples have not provided 3 columns\n",
      "2 samples have not provided 4 columns\n",
      "1 samples have not provided 5 columns\n"
     ]
    }
   ],
   "source": [
    "# count the number of rows that have more than x columns not provided\n",
    "for x in range(1, 6):\n",
    "    count = metadata[metadata.eq(\"Not provided\").sum(axis=1) >= x].shape[0]\n",
    "    print(count, \"samples have not provided\", x, \"columns\")"
   ]
  },
  {
   "cell_type": "markdown",
   "id": "d3386e21-98c4-4b57-ad74-11bdd3061821",
   "metadata": {},
   "source": [
    "now we have to decide which of them we want filter out"
   ]
  },
  {
   "cell_type": "markdown",
   "id": "051f786d-c109-4251-b14a-1c5cc0f9a3bc",
   "metadata": {},
   "source": [
    "### Create new feature \"Symptoms vs No-Symptoms\""
   ]
  },
  {
   "cell_type": "code",
   "execution_count": 72,
   "id": "229fa5da-d9d6-42bb-9540-d5f12684b8fd",
   "metadata": {
    "tags": []
   },
   "outputs": [
    {
     "data": {
      "text/plain": [
       "array(['No',\n",
       "       'I was diagnosed with gluten allergy (anti-gluten IgG), but not celiac disease',\n",
       "       'I do not eat gluten because it makes me feel bad',\n",
       "       'I was diagnosed with celiac disease', 'Not provided'],\n",
       "      dtype=object)"
      ]
     },
     "execution_count": 72,
     "metadata": {},
     "output_type": "execute_result"
    }
   ],
   "source": [
    "metadata['gluten_sample'].unique()"
   ]
  },
  {
   "cell_type": "code",
   "execution_count": 75,
   "id": "30cf1aa8-0f94-4512-9e3e-bbf1d1a841be",
   "metadata": {
    "tags": []
   },
   "outputs": [],
   "source": [
    "# Define the categories to summarize as \"symptoms\"\n",
    "no_symptoms = ['I do not have this condition']  \n",
    "\n",
    "# Create a new column with a binary classification\n",
    "metadata['ibd_symptoms'] = metadata['ibd_sample'].apply(\n",
    "    lambda x: 'Not provided' if x == 'Not provided' else \n",
    "              ('no_symptoms' if x in no_symptoms else 'symptoms')\n",
    ")"
   ]
  },
  {
   "cell_type": "code",
   "execution_count": 77,
   "id": "6d92be69-b96d-472e-adcf-b8813eb476f1",
   "metadata": {
    "tags": []
   },
   "outputs": [],
   "source": [
    "# Define the categories to summarize as \"no_symptoms\"\n",
    "no_symptoms = ['No']  \n",
    "\n",
    "# Create a new column with a binary classification\n",
    "metadata['gluten_symptoms'] = metadata['gluten_sample'].apply(\n",
    "    lambda x: 'Not provided' if x == 'Not provided' else \n",
    "              ('no_symptoms' if x in no_symptoms else 'symptoms')\n",
    ")"
   ]
  },
  {
   "cell_type": "markdown",
   "id": "2107e634-8532-43fb-b89d-759ed104fabd",
   "metadata": {},
   "source": [
    "### Save processed metadata as tsv file"
   ]
  },
  {
   "cell_type": "code",
   "execution_count": 78,
   "id": "2bc497c3-8aa2-4685-a1be-8e553c8a8549",
   "metadata": {
    "tags": []
   },
   "outputs": [],
   "source": [
    "metadata.to_csv('./data/fungut_metadata_processed.tsv', sep='\\t', index=False)"
   ]
  },
  {
   "cell_type": "markdown",
   "id": "40a6d7af-6b19-4cda-a9ee-1bdc11e281dc",
   "metadata": {},
   "source": [
    "### Denoising with dada2\n",
    "We chose a truncation length of 150 because..."
   ]
  },
  {
   "cell_type": "code",
   "execution_count": null,
   "id": "7c7b91ea-a7bf-424c-8b59-d75141e1fef8",
   "metadata": {
    "tags": []
   },
   "outputs": [],
   "source": [
    "!qiime dada2 denoise-single \\\n",
    "  --i-demultiplexed-seqs ./data/fungut_forward_reads.qza \\\n",
    "  --p-trim-left 0 \\\n",
    "  --p-trunc-len 150 \\\n",
    "  --o-representative-sequences ./data/rep-seqs.qza \\\n",
    "  --o-table ./data/feature-table.qza \\\n",
    "  --o-denoising-stats ./data/denoising-stats.qza"
   ]
  },
  {
   "cell_type": "markdown",
   "id": "74adcdac-3a0d-4314-9962-faf9e38adbd2",
   "metadata": {},
   "source": [
    "#### Check out the feature table"
   ]
  },
  {
   "cell_type": "code",
   "execution_count": null,
   "id": "f1f88d1c-69d4-4fb9-9634-ecd742a12f76",
   "metadata": {},
   "outputs": [],
   "source": [
    "!qiime feature-table summarize \\\n",
    "  --i-table ./data/feature-table.qza \\\n",
    "  --o-visualization ./data/feature-table-summary.qzv"
   ]
  },
  {
   "cell_type": "code",
   "execution_count": null,
   "id": "bf08e82e-630c-45da-8db5-f840ac060eae",
   "metadata": {},
   "outputs": [],
   "source": [
    "Visualization.load('./data/table-summary.qzv')"
   ]
  },
  {
   "cell_type": "markdown",
   "id": "6cc1ba44-2d49-4152-87e4-9fec7a10d31d",
   "metadata": {},
   "source": [
    "### Classification\n",
    "This step was executed on Euler, as we ran into the problem of not having sufficient memory on JupyterHub\n",
    "See our bash script we ran on Euler in './scripts/'"
   ]
  },
  {
   "cell_type": "code",
   "execution_count": null,
   "id": "22c3dfaf-66af-4fef-88a0-8041755abb4d",
   "metadata": {
    "tags": []
   },
   "outputs": [],
   "source": [
    "'''\n",
    "!qiime feature-classifier classify-sklearn \\\n",
    "  --i-classifier ./data/taxonomy_classification/unite_ver10_dynamic_s_all_04.04.2024-Q2-2024.5.qza \\\n",
    "  --i-reads ./data/rep-seqs.qza \\\n",
    "  --p-reads-per-batch 1000 \\\n",
    "  --o-classification ./taxonomy_unite_dynamic_s_all.qza\n",
    "'''"
   ]
  },
  {
   "cell_type": "code",
   "execution_count": 6,
   "id": "3aa0361d-9e61-46f1-85c5-448259370043",
   "metadata": {
    "tags": []
   },
   "outputs": [
    {
     "name": "stdout",
     "output_type": "stream",
     "text": [
      "\u001b[32mSaved Visualization to: ./data/taxonomy_classification/taxonomy_unite_dynamic_s_all.qzv\u001b[0m\n",
      "\u001b[0m"
     ]
    }
   ],
   "source": [
    "# tabulation of the taxonomy classification only 99, so the too basic classifier, without eukaryotes\n",
    "!qiime metadata tabulate \\\n",
    "  --m-input-file ./data/taxonomy_classification/taxonomy_unite_dynamic_s_all.qza \\\n",
    "  --o-visualization ./data/taxonomy_classification/taxonomy_unite_dynamic_s_all.qzv"
   ]
  },
  {
   "cell_type": "code",
   "execution_count": null,
   "id": "240cf8c0-3a3f-4620-8ed2-94bd1c653d2e",
   "metadata": {
    "tags": []
   },
   "outputs": [],
   "source": [
    "Visualization.load('./data/taxonomy_classification/taxonomy_unite_dynamic_s_all.qzv')"
   ]
  },
  {
   "cell_type": "markdown",
   "id": "0b221f11-d754-4abe-9810-48d5feb153ee",
   "metadata": {},
   "source": [
    "#### Create the taxonomy bar plot"
   ]
  },
  {
   "cell_type": "code",
   "execution_count": null,
   "id": "2244a3f2-d15e-4ae6-a0a1-7cfa2a4e2aa3",
   "metadata": {
    "tags": []
   },
   "outputs": [],
   "source": [
    "!qiime taxa barplot \\\n",
    "  --i-table ./data/table.qza \\\n",
    "  --i-taxonomy ./taxonomy_unite_dynamic_s_all.qza \\\n",
    "  --m-metadata-file ./data/fungut_metadata.tsv \\\n",
    "  --o-visualization ./data/taxa-bar-plots.qzv"
   ]
  },
  {
   "cell_type": "code",
   "execution_count": null,
   "id": "41ec7488-211f-4022-853d-40033ce0499f",
   "metadata": {
    "tags": []
   },
   "outputs": [],
   "source": [
    "Visualization.load('./data/taxonomy_classification/taxa-bar-plots.qzv')"
   ]
  },
  {
   "cell_type": "markdown",
   "id": "43dc68ed-8955-44aa-9196-fd472dc92c9a",
   "metadata": {},
   "source": [
    "#### Filtering the feature table to exclude eukaryotes\n",
    "We observed that we have contamination in our samples, so we filtered out those assigned Eukaryota and Unassigned"
   ]
  },
  {
   "cell_type": "code",
   "execution_count": 17,
   "id": "f7a56fdb-013a-474c-bc46-f4d3292cb22c",
   "metadata": {
    "tags": []
   },
   "outputs": [
    {
     "name": "stdout",
     "output_type": "stream",
     "text": [
      "\u001b[32mSaved FeatureTable[Frequency] to: ./data/filtered-feature-table.qza\u001b[0m\n",
      "\u001b[0m"
     ]
    }
   ],
   "source": [
    "!qiime taxa filter-table \\\n",
    "  --i-table ./data/table.qza \\\n",
    "  --i-taxonomy ./taxonomy_unite_dynamic_s_all.qza \\\n",
    "  --p-exclude Eukaryota,Unassigned \\\n",
    "  --o-filtered-table ./data/filtered-feature-table.qza\n"
   ]
  },
  {
   "cell_type": "code",
   "execution_count": 21,
   "id": "4eae8adb-ebfb-4fbf-8eba-4603388c2f6d",
   "metadata": {
    "tags": []
   },
   "outputs": [
    {
     "name": "stdout",
     "output_type": "stream",
     "text": [
      "\u001b[32mSaved Visualization to: ./data/filtered-feature-table_summary.qzv\u001b[0m\n",
      "\u001b[0m"
     ]
    }
   ],
   "source": [
    "!qiime feature-table summarize\\\n",
    "    --i-table ./data/filtered-feature-table.qza \\\n",
    "    --o-visualization ./data/filtered-feature-table_summary.qzv"
   ]
  },
  {
   "cell_type": "code",
   "execution_count": 25,
   "id": "ac1793eb-f102-48eb-9ff0-7b2806f23414",
   "metadata": {
    "tags": []
   },
   "outputs": [
    {
     "data": {
      "text/html": [
       "<div><img onload=\"(function(div, url){\n",
       "if (typeof require !== 'undefined') {\n",
       "    var baseURL = require.toUrl('').split('/').slice(0, -2).join('/');\n",
       "} else {\n",
       "    var baseURL = JSON.parse(\n",
       "        document.getElementById('jupyter-config-data').innerHTML\n",
       "    ).baseUrl.slice(0, -1);\n",
       "}\n",
       "url = baseURL + url;\n",
       "fetch(url).then(function(res) {\n",
       "    if (res.status === 404) {\n",
       "        div.innerHTML = 'Install QIIME 2 Jupyter extension with:<br />' +\n",
       "                        '<code>jupyter serverextension enable --py qiime2' +\n",
       "                        ' --sys-prefix</code><br />then restart your server.' +\n",
       "                        '<br /><br />(Interactive output not available on ' +\n",
       "                        'static notebook viewer services like nbviewer.)';\n",
       "    } else if (res.status === 409) {\n",
       "        div.innerHTML = 'Visualization no longer in scope. Re-run this cell' +\n",
       "                        ' to see the visualization.';\n",
       "    } else if (res.ok) {\n",
       "        url = res.url;\n",
       "        div.innerHTML = '<iframe src=\\'' + url + '\\' style=\\'' +\n",
       "                        'width: 100%; height: 700px; border: 0;\\'>' +\n",
       "                        '</iframe><hr />Open in a: <a href=\\'' + url + '\\'' +\n",
       "                        ' target=\\'_blank\\'>new window</a>'\n",
       "    } else {\n",
       "        div.innerHTML = 'Something has gone wrong. Check notebook server for' +\n",
       "                        ' errors.';\n",
       "    }\n",
       "});\n",
       "})(this.parentElement, '/qiime2/redirect?location=/tmp/qiime2/jovyan/data/e6a080e5-3bd7-4571-9484-81ac91b3d5b1')\" src=\"data:image/gif;base64,R0lGODlhAQABAIAAAP///wAAACH5BAEAAAAALAAAAAABAAEAAAICRAEAOw==\" /></div>"
      ],
      "text/plain": [
       "<visualization: Visualization uuid: e6a080e5-3bd7-4571-9484-81ac91b3d5b1>"
      ]
     },
     "execution_count": 25,
     "metadata": {},
     "output_type": "execute_result"
    }
   ],
   "source": [
    "Visualization.load('./data/filtered-feature-table_summary.qzv')"
   ]
  },
  {
   "cell_type": "markdown",
   "id": "a32fc128-3fcd-432f-ae7a-0c051d5772d9",
   "metadata": {
    "tags": []
   },
   "source": [
    "### Creating a phylogenetic tree\n",
    "\n",
    "#### First we align our sequences"
   ]
  },
  {
   "cell_type": "code",
   "execution_count": null,
   "id": "73b4b271-f0dc-40bb-847a-1dcfa4241e42",
   "metadata": {},
   "outputs": [],
   "source": [
    "! qiime alignment mafft \\\n",
    "    --i-sequences ./data/rep-seqs.qza \\\n",
    "    --o-alignment ./data/aligned-rep-seqs.qza"
   ]
  },
  {
   "cell_type": "markdown",
   "id": "ea273e5e-e509-40d7-a4a9-c719bfe0b9f3",
   "metadata": {},
   "source": [
    "#### Alignment masking"
   ]
  },
  {
   "cell_type": "code",
   "execution_count": null,
   "id": "ec11ef0f-f99a-4aff-9306-277d95fb49ff",
   "metadata": {},
   "outputs": [],
   "source": [
    "! qiime alignment mask \\\n",
    "    --i-alignment ./data/aligned-rep-seqs.qza \\\n",
    "    --o-masked-alignment ./data/masked-aligned-rep-seqs.qza"
   ]
  },
  {
   "cell_type": "markdown",
   "id": "fefe13a5-dddf-4e9a-b898-ada2e7b254ac",
   "metadata": {},
   "source": [
    "#### Tree construction"
   ]
  },
  {
   "cell_type": "code",
   "execution_count": null,
   "id": "4b66ff40-6b35-44f1-aa35-2ed5988b8994",
   "metadata": {},
   "outputs": [],
   "source": [
    "! qiime phylogeny fasttree \\\n",
    "    --i-alignment ./data/masked-aligned-rep-seqs.qza \\\n",
    "    --o-tree ./data/fasttree-tree.qza\n",
    "\n",
    "! qiime phylogeny midpoint-root \\\n",
    "    --i-tree ./data/fast-tree.qza \\\n",
    "    --o-rooted-tree ./data/fast-tree-rooted.qza"
   ]
  },
  {
   "cell_type": "markdown",
   "id": "09036dc0-2940-4a10-8420-6b422ae10e2b",
   "metadata": {},
   "source": [
    "#### Unable to create tree visualization on Jupyter\n",
    "\n",
    "Saddly we weren't able to install the qiime2 plugin empress to create the tree visualization, which is why we ran this step on euler."
   ]
  },
  {
   "cell_type": "code",
   "execution_count": 2,
   "id": "33ea9d42-1884-4db1-91c4-629f6cbe9a1e",
   "metadata": {},
   "outputs": [
    {
     "data": {
      "text/html": [
       "<div><img onload=\"(function(div, url){\n",
       "if (typeof require !== 'undefined') {\n",
       "    var baseURL = require.toUrl('').split('/').slice(0, -2).join('/');\n",
       "} else {\n",
       "    var baseURL = JSON.parse(\n",
       "        document.getElementById('jupyter-config-data').innerHTML\n",
       "    ).baseUrl.slice(0, -1);\n",
       "}\n",
       "url = baseURL + url;\n",
       "fetch(url).then(function(res) {\n",
       "    if (res.status === 404) {\n",
       "        div.innerHTML = 'Install QIIME 2 Jupyter extension with:<br />' +\n",
       "                        '<code>jupyter serverextension enable --py qiime2' +\n",
       "                        ' --sys-prefix</code><br />then restart your server.' +\n",
       "                        '<br /><br />(Interactive output not available on ' +\n",
       "                        'static notebook viewer services like nbviewer.)';\n",
       "    } else if (res.status === 409) {\n",
       "        div.innerHTML = 'Visualization no longer in scope. Re-run this cell' +\n",
       "                        ' to see the visualization.';\n",
       "    } else if (res.ok) {\n",
       "        url = res.url;\n",
       "        div.innerHTML = '<iframe src=\\'' + url + '\\' style=\\'' +\n",
       "                        'width: 100%; height: 700px; border: 0;\\'>' +\n",
       "                        '</iframe><hr />Open in a: <a href=\\'' + url + '\\'' +\n",
       "                        ' target=\\'_blank\\'>new window</a>'\n",
       "    } else {\n",
       "        div.innerHTML = 'Something has gone wrong. Check notebook server for' +\n",
       "                        ' errors.';\n",
       "    }\n",
       "});\n",
       "})(this.parentElement, '/qiime2/redirect?location=/tmp/qiime2/jovyan/data/94c735db-04a5-47d4-a4e0-e9b083539786')\" src=\"data:image/gif;base64,R0lGODlhAQABAIAAAP///wAAACH5BAEAAAAALAAAAAABAAEAAAICRAEAOw==\" /></div>"
      ],
      "text/plain": [
       "<visualization: Visualization uuid: 94c735db-04a5-47d4-a4e0-e9b083539786>"
      ]
     },
     "execution_count": 2,
     "metadata": {},
     "output_type": "execute_result"
    }
   ],
   "source": [
    "Visualization.load('./data/phylogeny/fasttree-tree-rooted.qzv')"
   ]
  },
  {
   "cell_type": "markdown",
   "id": "cfc1bb17-ea97-493c-a2e1-a89b2cefb29e",
   "metadata": {},
   "source": [
    "#### Alpha rarefaction"
   ]
  },
  {
   "cell_type": "code",
   "execution_count": 9,
   "id": "bdb5603c-4f71-4053-aebd-a249d7d1c55b",
   "metadata": {
    "tags": []
   },
   "outputs": [
    {
     "name": "stdout",
     "output_type": "stream",
     "text": [
      "\u001b[32mSaved Visualization to: ./data/alpha-rarefaction.qzv\u001b[0m\n",
      "\u001b[0m"
     ]
    }
   ],
   "source": [
    "!qiime diversity alpha-rarefaction \\\n",
    "  --i-table ./data/filtered-feature-table.qza \\\n",
    "  --i-phylogeny ./data/fasttree-tree-rooted.qza \\\n",
    "  --p-max-depth  30000 \\\n",
    "  --m-metadata-file ./data/fungut_metadata.tsv \\\n",
    "  --o-visualization ./data/alpha-rarefaction.qzv\n"
   ]
  },
  {
   "cell_type": "code",
   "execution_count": null,
   "id": "97a242cc-97fe-4c9b-85cb-bec081817655",
   "metadata": {
    "tags": []
   },
   "outputs": [],
   "source": [
    "Visualization.load('./data/alpha-rarefaction.qzv')"
   ]
  },
  {
   "cell_type": "markdown",
   "id": "b01dc1de-4191-4790-b411-a3889a7b5f52",
   "metadata": {},
   "source": [
    "#### Due to this plot we decide on a sampling depth for the next step."
   ]
  },
  {
   "cell_type": "markdown",
   "id": "8384e8fc-1b75-44ae-aaaf-48a2872b0fc8",
   "metadata": {},
   "source": [
    "#### Compute metrics\n",
    "We chose a sampling depth of 5000, as the shannon metric plateaus shortly before it  \n"
   ]
  },
  {
   "cell_type": "code",
   "execution_count": null,
   "id": "1c41aad5-0caf-4790-86ac-bdd0e17ea9e8",
   "metadata": {},
   "outputs": [],
   "source": [
    "! qiime diversity core-metrics-phylogenetic \\\n",
    "  --i-table ./data/filtered-feature-table.qza \\\n",
    "  --i-phylogeny ./data/fasttree-tree-rooted.qza \\\n",
    "  --m-metadata-file ./data/fungut_metadata.tsv \\\n",
    "  --p-sampling-depth 5000 \\\n",
    "  --output-dir ./data/core-metrics-results"
   ]
  },
  {
   "cell_type": "markdown",
   "id": "e00357ec-7a7e-40a8-b3ae-d25a80b78c4a",
   "metadata": {},
   "source": [
    "#### Check out the core metrics results visualizations"
   ]
  },
  {
   "cell_type": "code",
   "execution_count": 6,
   "id": "bf71a394-2441-4b19-973a-9cd40d525f9a",
   "metadata": {
    "tags": []
   },
   "outputs": [
    {
     "data": {
      "application/vnd.jupyter.widget-view+json": {
       "model_id": "6e9537cab0584a4aa552673e6d597ed1",
       "version_major": 2,
       "version_minor": 0
      },
      "text/plain": [
       "Dropdown(description='Select .qzv file:', options=('bray_curtis_emperor.qzv', 'jaccard_emperor.qzv', 'weighted…"
      ]
     },
     "metadata": {},
     "output_type": "display_data"
    },
    {
     "data": {
      "application/vnd.jupyter.widget-view+json": {
       "model_id": "a2263d8a1f6247989021b0bb37c5544b",
       "version_major": 2,
       "version_minor": 0
      },
      "text/plain": [
       "Output()"
      ]
     },
     "metadata": {},
     "output_type": "display_data"
    }
   ],
   "source": [
    "sys.path.append(os.path.join(os.getcwd(), 'scripts'))\n",
    "from qzv_selector import display_qzv_selector\n",
    "display_qzv_selector('./data/core-metrics-results')"
   ]
  },
  {
   "cell_type": "code",
   "execution_count": 14,
   "id": "310b9a41-3b16-4bcc-98c8-4c2eace9af18",
   "metadata": {
    "tags": []
   },
   "outputs": [
    {
     "data": {
      "application/vnd.jupyter.widget-view+json": {
       "model_id": "e8c9aa277cd74df5acfe8e66b0ed9482",
       "version_major": 2,
       "version_minor": 0
      },
      "text/plain": [
       "VBox(children=(Dropdown(description='Select Category:', options=('country', 'state', 'sex', 'diet_type', 'ibd'…"
      ]
     },
     "metadata": {},
     "output_type": "display_data"
    }
   ],
   "source": [
    "# test_import.py\n",
    "from qzv_selector import create_category_selector\n",
    "\n",
    "category_dropdown = create_category_selector()\n"
   ]
  },
  {
   "cell_type": "code",
   "execution_count": 18,
   "id": "258cc11e-d67f-4c59-901b-8aba55d71355",
   "metadata": {
    "tags": []
   },
   "outputs": [
    {
     "name": "stderr",
     "output_type": "stream",
     "text": [
      "/opt/conda/lib/python3.9/site-packages/q2_types/sample_data/_transformer.py:27: FutureWarning: errors='ignore' is deprecated and will raise in a future version. Use to_numeric without passing `errors` and catch exceptions explicitly instead\n",
      "  df[cols] = df[cols].apply(pd.to_numeric, errors='ignore')\n"
     ]
    },
    {
     "data": {
      "image/png": "[encoded data removed]",
      "text/plain": [
       "<Figure size 640x480 with 1 Axes>"
      ]
     },
     "metadata": {},
     "output_type": "display_data"
    }
   ],
   "source": [
    "types = category_dropdown.value\n",
    "\n",
    "div = q2.Artifact.load('./data/core-metrics-results/faith_pd_vector.qza').view(pd.Series)\n",
    "md = pd.read_csv('./data/fungut_metadata.tsv', sep='\\t', index_col=0)[f'{types}_sample']\n",
    "# Concatenate the series that we provided\n",
    "dd = pd.concat([div, md], axis=1, join='inner')\n",
    "\n",
    "# make a boxplot with Faith PD on the y-axis and the selected 'type' on the x-axis (hint: look at the \"by\" parameter)\n",
    "sns.boxplot(x=f'{types}_sample', y = dd.columns[0], data = dd)\n",
    "plt.xlabel(f'{types}_sample')\n",
    "plt.xticks(rotation = 80)\n",
    "plt.ylabel('Faith PD')\n",
    "plt.title(f'Faith PD Boxplot by {types}_sample')\n",
    "plt.show()"
   ]
  },
  {
   "cell_type": "code",
   "execution_count": null,
   "id": "a2f75119-2ebe-4874-a66f-0179797b7d03",
   "metadata": {},
   "outputs": [],
   "source": []
  }
 ],
 "metadata": {
  "kernelspec": {
   "display_name": "QIIME 2",
   "language": "python",
   "name": "python3"
  },
  "language_info": {
   "codemirror_mode": {
    "name": "ipython",
    "version": 3
   },
   "file_extension": ".py",
   "mimetype": "text/x-python",
   "name": "python",
   "nbconvert_exporter": "python",
   "pygments_lexer": "ipython3",
   "version": "3.9.19"
  }
 },
 "nbformat": 4,
 "nbformat_minor": 5
}
