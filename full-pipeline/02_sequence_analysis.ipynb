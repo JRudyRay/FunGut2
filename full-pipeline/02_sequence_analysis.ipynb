{
 "cells": [
  {
   "cell_type": "markdown",
   "id": "fa44c477-b86e-4616-a9bc-7a34d8a55584",
   "metadata": {},
   "source": [
    "# Primary analyses of our sequences"
   ]
  },
  {
   "cell_type": "code",
   "execution_count": 1,
   "id": "babb3bf0-a258-4eec-8547-713c3534550e",
   "metadata": {
    "tags": []
   },
   "outputs": [],
   "source": [
    "import os\n",
    "import sys\n",
    "import pandas as pd\n",
    "import qiime2 as q2\n",
    "from qiime2 import Visualization\n",
    "import matplotlib.pyplot as plt\n",
    "import seaborn as sns\n",
    "%matplotlib inline\n",
    "\n",
    "# Define the data directory\n",
    "data_dir = '/data'"
   ]
  },
  {
   "cell_type": "markdown",
   "id": "6543cb0a-f2e0-4312-8d99-d20aacac2782",
   "metadata": {},
   "source": [
    "### Checking out the reads"
   ]
  },
  {
   "cell_type": "code",
   "execution_count": 2,
   "id": "478cf25d-9707-4c49-9972-ca52c2eaf16e",
   "metadata": {},
   "outputs": [
    {
     "name": "stdout",
     "output_type": "stream",
     "text": [
      "\u001b[32mSaved Visualization to: ./data/fungut_forward_reads_summary.qzv\u001b[0m\n",
      "\u001b[0m"
     ]
    }
   ],
   "source": [
    "! qiime demux summarize \\\n",
    "  --i-data ./data/fungut_forward_reads.qza \\\n",
    "  --o-visualization ./data/fungut_forward_reads_summary.qzv"
   ]
  },
  {
   "cell_type": "code",
   "execution_count": 3,
   "id": "678eb38d-df7f-4e1e-88c9-394d7f989675",
   "metadata": {
    "tags": []
   },
   "outputs": [
    {
     "data": {
      "text/html": [
       "<div><img onload=\"(function(div, url){\n",
       "if (typeof require !== 'undefined') {\n",
       "    var baseURL = require.toUrl('').split('/').slice(0, -2).join('/');\n",
       "} else {\n",
       "    var baseURL = JSON.parse(\n",
       "        document.getElementById('jupyter-config-data').innerHTML\n",
       "    ).baseUrl.slice(0, -1);\n",
       "}\n",
       "url = baseURL + url;\n",
       "fetch(url).then(function(res) {\n",
       "    if (res.status === 404) {\n",
       "        div.innerHTML = 'Install QIIME 2 Jupyter extension with:<br />' +\n",
       "                        '<code>jupyter serverextension enable --py qiime2' +\n",
       "                        ' --sys-prefix</code><br />then restart your server.' +\n",
       "                        '<br /><br />(Interactive output not available on ' +\n",
       "                        'static notebook viewer services like nbviewer.)';\n",
       "    } else if (res.status === 409) {\n",
       "        div.innerHTML = 'Visualization no longer in scope. Re-run this cell' +\n",
       "                        ' to see the visualization.';\n",
       "    } else if (res.ok) {\n",
       "        url = res.url;\n",
       "        div.innerHTML = '<iframe src=\\'' + url + '\\' style=\\'' +\n",
       "                        'width: 100%; height: 700px; border: 0;\\'>' +\n",
       "                        '</iframe><hr />Open in a: <a href=\\'' + url + '\\'' +\n",
       "                        ' target=\\'_blank\\'>new window</a>'\n",
       "    } else {\n",
       "        div.innerHTML = 'Something has gone wrong. Check notebook server for' +\n",
       "                        ' errors.';\n",
       "    }\n",
       "});\n",
       "})(this.parentElement, '/qiime2/redirect?location=/tmp/qiime2/jovyan/data/e34a514b-4f09-4438-b8e7-3a376c419353')\" src=\"data:image/gif;base64,R0lGODlhAQABAIAAAP///wAAACH5BAEAAAAALAAAAAABAAEAAAICRAEAOw==\" /></div>"
      ],
      "text/plain": [
       "<visualization: Visualization uuid: e34a514b-4f09-4438-b8e7-3a376c419353>"
      ]
     },
     "execution_count": 3,
     "metadata": {},
     "output_type": "execute_result"
    }
   ],
   "source": [
    "Visualization.load('./data/fungut_forward_reads_summary.qzv')"
   ]
  },
  {
   "cell_type": "markdown",
   "id": "3adba178-bbb8-4137-b07d-7b2453b73e96",
   "metadata": {
    "tags": []
   },
   "source": [
    "### Checking out the metadata"
   ]
  },
  {
   "cell_type": "code",
   "execution_count": 4,
   "id": "7b42f909-d75d-4150-9701-8bff72ed0e94",
   "metadata": {
    "tags": []
   },
   "outputs": [
    {
     "name": "stdout",
     "output_type": "stream",
     "text": [
      "\u001b[32mSaved Visualization to: ./data/fungut_metadata.qzv\u001b[0m\n",
      "\u001b[0m"
     ]
    }
   ],
   "source": [
    "!qiime metadata tabulate \\\n",
    "  --m-input-file ./data/fungut_metadata.tsv \\\n",
    "  --o-visualization ./data/fungut_metadata.qzv"
   ]
  },
  {
   "cell_type": "code",
   "execution_count": 5,
   "id": "8c540ff5-9515-4da7-bc93-cd84714289d5",
   "metadata": {
    "tags": []
   },
   "outputs": [
    {
     "data": {
      "text/html": [
       "<div><img onload=\"(function(div, url){\n",
       "if (typeof require !== 'undefined') {\n",
       "    var baseURL = require.toUrl('').split('/').slice(0, -2).join('/');\n",
       "} else {\n",
       "    var baseURL = JSON.parse(\n",
       "        document.getElementById('jupyter-config-data').innerHTML\n",
       "    ).baseUrl.slice(0, -1);\n",
       "}\n",
       "url = baseURL + url;\n",
       "fetch(url).then(function(res) {\n",
       "    if (res.status === 404) {\n",
       "        div.innerHTML = 'Install QIIME 2 Jupyter extension with:<br />' +\n",
       "                        '<code>jupyter serverextension enable --py qiime2' +\n",
       "                        ' --sys-prefix</code><br />then restart your server.' +\n",
       "                        '<br /><br />(Interactive output not available on ' +\n",
       "                        'static notebook viewer services like nbviewer.)';\n",
       "    } else if (res.status === 409) {\n",
       "        div.innerHTML = 'Visualization no longer in scope. Re-run this cell' +\n",
       "                        ' to see the visualization.';\n",
       "    } else if (res.ok) {\n",
       "        url = res.url;\n",
       "        div.innerHTML = '<iframe src=\\'' + url + '\\' style=\\'' +\n",
       "                        'width: 100%; height: 700px; border: 0;\\'>' +\n",
       "                        '</iframe><hr />Open in a: <a href=\\'' + url + '\\'' +\n",
       "                        ' target=\\'_blank\\'>new window</a>'\n",
       "    } else {\n",
       "        div.innerHTML = 'Something has gone wrong. Check notebook server for' +\n",
       "                        ' errors.';\n",
       "    }\n",
       "});\n",
       "})(this.parentElement, '/qiime2/redirect?location=/tmp/qiime2/jovyan/data/a8b7eebb-42c5-4d68-ac79-1a32d957e8ef')\" src=\"data:image/gif;base64,R0lGODlhAQABAIAAAP///wAAACH5BAEAAAAALAAAAAABAAEAAAICRAEAOw==\" /></div>"
      ],
      "text/plain": [
       "<visualization: Visualization uuid: a8b7eebb-42c5-4d68-ac79-1a32d957e8ef>"
      ]
     },
     "execution_count": 5,
     "metadata": {},
     "output_type": "execute_result"
    }
   ],
   "source": [
    "Visualization.load('./data/fungut_metadata.qzv')"
   ]
  },
  {
   "cell_type": "markdown",
   "id": "40a6d7af-6b19-4cda-a9ee-1bdc11e281dc",
   "metadata": {},
   "source": [
    "### Denoising with dada2\n",
    "We chose a truncation length of 150 because..."
   ]
  },
  {
   "cell_type": "code",
   "execution_count": null,
   "id": "7c7b91ea-a7bf-424c-8b59-d75141e1fef8",
   "metadata": {
    "tags": []
   },
   "outputs": [],
   "source": [
    "!qiime dada2 denoise-single \\\n",
    "  --i-demultiplexed-seqs ./data/fungut_forward_reads.qza \\\n",
    "  --p-trim-left 0 \\\n",
    "  --p-trunc-len 150 \\\n",
    "  --o-representative-sequences ./data/rep-seqs.qza \\\n",
    "  --o-table ./data/feature-table.qza \\\n",
    "  --o-denoising-stats ./data/denoising-stats.qza"
   ]
  },
  {
   "cell_type": "markdown",
   "id": "74adcdac-3a0d-4314-9962-faf9e38adbd2",
   "metadata": {},
   "source": [
    "#### Check out the feature table"
   ]
  },
  {
   "cell_type": "code",
   "execution_count": null,
   "id": "f1f88d1c-69d4-4fb9-9634-ecd742a12f76",
   "metadata": {},
   "outputs": [],
   "source": [
    "!qiime feature-table summarize \\\n",
    "  --i-table ./data/feature-table.qza \\\n",
    "  --o-visualization ./data/feature-table-summary.qzv"
   ]
  },
  {
   "cell_type": "code",
   "execution_count": null,
   "id": "bf08e82e-630c-45da-8db5-f840ac060eae",
   "metadata": {},
   "outputs": [],
   "source": [
    "Visualization.load('./data/table-summary.qzv')"
   ]
  },
  {
   "cell_type": "markdown",
   "id": "6cc1ba44-2d49-4152-87e4-9fec7a10d31d",
   "metadata": {},
   "source": [
    "### Classification\n",
    "This step was executed on Euler, as we ran into the problem of not having sufficient memory on JupyterHub\n",
    "See our bash script we ran on Euler in './scripts/'"
   ]
  },
  {
   "cell_type": "code",
   "execution_count": null,
   "id": "22c3dfaf-66af-4fef-88a0-8041755abb4d",
   "metadata": {
    "tags": []
   },
   "outputs": [],
   "source": [
    "'''\n",
    "!qiime feature-classifier classify-sklearn \\\n",
    "  --i-classifier ./data/taxonomy_classification/unite_ver10_dynamic_s_all_04.04.2024-Q2-2024.5.qza \\\n",
    "  --i-reads ./data/rep-seqs.qza \\\n",
    "  --p-reads-per-batch 1000 \\\n",
    "  --o-classification ./taxonomy_unite_dynamic_s_all.qza\n",
    "'''"
   ]
  },
  {
   "cell_type": "code",
   "execution_count": 6,
   "id": "3aa0361d-9e61-46f1-85c5-448259370043",
   "metadata": {
    "tags": []
   },
   "outputs": [
    {
     "name": "stdout",
     "output_type": "stream",
     "text": [
      "\u001b[32mSaved Visualization to: ./data/taxonomy_classification/taxonomy_unite_dynamic_s_all.qzv\u001b[0m\n",
      "\u001b[0m"
     ]
    }
   ],
   "source": [
    "# tabulation of the taxonomy classification only 99, so the too basic classifier, without eukaryotes\n",
    "!qiime metadata tabulate \\\n",
    "  --m-input-file ./data/taxonomy_classification/taxonomy_unite_dynamic_s_all.qza \\\n",
    "  --o-visualization ./data/taxonomy_classification/taxonomy_unite_dynamic_s_all.qzv"
   ]
  },
  {
   "cell_type": "code",
   "execution_count": 7,
   "id": "240cf8c0-3a3f-4620-8ed2-94bd1c653d2e",
   "metadata": {},
   "outputs": [
    {
     "data": {
      "text/html": [
       "<div><img onload=\"(function(div, url){\n",
       "if (typeof require !== 'undefined') {\n",
       "    var baseURL = require.toUrl('').split('/').slice(0, -2).join('/');\n",
       "} else {\n",
       "    var baseURL = JSON.parse(\n",
       "        document.getElementById('jupyter-config-data').innerHTML\n",
       "    ).baseUrl.slice(0, -1);\n",
       "}\n",
       "url = baseURL + url;\n",
       "fetch(url).then(function(res) {\n",
       "    if (res.status === 404) {\n",
       "        div.innerHTML = 'Install QIIME 2 Jupyter extension with:<br />' +\n",
       "                        '<code>jupyter serverextension enable --py qiime2' +\n",
       "                        ' --sys-prefix</code><br />then restart your server.' +\n",
       "                        '<br /><br />(Interactive output not available on ' +\n",
       "                        'static notebook viewer services like nbviewer.)';\n",
       "    } else if (res.status === 409) {\n",
       "        div.innerHTML = 'Visualization no longer in scope. Re-run this cell' +\n",
       "                        ' to see the visualization.';\n",
       "    } else if (res.ok) {\n",
       "        url = res.url;\n",
       "        div.innerHTML = '<iframe src=\\'' + url + '\\' style=\\'' +\n",
       "                        'width: 100%; height: 700px; border: 0;\\'>' +\n",
       "                        '</iframe><hr />Open in a: <a href=\\'' + url + '\\'' +\n",
       "                        ' target=\\'_blank\\'>new window</a>'\n",
       "    } else {\n",
       "        div.innerHTML = 'Something has gone wrong. Check notebook server for' +\n",
       "                        ' errors.';\n",
       "    }\n",
       "});\n",
       "})(this.parentElement, '/qiime2/redirect?location=/tmp/qiime2/jovyan/data/e68bed82-153b-46fb-a979-500f6353058c')\" src=\"data:image/gif;base64,R0lGODlhAQABAIAAAP///wAAACH5BAEAAAAALAAAAAABAAEAAAICRAEAOw==\" /></div>"
      ],
      "text/plain": [
       "<visualization: Visualization uuid: e68bed82-153b-46fb-a979-500f6353058c>"
      ]
     },
     "execution_count": 7,
     "metadata": {},
     "output_type": "execute_result"
    }
   ],
   "source": [
    "Visualization.load('./data/taxonomy_classification/taxonomy_unite_dynamic_s_all.qzv')"
   ]
  },
  {
   "cell_type": "markdown",
   "id": "0b221f11-d754-4abe-9810-48d5feb153ee",
   "metadata": {},
   "source": [
    "#### Create the taxonomy bar plot"
   ]
  },
  {
   "cell_type": "code",
   "execution_count": null,
   "id": "2244a3f2-d15e-4ae6-a0a1-7cfa2a4e2aa3",
   "metadata": {},
   "outputs": [],
   "source": [
    "!qiime taxa barplot \\\n",
    "  --i-table ./data/table.qza \\\n",
    "  --i-taxonomy ./taxonomy_unite_dynamic_s_all.qza \\\n",
    "  --m-metadata-file ./data/fungut_metadata.tsv \\\n",
    "  --o-visualization ./data/taxa-bar-plots.qzv"
   ]
  },
  {
   "cell_type": "code",
   "execution_count": null,
   "id": "41ec7488-211f-4022-853d-40033ce0499f",
   "metadata": {},
   "outputs": [],
   "source": [
    "Visualization.load('./data/taxonomy_classification/taxa-bar-plots.qzv')"
   ]
  },
  {
   "cell_type": "markdown",
   "id": "43dc68ed-8955-44aa-9196-fd472dc92c9a",
   "metadata": {},
   "source": [
    "#### Filtering the feature table to exclude eukaryotes\n",
    "We observed that we have contamination in our samples, so we filtered out those assigned Eukaryota and Unassigned"
   ]
  },
  {
   "cell_type": "code",
   "execution_count": 17,
   "id": "f7a56fdb-013a-474c-bc46-f4d3292cb22c",
   "metadata": {
    "tags": []
   },
   "outputs": [
    {
     "name": "stdout",
     "output_type": "stream",
     "text": [
      "\u001b[32mSaved FeatureTable[Frequency] to: ./data/filtered-feature-table.qza\u001b[0m\n",
      "\u001b[0m"
     ]
    }
   ],
   "source": [
    "!qiime taxa filter-table \\\n",
    "  --i-table ./data/table.qza \\\n",
    "  --i-taxonomy ./taxonomy_unite_dynamic_s_all.qza \\\n",
    "  --p-exclude Eukaryota,Unassigned \\\n",
    "  --o-filtered-table ./data/filtered-feature-table.qza\n"
   ]
  },
  {
   "cell_type": "code",
   "execution_count": 21,
   "id": "4eae8adb-ebfb-4fbf-8eba-4603388c2f6d",
   "metadata": {
    "tags": []
   },
   "outputs": [
    {
     "name": "stdout",
     "output_type": "stream",
     "text": [
      "\u001b[32mSaved Visualization to: ./data/filtered-feature-table_summary.qzv\u001b[0m\n",
      "\u001b[0m"
     ]
    }
   ],
   "source": [
    "!qiime feature-table summarize\\\n",
    "    --i-table ./data/filtered-feature-table.qza \\\n",
    "    --o-visualization ./data/filtered-feature-table_summary.qzv"
   ]
  },
  {
   "cell_type": "code",
   "execution_count": 25,
   "id": "ac1793eb-f102-48eb-9ff0-7b2806f23414",
   "metadata": {
    "tags": []
   },
   "outputs": [
    {
     "data": {
      "text/html": [
       "<div><img onload=\"(function(div, url){\n",
       "if (typeof require !== 'undefined') {\n",
       "    var baseURL = require.toUrl('').split('/').slice(0, -2).join('/');\n",
       "} else {\n",
       "    var baseURL = JSON.parse(\n",
       "        document.getElementById('jupyter-config-data').innerHTML\n",
       "    ).baseUrl.slice(0, -1);\n",
       "}\n",
       "url = baseURL + url;\n",
       "fetch(url).then(function(res) {\n",
       "    if (res.status === 404) {\n",
       "        div.innerHTML = 'Install QIIME 2 Jupyter extension with:<br />' +\n",
       "                        '<code>jupyter serverextension enable --py qiime2' +\n",
       "                        ' --sys-prefix</code><br />then restart your server.' +\n",
       "                        '<br /><br />(Interactive output not available on ' +\n",
       "                        'static notebook viewer services like nbviewer.)';\n",
       "    } else if (res.status === 409) {\n",
       "        div.innerHTML = 'Visualization no longer in scope. Re-run this cell' +\n",
       "                        ' to see the visualization.';\n",
       "    } else if (res.ok) {\n",
       "        url = res.url;\n",
       "        div.innerHTML = '<iframe src=\\'' + url + '\\' style=\\'' +\n",
       "                        'width: 100%; height: 700px; border: 0;\\'>' +\n",
       "                        '</iframe><hr />Open in a: <a href=\\'' + url + '\\'' +\n",
       "                        ' target=\\'_blank\\'>new window</a>'\n",
       "    } else {\n",
       "        div.innerHTML = 'Something has gone wrong. Check notebook server for' +\n",
       "                        ' errors.';\n",
       "    }\n",
       "});\n",
       "})(this.parentElement, '/qiime2/redirect?location=/tmp/qiime2/jovyan/data/e6a080e5-3bd7-4571-9484-81ac91b3d5b1')\" src=\"data:image/gif;base64,R0lGODlhAQABAIAAAP///wAAACH5BAEAAAAALAAAAAABAAEAAAICRAEAOw==\" /></div>"
      ],
      "text/plain": [
       "<visualization: Visualization uuid: e6a080e5-3bd7-4571-9484-81ac91b3d5b1>"
      ]
     },
     "execution_count": 25,
     "metadata": {},
     "output_type": "execute_result"
    }
   ],
   "source": [
    "Visualization.load('./data/filtered-feature-table_summary.qzv')"
   ]
  },
  {
   "cell_type": "markdown",
   "id": "a32fc128-3fcd-432f-ae7a-0c051d5772d9",
   "metadata": {
    "tags": []
   },
   "source": [
    "### Creating a phylogenetic tree\n",
    "\n",
    "#### First we align our sequences"
   ]
  },
  {
   "cell_type": "code",
   "execution_count": null,
   "id": "73b4b271-f0dc-40bb-847a-1dcfa4241e42",
   "metadata": {},
   "outputs": [],
   "source": [
    "! qiime alignment mafft \\\n",
    "    --i-sequences ./data/rep-seqs.qza \\\n",
    "    --o-alignment ./data/aligned-rep-seqs.qza"
   ]
  },
  {
   "cell_type": "markdown",
   "id": "ea273e5e-e509-40d7-a4a9-c719bfe0b9f3",
   "metadata": {},
   "source": [
    "#### Alignment masking"
   ]
  },
  {
   "cell_type": "code",
   "execution_count": null,
   "id": "ec11ef0f-f99a-4aff-9306-277d95fb49ff",
   "metadata": {},
   "outputs": [],
   "source": [
    "! qiime alignment mask \\\n",
    "    --i-alignment ./data/aligned-rep-seqs.qza \\\n",
    "    --o-masked-alignment ./data/masked-aligned-rep-seqs.qza"
   ]
  },
  {
   "cell_type": "markdown",
   "id": "fefe13a5-dddf-4e9a-b898-ada2e7b254ac",
   "metadata": {},
   "source": [
    "#### Tree construction"
   ]
  },
  {
   "cell_type": "code",
   "execution_count": null,
   "id": "4b66ff40-6b35-44f1-aa35-2ed5988b8994",
   "metadata": {},
   "outputs": [],
   "source": [
    "! qiime phylogeny fasttree \\\n",
    "    --i-alignment ./data/masked-aligned-rep-seqs.qza \\\n",
    "    --o-tree ./data/fasttree-tree.qza\n",
    "\n",
    "! qiime phylogeny midpoint-root \\\n",
    "    --i-tree ./data/fast-tree.qza \\\n",
    "    --o-rooted-tree ./data/fast-tree-rooted.qza"
   ]
  },
  {
   "cell_type": "markdown",
   "id": "09036dc0-2940-4a10-8420-6b422ae10e2b",
   "metadata": {},
   "source": [
    "#### Unable to create tree visualization on Jupyter\n",
    "\n",
    "Saddly we weren't able to install the qiime2 plugin empress to create the tree visualization, which is why we ran this step on euler."
   ]
  },
  {
   "cell_type": "code",
   "execution_count": 2,
   "id": "33ea9d42-1884-4db1-91c4-629f6cbe9a1e",
   "metadata": {},
   "outputs": [
    {
     "data": {
      "text/html": [
       "<div><img onload=\"(function(div, url){\n",
       "if (typeof require !== 'undefined') {\n",
       "    var baseURL = require.toUrl('').split('/').slice(0, -2).join('/');\n",
       "} else {\n",
       "    var baseURL = JSON.parse(\n",
       "        document.getElementById('jupyter-config-data').innerHTML\n",
       "    ).baseUrl.slice(0, -1);\n",
       "}\n",
       "url = baseURL + url;\n",
       "fetch(url).then(function(res) {\n",
       "    if (res.status === 404) {\n",
       "        div.innerHTML = 'Install QIIME 2 Jupyter extension with:<br />' +\n",
       "                        '<code>jupyter serverextension enable --py qiime2' +\n",
       "                        ' --sys-prefix</code><br />then restart your server.' +\n",
       "                        '<br /><br />(Interactive output not available on ' +\n",
       "                        'static notebook viewer services like nbviewer.)';\n",
       "    } else if (res.status === 409) {\n",
       "        div.innerHTML = 'Visualization no longer in scope. Re-run this cell' +\n",
       "                        ' to see the visualization.';\n",
       "    } else if (res.ok) {\n",
       "        url = res.url;\n",
       "        div.innerHTML = '<iframe src=\\'' + url + '\\' style=\\'' +\n",
       "                        'width: 100%; height: 700px; border: 0;\\'>' +\n",
       "                        '</iframe><hr />Open in a: <a href=\\'' + url + '\\'' +\n",
       "                        ' target=\\'_blank\\'>new window</a>'\n",
       "    } else {\n",
       "        div.innerHTML = 'Something has gone wrong. Check notebook server for' +\n",
       "                        ' errors.';\n",
       "    }\n",
       "});\n",
       "})(this.parentElement, '/qiime2/redirect?location=/tmp/qiime2/jovyan/data/94c735db-04a5-47d4-a4e0-e9b083539786')\" src=\"data:image/gif;base64,R0lGODlhAQABAIAAAP///wAAACH5BAEAAAAALAAAAAABAAEAAAICRAEAOw==\" /></div>"
      ],
      "text/plain": [
       "<visualization: Visualization uuid: 94c735db-04a5-47d4-a4e0-e9b083539786>"
      ]
     },
     "execution_count": 2,
     "metadata": {},
     "output_type": "execute_result"
    }
   ],
   "source": [
    "Visualization.load('./data/phylogeny/fasttree-tree-rooted.qzv')"
   ]
  },
  {
   "cell_type": "markdown",
   "id": "cfc1bb17-ea97-493c-a2e1-a89b2cefb29e",
   "metadata": {},
   "source": [
    "#### Alpha rarefaction"
   ]
  },
  {
   "cell_type": "code",
   "execution_count": 9,
   "id": "bdb5603c-4f71-4053-aebd-a249d7d1c55b",
   "metadata": {
    "tags": []
   },
   "outputs": [
    {
     "name": "stdout",
     "output_type": "stream",
     "text": [
      "\u001b[32mSaved Visualization to: ./data/alpha-rarefaction.qzv\u001b[0m\n",
      "\u001b[0m"
     ]
    }
   ],
   "source": [
    "!qiime diversity alpha-rarefaction \\\n",
    "  --i-table ./data/filtered-feature-table.qza \\\n",
    "  --i-phylogeny ./data/fasttree-tree-rooted.qza \\\n",
    "  --p-max-depth  30000 \\\n",
    "  --m-metadata-file ./data/fungut_metadata.tsv \\\n",
    "  --o-visualization ./data/alpha-rarefaction.qzv\n"
   ]
  },
  {
   "cell_type": "code",
   "execution_count": 10,
   "id": "97a242cc-97fe-4c9b-85cb-bec081817655",
   "metadata": {
    "tags": []
   },
   "outputs": [
    {
     "data": {
      "text/html": [
       "<div><img onload=\"(function(div, url){\n",
       "if (typeof require !== 'undefined') {\n",
       "    var baseURL = require.toUrl('').split('/').slice(0, -2).join('/');\n",
       "} else {\n",
       "    var baseURL = JSON.parse(\n",
       "        document.getElementById('jupyter-config-data').innerHTML\n",
       "    ).baseUrl.slice(0, -1);\n",
       "}\n",
       "url = baseURL + url;\n",
       "fetch(url).then(function(res) {\n",
       "    if (res.status === 404) {\n",
       "        div.innerHTML = 'Install QIIME 2 Jupyter extension with:<br />' +\n",
       "                        '<code>jupyter serverextension enable --py qiime2' +\n",
       "                        ' --sys-prefix</code><br />then restart your server.' +\n",
       "                        '<br /><br />(Interactive output not available on ' +\n",
       "                        'static notebook viewer services like nbviewer.)';\n",
       "    } else if (res.status === 409) {\n",
       "        div.innerHTML = 'Visualization no longer in scope. Re-run this cell' +\n",
       "                        ' to see the visualization.';\n",
       "    } else if (res.ok) {\n",
       "        url = res.url;\n",
       "        div.innerHTML = '<iframe src=\\'' + url + '\\' style=\\'' +\n",
       "                        'width: 100%; height: 700px; border: 0;\\'>' +\n",
       "                        '</iframe><hr />Open in a: <a href=\\'' + url + '\\'' +\n",
       "                        ' target=\\'_blank\\'>new window</a>'\n",
       "    } else {\n",
       "        div.innerHTML = 'Something has gone wrong. Check notebook server for' +\n",
       "                        ' errors.';\n",
       "    }\n",
       "});\n",
       "})(this.parentElement, '/qiime2/redirect?location=/tmp/qiime2/jovyan/data/739aa812-caf2-40f4-b796-6647c7b8d96d')\" src=\"data:image/gif;base64,R0lGODlhAQABAIAAAP///wAAACH5BAEAAAAALAAAAAABAAEAAAICRAEAOw==\" /></div>"
      ],
      "text/plain": [
       "<visualization: Visualization uuid: 739aa812-caf2-40f4-b796-6647c7b8d96d>"
      ]
     },
     "execution_count": 10,
     "metadata": {},
     "output_type": "execute_result"
    }
   ],
   "source": [
    "Visualization.load('./data/alpha-rarefaction.qzv')"
   ]
  },
  {
   "cell_type": "markdown",
   "id": "8384e8fc-1b75-44ae-aaaf-48a2872b0fc8",
   "metadata": {},
   "source": [
    "#### Compute metrics\n",
    "We chose a sampling depth of 5000, as the shannon metric plateaus shortly before it"
   ]
  },
  {
   "cell_type": "code",
   "execution_count": 11,
   "id": "1c41aad5-0caf-4790-86ac-bdd0e17ea9e8",
   "metadata": {},
   "outputs": [
    {
     "name": "stdout",
     "output_type": "stream",
     "text": [
      "\u001b[32mSaved FeatureTable[Frequency] to: ./data/core-metrics-results/rarefied_table.qza\u001b[0m\n",
      "\u001b[32mSaved SampleData[AlphaDiversity] to: ./data/core-metrics-results/faith_pd_vector.qza\u001b[0m\n",
      "\u001b[32mSaved SampleData[AlphaDiversity] to: ./data/core-metrics-results/observed_features_vector.qza\u001b[0m\n",
      "\u001b[32mSaved SampleData[AlphaDiversity] to: ./data/core-metrics-results/shannon_vector.qza\u001b[0m\n",
      "\u001b[32mSaved SampleData[AlphaDiversity] to: ./data/core-metrics-results/evenness_vector.qza\u001b[0m\n",
      "\u001b[32mSaved DistanceMatrix to: ./data/core-metrics-results/unweighted_unifrac_distance_matrix.qza\u001b[0m\n",
      "\u001b[32mSaved DistanceMatrix to: ./data/core-metrics-results/weighted_unifrac_distance_matrix.qza\u001b[0m\n",
      "\u001b[32mSaved DistanceMatrix to: ./data/core-metrics-results/jaccard_distance_matrix.qza\u001b[0m\n",
      "\u001b[32mSaved DistanceMatrix to: ./data/core-metrics-results/bray_curtis_distance_matrix.qza\u001b[0m\n",
      "\u001b[32mSaved PCoAResults to: ./data/core-metrics-results/unweighted_unifrac_pcoa_results.qza\u001b[0m\n",
      "\u001b[32mSaved PCoAResults to: ./data/core-metrics-results/weighted_unifrac_pcoa_results.qza\u001b[0m\n",
      "\u001b[32mSaved PCoAResults to: ./data/core-metrics-results/jaccard_pcoa_results.qza\u001b[0m\n",
      "\u001b[32mSaved PCoAResults to: ./data/core-metrics-results/bray_curtis_pcoa_results.qza\u001b[0m\n",
      "\u001b[32mSaved Visualization to: ./data/core-metrics-results/unweighted_unifrac_emperor.qzv\u001b[0m\n",
      "\u001b[32mSaved Visualization to: ./data/core-metrics-results/weighted_unifrac_emperor.qzv\u001b[0m\n",
      "\u001b[32mSaved Visualization to: ./data/core-metrics-results/jaccard_emperor.qzv\u001b[0m\n",
      "\u001b[32mSaved Visualization to: ./data/core-metrics-results/bray_curtis_emperor.qzv\u001b[0m\n",
      "\u001b[0m"
     ]
    }
   ],
   "source": [
    "! qiime diversity core-metrics-phylogenetic \\\n",
    "  --i-table ./data/filtered-feature-table.qza \\\n",
    "  --i-phylogeny ./data/fasttree-tree-rooted.qza \\\n",
    "  --m-metadata-file ./data/fungut_metadata.tsv \\\n",
    "  --p-sampling-depth 5000 \\\n",
    "  --output-dir ./data/core-metrics-results"
   ]
  },
  {
   "cell_type": "markdown",
   "id": "e00357ec-7a7e-40a8-b3ae-d25a80b78c4a",
   "metadata": {},
   "source": [
    "#### Check out the core metrics results visualizations"
   ]
  },
  {
   "cell_type": "code",
   "execution_count": 30,
   "id": "bf71a394-2441-4b19-973a-9cd40d525f9a",
   "metadata": {
    "tags": []
   },
   "outputs": [
    {
     "ename": "FileNotFoundError",
     "evalue": "[Errno 2] No such file or directory",
     "output_type": "error",
     "traceback": [
      "\u001b[0;31m---------------------------------------------------------------------------\u001b[0m",
      "\u001b[0;31mFileNotFoundError\u001b[0m                         Traceback (most recent call last)",
      "Cell \u001b[0;32mIn[30], line 1\u001b[0m\n\u001b[0;32m----> 1\u001b[0m sys\u001b[38;5;241m.\u001b[39mpath\u001b[38;5;241m.\u001b[39mappend(os\u001b[38;5;241m.\u001b[39mpath\u001b[38;5;241m.\u001b[39mjoin(\u001b[43mos\u001b[49m\u001b[38;5;241;43m.\u001b[39;49m\u001b[43mgetcwd\u001b[49m\u001b[43m(\u001b[49m\u001b[43m)\u001b[49m, \u001b[38;5;124m'\u001b[39m\u001b[38;5;124mscripts\u001b[39m\u001b[38;5;124m'\u001b[39m))\n\u001b[1;32m      2\u001b[0m \u001b[38;5;28;01mfrom\u001b[39;00m \u001b[38;5;21;01mqzv_selector\u001b[39;00m \u001b[38;5;28;01mimport\u001b[39;00m display_qzv_selector\n\u001b[1;32m      3\u001b[0m display_qzv_selector(\u001b[38;5;124m'\u001b[39m\u001b[38;5;124m./data/core-metrics-results\u001b[39m\u001b[38;5;124m'\u001b[39m)\n",
      "\u001b[0;31mFileNotFoundError\u001b[0m: [Errno 2] No such file or directory"
     ]
    }
   ],
   "source": [
    "sys.path.append(os.path.join(os.getcwd(), 'scripts'))\n",
    "from qzv_selector import display_qzv_selector\n",
    "display_qzv_selector('./data/core-metrics-results')"
   ]
  },
  {
   "cell_type": "code",
   "execution_count": 20,
   "id": "9bda7c02-15a8-4018-8a98-9413f9e4daf2",
   "metadata": {
    "tags": []
   },
   "outputs": [
    {
     "name": "stderr",
     "output_type": "stream",
     "text": [
      "/opt/conda/lib/python3.9/site-packages/q2_types/sample_data/_transformer.py:27: FutureWarning: errors='ignore' is deprecated and will raise in a future version. Use to_numeric without passing `errors` and catch exceptions explicitly instead\n",
      "  df[cols] = df[cols].apply(pd.to_numeric, errors='ignore')\n"
     ]
    }
   ],
   "source": [
    "types = 'country'\n",
    "\n",
    "div = q2.Artifact.load('./data/core-metrics-results/faith_pd_vector.qza').view(pd.Series)\n",
    "md = pd.read_csv('./data/fungut_metadata.tsv', sep='\\t', index_col=0)[f'{types}_sample']\n",
    "# Concatenate the series that we provided\n",
    "dd = pd.concat([div, md], axis=1, join='inner')"
   ]
  },
  {
   "cell_type": "code",
   "execution_count": 21,
   "id": "16d393f0-cdcd-4eaf-9fab-70066516ee05",
   "metadata": {
    "tags": []
   },
   "outputs": [
    {
     "data": {
      "text/html": [
       "<div>\n",
       "<style scoped>\n",
       "    .dataframe tbody tr th:only-of-type {\n",
       "        vertical-align: middle;\n",
       "    }\n",
       "\n",
       "    .dataframe tbody tr th {\n",
       "        vertical-align: top;\n",
       "    }\n",
       "\n",
       "    .dataframe thead th {\n",
       "        text-align: right;\n",
       "    }\n",
       "</style>\n",
       "<table border=\"1\" class=\"dataframe\">\n",
       "  <thead>\n",
       "    <tr style=\"text-align: right;\">\n",
       "      <th></th>\n",
       "      <th>faith_pd</th>\n",
       "      <th>country_sample</th>\n",
       "    </tr>\n",
       "  </thead>\n",
       "  <tbody>\n",
       "    <tr>\n",
       "      <th>ERR5327198</th>\n",
       "      <td>8.751153</td>\n",
       "      <td>USA</td>\n",
       "    </tr>\n",
       "    <tr>\n",
       "      <th>ERR5327199</th>\n",
       "      <td>5.565908</td>\n",
       "      <td>USA</td>\n",
       "    </tr>\n",
       "  </tbody>\n",
       "</table>\n",
       "</div>"
      ],
      "text/plain": [
       "            faith_pd country_sample\n",
       "ERR5327198  8.751153            USA\n",
       "ERR5327199  5.565908            USA"
      ]
     },
     "execution_count": 21,
     "metadata": {},
     "output_type": "execute_result"
    }
   ],
   "source": [
    "dd[0:2][:]"
   ]
  },
  {
   "cell_type": "code",
   "execution_count": 22,
   "id": "33fd3f8d-9de9-409c-a5e8-2601a816fa1d",
   "metadata": {
    "tags": []
   },
   "outputs": [
    {
     "data": {
      "image/png": "[encoded data removed]",
      "text/plain": [
       "<Figure size 640x480 with 1 Axes>"
      ]
     },
     "metadata": {},
     "output_type": "display_data"
    }
   ],
   "source": [
    "# make a boxplot with Faith PD on the y-axis and the selected 'type' on the x-axis (hint: look at the \"by\" parameter)\n",
    "sns.violinplot(x=f'{types}_sample', y = dd.columns[0], data = dd)\n",
    "plt.xlabel(f'{types}_sample')\n",
    "plt.xticks(rotation = 80)\n",
    "plt.ylabel('Faith PD')\n",
    "plt.title(f'Faith PD Boxplot by {types}_sample')\n",
    "plt.show()"
   ]
  },
  {
   "cell_type": "code",
   "execution_count": null,
   "id": "a2f75119-2ebe-4874-a66f-0179797b7d03",
   "metadata": {},
   "outputs": [],
   "source": []
  }
 ],
 "metadata": {
  "kernelspec": {
   "display_name": "QIIME 2",
   "language": "python",
   "name": "python3"
  },
  "language_info": {
   "codemirror_mode": {
    "name": "ipython",
    "version": 3
   },
   "file_extension": ".py",
   "mimetype": "text/x-python",
   "name": "python",
   "nbconvert_exporter": "python",
   "pygments_lexer": "ipython3",
   "version": "3.9.19"
  }
 },
 "nbformat": 4,
 "nbformat_minor": 5
}
