{
 "cells": [
  {
   "cell_type": "markdown",
   "id": "fa44c477-b86e-4616-a9bc-7a34d8a55584",
   "metadata": {},
   "source": [
    "# Primary analyses of our sequences\n",
    "### Load modules"
   ]
  },
  {
   "cell_type": "code",
   "execution_count": 1,
   "id": "e8890bc1-6fc8-4653-b3c8-0201e71f1f75",
   "metadata": {
    "tags": []
   },
   "outputs": [],
   "source": [
    "import os\n",
    "import sys"
   ]
  },
  {
   "cell_type": "code",
   "execution_count": null,
   "id": "23159833-469a-4792-8fb5-d6e28ef73b6b",
   "metadata": {
    "tags": []
   },
   "outputs": [],
   "source": [
    "!pip install geopandas"
   ]
  },
  {
   "cell_type": "code",
   "execution_count": null,
   "id": "eaba0ecb-5e7a-45f2-9461-a33d06056109",
   "metadata": {
    "tags": []
   },
   "outputs": [],
   "source": [
    "pip install cartopy"
   ]
  },
  {
   "cell_type": "code",
   "execution_count": 2,
   "id": "babb3bf0-a258-4eec-8547-713c3534550e",
   "metadata": {
    "tags": []
   },
   "outputs": [],
   "source": [
    "import pandas as pd\n",
    "import qiime2 as q2\n",
    "from qiime2 import Visualization\n",
    "import matplotlib.pyplot as plt\n",
    "import seaborn as sns\n",
    "import geopandas as gpd\n",
    "import cartopy.crs as ccrs\n",
    "%matplotlib inline\n",
    "\n",
    "# Define the data directory\n",
    "data_dir = './data'"
   ]
  },
  {
   "cell_type": "markdown",
   "id": "3adba178-bbb8-4137-b07d-7b2453b73e96",
   "metadata": {
    "tags": []
   },
   "source": [
    "### Checking out the metadata"
   ]
  },
  {
   "cell_type": "code",
   "execution_count": 3,
   "id": "7b42f909-d75d-4150-9701-8bff72ed0e94",
   "metadata": {
    "tags": []
   },
   "outputs": [
    {
     "name": "stdout",
     "output_type": "stream",
     "text": [
      "\u001b[32mSaved Visualization to: ./data/metadata/fungut_metadata.qzv\u001b[0m\n",
      "\u001b[0m"
     ]
    }
   ],
   "source": [
    "!qiime metadata tabulate \\\n",
    "  --m-input-file ./data/metadata/fungut_metadata.tsv \\\n",
    "  --o-visualization ./data/metadata/fungut_metadata.qzv"
   ]
  },
  {
   "cell_type": "code",
   "execution_count": null,
   "id": "8c540ff5-9515-4da7-bc93-cd84714289d5",
   "metadata": {
    "tags": []
   },
   "outputs": [],
   "source": [
    "Visualization.load('./data/metadata/fungut_metadata.qzv')"
   ]
  },
  {
   "cell_type": "markdown",
   "id": "ae3eafcc-8323-42f0-a333-7015cf80cbaa",
   "metadata": {},
   "source": [
    "# Preprocessing the metadata"
   ]
  },
  {
   "cell_type": "markdown",
   "id": "0819a209-74aa-4739-99e7-9037e5f7527c",
   "metadata": {},
   "source": [
    "### Removing rows with NaN for Diseases"
   ]
  },
  {
   "cell_type": "code",
   "execution_count": 5,
   "id": "71a6f1d3-e721-4059-bb24-b6a8044a5c83",
   "metadata": {
    "tags": []
   },
   "outputs": [],
   "source": [
    "#read metadata\n",
    "metadata = pd.read_csv(\"./data/metadata/fungut_metadata.tsv\", sep=\"\\t\")"
   ]
  },
  {
   "cell_type": "code",
   "execution_count": 6,
   "id": "0f619153-9f07-43db-a0c7-e933877f24f3",
   "metadata": {
    "tags": []
   },
   "outputs": [
    {
     "name": "stdout",
     "output_type": "stream",
     "text": [
      "4 samples have both response variables not provided\n",
      "4 samples have been removed\n"
     ]
    }
   ],
   "source": [
    "#count the rows that have column \"ibd_sample\" and \"gluten_sample\" = Not provided\n",
    "filtered_rows = metadata[(metadata['ibd_sample'] == \"Not provided\") & (metadata['gluten_sample'] == \"Not provided\")]\n",
    "print(len(filtered_rows), \"samples have both response variables not provided\")\n",
    "\n",
    "#filter rows that have column \"ibd_sample\" and \"gluten_sample\" = Not provided\n",
    "metadata = metadata[~((metadata['ibd_sample'] == \"Not provided\") & (metadata['gluten_sample'] == \"Not provided\"))]\n",
    "metadata.describe()\n",
    "print(len(filtered_rows), \"samples have been removed\")"
   ]
  },
  {
   "cell_type": "markdown",
   "id": "65146361-6b08-416d-8f42-439ed289b719",
   "metadata": {},
   "source": [
    "### How many \"Not Provided\" do we have per sample?"
   ]
  },
  {
   "cell_type": "code",
   "execution_count": 7,
   "id": "55c86bc5-2653-4206-83b8-5ad11f3e5faf",
   "metadata": {
    "tags": []
   },
   "outputs": [
    {
     "name": "stdout",
     "output_type": "stream",
     "text": [
      "62 samples have not provided 1 columns\n",
      "10 samples have not provided 2 columns\n",
      "5 samples have not provided 3 columns\n",
      "2 samples have not provided 4 columns\n",
      "1 samples have not provided 5 columns\n"
     ]
    }
   ],
   "source": [
    "# count the number of rows that have more than x columns not provided\n",
    "for x in range(1, 6):\n",
    "    count = metadata[metadata.eq(\"Not provided\").sum(axis=1) >= x].shape[0]\n",
    "    print(count, \"samples have not provided\", x, \"columns\")"
   ]
  },
  {
   "cell_type": "markdown",
   "id": "d3386e21-98c4-4b57-ad74-11bdd3061821",
   "metadata": {},
   "source": [
    "#### We do not filter out any of these samples. the 5 missing columns in one sample is fine."
   ]
  },
  {
   "cell_type": "markdown",
   "id": "051f786d-c109-4251-b14a-1c5cc0f9a3bc",
   "metadata": {},
   "source": [
    "### Create new features \"Symptoms vs No-Symptoms\""
   ]
  },
  {
   "cell_type": "code",
   "execution_count": 8,
   "id": "229fa5da-d9d6-42bb-9540-d5f12684b8fd",
   "metadata": {
    "tags": []
   },
   "outputs": [
    {
     "data": {
      "text/plain": [
       "array(['No',\n",
       "       'I was diagnosed with gluten allergy (anti-gluten IgG), but not celiac disease',\n",
       "       'I do not eat gluten because it makes me feel bad',\n",
       "       'I was diagnosed with celiac disease', 'Not provided'],\n",
       "      dtype=object)"
      ]
     },
     "execution_count": 8,
     "metadata": {},
     "output_type": "execute_result"
    }
   ],
   "source": [
    "metadata['gluten_sample'].unique()"
   ]
  },
  {
   "cell_type": "code",
   "execution_count": 9,
   "id": "db238787-c83a-4948-a264-4b7bd739a01d",
   "metadata": {
    "tags": []
   },
   "outputs": [
    {
     "data": {
      "text/plain": [
       "array(['I do not have this condition', 'Self-diagnosed',\n",
       "       'Diagnosed by a medical professional (doctor, physician assistant)',\n",
       "       'Not provided'], dtype=object)"
      ]
     },
     "execution_count": 9,
     "metadata": {},
     "output_type": "execute_result"
    }
   ],
   "source": [
    "metadata['ibd_sample'].unique()"
   ]
  },
  {
   "cell_type": "markdown",
   "id": "b9d3c3c2-f2c8-4710-944a-b80f6588c449",
   "metadata": {},
   "source": [
    "We have 2 columns where the people from our data set state wheter they are diagnosed with Inflammatory Bowel Disease and how they react to gluten . Because the answers are not that easy to compare against each other, we create a new column which summarizes whether a person shows symptoms or not (2 separate, one for gluten and one for IBD). This way we have a binary variable that creates 2 groups which is easier to compare. We also have the problem, that most of the people have answer \"No\" and the other groups are much smaller. When we group all people together that show symptoms we have one bigger group instead of 3 smaller ones."
   ]
  },
  {
   "cell_type": "code",
   "execution_count": 10,
   "id": "30cf1aa8-0f94-4512-9e3e-bbf1d1a841be",
   "metadata": {
    "tags": []
   },
   "outputs": [],
   "source": [
    "# Define the categories to summarize as \"symptoms\"\n",
    "no_symptoms = ['I do not have this condition']  \n",
    "\n",
    "# Create a new column with a binary classification\n",
    "metadata['ibd_symptoms'] = metadata['ibd_sample'].apply(\n",
    "    lambda x: 'Not provided' if x == 'Not provided' else \n",
    "              ('no_symptoms' if x in no_symptoms else 'symptoms')\n",
    ")"
   ]
  },
  {
   "cell_type": "code",
   "execution_count": 11,
   "id": "6d92be69-b96d-472e-adcf-b8813eb476f1",
   "metadata": {
    "tags": []
   },
   "outputs": [],
   "source": [
    "# Define the categories to summarize as \"no_symptoms\"\n",
    "no_symptoms = ['No']  \n",
    "\n",
    "# Create a new column with a binary classification\n",
    "metadata['gluten_symptoms'] = metadata['gluten_sample'].apply(\n",
    "    lambda x: 'Not provided' if x == 'Not provided' else \n",
    "              ('no_symptoms' if x in no_symptoms else 'symptoms')\n",
    ")"
   ]
  },
  {
   "cell_type": "markdown",
   "id": "3bc8c1d9-905f-4a89-9626-6a91401727e9",
   "metadata": {},
   "source": [
    "### Add new feature \"rural_urban\"\n",
    "Within the metadata we have for each sample the longitude and lattidude. From this we can get the  location where a person lives (roughly). We want to distinguish between rural areas and urban areas. Therefore we classify every location from a sample whether it is rural or urban with help of the packages 'geopandas' and 'carotpy'. "
   ]
  },
  {
   "cell_type": "code",
   "execution_count": 12,
   "id": "40c8cc2f-4a23-4516-ad08-fbff2fa1710d",
   "metadata": {
    "tags": []
   },
   "outputs": [],
   "source": [
    "# Create a boolean mask for rows with valid longitude and latitude values\n",
    "valid_coords = (metadata['longitude_sample'] != \"Not provided\") & (metadata['latitude_sample'] != \"Not provided\")\n",
    "\n",
    "# Initialize the 'is_urban' column with \"Not provided\"\n",
    "metadata['is_urban'] = \"Not provided\"\n",
    "\n",
    "# Process only rows with valid longitude and latitude\n",
    "valid_metadata = metadata[valid_coords]\n",
    "\n",
    "# Convert valid latitude and longitude columns to a GeoDataFrame\n",
    "gdf = gpd.GeoDataFrame(valid_metadata, \n",
    "                       geometry=gpd.points_from_xy(valid_metadata['longitude_sample'].astype(float), \n",
    "                                                   valid_metadata['latitude_sample'].astype(float)), \n",
    "                       crs=\"EPSG:4326\")\n",
    "\n",
    "# Load the shapefile for urban areas\n",
    "urban_areas = gpd.read_file('./data/urban_areas/ne_10m_urban_areas.shp')\n",
    "\n",
    "# Perform the spatial join for valid rows\n",
    "gdf['is_urban'] = gpd.sjoin(gdf, urban_areas, predicate='within', how='left').index_right.notnull()\n",
    "\n",
    "# Update the 'is_urban' column in the original metadata DataFrame\n",
    "metadata.loc[valid_coords, 'is_urban'] = gdf['is_urban'].astype(bool)"
   ]
  },
  {
   "cell_type": "markdown",
   "id": "2107e634-8532-43fb-b89d-759ed104fabd",
   "metadata": {},
   "source": [
    "### Save processed metadata as tsv file"
   ]
  },
  {
   "cell_type": "code",
   "execution_count": 13,
   "id": "2bc497c3-8aa2-4685-a1be-8e553c8a8549",
   "metadata": {
    "tags": []
   },
   "outputs": [],
   "source": [
    "metadata.to_csv('./data/metadata/fungut_metadata_processed.tsv', sep='\\t', index=False)"
   ]
  },
  {
   "cell_type": "code",
   "execution_count": null,
   "id": "a2f75119-2ebe-4874-a66f-0179797b7d03",
   "metadata": {},
   "outputs": [],
   "source": []
  }
 ],
 "metadata": {
  "kernelspec": {
   "display_name": "QIIME 2",
   "language": "python",
   "name": "python3"
  },
  "language_info": {
   "codemirror_mode": {
    "name": "ipython",
    "version": 3
   },
   "file_extension": ".py",
   "mimetype": "text/x-python",
   "name": "python",
   "nbconvert_exporter": "python",
   "pygments_lexer": "ipython3",
   "version": "3.9.19"
  }
 },
 "nbformat": 4,
 "nbformat_minor": 5
}
