{
 "cells": [
  {
   "cell_type": "markdown",
   "id": "9a0aaf49-b964-42f3-9066-478382be005b",
   "metadata": {},
   "source": [
    "# Phylogenetic Tree"
   ]
  },
  {
   "cell_type": "code",
   "execution_count": 1,
   "id": "fda19716-9055-44da-8a3f-754a0711ec66",
   "metadata": {
    "tags": []
   },
   "outputs": [],
   "source": [
    "import os # version: 3.9.19\n",
    "import sys # version: 3.9.19\n",
    "import pandas as pd # version: 2.2.2\n",
    "import qiime2 as q2 # version: 2024.5.0\n",
    "from qiime2 import Visualization\n",
    "import matplotlib.pyplot as plt # version: 3.8.4\n",
    "import seaborn as sns # version: 0.12.2\n",
    "%matplotlib inline\n",
    "\n",
    "# Define the data directory\n",
    "data_dir = '/data'"
   ]
  },
  {
   "cell_type": "markdown",
   "id": "8b08a613-5ed3-4c1d-a570-f7b52ee2685d",
   "metadata": {
    "tags": []
   },
   "source": [
    "## Creating a phylogenetic tree\n",
    "\n",
    "#### First we align our sequences"
   ]
  },
  {
   "cell_type": "code",
   "execution_count": 3,
   "id": "c42fc4c2-eda7-4a0f-8b4a-c01c132bbb37",
   "metadata": {
    "tags": []
   },
   "outputs": [
    {
     "name": "stdout",
     "output_type": "stream",
     "text": [
      "\u001b[32mSaved FeatureData[AlignedSequence] to: ./data/phylogeny/aligned-rep-seqs.qza\u001b[0m\n",
      "\u001b[0m"
     ]
    }
   ],
   "source": [
    "! qiime alignment mafft \\\n",
    "    --i-sequences ./data/feature_tables_dada/rep-seqs.qza \\\n",
    "    --o-alignment ./data/phylogeny/aligned-rep-seqs.qza"
   ]
  },
  {
   "cell_type": "markdown",
   "id": "e4a2731a-2b3a-4ac1-b2ca-e2f96b296660",
   "metadata": {},
   "source": [
    "#### Alignment masking"
   ]
  },
  {
   "cell_type": "code",
   "execution_count": 4,
   "id": "0076ec5e-4040-40bd-bbdd-9c5204e7817d",
   "metadata": {
    "tags": []
   },
   "outputs": [
    {
     "name": "stdout",
     "output_type": "stream",
     "text": [
      "\u001b[32mSaved FeatureData[AlignedSequence] to: ./data/phylogeny/masked-aligned-rep-seqs.qza\u001b[0m\n",
      "\u001b[0m"
     ]
    }
   ],
   "source": [
    "! qiime alignment mask \\\n",
    "    --i-alignment ./data/phylogeny/aligned-rep-seqs.qza \\\n",
    "    --o-masked-alignment ./data/phylogeny/masked-aligned-rep-seqs.qza"
   ]
  },
  {
   "cell_type": "markdown",
   "id": "1370ac9d-289d-4779-a1ef-19a2394358bb",
   "metadata": {},
   "source": [
    "#### Tree construction"
   ]
  },
  {
   "cell_type": "code",
   "execution_count": 5,
   "id": "480fbd2c-5f4a-4ee7-a530-49309dd53794",
   "metadata": {
    "tags": []
   },
   "outputs": [
    {
     "name": "stdout",
     "output_type": "stream",
     "text": [
      "\u001b[32mSaved Phylogeny[Unrooted] to: ./data/phylogeny/fast-tree.qza\u001b[0m\n",
      "\u001b[0m\u001b[32mSaved Phylogeny[Rooted] to: ./data/phylogeny/fast-tree-rooted.qza\u001b[0m\n",
      "\u001b[0m"
     ]
    }
   ],
   "source": [
    "! qiime phylogeny fasttree \\\n",
    "    --i-alignment ./data/phylogeny/masked-aligned-rep-seqs.qza \\\n",
    "    --o-tree ./data/phylogeny/fast-tree.qza\n",
    "\n",
    "! qiime phylogeny midpoint-root \\\n",
    "    --i-tree ./data/phylogeny/fast-tree.qza \\\n",
    "    --o-rooted-tree ./data/phylogeny/fast-tree-rooted.qza"
   ]
  },
  {
   "cell_type": "markdown",
   "id": "92c57d58-b49b-44ab-a9e2-2836ebf9c962",
   "metadata": {},
   "source": [
    "#### Unable to create tree visualization on Jupyter\n",
    "\n",
    "Sadly we weren't able to install the qiime2 plugin empress to create the tree visualization, which is why we ran this step on `Euler`.\n",
    "The bash file we executed on Euler can be found in `./scripts/tree_visualization.sh`."
   ]
  },
  {
   "cell_type": "code",
   "execution_count": 2,
   "id": "fbbe4b5f-88d8-4124-9451-87c18f78a0e0",
   "metadata": {
    "tags": []
   },
   "outputs": [
    {
     "data": {
      "text/html": [
       "<div><img onload=\"(function(div, url){\n",
       "if (typeof require !== 'undefined') {\n",
       "    var baseURL = require.toUrl('').split('/').slice(0, -2).join('/');\n",
       "} else {\n",
       "    var baseURL = JSON.parse(\n",
       "        document.getElementById('jupyter-config-data').innerHTML\n",
       "    ).baseUrl.slice(0, -1);\n",
       "}\n",
       "url = baseURL + url;\n",
       "fetch(url).then(function(res) {\n",
       "    if (res.status === 404) {\n",
       "        div.innerHTML = 'Install QIIME 2 Jupyter extension with:<br />' +\n",
       "                        '<code>jupyter serverextension enable --py qiime2' +\n",
       "                        ' --sys-prefix</code><br />then restart your server.' +\n",
       "                        '<br /><br />(Interactive output not available on ' +\n",
       "                        'static notebook viewer services like nbviewer.)';\n",
       "    } else if (res.status === 409) {\n",
       "        div.innerHTML = 'Visualization no longer in scope. Re-run this cell' +\n",
       "                        ' to see the visualization.';\n",
       "    } else if (res.ok) {\n",
       "        url = res.url;\n",
       "        div.innerHTML = '<iframe src=\\'' + url + '\\' style=\\'' +\n",
       "                        'width: 100%; height: 700px; border: 0;\\'>' +\n",
       "                        '</iframe><hr />Open in a: <a href=\\'' + url + '\\'' +\n",
       "                        ' target=\\'_blank\\'>new window</a>'\n",
       "    } else {\n",
       "        div.innerHTML = 'Something has gone wrong. Check notebook server for' +\n",
       "                        ' errors.';\n",
       "    }\n",
       "});\n",
       "})(this.parentElement, '/qiime2/redirect?location=/tmp/qiime2/jovyan/data/65627d58-5d93-45f6-b058-165ddd931101')\" src=\"data:image/gif;base64,R0lGODlhAQABAIAAAP///wAAACH5BAEAAAAALAAAAAABAAEAAAICRAEAOw==\" /></div>"
      ],
      "text/plain": [
       "<visualization: Visualization uuid: 65627d58-5d93-45f6-b058-165ddd931101>"
      ]
     },
     "execution_count": 2,
     "metadata": {},
     "output_type": "execute_result"
    }
   ],
   "source": [
    "Visualization.load('./data/phylogeny/fast-tree-rooted.qzv')"
   ]
  },
  {
   "cell_type": "code",
   "execution_count": null,
   "id": "597b473a-b79b-4f81-8ed0-8ebc8e2bc437",
   "metadata": {},
   "outputs": [],
   "source": []
  }
 ],
 "metadata": {
  "kernelspec": {
   "display_name": "QIIME 2",
   "language": "python",
   "name": "python3"
  },
  "language_info": {
   "codemirror_mode": {
    "name": "ipython",
    "version": 3
   },
   "file_extension": ".py",
   "mimetype": "text/x-python",
   "name": "python",
   "nbconvert_exporter": "python",
   "pygments_lexer": "ipython3",
   "version": "3.9.19"
  }
 },
 "nbformat": 4,
 "nbformat_minor": 5
}
