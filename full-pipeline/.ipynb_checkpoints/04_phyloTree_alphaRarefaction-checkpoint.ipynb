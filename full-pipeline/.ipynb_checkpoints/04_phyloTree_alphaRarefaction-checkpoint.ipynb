{
 "cells": [
  {
   "cell_type": "markdown",
   "id": "fa44c477-b86e-4616-a9bc-7a34d8a55584",
   "metadata": {},
   "source": [
    "# Primary analyses of our sequences"
   ]
  },
  {
   "cell_type": "code",
   "execution_count": 5,
   "id": "babb3bf0-a258-4eec-8547-713c3534550e",
   "metadata": {
    "tags": []
   },
   "outputs": [],
   "source": [
    "import os\n",
    "import sys\n",
    "import pandas as pd\n",
    "import qiime2 as q2\n",
    "from qiime2 import Visualization\n",
    "import matplotlib.pyplot as plt\n",
    "import seaborn as sns\n",
    "%matplotlib inline\n",
    "\n",
    "# Define the data directory\n",
    "data_dir = '/data'"
   ]
  },
  {
   "cell_type": "markdown",
   "id": "3adba178-bbb8-4137-b07d-7b2453b73e96",
   "metadata": {
    "tags": []
   },
   "source": [
    "### Checking out the metadata (no irgendwo platziere)"
   ]
  },
  {
   "cell_type": "code",
   "execution_count": 4,
   "id": "7b42f909-d75d-4150-9701-8bff72ed0e94",
   "metadata": {
    "tags": []
   },
   "outputs": [
    {
     "name": "stdout",
     "output_type": "stream",
     "text": [
      "\u001b[32mSaved Visualization to: ./data/metadata/fungut_metadata.qzv\u001b[0m\n",
      "\u001b[0m"
     ]
    }
   ],
   "source": [
    "!qiime metadata tabulate \\\n",
    "  --m-input-file ./data/metadata/fungut_metadata.tsv \\\n",
    "  --o-visualization ./data/metadata/fungut_metadata.qzv"
   ]
  },
  {
   "cell_type": "code",
   "execution_count": 2,
   "id": "8c540ff5-9515-4da7-bc93-cd84714289d5",
   "metadata": {
    "tags": []
   },
   "outputs": [
    {
     "data": {
      "text/html": [
       "<div><img onload=\"(function(div, url){\n",
       "if (typeof require !== 'undefined') {\n",
       "    var baseURL = require.toUrl('').split('/').slice(0, -2).join('/');\n",
       "} else {\n",
       "    var baseURL = JSON.parse(\n",
       "        document.getElementById('jupyter-config-data').innerHTML\n",
       "    ).baseUrl.slice(0, -1);\n",
       "}\n",
       "url = baseURL + url;\n",
       "fetch(url).then(function(res) {\n",
       "    if (res.status === 404) {\n",
       "        div.innerHTML = 'Install QIIME 2 Jupyter extension with:<br />' +\n",
       "                        '<code>jupyter serverextension enable --py qiime2' +\n",
       "                        ' --sys-prefix</code><br />then restart your server.' +\n",
       "                        '<br /><br />(Interactive output not available on ' +\n",
       "                        'static notebook viewer services like nbviewer.)';\n",
       "    } else if (res.status === 409) {\n",
       "        div.innerHTML = 'Visualization no longer in scope. Re-run this cell' +\n",
       "                        ' to see the visualization.';\n",
       "    } else if (res.ok) {\n",
       "        url = res.url;\n",
       "        div.innerHTML = '<iframe src=\\'' + url + '\\' style=\\'' +\n",
       "                        'width: 100%; height: 700px; border: 0;\\'>' +\n",
       "                        '</iframe><hr />Open in a: <a href=\\'' + url + '\\'' +\n",
       "                        ' target=\\'_blank\\'>new window</a>'\n",
       "    } else {\n",
       "        div.innerHTML = 'Something has gone wrong. Check notebook server for' +\n",
       "                        ' errors.';\n",
       "    }\n",
       "});\n",
       "})(this.parentElement, '/qiime2/redirect?location=/tmp/qiime2/jovyan/data/21fb9604-efe8-4f7d-8853-a659d4d1095d')\" src=\"data:image/gif;base64,R0lGODlhAQABAIAAAP///wAAACH5BAEAAAAALAAAAAABAAEAAAICRAEAOw==\" /></div>"
      ],
      "text/plain": [
       "<visualization: Visualization uuid: 21fb9604-efe8-4f7d-8853-a659d4d1095d>"
      ]
     },
     "execution_count": 2,
     "metadata": {},
     "output_type": "execute_result"
    }
   ],
   "source": [
    "Visualization.load('./data/metadata/fungut_metadata.qzv')"
   ]
  },
  {
   "cell_type": "markdown",
   "id": "a32fc128-3fcd-432f-ae7a-0c051d5772d9",
   "metadata": {
    "tags": []
   },
   "source": [
    "### Creating a phylogenetic tree\n",
    "\n",
    "#### First we align our sequences"
   ]
  },
  {
   "cell_type": "code",
   "execution_count": 33,
   "id": "73b4b271-f0dc-40bb-847a-1dcfa4241e42",
   "metadata": {
    "tags": []
   },
   "outputs": [
    {
     "name": "stdout",
     "output_type": "stream",
     "text": [
      "\u001b[32mSaved FeatureData[AlignedSequence] to: ./data/aligned-rep-seqs.qza\u001b[0m\n",
      "\u001b[0m"
     ]
    }
   ],
   "source": [
    "! qiime alignment mafft \\\n",
    "    --i-sequences ./data/rep-seqs.qza \\\n",
    "    --o-alignment ./data/aligned-rep-seqs.qza"
   ]
  },
  {
   "cell_type": "markdown",
   "id": "ea273e5e-e509-40d7-a4a9-c719bfe0b9f3",
   "metadata": {},
   "source": [
    "#### Alignment masking"
   ]
  },
  {
   "cell_type": "code",
   "execution_count": 34,
   "id": "ec11ef0f-f99a-4aff-9306-277d95fb49ff",
   "metadata": {
    "tags": []
   },
   "outputs": [
    {
     "name": "stdout",
     "output_type": "stream",
     "text": [
      "\u001b[32mSaved FeatureData[AlignedSequence] to: ./data/masked-aligned-rep-seqs.qza\u001b[0m\n",
      "\u001b[0m"
     ]
    }
   ],
   "source": [
    "! qiime alignment mask \\\n",
    "    --i-alignment ./data/aligned-rep-seqs.qza \\\n",
    "    --o-masked-alignment ./data/masked-aligned-rep-seqs.qza"
   ]
  },
  {
   "cell_type": "markdown",
   "id": "fefe13a5-dddf-4e9a-b898-ada2e7b254ac",
   "metadata": {},
   "source": [
    "#### Tree construction"
   ]
  },
  {
   "cell_type": "code",
   "execution_count": 35,
   "id": "4b66ff40-6b35-44f1-aa35-2ed5988b8994",
   "metadata": {
    "tags": []
   },
   "outputs": [
    {
     "name": "stdout",
     "output_type": "stream",
     "text": [
      "\u001b[32mSaved Phylogeny[Unrooted] to: ./data/fast-tree.qza\u001b[0m\n",
      "\u001b[0m\u001b[32mSaved Phylogeny[Rooted] to: ./data/fast-tree-rooted.qza\u001b[0m\n",
      "\u001b[0m"
     ]
    }
   ],
   "source": [
    "! qiime phylogeny fasttree \\\n",
    "    --i-alignment ./data/masked-aligned-rep-seqs.qza \\\n",
    "    --o-tree ./data/phylogeny/fast-tree.qza\n",
    "\n",
    "! qiime phylogeny midpoint-root \\\n",
    "    --i-tree ./data/phylogeny/fast-tree.qza \\\n",
    "    --o-rooted-tree ./data/phylogeny/fast-tree-rooted.qza"
   ]
  },
  {
   "cell_type": "markdown",
   "id": "09036dc0-2940-4a10-8420-6b422ae10e2b",
   "metadata": {},
   "source": [
    "#### Unable to create tree visualization on Jupyter\n",
    "\n",
    "Sadly we weren't able to install the qiime2 plugin empress to create the tree visualization, which is why we ran this step on `Euler`.\n",
    "The bash file we executed on Euler can be found in `./scripts/tree_visualization.sh`."
   ]
  },
  {
   "cell_type": "code",
   "execution_count": 3,
   "id": "33ea9d42-1884-4db1-91c4-629f6cbe9a1e",
   "metadata": {
    "tags": []
   },
   "outputs": [
    {
     "data": {
      "text/html": [
       "<div><img onload=\"(function(div, url){\n",
       "if (typeof require !== 'undefined') {\n",
       "    var baseURL = require.toUrl('').split('/').slice(0, -2).join('/');\n",
       "} else {\n",
       "    var baseURL = JSON.parse(\n",
       "        document.getElementById('jupyter-config-data').innerHTML\n",
       "    ).baseUrl.slice(0, -1);\n",
       "}\n",
       "url = baseURL + url;\n",
       "fetch(url).then(function(res) {\n",
       "    if (res.status === 404) {\n",
       "        div.innerHTML = 'Install QIIME 2 Jupyter extension with:<br />' +\n",
       "                        '<code>jupyter serverextension enable --py qiime2' +\n",
       "                        ' --sys-prefix</code><br />then restart your server.' +\n",
       "                        '<br /><br />(Interactive output not available on ' +\n",
       "                        'static notebook viewer services like nbviewer.)';\n",
       "    } else if (res.status === 409) {\n",
       "        div.innerHTML = 'Visualization no longer in scope. Re-run this cell' +\n",
       "                        ' to see the visualization.';\n",
       "    } else if (res.ok) {\n",
       "        url = res.url;\n",
       "        div.innerHTML = '<iframe src=\\'' + url + '\\' style=\\'' +\n",
       "                        'width: 100%; height: 700px; border: 0;\\'>' +\n",
       "                        '</iframe><hr />Open in a: <a href=\\'' + url + '\\'' +\n",
       "                        ' target=\\'_blank\\'>new window</a>'\n",
       "    } else {\n",
       "        div.innerHTML = 'Something has gone wrong. Check notebook server for' +\n",
       "                        ' errors.';\n",
       "    }\n",
       "});\n",
       "})(this.parentElement, '/qiime2/redirect?location=/tmp/qiime2/jovyan/data/65627d58-5d93-45f6-b058-165ddd931101')\" src=\"data:image/gif;base64,R0lGODlhAQABAIAAAP///wAAACH5BAEAAAAALAAAAAABAAEAAAICRAEAOw==\" /></div>"
      ],
      "text/plain": [
       "<visualization: Visualization uuid: 65627d58-5d93-45f6-b058-165ddd931101>"
      ]
     },
     "execution_count": 3,
     "metadata": {},
     "output_type": "execute_result"
    }
   ],
   "source": [
    "Visualization.load('./data/phylogeny/fast-tree-rooted.qzv')"
   ]
  },
  {
   "cell_type": "markdown",
   "id": "cfc1bb17-ea97-493c-a2e1-a89b2cefb29e",
   "metadata": {},
   "source": [
    "#### Alpha rarefaction"
   ]
  },
  {
   "cell_type": "code",
   "execution_count": 37,
   "id": "bdb5603c-4f71-4053-aebd-a249d7d1c55b",
   "metadata": {
    "tags": []
   },
   "outputs": [
    {
     "name": "stdout",
     "output_type": "stream",
     "text": [
      "\u001b[32mSaved Visualization to: ./data/alpha_diversity/alpha-rarefaction.qzv\u001b[0m\n",
      "\u001b[0m"
     ]
    }
   ],
   "source": [
    "!qiime diversity alpha-rarefaction \\\n",
    "  --i-table ./data/filtered-feature-table.qza \\\n",
    "  --i-phylogeny ./data/phylogeny/fast-tree-rooted.qza \\\n",
    "  --p-max-depth  30000 \\\n",
    "  --m-metadata-file ./data/metadata/fungut_metadata_processed.tsv \\\n",
    "  --o-visualization ./data/alpha_diversity/alpha-rarefaction.qzv\n"
   ]
  },
  {
   "cell_type": "code",
   "execution_count": 4,
   "id": "97a242cc-97fe-4c9b-85cb-bec081817655",
   "metadata": {
    "tags": []
   },
   "outputs": [
    {
     "data": {
      "text/html": [
       "<div><img onload=\"(function(div, url){\n",
       "if (typeof require !== 'undefined') {\n",
       "    var baseURL = require.toUrl('').split('/').slice(0, -2).join('/');\n",
       "} else {\n",
       "    var baseURL = JSON.parse(\n",
       "        document.getElementById('jupyter-config-data').innerHTML\n",
       "    ).baseUrl.slice(0, -1);\n",
       "}\n",
       "url = baseURL + url;\n",
       "fetch(url).then(function(res) {\n",
       "    if (res.status === 404) {\n",
       "        div.innerHTML = 'Install QIIME 2 Jupyter extension with:<br />' +\n",
       "                        '<code>jupyter serverextension enable --py qiime2' +\n",
       "                        ' --sys-prefix</code><br />then restart your server.' +\n",
       "                        '<br /><br />(Interactive output not available on ' +\n",
       "                        'static notebook viewer services like nbviewer.)';\n",
       "    } else if (res.status === 409) {\n",
       "        div.innerHTML = 'Visualization no longer in scope. Re-run this cell' +\n",
       "                        ' to see the visualization.';\n",
       "    } else if (res.ok) {\n",
       "        url = res.url;\n",
       "        div.innerHTML = '<iframe src=\\'' + url + '\\' style=\\'' +\n",
       "                        'width: 100%; height: 700px; border: 0;\\'>' +\n",
       "                        '</iframe><hr />Open in a: <a href=\\'' + url + '\\'' +\n",
       "                        ' target=\\'_blank\\'>new window</a>'\n",
       "    } else {\n",
       "        div.innerHTML = 'Something has gone wrong. Check notebook server for' +\n",
       "                        ' errors.';\n",
       "    }\n",
       "});\n",
       "})(this.parentElement, '/qiime2/redirect?location=/tmp/qiime2/jovyan/data/8f71a580-4c35-49c0-932b-d87061036f49')\" src=\"data:image/gif;base64,R0lGODlhAQABAIAAAP///wAAACH5BAEAAAAALAAAAAABAAEAAAICRAEAOw==\" /></div>"
      ],
      "text/plain": [
       "<visualization: Visualization uuid: 8f71a580-4c35-49c0-932b-d87061036f49>"
      ]
     },
     "execution_count": 4,
     "metadata": {},
     "output_type": "execute_result"
    }
   ],
   "source": [
    "Visualization.load('./data/alpha_diversity/alpha-rarefaction.qzv')"
   ]
  },
  {
   "cell_type": "markdown",
   "id": "8384e8fc-1b75-44ae-aaaf-48a2872b0fc8",
   "metadata": {
    "tags": []
   },
   "source": [
    "#### Compute metrics\n",
    "We chose a sampling depth of 5000, as the shannon metric plateaus shortly before it  \n"
   ]
  },
  {
   "cell_type": "code",
   "execution_count": 40,
   "id": "1c41aad5-0caf-4790-86ac-bdd0e17ea9e8",
   "metadata": {
    "tags": []
   },
   "outputs": [
    {
     "name": "stdout",
     "output_type": "stream",
     "text": [
      "\u001b[32mSaved FeatureTable[Frequency] to: ./data/alpha_diversity/core-metrics-results/rarefied_table.qza\u001b[0m\n",
      "\u001b[32mSaved SampleData[AlphaDiversity] to: ./data/alpha_diversity/core-metrics-results/faith_pd_vector.qza\u001b[0m\n",
      "\u001b[32mSaved SampleData[AlphaDiversity] to: ./data/alpha_diversity/core-metrics-results/observed_features_vector.qza\u001b[0m\n",
      "\u001b[32mSaved SampleData[AlphaDiversity] to: ./data/alpha_diversity/core-metrics-results/shannon_vector.qza\u001b[0m\n",
      "\u001b[32mSaved SampleData[AlphaDiversity] to: ./data/alpha_diversity/core-metrics-results/evenness_vector.qza\u001b[0m\n",
      "\u001b[32mSaved DistanceMatrix to: ./data/alpha_diversity/core-metrics-results/unweighted_unifrac_distance_matrix.qza\u001b[0m\n",
      "\u001b[32mSaved DistanceMatrix to: ./data/alpha_diversity/core-metrics-results/weighted_unifrac_distance_matrix.qza\u001b[0m\n",
      "\u001b[32mSaved DistanceMatrix to: ./data/alpha_diversity/core-metrics-results/jaccard_distance_matrix.qza\u001b[0m\n",
      "\u001b[32mSaved DistanceMatrix to: ./data/alpha_diversity/core-metrics-results/bray_curtis_distance_matrix.qza\u001b[0m\n",
      "\u001b[32mSaved PCoAResults to: ./data/alpha_diversity/core-metrics-results/unweighted_unifrac_pcoa_results.qza\u001b[0m\n",
      "\u001b[32mSaved PCoAResults to: ./data/alpha_diversity/core-metrics-results/weighted_unifrac_pcoa_results.qza\u001b[0m\n",
      "\u001b[32mSaved PCoAResults to: ./data/alpha_diversity/core-metrics-results/jaccard_pcoa_results.qza\u001b[0m\n",
      "\u001b[32mSaved PCoAResults to: ./data/alpha_diversity/core-metrics-results/bray_curtis_pcoa_results.qza\u001b[0m\n",
      "\u001b[32mSaved Visualization to: ./data/alpha_diversity/core-metrics-results/unweighted_unifrac_emperor.qzv\u001b[0m\n",
      "\u001b[32mSaved Visualization to: ./data/alpha_diversity/core-metrics-results/weighted_unifrac_emperor.qzv\u001b[0m\n",
      "\u001b[32mSaved Visualization to: ./data/alpha_diversity/core-metrics-results/jaccard_emperor.qzv\u001b[0m\n",
      "\u001b[32mSaved Visualization to: ./data/alpha_diversity/core-metrics-results/bray_curtis_emperor.qzv\u001b[0m\n",
      "\u001b[0m"
     ]
    }
   ],
   "source": [
    "! qiime diversity core-metrics-phylogenetic \\\n",
    "  --i-table ./data/filtered-feature-table.qza \\\n",
    "  --i-phylogeny ./data/phylogeny/fast-tree-rooted.qza \\\n",
    "  --m-metadata-file ./data/metadata/fungut_metadata_processed.tsv \\\n",
    "  --p-sampling-depth 5000 \\\n",
    "  --output-dir ./data/alpha_diversity/core-metrics-results"
   ]
  },
  {
   "cell_type": "code",
   "execution_count": 7,
   "id": "bf71a394-2441-4b19-973a-9cd40d525f9a",
   "metadata": {
    "tags": []
   },
   "outputs": [
    {
     "data": {
      "application/vnd.jupyter.widget-view+json": {
       "model_id": "23cc1d519a214f88b2a5e0d76f81a8fe",
       "version_major": 2,
       "version_minor": 0
      },
      "text/plain": [
       "Dropdown(description='Select .qzv file:', options=('bray_curtis_emperor.qzv', 'jaccard_emperor.qzv', 'weighted…"
      ]
     },
     "metadata": {},
     "output_type": "display_data"
    },
    {
     "data": {
      "application/vnd.jupyter.widget-view+json": {
       "model_id": "6b36cba67e384b759c54dd51d3c90fd5",
       "version_major": 2,
       "version_minor": 0
      },
      "text/plain": [
       "Output()"
      ]
     },
     "metadata": {},
     "output_type": "display_data"
    }
   ],
   "source": [
    "sys.path.append(os.path.join(os.getcwd(), 'scripts'))\n",
    "from qzv_selector import display_qzv_selector\n",
    "display_qzv_selector('./data/alpha_diversity/core-metrics-results')"
   ]
  },
  {
   "cell_type": "code",
   "execution_count": 42,
   "id": "310b9a41-3b16-4bcc-98c8-4c2eace9af18",
   "metadata": {
    "tags": []
   },
   "outputs": [
    {
     "data": {
      "application/vnd.jupyter.widget-view+json": {
       "model_id": "84a72d22c9474ffd8160db2faea488f8",
       "version_major": 2,
       "version_minor": 0
      },
      "text/plain": [
       "VBox(children=(Dropdown(description='Select Category:', options=('country', 'state', 'sex', 'diet_type', 'ibd'…"
      ]
     },
     "metadata": {},
     "output_type": "display_data"
    }
   ],
   "source": [
    "# test_import.py\n",
    "from qzv_selector import create_category_selector\n",
    "\n",
    "category_dropdown = create_category_selector()\n"
   ]
  },
  {
   "cell_type": "code",
   "execution_count": 44,
   "id": "258cc11e-d67f-4c59-901b-8aba55d71355",
   "metadata": {
    "tags": []
   },
   "outputs": [
    {
     "name": "stderr",
     "output_type": "stream",
     "text": [
      "/opt/conda/lib/python3.9/site-packages/q2_types/sample_data/_transformer.py:27: FutureWarning: errors='ignore' is deprecated and will raise in a future version. Use to_numeric without passing `errors` and catch exceptions explicitly instead\n",
      "  df[cols] = df[cols].apply(pd.to_numeric, errors='ignore')\n"
     ]
    },
    {
     "data": {
      "image/png": "[encoded data removed]",
      "text/plain": [
       "<Figure size 640x480 with 1 Axes>"
      ]
     },
     "metadata": {},
     "output_type": "display_data"
    }
   ],
   "source": [
    "types = category_dropdown.value\n",
    "\n",
    "div = q2.Artifact.load('./data/alpha_diversity/core-metrics-results/faith_pd_vector.qza').view(pd.Series)\n",
    "md = pd.read_csv('./data/metadata/fungut_metadata_processed.tsv', sep='\\t', index_col=0)[f'{types}_sample']\n",
    "# Concatenate the series that we provided\n",
    "dd = pd.concat([div, md], axis=1, join='inner')\n",
    "\n",
    "# make a boxplot with Faith PD on the y-axis and the selected 'type' on the x-axis (hint: look at the \"by\" parameter)\n",
    "sns.boxplot(x=f'{types}_sample', y = dd.columns[0], data = dd)\n",
    "plt.xlabel(f'{types}_sample')\n",
    "plt.xticks(rotation = 80)\n",
    "plt.ylabel('Faith PD')\n",
    "plt.title(f'Faith PD Boxplot by {types}_sample')\n",
    "plt.show()"
   ]
  },
  {
   "cell_type": "markdown",
   "id": "e7f5bfca-b459-42ea-9182-bbb3416f8c6e",
   "metadata": {},
   "source": [
    "#### Visualize the PCoA results"
   ]
  },
  {
   "cell_type": "code",
   "execution_count": 18,
   "id": "154aa841-846d-48d9-a475-931ce1084da6",
   "metadata": {
    "tags": []
   },
   "outputs": [
    {
     "data": {
      "text/html": [
       "<div><img onload=\"(function(div, url){\n",
       "if (typeof require !== 'undefined') {\n",
       "    var baseURL = require.toUrl('').split('/').slice(0, -2).join('/');\n",
       "} else {\n",
       "    var baseURL = JSON.parse(\n",
       "        document.getElementById('jupyter-config-data').innerHTML\n",
       "    ).baseUrl.slice(0, -1);\n",
       "}\n",
       "url = baseURL + url;\n",
       "fetch(url).then(function(res) {\n",
       "    if (res.status === 404) {\n",
       "        div.innerHTML = 'Install QIIME 2 Jupyter extension with:<br />' +\n",
       "                        '<code>jupyter serverextension enable --py qiime2' +\n",
       "                        ' --sys-prefix</code><br />then restart your server.' +\n",
       "                        '<br /><br />(Interactive output not available on ' +\n",
       "                        'static notebook viewer services like nbviewer.)';\n",
       "    } else if (res.status === 409) {\n",
       "        div.innerHTML = 'Visualization no longer in scope. Re-run this cell' +\n",
       "                        ' to see the visualization.';\n",
       "    } else if (res.ok) {\n",
       "        url = res.url;\n",
       "        div.innerHTML = '<iframe src=\\'' + url + '\\' style=\\'' +\n",
       "                        'width: 100%; height: 700px; border: 0;\\'>' +\n",
       "                        '</iframe><hr />Open in a: <a href=\\'' + url + '\\'' +\n",
       "                        ' target=\\'_blank\\'>new window</a>'\n",
       "    } else {\n",
       "        div.innerHTML = 'Something has gone wrong. Check notebook server for' +\n",
       "                        ' errors.';\n",
       "    }\n",
       "});\n",
       "})(this.parentElement, '/qiime2/redirect?location=/tmp/qiime2/jovyan/data/398641da-6c94-4023-a92e-d34b62475365')\" src=\"data:image/gif;base64,R0lGODlhAQABAIAAAP///wAAACH5BAEAAAAALAAAAAABAAEAAAICRAEAOw==\" /></div>"
      ],
      "text/plain": [
       "<visualization: Visualization uuid: 398641da-6c94-4023-a92e-d34b62475365>"
      ]
     },
     "execution_count": 18,
     "metadata": {},
     "output_type": "execute_result"
    }
   ],
   "source": [
    "Visualization.load('./data/alpha_diversity/core-metrics-results/bray_curtis_emperor.qzv')"
   ]
  },
  {
   "cell_type": "code",
   "execution_count": 19,
   "id": "8d604313-1a21-4478-8e98-f8826f46ef8c",
   "metadata": {
    "tags": []
   },
   "outputs": [
    {
     "data": {
      "text/html": [
       "<div><img onload=\"(function(div, url){\n",
       "if (typeof require !== 'undefined') {\n",
       "    var baseURL = require.toUrl('').split('/').slice(0, -2).join('/');\n",
       "} else {\n",
       "    var baseURL = JSON.parse(\n",
       "        document.getElementById('jupyter-config-data').innerHTML\n",
       "    ).baseUrl.slice(0, -1);\n",
       "}\n",
       "url = baseURL + url;\n",
       "fetch(url).then(function(res) {\n",
       "    if (res.status === 404) {\n",
       "        div.innerHTML = 'Install QIIME 2 Jupyter extension with:<br />' +\n",
       "                        '<code>jupyter serverextension enable --py qiime2' +\n",
       "                        ' --sys-prefix</code><br />then restart your server.' +\n",
       "                        '<br /><br />(Interactive output not available on ' +\n",
       "                        'static notebook viewer services like nbviewer.)';\n",
       "    } else if (res.status === 409) {\n",
       "        div.innerHTML = 'Visualization no longer in scope. Re-run this cell' +\n",
       "                        ' to see the visualization.';\n",
       "    } else if (res.ok) {\n",
       "        url = res.url;\n",
       "        div.innerHTML = '<iframe src=\\'' + url + '\\' style=\\'' +\n",
       "                        'width: 100%; height: 700px; border: 0;\\'>' +\n",
       "                        '</iframe><hr />Open in a: <a href=\\'' + url + '\\'' +\n",
       "                        ' target=\\'_blank\\'>new window</a>'\n",
       "    } else {\n",
       "        div.innerHTML = 'Something has gone wrong. Check notebook server for' +\n",
       "                        ' errors.';\n",
       "    }\n",
       "});\n",
       "})(this.parentElement, '/qiime2/redirect?location=/tmp/qiime2/jovyan/data/3410ca80-62c5-4013-ab40-fbba9c38a14d')\" src=\"data:image/gif;base64,R0lGODlhAQABAIAAAP///wAAACH5BAEAAAAALAAAAAABAAEAAAICRAEAOw==\" /></div>"
      ],
      "text/plain": [
       "<visualization: Visualization uuid: 3410ca80-62c5-4013-ab40-fbba9c38a14d>"
      ]
     },
     "execution_count": 19,
     "metadata": {},
     "output_type": "execute_result"
    }
   ],
   "source": [
    "Visualization.load('./data/alpha_diversity/core-metrics-results/jaccard_emperor.qzv')"
   ]
  },
  {
   "cell_type": "code",
   "execution_count": 20,
   "id": "f2a24809-9e86-4d0e-970d-fa0920a39e72",
   "metadata": {
    "tags": []
   },
   "outputs": [
    {
     "data": {
      "text/html": [
       "<div><img onload=\"(function(div, url){\n",
       "if (typeof require !== 'undefined') {\n",
       "    var baseURL = require.toUrl('').split('/').slice(0, -2).join('/');\n",
       "} else {\n",
       "    var baseURL = JSON.parse(\n",
       "        document.getElementById('jupyter-config-data').innerHTML\n",
       "    ).baseUrl.slice(0, -1);\n",
       "}\n",
       "url = baseURL + url;\n",
       "fetch(url).then(function(res) {\n",
       "    if (res.status === 404) {\n",
       "        div.innerHTML = 'Install QIIME 2 Jupyter extension with:<br />' +\n",
       "                        '<code>jupyter serverextension enable --py qiime2' +\n",
       "                        ' --sys-prefix</code><br />then restart your server.' +\n",
       "                        '<br /><br />(Interactive output not available on ' +\n",
       "                        'static notebook viewer services like nbviewer.)';\n",
       "    } else if (res.status === 409) {\n",
       "        div.innerHTML = 'Visualization no longer in scope. Re-run this cell' +\n",
       "                        ' to see the visualization.';\n",
       "    } else if (res.ok) {\n",
       "        url = res.url;\n",
       "        div.innerHTML = '<iframe src=\\'' + url + '\\' style=\\'' +\n",
       "                        'width: 100%; height: 700px; border: 0;\\'>' +\n",
       "                        '</iframe><hr />Open in a: <a href=\\'' + url + '\\'' +\n",
       "                        ' target=\\'_blank\\'>new window</a>'\n",
       "    } else {\n",
       "        div.innerHTML = 'Something has gone wrong. Check notebook server for' +\n",
       "                        ' errors.';\n",
       "    }\n",
       "});\n",
       "})(this.parentElement, '/qiime2/redirect?location=/tmp/qiime2/jovyan/data/d699d57f-3e37-4362-a834-9ba1514448ed')\" src=\"data:image/gif;base64,R0lGODlhAQABAIAAAP///wAAACH5BAEAAAAALAAAAAABAAEAAAICRAEAOw==\" /></div>"
      ],
      "text/plain": [
       "<visualization: Visualization uuid: d699d57f-3e37-4362-a834-9ba1514448ed>"
      ]
     },
     "execution_count": 20,
     "metadata": {},
     "output_type": "execute_result"
    }
   ],
   "source": [
    "Visualization.load('./data/alpha_diversity/core-metrics-results/weighted_unifrac_emperor.qzv')"
   ]
  },
  {
   "cell_type": "code",
   "execution_count": 17,
   "id": "a2f75119-2ebe-4874-a66f-0179797b7d03",
   "metadata": {
    "tags": []
   },
   "outputs": [
    {
     "data": {
      "text/html": [
       "<div><img onload=\"(function(div, url){\n",
       "if (typeof require !== 'undefined') {\n",
       "    var baseURL = require.toUrl('').split('/').slice(0, -2).join('/');\n",
       "} else {\n",
       "    var baseURL = JSON.parse(\n",
       "        document.getElementById('jupyter-config-data').innerHTML\n",
       "    ).baseUrl.slice(0, -1);\n",
       "}\n",
       "url = baseURL + url;\n",
       "fetch(url).then(function(res) {\n",
       "    if (res.status === 404) {\n",
       "        div.innerHTML = 'Install QIIME 2 Jupyter extension with:<br />' +\n",
       "                        '<code>jupyter serverextension enable --py qiime2' +\n",
       "                        ' --sys-prefix</code><br />then restart your server.' +\n",
       "                        '<br /><br />(Interactive output not available on ' +\n",
       "                        'static notebook viewer services like nbviewer.)';\n",
       "    } else if (res.status === 409) {\n",
       "        div.innerHTML = 'Visualization no longer in scope. Re-run this cell' +\n",
       "                        ' to see the visualization.';\n",
       "    } else if (res.ok) {\n",
       "        url = res.url;\n",
       "        div.innerHTML = '<iframe src=\\'' + url + '\\' style=\\'' +\n",
       "                        'width: 100%; height: 700px; border: 0;\\'>' +\n",
       "                        '</iframe><hr />Open in a: <a href=\\'' + url + '\\'' +\n",
       "                        ' target=\\'_blank\\'>new window</a>'\n",
       "    } else {\n",
       "        div.innerHTML = 'Something has gone wrong. Check notebook server for' +\n",
       "                        ' errors.';\n",
       "    }\n",
       "});\n",
       "})(this.parentElement, '/qiime2/redirect?location=/tmp/qiime2/jovyan/data/b3bc17bd-fab8-465b-9653-f3833b4ddc07')\" src=\"data:image/gif;base64,R0lGODlhAQABAIAAAP///wAAACH5BAEAAAAALAAAAAABAAEAAAICRAEAOw==\" /></div>"
      ],
      "text/plain": [
       "<visualization: Visualization uuid: b3bc17bd-fab8-465b-9653-f3833b4ddc07>"
      ]
     },
     "execution_count": 17,
     "metadata": {},
     "output_type": "execute_result"
    }
   ],
   "source": [
    "Visualization.load('./data/alpha_diversity/core-metrics-results/unweighted_unifrac_emperor.qzv')"
   ]
  }
 ],
 "metadata": {
  "kernelspec": {
   "display_name": "QIIME 2",
   "language": "python",
   "name": "python3"
  },
  "language_info": {
   "codemirror_mode": {
    "name": "ipython",
    "version": 3
   },
   "file_extension": ".py",
   "mimetype": "text/x-python",
   "name": "python",
   "nbconvert_exporter": "python",
   "pygments_lexer": "ipython3",
   "version": "3.9.19"
  }
 },
 "nbformat": 4,
 "nbformat_minor": 5
}
