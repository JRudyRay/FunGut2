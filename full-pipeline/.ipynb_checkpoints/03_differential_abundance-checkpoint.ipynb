{
 "cells": [
  {
   "cell_type": "markdown",
   "id": "c0884d6c-967e-4fe0-9983-04ec57371fd2",
   "metadata": {},
   "source": [
    "## Differential Abundance Analysis"
   ]
  },
  {
   "cell_type": "code",
   "execution_count": 2,
   "id": "def0b86d-41c3-4c45-8625-8183b1974852",
   "metadata": {
    "tags": []
   },
   "outputs": [],
   "source": [
    "import os\n",
    "import sys\n",
    "import pandas as pd\n",
    "import qiime2 as q2\n",
    "from qiime2 import Visualization\n",
    "import matplotlib.pyplot as plt\n",
    "import seaborn as sns\n",
    "%matplotlib inline\n",
    "\n",
    "# Define the data directory\n",
    "data_dir = './data'"
   ]
  },
  {
   "cell_type": "markdown",
   "id": "86e86974-d6c1-4581-9951-463434182eed",
   "metadata": {},
   "source": [
    "### Filter Features and collapse at level 7"
   ]
  },
  {
   "cell_type": "code",
   "execution_count": 31,
   "id": "5fffee0e-4d78-4fba-925a-45cb111089a3",
   "metadata": {
    "tags": []
   },
   "outputs": [
    {
     "name": "stdout",
     "output_type": "stream",
     "text": [
      "\u001b[32mSaved FeatureTable[Frequency] to: ./data/DA/table_abund.qza\u001b[0m\n",
      "\u001b[0m"
     ]
    }
   ],
   "source": [
    "! qiime feature-table filter-features \\\n",
    "    --i-table ./data/filtered-feature-table.qza \\\n",
    "    --p-min-frequency 15 \\\n",
    "    --p-min-samples 2 \\\n",
    "    --o-filtered-table ./data/DA/table_abund.qza"
   ]
  },
  {
   "cell_type": "code",
   "execution_count": 15,
   "id": "82830966-0369-43c6-9bcd-bc008956993d",
   "metadata": {
    "tags": []
   },
   "outputs": [
    {
     "name": "stdout",
     "output_type": "stream",
     "text": [
      "\u001b[32mUUID\u001b[0m:        32abeb8f-365a-4c50-a987-43479b622ae8\n",
      "\u001b[32mType\u001b[0m:        FeatureTable[Frequency]\n",
      "\u001b[32mData format\u001b[0m: BIOMV210DirFmt\n"
     ]
    }
   ],
   "source": [
    "! qiime tools peek ./data/filtered-feature-table.qza\n"
   ]
  },
  {
   "cell_type": "markdown",
   "id": "5b5cb94a-16d3-4d61-be7f-024863045e0b",
   "metadata": {},
   "source": [
    "#### Check filtered feature table"
   ]
  },
  {
   "cell_type": "code",
   "execution_count": 32,
   "id": "510708c5-348c-4ab4-b9fa-7741931eb42d",
   "metadata": {
    "tags": []
   },
   "outputs": [
    {
     "name": "stdout",
     "output_type": "stream",
     "text": [
      "\u001b[32mSaved Visualization to: ./data/filtered-feature-table_summary.qzv\u001b[0m\n",
      "\u001b[0m"
     ]
    }
   ],
   "source": [
    "!qiime feature-table summarize\\\n",
    "    --i-table ./data/DA/table_abund.qza \\\n",
    "    --o-visualization ./data/table_abund_summary.qzv"
   ]
  },
  {
   "cell_type": "code",
   "execution_count": null,
   "id": "53237d0f-c767-4e52-81df-2e97446d8959",
   "metadata": {
    "tags": []
   },
   "outputs": [],
   "source": [
    "Visualization.load('./data/table_abund_summary.qzv')"
   ]
  },
  {
   "cell_type": "code",
   "execution_count": 34,
   "id": "d40e11b9-7997-42ad-b1e4-4250b59f8613",
   "metadata": {
    "tags": []
   },
   "outputs": [
    {
     "name": "stdout",
     "output_type": "stream",
     "text": [
      "\u001b[32mSaved FeatureTable[Frequency] to: ./data/DA/table_abund_l7.qza\u001b[0m\n",
      "\u001b[0m"
     ]
    }
   ],
   "source": [
    "! qiime taxa collapse \\\n",
    "    --i-table ./data/DA/table_abund.qza \\\n",
    "    --i-taxonomy $data_dir/taxonomy_classification/taxonomy_unite_dynamic_s_all.qza \\\n",
    "    --p-level 7 \\\n",
    "    --o-collapsed-table ./data/DA/table_abund_l7.qza"
   ]
  },
  {
   "cell_type": "code",
   "execution_count": 35,
   "id": "35cbdcda-1164-4401-bc28-cee9f8b70003",
   "metadata": {
    "tags": []
   },
   "outputs": [
    {
     "name": "stdout",
     "output_type": "stream",
     "text": [
      "\u001b[32mSaved Visualization to: ./data/l_7_filtered-feature-table_summary.qzv\u001b[0m\n",
      "\u001b[0m"
     ]
    }
   ],
   "source": [
    "!qiime feature-table summarize\\\n",
    "    --i-table ./data/DA/table_abund_l7.qza \\\n",
    "    --o-visualization ./data/table_abund_l7_summary.qzv"
   ]
  },
  {
   "cell_type": "code",
   "execution_count": null,
   "id": "23059fbe-b934-4c8f-b45c-d7c96bd9012e",
   "metadata": {
    "tags": []
   },
   "outputs": [],
   "source": [
    "Visualization.load('./data/l_7_filtered-feature-table_summary.qzv')"
   ]
  },
  {
   "cell_type": "markdown",
   "id": "6d5cd2c3-decb-434a-a551-86884a2596e2",
   "metadata": {},
   "source": [
    "### URBAN ANCOMBC"
   ]
  },
  {
   "cell_type": "code",
   "execution_count": 86,
   "id": "a78acfe0-5865-4153-8655-8276dcd3f76f",
   "metadata": {
    "tags": []
   },
   "outputs": [
    {
     "name": "stdout",
     "output_type": "stream",
     "text": [
      "\u001b[32mSaved FeatureData[DifferentialAbundance] to: ./data/DA/ancombc_urban_differentials.qza\u001b[0m\n",
      "\u001b[0m\u001b[32mSaved Visualization to: ./data/DA/ancombc_urban_da_barplot.qzv\u001b[0m\n",
      "\u001b[0m\u001b[32mSaved Visualization to: ./data/DA/ancombc_urban_results.qzv\u001b[0m\n",
      "\u001b[0m"
     ]
    }
   ],
   "source": [
    "# Run ANCOM-BC\n",
    "! qiime composition ancombc \\\n",
    "    --i-table ./data/DA/table_abund_l7.qza \\\n",
    "    --m-metadata-file $data_dir/metadata/fungut_metadata_processed.tsv \\\n",
    "    --p-formula is_urban \\\n",
    "    --p-reference-levels 'is_urban::True' \\\n",
    "    --o-differentials ./data/DA/ancombc_urban_differentials.qza\n",
    "\n",
    "# Generate a barplot of differentially abundant taxa between environments\n",
    "! qiime composition da-barplot \\\n",
    "    --i-data ./data/DA/ancombc_urban_differentials.qza \\\n",
    "    --p-significance-threshold 0.1 \\\n",
    "    --o-visualization ./data/DA/ancombc_urban_da_barplot.qzv\n",
    "\n",
    "# Generate a table of these same values for all taxa\n",
    "! qiime composition tabulate \\\n",
    "    --i-data ./data/DA/ancombc_urban_differentials.qza \\\n",
    "    --o-visualization ./data/DA/ancombc_urban_results.qzv"
   ]
  },
  {
   "cell_type": "code",
   "execution_count": 87,
   "id": "282645d5-ef68-4d95-b21d-0742006d8602",
   "metadata": {
    "tags": []
   },
   "outputs": [
    {
     "data": {
      "text/html": [
       "<div><img onload=\"(function(div, url){\n",
       "if (typeof require !== 'undefined') {\n",
       "    var baseURL = require.toUrl('').split('/').slice(0, -2).join('/');\n",
       "} else {\n",
       "    var baseURL = JSON.parse(\n",
       "        document.getElementById('jupyter-config-data').innerHTML\n",
       "    ).baseUrl.slice(0, -1);\n",
       "}\n",
       "url = baseURL + url;\n",
       "fetch(url).then(function(res) {\n",
       "    if (res.status === 404) {\n",
       "        div.innerHTML = 'Install QIIME 2 Jupyter extension with:<br />' +\n",
       "                        '<code>jupyter serverextension enable --py qiime2' +\n",
       "                        ' --sys-prefix</code><br />then restart your server.' +\n",
       "                        '<br /><br />(Interactive output not available on ' +\n",
       "                        'static notebook viewer services like nbviewer.)';\n",
       "    } else if (res.status === 409) {\n",
       "        div.innerHTML = 'Visualization no longer in scope. Re-run this cell' +\n",
       "                        ' to see the visualization.';\n",
       "    } else if (res.ok) {\n",
       "        url = res.url;\n",
       "        div.innerHTML = '<iframe src=\\'' + url + '\\' style=\\'' +\n",
       "                        'width: 100%; height: 700px; border: 0;\\'>' +\n",
       "                        '</iframe><hr />Open in a: <a href=\\'' + url + '\\'' +\n",
       "                        ' target=\\'_blank\\'>new window</a>'\n",
       "    } else {\n",
       "        div.innerHTML = 'Something has gone wrong. Check notebook server for' +\n",
       "                        ' errors.';\n",
       "    }\n",
       "});\n",
       "})(this.parentElement, '/qiime2/redirect?location=/tmp/qiime2/jovyan/data/67d76efb-09a5-4b47-80b5-b0b812306d24')\" src=\"data:image/gif;base64,R0lGODlhAQABAIAAAP///wAAACH5BAEAAAAALAAAAAABAAEAAAICRAEAOw==\" /></div>"
      ],
      "text/plain": [
       "<visualization: Visualization uuid: 67d76efb-09a5-4b47-80b5-b0b812306d24>"
      ]
     },
     "execution_count": 87,
     "metadata": {},
     "output_type": "execute_result"
    }
   ],
   "source": [
    "Visualization.load(\"./data/DA/ancombc_urban_da_barplot.qzv\")"
   ]
  },
  {
   "cell_type": "markdown",
   "id": "875eefcd-bd72-4704-84c6-671d177d9450",
   "metadata": {},
   "source": [
    "## IBD ANCOMBC"
   ]
  },
  {
   "cell_type": "code",
   "execution_count": 77,
   "id": "9e3580c7-db70-4ac1-8a75-baa26520ce2c",
   "metadata": {
    "tags": []
   },
   "outputs": [
    {
     "name": "stdout",
     "output_type": "stream",
     "text": [
      "\u001b[32mSaved FeatureData[DifferentialAbundance] to: ./data/DA/ancombc_ibd_differentials.qza\u001b[0m\n",
      "\u001b[0m\u001b[32mSaved Visualization to: ./data/DA/ancombc_ibd_da_barplot.qzv\u001b[0m\n",
      "\u001b[0m\u001b[32mSaved Visualization to: ./data/DA/ancombc_ibd_results.qzv\u001b[0m\n",
      "\u001b[0m"
     ]
    }
   ],
   "source": [
    "# Run ANCOM-BC\n",
    "! qiime composition ancombc \\\n",
    "    --i-table ./data/DA/table_abund_l7.qza \\\n",
    "    --m-metadata-file $data_dir/metadata/fungut_metadata_processed.tsv \\\n",
    "    --p-formula ibd_symptoms \\\n",
    "    --p-reference-levels ibd_symptoms::symptoms \\\n",
    "    --o-differentials ./data/DA/ancombc_ibd_differentials.qza\n",
    "\n",
    "# Generate a barplot of differentially abundant taxa between environments\n",
    "! qiime composition da-barplot \\\n",
    "    --i-data ./data/DA/ancombc_ibd_differentials.qza \\\n",
    "    --p-significance-threshold 0.05 \\\n",
    "    --o-visualization ./data/DA/ancombc_ibd_da_barplot.qzv\n",
    "\n",
    "# Generate a table of these same values for all taxa\n",
    "! qiime composition tabulate \\\n",
    "    --i-data ./data/DA/ancombc_ibd_differentials.qza \\\n",
    "    --o-visualization ./data/DA/ancombc_ibd_results.qzv"
   ]
  },
  {
   "cell_type": "code",
   "execution_count": 78,
   "id": "e4955743-f520-4043-a51b-4f27e6b69345",
   "metadata": {
    "tags": []
   },
   "outputs": [
    {
     "data": {
      "text/html": [
       "<div><img onload=\"(function(div, url){\n",
       "if (typeof require !== 'undefined') {\n",
       "    var baseURL = require.toUrl('').split('/').slice(0, -2).join('/');\n",
       "} else {\n",
       "    var baseURL = JSON.parse(\n",
       "        document.getElementById('jupyter-config-data').innerHTML\n",
       "    ).baseUrl.slice(0, -1);\n",
       "}\n",
       "url = baseURL + url;\n",
       "fetch(url).then(function(res) {\n",
       "    if (res.status === 404) {\n",
       "        div.innerHTML = 'Install QIIME 2 Jupyter extension with:<br />' +\n",
       "                        '<code>jupyter serverextension enable --py qiime2' +\n",
       "                        ' --sys-prefix</code><br />then restart your server.' +\n",
       "                        '<br /><br />(Interactive output not available on ' +\n",
       "                        'static notebook viewer services like nbviewer.)';\n",
       "    } else if (res.status === 409) {\n",
       "        div.innerHTML = 'Visualization no longer in scope. Re-run this cell' +\n",
       "                        ' to see the visualization.';\n",
       "    } else if (res.ok) {\n",
       "        url = res.url;\n",
       "        div.innerHTML = '<iframe src=\\'' + url + '\\' style=\\'' +\n",
       "                        'width: 100%; height: 700px; border: 0;\\'>' +\n",
       "                        '</iframe><hr />Open in a: <a href=\\'' + url + '\\'' +\n",
       "                        ' target=\\'_blank\\'>new window</a>'\n",
       "    } else {\n",
       "        div.innerHTML = 'Something has gone wrong. Check notebook server for' +\n",
       "                        ' errors.';\n",
       "    }\n",
       "});\n",
       "})(this.parentElement, '/qiime2/redirect?location=/tmp/qiime2/jovyan/data/6dbc0251-7b3e-45e1-a33a-5b28b62fb276')\" src=\"data:image/gif;base64,R0lGODlhAQABAIAAAP///wAAACH5BAEAAAAALAAAAAABAAEAAAICRAEAOw==\" /></div>"
      ],
      "text/plain": [
       "<visualization: Visualization uuid: 6dbc0251-7b3e-45e1-a33a-5b28b62fb276>"
      ]
     },
     "execution_count": 78,
     "metadata": {},
     "output_type": "execute_result"
    }
   ],
   "source": [
    "Visualization.load(\"./data/DA/ancombc_ibd_da_barplot.qzv\")"
   ]
  },
  {
   "cell_type": "markdown",
   "id": "e391eec8-7257-44a4-ad5a-ac4520b08eeb",
   "metadata": {},
   "source": [
    "## Gluten ANCOMBC"
   ]
  },
  {
   "cell_type": "code",
   "execution_count": 75,
   "id": "5d215eed-9bf0-42ca-a92b-daa68520f2fd",
   "metadata": {
    "tags": []
   },
   "outputs": [
    {
     "name": "stdout",
     "output_type": "stream",
     "text": [
      "\u001b[32mSaved FeatureData[DifferentialAbundance] to: ./data/DA/ancombc_gluten_differentials.qza\u001b[0m\n",
      "\u001b[0m\u001b[32mSaved Visualization to: ./data/DA/ancombc_gluten_da_barplot.qzv\u001b[0m\n",
      "\u001b[0m\u001b[32mSaved Visualization to: ./data/DA/ancombc_gluten_results.qzv\u001b[0m\n",
      "\u001b[0m"
     ]
    }
   ],
   "source": [
    "# Run ANCOM-BC\n",
    "! qiime composition ancombc \\\n",
    "    --i-table ./data/DA/table_abund_l7.qza \\\n",
    "    --m-metadata-file $data_dir/metadata/fungut_metadata_processed.tsv \\\n",
    "    --p-formula gluten_symptoms \\\n",
    "    --p-reference-levels gluten_symptoms::symptoms \\\n",
    "    --o-differentials ./data/DA/ancombc_gluten_differentials.qza\n",
    "\n",
    "# Generate a barplot of differentially abundant taxa between environments\n",
    "! qiime composition da-barplot \\\n",
    "    --i-data ./data/DA/ancombc_gluten_differentials.qza \\\n",
    "    --p-significance-threshold 0.1 \\\n",
    "    --o-visualization ./data/DA/ancombc_gluten_da_barplot.qzv\n",
    "\n",
    "# Generate a table of these same values for all taxa\n",
    "! qiime composition tabulate \\\n",
    "    --i-data ./data/DA/ancombc_gluten_differentials.qza \\\n",
    "    --o-visualization ./data/DA/ancombc_gluten_results.qzv"
   ]
  },
  {
   "cell_type": "code",
   "execution_count": 76,
   "id": "69e473f1-7197-46d6-a9b4-ddb6b5a22719",
   "metadata": {
    "tags": []
   },
   "outputs": [
    {
     "data": {
      "text/html": [
       "<div><img onload=\"(function(div, url){\n",
       "if (typeof require !== 'undefined') {\n",
       "    var baseURL = require.toUrl('').split('/').slice(0, -2).join('/');\n",
       "} else {\n",
       "    var baseURL = JSON.parse(\n",
       "        document.getElementById('jupyter-config-data').innerHTML\n",
       "    ).baseUrl.slice(0, -1);\n",
       "}\n",
       "url = baseURL + url;\n",
       "fetch(url).then(function(res) {\n",
       "    if (res.status === 404) {\n",
       "        div.innerHTML = 'Install QIIME 2 Jupyter extension with:<br />' +\n",
       "                        '<code>jupyter serverextension enable --py qiime2' +\n",
       "                        ' --sys-prefix</code><br />then restart your server.' +\n",
       "                        '<br /><br />(Interactive output not available on ' +\n",
       "                        'static notebook viewer services like nbviewer.)';\n",
       "    } else if (res.status === 409) {\n",
       "        div.innerHTML = 'Visualization no longer in scope. Re-run this cell' +\n",
       "                        ' to see the visualization.';\n",
       "    } else if (res.ok) {\n",
       "        url = res.url;\n",
       "        div.innerHTML = '<iframe src=\\'' + url + '\\' style=\\'' +\n",
       "                        'width: 100%; height: 700px; border: 0;\\'>' +\n",
       "                        '</iframe><hr />Open in a: <a href=\\'' + url + '\\'' +\n",
       "                        ' target=\\'_blank\\'>new window</a>'\n",
       "    } else {\n",
       "        div.innerHTML = 'Something has gone wrong. Check notebook server for' +\n",
       "                        ' errors.';\n",
       "    }\n",
       "});\n",
       "})(this.parentElement, '/qiime2/redirect?location=/tmp/qiime2/jovyan/data/14dba592-6351-4ee4-9ba3-239d4538646e')\" src=\"data:image/gif;base64,R0lGODlhAQABAIAAAP///wAAACH5BAEAAAAALAAAAAABAAEAAAICRAEAOw==\" /></div>"
      ],
      "text/plain": [
       "<visualization: Visualization uuid: 14dba592-6351-4ee4-9ba3-239d4538646e>"
      ]
     },
     "execution_count": 76,
     "metadata": {},
     "output_type": "execute_result"
    }
   ],
   "source": [
    "Visualization.load(\"./data/DA/ancombc_gluten_da_barplot.qzv\")"
   ]
  },
  {
   "cell_type": "code",
   "execution_count": 79,
   "id": "d958ba77-d89b-4959-b2f5-fd11037fc772",
   "metadata": {
    "tags": []
   },
   "outputs": [
    {
     "name": "stdout",
     "output_type": "stream",
     "text": [
      "\u001b[32mSaved FeatureData[DifferentialAbundance] to: ./data/DA/ancombc_country_differentials.qza\u001b[0m\n",
      "\u001b[0m\u001b[32mSaved Visualization to: ./data/DA/ancombc_country_da_barplot.qzv\u001b[0m\n",
      "\u001b[0m\u001b[32mSaved Visualization to: ./data/DA/ancombc_country_results.qzv\u001b[0m\n",
      "\u001b[0m"
     ]
    }
   ],
   "source": [
    "# Run ANCOM-BC\n",
    "! qiime composition ancombc \\\n",
    "    --i-table ./data/DA/table_abund_l7.qza \\\n",
    "    --m-metadata-file $data_dir/metadata/fungut_metadata_processed.tsv \\\n",
    "    --p-formula country_sample \\\n",
    "    --p-reference-levels country_sample::USA \\\n",
    "    --o-differentials ./data/DA/ancombc_country_differentials.qza\n",
    "\n",
    "# Generate a barplot of differentially abundant taxa between environments\n",
    "! qiime composition da-barplot \\\n",
    "    --i-data ./data/DA/ancombc_country_differentials.qza \\\n",
    "    --p-significance-threshold 0.1 \\\n",
    "    --o-visualization ./data/DA/ancombc_country_da_barplot.qzv\n",
    "\n",
    "# Generate a table of these same values for all taxa\n",
    "! qiime composition tabulate \\\n",
    "    --i-data ./data/DA/ancombc_country_differentials.qza \\\n",
    "    --o-visualization ./data/DA/ancombc_country_results.qzv"
   ]
  },
  {
   "cell_type": "code",
   "execution_count": 85,
   "id": "4541bcf4-353b-4be4-b46d-900abde522aa",
   "metadata": {
    "tags": []
   },
   "outputs": [
    {
     "data": {
      "text/html": [
       "<div><img onload=\"(function(div, url){\n",
       "if (typeof require !== 'undefined') {\n",
       "    var baseURL = require.toUrl('').split('/').slice(0, -2).join('/');\n",
       "} else {\n",
       "    var baseURL = JSON.parse(\n",
       "        document.getElementById('jupyter-config-data').innerHTML\n",
       "    ).baseUrl.slice(0, -1);\n",
       "}\n",
       "url = baseURL + url;\n",
       "fetch(url).then(function(res) {\n",
       "    if (res.status === 404) {\n",
       "        div.innerHTML = 'Install QIIME 2 Jupyter extension with:<br />' +\n",
       "                        '<code>jupyter serverextension enable --py qiime2' +\n",
       "                        ' --sys-prefix</code><br />then restart your server.' +\n",
       "                        '<br /><br />(Interactive output not available on ' +\n",
       "                        'static notebook viewer services like nbviewer.)';\n",
       "    } else if (res.status === 409) {\n",
       "        div.innerHTML = 'Visualization no longer in scope. Re-run this cell' +\n",
       "                        ' to see the visualization.';\n",
       "    } else if (res.ok) {\n",
       "        url = res.url;\n",
       "        div.innerHTML = '<iframe src=\\'' + url + '\\' style=\\'' +\n",
       "                        'width: 100%; height: 700px; border: 0;\\'>' +\n",
       "                        '</iframe><hr />Open in a: <a href=\\'' + url + '\\'' +\n",
       "                        ' target=\\'_blank\\'>new window</a>'\n",
       "    } else {\n",
       "        div.innerHTML = 'Something has gone wrong. Check notebook server for' +\n",
       "                        ' errors.';\n",
       "    }\n",
       "});\n",
       "})(this.parentElement, '/qiime2/redirect?location=/tmp/qiime2/jovyan/data/7d09a13c-3876-4b2c-a5cc-54618532e685')\" src=\"data:image/gif;base64,R0lGODlhAQABAIAAAP///wAAACH5BAEAAAAALAAAAAABAAEAAAICRAEAOw==\" /></div>"
      ],
      "text/plain": [
       "<visualization: Visualization uuid: 7d09a13c-3876-4b2c-a5cc-54618532e685>"
      ]
     },
     "execution_count": 85,
     "metadata": {},
     "output_type": "execute_result"
    }
   ],
   "source": [
    "Visualization.load(\"./data/DA/ancombc_country_da_barplot.qzv\")"
   ]
  },
  {
   "cell_type": "code",
   "execution_count": null,
   "id": "efccb3a9-2da6-48c4-af36-b384df929ecf",
   "metadata": {},
   "outputs": [],
   "source": []
  }
 ],
 "metadata": {
  "kernelspec": {
   "display_name": "QIIME 2",
   "language": "python",
   "name": "python3"
  },
  "language_info": {
   "codemirror_mode": {
    "name": "ipython",
    "version": 3
   },
   "file_extension": ".py",
   "mimetype": "text/x-python",
   "name": "python",
   "nbconvert_exporter": "python",
   "pygments_lexer": "ipython3",
   "version": "3.9.19"
  }
 },
 "nbformat": 4,
 "nbformat_minor": 5
}
