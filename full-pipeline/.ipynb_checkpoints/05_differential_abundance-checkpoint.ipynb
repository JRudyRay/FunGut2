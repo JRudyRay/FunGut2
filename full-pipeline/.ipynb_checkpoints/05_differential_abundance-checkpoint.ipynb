{
 "cells": [
  {
   "cell_type": "markdown",
   "id": "c0884d6c-967e-4fe0-9983-04ec57371fd2",
   "metadata": {},
   "source": [
    "# Differential Abundance Analysis\n",
    "### Load modules"
   ]
  },
  {
   "cell_type": "code",
   "execution_count": 28,
   "id": "def0b86d-41c3-4c45-8625-8183b1974852",
   "metadata": {
    "tags": []
   },
   "outputs": [],
   "source": [
    "import os # version: 3.9.19\n",
    "import sys # version: 3.9.19\n",
    "import pandas as pd # version: 2.2.2\n",
    "import qiime2 as q2 # version: 2024.5.0\n",
    "from qiime2 import Visualization\n",
    "%matplotlib inline\n",
    "\n",
    "# Define the data directory\n",
    "data_dir = './data'\n",
    "\n",
    "# display options for pandas. --> show full name of taxa\n",
    "pd.set_option('display.max_colwidth', None)"
   ]
  },
  {
   "cell_type": "markdown",
   "id": "86e86974-d6c1-4581-9951-463434182eed",
   "metadata": {},
   "source": [
    "### Filtering and Collapsing Feature Table\n",
    "First, we filter the feature table. We only keep features which appear overall at least **15 times**  and in **at least 2 different samples**. (Our feature table was already filtered after preprocessing of the metadata, therefore the input is called \"filtered-feature-table.qza\"). We would have liked to set higher thresholds, as this would lead to more robust results. But we also did not want to lose too many feautres.\n",
    "We start with 977 features which we retrieved from Dada2 Denoising."
   ]
  },
  {
   "cell_type": "code",
   "execution_count": 5,
   "id": "5fffee0e-4d78-4fba-925a-45cb111089a3",
   "metadata": {
    "tags": []
   },
   "outputs": [
    {
     "name": "stdout",
     "output_type": "stream",
     "text": [
      "\u001b[32mSaved FeatureTable[Frequency] to: ./data/DA/table_abund.qza\u001b[0m\n",
      "\u001b[0m"
     ]
    }
   ],
   "source": [
    "! qiime feature-table filter-features \\\n",
    "    --i-table ./data/filtered-feature-table.qza \\\n",
    "    --p-min-frequency 15 \\\n",
    "    --p-min-samples 2 \\\n",
    "    --o-filtered-table ./data/DA/table_abund.qza"
   ]
  },
  {
   "cell_type": "markdown",
   "id": "5b5cb94a-16d3-4d61-be7f-024863045e0b",
   "metadata": {},
   "source": [
    "#### Check filtered feature table"
   ]
  },
  {
   "cell_type": "code",
   "execution_count": 6,
   "id": "510708c5-348c-4ab4-b9fa-7741931eb42d",
   "metadata": {
    "tags": []
   },
   "outputs": [
    {
     "name": "stdout",
     "output_type": "stream",
     "text": [
      "\u001b[32mSaved Visualization to: ./data/DA/table_abund_summary.qzv\u001b[0m\n",
      "\u001b[0m"
     ]
    }
   ],
   "source": [
    "!qiime feature-table summarize\\\n",
    "    --i-table ./data/DA/table_abund.qza \\\n",
    "    --o-visualization ./data/DA/table_abund_summary.qzv"
   ]
  },
  {
   "cell_type": "code",
   "execution_count": null,
   "id": "53237d0f-c767-4e52-81df-2e97446d8959",
   "metadata": {
    "tags": []
   },
   "outputs": [],
   "source": [
    "Visualization.load('./data/DA/table_abund_summary.qzv')"
   ]
  },
  {
   "cell_type": "markdown",
   "id": "e5e2593f-7b09-46be-ab66-42bd1b4baf16",
   "metadata": {},
   "source": [
    "After filtering we are left with 132 relevant features\n",
    "\n",
    "Next we collapse our features at level 7. If we take a higher level (e.g. 6) we have not enough features left."
   ]
  },
  {
   "cell_type": "code",
   "execution_count": 8,
   "id": "d40e11b9-7997-42ad-b1e4-4250b59f8613",
   "metadata": {
    "tags": []
   },
   "outputs": [
    {
     "name": "stdout",
     "output_type": "stream",
     "text": [
      "\u001b[32mSaved FeatureTable[Frequency] to: ./data/DA/table_abund_l7.qza\u001b[0m\n",
      "\u001b[0m"
     ]
    }
   ],
   "source": [
    "! qiime taxa collapse \\\n",
    "    --i-table ./data/DA/table_abund.qza \\\n",
    "    --i-taxonomy $data_dir/taxonomy_classification/taxonomy_unite_dynamic_s_all.qza \\\n",
    "    --p-level 7 \\\n",
    "    --o-collapsed-table ./data/DA/table_abund_l7.qza"
   ]
  },
  {
   "cell_type": "markdown",
   "id": "cd90a87c-598d-4cfa-9191-571d24cfddba",
   "metadata": {},
   "source": [
    "Then we again check the feature table and see that we are now left with 71 features"
   ]
  },
  {
   "cell_type": "code",
   "execution_count": 13,
   "id": "35cbdcda-1164-4401-bc28-cee9f8b70003",
   "metadata": {
    "tags": []
   },
   "outputs": [
    {
     "name": "stdout",
     "output_type": "stream",
     "text": [
      "\u001b[32mSaved Visualization to: ./data/DA/l7_table_abund_summary.qzv\u001b[0m\n",
      "\u001b[0m"
     ]
    }
   ],
   "source": [
    "!qiime feature-table summarize\\\n",
    "    --i-table ./data/DA/table_abund_l7.qza \\\n",
    "    --o-visualization ./data/DA/l7_table_abund_summary.qzv"
   ]
  },
  {
   "cell_type": "code",
   "execution_count": null,
   "id": "23059fbe-b934-4c8f-b45c-d7c96bd9012e",
   "metadata": {
    "tags": []
   },
   "outputs": [],
   "source": [
    "Visualization.load('./data/DA/l7_table_abund_summary.qzv')"
   ]
  },
  {
   "cell_type": "markdown",
   "id": "6d5cd2c3-decb-434a-a551-86884a2596e2",
   "metadata": {
    "tags": []
   },
   "source": [
    "# ANCOMBC\n",
    "The next step will be the diffential abundance anlysis with ANCOMBC. We do a pariwise comparison for both diseases (gluten and IBD) as well between rural and urban living areas. We set the p-value to 0.1\n"
   ]
  },
  {
   "cell_type": "markdown",
   "id": "a943745d-6cee-45eb-a7ab-9fb625bb8ef0",
   "metadata": {
    "jp-MarkdownHeadingCollapsed": true,
    "tags": []
   },
   "source": [
    "### URBAN ANCOMBC"
   ]
  },
  {
   "cell_type": "code",
   "execution_count": 21,
   "id": "a78acfe0-5865-4153-8655-8276dcd3f76f",
   "metadata": {
    "tags": []
   },
   "outputs": [
    {
     "name": "stdout",
     "output_type": "stream",
     "text": [
      "\u001b[32mSaved FeatureData[DifferentialAbundance] to: ./data/DA/ancombc_urban_differentials.qza\u001b[0m\n",
      "\u001b[0m\u001b[32mSaved Visualization to: ./data/DA/ancombc_urban_da_barplot.qzv\u001b[0m\n",
      "\u001b[0m\u001b[32mSaved Visualization to: ./data/DA/ancombc_urban_results.qzv\u001b[0m\n",
      "\u001b[0m"
     ]
    }
   ],
   "source": [
    "# Run ANCOM-BC\n",
    "! qiime composition ancombc \\\n",
    "    --i-table ./data/DA/table_abund_l7.qza \\\n",
    "    --m-metadata-file $data_dir/metadata/fungut_metadata_processed.tsv \\\n",
    "    --p-formula is_urban \\\n",
    "    --p-reference-levels 'is_urban::True' \\\n",
    "    --o-differentials ./data/DA/ancombc_urban_differentials.qza\n",
    "\n",
    "# Generate a barplot of differentially abundant taxa between environments\n",
    "! qiime composition da-barplot \\\n",
    "    --i-data ./data/DA/ancombc_urban_differentials.qza \\\n",
    "    --p-significance-threshold 0.05 \\\n",
    "    --o-visualization ./data/DA/ancombc_urban_da_barplot.qzv\n",
    "\n",
    "# Generate a table of these same values for all taxa\n",
    "! qiime composition tabulate \\\n",
    "    --i-data ./data/DA/ancombc_urban_differentials.qza \\\n",
    "    --o-visualization ./data/DA/ancombc_urban_results.qzv"
   ]
  },
  {
   "cell_type": "code",
   "execution_count": 3,
   "id": "282645d5-ef68-4d95-b21d-0742006d8602",
   "metadata": {
    "tags": []
   },
   "outputs": [
    {
     "data": {
      "text/html": [
       "<div><img onload=\"(function(div, url){\n",
       "if (typeof require !== 'undefined') {\n",
       "    var baseURL = require.toUrl('').split('/').slice(0, -2).join('/');\n",
       "} else {\n",
       "    var baseURL = JSON.parse(\n",
       "        document.getElementById('jupyter-config-data').innerHTML\n",
       "    ).baseUrl.slice(0, -1);\n",
       "}\n",
       "url = baseURL + url;\n",
       "fetch(url).then(function(res) {\n",
       "    if (res.status === 404) {\n",
       "        div.innerHTML = 'Install QIIME 2 Jupyter extension with:<br />' +\n",
       "                        '<code>jupyter serverextension enable --py qiime2' +\n",
       "                        ' --sys-prefix</code><br />then restart your server.' +\n",
       "                        '<br /><br />(Interactive output not available on ' +\n",
       "                        'static notebook viewer services like nbviewer.)';\n",
       "    } else if (res.status === 409) {\n",
       "        div.innerHTML = 'Visualization no longer in scope. Re-run this cell' +\n",
       "                        ' to see the visualization.';\n",
       "    } else if (res.ok) {\n",
       "        url = res.url;\n",
       "        div.innerHTML = '<iframe src=\\'' + url + '\\' style=\\'' +\n",
       "                        'width: 100%; height: 700px; border: 0;\\'>' +\n",
       "                        '</iframe><hr />Open in a: <a href=\\'' + url + '\\'' +\n",
       "                        ' target=\\'_blank\\'>new window</a>'\n",
       "    } else {\n",
       "        div.innerHTML = 'Something has gone wrong. Check notebook server for' +\n",
       "                        ' errors.';\n",
       "    }\n",
       "});\n",
       "})(this.parentElement, '/qiime2/redirect?location=/tmp/qiime2/jovyan/data/ecd3ae6f-a3d0-4311-ac54-251bd7b4a1cf')\" src=\"data:image/gif;base64,R0lGODlhAQABAIAAAP///wAAACH5BAEAAAAALAAAAAABAAEAAAICRAEAOw==\" /></div>"
      ],
      "text/plain": [
       "<visualization: Visualization uuid: ecd3ae6f-a3d0-4311-ac54-251bd7b4a1cf>"
      ]
     },
     "execution_count": 3,
     "metadata": {},
     "output_type": "execute_result"
    }
   ],
   "source": [
    "Visualization.load(\"./data/DA/ancombc_urban_da_barplot.qzv\")"
   ]
  },
  {
   "cell_type": "markdown",
   "id": "875eefcd-bd72-4704-84c6-671d177d9450",
   "metadata": {
    "jp-MarkdownHeadingCollapsed": true,
    "tags": []
   },
   "source": [
    "### IBD ANCOMBC"
   ]
  },
  {
   "cell_type": "code",
   "execution_count": 77,
   "id": "9e3580c7-db70-4ac1-8a75-baa26520ce2c",
   "metadata": {
    "tags": []
   },
   "outputs": [
    {
     "name": "stdout",
     "output_type": "stream",
     "text": [
      "\u001b[32mSaved FeatureData[DifferentialAbundance] to: ./data/DA/ancombc_ibd_differentials.qza\u001b[0m\n",
      "\u001b[0m\u001b[32mSaved Visualization to: ./data/DA/ancombc_ibd_da_barplot.qzv\u001b[0m\n",
      "\u001b[0m\u001b[32mSaved Visualization to: ./data/DA/ancombc_ibd_results.qzv\u001b[0m\n",
      "\u001b[0m"
     ]
    }
   ],
   "source": [
    "# Run ANCOM-BC\n",
    "! qiime composition ancombc \\\n",
    "    --i-table ./data/DA/table_abund_l7.qza \\\n",
    "    --m-metadata-file $data_dir/metadata/fungut_metadata_processed.tsv \\\n",
    "    --p-formula ibd_symptoms \\\n",
    "    --p-reference-levels ibd_symptoms::symptoms \\\n",
    "    --o-differentials ./data/DA/ancombc_ibd_differentials.qza\n",
    "\n",
    "# Generate a barplot of differentially abundant taxa between environments\n",
    "! qiime composition da-barplot \\\n",
    "    --i-data ./data/DA/ancombc_ibd_differentials.qza \\\n",
    "    --p-significance-threshold 0.05 \\\n",
    "    --o-visualization ./data/DA/ancombc_ibd_da_barplot.qzv\n",
    "\n",
    "# Generate a table of these same values for all taxa\n",
    "! qiime composition tabulate \\\n",
    "    --i-data ./data/DA/ancombc_ibd_differentials.qza \\\n",
    "    --o-visualization ./data/DA/ancombc_ibd_results.qzv"
   ]
  },
  {
   "cell_type": "code",
   "execution_count": 5,
   "id": "e4955743-f520-4043-a51b-4f27e6b69345",
   "metadata": {
    "tags": []
   },
   "outputs": [
    {
     "data": {
      "text/html": [
       "<div><img onload=\"(function(div, url){\n",
       "if (typeof require !== 'undefined') {\n",
       "    var baseURL = require.toUrl('').split('/').slice(0, -2).join('/');\n",
       "} else {\n",
       "    var baseURL = JSON.parse(\n",
       "        document.getElementById('jupyter-config-data').innerHTML\n",
       "    ).baseUrl.slice(0, -1);\n",
       "}\n",
       "url = baseURL + url;\n",
       "fetch(url).then(function(res) {\n",
       "    if (res.status === 404) {\n",
       "        div.innerHTML = 'Install QIIME 2 Jupyter extension with:<br />' +\n",
       "                        '<code>jupyter serverextension enable --py qiime2' +\n",
       "                        ' --sys-prefix</code><br />then restart your server.' +\n",
       "                        '<br /><br />(Interactive output not available on ' +\n",
       "                        'static notebook viewer services like nbviewer.)';\n",
       "    } else if (res.status === 409) {\n",
       "        div.innerHTML = 'Visualization no longer in scope. Re-run this cell' +\n",
       "                        ' to see the visualization.';\n",
       "    } else if (res.ok) {\n",
       "        url = res.url;\n",
       "        div.innerHTML = '<iframe src=\\'' + url + '\\' style=\\'' +\n",
       "                        'width: 100%; height: 700px; border: 0;\\'>' +\n",
       "                        '</iframe><hr />Open in a: <a href=\\'' + url + '\\'' +\n",
       "                        ' target=\\'_blank\\'>new window</a>'\n",
       "    } else {\n",
       "        div.innerHTML = 'Something has gone wrong. Check notebook server for' +\n",
       "                        ' errors.';\n",
       "    }\n",
       "});\n",
       "})(this.parentElement, '/qiime2/redirect?location=/tmp/qiime2/jovyan/data/6dbc0251-7b3e-45e1-a33a-5b28b62fb276')\" src=\"data:image/gif;base64,R0lGODlhAQABAIAAAP///wAAACH5BAEAAAAALAAAAAABAAEAAAICRAEAOw==\" /></div>"
      ],
      "text/plain": [
       "<visualization: Visualization uuid: 6dbc0251-7b3e-45e1-a33a-5b28b62fb276>"
      ]
     },
     "execution_count": 5,
     "metadata": {},
     "output_type": "execute_result"
    }
   ],
   "source": [
    "Visualization.load(\"./data/DA/ancombc_ibd_da_barplot.qzv\")"
   ]
  },
  {
   "cell_type": "markdown",
   "id": "e391eec8-7257-44a4-ad5a-ac4520b08eeb",
   "metadata": {
    "jp-MarkdownHeadingCollapsed": true,
    "tags": []
   },
   "source": [
    "### Gluten ANCOMBC"
   ]
  },
  {
   "cell_type": "code",
   "execution_count": 166,
   "id": "5d215eed-9bf0-42ca-a92b-daa68520f2fd",
   "metadata": {
    "tags": []
   },
   "outputs": [
    {
     "name": "stdout",
     "output_type": "stream",
     "text": [
      "\u001b[32mSaved FeatureData[DifferentialAbundance] to: ./data/DA/ancombc_gluten_differentials.qza\u001b[0m\n",
      "\u001b[0m\u001b[32mSaved Visualization to: ./data/DA/ancombc_gluten_da_barplot.qzv\u001b[0m\n",
      "\u001b[0m\u001b[32mSaved Visualization to: ./data/DA/ancombc_gluten_results.qzv\u001b[0m\n",
      "\u001b[0m"
     ]
    }
   ],
   "source": [
    "# Run ANCOM-BC\n",
    "! qiime composition ancombc \\\n",
    "    --i-table ./data/DA/table_abund_l7.qza \\\n",
    "    --m-metadata-file $data_dir/metadata/fungut_metadata_processed.tsv \\\n",
    "    --p-formula gluten_symptoms \\\n",
    "    --p-reference-levels gluten_symptoms::symptoms \\\n",
    "    --o-differentials ./data/DA/ancombc_gluten_differentials.qza\n",
    "\n",
    "# Generate a barplot of differentially abundant taxa between environments\n",
    "! qiime composition da-barplot \\\n",
    "    --i-data ./data/DA/ancombc_gluten_differentials.qza \\\n",
    "    --p-significance-threshold 0.1 \\\n",
    "    --o-visualization ./data/DA/ancombc_gluten_da_barplot.qzv\n",
    "\n",
    "# Generate a table of these same values for all taxa\n",
    "! qiime composition tabulate \\\n",
    "    --i-data ./data/DA/ancombc_gluten_differentials.qza \\\n",
    "    --o-visualization ./data/DA/ancombc_gluten_results.qzv"
   ]
  },
  {
   "cell_type": "code",
   "execution_count": null,
   "id": "69e473f1-7197-46d6-a9b4-ddb6b5a22719",
   "metadata": {
    "tags": []
   },
   "outputs": [],
   "source": [
    "Visualization.load(\"./data/DA/ancombc_gluten_da_barplot.qzv\")"
   ]
  },
  {
   "cell_type": "markdown",
   "id": "98bb1c0a-66cd-4866-a370-937f49c95718",
   "metadata": {},
   "source": [
    "The following blocks are to export the results and load them as data frame. With that we can easily play around with the q-value threshold and which comparisons we want to include or not. For example do we not consider the comparisons to the 'not provided' group."
   ]
  },
  {
   "cell_type": "code",
   "execution_count": 167,
   "id": "b1d211ef-69b9-43a2-86c0-6f4bbdf42a80",
   "metadata": {
    "tags": []
   },
   "outputs": [
    {
     "name": "stdout",
     "output_type": "stream",
     "text": [
      "\u001b[32mExported ./data/DA/ancombc_gluten_differentials.qza as DataLoafPackageDirFmt to directory ./data/DA/exports/gluten\u001b[0m\n",
      "\u001b[0m"
     ]
    }
   ],
   "source": [
    "! qiime tools export \\\n",
    "        --input-path $data_dir/DA/ancombc_gluten_differentials.qza \\\n",
    "        --output-path $data_dir/DA/exports/gluten"
   ]
  },
  {
   "cell_type": "code",
   "execution_count": 169,
   "id": "a181fb93-5e49-4a00-9c8b-b588b3dfe6fa",
   "metadata": {
    "tags": []
   },
   "outputs": [
    {
     "data": {
      "text/html": [
       "<div>\n",
       "<style scoped>\n",
       "    .dataframe tbody tr th:only-of-type {\n",
       "        vertical-align: middle;\n",
       "    }\n",
       "\n",
       "    .dataframe tbody tr th {\n",
       "        vertical-align: top;\n",
       "    }\n",
       "\n",
       "    .dataframe thead th {\n",
       "        text-align: right;\n",
       "    }\n",
       "</style>\n",
       "<table border=\"1\" class=\"dataframe\">\n",
       "  <thead>\n",
       "    <tr style=\"text-align: right;\">\n",
       "      <th></th>\n",
       "      <th>Genus</th>\n",
       "      <th>Species</th>\n",
       "      <th>Group</th>\n",
       "      <th>LFC</th>\n",
       "    </tr>\n",
       "  </thead>\n",
       "  <tbody>\n",
       "  </tbody>\n",
       "</table>\n",
       "</div>"
      ],
      "text/plain": [
       "Empty DataFrame\n",
       "Columns: [Genus, Species, Group, LFC]\n",
       "Index: []"
      ]
     },
     "execution_count": 169,
     "metadata": {},
     "output_type": "execute_result"
    }
   ],
   "source": [
    "qval = pd.read_csv(f'{data_dir}/DA/exports/gluten/q_val_slice.csv')\n",
    "lfc = pd.read_csv(f'{data_dir}/DA/exports/gluten/lfc_slice.csv')\n",
    "\n",
    "combined_df = pd.DataFrame()\n",
    "for i in (\"gluten_symptomsno_symptoms\",):\n",
    "    group = i\n",
    "\n",
    "    #extract genus\n",
    "    lfc['Genus'] = lfc['id'].str.extract(r'(g__[^;]+)')\n",
    "    lfc['Genus'] = lfc['Genus'].str.replace('g__', '', regex=False)\n",
    "    #extract species\n",
    "    lfc['Species'] = lfc['id'].str.extract(r'(s__[^;]+)')\n",
    "    lfc['Species'] = lfc['Species'].str.replace('s__', '', regex=False)\n",
    "\n",
    "    lfc['Group'] = group\n",
    "    lfc['Group'] = lfc['Group'].str.replace('gluten_symptoms', '', regex=False)\n",
    "\n",
    "    lfc['LFC'] = lfc[group]\n",
    "    lfc['LFC'] = lfc[group].round(2)\n",
    "\n",
    "\n",
    "    # Select only numeric columns\n",
    "    numeric_df = qval.select_dtypes(include='number')\n",
    "\n",
    "    # Find rows with any value up to one\n",
    "    mask = numeric_df.lt(0.05)[group]\n",
    "\n",
    "    # Filter the original DataFrame using the mask\n",
    "    output = lfc[mask]\n",
    "\n",
    "    output = output.iloc[:, -4:].sort_values(by='LFC', ascending=False)\n",
    "    \n",
    "    combined_df = pd.concat([combined_df, output], ignore_index=True)\n",
    "    \n",
    "combined_df = combined_df.dropna(subset=['Genus'])\n",
    "combined_df"
   ]
  },
  {
   "cell_type": "markdown",
   "id": "0465fabd-5220-4393-bf18-7fe569dd5332",
   "metadata": {
    "jp-MarkdownHeadingCollapsed": true,
    "tags": []
   },
   "source": [
    "### Country (compare to USA)"
   ]
  },
  {
   "cell_type": "code",
   "execution_count": 47,
   "id": "d958ba77-d89b-4959-b2f5-fd11037fc772",
   "metadata": {
    "tags": []
   },
   "outputs": [
    {
     "name": "stdout",
     "output_type": "stream",
     "text": [
      "\u001b[32mSaved FeatureData[DifferentialAbundance] to: ./data/DA/ancombc_country_differentials.qza\u001b[0m\n",
      "\u001b[0m\u001b[32mSaved Visualization to: ./data/DA/ancombc_country_da_barplot.qzv\u001b[0m\n",
      "\u001b[0m\u001b[32mSaved Visualization to: ./data/DA/ancombc_country_results.qzv\u001b[0m\n",
      "\u001b[0m"
     ]
    }
   ],
   "source": [
    "# Run ANCOM-BC\n",
    "! qiime composition ancombc \\\n",
    "    --i-table ./data/DA/table_abund_l7.qza \\\n",
    "    --m-metadata-file $data_dir/metadata/fungut_metadata_processed.tsv \\\n",
    "    --p-formula country_sample \\\n",
    "    --p-reference-levels country_sample::USA \\\n",
    "    --o-differentials ./data/DA/ancombc_country_differentials.qza\n",
    "\n",
    "# Generate a barplot of differentially abundant taxa between environments\n",
    "! qiime composition da-barplot \\\n",
    "    --i-data ./data/DA/ancombc_country_differentials.qza \\\n",
    "    --p-significance-threshold 0.05 \\\n",
    "    --o-visualization ./data/DA/ancombc_country_da_barplot.qzv\n",
    "\n",
    "# Generate a table of these same values for all taxa\n",
    "! qiime composition tabulate \\\n",
    "    --i-data ./data/DA/ancombc_country_differentials.qza \\\n",
    "    --o-visualization ./data/DA/ancombc_country_results.qzv"
   ]
  },
  {
   "cell_type": "code",
   "execution_count": null,
   "id": "4541bcf4-353b-4be4-b46d-900abde522aa",
   "metadata": {
    "tags": []
   },
   "outputs": [],
   "source": [
    "Visualization.load(\"./data/DA/ancombc_country_da_barplot.qzv\")"
   ]
  },
  {
   "cell_type": "markdown",
   "id": "97e13873-463c-452c-9667-569c111ecf0b",
   "metadata": {},
   "source": [
    "In the following blocks do we export the results and load them into a data frame. Then we can filter significant results and print those log fold changes. And finaly we combine them all into one table"
   ]
  },
  {
   "cell_type": "code",
   "execution_count": 19,
   "id": "68a8f4f4-ba0f-4206-b32e-71a18e300d4d",
   "metadata": {
    "tags": []
   },
   "outputs": [
    {
     "name": "stdout",
     "output_type": "stream",
     "text": [
      "\u001b[32mExported ./data/DA/ancombc_country_differentials.qza as DataLoafPackageDirFmt to directory ./data/DA/exports/country\u001b[0m\n",
      "\u001b[0m"
     ]
    }
   ],
   "source": [
    "! qiime tools export \\\n",
    "        --input-path $data_dir/DA/ancombc_country_differentials.qza \\\n",
    "        --output-path $data_dir/DA/exports/country"
   ]
  },
  {
   "cell_type": "code",
   "execution_count": 124,
   "id": "22f75413-0fb4-418f-9a71-b5df8fef18f1",
   "metadata": {
    "tags": []
   },
   "outputs": [
    {
     "data": {
      "text/html": [
       "<div>\n",
       "<style scoped>\n",
       "    .dataframe tbody tr th:only-of-type {\n",
       "        vertical-align: middle;\n",
       "    }\n",
       "\n",
       "    .dataframe tbody tr th {\n",
       "        vertical-align: top;\n",
       "    }\n",
       "\n",
       "    .dataframe thead th {\n",
       "        text-align: right;\n",
       "    }\n",
       "</style>\n",
       "<table border=\"1\" class=\"dataframe\">\n",
       "  <thead>\n",
       "    <tr style=\"text-align: right;\">\n",
       "      <th></th>\n",
       "      <th>Genus</th>\n",
       "      <th>Species</th>\n",
       "      <th>Group</th>\n",
       "      <th>LFC</th>\n",
       "    </tr>\n",
       "  </thead>\n",
       "  <tbody>\n",
       "    <tr>\n",
       "      <th>0</th>\n",
       "      <td>Trichosporon</td>\n",
       "      <td>Trichosporon_ovoides</td>\n",
       "      <td>Germany</td>\n",
       "      <td>10.91</td>\n",
       "    </tr>\n",
       "    <tr>\n",
       "      <th>1</th>\n",
       "      <td>Candida</td>\n",
       "      <td>Candida_parapsilosis</td>\n",
       "      <td>Germany</td>\n",
       "      <td>1.77</td>\n",
       "    </tr>\n",
       "    <tr>\n",
       "      <th>2</th>\n",
       "      <td>Fungi_gen_Incertae_sedis</td>\n",
       "      <td>Fungi_sp</td>\n",
       "      <td>Germany</td>\n",
       "      <td>1.58</td>\n",
       "    </tr>\n",
       "    <tr>\n",
       "      <th>3</th>\n",
       "      <td>Penicillium</td>\n",
       "      <td>Penicillium_roqueforti</td>\n",
       "      <td>Germany</td>\n",
       "      <td>1.45</td>\n",
       "    </tr>\n",
       "    <tr>\n",
       "      <th>4</th>\n",
       "      <td>Suhomyces</td>\n",
       "      <td>Suhomyces_kilbournensis</td>\n",
       "      <td>Germany</td>\n",
       "      <td>0.73</td>\n",
       "    </tr>\n",
       "    <tr>\n",
       "      <th>5</th>\n",
       "      <td>Pichia</td>\n",
       "      <td>Pichia_kudriavzevii</td>\n",
       "      <td>Germany</td>\n",
       "      <td>-0.98</td>\n",
       "    </tr>\n",
       "    <tr>\n",
       "      <th>6</th>\n",
       "      <td>Candida</td>\n",
       "      <td>Candida_albicans</td>\n",
       "      <td>Germany</td>\n",
       "      <td>-1.27</td>\n",
       "    </tr>\n",
       "    <tr>\n",
       "      <th>7</th>\n",
       "      <td>Penicillium</td>\n",
       "      <td>Penicillium_roqueforti</td>\n",
       "      <td>Australia</td>\n",
       "      <td>-1.43</td>\n",
       "    </tr>\n",
       "    <tr>\n",
       "      <th>8</th>\n",
       "      <td>Aspergillus</td>\n",
       "      <td>NaN</td>\n",
       "      <td>Australia</td>\n",
       "      <td>-1.61</td>\n",
       "    </tr>\n",
       "    <tr>\n",
       "      <th>10</th>\n",
       "      <td>Suhomyces</td>\n",
       "      <td>Suhomyces_kilbournensis</td>\n",
       "      <td>Isle of Man</td>\n",
       "      <td>1.95</td>\n",
       "    </tr>\n",
       "    <tr>\n",
       "      <th>11</th>\n",
       "      <td>Fungi_gen_Incertae_sedis</td>\n",
       "      <td>Fungi_sp</td>\n",
       "      <td>Isle of Man</td>\n",
       "      <td>-0.86</td>\n",
       "    </tr>\n",
       "    <tr>\n",
       "      <th>12</th>\n",
       "      <td>Candida</td>\n",
       "      <td>Candida_albicans</td>\n",
       "      <td>Isle of Man</td>\n",
       "      <td>-1.27</td>\n",
       "    </tr>\n",
       "    <tr>\n",
       "      <th>13</th>\n",
       "      <td>Penicillium</td>\n",
       "      <td>Penicillium_roqueforti</td>\n",
       "      <td>Isle of Man</td>\n",
       "      <td>-1.37</td>\n",
       "    </tr>\n",
       "    <tr>\n",
       "      <th>14</th>\n",
       "      <td>Candida</td>\n",
       "      <td>Candida_parapsilosis</td>\n",
       "      <td>Isle of Man</td>\n",
       "      <td>-1.50</td>\n",
       "    </tr>\n",
       "    <tr>\n",
       "      <th>15</th>\n",
       "      <td>Suhomyces</td>\n",
       "      <td>Suhomyces_kilbournensis</td>\n",
       "      <td>United Kingdom</td>\n",
       "      <td>1.85</td>\n",
       "    </tr>\n",
       "    <tr>\n",
       "      <th>16</th>\n",
       "      <td>Mucor</td>\n",
       "      <td>Mucor_circinelloides</td>\n",
       "      <td>United Kingdom</td>\n",
       "      <td>-0.68</td>\n",
       "    </tr>\n",
       "    <tr>\n",
       "      <th>17</th>\n",
       "      <td>Aspergillus</td>\n",
       "      <td>Aspergillus_sp</td>\n",
       "      <td>United Kingdom</td>\n",
       "      <td>-0.97</td>\n",
       "    </tr>\n",
       "    <tr>\n",
       "      <th>18</th>\n",
       "      <td>Penicillium</td>\n",
       "      <td>Penicillium_sp</td>\n",
       "      <td>Sweden</td>\n",
       "      <td>11.02</td>\n",
       "    </tr>\n",
       "    <tr>\n",
       "      <th>19</th>\n",
       "      <td>Suhomyces</td>\n",
       "      <td>Suhomyces_kilbournensis</td>\n",
       "      <td>Sweden</td>\n",
       "      <td>5.07</td>\n",
       "    </tr>\n",
       "    <tr>\n",
       "      <th>20</th>\n",
       "      <td>Penicillium</td>\n",
       "      <td>Penicillium_roqueforti</td>\n",
       "      <td>Sweden</td>\n",
       "      <td>2.89</td>\n",
       "    </tr>\n",
       "    <tr>\n",
       "      <th>21</th>\n",
       "      <td>Fungi_gen_Incertae_sedis</td>\n",
       "      <td>Fungi_sp</td>\n",
       "      <td>Sweden</td>\n",
       "      <td>1.86</td>\n",
       "    </tr>\n",
       "    <tr>\n",
       "      <th>22</th>\n",
       "      <td>Candida</td>\n",
       "      <td>Candida_parapsilosis</td>\n",
       "      <td>Sweden</td>\n",
       "      <td>-1.49</td>\n",
       "    </tr>\n",
       "  </tbody>\n",
       "</table>\n",
       "</div>"
      ],
      "text/plain": [
       "                       Genus                  Species           Group    LFC\n",
       "0               Trichosporon     Trichosporon_ovoides         Germany  10.91\n",
       "1                    Candida     Candida_parapsilosis         Germany   1.77\n",
       "2   Fungi_gen_Incertae_sedis                 Fungi_sp         Germany   1.58\n",
       "3                Penicillium   Penicillium_roqueforti         Germany   1.45\n",
       "4                  Suhomyces  Suhomyces_kilbournensis         Germany   0.73\n",
       "5                     Pichia      Pichia_kudriavzevii         Germany  -0.98\n",
       "6                    Candida         Candida_albicans         Germany  -1.27\n",
       "7                Penicillium   Penicillium_roqueforti       Australia  -1.43\n",
       "8                Aspergillus                      NaN       Australia  -1.61\n",
       "10                 Suhomyces  Suhomyces_kilbournensis     Isle of Man   1.95\n",
       "11  Fungi_gen_Incertae_sedis                 Fungi_sp     Isle of Man  -0.86\n",
       "12                   Candida         Candida_albicans     Isle of Man  -1.27\n",
       "13               Penicillium   Penicillium_roqueforti     Isle of Man  -1.37\n",
       "14                   Candida     Candida_parapsilosis     Isle of Man  -1.50\n",
       "15                 Suhomyces  Suhomyces_kilbournensis  United Kingdom   1.85\n",
       "16                     Mucor     Mucor_circinelloides  United Kingdom  -0.68\n",
       "17               Aspergillus           Aspergillus_sp  United Kingdom  -0.97\n",
       "18               Penicillium           Penicillium_sp          Sweden  11.02\n",
       "19                 Suhomyces  Suhomyces_kilbournensis          Sweden   5.07\n",
       "20               Penicillium   Penicillium_roqueforti          Sweden   2.89\n",
       "21  Fungi_gen_Incertae_sedis                 Fungi_sp          Sweden   1.86\n",
       "22                   Candida     Candida_parapsilosis          Sweden  -1.49"
      ]
     },
     "execution_count": 124,
     "metadata": {},
     "output_type": "execute_result"
    }
   ],
   "source": [
    "qval = pd.read_csv(f'{data_dir}/DA/exports/country/q_val_slice.csv')\n",
    "lfc = pd.read_csv(f'{data_dir}/DA/exports/country/lfc_slice.csv')\n",
    "\n",
    "combined_df = pd.DataFrame()\n",
    "for i in ('country_sampleGermany', 'country_sampleAustralia', 'country_sampleIsle of Man', 'country_sampleUnited Kingdom', 'country_sampleSweden'):\n",
    "    group = i\n",
    "\n",
    "    #extract genus\n",
    "    lfc['Genus'] = lfc['id'].str.extract(r'(g__[^;]+)')\n",
    "    lfc['Genus'] = lfc['Genus'].str.replace('g__', '', regex=False)\n",
    "    #extract species\n",
    "    lfc['Species'] = lfc['id'].str.extract(r'(s__[^;]+)')\n",
    "    lfc['Species'] = lfc['Species'].str.replace('s__', '', regex=False)\n",
    "\n",
    "    lfc['Group'] = group\n",
    "    lfc['Group'] = lfc['Group'].str.replace('country_sample', '', regex=False)\n",
    "\n",
    "    lfc['LFC'] = lfc[group] + lfc['(Intercept)']\n",
    "    lfc['LFC'] = lfc[group].round(2)\n",
    "\n",
    "\n",
    "    # Select only numeric columns\n",
    "    numeric_df = qval.select_dtypes(include='number')\n",
    "\n",
    "    # Find rows with any value less than 0.05\n",
    "    mask = numeric_df.lt(0.05)[group]\n",
    "\n",
    "    # Filter the original DataFrame using the mask\n",
    "    output = lfc[mask]\n",
    "\n",
    "    output = output.iloc[:, -4:].sort_values(by='LFC', ascending=False)\n",
    "    \n",
    "    combined_df = pd.concat([combined_df, output], ignore_index=True)\n",
    "    \n",
    "combined_df = combined_df.dropna(subset=['Genus'])\n",
    "combined_df"
   ]
  },
  {
   "cell_type": "markdown",
   "id": "ae8e11e3-78a7-4cf5-9332-12592e3ee576",
   "metadata": {
    "jp-MarkdownHeadingCollapsed": true,
    "tags": []
   },
   "source": [
    "### Diet type (compared to Omnivore)"
   ]
  },
  {
   "cell_type": "code",
   "execution_count": 15,
   "id": "67aab4cb-1aa4-4b3e-9ede-62420c06f466",
   "metadata": {
    "tags": []
   },
   "outputs": [
    {
     "name": "stdout",
     "output_type": "stream",
     "text": [
      "\u001b[32mSaved FeatureData[DifferentialAbundance] to: ./data/DA/ancombc_diet_differentials.qza\u001b[0m\n",
      "\u001b[0m\u001b[32mSaved Visualization to: ./data/DA/ancombc_diet_da_barplot.qzv\u001b[0m\n",
      "\u001b[0m\u001b[32mSaved Visualization to: ./data/DA/ancombc_diet_results.qzv\u001b[0m\n",
      "\u001b[0m"
     ]
    }
   ],
   "source": [
    "# Run ANCOM-BC\n",
    "! qiime composition ancombc \\\n",
    "    --i-table ./data/DA/table_abund_l7.qza \\\n",
    "    --m-metadata-file $data_dir/metadata/fungut_metadata_processed.tsv \\\n",
    "    --p-formula diet_type_sample \\\n",
    "    --p-reference-levels diet_type_sample::Omnivore \\\n",
    "    --o-differentials ./data/DA/ancombc_diet_differentials.qza\n",
    "\n",
    "# Generate a barplot of differentially abundant taxa between environments\n",
    "! qiime composition da-barplot \\\n",
    "    --i-data ./data/DA/ancombc_diet_differentials.qza \\\n",
    "    --p-significance-threshold 0.1 \\\n",
    "    --o-visualization ./data/DA/ancombc_diet_da_barplot.qzv\n",
    "\n",
    "# Generate a table of these same values for all taxa\n",
    "! qiime composition tabulate \\\n",
    "    --i-data ./data/DA/ancombc_diet_differentials.qza \\\n",
    "    --o-visualization ./data/DA/ancombc_diet_results.qzv"
   ]
  },
  {
   "cell_type": "code",
   "execution_count": null,
   "id": "b9e51852-6a24-4c18-b49c-86f66d88635e",
   "metadata": {
    "tags": []
   },
   "outputs": [],
   "source": [
    "Visualization.load(\"./data/DA/ancombc_diet_da_barplot.qzv\")"
   ]
  },
  {
   "cell_type": "markdown",
   "id": "082db8d5-bbfe-4d2e-ade6-73be497e7818",
   "metadata": {},
   "source": [
    "In the following blocks do we export the results and load them into a data frame. Then we can filter significant results and print those log fold changes. And finaly we combine them all into one table"
   ]
  },
  {
   "cell_type": "code",
   "execution_count": 51,
   "id": "053ef8fd-c117-40f8-9199-d731ae571aa8",
   "metadata": {
    "tags": []
   },
   "outputs": [
    {
     "name": "stdout",
     "output_type": "stream",
     "text": [
      "\u001b[32mExported ./data/DA/ancombc_diet_differentials.qza as DataLoafPackageDirFmt to directory ./data/DA/exports/diet\u001b[0m\n",
      "\u001b[0m"
     ]
    }
   ],
   "source": [
    "! qiime tools export \\\n",
    "        --input-path $data_dir/DA/ancombc_diet_differentials.qza \\\n",
    "        --output-path $data_dir/DA/exports/diet"
   ]
  },
  {
   "cell_type": "code",
   "execution_count": 126,
   "id": "a10a4373-092e-467e-8973-6db964056b5b",
   "metadata": {
    "tags": []
   },
   "outputs": [
    {
     "data": {
      "text/html": [
       "<div>\n",
       "<style scoped>\n",
       "    .dataframe tbody tr th:only-of-type {\n",
       "        vertical-align: middle;\n",
       "    }\n",
       "\n",
       "    .dataframe tbody tr th {\n",
       "        vertical-align: top;\n",
       "    }\n",
       "\n",
       "    .dataframe thead th {\n",
       "        text-align: right;\n",
       "    }\n",
       "</style>\n",
       "<table border=\"1\" class=\"dataframe\">\n",
       "  <thead>\n",
       "    <tr style=\"text-align: right;\">\n",
       "      <th></th>\n",
       "      <th>Genus</th>\n",
       "      <th>Species</th>\n",
       "      <th>Group</th>\n",
       "      <th>LFC</th>\n",
       "    </tr>\n",
       "  </thead>\n",
       "  <tbody>\n",
       "    <tr>\n",
       "      <th>0</th>\n",
       "      <td>Aspergillus</td>\n",
       "      <td>NaN</td>\n",
       "      <td>Vegan</td>\n",
       "      <td>-1.58</td>\n",
       "    </tr>\n",
       "    <tr>\n",
       "      <th>1</th>\n",
       "      <td>Candida</td>\n",
       "      <td>Candida_tropicalis</td>\n",
       "      <td>Vegan</td>\n",
       "      <td>-1.62</td>\n",
       "    </tr>\n",
       "    <tr>\n",
       "      <th>2</th>\n",
       "      <td>Suhomyces</td>\n",
       "      <td>Suhomyces_kilbournensis</td>\n",
       "      <td>Vegan</td>\n",
       "      <td>-1.74</td>\n",
       "    </tr>\n",
       "    <tr>\n",
       "      <th>3</th>\n",
       "      <td>Penicillium</td>\n",
       "      <td>Penicillium_roqueforti</td>\n",
       "      <td>Vegan</td>\n",
       "      <td>-2.24</td>\n",
       "    </tr>\n",
       "    <tr>\n",
       "      <th>4</th>\n",
       "      <td>Trichosporon</td>\n",
       "      <td>Trichosporon_asahii</td>\n",
       "      <td>Vegan</td>\n",
       "      <td>-2.62</td>\n",
       "    </tr>\n",
       "  </tbody>\n",
       "</table>\n",
       "</div>"
      ],
      "text/plain": [
       "          Genus                  Species  Group   LFC\n",
       "0   Aspergillus                      NaN  Vegan -1.58\n",
       "1       Candida       Candida_tropicalis  Vegan -1.62\n",
       "2     Suhomyces  Suhomyces_kilbournensis  Vegan -1.74\n",
       "3   Penicillium   Penicillium_roqueforti  Vegan -2.24\n",
       "4  Trichosporon      Trichosporon_asahii  Vegan -2.62"
      ]
     },
     "execution_count": 126,
     "metadata": {},
     "output_type": "execute_result"
    }
   ],
   "source": [
    "qval = pd.read_csv(f'{data_dir}/DA/exports/diet/q_val_slice.csv')\n",
    "lfc = pd.read_csv(f'{data_dir}/DA/exports/diet/lfc_slice.csv')\n",
    "\n",
    "combined_df = pd.DataFrame()\n",
    "for i in ('diet_type_sampleOmnivore but do not eat red meat', 'diet_type_sampleVegan', 'diet_type_sampleVegetarian', 'diet_type_sampleVegetarian but eat seafood'):\n",
    "    group = i\n",
    "\n",
    "    #extract genus\n",
    "    lfc['Genus'] = lfc['id'].str.extract(r'(g__[^;]+)')\n",
    "    lfc['Genus'] = lfc['Genus'].str.replace('g__', '', regex=False)\n",
    "    #extract species\n",
    "    lfc['Species'] = lfc['id'].str.extract(r'(s__[^;]+)')\n",
    "    lfc['Species'] = lfc['Species'].str.replace('s__', '', regex=False)\n",
    "\n",
    "    lfc['Group'] = group\n",
    "    lfc['Group'] = lfc['Group'].str.replace('diet_type_sample', '', regex=False)\n",
    "\n",
    "    lfc['LFC'] = lfc[group] + lfc['(Intercept)']\n",
    "    lfc['LFC'] = lfc[group].round(2)\n",
    "\n",
    "\n",
    "    # Select only numeric columns\n",
    "    numeric_df = qval.select_dtypes(include='number')\n",
    "\n",
    "    # Find rows with any value less than 0.05\n",
    "    mask = numeric_df.lt(0.05)[group]\n",
    "\n",
    "    # Filter the original DataFrame using the mask\n",
    "    output = lfc[mask]\n",
    "\n",
    "    output = output.iloc[:, -4:].sort_values(by='LFC', ascending=False)\n",
    "    \n",
    "    combined_df = pd.concat([combined_df, output], ignore_index=True)\n",
    "    \n",
    "combined_df = combined_df.dropna(subset=['Genus'])\n",
    "combined_df"
   ]
  },
  {
   "cell_type": "markdown",
   "id": "a1ae4cfa-d9e0-4fe0-91ab-6ae4b7eb440f",
   "metadata": {
    "jp-MarkdownHeadingCollapsed": true,
    "tags": []
   },
   "source": [
    "### Age (compared to Adult)"
   ]
  },
  {
   "cell_type": "code",
   "execution_count": 101,
   "id": "9b3f4d36-f474-4876-93d5-9977f3acdcac",
   "metadata": {
    "tags": []
   },
   "outputs": [
    {
     "name": "stdout",
     "output_type": "stream",
     "text": [
      "\u001b[32mSaved FeatureData[DifferentialAbundance] to: ./data/DA/ancombc_age_differentials.qza\u001b[0m\n",
      "\u001b[0m\u001b[32mSaved Visualization to: ./data/DA/ancombc_age_da_barplot.qzv\u001b[0m\n",
      "\u001b[0m\u001b[32mSaved Visualization to: ./data/DA/ancombc_age_results.qzv\u001b[0m\n",
      "\u001b[0m"
     ]
    }
   ],
   "source": [
    "# Run ANCOM-BC\n",
    "! qiime composition ancombc \\\n",
    "    --i-table ./data/DA/table_abund_l7.qza \\\n",
    "    --m-metadata-file $data_dir/metadata/fungut_metadata_processed.tsv \\\n",
    "    --p-formula age_group \\\n",
    "    --p-reference-levels age_group::Adult \\\n",
    "    --o-differentials ./data/DA/ancombc_age_differentials.qza\n",
    "\n",
    "# Generate a barplot of differentially abundant taxa between environments\n",
    "! qiime composition da-barplot \\\n",
    "    --i-data ./data/DA/ancombc_age_differentials.qza \\\n",
    "    --p-significance-threshold 0.05 \\\n",
    "    --o-visualization ./data/DA/ancombc_age_da_barplot.qzv\n",
    "\n",
    "# Generate a table of these same values for all taxa\n",
    "! qiime composition tabulate \\\n",
    "    --i-data ./data/DA/ancombc_age_differentials.qza \\\n",
    "    --o-visualization ./data/DA/ancombc_age_results.qzv"
   ]
  },
  {
   "cell_type": "code",
   "execution_count": null,
   "id": "fbb48e19-b5e8-49e0-8d69-066bba53ce37",
   "metadata": {
    "tags": []
   },
   "outputs": [],
   "source": [
    "Visualization.load(\"./data/DA/ancombc_age_da_barplot.qzv\")"
   ]
  },
  {
   "cell_type": "markdown",
   "id": "d459eeee-534c-4aa9-b023-b913cff9cd49",
   "metadata": {},
   "source": [
    "In the following blocks do we export the results and load them into a data frame. Then we can filter significant results and print those log fold changes. And finaly we combine them all into one table"
   ]
  },
  {
   "cell_type": "code",
   "execution_count": 131,
   "id": "76cac21e-b579-4d92-ada1-ce66d3b18653",
   "metadata": {
    "tags": []
   },
   "outputs": [
    {
     "name": "stdout",
     "output_type": "stream",
     "text": [
      "\u001b[32mExported ./data/DA/ancombc_age_differentials.qza as DataLoafPackageDirFmt to directory ./data/DA/exports/age\u001b[0m\n",
      "\u001b[0m"
     ]
    }
   ],
   "source": [
    "! qiime tools export \\\n",
    "        --input-path $data_dir/DA/ancombc_age_differentials.qza \\\n",
    "        --output-path $data_dir/DA/exports/age"
   ]
  },
  {
   "cell_type": "code",
   "execution_count": 133,
   "id": "bdacfb14-0c41-49dc-925e-a350c50db49c",
   "metadata": {
    "tags": []
   },
   "outputs": [
    {
     "data": {
      "text/html": [
       "<div>\n",
       "<style scoped>\n",
       "    .dataframe tbody tr th:only-of-type {\n",
       "        vertical-align: middle;\n",
       "    }\n",
       "\n",
       "    .dataframe tbody tr th {\n",
       "        vertical-align: top;\n",
       "    }\n",
       "\n",
       "    .dataframe thead th {\n",
       "        text-align: right;\n",
       "    }\n",
       "</style>\n",
       "<table border=\"1\" class=\"dataframe\">\n",
       "  <thead>\n",
       "    <tr style=\"text-align: right;\">\n",
       "      <th></th>\n",
       "      <th>Genus</th>\n",
       "      <th>Species</th>\n",
       "      <th>Group</th>\n",
       "      <th>LFC</th>\n",
       "    </tr>\n",
       "  </thead>\n",
       "  <tbody>\n",
       "    <tr>\n",
       "      <th>0</th>\n",
       "      <td>Mucor</td>\n",
       "      <td>Mucor_circinelloides</td>\n",
       "      <td>Adolescent</td>\n",
       "      <td>1.73</td>\n",
       "    </tr>\n",
       "    <tr>\n",
       "      <th>1</th>\n",
       "      <td>Penicillium</td>\n",
       "      <td>NaN</td>\n",
       "      <td>Adolescent</td>\n",
       "      <td>1.39</td>\n",
       "    </tr>\n",
       "    <tr>\n",
       "      <th>2</th>\n",
       "      <td>Penicillium</td>\n",
       "      <td>NaN</td>\n",
       "      <td>Older Adult</td>\n",
       "      <td>0.84</td>\n",
       "    </tr>\n",
       "    <tr>\n",
       "      <th>3</th>\n",
       "      <td>Fungi_gen_Incertae_sedis</td>\n",
       "      <td>Fungi_sp</td>\n",
       "      <td>Others</td>\n",
       "      <td>-1.78</td>\n",
       "    </tr>\n",
       "    <tr>\n",
       "      <th>4</th>\n",
       "      <td>Penicillium</td>\n",
       "      <td>NaN</td>\n",
       "      <td>Senior</td>\n",
       "      <td>1.48</td>\n",
       "    </tr>\n",
       "  </tbody>\n",
       "</table>\n",
       "</div>"
      ],
      "text/plain": [
       "                      Genus               Species        Group   LFC\n",
       "0                     Mucor  Mucor_circinelloides   Adolescent  1.73\n",
       "1               Penicillium                   NaN   Adolescent  1.39\n",
       "2               Penicillium                   NaN  Older Adult  0.84\n",
       "3  Fungi_gen_Incertae_sedis              Fungi_sp       Others -1.78\n",
       "4               Penicillium                   NaN       Senior  1.48"
      ]
     },
     "execution_count": 133,
     "metadata": {},
     "output_type": "execute_result"
    }
   ],
   "source": [
    "qval = pd.read_csv(f'{data_dir}/DA/exports/age/q_val_slice.csv')\n",
    "lfc = pd.read_csv(f'{data_dir}/DA/exports/age/lfc_slice.csv')\n",
    "\n",
    "combined_df = pd.DataFrame()\n",
    "for i in ('age_groupAdolescent', 'age_groupChild', 'age_groupOlder Adult', 'age_groupOthers', 'age_groupSenior'):\n",
    "    group = i\n",
    "\n",
    "    #extract genus\n",
    "    lfc['Genus'] = lfc['id'].str.extract(r'(g__[^;]+)')\n",
    "    lfc['Genus'] = lfc['Genus'].str.replace('g__', '', regex=False)\n",
    "    #extract species\n",
    "    lfc['Species'] = lfc['id'].str.extract(r'(s__[^;]+)')\n",
    "    lfc['Species'] = lfc['Species'].str.replace('s__', '', regex=False)\n",
    "\n",
    "    lfc['Group'] = group\n",
    "    lfc['Group'] = lfc['Group'].str.replace('age_group', '', regex=False)\n",
    "\n",
    "    lfc['LFC'] = lfc[group] + lfc['(Intercept)']\n",
    "    lfc['LFC'] = lfc[group].round(2)\n",
    "\n",
    "\n",
    "    # Select only numeric columns\n",
    "    numeric_df = qval.select_dtypes(include='number')\n",
    "\n",
    "    # Find rows with any value less than 0.05\n",
    "    mask = numeric_df.lt(0.05)[group]\n",
    "\n",
    "    # Filter the original DataFrame using the mask\n",
    "    output = lfc[mask]\n",
    "\n",
    "    output = output.iloc[:, -4:].sort_values(by='LFC', ascending=False)\n",
    "    \n",
    "    combined_df = pd.concat([combined_df, output], ignore_index=True)\n",
    "    \n",
    "combined_df = combined_df.dropna(subset=['Genus'])\n",
    "combined_df"
   ]
  },
  {
   "cell_type": "markdown",
   "id": "03d94099-8039-456d-a077-e37c9fd99cd4",
   "metadata": {
    "jp-MarkdownHeadingCollapsed": true,
    "tags": []
   },
   "source": [
    "### BMI (compared to normal weight)"
   ]
  },
  {
   "cell_type": "code",
   "execution_count": 19,
   "id": "cb2b4f2a-a496-4bc3-97b9-a19bced35711",
   "metadata": {
    "tags": []
   },
   "outputs": [
    {
     "name": "stdout",
     "output_type": "stream",
     "text": [
      "\u001b[32mSaved FeatureData[DifferentialAbundance] to: ./data/DA/ancombc_bmi_differentials.qza\u001b[0m\n",
      "\u001b[0m\u001b[32mSaved Visualization to: ./data/DA/ancombc_bmi_da_barplot.qzv\u001b[0m\n",
      "\u001b[0m\u001b[32mSaved Visualization to: ./data/DA/ancombc_bmi_results.qzv\u001b[0m\n",
      "\u001b[0m"
     ]
    }
   ],
   "source": [
    "# Run ANCOM-BC\n",
    "! qiime composition ancombc \\\n",
    "    --i-table ./data/DA/table_abund_l7.qza \\\n",
    "    --m-metadata-file $data_dir/metadata/fungut_metadata_processed.tsv \\\n",
    "    --p-formula bmi_category \\\n",
    "    --p-reference-levels 'bmi_category::Normal weight' \\\n",
    "    --o-differentials ./data/DA/ancombc_bmi_differentials.qza\n",
    "\n",
    "# Generate a barplot of differentially abundant taxa between environments\n",
    "! qiime composition da-barplot \\\n",
    "    --i-data ./data/DA/ancombc_bmi_differentials.qza \\\n",
    "    --p-significance-threshold 0.1 \\\n",
    "    --o-visualization ./data/DA/ancombc_bmi_da_barplot.qzv\n",
    "\n",
    "# Generate a table of these same values for all taxa\n",
    "! qiime composition tabulate \\\n",
    "    --i-data ./data/DA/ancombc_bmi_differentials.qza \\\n",
    "    --o-visualization ./data/DA/ancombc_bmi_results.qzv"
   ]
  },
  {
   "cell_type": "code",
   "execution_count": null,
   "id": "fe73ad23-9d4f-401a-ada0-f9175b4de9d6",
   "metadata": {
    "tags": []
   },
   "outputs": [],
   "source": [
    "Visualization.load(\"./data/DA/ancombc_bmi_results.qzv\")"
   ]
  },
  {
   "cell_type": "markdown",
   "id": "f2bbccd8-c0a8-4e4c-a7df-72c2320313e3",
   "metadata": {},
   "source": [
    "In the following blocks do we export the results and load them into a data frame. Then we can filter significant results and print those log fold changes. And finaly we combine them all into one table"
   ]
  },
  {
   "cell_type": "code",
   "execution_count": 129,
   "id": "1be7d42a-4036-4474-96c5-29a61fdf201f",
   "metadata": {
    "tags": []
   },
   "outputs": [
    {
     "name": "stdout",
     "output_type": "stream",
     "text": [
      "\u001b[32mExported ./data/DA/ancombc_bmi_differentials.qza as DataLoafPackageDirFmt to directory ./data/DA/exports/bmi\u001b[0m\n",
      "\u001b[0m"
     ]
    }
   ],
   "source": [
    "! qiime tools export \\\n",
    "        --input-path $data_dir/DA/ancombc_bmi_differentials.qza \\\n",
    "        --output-path $data_dir/DA/exports/bmi"
   ]
  },
  {
   "cell_type": "code",
   "execution_count": 130,
   "id": "96114e09-00cb-47de-a9ac-df8625cec6ce",
   "metadata": {
    "tags": []
   },
   "outputs": [
    {
     "data": {
      "text/html": [
       "<div>\n",
       "<style scoped>\n",
       "    .dataframe tbody tr th:only-of-type {\n",
       "        vertical-align: middle;\n",
       "    }\n",
       "\n",
       "    .dataframe tbody tr th {\n",
       "        vertical-align: top;\n",
       "    }\n",
       "\n",
       "    .dataframe thead th {\n",
       "        text-align: right;\n",
       "    }\n",
       "</style>\n",
       "<table border=\"1\" class=\"dataframe\">\n",
       "  <thead>\n",
       "    <tr style=\"text-align: right;\">\n",
       "      <th></th>\n",
       "      <th>Genus</th>\n",
       "      <th>Species</th>\n",
       "      <th>Group</th>\n",
       "      <th>LFC</th>\n",
       "    </tr>\n",
       "  </thead>\n",
       "  <tbody>\n",
       "    <tr>\n",
       "      <th>0</th>\n",
       "      <td>Aspergillus</td>\n",
       "      <td>Aspergillus_sp</td>\n",
       "      <td>Overweight</td>\n",
       "      <td>-0.97</td>\n",
       "    </tr>\n",
       "  </tbody>\n",
       "</table>\n",
       "</div>"
      ],
      "text/plain": [
       "         Genus         Species       Group   LFC\n",
       "0  Aspergillus  Aspergillus_sp  Overweight -0.97"
      ]
     },
     "execution_count": 130,
     "metadata": {},
     "output_type": "execute_result"
    }
   ],
   "source": [
    "qval = pd.read_csv(f'{data_dir}/DA/exports/bmi/q_val_slice.csv')\n",
    "lfc = pd.read_csv(f'{data_dir}/DA/exports/bmi/lfc_slice.csv')\n",
    "\n",
    "combined_df = pd.DataFrame()\n",
    "for i in ('bmi_categoryObesity', 'bmi_categoryOverweight', 'bmi_categoryUnderweight',):\n",
    "    group = i\n",
    "\n",
    "    #extract genus\n",
    "    lfc['Genus'] = lfc['id'].str.extract(r'(g__[^;]+)')\n",
    "    lfc['Genus'] = lfc['Genus'].str.replace('g__', '', regex=False)\n",
    "    #extract species\n",
    "    lfc['Species'] = lfc['id'].str.extract(r'(s__[^;]+)')\n",
    "    lfc['Species'] = lfc['Species'].str.replace('s__', '', regex=False)\n",
    "\n",
    "    lfc['Group'] = group\n",
    "    lfc['Group'] = lfc['Group'].str.replace('bmi_category', '', regex=False)\n",
    "\n",
    "    lfc['LFC'] = lfc[group] + lfc['(Intercept)']\n",
    "    lfc['LFC'] = lfc[group].round(2)\n",
    "\n",
    "\n",
    "    # Select only numeric columns\n",
    "    numeric_df = qval.select_dtypes(include='number')\n",
    "\n",
    "    # Find rows with any value less than 0.05\n",
    "    mask = numeric_df.lt(0.05)[group]\n",
    "\n",
    "    # Filter the original DataFrame using the mask\n",
    "    output = lfc[mask]\n",
    "\n",
    "    output = output.iloc[:, -4:].sort_values(by='LFC', ascending=False)\n",
    "    \n",
    "    combined_df = pd.concat([combined_df, output], ignore_index=True)\n",
    "    \n",
    "combined_df = combined_df.dropna(subset=['Genus'])\n",
    "combined_df"
   ]
  },
  {
   "cell_type": "markdown",
   "id": "46181122-00c1-4918-bc46-608b523f68c6",
   "metadata": {},
   "source": [
    "# Results\n",
    "We did not find any significant differences between the **disease** groups and the **urban_vs_rural** group. This could be due to the small amount of features we have and because the **symptoms** vs **no_symptom** groups are very different in size.  \n",
    "We found some significant differences between __countries__, **diet types**, **age groups** and **BMI groups**."
   ]
  },
  {
   "cell_type": "code",
   "execution_count": null,
   "id": "35979bec-3402-4714-9cd7-93c257669c1d",
   "metadata": {},
   "outputs": [],
   "source": []
  }
 ],
 "metadata": {
  "kernelspec": {
   "display_name": "QIIME 2",
   "language": "python",
   "name": "python3"
  },
  "language_info": {
   "codemirror_mode": {
    "name": "ipython",
    "version": 3
   },
   "file_extension": ".py",
   "mimetype": "text/x-python",
   "name": "python",
   "nbconvert_exporter": "python",
   "pygments_lexer": "ipython3",
   "version": "3.9.19"
  }
 },
 "nbformat": 4,
 "nbformat_minor": 5
}
