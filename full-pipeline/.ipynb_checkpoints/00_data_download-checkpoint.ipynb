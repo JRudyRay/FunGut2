{
 "cells": [
  {
   "cell_type": "markdown",
   "id": "31aa5991-b5c1-4146-afcb-0314a7dcd6ed",
   "metadata": {},
   "source": [
    "# Data download script\n",
    "### The code below will download the two datasets we were given  \n",
    "#### We will start with the reads and then move on to the metadata download"
   ]
  },
  {
   "cell_type": "code",
   "execution_count": 1,
   "id": "2d3945f9-5dd6-4de0-b335-4a0263dec781",
   "metadata": {
    "tags": []
   },
   "outputs": [],
   "source": [
    "#import libraries \n",
    "import requests # version: 2.32.3\n",
    "import os # version: 3.9.19"
   ]
  },
  {
   "cell_type": "code",
   "execution_count": 2,
   "id": "ba3581e9-5e8c-4f66-9477-b23d91ed1db7",
   "metadata": {
    "tags": []
   },
   "outputs": [],
   "source": [
    "#change current working directory to forward reads because that is what we will be starting with\n",
    "os.chdir('./data/forward_reads')"
   ]
  },
  {
   "cell_type": "markdown",
   "id": "ad675b17-80e5-418b-9fba-8b3d38032d76",
   "metadata": {},
   "source": [
    "## Download `fungut_forward_reads.qza `"
   ]
  },
  {
   "cell_type": "code",
   "execution_count": 3,
   "id": "f46e84d7-141e-4547-a5aa-3871216388b4",
   "metadata": {
    "tags": []
   },
   "outputs": [],
   "source": [
    "fungut_forward_reads = 'https://polybox.ethz.ch/index.php/s/uV06vmm96ZzB5eM/download'\n",
    "response = requests.get(fungut_forward_reads)\n",
    "\n",
    "with open('fungut_forward_reads.qza', 'wb') as file:\n",
    "    file.write(response.content)"
   ]
  },
  {
   "cell_type": "markdown",
   "id": "66da490a-771d-40c2-8c8b-eec33aa4a2bb",
   "metadata": {},
   "source": [
    "## Download `fungut_metadata.tsv `"
   ]
  },
  {
   "cell_type": "code",
   "execution_count": 4,
   "id": "bd6fd548-4360-45d4-82c3-0e7d1cb31d61",
   "metadata": {
    "tags": []
   },
   "outputs": [],
   "source": [
    "#change current working directory to metadata because that is what we will be downloading next\n",
    "os.chdir('../metadata')"
   ]
  },
  {
   "cell_type": "code",
   "execution_count": 5,
   "id": "aa91961c-9563-4373-98ca-5ec86670f04e",
   "metadata": {
    "tags": []
   },
   "outputs": [],
   "source": [
    "fungut_metadata = 'https://polybox.ethz.ch/index.php/s/CA76kKFC9FApqpR/download'\n",
    "response = requests.get(fungut_metadata)\n",
    "# Save it as a .tsv file\n",
    "with open('fungut_metadata.tsv', 'wb') as file:\n",
    "    file.write(response.content)"
   ]
  }
 ],
 "metadata": {
  "kernelspec": {
   "display_name": "QIIME 2",
   "language": "python",
   "name": "python3"
  },
  "language_info": {
   "codemirror_mode": {
    "name": "ipython",
    "version": 3
   },
   "file_extension": ".py",
   "mimetype": "text/x-python",
   "name": "python",
   "nbconvert_exporter": "python",
   "pygments_lexer": "ipython3",
   "version": "3.9.19"
  }
 },
 "nbformat": 4,
 "nbformat_minor": 5
}
