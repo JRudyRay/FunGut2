{
 "cells": [
  {
   "cell_type": "markdown",
   "id": "fa44c477-b86e-4616-a9bc-7a34d8a55584",
   "metadata": {},
   "source": [
    "# Primary analyses of our sequences\n",
    "### Load modules"
   ]
  },
  {
   "cell_type": "code",
   "execution_count": 1,
   "id": "babb3bf0-a258-4eec-8547-713c3534550e",
   "metadata": {
    "tags": []
   },
   "outputs": [
    {
     "name": "stdout",
     "output_type": "stream",
     "text": [
      "Requirement already satisfied: geopandas in /opt/conda/lib/python3.9/site-packages (1.0.1)\n",
      "Requirement already satisfied: numpy>=1.22 in /opt/conda/lib/python3.9/site-packages (from geopandas) (1.26.4)\n",
      "Requirement already satisfied: pyogrio>=0.7.2 in /opt/conda/lib/python3.9/site-packages (from geopandas) (0.10.0)\n",
      "Requirement already satisfied: packaging in /opt/conda/lib/python3.9/site-packages (from geopandas) (24.1)\n",
      "Requirement already satisfied: pandas>=1.4.0 in /opt/conda/lib/python3.9/site-packages (from geopandas) (2.2.2)\n",
      "Requirement already satisfied: pyproj>=3.3.0 in /opt/conda/lib/python3.9/site-packages (from geopandas) (3.6.1)\n",
      "Requirement already satisfied: shapely>=2.0.0 in /opt/conda/lib/python3.9/site-packages (from geopandas) (2.0.6)\n",
      "Requirement already satisfied: python-dateutil>=2.8.2 in /opt/conda/lib/python3.9/site-packages (from pandas>=1.4.0->geopandas) (2.8.2)\n",
      "Requirement already satisfied: pytz>=2020.1 in /opt/conda/lib/python3.9/site-packages (from pandas>=1.4.0->geopandas) (2024.1)\n",
      "Requirement already satisfied: tzdata>=2022.7 in /opt/conda/lib/python3.9/site-packages (from pandas>=1.4.0->geopandas) (2024.1)\n",
      "Requirement already satisfied: certifi in /opt/conda/lib/python3.9/site-packages (from pyogrio>=0.7.2->geopandas) (2024.8.30)\n",
      "Requirement already satisfied: six>=1.5 in /opt/conda/lib/python3.9/site-packages (from python-dateutil>=2.8.2->pandas>=1.4.0->geopandas) (1.16.0)\n",
      "Requirement already satisfied: cartopy in /opt/conda/lib/python3.9/site-packages (0.23.0)\n",
      "Requirement already satisfied: numpy>=1.21 in /opt/conda/lib/python3.9/site-packages (from cartopy) (1.26.4)\n",
      "Requirement already satisfied: matplotlib>=3.5 in /opt/conda/lib/python3.9/site-packages (from cartopy) (3.8.4)\n",
      "Requirement already satisfied: shapely>=1.7 in /opt/conda/lib/python3.9/site-packages (from cartopy) (2.0.6)\n",
      "Requirement already satisfied: packaging>=20 in /opt/conda/lib/python3.9/site-packages (from cartopy) (24.1)\n",
      "Requirement already satisfied: pyshp>=2.3 in /opt/conda/lib/python3.9/site-packages (from cartopy) (2.3.1)\n",
      "Requirement already satisfied: pyproj>=3.3.1 in /opt/conda/lib/python3.9/site-packages (from cartopy) (3.6.1)\n",
      "Requirement already satisfied: contourpy>=1.0.1 in /opt/conda/lib/python3.9/site-packages (from matplotlib>=3.5->cartopy) (1.2.1)\n",
      "Requirement already satisfied: cycler>=0.10 in /opt/conda/lib/python3.9/site-packages (from matplotlib>=3.5->cartopy) (0.12.1)\n",
      "Requirement already satisfied: fonttools>=4.22.0 in /opt/conda/lib/python3.9/site-packages (from matplotlib>=3.5->cartopy) (4.53.0)\n",
      "Requirement already satisfied: kiwisolver>=1.3.1 in /opt/conda/lib/python3.9/site-packages (from matplotlib>=3.5->cartopy) (1.4.5)\n",
      "Requirement already satisfied: pillow>=8 in /opt/conda/lib/python3.9/site-packages (from matplotlib>=3.5->cartopy) (10.3.0)\n",
      "Requirement already satisfied: pyparsing>=2.3.1 in /opt/conda/lib/python3.9/site-packages (from matplotlib>=3.5->cartopy) (3.1.2)\n",
      "Requirement already satisfied: python-dateutil>=2.7 in /opt/conda/lib/python3.9/site-packages (from matplotlib>=3.5->cartopy) (2.8.2)\n",
      "Requirement already satisfied: importlib-resources>=3.2.0 in /opt/conda/lib/python3.9/site-packages (from matplotlib>=3.5->cartopy) (6.4.0)\n",
      "Requirement already satisfied: certifi in /opt/conda/lib/python3.9/site-packages (from pyproj>=3.3.1->cartopy) (2024.8.30)\n",
      "Requirement already satisfied: zipp>=3.1.0 in /opt/conda/lib/python3.9/site-packages (from importlib-resources>=3.2.0->matplotlib>=3.5->cartopy) (3.19.2)\n",
      "Requirement already satisfied: six>=1.5 in /opt/conda/lib/python3.9/site-packages (from python-dateutil>=2.7->matplotlib>=3.5->cartopy) (1.16.0)\n"
     ]
    }
   ],
   "source": [
    "import os # version: 3.9.19\n",
    "import sys # version: 3.9.19\n",
    "\n",
    "!pip install geopandas\n",
    "!pip install cartopy\n",
    "\n",
    "import pandas as pd # version: 2.2.2\n",
    "import qiime2 as q2 # version: 2024.5.0\n",
    "from qiime2 import Visualization\n",
    "import matplotlib.pyplot as plt # version: 3.8.4\n",
    "import seaborn as sns # version: 0.12.2\n",
    "import geopandas as gpd # version 1.0.1\n",
    "import cartopy.crs as ccrs # version: 1.16.0\n",
    "%matplotlib inline\n",
    "\n",
    "# Define the data directory\n",
    "data_dir = './data'"
   ]
  },
  {
   "cell_type": "markdown",
   "id": "3adba178-bbb8-4137-b07d-7b2453b73e96",
   "metadata": {
    "tags": []
   },
   "source": [
    "### Checking out the metadata"
   ]
  },
  {
   "cell_type": "code",
   "execution_count": 5,
   "id": "7b42f909-d75d-4150-9701-8bff72ed0e94",
   "metadata": {
    "tags": []
   },
   "outputs": [
    {
     "name": "stdout",
     "output_type": "stream",
     "text": [
      "\u001b[32mSaved Visualization to: ./data/metadata/fungut_metadata.qzv\u001b[0m\n",
      "\u001b[0m"
     ]
    }
   ],
   "source": [
    "!qiime metadata tabulate \\\n",
    "  --m-input-file ./data/metadata/fungut_metadata.tsv \\\n",
    "  --o-visualization ./data/metadata/fungut_metadata.qzv"
   ]
  },
  {
   "cell_type": "code",
   "execution_count": null,
   "id": "8c540ff5-9515-4da7-bc93-cd84714289d5",
   "metadata": {
    "tags": []
   },
   "outputs": [],
   "source": [
    "Visualization.load('./data/metadata/fungut_metadata.qzv')"
   ]
  },
  {
   "cell_type": "markdown",
   "id": "ae3eafcc-8323-42f0-a333-7015cf80cbaa",
   "metadata": {},
   "source": [
    "# Preprocessing the metadata"
   ]
  },
  {
   "cell_type": "markdown",
   "id": "0819a209-74aa-4739-99e7-9037e5f7527c",
   "metadata": {},
   "source": [
    "### Removing samples which have gluten and IBD not provided"
   ]
  },
  {
   "cell_type": "code",
   "execution_count": 3,
   "id": "71a6f1d3-e721-4059-bb24-b6a8044a5c83",
   "metadata": {
    "tags": []
   },
   "outputs": [],
   "source": [
    "#read metadata\n",
    "metadata = pd.read_csv(\"./data/metadata/fungut_metadata.tsv\", sep=\"\\t\")"
   ]
  },
  {
   "cell_type": "code",
   "execution_count": 4,
   "id": "0f619153-9f07-43db-a0c7-e933877f24f3",
   "metadata": {
    "tags": []
   },
   "outputs": [
    {
     "name": "stdout",
     "output_type": "stream",
     "text": [
      "4 samples have both response variables not provided\n",
      "4 samples have been removed\n"
     ]
    }
   ],
   "source": [
    "#count the rows that have column \"ibd_sample\" and \"gluten_sample\" = Not provided\n",
    "filtered_rows = metadata[(metadata['ibd_sample'] == \"Not provided\") & (metadata['gluten_sample'] == \"Not provided\")]\n",
    "print(len(filtered_rows), \"samples have both response variables not provided\")\n",
    "\n",
    "#filter rows that have column \"ibd_sample\" and \"gluten_sample\" = Not provided\n",
    "metadata = metadata[~((metadata['ibd_sample'] == \"Not provided\") & (metadata['gluten_sample'] == \"Not provided\"))]\n",
    "metadata.describe()\n",
    "print(len(filtered_rows), \"samples have been removed\")"
   ]
  },
  {
   "cell_type": "markdown",
   "id": "65146361-6b08-416d-8f42-439ed289b719",
   "metadata": {},
   "source": [
    "### How many \"Not Provided\" do we have per sample?"
   ]
  },
  {
   "cell_type": "code",
   "execution_count": 5,
   "id": "55c86bc5-2653-4206-83b8-5ad11f3e5faf",
   "metadata": {
    "tags": []
   },
   "outputs": [
    {
     "name": "stdout",
     "output_type": "stream",
     "text": [
      "62 samples have 'Not Provided' for 1 columns\n",
      "10 samples have 'Not Provided' for 2 columns\n",
      "05 samples have 'Not Provided' for 3 columns\n",
      "02 samples have 'Not Provided' for 4 columns\n",
      "01 samples have 'Not Provided' for 5 columns\n",
      "00 samples have 'Not Provided' for 6 columns\n"
     ]
    }
   ],
   "source": [
    "# count the number of rows that have more than x columns not provided\n",
    "for x in range(1, 7):\n",
    "    count = metadata[metadata.eq(\"Not provided\").sum(axis=1) >= x].shape[0]\n",
    "    print(f\"{count:02} samples have 'Not Provided' for {x} columns\")"
   ]
  },
  {
   "cell_type": "markdown",
   "id": "d3386e21-98c4-4b57-ad74-11bdd3061821",
   "metadata": {},
   "source": [
    "We do not filter out any of these samples. the 5 missing columns in one sample are fine."
   ]
  },
  {
   "cell_type": "markdown",
   "id": "051f786d-c109-4251-b14a-1c5cc0f9a3bc",
   "metadata": {},
   "source": [
    "### Create new features \"Symptoms vs No-Symptoms\""
   ]
  },
  {
   "cell_type": "markdown",
   "id": "b9d3c3c2-f2c8-4710-944a-b80f6588c449",
   "metadata": {},
   "source": [
    "We have 2 columns where the people from our data set state wheter they are diagnosed with Inflammatory Bowel Disease and how they react to gluten. Because the answers are not that easy to compare against each other, we create a new column which summarizes whether a person shows symptoms or not (2 separate, one for gluten and one for IBD). This way we have a binary variable that creates 2 groups which is easier to compare. We also have the problem, that most of the people have answer \"No\" (as seen in 01_EDA) and the other groups are much smaller. When we group all people together that show symptoms we have one bigger group instead of 3 smaller ones."
   ]
  },
  {
   "cell_type": "code",
   "execution_count": 6,
   "id": "229fa5da-d9d6-42bb-9540-d5f12684b8fd",
   "metadata": {
    "tags": []
   },
   "outputs": [
    {
     "data": {
      "text/plain": [
       "array(['No',\n",
       "       'I was diagnosed with gluten allergy (anti-gluten IgG), but not celiac disease',\n",
       "       'I do not eat gluten because it makes me feel bad',\n",
       "       'I was diagnosed with celiac disease', 'Not provided'],\n",
       "      dtype=object)"
      ]
     },
     "execution_count": 6,
     "metadata": {},
     "output_type": "execute_result"
    }
   ],
   "source": [
    "metadata['gluten_sample'].unique()"
   ]
  },
  {
   "cell_type": "code",
   "execution_count": 7,
   "id": "db238787-c83a-4948-a264-4b7bd739a01d",
   "metadata": {
    "tags": []
   },
   "outputs": [
    {
     "data": {
      "text/plain": [
       "array(['I do not have this condition', 'Self-diagnosed',\n",
       "       'Diagnosed by a medical professional (doctor, physician assistant)',\n",
       "       'Not provided'], dtype=object)"
      ]
     },
     "execution_count": 7,
     "metadata": {},
     "output_type": "execute_result"
    }
   ],
   "source": [
    "metadata['ibd_sample'].unique()"
   ]
  },
  {
   "cell_type": "code",
   "execution_count": 8,
   "id": "30cf1aa8-0f94-4512-9e3e-bbf1d1a841be",
   "metadata": {
    "tags": []
   },
   "outputs": [],
   "source": [
    "# Define the categories to summarize as \"symptoms\"\n",
    "no_symptoms = ['I do not have this condition']  \n",
    "\n",
    "# Create a new column with a binary classification\n",
    "metadata['ibd_symptoms'] = metadata['ibd_sample'].apply(\n",
    "    lambda x: 'Not provided' if x == 'Not provided' else \n",
    "              ('no_symptoms' if x in no_symptoms else 'symptoms')\n",
    ")"
   ]
  },
  {
   "cell_type": "code",
   "execution_count": 9,
   "id": "6d92be69-b96d-472e-adcf-b8813eb476f1",
   "metadata": {
    "tags": []
   },
   "outputs": [],
   "source": [
    "# Define the categories to summarize as \"no_symptoms\"\n",
    "no_symptoms = ['No']  \n",
    "\n",
    "# Create a new column with a binary classification\n",
    "metadata['gluten_symptoms'] = metadata['gluten_sample'].apply(\n",
    "    lambda x: 'Not provided' if x == 'Not provided' else \n",
    "              ('no_symptoms' if x in no_symptoms else 'symptoms')\n",
    ")"
   ]
  },
  {
   "cell_type": "markdown",
   "id": "3bc8c1d9-905f-4a89-9626-6a91401727e9",
   "metadata": {},
   "source": [
    "### Add new feature \"is_urban\"\n",
    "Within the metadata we have for each sample the longitude and lattidude. From this we can get the  location where a person lives (roughly). We want to distinguish between rural areas and urban areas. Therefore we classify every location from a sample whether it is rural or urban with help of the packages 'geopandas' and 'carotpy'. "
   ]
  },
  {
   "cell_type": "code",
   "execution_count": 10,
   "id": "40c8cc2f-4a23-4516-ad08-fbff2fa1710d",
   "metadata": {
    "tags": []
   },
   "outputs": [],
   "source": [
    "# Create a boolean mask for rows with valid longitude and latitude values\n",
    "valid_coords = (metadata['longitude_sample'] != \"Not provided\") & (metadata['latitude_sample'] != \"Not provided\")\n",
    "\n",
    "# Initialize the 'is_urban' column with \"Not provided\"\n",
    "metadata['is_urban'] = \"Not provided\"\n",
    "\n",
    "# Process only rows with valid longitude and latitude\n",
    "valid_metadata = metadata[valid_coords]\n",
    "\n",
    "# Convert valid latitude and longitude columns to a GeoDataFrame\n",
    "gdf = gpd.GeoDataFrame(valid_metadata, \n",
    "                       geometry=gpd.points_from_xy(valid_metadata['longitude_sample'].astype(float), \n",
    "                                                   valid_metadata['latitude_sample'].astype(float)), \n",
    "                       crs=\"EPSG:4326\")\n",
    "\n",
    "# Load the shapefile for urban areas\n",
    "urban_areas = gpd.read_file('./data/urban_areas/ne_10m_urban_areas.shp')\n",
    "\n",
    "# Perform the spatial join for valid rows\n",
    "gdf['is_urban'] = gpd.sjoin(gdf, urban_areas, predicate='within', how='left').index_right.notnull()\n",
    "\n",
    "# Update the 'is_urban' column in the original metadata DataFrame\n",
    "metadata.loc[valid_coords, 'is_urban'] = gdf['is_urban'].astype(bool)"
   ]
  },
  {
   "cell_type": "code",
   "execution_count": 11,
   "id": "44fd149f-a7b7-42a6-807b-6f682f9fe98d",
   "metadata": {
    "tags": []
   },
   "outputs": [
    {
     "data": {
      "text/html": [
       "<div>\n",
       "<style scoped>\n",
       "    .dataframe tbody tr th:only-of-type {\n",
       "        vertical-align: middle;\n",
       "    }\n",
       "\n",
       "    .dataframe tbody tr th {\n",
       "        vertical-align: top;\n",
       "    }\n",
       "\n",
       "    .dataframe thead th {\n",
       "        text-align: right;\n",
       "    }\n",
       "</style>\n",
       "<table border=\"1\" class=\"dataframe\">\n",
       "  <thead>\n",
       "    <tr style=\"text-align: right;\">\n",
       "      <th></th>\n",
       "      <th>ID</th>\n",
       "      <th>country_sample</th>\n",
       "      <th>state_sample</th>\n",
       "      <th>latitude_sample</th>\n",
       "      <th>longitude_sample</th>\n",
       "      <th>sex_sample</th>\n",
       "      <th>age_years_sample</th>\n",
       "      <th>height_cm_sample</th>\n",
       "      <th>weight_kg_sample</th>\n",
       "      <th>bmi_sample</th>\n",
       "      <th>diet_type_sample</th>\n",
       "      <th>ibd_sample</th>\n",
       "      <th>gluten_sample</th>\n",
       "      <th>ibd_symptoms</th>\n",
       "      <th>gluten_symptoms</th>\n",
       "      <th>is_urban</th>\n",
       "    </tr>\n",
       "  </thead>\n",
       "  <tbody>\n",
       "    <tr>\n",
       "      <th>0</th>\n",
       "      <td>ERR5327198</td>\n",
       "      <td>USA</td>\n",
       "      <td>TN</td>\n",
       "      <td>36.1</td>\n",
       "      <td>-86.8</td>\n",
       "      <td>female</td>\n",
       "      <td>67</td>\n",
       "      <td>152</td>\n",
       "      <td>41</td>\n",
       "      <td>17.75</td>\n",
       "      <td>Omnivore</td>\n",
       "      <td>I do not have this condition</td>\n",
       "      <td>No</td>\n",
       "      <td>no_symptoms</td>\n",
       "      <td>no_symptoms</td>\n",
       "      <td>True</td>\n",
       "    </tr>\n",
       "    <tr>\n",
       "      <th>1</th>\n",
       "      <td>ERR5327199</td>\n",
       "      <td>USA</td>\n",
       "      <td>DC</td>\n",
       "      <td>38.9</td>\n",
       "      <td>-77.1</td>\n",
       "      <td>male</td>\n",
       "      <td>55.0</td>\n",
       "      <td>182.0</td>\n",
       "      <td>79.0</td>\n",
       "      <td>23.73</td>\n",
       "      <td>Omnivore</td>\n",
       "      <td>I do not have this condition</td>\n",
       "      <td>I was diagnosed with gluten allergy (anti-glut...</td>\n",
       "      <td>no_symptoms</td>\n",
       "      <td>symptoms</td>\n",
       "      <td>True</td>\n",
       "    </tr>\n",
       "    <tr>\n",
       "      <th>2</th>\n",
       "      <td>ERR5327266</td>\n",
       "      <td>USA</td>\n",
       "      <td>VA</td>\n",
       "      <td>38.9</td>\n",
       "      <td>-77.1</td>\n",
       "      <td>female</td>\n",
       "      <td>28.0</td>\n",
       "      <td>175.0</td>\n",
       "      <td>61.0</td>\n",
       "      <td>19.94</td>\n",
       "      <td>Omnivore</td>\n",
       "      <td>I do not have this condition</td>\n",
       "      <td>I do not eat gluten because it makes me feel bad</td>\n",
       "      <td>no_symptoms</td>\n",
       "      <td>symptoms</td>\n",
       "      <td>True</td>\n",
       "    </tr>\n",
       "    <tr>\n",
       "      <th>3</th>\n",
       "      <td>ERR5327282</td>\n",
       "      <td>United Kingdom</td>\n",
       "      <td>Not provided</td>\n",
       "      <td>51.6</td>\n",
       "      <td>-0.2</td>\n",
       "      <td>female</td>\n",
       "      <td>26.0</td>\n",
       "      <td>166.0</td>\n",
       "      <td>60.0</td>\n",
       "      <td>21.77</td>\n",
       "      <td>Omnivore</td>\n",
       "      <td>I do not have this condition</td>\n",
       "      <td>No</td>\n",
       "      <td>no_symptoms</td>\n",
       "      <td>no_symptoms</td>\n",
       "      <td>True</td>\n",
       "    </tr>\n",
       "    <tr>\n",
       "      <th>4</th>\n",
       "      <td>ERR5327284</td>\n",
       "      <td>United Kingdom</td>\n",
       "      <td>Not provided</td>\n",
       "      <td>51.5</td>\n",
       "      <td>-0.2</td>\n",
       "      <td>female</td>\n",
       "      <td>25.0</td>\n",
       "      <td>173.0</td>\n",
       "      <td>59.0</td>\n",
       "      <td>20.01</td>\n",
       "      <td>Vegetarian but eat seafood</td>\n",
       "      <td>I do not have this condition</td>\n",
       "      <td>No</td>\n",
       "      <td>no_symptoms</td>\n",
       "      <td>no_symptoms</td>\n",
       "      <td>True</td>\n",
       "    </tr>\n",
       "  </tbody>\n",
       "</table>\n",
       "</div>"
      ],
      "text/plain": [
       "           ID  country_sample  state_sample latitude_sample longitude_sample  \\\n",
       "0  ERR5327198             USA            TN            36.1            -86.8   \n",
       "1  ERR5327199             USA            DC            38.9            -77.1   \n",
       "2  ERR5327266             USA            VA            38.9            -77.1   \n",
       "3  ERR5327282  United Kingdom  Not provided            51.6             -0.2   \n",
       "4  ERR5327284  United Kingdom  Not provided            51.5             -0.2   \n",
       "\n",
       "  sex_sample age_years_sample height_cm_sample weight_kg_sample bmi_sample  \\\n",
       "0     female               67              152               41      17.75   \n",
       "1       male             55.0            182.0             79.0      23.73   \n",
       "2     female             28.0            175.0             61.0      19.94   \n",
       "3     female             26.0            166.0             60.0      21.77   \n",
       "4     female             25.0            173.0             59.0      20.01   \n",
       "\n",
       "             diet_type_sample                    ibd_sample  \\\n",
       "0                    Omnivore  I do not have this condition   \n",
       "1                    Omnivore  I do not have this condition   \n",
       "2                    Omnivore  I do not have this condition   \n",
       "3                    Omnivore  I do not have this condition   \n",
       "4  Vegetarian but eat seafood  I do not have this condition   \n",
       "\n",
       "                                       gluten_sample ibd_symptoms  \\\n",
       "0                                                 No  no_symptoms   \n",
       "1  I was diagnosed with gluten allergy (anti-glut...  no_symptoms   \n",
       "2   I do not eat gluten because it makes me feel bad  no_symptoms   \n",
       "3                                                 No  no_symptoms   \n",
       "4                                                 No  no_symptoms   \n",
       "\n",
       "  gluten_symptoms is_urban  \n",
       "0     no_symptoms     True  \n",
       "1        symptoms     True  \n",
       "2        symptoms     True  \n",
       "3     no_symptoms     True  \n",
       "4     no_symptoms     True  "
      ]
     },
     "execution_count": 11,
     "metadata": {},
     "output_type": "execute_result"
    }
   ],
   "source": [
    "metadata.head()"
   ]
  },
  {
   "cell_type": "markdown",
   "id": "ec2a3c4f-dc7b-4b9c-bced-16bf6a834fa4",
   "metadata": {},
   "source": [
    "### Categorize people based on their ages\n",
    "We are going to bin by age groups. The first age group will be 0-2 years old infants because their gut microbiota will be different. The next group is 3-10, so children. 10-20 is the next group for adolescents/ early adulthood. 20-40 is the next one for the adults. 40-60 for the late adult stages and 60+ for the elderly.\n"
   ]
  },
  {
   "cell_type": "code",
   "execution_count": 22,
   "id": "a32cea10-6f35-4c80-bfd9-059bd3bc5fa3",
   "metadata": {
    "tags": []
   },
   "outputs": [
    {
     "data": {
      "text/html": [
       "<div>\n",
       "<style scoped>\n",
       "    .dataframe tbody tr th:only-of-type {\n",
       "        vertical-align: middle;\n",
       "    }\n",
       "\n",
       "    .dataframe tbody tr th {\n",
       "        vertical-align: top;\n",
       "    }\n",
       "\n",
       "    .dataframe thead th {\n",
       "        text-align: right;\n",
       "    }\n",
       "</style>\n",
       "<table border=\"1\" class=\"dataframe\">\n",
       "  <thead>\n",
       "    <tr style=\"text-align: right;\">\n",
       "      <th></th>\n",
       "      <th>age_years_sample</th>\n",
       "      <th>age_group</th>\n",
       "    </tr>\n",
       "  </thead>\n",
       "  <tbody>\n",
       "    <tr>\n",
       "      <th>0</th>\n",
       "      <td>67.0</td>\n",
       "      <td>Senior</td>\n",
       "    </tr>\n",
       "    <tr>\n",
       "      <th>1</th>\n",
       "      <td>55.0</td>\n",
       "      <td>Older Adult</td>\n",
       "    </tr>\n",
       "    <tr>\n",
       "      <th>2</th>\n",
       "      <td>28.0</td>\n",
       "      <td>Adult</td>\n",
       "    </tr>\n",
       "    <tr>\n",
       "      <th>3</th>\n",
       "      <td>26.0</td>\n",
       "      <td>Adult</td>\n",
       "    </tr>\n",
       "    <tr>\n",
       "      <th>4</th>\n",
       "      <td>25.0</td>\n",
       "      <td>Adult</td>\n",
       "    </tr>\n",
       "  </tbody>\n",
       "</table>\n",
       "</div>"
      ],
      "text/plain": [
       "   age_years_sample    age_group\n",
       "0              67.0       Senior\n",
       "1              55.0  Older Adult\n",
       "2              28.0        Adult\n",
       "3              26.0        Adult\n",
       "4              25.0        Adult"
      ]
     },
     "execution_count": 22,
     "metadata": {},
     "output_type": "execute_result"
    }
   ],
   "source": [
    "# Ensure the column is numeric\n",
    "metadata['age_years_sample'] = pd.to_numeric(metadata['age_years_sample'], errors='coerce')\n",
    "\n",
    "# Handle missing values in the column\n",
    "metadata['age_years_sample'] = metadata['age_years_sample'].fillna(-1)\n",
    "\n",
    "# Define bins and labels\n",
    "bins = [-1, 0, 2, 10, 20, 40, 60, float('inf')]\n",
    "labels = [\"Others\", \"Infant\", \"Child\", \"Adolescent\", \"Adult\", \"Older Adult\", \"Senior\"]\n",
    "\n",
    "# Create the age_group column\n",
    "metadata['age_group'] = pd.cut(metadata['age_years_sample'], bins=bins, labels=labels, right=False)\n",
    "\n",
    "# Check the result\n",
    "metadata[['age_years_sample', 'age_group']].head()\n"
   ]
  },
  {
   "cell_type": "markdown",
   "id": "49f29300-2629-49f1-af24-4498e59bd324",
   "metadata": {},
   "source": [
    "### Categorize people based on their BMI\n",
    "According to the national institute of health: https://www.nhlbi.nih.gov/health/educational/lose_wt/BMI/bmicalc.htm#:~:text=BMI%20Categories%3A,BMI%20of%2030%20or%20greater the weights are categorized this way:  \n",
    "Underweight = <18.5  \n",
    "Normal weight = 18.5–24.9  \n",
    "Overweight = 25–29.9  \n",
    "Obesity = BMI of 30 or greater"
   ]
  },
  {
   "cell_type": "code",
   "execution_count": 23,
   "id": "95bcf258-64a7-4ebf-8e6e-382cec079ff6",
   "metadata": {
    "tags": []
   },
   "outputs": [],
   "source": [
    "metadata['bmi_sample'] = pd.to_numeric(metadata['bmi_sample'], errors='coerce')\n",
    "\n",
    "# Define BMI bins and labels\n",
    "bmi_bins = [float('-inf'), 18.5, 24.9, 29.9, float('inf')]\n",
    "bmi_labels = [\"Underweight\", \"Normal weight\", \"Overweight\", \"Obesity\"]\n",
    "\n",
    "# Create the bmi_category column\n",
    "metadata['bmi_category'] = pd.cut(metadata['bmi_sample'], bins=bmi_bins, labels=bmi_labels, right=False)\n",
    "\n",
    "# Fill missing values in bmi_category with \"Others\"\n",
    "metadata['bmi_category'] = metadata['bmi_category'].cat.add_categories(\"Others\").fillna(\"Others\")"
   ]
  },
  {
   "cell_type": "code",
   "execution_count": 24,
   "id": "80e1ce49-ba67-47fb-97a6-612f3609f324",
   "metadata": {
    "tags": []
   },
   "outputs": [
    {
     "data": {
      "text/html": [
       "<div>\n",
       "<style scoped>\n",
       "    .dataframe tbody tr th:only-of-type {\n",
       "        vertical-align: middle;\n",
       "    }\n",
       "\n",
       "    .dataframe tbody tr th {\n",
       "        vertical-align: top;\n",
       "    }\n",
       "\n",
       "    .dataframe thead th {\n",
       "        text-align: right;\n",
       "    }\n",
       "</style>\n",
       "<table border=\"1\" class=\"dataframe\">\n",
       "  <thead>\n",
       "    <tr style=\"text-align: right;\">\n",
       "      <th></th>\n",
       "      <th>ID</th>\n",
       "      <th>country_sample</th>\n",
       "      <th>state_sample</th>\n",
       "      <th>latitude_sample</th>\n",
       "      <th>longitude_sample</th>\n",
       "      <th>sex_sample</th>\n",
       "      <th>age_years_sample</th>\n",
       "      <th>height_cm_sample</th>\n",
       "      <th>weight_kg_sample</th>\n",
       "      <th>bmi_sample</th>\n",
       "      <th>diet_type_sample</th>\n",
       "      <th>ibd_sample</th>\n",
       "      <th>gluten_sample</th>\n",
       "      <th>ibd_symptoms</th>\n",
       "      <th>gluten_symptoms</th>\n",
       "      <th>is_urban</th>\n",
       "      <th>age_group</th>\n",
       "      <th>bmi_category</th>\n",
       "    </tr>\n",
       "  </thead>\n",
       "  <tbody>\n",
       "    <tr>\n",
       "      <th>0</th>\n",
       "      <td>ERR5327198</td>\n",
       "      <td>USA</td>\n",
       "      <td>TN</td>\n",
       "      <td>36.1</td>\n",
       "      <td>-86.8</td>\n",
       "      <td>female</td>\n",
       "      <td>67.0</td>\n",
       "      <td>152</td>\n",
       "      <td>41</td>\n",
       "      <td>17.75</td>\n",
       "      <td>Omnivore</td>\n",
       "      <td>I do not have this condition</td>\n",
       "      <td>No</td>\n",
       "      <td>no_symptoms</td>\n",
       "      <td>no_symptoms</td>\n",
       "      <td>True</td>\n",
       "      <td>Senior</td>\n",
       "      <td>Underweight</td>\n",
       "    </tr>\n",
       "    <tr>\n",
       "      <th>1</th>\n",
       "      <td>ERR5327199</td>\n",
       "      <td>USA</td>\n",
       "      <td>DC</td>\n",
       "      <td>38.9</td>\n",
       "      <td>-77.1</td>\n",
       "      <td>male</td>\n",
       "      <td>55.0</td>\n",
       "      <td>182.0</td>\n",
       "      <td>79.0</td>\n",
       "      <td>23.73</td>\n",
       "      <td>Omnivore</td>\n",
       "      <td>I do not have this condition</td>\n",
       "      <td>I was diagnosed with gluten allergy (anti-glut...</td>\n",
       "      <td>no_symptoms</td>\n",
       "      <td>symptoms</td>\n",
       "      <td>True</td>\n",
       "      <td>Older Adult</td>\n",
       "      <td>Normal weight</td>\n",
       "    </tr>\n",
       "    <tr>\n",
       "      <th>2</th>\n",
       "      <td>ERR5327266</td>\n",
       "      <td>USA</td>\n",
       "      <td>VA</td>\n",
       "      <td>38.9</td>\n",
       "      <td>-77.1</td>\n",
       "      <td>female</td>\n",
       "      <td>28.0</td>\n",
       "      <td>175.0</td>\n",
       "      <td>61.0</td>\n",
       "      <td>19.94</td>\n",
       "      <td>Omnivore</td>\n",
       "      <td>I do not have this condition</td>\n",
       "      <td>I do not eat gluten because it makes me feel bad</td>\n",
       "      <td>no_symptoms</td>\n",
       "      <td>symptoms</td>\n",
       "      <td>True</td>\n",
       "      <td>Adult</td>\n",
       "      <td>Normal weight</td>\n",
       "    </tr>\n",
       "    <tr>\n",
       "      <th>3</th>\n",
       "      <td>ERR5327282</td>\n",
       "      <td>United Kingdom</td>\n",
       "      <td>Not provided</td>\n",
       "      <td>51.6</td>\n",
       "      <td>-0.2</td>\n",
       "      <td>female</td>\n",
       "      <td>26.0</td>\n",
       "      <td>166.0</td>\n",
       "      <td>60.0</td>\n",
       "      <td>21.77</td>\n",
       "      <td>Omnivore</td>\n",
       "      <td>I do not have this condition</td>\n",
       "      <td>No</td>\n",
       "      <td>no_symptoms</td>\n",
       "      <td>no_symptoms</td>\n",
       "      <td>True</td>\n",
       "      <td>Adult</td>\n",
       "      <td>Normal weight</td>\n",
       "    </tr>\n",
       "    <tr>\n",
       "      <th>4</th>\n",
       "      <td>ERR5327284</td>\n",
       "      <td>United Kingdom</td>\n",
       "      <td>Not provided</td>\n",
       "      <td>51.5</td>\n",
       "      <td>-0.2</td>\n",
       "      <td>female</td>\n",
       "      <td>25.0</td>\n",
       "      <td>173.0</td>\n",
       "      <td>59.0</td>\n",
       "      <td>20.01</td>\n",
       "      <td>Vegetarian but eat seafood</td>\n",
       "      <td>I do not have this condition</td>\n",
       "      <td>No</td>\n",
       "      <td>no_symptoms</td>\n",
       "      <td>no_symptoms</td>\n",
       "      <td>True</td>\n",
       "      <td>Adult</td>\n",
       "      <td>Normal weight</td>\n",
       "    </tr>\n",
       "  </tbody>\n",
       "</table>\n",
       "</div>"
      ],
      "text/plain": [
       "           ID  country_sample  state_sample latitude_sample longitude_sample  \\\n",
       "0  ERR5327198             USA            TN            36.1            -86.8   \n",
       "1  ERR5327199             USA            DC            38.9            -77.1   \n",
       "2  ERR5327266             USA            VA            38.9            -77.1   \n",
       "3  ERR5327282  United Kingdom  Not provided            51.6             -0.2   \n",
       "4  ERR5327284  United Kingdom  Not provided            51.5             -0.2   \n",
       "\n",
       "  sex_sample  age_years_sample height_cm_sample weight_kg_sample  bmi_sample  \\\n",
       "0     female              67.0              152               41       17.75   \n",
       "1       male              55.0            182.0             79.0       23.73   \n",
       "2     female              28.0            175.0             61.0       19.94   \n",
       "3     female              26.0            166.0             60.0       21.77   \n",
       "4     female              25.0            173.0             59.0       20.01   \n",
       "\n",
       "             diet_type_sample                    ibd_sample  \\\n",
       "0                    Omnivore  I do not have this condition   \n",
       "1                    Omnivore  I do not have this condition   \n",
       "2                    Omnivore  I do not have this condition   \n",
       "3                    Omnivore  I do not have this condition   \n",
       "4  Vegetarian but eat seafood  I do not have this condition   \n",
       "\n",
       "                                       gluten_sample ibd_symptoms  \\\n",
       "0                                                 No  no_symptoms   \n",
       "1  I was diagnosed with gluten allergy (anti-glut...  no_symptoms   \n",
       "2   I do not eat gluten because it makes me feel bad  no_symptoms   \n",
       "3                                                 No  no_symptoms   \n",
       "4                                                 No  no_symptoms   \n",
       "\n",
       "  gluten_symptoms is_urban    age_group   bmi_category  \n",
       "0     no_symptoms     True       Senior    Underweight  \n",
       "1        symptoms     True  Older Adult  Normal weight  \n",
       "2        symptoms     True        Adult  Normal weight  \n",
       "3     no_symptoms     True        Adult  Normal weight  \n",
       "4     no_symptoms     True        Adult  Normal weight  "
      ]
     },
     "execution_count": 24,
     "metadata": {},
     "output_type": "execute_result"
    }
   ],
   "source": [
    "# Check that everything looks as expected\n",
    "metadata.head()"
   ]
  },
  {
   "cell_type": "code",
   "execution_count": 25,
   "id": "20fddc65-5aea-4c50-958c-ed5218770219",
   "metadata": {
    "tags": []
   },
   "outputs": [
    {
     "data": {
      "image/png": "[encoded data removed]",
      "text/plain": [
       "<Figure size 1000x500 with 1 Axes>"
      ]
     },
     "metadata": {},
     "output_type": "display_data"
    },
    {
     "data": {
      "image/png": "[encoded data removed]",
      "text/plain": [
       "<Figure size 1000x500 with 1 Axes>"
      ]
     },
     "metadata": {},
     "output_type": "display_data"
    },
    {
     "data": {
      "image/png": "[encoded data removed]",
      "text/plain": [
       "<Figure size 1000x500 with 1 Axes>"
      ]
     },
     "metadata": {},
     "output_type": "display_data"
    },
    {
     "data": {
      "image/png": "[encoded data removed]",
      "text/plain": [
       "<Figure size 1000x500 with 1 Axes>"
      ]
     },
     "metadata": {},
     "output_type": "display_data"
    },
    {
     "data": {
      "image/png": "[encoded data removed]",
      "text/plain": [
       "<Figure size 1000x500 with 1 Axes>"
      ]
     },
     "metadata": {},
     "output_type": "display_data"
    }
   ],
   "source": [
    "categorical_cols = ['is_urban', 'age_group', 'bmi_category', 'gluten_symptoms', 'ibd_symptoms']\n",
    "# Bar plot with percentage annotations\n",
    "for col in categorical_cols:\n",
    "    plt.figure(figsize=(10, 5))\n",
    "    ax = sns.countplot(x=metadata[col], order=metadata[col].value_counts().index)\n",
    "    total = len(metadata[col])\n",
    "    for p in ax.patches:\n",
    "        percentage = '{:.1f}%'.format(100 * (p.get_height() / total))\n",
    "        ax.annotate(percentage, (p.get_x() + p.get_width() / 2., p.get_height()), \n",
    "                    ha='center', va='center', xytext=(0, 5), textcoords='offset points', fontsize = 8)\n",
    "    plt.title(f'Distribution of {col} with Percentages')\n",
    "    plt.xticks(rotation=45)\n",
    "    plt.tight_layout()\n",
    "    plt.savefig(f'./plots/distribution_of_{col}.png')\n",
    "    plt.show()\n"
   ]
  },
  {
   "cell_type": "markdown",
   "id": "33172699-bf1e-4eb0-8e78-88044d9c3bc8",
   "metadata": {},
   "source": [
    "### Final conversion of variables to set the proper data type"
   ]
  },
  {
   "cell_type": "code",
   "execution_count": 3,
   "id": "c7fd407c-35c8-4e9f-9ccb-fb87df1df5e3",
   "metadata": {
    "tags": []
   },
   "outputs": [],
   "source": [
    "metadata = pd.read_csv('./data/metadata/fungut_metadata_processed.tsv', sep='\\t')"
   ]
  },
  {
   "cell_type": "code",
   "execution_count": 5,
   "id": "5b046d75-5288-4877-a59a-b01ebedb3dd7",
   "metadata": {
    "tags": []
   },
   "outputs": [],
   "source": [
    "df = metadata"
   ]
  },
  {
   "cell_type": "code",
   "execution_count": 6,
   "id": "5ed718fd-cc30-4aee-be81-81a868b4df44",
   "metadata": {
    "tags": []
   },
   "outputs": [
    {
     "name": "stdout",
     "output_type": "stream",
     "text": [
      "\n",
      "Column names and data types:\n",
      "------------------------------\n",
      "<class 'pandas.core.frame.DataFrame'>\n",
      "RangeIndex: 146 entries, 0 to 145\n",
      "Data columns (total 18 columns):\n",
      " #   Column            Non-Null Count  Dtype  \n",
      "---  ------            --------------  -----  \n",
      " 0   ID                146 non-null    object \n",
      " 1   country_sample    146 non-null    object \n",
      " 2   state_sample      146 non-null    object \n",
      " 3   latitude_sample   146 non-null    object \n",
      " 4   longitude_sample  146 non-null    object \n",
      " 5   sex_sample        146 non-null    object \n",
      " 6   age_years_sample  146 non-null    float64\n",
      " 7   height_cm_sample  146 non-null    object \n",
      " 8   weight_kg_sample  146 non-null    object \n",
      " 9   bmi_sample        144 non-null    float64\n",
      " 10  diet_type_sample  146 non-null    object \n",
      " 11  ibd_sample        146 non-null    object \n",
      " 12  gluten_sample     146 non-null    object \n",
      " 13  ibd_symptoms      146 non-null    object \n",
      " 14  gluten_symptoms   146 non-null    object \n",
      " 15  is_urban          146 non-null    object \n",
      " 16  age_group         146 non-null    object \n",
      " 17  bmi_category      146 non-null    object \n",
      "dtypes: float64(2), object(16)\n",
      "memory usage: 20.7+ KB\n",
      "\n",
      "Basic statistics for numerical columns:\n",
      "-----------------------------------------\n"
     ]
    },
    {
     "data": {
      "text/html": [
       "<div>\n",
       "<style scoped>\n",
       "    .dataframe tbody tr th:only-of-type {\n",
       "        vertical-align: middle;\n",
       "    }\n",
       "\n",
       "    .dataframe tbody tr th {\n",
       "        vertical-align: top;\n",
       "    }\n",
       "\n",
       "    .dataframe thead th {\n",
       "        text-align: right;\n",
       "    }\n",
       "</style>\n",
       "<table border=\"1\" class=\"dataframe\">\n",
       "  <thead>\n",
       "    <tr style=\"text-align: right;\">\n",
       "      <th></th>\n",
       "      <th>age_years_sample</th>\n",
       "      <th>bmi_sample</th>\n",
       "    </tr>\n",
       "  </thead>\n",
       "  <tbody>\n",
       "    <tr>\n",
       "      <th>count</th>\n",
       "      <td>146.000000</td>\n",
       "      <td>144.000000</td>\n",
       "    </tr>\n",
       "    <tr>\n",
       "      <th>mean</th>\n",
       "      <td>47.938356</td>\n",
       "      <td>24.230417</td>\n",
       "    </tr>\n",
       "    <tr>\n",
       "      <th>std</th>\n",
       "      <td>19.731726</td>\n",
       "      <td>6.031437</td>\n",
       "    </tr>\n",
       "    <tr>\n",
       "      <th>min</th>\n",
       "      <td>-1.000000</td>\n",
       "      <td>14.350000</td>\n",
       "    </tr>\n",
       "    <tr>\n",
       "      <th>25%</th>\n",
       "      <td>36.000000</td>\n",
       "      <td>20.930000</td>\n",
       "    </tr>\n",
       "    <tr>\n",
       "      <th>50%</th>\n",
       "      <td>53.000000</td>\n",
       "      <td>23.240000</td>\n",
       "    </tr>\n",
       "    <tr>\n",
       "      <th>75%</th>\n",
       "      <td>63.000000</td>\n",
       "      <td>27.070000</td>\n",
       "    </tr>\n",
       "    <tr>\n",
       "      <th>max</th>\n",
       "      <td>82.000000</td>\n",
       "      <td>71.610000</td>\n",
       "    </tr>\n",
       "  </tbody>\n",
       "</table>\n",
       "</div>"
      ],
      "text/plain": [
       "       age_years_sample  bmi_sample\n",
       "count        146.000000  144.000000\n",
       "mean          47.938356   24.230417\n",
       "std           19.731726    6.031437\n",
       "min           -1.000000   14.350000\n",
       "25%           36.000000   20.930000\n",
       "50%           53.000000   23.240000\n",
       "75%           63.000000   27.070000\n",
       "max           82.000000   71.610000"
      ]
     },
     "metadata": {},
     "output_type": "display_data"
    }
   ],
   "source": [
    "# Get the column names and datatypes\n",
    "print(\"\\nColumn names and data types:\")\n",
    "print(\"------------------------------\")\n",
    "df.info()\n",
    "\n",
    "# Get some basic statistics\n",
    "print(\"\\nBasic statistics for numerical columns:\")\n",
    "print(\"-----------------------------------------\")\n",
    "display(df.describe())"
   ]
  },
  {
   "cell_type": "code",
   "execution_count": 7,
   "id": "3bcf8f8d-3407-4139-93d7-a05dea4cebbd",
   "metadata": {
    "tags": []
   },
   "outputs": [
    {
     "name": "stdout",
     "output_type": "stream",
     "text": [
      "\n",
      "Updated data types:\n",
      "ID                    object\n",
      "country_sample      category\n",
      "state_sample        category\n",
      "latitude_sample      float64\n",
      "longitude_sample     float64\n",
      "sex_sample          category\n",
      "age_years_sample     float64\n",
      "height_cm_sample     float64\n",
      "weight_kg_sample     float64\n",
      "bmi_sample           float64\n",
      "diet_type_sample    category\n",
      "ibd_sample          category\n",
      "gluten_sample       category\n",
      "ibd_symptoms        category\n",
      "gluten_symptoms     category\n",
      "is_urban            category\n",
      "age_group           category\n",
      "bmi_category        category\n",
      "dtype: object\n"
     ]
    }
   ],
   "source": [
    "# As all are of type object, we have to do some data type wrangling\n",
    "# Convert all these to float\n",
    "df['latitude_sample']  = pd.to_numeric(df['latitude_sample'],  errors='coerce')  \n",
    "df['longitude_sample'] = pd.to_numeric(df['longitude_sample'], errors='coerce')  \n",
    "df['age_years_sample'] = pd.to_numeric(df['age_years_sample'], errors='coerce')  \n",
    "df['height_cm_sample'] = pd.to_numeric(df['height_cm_sample'], errors='coerce')  \n",
    "df['weight_kg_sample'] = pd.to_numeric(df['weight_kg_sample'], errors='coerce')  \n",
    "df['bmi_sample'] = pd.to_numeric(df['bmi_sample'], errors='coerce')              \n",
    "\n",
    "# And convert all these to category\n",
    "df['country_sample'] = df['country_sample'].astype('category')\n",
    "df['state_sample'] = df['state_sample'].astype('category')\n",
    "df['sex_sample'] = df['sex_sample'].astype('category')\n",
    "df['diet_type_sample'] = df['diet_type_sample'].astype('category')\n",
    "df['ibd_sample'] = df['ibd_sample'].astype('category')\n",
    "df['gluten_sample'] = df['gluten_sample'].astype('category')\n",
    "df['gluten_symptoms'] = df['gluten_symptoms'].astype('category')\n",
    "df['ibd_symptoms'] = df['ibd_symptoms'].astype('category')\n",
    "df['is_urban'] = df['is_urban'].astype('category')\n",
    "df['bmi_category'] = df['bmi_category'].astype('category')\n",
    "df['age_group'] = df['age_group'].astype('category')\n",
    "\n",
    "# Display the updated data types\n",
    "print(\"\\nUpdated data types:\")\n",
    "print(df.dtypes)"
   ]
  },
  {
   "cell_type": "code",
   "execution_count": 8,
   "id": "51b4868e-753f-4642-97c9-f618870fa613",
   "metadata": {
    "tags": []
   },
   "outputs": [],
   "source": [
    "metadata = df"
   ]
  },
  {
   "cell_type": "code",
   "execution_count": null,
   "id": "d4f848f5-5af8-4ff5-9967-a4d86afa335f",
   "metadata": {},
   "outputs": [],
   "source": []
  },
  {
   "cell_type": "markdown",
   "id": "2107e634-8532-43fb-b89d-759ed104fabd",
   "metadata": {},
   "source": [
    "# Save processed metadata as tsv file"
   ]
  },
  {
   "cell_type": "code",
   "execution_count": 9,
   "id": "2bc497c3-8aa2-4685-a1be-8e553c8a8549",
   "metadata": {
    "tags": []
   },
   "outputs": [],
   "source": [
    "metadata.to_csv('./data/metadata/fungut_metadata_processed.tsv', sep='\\t', index=False)"
   ]
  },
  {
   "cell_type": "code",
   "execution_count": null,
   "id": "f934d905-f199-4292-9ad7-5b45958d6fdb",
   "metadata": {},
   "outputs": [],
   "source": []
  }
 ],
 "metadata": {
  "kernelspec": {
   "display_name": "QIIME 2",
   "language": "python",
   "name": "python3"
  },
  "language_info": {
   "codemirror_mode": {
    "name": "ipython",
    "version": 3
   },
   "file_extension": ".py",
   "mimetype": "text/x-python",
   "name": "python",
   "nbconvert_exporter": "python",
   "pygments_lexer": "ipython3",
   "version": "3.9.19"
  }
 },
 "nbformat": 4,
 "nbformat_minor": 5
}
