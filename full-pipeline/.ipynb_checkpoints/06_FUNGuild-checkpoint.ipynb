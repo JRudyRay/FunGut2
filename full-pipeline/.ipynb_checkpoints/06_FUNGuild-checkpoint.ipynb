{
 "cells": [
  {
   "cell_type": "markdown",
   "id": "e5365216-98e4-45a9-821e-fe0a7b6a4e7c",
   "metadata": {},
   "source": [
    "## Functional prediction using q2-picrust"
   ]
  },
  {
   "cell_type": "markdown",
   "id": "77f645f5-810d-443d-b97f-63828f3c02df",
   "metadata": {},
   "source": [
    "### Load Modules"
   ]
  },
  {
   "cell_type": "markdown",
   "id": "3c6ca2cd-2dd3-4f5b-9af3-a955933c81ed",
   "metadata": {},
   "source": [
    "Install biom"
   ]
  },
  {
   "cell_type": "code",
   "execution_count": 31,
   "id": "919d1ebc-f4fa-498a-94ca-e3f4bd69084b",
   "metadata": {
    "tags": []
   },
   "outputs": [
    {
     "name": "stdout",
     "output_type": "stream",
     "text": [
      "Retrieving notices: ...working... done\n",
      "Channels:\n",
      " - bioconda\n",
      " - defaults\n",
      " - conda-forge\n",
      " - https://packages.qiime2.org/qiime2/2024.5/amplicon/released\n",
      " - https://packages.qiime2.org/qiime2/2024.5/metagenome/staged\n",
      " - picrust\n",
      "Platform: linux-64\n",
      "Collecting package metadata (repodata.json): done\n",
      "Solving environment: \\ \u001b[33m\u001b[1mwarning  libmamba\u001b[m Added empty dependency for problem type SOLVER_RULE_UPDATE\n",
      "failed\n",
      "\n",
      "LibMambaUnsatisfiableError: Encountered problems while solving:\n",
      "  - package spades-3.15.2-h95f258a_1 requires sysroot_linux-64 2.17.*, but none of the providers can be installed\n",
      "  - package cutadapt-4.9-py39hff71179_1 requires python_abi 3.9.* *_cp39, but none of the providers can be installed\n",
      "  - package sepp-4.4.0-py39_0 requires python_abi 3.9.* *_cp39, but none of the providers can be installed\n",
      "\n",
      "Could not solve for environment specs\n",
      "The following packages are incompatible\n",
      "├─ \u001b[32mbowtie2 2.5.4** \u001b[0m is requested and can be installed;\n",
      "├─ \u001b[32mcutadapt\u001b[0m is installable with the potential options\n",
      "│  ├─ \u001b[32mcutadapt [3.3|3.4|...|4.9]\u001b[0m would require\n",
      "│  │  └─ \u001b[32mpython_abi 3.9.* *_cp39\u001b[0m, which can be installed;\n",
      "│  ├─ \u001b[32mcutadapt [1.10|1.11|...|1.9.1]\u001b[0m would require\n",
      "│  │  └─ \u001b[32mpython [2.7* |>=2.7,<2.8.0a0 ]\u001b[0m, which can be installed;\n",
      "│  ├─ \u001b[32mcutadapt [1.10|1.11|...|1.9.1]\u001b[0m would require\n",
      "│  │  └─ \u001b[32mpython 3.4* \u001b[0m, which can be installed;\n",
      "│  ├─ \u001b[32mcutadapt [1.10|1.11|...|1.9.1]\u001b[0m would require\n",
      "│  │  └─ \u001b[32mpython [3.5* |>=3.5,<3.6.0a0 ]\u001b[0m, which can be installed;\n",
      "│  ├─ \u001b[32mcutadapt [1.13|1.14|1.15|1.16]\u001b[0m would require\n",
      "│  │  └─ \u001b[32mpython 3.6* \u001b[0m, which can be installed;\n",
      "│  ├─ \u001b[32mcutadapt [1.16|1.17|...|3.5]\u001b[0m would require\n",
      "│  │  └─ \u001b[32mpython >=3.6,<3.7.0a0 \u001b[0m, which can be installed;\n",
      "│  ├─ \u001b[32mcutadapt [1.18|2.0|...|4.4]\u001b[0m would require\n",
      "│  │  └─ \u001b[32mpython >=3.7,<3.8.0a0 \u001b[0m, which can be installed;\n",
      "│  ├─ \u001b[32mcutadapt [2.10|3.0|...|4.9]\u001b[0m would require\n",
      "│  │  └─ \u001b[32mpython >=3.8,<3.9.0a0 \u001b[0m, which can be installed;\n",
      "│  ├─ \u001b[32mcutadapt [4.1|4.2|...|4.9]\u001b[0m would require\n",
      "│  │  └─ \u001b[32mpython >=3.10,<3.11.0a0 \u001b[0m, which can be installed;\n",
      "│  ├─ \u001b[32mcutadapt [4.8|4.9]\u001b[0m would require\n",
      "│  │  └─ \u001b[32mpython >=3.11,<3.12.0a0 \u001b[0m, which can be installed;\n",
      "│  └─ \u001b[32mcutadapt [4.8|4.9]\u001b[0m would require\n",
      "│     └─ \u001b[32mpython >=3.12,<3.13.0a0 \u001b[0m, which can be installed;\n",
      "├─ \u001b[32mkernel-headers_linux-64 2.6.32** \u001b[0m is installable and it requires\n",
      "│  └─ \u001b[32msysroot_linux-64 2.12 \u001b[0m, which can be installed;\n",
      "├─ \u001b[31mpin-1\u001b[0m is not installable because it requires\n",
      "│  └─ \u001b[31mpython 3.9.* \u001b[0m, which conflicts with any installable versions previously reported;\n",
      "├─ \u001b[31mq2-assembly\u001b[0m is not installable because there are no viable options\n",
      "│  ├─ \u001b[31mq2-assembly [2024.5.0|2024.5.0.dev0+6.g86ab2e1|2024.5.0.dev0+7.g1d87e60|2024.5.0.dev0+7.gec3f1db]\u001b[0m would require\n",
      "│  │  ├─ \u001b[31mbowtie2 2.5.1.* \u001b[0m but there are no viable options\n",
      "│  │  │  ├─ \u001b[31mbowtie2 2.5.1\u001b[0m conflicts with any installable versions previously reported;\n",
      "│  │  │  ├─ \u001b[31mbowtie2 2.5.1\u001b[0m would require\n",
      "│  │  │  │  └─ \u001b[31mpython_abi 3.10.* *_cp310\u001b[0m, which conflicts with any installable versions previously reported;\n",
      "│  │  │  ├─ \u001b[31mbowtie2 2.5.1\u001b[0m would require\n",
      "│  │  │  │  └─ \u001b[31mpython_abi 3.6.* *_cp36m\u001b[0m, which conflicts with any installable versions previously reported;\n",
      "│  │  │  ├─ \u001b[31mbowtie2 2.5.1\u001b[0m would require\n",
      "│  │  │  │  └─ \u001b[31mpython_abi 3.7.* *_cp37m\u001b[0m, which conflicts with any installable versions previously reported;\n",
      "│  │  │  └─ \u001b[31mbowtie2 2.5.1\u001b[0m would require\n",
      "│  │  │     └─ \u001b[31mpython_abi 3.8.* *_cp38\u001b[0m but there are no viable options\n",
      "│  │  │        ├─ \u001b[31mpython_abi 3.8\u001b[0m would require\n",
      "│  │  │        │  └─ \u001b[32mpython 3.8.* \u001b[0m, which can be installed;\n",
      "│  │  │        └─ \u001b[31mpython_abi 3.8\u001b[0m conflicts with any installable versions previously reported;\n",
      "│  │  └─ \u001b[31mspades 3.15.2 \u001b[0m, which requires\n",
      "│  │     └─ \u001b[31msysroot_linux-64 2.17.* \u001b[0m, which conflicts with any installable versions previously reported;\n",
      "│  └─ \u001b[31mq2-assembly [2024.5.0.dev0+1.gfd3ae4c|2024.5.0.dev0+2.gea8f24f]\u001b[0m would require\n",
      "│     ├─ \u001b[31mpython_abi 3.8.* *_cp38\u001b[0m but there are no viable options\n",
      "│     │  ├─ \u001b[31mpython_abi 3.8\u001b[0m, which cannot be installed (as previously explained);\n",
      "│     │  └─ \u001b[31mpython_abi 3.8\u001b[0m conflicts with any installable versions previously reported;\n",
      "│     └─ \u001b[31mspades 3.15.2 \u001b[0m, which cannot be installed (as previously explained);\n",
      "├─ \u001b[31mq2-moshpit\u001b[0m is not installable because there are no viable options\n",
      "│  ├─ \u001b[31mq2-moshpit [2024.5.0|2024.5.0.dev0+11.g2b3b03d|2024.5.0.dev0+19.gd6c287b|2024.5.0.dev0+20.g8cd2099]\u001b[0m would require\n",
      "│  │  └─ \u001b[31mq2-assembly 2024.5.* \u001b[0m, which cannot be installed (as previously explained);\n",
      "│  └─ \u001b[31mq2-moshpit [2024.5.0.dev0+4.g4f27961|2024.5.0.dev0+7.gd45c699]\u001b[0m would require\n",
      "│     └─ \u001b[31mpython_abi 3.8.* *_cp38\u001b[0m but there are no viable options\n",
      "│        ├─ \u001b[31mpython_abi 3.8\u001b[0m, which cannot be installed (as previously explained);\n",
      "│        └─ \u001b[31mpython_abi 3.8\u001b[0m conflicts with any installable versions previously reported;\n",
      "├─ \u001b[32msepp 4.4.0** \u001b[0m is installable and it requires\n",
      "│  └─ \u001b[32mpython_abi 3.9.* *_cp39\u001b[0m, which can be installed;\n",
      "├─ \u001b[31msysroot_linux-64\u001b[0m is not installable because it conflicts with any installable versions previously reported;\n",
      "└─ \u001b[32msysroot_linux-64 2.12** \u001b[0m is installable and it requires\n",
      "   └─ \u001b[32mkernel-headers_linux-64 [2.6.32 h77966d4_13|2.6.32 he073ed8_14|2.6.32 he073ed8_15|2.6.32 he073ed8_16|2.6.32 he073ed8_17]\u001b[0m, which can be installed (as previously explained).\n",
      "\n"
     ]
    }
   ],
   "source": [
    "! conda install -c bioconda biom-format"
   ]
  },
  {
   "cell_type": "code",
   "execution_count": 36,
   "id": "7b419278-10e5-47c2-bd23-eff31756557c",
   "metadata": {
    "tags": []
   },
   "outputs": [],
   "source": [
    "import os # version: 3.9.19\n",
    "import sys # version: 3.9.19\n",
    "import qiime2 as q2 # version: 2024.5.0\n",
    "from qiime2 import Visualization\n",
    "from skbio import OrdinationResults\n",
    "import seaborn as sns # version: 0.12.2\n",
    "from seaborn import scatterplot\n",
    "import matplotlib.pyplot as plt # version: 3.8.4\n",
    "%matplotlib inline\n",
    "\n",
    "# Define the data directory\n",
    "data_dir = './data'"
   ]
  },
  {
   "cell_type": "markdown",
   "id": "67232b1f-17ae-42eb-8e57-b50180b06fba",
   "metadata": {},
   "source": [
    "#### 1. Download FUNGuild  \n",
    "Clone the repository"
   ]
  },
  {
   "cell_type": "code",
   "execution_count": 2,
   "id": "5164fc86-f0d7-415e-b52e-63b9328e72e8",
   "metadata": {
    "tags": []
   },
   "outputs": [
    {
     "name": "stdout",
     "output_type": "stream",
     "text": [
      "fatal: destination path 'FUNGuild' already exists and is not an empty directory.\n"
     ]
    }
   ],
   "source": [
    "! git clone https://github.com/UMNFuN/FUNGuild.git"
   ]
  },
  {
   "cell_type": "markdown",
   "id": "de4fdbfb-1996-4318-8524-bafed948d54c",
   "metadata": {},
   "source": [
    "#### 2. Export taxonomy as a tsv file so we can use it for FUNGuild  \n",
    "Clone the repository"
   ]
  },
  {
   "cell_type": "code",
   "execution_count": 3,
   "id": "461b8a3e-e47d-43b1-98a6-bf49798ab884",
   "metadata": {
    "tags": []
   },
   "outputs": [
    {
     "name": "stdout",
     "output_type": "stream",
     "text": [
      "^C\n",
      "\n",
      "Aborted!\n",
      "\u001b[0m"
     ]
    }
   ],
   "source": [
    "! qiime tools export \\\n",
    "    --input-path ./data/taxonomy_classification/taxonomy_unite_dynamic_s_all.qza \\\n",
    "    --output-path ./data/taxonomy_classification/exported-taxonomy"
   ]
  },
  {
   "cell_type": "markdown",
   "id": "a28844d1-a2df-4658-a340-a7a6ed8d82cd",
   "metadata": {},
   "source": [
    "#### 3. Format input data\n",
    "Fix the column name for the taxonomy.tsv because FUNGuild can only use the column name \"taxonomy\" and not \"Taxon\"."
   ]
  },
  {
   "cell_type": "code",
   "execution_count": 4,
   "id": "4acae3b3-3e3f-4c98-a691-b98cd2d1be6b",
   "metadata": {
    "tags": []
   },
   "outputs": [],
   "source": [
    "# Load the file\n",
    "df = pd.read_csv('./data/taxonomy_classification/exported-taxonomy/taxonomy.tsv', sep='\\t')\n",
    "\n",
    "# Rename the column\n",
    "df.rename(columns={'Taxon': 'taxonomy'}, inplace=True)\n",
    "\n",
    "# Save the updated file\n",
    "df.to_csv('./data/taxonomy_classification/exported-taxonomy/taxonomy_fixed.tsv', sep='\\t', index=False)"
   ]
  },
  {
   "cell_type": "markdown",
   "id": "7e332fc1-f10a-46f6-9888-3134171ce713",
   "metadata": {},
   "source": [
    "#### 4. Run FUNGuild"
   ]
  },
  {
   "cell_type": "markdown",
   "id": "93c0c3f9-2794-489e-b6bd-d236020bb2fd",
   "metadata": {},
   "source": [
    "Below is the code for the FUNGuild.  \n",
    "otu: path to the taxonomy file  \n",
    "db: specifying that fungal database is the one that we will use  \n",
    "m: output a table with only matched (function-assigned) OTUs  \n",
    "u: output a table with only unmatched OTUs"
   ]
  },
  {
   "cell_type": "code",
   "execution_count": 14,
   "id": "61ed6993-7bd9-4a18-87f3-3ea3b454b66a",
   "metadata": {
    "tags": []
   },
   "outputs": [
    {
     "name": "stdout",
     "output_type": "stream",
     "text": [
      "FunGuild v1.1 Beta\n",
      "Connecting with FUNGuild database ...\n",
      "\n",
      "Reading in the OTU table: './data/taxonomy_classification/exported-taxonomy/taxonomy_fixed.tsv'\n",
      "\n",
      "Searching the FUNGuild database...\n",
      "10%\n",
      "20%\n",
      "30%\n",
      "40%\n",
      "50%\n",
      "60%\n",
      "70%\n",
      "80%\n",
      "90%\n",
      "100%\n",
      "\n",
      "Found 1091 matching taxonomy records in the database.\n",
      "Dereplicating and sorting the result...\n",
      "FunGuild tried to assign function to 1021 OTUs in './data/taxonomy_classification/exported-taxonomy/taxonomy_fixed.tsv'.\n",
      "FUNGuild made assignments on 693 OTUs.\n",
      "Result saved to './data/taxonomy_classification/exported-taxonomy/taxonomy_fixed.guilds.txt'\n",
      "\n",
      "Additional output:\n",
      "FUNGuild made assignments on 693 OTUs, these have been saved to ./data/taxonomy_classification/exported-taxonomy/taxonomy_fixed.guilds_matched.txt.\n",
      "328 OTUs were unassigned, these are saved to ./data/taxonomy_classification/exported-taxonomy/taxonomy_fixed.guilds_unmatched.txt.\n",
      "\n",
      "Total calculating time: 5.96 seconds.\n"
     ]
    }
   ],
   "source": [
    "! python ./FUNGuild/Guilds_v1.1.py \\\n",
    "    -otu ./data/taxonomy_classification/exported-taxonomy/taxonomy_fixed.tsv \\\n",
    "    -db fungi \\\n",
    "    -m \\\n",
    "    -u"
   ]
  },
  {
   "cell_type": "markdown",
   "id": "24d872b0-3820-4da5-b783-9f752e50d6f0",
   "metadata": {},
   "source": [
    "#### The output has several columns:  \n",
    "Taxon: Original taxonomic assignment.  \n",
    "Trophic Mode: Ecological role (e.g., saprotroph, pathogen).  \n",
    "Guild: Specific guild (e.g., plant pathogen, ectomycorrhizal).  \n",
    "Confidence: Confidence level of the assignment."
   ]
  },
  {
   "cell_type": "markdown",
   "id": "9a81c2f4-9cb9-4e54-a59b-d8a3ff59aded",
   "metadata": {},
   "source": [
    "#### 5. Look at the created data"
   ]
  },
  {
   "cell_type": "code",
   "execution_count": 5,
   "id": "29d457fb-300c-42b8-bb45-3899f75a1e3a",
   "metadata": {
    "tags": []
   },
   "outputs": [
    {
     "name": "stdout",
     "output_type": "stream",
     "text": [
      "Guild\n",
      "Undefined Saprotroph                                                                        230\n",
      "|Undefined Saprotroph|                                                                       95\n",
      "Animal Pathogen-Plant Pathogen-|Undefined Saprotroph|                                        60\n",
      "Animal Pathogen-Endophyte-Endosymbiont-Epiphyte-|Undefined Saprotroph|                       56\n",
      "Animal Parasite-Animal Pathogen-Animal Symbiotroph-Plant Pathogen-|Undefined Saprotroph|     42\n",
      "                                                                                           ... \n",
      "Ectomycorrhizal-|Undefined Saprotroph|-Wood Saprotroph                                        1\n",
      "Endophyte-Nematophagous-Plant Pathogen-|Wood Saprotroph|                                      1\n",
      "Epiphyte-|Undefined Saprotroph|                                                               1\n",
      "|Plant Saprotroph|-Undefined Saprotroph-Wood Saprotroph                                       1\n",
      "|Dung Saprotroph|-Undefined Saprotroph                                                        1\n",
      "Name: count, Length: 63, dtype: int64\n"
     ]
    }
   ],
   "source": [
    "df_matched_guilds = pd.read_csv('./data/taxonomy_classification/exported-taxonomy/taxonomy_fixed.guilds_matched.txt', sep='\\t')\n",
    "print(df_matched_guilds['Guild'].value_counts())"
   ]
  },
  {
   "cell_type": "code",
   "execution_count": 6,
   "id": "125206fc-40aa-4c92-b2af-58fc56de559f",
   "metadata": {
    "tags": []
   },
   "outputs": [
    {
     "data": {
      "text/html": [
       "<div>\n",
       "<style scoped>\n",
       "    .dataframe tbody tr th:only-of-type {\n",
       "        vertical-align: middle;\n",
       "    }\n",
       "\n",
       "    .dataframe tbody tr th {\n",
       "        vertical-align: top;\n",
       "    }\n",
       "\n",
       "    .dataframe thead th {\n",
       "        text-align: right;\n",
       "    }\n",
       "</style>\n",
       "<table border=\"1\" class=\"dataframe\">\n",
       "  <thead>\n",
       "    <tr style=\"text-align: right;\">\n",
       "      <th></th>\n",
       "      <th>Feature ID</th>\n",
       "      <th>taxonomy</th>\n",
       "      <th>Confidence</th>\n",
       "      <th>Taxon</th>\n",
       "      <th>Taxon Level</th>\n",
       "      <th>Trophic Mode</th>\n",
       "      <th>Guild</th>\n",
       "      <th>Growth Morphology</th>\n",
       "      <th>Trait</th>\n",
       "      <th>Confidence Ranking</th>\n",
       "      <th>Notes</th>\n",
       "      <th>Citation/Source</th>\n",
       "    </tr>\n",
       "  </thead>\n",
       "  <tbody>\n",
       "    <tr>\n",
       "      <th>0</th>\n",
       "      <td>004c991a685b11054001b8c7d0a68543</td>\n",
       "      <td>k__Fungi;p__Ascomycota;c__Saccharomycetes;o__S...</td>\n",
       "      <td>0.954798</td>\n",
       "      <td>Saccharomycetales</td>\n",
       "      <td>7</td>\n",
       "      <td>Saprotroph</td>\n",
       "      <td>Undefined Saprotroph</td>\n",
       "      <td>Yeast</td>\n",
       "      <td>NaN</td>\n",
       "      <td>Possible</td>\n",
       "      <td>NaN</td>\n",
       "      <td>b'Sterkenburg E, et al. 2015. New Phytologist ...</td>\n",
       "    </tr>\n",
       "    <tr>\n",
       "      <th>1</th>\n",
       "      <td>0113430ae816d67262d3c86660ecd51e</td>\n",
       "      <td>k__Fungi;p__Ascomycota;c__Saccharomycetes;o__S...</td>\n",
       "      <td>0.802044</td>\n",
       "      <td>Saccharomycetales</td>\n",
       "      <td>7</td>\n",
       "      <td>Saprotroph</td>\n",
       "      <td>Undefined Saprotroph</td>\n",
       "      <td>Yeast</td>\n",
       "      <td>NaN</td>\n",
       "      <td>Possible</td>\n",
       "      <td>NaN</td>\n",
       "      <td>b'Sterkenburg E, et al. 2015. New Phytologist ...</td>\n",
       "    </tr>\n",
       "    <tr>\n",
       "      <th>2</th>\n",
       "      <td>01202eb8b50e4b6ac670afc696cf804c</td>\n",
       "      <td>k__Fungi;p__Ascomycota;c__Eurotiomycetes;o__Eu...</td>\n",
       "      <td>0.999728</td>\n",
       "      <td>Aspergillus</td>\n",
       "      <td>13</td>\n",
       "      <td>Pathotroph-Saprotroph-Symbiotroph</td>\n",
       "      <td>Animal Pathogen-Endophyte-Plant Saprotroph-|Un...</td>\n",
       "      <td>Microfungus</td>\n",
       "      <td>NaN</td>\n",
       "      <td>Probable</td>\n",
       "      <td>As foliar_endophyte (Põlme et al. 2020); Decay...</td>\n",
       "      <td>b'Seehann G, et al. 1975. List of Fungi in Sof...</td>\n",
       "    </tr>\n",
       "    <tr>\n",
       "      <th>3</th>\n",
       "      <td>014a604d3dadcb95ddc73b1d6c642b45</td>\n",
       "      <td>k__Fungi;p__Ascomycota;c__Saccharomycetes;o__S...</td>\n",
       "      <td>0.900741</td>\n",
       "      <td>Saccharomycetales</td>\n",
       "      <td>7</td>\n",
       "      <td>Saprotroph</td>\n",
       "      <td>Undefined Saprotroph</td>\n",
       "      <td>Yeast</td>\n",
       "      <td>NaN</td>\n",
       "      <td>Possible</td>\n",
       "      <td>NaN</td>\n",
       "      <td>b'Sterkenburg E, et al. 2015. New Phytologist ...</td>\n",
       "    </tr>\n",
       "    <tr>\n",
       "      <th>4</th>\n",
       "      <td>01ab17a41e837c842a5a232385a99169</td>\n",
       "      <td>k__Fungi;p__Ascomycota;c__Saccharomycetes;o__S...</td>\n",
       "      <td>0.956831</td>\n",
       "      <td>Candida</td>\n",
       "      <td>13</td>\n",
       "      <td>Pathotroph-Saprotroph-Symbiotroph</td>\n",
       "      <td>Animal Pathogen-Endophyte-Endosymbiont-Epiphyt...</td>\n",
       "      <td>Dimorphic Yeast-Yeast</td>\n",
       "      <td>NaN</td>\n",
       "      <td>Probable</td>\n",
       "      <td>As nectar-tap_saprotroph (Põlme et al. 2020); ...</td>\n",
       "      <td>b'Manolakaki D, et al. 2010. Virulence. 1: 367...</td>\n",
       "    </tr>\n",
       "    <tr>\n",
       "      <th>...</th>\n",
       "      <td>...</td>\n",
       "      <td>...</td>\n",
       "      <td>...</td>\n",
       "      <td>...</td>\n",
       "      <td>...</td>\n",
       "      <td>...</td>\n",
       "      <td>...</td>\n",
       "      <td>...</td>\n",
       "      <td>...</td>\n",
       "      <td>...</td>\n",
       "      <td>...</td>\n",
       "      <td>...</td>\n",
       "    </tr>\n",
       "    <tr>\n",
       "      <th>688</th>\n",
       "      <td>ff026a993319972d8bec281f38aeacc3</td>\n",
       "      <td>k__Fungi;p__Ascomycota;c__Saccharomycetes;o__S...</td>\n",
       "      <td>0.999925</td>\n",
       "      <td>Candida</td>\n",
       "      <td>13</td>\n",
       "      <td>Pathotroph-Saprotroph-Symbiotroph</td>\n",
       "      <td>Animal Pathogen-Endophyte-Endosymbiont-Epiphyt...</td>\n",
       "      <td>Dimorphic Yeast-Yeast</td>\n",
       "      <td>NaN</td>\n",
       "      <td>Probable</td>\n",
       "      <td>As nectar-tap_saprotroph (Põlme et al. 2020); ...</td>\n",
       "      <td>b'Manolakaki D, et al. 2010. Virulence. 1: 367...</td>\n",
       "    </tr>\n",
       "    <tr>\n",
       "      <th>689</th>\n",
       "      <td>ff8c880f0650931cb829568034d00a78</td>\n",
       "      <td>k__Fungi;p__Ascomycota;c__Saccharomycetes;o__S...</td>\n",
       "      <td>0.992525</td>\n",
       "      <td>Meyerozyma</td>\n",
       "      <td>13</td>\n",
       "      <td>Saprotroph-Symbiotroph</td>\n",
       "      <td>Endophyte-|Epiphyte|-Undefined Saprotroph</td>\n",
       "      <td>Yeast</td>\n",
       "      <td>NaN</td>\n",
       "      <td>Probable</td>\n",
       "      <td>As foliar_endophyte (Põlme et al. 2020); As ne...</td>\n",
       "      <td>b'P\\xc3\\xb5lme S, et al. 2020. Fungal Diversit...</td>\n",
       "    </tr>\n",
       "    <tr>\n",
       "      <th>690</th>\n",
       "      <td>ffafb7e58eb5ffd894cf6b5a4610dc89</td>\n",
       "      <td>k__Fungi;p__Ascomycota;c__Saccharomycetes;o__S...</td>\n",
       "      <td>0.720555</td>\n",
       "      <td>Geotrichum</td>\n",
       "      <td>13</td>\n",
       "      <td>Pathotroph-Saprotroph</td>\n",
       "      <td>Animal Pathogen-Plant Pathogen-|Undefined Sapr...</td>\n",
       "      <td>Microfungus</td>\n",
       "      <td>NaN</td>\n",
       "      <td>Probable</td>\n",
       "      <td>As nectar-tap_saprotroph (Põlme et al. 2020); ...</td>\n",
       "      <td>b'Thornton CR, et al. 2010. International Jour...</td>\n",
       "    </tr>\n",
       "    <tr>\n",
       "      <th>691</th>\n",
       "      <td>ffd273afcb47f6101f2f9c7a03915a3c</td>\n",
       "      <td>k__Fungi;p__Ascomycota;c__Saccharomycetes;o__S...</td>\n",
       "      <td>0.964271</td>\n",
       "      <td>Candida</td>\n",
       "      <td>13</td>\n",
       "      <td>Pathotroph-Saprotroph-Symbiotroph</td>\n",
       "      <td>Animal Pathogen-Endophyte-Endosymbiont-Epiphyt...</td>\n",
       "      <td>Dimorphic Yeast-Yeast</td>\n",
       "      <td>NaN</td>\n",
       "      <td>Probable</td>\n",
       "      <td>As nectar-tap_saprotroph (Põlme et al. 2020); ...</td>\n",
       "      <td>b'Manolakaki D, et al. 2010. Virulence. 1: 367...</td>\n",
       "    </tr>\n",
       "    <tr>\n",
       "      <th>692</th>\n",
       "      <td>fff9e0195eed626522c64ce87b33b23e</td>\n",
       "      <td>k__Fungi;p__Basidiomycota;c__Tremellomycetes;o...</td>\n",
       "      <td>0.989471</td>\n",
       "      <td>Trichosporon</td>\n",
       "      <td>13</td>\n",
       "      <td>Pathotroph-Saprotroph</td>\n",
       "      <td>|Animal Parasite|-Animal Pathogen-Undefined Sa...</td>\n",
       "      <td>Yeast</td>\n",
       "      <td>NaN</td>\n",
       "      <td>Probable</td>\n",
       "      <td>As animal_decomposer (Põlme et al. 2020); Deca...</td>\n",
       "      <td>b'Irinyi L, et al. 2015. Medical Mycology 53:3...</td>\n",
       "    </tr>\n",
       "  </tbody>\n",
       "</table>\n",
       "<p>693 rows × 12 columns</p>\n",
       "</div>"
      ],
      "text/plain": [
       "                           Feature ID  \\\n",
       "0    004c991a685b11054001b8c7d0a68543   \n",
       "1    0113430ae816d67262d3c86660ecd51e   \n",
       "2    01202eb8b50e4b6ac670afc696cf804c   \n",
       "3    014a604d3dadcb95ddc73b1d6c642b45   \n",
       "4    01ab17a41e837c842a5a232385a99169   \n",
       "..                                ...   \n",
       "688  ff026a993319972d8bec281f38aeacc3   \n",
       "689  ff8c880f0650931cb829568034d00a78   \n",
       "690  ffafb7e58eb5ffd894cf6b5a4610dc89   \n",
       "691  ffd273afcb47f6101f2f9c7a03915a3c   \n",
       "692  fff9e0195eed626522c64ce87b33b23e   \n",
       "\n",
       "                                              taxonomy  Confidence  \\\n",
       "0    k__Fungi;p__Ascomycota;c__Saccharomycetes;o__S...    0.954798   \n",
       "1    k__Fungi;p__Ascomycota;c__Saccharomycetes;o__S...    0.802044   \n",
       "2    k__Fungi;p__Ascomycota;c__Eurotiomycetes;o__Eu...    0.999728   \n",
       "3    k__Fungi;p__Ascomycota;c__Saccharomycetes;o__S...    0.900741   \n",
       "4    k__Fungi;p__Ascomycota;c__Saccharomycetes;o__S...    0.956831   \n",
       "..                                                 ...         ...   \n",
       "688  k__Fungi;p__Ascomycota;c__Saccharomycetes;o__S...    0.999925   \n",
       "689  k__Fungi;p__Ascomycota;c__Saccharomycetes;o__S...    0.992525   \n",
       "690  k__Fungi;p__Ascomycota;c__Saccharomycetes;o__S...    0.720555   \n",
       "691  k__Fungi;p__Ascomycota;c__Saccharomycetes;o__S...    0.964271   \n",
       "692  k__Fungi;p__Basidiomycota;c__Tremellomycetes;o...    0.989471   \n",
       "\n",
       "                 Taxon  Taxon Level                        Trophic Mode  \\\n",
       "0    Saccharomycetales            7                          Saprotroph   \n",
       "1    Saccharomycetales            7                          Saprotroph   \n",
       "2          Aspergillus           13   Pathotroph-Saprotroph-Symbiotroph   \n",
       "3    Saccharomycetales            7                          Saprotroph   \n",
       "4              Candida           13   Pathotroph-Saprotroph-Symbiotroph   \n",
       "..                 ...          ...                                 ...   \n",
       "688            Candida           13   Pathotroph-Saprotroph-Symbiotroph   \n",
       "689         Meyerozyma           13              Saprotroph-Symbiotroph   \n",
       "690         Geotrichum           13               Pathotroph-Saprotroph   \n",
       "691            Candida           13   Pathotroph-Saprotroph-Symbiotroph   \n",
       "692       Trichosporon           13               Pathotroph-Saprotroph   \n",
       "\n",
       "                                                 Guild      Growth Morphology  \\\n",
       "0                                 Undefined Saprotroph                  Yeast   \n",
       "1                                 Undefined Saprotroph                  Yeast   \n",
       "2    Animal Pathogen-Endophyte-Plant Saprotroph-|Un...            Microfungus   \n",
       "3                                 Undefined Saprotroph                  Yeast   \n",
       "4    Animal Pathogen-Endophyte-Endosymbiont-Epiphyt...  Dimorphic Yeast-Yeast   \n",
       "..                                                 ...                    ...   \n",
       "688  Animal Pathogen-Endophyte-Endosymbiont-Epiphyt...  Dimorphic Yeast-Yeast   \n",
       "689          Endophyte-|Epiphyte|-Undefined Saprotroph                  Yeast   \n",
       "690  Animal Pathogen-Plant Pathogen-|Undefined Sapr...            Microfungus   \n",
       "691  Animal Pathogen-Endophyte-Endosymbiont-Epiphyt...  Dimorphic Yeast-Yeast   \n",
       "692  |Animal Parasite|-Animal Pathogen-Undefined Sa...                  Yeast   \n",
       "\n",
       "    Trait Confidence Ranking  \\\n",
       "0     NaN           Possible   \n",
       "1     NaN           Possible   \n",
       "2     NaN           Probable   \n",
       "3     NaN           Possible   \n",
       "4     NaN           Probable   \n",
       "..    ...                ...   \n",
       "688   NaN           Probable   \n",
       "689   NaN           Probable   \n",
       "690   NaN           Probable   \n",
       "691   NaN           Probable   \n",
       "692   NaN           Probable   \n",
       "\n",
       "                                                 Notes  \\\n",
       "0                                                  NaN   \n",
       "1                                                  NaN   \n",
       "2    As foliar_endophyte (Põlme et al. 2020); Decay...   \n",
       "3                                                  NaN   \n",
       "4    As nectar-tap_saprotroph (Põlme et al. 2020); ...   \n",
       "..                                                 ...   \n",
       "688  As nectar-tap_saprotroph (Põlme et al. 2020); ...   \n",
       "689  As foliar_endophyte (Põlme et al. 2020); As ne...   \n",
       "690  As nectar-tap_saprotroph (Põlme et al. 2020); ...   \n",
       "691  As nectar-tap_saprotroph (Põlme et al. 2020); ...   \n",
       "692  As animal_decomposer (Põlme et al. 2020); Deca...   \n",
       "\n",
       "                                       Citation/Source  \n",
       "0    b'Sterkenburg E, et al. 2015. New Phytologist ...  \n",
       "1    b'Sterkenburg E, et al. 2015. New Phytologist ...  \n",
       "2    b'Seehann G, et al. 1975. List of Fungi in Sof...  \n",
       "3    b'Sterkenburg E, et al. 2015. New Phytologist ...  \n",
       "4    b'Manolakaki D, et al. 2010. Virulence. 1: 367...  \n",
       "..                                                 ...  \n",
       "688  b'Manolakaki D, et al. 2010. Virulence. 1: 367...  \n",
       "689  b'P\\xc3\\xb5lme S, et al. 2020. Fungal Diversit...  \n",
       "690  b'Thornton CR, et al. 2010. International Jour...  \n",
       "691  b'Manolakaki D, et al. 2010. Virulence. 1: 367...  \n",
       "692  b'Irinyi L, et al. 2015. Medical Mycology 53:3...  \n",
       "\n",
       "[693 rows x 12 columns]"
      ]
     },
     "execution_count": 6,
     "metadata": {},
     "output_type": "execute_result"
    }
   ],
   "source": [
    "#filter by confidence level \n",
    "df_matched_guilds[df_matched_guilds['Confidence'] > 0.7]"
   ]
  },
  {
   "cell_type": "markdown",
   "id": "cc158b6d-21b6-48b9-8c24-0e672abcb63d",
   "metadata": {},
   "source": [
    "#### 6. Prepare the data for beta diversity analysis  \n",
    "To be able to use this data for qqime 2, we need to fix the format:  \n",
    "Rows represent samples (based on the Feature ID).  \n",
    "Columns represent guilds.  \n",
    "Values represent the abundance of each guild in a sample."
   ]
  },
  {
   "cell_type": "code",
   "execution_count": 10,
   "id": "5dd6b619-35ee-42ea-b33f-77797b67e0e3",
   "metadata": {
    "tags": []
   },
   "outputs": [],
   "source": [
    "# Pivot the table to create a feature table\n",
    "feature_table = df_matched_guilds.pivot_table(index='Feature ID', columns='Guild', values='Confidence', aggfunc='sum').fillna(0)\n",
    "\n",
    "# Save the feature table\n",
    "feature_table.to_csv('./FUNGuild/beta_diversity_feature_table.tsv', sep='\\t')"
   ]
  },
  {
   "cell_type": "markdown",
   "id": "ee169f82-ceea-4d8c-a2d7-dd3b8db8d6db",
   "metadata": {},
   "source": [
    "#### 7. Import data to QQIME 2\n",
    "QIIME 2 requires feature tables to have a specific format and metadata structure to perform downstream analyses, and \"OTU table\" is one of the accepted types for representing microbial abundance data."
   ]
  },
  {
   "cell_type": "code",
   "execution_count": 11,
   "id": "aeb83d80-5909-42c0-8790-f3ffd0ab839d",
   "metadata": {
    "tags": []
   },
   "outputs": [],
   "source": [
    "#use biom to convert the table into soemthing QQIME2 can work with\n",
    "! biom convert \\\n",
    "  -i ./FUNGuild/beta_diversity_feature_table.tsv \\\n",
    "  -o ./FUNGuild/beta_diversity_feature_table.biom \\\n",
    "  --table-type=\"OTU table\" \\\n",
    "  --to-hdf5"
   ]
  },
  {
   "cell_type": "code",
   "execution_count": 12,
   "id": "d5c22b87-e514-4484-ae68-a1c02339872d",
   "metadata": {
    "tags": []
   },
   "outputs": [
    {
     "name": "stdout",
     "output_type": "stream",
     "text": [
      "\u001b[32mImported ./FUNGuild/beta_diversity_feature_table.biom as BIOMV210DirFmt to ./FUNGuild/beta_diversity_feature_table.qza\u001b[0m\n",
      "\u001b[0m"
     ]
    }
   ],
   "source": [
    "! qiime tools import \\\n",
    "  --type 'FeatureTable[Frequency]' \\\n",
    "  --input-path ./FUNGuild/beta_diversity_feature_table.biom \\\n",
    "  --output-path ./FUNGuild/beta_diversity_feature_table.qza"
   ]
  },
  {
   "cell_type": "markdown",
   "id": "46745e82-6f92-4535-9b41-580764a98ffc",
   "metadata": {},
   "source": [
    "#### 8. Perform beta diversity analysis\n",
    "##### 8.1. Generate distance matrix"
   ]
  },
  {
   "cell_type": "code",
   "execution_count": 13,
   "id": "cb6c4800-f763-47d7-85b7-221d234c6d70",
   "metadata": {
    "tags": []
   },
   "outputs": [
    {
     "name": "stdout",
     "output_type": "stream",
     "text": [
      "\u001b[32mSaved DistanceMatrix to: ./FUNGuild/braycurtis_distance_matrix_FUNGuild.qza\u001b[0m\n",
      "\u001b[0m"
     ]
    }
   ],
   "source": [
    "! qiime diversity beta \\\n",
    "    --i-table ./FUNGuild/beta_diversity_feature_table.qza \\\n",
    "    --p-metric braycurtis \\\n",
    "    --o-distance-matrix ./FUNGuild/braycurtis_distance_matrix_FUNGuild.qza"
   ]
  },
  {
   "cell_type": "markdown",
   "id": "72da168a-a7c4-4150-8d92-0cfa0c4aaf4d",
   "metadata": {},
   "source": [
    "##### 8.2. Perform PCoA"
   ]
  },
  {
   "cell_type": "code",
   "execution_count": 15,
   "id": "8e2a937c-59af-4108-a56b-226c17e30c7f",
   "metadata": {
    "tags": []
   },
   "outputs": [
    {
     "name": "stdout",
     "output_type": "stream",
     "text": [
      "\u001b[32mSaved PCoAResults to: ./FUNGuild/braycurtis_pcoa_FUNGuild.qza\u001b[0m\n",
      "\u001b[0m"
     ]
    }
   ],
   "source": [
    "! qiime diversity pcoa \\\n",
    "    --i-distance-matrix ./FUNGuild/braycurtis_distance_matrix_FUNGuild.qza \\\n",
    "    --o-pcoa ./FUNGuild/braycurtis_pcoa_FUNGuild.qza"
   ]
  },
  {
   "cell_type": "markdown",
   "id": "b52994ef-063b-402c-a43e-db8a1c8497fa",
   "metadata": {},
   "source": [
    "##### 8.3. Visualize Beta Diversity"
   ]
  },
  {
   "cell_type": "code",
   "execution_count": 42,
   "id": "64781753-d930-4b4f-bac8-e22505eddeb5",
   "metadata": {
    "tags": []
   },
   "outputs": [
    {
     "name": "stdout",
     "output_type": "stream",
     "text": [
      "\u001b[32mExported ./data/filtered-feature-table.qza as BIOMV210DirFmt to directory ./data/exported-feature-table\u001b[0m\n",
      "\u001b[0m"
     ]
    }
   ],
   "source": [
    "! qiime tools export \\\n",
    "    --input-path ./data/feature_tables_dada/filtered-feature-table.qza \\\n",
    "    --output-path ./data/feature_tables_data/exported-feature-table\n",
    "#it is exported as a .biom so we need to convert it to tsv so we can work on it"
   ]
  },
  {
   "cell_type": "code",
   "execution_count": 18,
   "id": "1f4e6630-df89-4abf-bd82-e7b8700b6c06",
   "metadata": {
    "tags": []
   },
   "outputs": [],
   "source": [
    "! biom convert \\\n",
    "  -i ./data/feature_tables_dada/exported-feature-table/feature-table.biom \\\n",
    "  -o ./data/feature_tables_dada/exported-feature-table/feature-table.tsv \\\n",
    "  --to-tsv"
   ]
  },
  {
   "cell_type": "code",
   "execution_count": 19,
   "id": "2e340331-8ecb-4e15-a765-697b7f3c969b",
   "metadata": {
    "tags": []
   },
   "outputs": [
    {
     "name": "stdout",
     "output_type": "stream",
     "text": [
      "# Constructed from biom file\n",
      "#OTU ID\tERR5327198\tERR5327199\tERR5327266\tERR5327282\tERR5327284\tERR5327285\tERR5327287\tERR5327288\tERR5327289\tERR5327300\tERR5327303\tERR5327305\tERR5327308\tERR5327311\tERR5327313\tERR5327314\tERR5327316\tERR5327317\tERR5327318\tERR5327322\tERR5327323\tERR5327325\tERR5327326\tERR5327327\tERR5327329\tERR5327332\tERR5327335\tERR5327338\tERR5327340\tERR5327343\tERR5327344\tERR5327346\tERR5327348\tERR5327349\tERR5327351\tERR5327352\tERR5327353\tERR5327354\tERR5327355\tERR5327356\tERR5327360\tERR5327362\tERR5327363\tERR5327364\tERR5327367\tERR5327379\tERR5327387\tERR5327388\tERR5327394\tERR5327395\tERR5327396\tERR5327401\tERR5327402\tERR5327404\tERR5327405\tERR5327406\tERR5327407\tERR5327408\tERR5327409\tERR5327410\tERR5327412\tERR5327414\tERR5327415\tERR5327416\tERR5327418\tERR5327419\tERR5327421\tERR5327426\tERR5327427\tERR5327428\tERR5327431\tERR5327432\tERR5327433\tERR5327434\tERR5327435\tERR5327439\tERR5327442\tERR5327443\tERR5327444\tERR5327445\tERR5327447\tERR5327450\tERR5327452\tERR5327456\tERR5327464\tERR5327465\tERR5327470\tERR5327471\tERR5327472\tERR5327475\tERR5327479\tERR5327481\tERR5327482\tERR5327484\tERR5327485\tERR5327487\tERR5327489\tERR5327492\tERR5327493\tERR5327498\tERR5327502\tERR5327503\tERR5327507\tERR5327509\tERR5327511\tERR5327513\tERR5327515\tERR5327516\tERR5327517\tERR5327521\tERR5327523\tERR5327529\tERR5327531\tERR5327533\tERR5327534\tERR5327535\tERR5327539\tERR5327540\tERR5327541\tERR5327544\tERR5327546\tERR5327550\tERR5327554\tERR5327555\tERR5327557\tERR5327561\tERR5327562\tERR5327566\tERR5327567\tERR5327568\tERR5327569\tERR5327573\tERR5327575\tERR5327576\tERR5327581\tERR5327584\tERR5327586\tERR5327587\tERR5327591\tERR5327592\tERR5327596\tERR5327599\tERR5327604\tERR5327605\tERR5327615\tERR5327620\n",
      "25bc419d2059b2ae08c91108b86b71e6\t0.0\t0.0\t0.0\t0.0\t0.0\t0.0\t0.0\t0.0\t0.0\t0.0\t0.0\t0.0\t0.0\t0.0\t0.0\t8.0\t0.0\t0.0\t0.0\t0.0\t0.0\t0.0\t0.0\t0.0\t0.0\t0.0\t0.0\t0.0\t0.0\t0.0\t0.0\t0.0\t0.0\t0.0\t0.0\t43.0\t0.0\t0.0\t0.0\t0.0\t0.0\t0.0\t0.0\t0.0\t0.0\t0.0\t0.0\t0.0\t0.0\t0.0\t0.0\t0.0\t0.0\t0.0\t0.0\t0.0\t0.0\t0.0\t0.0\t0.0\t0.0\t0.0\t0.0\t0.0\t0.0\t0.0\t0.0\t0.0\t0.0\t0.0\t0.0\t0.0\t0.0\t0.0\t0.0\t0.0\t0.0\t0.0\t0.0\t0.0\t0.0\t0.0\t0.0\t0.0\t0.0\t0.0\t0.0\t0.0\t0.0\t0.0\t0.0\t0.0\t0.0\t0.0\t0.0\t0.0\t0.0\t0.0\t0.0\t0.0\t0.0\t0.0\t0.0\t0.0\t0.0\t0.0\t0.0\t0.0\t0.0\t0.0\t0.0\t0.0\t0.0\t0.0\t0.0\t0.0\t0.0\t0.0\t0.0\t0.0\t0.0\t0.0\t0.0\t0.0\t0.0\t0.0\t0.0\t0.0\t8.0\t0.0\t0.0\t0.0\t0.0\t0.0\t0.0\t0.0\t0.0\t0.0\t0.0\t0.0\t0.0\t0.0\t0.0\t0.0\t0.0\t0.0\n",
      "5f53f50aea8a5462421d845b18e60151\t0.0\t0.0\t0.0\t0.0\t0.0\t0.0\t0.0\t0.0\t0.0\t0.0\t0.0\t0.0\t0.0\t0.0\t0.0\t0.0\t0.0\t0.0\t0.0\t0.0\t0.0\t0.0\t0.0\t0.0\t0.0\t0.0\t0.0\t0.0\t0.0\t0.0\t0.0\t0.0\t0.0\t0.0\t0.0\t0.0\t0.0\t0.0\t0.0\t0.0\t0.0\t0.0\t0.0\t0.0\t0.0\t0.0\t4157.0\t0.0\t0.0\t0.0\t0.0\t0.0\t0.0\t0.0\t0.0\t0.0\t0.0\t0.0\t0.0\t0.0\t0.0\t0.0\t0.0\t0.0\t0.0\t0.0\t0.0\t0.0\t0.0\t0.0\t0.0\t0.0\t0.0\t0.0\t0.0\t0.0\t0.0\t0.0\t0.0\t0.0\t0.0\t0.0\t0.0\t0.0\t0.0\t0.0\t0.0\t0.0\t0.0\t0.0\t0.0\t0.0\t0.0\t0.0\t0.0\t0.0\t0.0\t0.0\t0.0\t0.0\t0.0\t0.0\t0.0\t0.0\t0.0\t0.0\t0.0\t0.0\t0.0\t0.0\t0.0\t0.0\t0.0\t0.0\t0.0\t0.0\t0.0\t0.0\t0.0\t0.0\t0.0\t0.0\t0.0\t0.0\t0.0\t0.0\t0.0\t0.0\t0.0\t0.0\t0.0\t0.0\t0.0\t0.0\t0.0\t0.0\t0.0\t0.0\t0.0\t0.0\t0.0\t0.0\t0.0\t0.0\t0.0\t0.0\n",
      "192eb2ce554d1b2e5e7c08135413e10b\t0.0\t0.0\t0.0\t0.0\t0.0\t0.0\t0.0\t0.0\t0.0\t0.0\t0.0\t0.0\t0.0\t0.0\t0.0\t0.0\t0.0\t0.0\t0.0\t0.0\t0.0\t0.0\t0.0\t0.0\t0.0\t0.0\t0.0\t0.0\t0.0\t0.0\t0.0\t0.0\t0.0\t0.0\t0.0\t0.0\t0.0\t0.0\t0.0\t0.0\t0.0\t0.0\t0.0\t0.0\t0.0\t0.0\t0.0\t0.0\t0.0\t0.0\t0.0\t0.0\t0.0\t0.0\t0.0\t0.0\t0.0\t0.0\t0.0\t0.0\t0.0\t0.0\t0.0\t0.0\t0.0\t0.0\t0.0\t0.0\t0.0\t0.0\t0.0\t0.0\t0.0\t0.0\t0.0\t0.0\t0.0\t0.0\t0.0\t0.0\t0.0\t0.0\t0.0\t0.0\t0.0\t0.0\t0.0\t0.0\t0.0\t0.0\t0.0\t0.0\t0.0\t0.0\t0.0\t0.0\t0.0\t0.0\t0.0\t0.0\t0.0\t0.0\t0.0\t0.0\t0.0\t0.0\t0.0\t0.0\t0.0\t0.0\t0.0\t0.0\t0.0\t0.0\t0.0\t0.0\t0.0\t0.0\t0.0\t0.0\t0.0\t0.0\t0.0\t0.0\t0.0\t0.0\t0.0\t0.0\t0.0\t0.0\t0.0\t0.0\t0.0\t0.0\t0.0\t0.0\t0.0\t0.0\t0.0\t5422.0\t0.0\t0.0\t0.0\t0.0\t0.0\t0.0\n",
      "f03e4889f73ea08958135b0757e539dd\t8010.0\t0.0\t0.0\t0.0\t0.0\t0.0\t0.0\t0.0\t0.0\t51.0\t0.0\t0.0\t0.0\t0.0\t0.0\t0.0\t0.0\t0.0\t0.0\t0.0\t0.0\t0.0\t0.0\t0.0\t0.0\t0.0\t0.0\t0.0\t0.0\t0.0\t0.0\t0.0\t0.0\t0.0\t0.0\t0.0\t0.0\t0.0\t0.0\t0.0\t0.0\t0.0\t0.0\t0.0\t0.0\t0.0\t0.0\t0.0\t0.0\t0.0\t0.0\t0.0\t0.0\t0.0\t0.0\t0.0\t0.0\t0.0\t0.0\t0.0\t0.0\t0.0\t0.0\t0.0\t0.0\t0.0\t0.0\t0.0\t0.0\t0.0\t0.0\t0.0\t0.0\t0.0\t0.0\t0.0\t0.0\t0.0\t0.0\t0.0\t0.0\t0.0\t0.0\t0.0\t0.0\t0.0\t0.0\t0.0\t0.0\t0.0\t0.0\t0.0\t0.0\t0.0\t0.0\t0.0\t0.0\t0.0\t0.0\t0.0\t0.0\t0.0\t0.0\t0.0\t0.0\t0.0\t0.0\t0.0\t0.0\t0.0\t0.0\t0.0\t0.0\t10.0\t0.0\t0.0\t0.0\t0.0\t0.0\t0.0\t0.0\t0.0\t0.0\t0.0\t0.0\t0.0\t0.0\t0.0\t0.0\t0.0\t0.0\t0.0\t0.0\t0.0\t0.0\t0.0\t0.0\t0.0\t0.0\t0.0\t0.0\t0.0\t0.0\t9.0\t0.0\t0.0\n",
      "a112f028910db87dfd35a3a916544d74\t0.0\t0.0\t0.0\t0.0\t0.0\t0.0\t0.0\t0.0\t0.0\t0.0\t106.0\t0.0\t0.0\t0.0\t0.0\t0.0\t0.0\t0.0\t0.0\t0.0\t0.0\t0.0\t0.0\t0.0\t0.0\t0.0\t0.0\t0.0\t0.0\t0.0\t0.0\t0.0\t0.0\t0.0\t0.0\t0.0\t0.0\t0.0\t0.0\t0.0\t0.0\t0.0\t0.0\t0.0\t0.0\t0.0\t0.0\t0.0\t0.0\t0.0\t0.0\t0.0\t0.0\t0.0\t0.0\t0.0\t0.0\t0.0\t0.0\t0.0\t0.0\t0.0\t0.0\t0.0\t0.0\t0.0\t0.0\t0.0\t0.0\t0.0\t0.0\t0.0\t0.0\t0.0\t0.0\t0.0\t0.0\t0.0\t0.0\t0.0\t0.0\t0.0\t0.0\t0.0\t0.0\t0.0\t0.0\t0.0\t0.0\t0.0\t0.0\t0.0\t0.0\t0.0\t0.0\t0.0\t0.0\t0.0\t0.0\t0.0\t0.0\t0.0\t0.0\t0.0\t0.0\t0.0\t0.0\t0.0\t0.0\t0.0\t0.0\t0.0\t0.0\t0.0\t0.0\t0.0\t0.0\t0.0\t0.0\t0.0\t0.0\t0.0\t0.0\t0.0\t0.0\t0.0\t0.0\t0.0\t0.0\t0.0\t0.0\t0.0\t0.0\t0.0\t0.0\t0.0\t0.0\t0.0\t0.0\t0.0\t0.0\t0.0\t0.0\t0.0\t0.0\t0.0\n",
      "732fc50c22a7dd15c44980a9cdadac4d\t0.0\t0.0\t0.0\t0.0\t0.0\t0.0\t0.0\t0.0\t0.0\t0.0\t0.0\t0.0\t0.0\t0.0\t0.0\t0.0\t0.0\t0.0\t0.0\t0.0\t0.0\t0.0\t0.0\t0.0\t0.0\t0.0\t0.0\t0.0\t0.0\t0.0\t0.0\t0.0\t0.0\t0.0\t0.0\t0.0\t0.0\t0.0\t0.0\t0.0\t0.0\t0.0\t0.0\t0.0\t0.0\t0.0\t0.0\t0.0\t0.0\t0.0\t0.0\t0.0\t6.0\t0.0\t0.0\t0.0\t0.0\t0.0\t0.0\t0.0\t0.0\t0.0\t0.0\t0.0\t0.0\t0.0\t0.0\t0.0\t0.0\t0.0\t0.0\t0.0\t0.0\t0.0\t0.0\t0.0\t0.0\t0.0\t0.0\t0.0\t0.0\t0.0\t0.0\t0.0\t0.0\t0.0\t0.0\t0.0\t0.0\t0.0\t0.0\t0.0\t0.0\t0.0\t0.0\t0.0\t0.0\t0.0\t0.0\t0.0\t0.0\t0.0\t0.0\t0.0\t0.0\t0.0\t0.0\t0.0\t0.0\t0.0\t0.0\t0.0\t0.0\t0.0\t0.0\t0.0\t0.0\t0.0\t0.0\t0.0\t0.0\t0.0\t0.0\t0.0\t0.0\t0.0\t0.0\t0.0\t0.0\t0.0\t0.0\t0.0\t0.0\t0.0\t0.0\t0.0\t0.0\t0.0\t0.0\t0.0\t0.0\t0.0\t0.0\t0.0\t0.0\t0.0\n",
      "cbd67b07cb308574fa0a6eac829f5af9\t0.0\t0.0\t0.0\t0.0\t0.0\t0.0\t0.0\t0.0\t0.0\t0.0\t0.0\t0.0\t0.0\t0.0\t0.0\t0.0\t0.0\t0.0\t0.0\t0.0\t0.0\t0.0\t0.0\t0.0\t0.0\t0.0\t0.0\t0.0\t0.0\t0.0\t0.0\t0.0\t0.0\t0.0\t0.0\t0.0\t0.0\t0.0\t0.0\t0.0\t0.0\t0.0\t0.0\t0.0\t0.0\t0.0\t0.0\t6.0\t0.0\t0.0\t0.0\t0.0\t0.0\t0.0\t0.0\t0.0\t0.0\t0.0\t7.0\t0.0\t0.0\t0.0\t0.0\t0.0\t5.0\t0.0\t0.0\t0.0\t0.0\t0.0\t0.0\t0.0\t0.0\t0.0\t0.0\t0.0\t0.0\t0.0\t0.0\t0.0\t0.0\t0.0\t0.0\t0.0\t0.0\t0.0\t0.0\t0.0\t0.0\t0.0\t0.0\t0.0\t0.0\t0.0\t0.0\t0.0\t0.0\t0.0\t0.0\t0.0\t0.0\t0.0\t0.0\t0.0\t0.0\t0.0\t0.0\t0.0\t0.0\t0.0\t0.0\t0.0\t0.0\t0.0\t0.0\t0.0\t0.0\t0.0\t0.0\t0.0\t0.0\t0.0\t0.0\t0.0\t0.0\t0.0\t0.0\t0.0\t0.0\t0.0\t0.0\t0.0\t0.0\t0.0\t0.0\t0.0\t0.0\t0.0\t0.0\t0.0\t0.0\t0.0\t0.0\t10.0\t0.0\t0.0\n",
      "f1e00c6f31a5546a15c206010ff3583c\t227.0\t72.0\t53239.0\t0.0\t74.0\t124.0\t25132.0\t75.0\t68978.0\t0.0\t39.0\t77.0\t99.0\t59730.0\t407.0\t2193.0\t701.0\t66.0\t83.0\t121.0\t80.0\t16648.0\t72.0\t81384.0\t58.0\t74.0\t9007.0\t289.0\t496.0\t233.0\t43023.0\t92.0\t82819.0\t79722.0\t42.0\t3799.0\t80.0\t55327.0\t57030.0\t71345.0\t808.0\t62433.0\t38.0\t80.0\t76108.0\t0.0\t64.0\t69648.0\t4878.0\t72.0\t22046.0\t83.0\t150.0\t80898.0\t28039.0\t42349.0\t122.0\t69.0\t71813.0\t135.0\t0.0\t101.0\t98.0\t53.0\t30289.0\t2463.0\t157.0\t44.0\t51.0\t41025.0\t44672.0\t508.0\t142.0\t2012.0\t58.0\t50.0\t44.0\t57.0\t92.0\t27228.0\t70667.0\t4299.0\t76579.0\t88.0\t71.0\t83.0\t124.0\t77.0\t85.0\t35415.0\t32.0\t99.0\t103.0\t38.0\t64.0\t85.0\t5760.0\t68.0\t127.0\t67.0\t83.0\t45.0\t58.0\t52.0\t65714.0\t7960.0\t113.0\t61.0\t32361.0\t121.0\t29.0\t37.0\t3029.0\t189.0\t79.0\t0.0\t14651.0\t75.0\t349.0\t57.0\t9087.0\t35221.0\t35721.0\t87.0\t23.0\t59043.0\t62.0\t42.0\t78627.0\t47870.0\t83623.0\t101.0\t49.0\t95.0\t137.0\t99.0\t15914.0\t256.0\t33831.0\t69.0\t90.0\t75.0\t52.0\t72384.0\t122.0\t60.0\n"
     ]
    }
   ],
   "source": [
    "#look at the table that we made so that we can see the IDs and the features \n",
    "! head ./data/feature_tables_dada/exported-feature-table/feature-table.tsv"
   ]
  },
  {
   "cell_type": "markdown",
   "id": "d3cd881c-b424-4c63-98f4-07158d50f524",
   "metadata": {},
   "source": [
    "##### 8.4. Prepare the Table for QIIME 2  \n",
    "convert .biom format back to BIOM format and import it into QIIME 2"
   ]
  },
  {
   "cell_type": "code",
   "execution_count": 20,
   "id": "b15ebb1a-93c5-488e-925d-c361cb23a02e",
   "metadata": {
    "tags": []
   },
   "outputs": [],
   "source": [
    "! biom convert \\\n",
    "  -i ./data/feature_tables_dada/exported-feature-table/feature-table.tsv \\\n",
    "  -o ./data/feature_tables_dada/exported-feature-table/feature-table.biom \\\n",
    "  --table-type=\"OTU table\" \\\n",
    "  --to-hdf5"
   ]
  },
  {
   "cell_type": "markdown",
   "id": "5437fef4-08c1-495b-b8f6-4bba51afdbc4",
   "metadata": {},
   "source": [
    "Import it into QIIME 2"
   ]
  },
  {
   "cell_type": "code",
   "execution_count": 21,
   "id": "c8be1843-b43d-4141-bbc4-13f3bde9450a",
   "metadata": {
    "tags": []
   },
   "outputs": [
    {
     "name": "stdout",
     "output_type": "stream",
     "text": [
      "\u001b[32mImported ./data/feature_tables_dada/exported-feature-table/feature-table.biom as BIOMV210DirFmt to ./data/feature_tables_dada/feature-table.qza\u001b[0m\n",
      "\u001b[0m"
     ]
    }
   ],
   "source": [
    "! qiime tools import \\\n",
    "  --type 'FeatureTable[Frequency]' \\\n",
    "  --input-path ./data/feature_tables_dada/exported-feature-table/feature-table.biom \\\n",
    "  --output-path ./data/feature_tables_dada/feature-table.qza"
   ]
  },
  {
   "cell_type": "markdown",
   "id": "b681ec57-cab8-4949-bbc0-4805a80fc45b",
   "metadata": {},
   "source": [
    "##### 8.5. Compute the distance matrix"
   ]
  },
  {
   "cell_type": "code",
   "execution_count": 22,
   "id": "c2675622-42a1-4ed7-bcd7-2de11efa1984",
   "metadata": {
    "tags": []
   },
   "outputs": [
    {
     "name": "stdout",
     "output_type": "stream",
     "text": [
      "\u001b[32mSaved DistanceMatrix to: ./FUNGuild/braycurtis_distance_matrix_FUNGuild.qza\u001b[0m\n",
      "\u001b[0m"
     ]
    }
   ],
   "source": [
    "! qiime diversity beta \\\n",
    "    --i-table ./data/feature_tables_dada/feature-table.qza \\\n",
    "    --p-metric braycurtis \\\n",
    "    --o-distance-matrix ./FUNGuild/braycurtis_distance_matrix_FUNGuild.qza"
   ]
  },
  {
   "cell_type": "markdown",
   "id": "7481eb52-b27c-42dd-9d9d-182669ce77b3",
   "metadata": {},
   "source": [
    "Generate PCoA plots:"
   ]
  },
  {
   "cell_type": "code",
   "execution_count": 23,
   "id": "4f3aa60e-91c6-4b80-833f-3c7c1971d732",
   "metadata": {
    "tags": []
   },
   "outputs": [
    {
     "name": "stdout",
     "output_type": "stream",
     "text": [
      "\u001b[32mSaved PCoAResults to: ./FUNGuild/braycurtis_pcoa_FUNGuild.qza\u001b[0m\n",
      "\u001b[0m"
     ]
    }
   ],
   "source": [
    "! qiime diversity pcoa \\\n",
    "    --i-distance-matrix ./FUNGuild/braycurtis_distance_matrix_FUNGuild.qza \\\n",
    "    --o-pcoa ./FUNGuild/braycurtis_pcoa_FUNGuild.qza\n"
   ]
  },
  {
   "cell_type": "markdown",
   "id": "11697775-cb2f-4bf1-af2c-be80cb1edb77",
   "metadata": {},
   "source": [
    "Visualize with Emperor:"
   ]
  },
  {
   "cell_type": "code",
   "execution_count": 26,
   "id": "1eb7e171-ce7f-40f1-a6fb-7ae40df8bd39",
   "metadata": {
    "tags": []
   },
   "outputs": [
    {
     "name": "stdout",
     "output_type": "stream",
     "text": [
      "\u001b[32mSaved Visualization to: ./FUNGuild/braycurtis_emperor_FUNGuild.qzv\u001b[0m\n",
      "\u001b[0m"
     ]
    }
   ],
   "source": [
    "! qiime emperor plot \\\n",
    "    --i-pcoa ./FUNGuild/braycurtis_pcoa_FUNGuild.qza \\\n",
    "    --m-metadata-file ./data/metadata/fungut_metadata_processed.tsv \\\n",
    "    --o-visualization ./FUNGuild/braycurtis_emperor_FUNGuild.qzv"
   ]
  },
  {
   "cell_type": "code",
   "execution_count": 28,
   "id": "eaeb2bbd-ed75-43e6-ab8a-05e2fdc6d5e0",
   "metadata": {
    "tags": []
   },
   "outputs": [
    {
     "data": {
      "text/html": [
       "<div><img onload=\"(function(div, url){\n",
       "if (typeof require !== 'undefined') {\n",
       "    var baseURL = require.toUrl('').split('/').slice(0, -2).join('/');\n",
       "} else {\n",
       "    var baseURL = JSON.parse(\n",
       "        document.getElementById('jupyter-config-data').innerHTML\n",
       "    ).baseUrl.slice(0, -1);\n",
       "}\n",
       "url = baseURL + url;\n",
       "fetch(url).then(function(res) {\n",
       "    if (res.status === 404) {\n",
       "        div.innerHTML = 'Install QIIME 2 Jupyter extension with:<br />' +\n",
       "                        '<code>jupyter serverextension enable --py qiime2' +\n",
       "                        ' --sys-prefix</code><br />then restart your server.' +\n",
       "                        '<br /><br />(Interactive output not available on ' +\n",
       "                        'static notebook viewer services like nbviewer.)';\n",
       "    } else if (res.status === 409) {\n",
       "        div.innerHTML = 'Visualization no longer in scope. Re-run this cell' +\n",
       "                        ' to see the visualization.';\n",
       "    } else if (res.ok) {\n",
       "        url = res.url;\n",
       "        div.innerHTML = '<iframe src=\\'' + url + '\\' style=\\'' +\n",
       "                        'width: 100%; height: 700px; border: 0;\\'>' +\n",
       "                        '</iframe><hr />Open in a: <a href=\\'' + url + '\\'' +\n",
       "                        ' target=\\'_blank\\'>new window</a>'\n",
       "    } else {\n",
       "        div.innerHTML = 'Something has gone wrong. Check notebook server for' +\n",
       "                        ' errors.';\n",
       "    }\n",
       "});\n",
       "})(this.parentElement, '/qiime2/redirect?location=/tmp/qiime2/jovyan/data/d9367f6d-d6c2-4eb7-98b3-0fccfba67e54')\" src=\"data:image/gif;base64,R0lGODlhAQABAIAAAP///wAAACH5BAEAAAAALAAAAAABAAEAAAICRAEAOw==\" /></div>"
      ],
      "text/plain": [
       "<visualization: Visualization uuid: d9367f6d-d6c2-4eb7-98b3-0fccfba67e54>"
      ]
     },
     "execution_count": 28,
     "metadata": {},
     "output_type": "execute_result"
    }
   ],
   "source": [
    "Visualization.load('./FUNGuild/braycurtis_emperor_FUNGuild.qzv')"
   ]
  },
  {
   "cell_type": "markdown",
   "id": "0b44b9a7-47b3-479d-99c4-4d7169807f12",
   "metadata": {},
   "source": [
    "#### 9.Visualizing PCoA data with pandas and seaborn\n",
    "The following code block will allow us to view the ordination results as a pandas DataFrame:"
   ]
  },
  {
   "cell_type": "code",
   "execution_count": 38,
   "id": "1fd2d940-d341-401c-9475-783d12682141",
   "metadata": {
    "tags": []
   },
   "outputs": [],
   "source": [
    "# Load my pcoa data\n",
    "data_dir = './FUNGuild'\n",
    "pcs = q2.Artifact.load(os.path.join(data_dir, 'braycurtis_pcoa_FUNGuild.qza'))\n",
    "\n",
    "# View as an OrdinationResults object\n",
    "pcs = pcs.view(OrdinationResults)\n",
    "\n",
    "# Take the first 3 columns (PCoA axes)\n",
    "pcs_data = pcs.samples.iloc[:, :3]\n",
    "\n",
    "# Rename the columns for clarity\n",
    "pcs_data.columns = ['Axis 1', 'Axis 2', 'Axis 3']"
   ]
  },
  {
   "cell_type": "code",
   "execution_count": 40,
   "id": "65f204f8-de51-4d75-b2df-2cf1885ea838",
   "metadata": {
    "tags": []
   },
   "outputs": [],
   "source": [
    "meta_data = pd.read_csv('./data/metadata/fungut_metadata_processed.tsv', sep='\\t')"
   ]
  },
  {
   "cell_type": "code",
   "execution_count": 46,
   "id": "8c78545d-b7bd-4e24-acce-3dae1776331f",
   "metadata": {
    "tags": []
   },
   "outputs": [],
   "source": [
    "pcs_data_gluten = pd.merge(pcs_data, meta_data[['ID', 'gluten_symptoms']], left_index=True, right_on='ID')"
   ]
  },
  {
   "cell_type": "code",
   "execution_count": 43,
   "id": "5f28d78b-f694-43f4-9f46-ae3b69a1f40c",
   "metadata": {
    "tags": []
   },
   "outputs": [],
   "source": [
    "pcs_data_IBD = pd.merge(pcs_data, meta_data[['ID', 'ibd_symptoms']], left_index=True, right_on='ID')"
   ]
  },
  {
   "cell_type": "markdown",
   "id": "9f53536c-27c8-452f-b628-8ceb3aef6b59",
   "metadata": {},
   "source": [
    "Now we can plot these data. We will use the Python visualization library seaborn to quickly make a nice tidy scatterplot."
   ]
  },
  {
   "cell_type": "code",
   "execution_count": 48,
   "id": "a681b062-1a7a-4708-8bdb-10e1cf1d4317",
   "metadata": {
    "tags": []
   },
   "outputs": [
    {
     "data": {
      "text/plain": [
       "<Axes: xlabel='Axis 1', ylabel='Axis 2'>"
      ]
     },
     "execution_count": 48,
     "metadata": {},
     "output_type": "execute_result"
    },
    {
     "data": {
      "image/png": "[encoded data removed]",
      "text/plain": [
       "<Figure size 640x480 with 1 Axes>"
      ]
     },
     "metadata": {},
     "output_type": "display_data"
    }
   ],
   "source": [
    "scatterplot(data=pcs_data_gluten,\n",
    "            x='Axis 1',\n",
    "            y='Axis 2',\n",
    "            hue='gluten_symptoms',\n",
    "            palette='viridis')"
   ]
  },
  {
   "cell_type": "code",
   "execution_count": 44,
   "id": "9880c0bf-4441-4fd7-a958-7f050aff675d",
   "metadata": {
    "tags": []
   },
   "outputs": [
    {
     "data": {
      "text/plain": [
       "<Axes: xlabel='Axis 1', ylabel='Axis 2'>"
      ]
     },
     "execution_count": 44,
     "metadata": {},
     "output_type": "execute_result"
    },
    {
     "data": {
      "image/png": "[encoded data removed]",
      "text/plain": [
       "<Figure size 640x480 with 1 Axes>"
      ]
     },
     "metadata": {},
     "output_type": "display_data"
    }
   ],
   "source": [
    "scatterplot(data=pcs_data_IBD,\n",
    "            x='Axis 1',\n",
    "            y='Axis 2',\n",
    "            hue='ibd_symptoms',\n",
    "            palette='viridis')"
   ]
  },
  {
   "cell_type": "markdown",
   "id": "ace378aa-1bd2-4721-9db3-09a70b072391",
   "metadata": {},
   "source": [
    "#### 10. Statistical testing using PERMANOVA"
   ]
  },
  {
   "cell_type": "markdown",
   "id": "2b353dc1-aec0-4c7f-b81a-a8af8a010a5f",
   "metadata": {},
   "source": [
    "Gluten"
   ]
  },
  {
   "cell_type": "code",
   "execution_count": 52,
   "id": "81df8620-2a5c-4c26-8fc5-150aec6a864f",
   "metadata": {
    "tags": []
   },
   "outputs": [
    {
     "name": "stdout",
     "output_type": "stream",
     "text": [
      "\u001b[32mSaved Visualization to: ./FUNGuild/beta_group_significance_gluten.qzv\u001b[0m\n",
      "\u001b[0m"
     ]
    }
   ],
   "source": [
    "! qiime diversity beta-group-significance \\\n",
    "  --i-distance-matrix ./FUNGuild/braycurtis_distance_matrix_FUNGuild.qza \\\n",
    "  --m-metadata-file ./data/metadata/fungut_metadata_processed.tsv \\\n",
    "  --m-metadata-column gluten_symptoms \\\n",
    "  --o-visualization ./FUNGuild/beta_group_significance_gluten.qzv"
   ]
  },
  {
   "cell_type": "code",
   "execution_count": 9,
   "id": "bb8fb0f8-3c0c-435b-8724-cfd92387835e",
   "metadata": {
    "tags": []
   },
   "outputs": [
    {
     "data": {
      "text/html": [
       "<div><img onload=\"(function(div, url){\n",
       "if (typeof require !== 'undefined') {\n",
       "    var baseURL = require.toUrl('').split('/').slice(0, -2).join('/');\n",
       "} else {\n",
       "    var baseURL = JSON.parse(\n",
       "        document.getElementById('jupyter-config-data').innerHTML\n",
       "    ).baseUrl.slice(0, -1);\n",
       "}\n",
       "url = baseURL + url;\n",
       "fetch(url).then(function(res) {\n",
       "    if (res.status === 404) {\n",
       "        div.innerHTML = 'Install QIIME 2 Jupyter extension with:<br />' +\n",
       "                        '<code>jupyter serverextension enable --py qiime2' +\n",
       "                        ' --sys-prefix</code><br />then restart your server.' +\n",
       "                        '<br /><br />(Interactive output not available on ' +\n",
       "                        'static notebook viewer services like nbviewer.)';\n",
       "    } else if (res.status === 409) {\n",
       "        div.innerHTML = 'Visualization no longer in scope. Re-run this cell' +\n",
       "                        ' to see the visualization.';\n",
       "    } else if (res.ok) {\n",
       "        url = res.url;\n",
       "        div.innerHTML = '<iframe src=\\'' + url + '\\' style=\\'' +\n",
       "                        'width: 100%; height: 700px; border: 0;\\'>' +\n",
       "                        '</iframe><hr />Open in a: <a href=\\'' + url + '\\'' +\n",
       "                        ' target=\\'_blank\\'>new window</a>'\n",
       "    } else {\n",
       "        div.innerHTML = 'Something has gone wrong. Check notebook server for' +\n",
       "                        ' errors.';\n",
       "    }\n",
       "});\n",
       "})(this.parentElement, '/qiime2/redirect?location=/tmp/qiime2/jovyan/data/904e41c6-38e4-47a3-b4be-f326ba262de1')\" src=\"data:image/gif;base64,R0lGODlhAQABAIAAAP///wAAACH5BAEAAAAALAAAAAABAAEAAAICRAEAOw==\" /></div>"
      ],
      "text/plain": [
       "<visualization: Visualization uuid: 904e41c6-38e4-47a3-b4be-f326ba262de1>"
      ]
     },
     "execution_count": 9,
     "metadata": {},
     "output_type": "execute_result"
    }
   ],
   "source": [
    "Visualization.load('./FUNGuild/beta_group_significance_gluten.qzv')"
   ]
  },
  {
   "cell_type": "markdown",
   "id": "5af2fc1d-8908-4a3e-8081-a9892284cc2f",
   "metadata": {},
   "source": [
    "There does not seem to be a significant difference in the people with gluten symptoms and those without. "
   ]
  },
  {
   "cell_type": "code",
   "execution_count": 53,
   "id": "eb3a2449-49e7-4c65-9571-fd098c423e3b",
   "metadata": {
    "tags": []
   },
   "outputs": [
    {
     "name": "stdout",
     "output_type": "stream",
     "text": [
      "\u001b[32mSaved Visualization to: ./FUNGuild/beta_group_significance_ibd.qzv\u001b[0m\n",
      "\u001b[0m"
     ]
    }
   ],
   "source": [
    "! qiime diversity beta-group-significance \\\n",
    "  --i-distance-matrix ./FUNGuild/braycurtis_distance_matrix_FUNGuild.qza \\\n",
    "  --m-metadata-file ./data/metadata/fungut_metadata_processed.tsv \\\n",
    "  --m-metadata-column ibd_symptoms \\\n",
    "  --o-visualization ./FUNGuild/beta_group_significance_ibd.qzv"
   ]
  },
  {
   "cell_type": "code",
   "execution_count": 3,
   "id": "e212fca8-cfe7-4f3e-a567-525051a4501b",
   "metadata": {
    "tags": []
   },
   "outputs": [
    {
     "data": {
      "text/html": [
       "<div><img onload=\"(function(div, url){\n",
       "if (typeof require !== 'undefined') {\n",
       "    var baseURL = require.toUrl('').split('/').slice(0, -2).join('/');\n",
       "} else {\n",
       "    var baseURL = JSON.parse(\n",
       "        document.getElementById('jupyter-config-data').innerHTML\n",
       "    ).baseUrl.slice(0, -1);\n",
       "}\n",
       "url = baseURL + url;\n",
       "fetch(url).then(function(res) {\n",
       "    if (res.status === 404) {\n",
       "        div.innerHTML = 'Install QIIME 2 Jupyter extension with:<br />' +\n",
       "                        '<code>jupyter serverextension enable --py qiime2' +\n",
       "                        ' --sys-prefix</code><br />then restart your server.' +\n",
       "                        '<br /><br />(Interactive output not available on ' +\n",
       "                        'static notebook viewer services like nbviewer.)';\n",
       "    } else if (res.status === 409) {\n",
       "        div.innerHTML = 'Visualization no longer in scope. Re-run this cell' +\n",
       "                        ' to see the visualization.';\n",
       "    } else if (res.ok) {\n",
       "        url = res.url;\n",
       "        div.innerHTML = '<iframe src=\\'' + url + '\\' style=\\'' +\n",
       "                        'width: 100%; height: 700px; border: 0;\\'>' +\n",
       "                        '</iframe><hr />Open in a: <a href=\\'' + url + '\\'' +\n",
       "                        ' target=\\'_blank\\'>new window</a>'\n",
       "    } else {\n",
       "        div.innerHTML = 'Something has gone wrong. Check notebook server for' +\n",
       "                        ' errors.';\n",
       "    }\n",
       "});\n",
       "})(this.parentElement, '/qiime2/redirect?location=/tmp/qiime2/jovyan/data/e767c63b-3806-425c-98ef-47266cfd3942')\" src=\"data:image/gif;base64,R0lGODlhAQABAIAAAP///wAAACH5BAEAAAAALAAAAAABAAEAAAICRAEAOw==\" /></div>"
      ],
      "text/plain": [
       "<visualization: Visualization uuid: e767c63b-3806-425c-98ef-47266cfd3942>"
      ]
     },
     "execution_count": 3,
     "metadata": {},
     "output_type": "execute_result"
    }
   ],
   "source": [
    "Visualization.load('./FUNGuild/beta_group_significance_ibd.qzv')"
   ]
  },
  {
   "cell_type": "markdown",
   "id": "3939c947-cc82-4f06-9783-f2876ef751cf",
   "metadata": {},
   "source": [
    "There does not seem to be a significant difference in the people with ibd symptoms and those without. "
   ]
  },
  {
   "cell_type": "code",
   "execution_count": 54,
   "id": "74c70dd8-42c5-4807-a875-e7e391aed1e9",
   "metadata": {
    "tags": []
   },
   "outputs": [
    {
     "name": "stdout",
     "output_type": "stream",
     "text": [
      "\u001b[32mSaved Visualization to: ./FUNGuild/beta_group_significance_urban.qzv\u001b[0m\n",
      "\u001b[0m"
     ]
    }
   ],
   "source": [
    "! qiime diversity beta-group-significance \\\n",
    "  --i-distance-matrix ./FUNGuild/braycurtis_distance_matrix_FUNGuild.qza \\\n",
    "  --m-metadata-file ./data/metadata/fungut_metadata_processed.tsv \\\n",
    "  --m-metadata-column is_urban \\\n",
    "  --o-visualization ./FUNGuild/beta_group_significance_urban.qzv"
   ]
  },
  {
   "cell_type": "code",
   "execution_count": 6,
   "id": "1a0a03da-f94d-45f5-b803-5fa768c51880",
   "metadata": {
    "tags": []
   },
   "outputs": [
    {
     "data": {
      "text/html": [
       "<div><img onload=\"(function(div, url){\n",
       "if (typeof require !== 'undefined') {\n",
       "    var baseURL = require.toUrl('').split('/').slice(0, -2).join('/');\n",
       "} else {\n",
       "    var baseURL = JSON.parse(\n",
       "        document.getElementById('jupyter-config-data').innerHTML\n",
       "    ).baseUrl.slice(0, -1);\n",
       "}\n",
       "url = baseURL + url;\n",
       "fetch(url).then(function(res) {\n",
       "    if (res.status === 404) {\n",
       "        div.innerHTML = 'Install QIIME 2 Jupyter extension with:<br />' +\n",
       "                        '<code>jupyter serverextension enable --py qiime2' +\n",
       "                        ' --sys-prefix</code><br />then restart your server.' +\n",
       "                        '<br /><br />(Interactive output not available on ' +\n",
       "                        'static notebook viewer services like nbviewer.)';\n",
       "    } else if (res.status === 409) {\n",
       "        div.innerHTML = 'Visualization no longer in scope. Re-run this cell' +\n",
       "                        ' to see the visualization.';\n",
       "    } else if (res.ok) {\n",
       "        url = res.url;\n",
       "        div.innerHTML = '<iframe src=\\'' + url + '\\' style=\\'' +\n",
       "                        'width: 100%; height: 700px; border: 0;\\'>' +\n",
       "                        '</iframe><hr />Open in a: <a href=\\'' + url + '\\'' +\n",
       "                        ' target=\\'_blank\\'>new window</a>'\n",
       "    } else {\n",
       "        div.innerHTML = 'Something has gone wrong. Check notebook server for' +\n",
       "                        ' errors.';\n",
       "    }\n",
       "});\n",
       "})(this.parentElement, '/qiime2/redirect?location=/tmp/qiime2/jovyan/data/42e81afd-eb85-4261-a162-c8d431aba6f9')\" src=\"data:image/gif;base64,R0lGODlhAQABAIAAAP///wAAACH5BAEAAAAALAAAAAABAAEAAAICRAEAOw==\" /></div>"
      ],
      "text/plain": [
       "<visualization: Visualization uuid: 42e81afd-eb85-4261-a162-c8d431aba6f9>"
      ]
     },
     "execution_count": 6,
     "metadata": {},
     "output_type": "execute_result"
    }
   ],
   "source": [
    "Visualization.load('./FUNGuild/beta_group_significance_urban.qzv')"
   ]
  },
  {
   "cell_type": "markdown",
   "id": "29ec9e6a-80c7-48cb-a48e-1fec83f91095",
   "metadata": {},
   "source": [
    "There does not seem to be a significant difference in the people living urban and rural places. "
   ]
  },
  {
   "cell_type": "code",
   "execution_count": 62,
   "id": "5396568b-e0da-4d4f-98f5-cd804c7b4258",
   "metadata": {
    "tags": []
   },
   "outputs": [
    {
     "name": "stdout",
     "output_type": "stream",
     "text": [
      "\u001b[32mSaved Visualization to: ./FUNGuild/beta_group_significance_age.qzv\u001b[0m\n",
      "\u001b[0m"
     ]
    }
   ],
   "source": [
    "! qiime diversity beta-group-significance \\\n",
    "  --i-distance-matrix ./FUNGuild/braycurtis_distance_matrix_FUNGuild.qza \\\n",
    "  --m-metadata-file ./data/metadata/fungut_metadata_processed.tsv \\\n",
    "  --m-metadata-column age_group \\\n",
    "  --o-visualization ./FUNGuild/beta_group_significance_age.qzv"
   ]
  },
  {
   "cell_type": "code",
   "execution_count": 5,
   "id": "b54fe1ee-9083-46d6-9293-e30736d044a4",
   "metadata": {
    "tags": []
   },
   "outputs": [
    {
     "data": {
      "text/html": [
       "<div><img onload=\"(function(div, url){\n",
       "if (typeof require !== 'undefined') {\n",
       "    var baseURL = require.toUrl('').split('/').slice(0, -2).join('/');\n",
       "} else {\n",
       "    var baseURL = JSON.parse(\n",
       "        document.getElementById('jupyter-config-data').innerHTML\n",
       "    ).baseUrl.slice(0, -1);\n",
       "}\n",
       "url = baseURL + url;\n",
       "fetch(url).then(function(res) {\n",
       "    if (res.status === 404) {\n",
       "        div.innerHTML = 'Install QIIME 2 Jupyter extension with:<br />' +\n",
       "                        '<code>jupyter serverextension enable --py qiime2' +\n",
       "                        ' --sys-prefix</code><br />then restart your server.' +\n",
       "                        '<br /><br />(Interactive output not available on ' +\n",
       "                        'static notebook viewer services like nbviewer.)';\n",
       "    } else if (res.status === 409) {\n",
       "        div.innerHTML = 'Visualization no longer in scope. Re-run this cell' +\n",
       "                        ' to see the visualization.';\n",
       "    } else if (res.ok) {\n",
       "        url = res.url;\n",
       "        div.innerHTML = '<iframe src=\\'' + url + '\\' style=\\'' +\n",
       "                        'width: 100%; height: 700px; border: 0;\\'>' +\n",
       "                        '</iframe><hr />Open in a: <a href=\\'' + url + '\\'' +\n",
       "                        ' target=\\'_blank\\'>new window</a>'\n",
       "    } else {\n",
       "        div.innerHTML = 'Something has gone wrong. Check notebook server for' +\n",
       "                        ' errors.';\n",
       "    }\n",
       "});\n",
       "})(this.parentElement, '/qiime2/redirect?location=/tmp/qiime2/jovyan/data/0b415522-bcaf-447f-afdb-1e281ccc8401')\" src=\"data:image/gif;base64,R0lGODlhAQABAIAAAP///wAAACH5BAEAAAAALAAAAAABAAEAAAICRAEAOw==\" /></div>"
      ],
      "text/plain": [
       "<visualization: Visualization uuid: 0b415522-bcaf-447f-afdb-1e281ccc8401>"
      ]
     },
     "execution_count": 5,
     "metadata": {},
     "output_type": "execute_result"
    }
   ],
   "source": [
    "Visualization.load('./FUNGuild/beta_group_significance_age.qzv')"
   ]
  },
  {
   "cell_type": "markdown",
   "id": "d9efe11b-2a1c-4055-910c-3daead10c1c5",
   "metadata": {},
   "source": [
    "There does not seem to be a significant difference in the ages of the people. "
   ]
  },
  {
   "cell_type": "code",
   "execution_count": 55,
   "id": "3ec28e6a-ed76-41ba-83bf-fd46d8255e2b",
   "metadata": {
    "tags": []
   },
   "outputs": [
    {
     "name": "stdout",
     "output_type": "stream",
     "text": [
      "\u001b[32mSaved Visualization to: ./FUNGuild/beta_group_significance_bmi.qzv\u001b[0m\n",
      "\u001b[0m"
     ]
    }
   ],
   "source": [
    "! qiime diversity beta-group-significance \\\n",
    "  --i-distance-matrix ./FUNGuild/braycurtis_distance_matrix_FUNGuild.qza \\\n",
    "  --m-metadata-file ./data/metadata/fungut_metadata_processed.tsv \\\n",
    "  --m-metadata-column bmi_category \\\n",
    "  --o-visualization ./FUNGuild/beta_group_significance_bmi.qzv"
   ]
  },
  {
   "cell_type": "code",
   "execution_count": 7,
   "id": "6e39e398-d76f-4754-a459-493f09b17bf9",
   "metadata": {
    "tags": []
   },
   "outputs": [
    {
     "data": {
      "text/html": [
       "<div><img onload=\"(function(div, url){\n",
       "if (typeof require !== 'undefined') {\n",
       "    var baseURL = require.toUrl('').split('/').slice(0, -2).join('/');\n",
       "} else {\n",
       "    var baseURL = JSON.parse(\n",
       "        document.getElementById('jupyter-config-data').innerHTML\n",
       "    ).baseUrl.slice(0, -1);\n",
       "}\n",
       "url = baseURL + url;\n",
       "fetch(url).then(function(res) {\n",
       "    if (res.status === 404) {\n",
       "        div.innerHTML = 'Install QIIME 2 Jupyter extension with:<br />' +\n",
       "                        '<code>jupyter serverextension enable --py qiime2' +\n",
       "                        ' --sys-prefix</code><br />then restart your server.' +\n",
       "                        '<br /><br />(Interactive output not available on ' +\n",
       "                        'static notebook viewer services like nbviewer.)';\n",
       "    } else if (res.status === 409) {\n",
       "        div.innerHTML = 'Visualization no longer in scope. Re-run this cell' +\n",
       "                        ' to see the visualization.';\n",
       "    } else if (res.ok) {\n",
       "        url = res.url;\n",
       "        div.innerHTML = '<iframe src=\\'' + url + '\\' style=\\'' +\n",
       "                        'width: 100%; height: 700px; border: 0;\\'>' +\n",
       "                        '</iframe><hr />Open in a: <a href=\\'' + url + '\\'' +\n",
       "                        ' target=\\'_blank\\'>new window</a>'\n",
       "    } else {\n",
       "        div.innerHTML = 'Something has gone wrong. Check notebook server for' +\n",
       "                        ' errors.';\n",
       "    }\n",
       "});\n",
       "})(this.parentElement, '/qiime2/redirect?location=/tmp/qiime2/jovyan/data/c3124583-b5c6-4839-8861-7fb3282a7808')\" src=\"data:image/gif;base64,R0lGODlhAQABAIAAAP///wAAACH5BAEAAAAALAAAAAABAAEAAAICRAEAOw==\" /></div>"
      ],
      "text/plain": [
       "<visualization: Visualization uuid: c3124583-b5c6-4839-8861-7fb3282a7808>"
      ]
     },
     "execution_count": 7,
     "metadata": {},
     "output_type": "execute_result"
    }
   ],
   "source": [
    "Visualization.load('./FUNGuild/beta_group_significance_bmi.qzv')"
   ]
  },
  {
   "cell_type": "markdown",
   "id": "1491fc92-2ac4-4764-97d4-bd801ee34d20",
   "metadata": {},
   "source": [
    "There does not seem to be a significant difference in the bmis. "
   ]
  },
  {
   "cell_type": "code",
   "execution_count": 58,
   "id": "5c669b6e-6d7d-4686-8dc4-6453707e9cb9",
   "metadata": {
    "tags": []
   },
   "outputs": [
    {
     "name": "stdout",
     "output_type": "stream",
     "text": [
      "\u001b[32mSaved Visualization to: ./FUNGuild/beta_group_significance_diet.qzv\u001b[0m\n",
      "\u001b[0m"
     ]
    }
   ],
   "source": [
    "! qiime diversity beta-group-significance \\\n",
    "  --i-distance-matrix ./FUNGuild/braycurtis_distance_matrix_FUNGuild.qza \\\n",
    "  --m-metadata-file ./data/metadata/fungut_metadata_processed.tsv \\\n",
    "  --m-metadata-column diet_type_sample \\\n",
    "  --o-visualization ./FUNGuild/beta_group_significance_diet.qzv"
   ]
  },
  {
   "cell_type": "code",
   "execution_count": 8,
   "id": "a78647a1-1aa0-4ade-8aae-96c8cdb964d8",
   "metadata": {
    "tags": []
   },
   "outputs": [
    {
     "data": {
      "text/html": [
       "<div><img onload=\"(function(div, url){\n",
       "if (typeof require !== 'undefined') {\n",
       "    var baseURL = require.toUrl('').split('/').slice(0, -2).join('/');\n",
       "} else {\n",
       "    var baseURL = JSON.parse(\n",
       "        document.getElementById('jupyter-config-data').innerHTML\n",
       "    ).baseUrl.slice(0, -1);\n",
       "}\n",
       "url = baseURL + url;\n",
       "fetch(url).then(function(res) {\n",
       "    if (res.status === 404) {\n",
       "        div.innerHTML = 'Install QIIME 2 Jupyter extension with:<br />' +\n",
       "                        '<code>jupyter serverextension enable --py qiime2' +\n",
       "                        ' --sys-prefix</code><br />then restart your server.' +\n",
       "                        '<br /><br />(Interactive output not available on ' +\n",
       "                        'static notebook viewer services like nbviewer.)';\n",
       "    } else if (res.status === 409) {\n",
       "        div.innerHTML = 'Visualization no longer in scope. Re-run this cell' +\n",
       "                        ' to see the visualization.';\n",
       "    } else if (res.ok) {\n",
       "        url = res.url;\n",
       "        div.innerHTML = '<iframe src=\\'' + url + '\\' style=\\'' +\n",
       "                        'width: 100%; height: 700px; border: 0;\\'>' +\n",
       "                        '</iframe><hr />Open in a: <a href=\\'' + url + '\\'' +\n",
       "                        ' target=\\'_blank\\'>new window</a>'\n",
       "    } else {\n",
       "        div.innerHTML = 'Something has gone wrong. Check notebook server for' +\n",
       "                        ' errors.';\n",
       "    }\n",
       "});\n",
       "})(this.parentElement, '/qiime2/redirect?location=/tmp/qiime2/jovyan/data/a1badfa8-00c6-4806-839e-0af7dce24c8d')\" src=\"data:image/gif;base64,R0lGODlhAQABAIAAAP///wAAACH5BAEAAAAALAAAAAABAAEAAAICRAEAOw==\" /></div>"
      ],
      "text/plain": [
       "<visualization: Visualization uuid: a1badfa8-00c6-4806-839e-0af7dce24c8d>"
      ]
     },
     "execution_count": 8,
     "metadata": {},
     "output_type": "execute_result"
    }
   ],
   "source": [
    "Visualization.load('./FUNGuild/beta_group_significance_diet.qzv')"
   ]
  },
  {
   "cell_type": "markdown",
   "id": "6ab0f650-61ff-40eb-9118-c5afe752d62a",
   "metadata": {},
   "source": [
    "There does not seem to be a significant difference in the diet types. "
   ]
  },
  {
   "cell_type": "code",
   "execution_count": 56,
   "id": "eec0734a-506f-488d-9bc3-76a23f936b14",
   "metadata": {
    "tags": []
   },
   "outputs": [
    {
     "name": "stdout",
     "output_type": "stream",
     "text": [
      "\u001b[32mSaved Visualization to: ./FUNGuild/beta_group_significance_country.qzv\u001b[0m\n",
      "\u001b[0m"
     ]
    }
   ],
   "source": [
    "! qiime diversity beta-group-significance \\\n",
    "  --i-distance-matrix ./FUNGuild/braycurtis_distance_matrix_FUNGuild.qza \\\n",
    "  --m-metadata-file ./data/metadata/fungut_metadata_processed.tsv \\\n",
    "  --m-metadata-column country_sample \\\n",
    "  --o-visualization ./FUNGuild/beta_group_significance_country.qzv"
   ]
  },
  {
   "cell_type": "code",
   "execution_count": 4,
   "id": "4f4f4064-b9f6-4fbc-8d98-dd0ce14efb2b",
   "metadata": {
    "tags": []
   },
   "outputs": [
    {
     "data": {
      "text/html": [
       "<div><img onload=\"(function(div, url){\n",
       "if (typeof require !== 'undefined') {\n",
       "    var baseURL = require.toUrl('').split('/').slice(0, -2).join('/');\n",
       "} else {\n",
       "    var baseURL = JSON.parse(\n",
       "        document.getElementById('jupyter-config-data').innerHTML\n",
       "    ).baseUrl.slice(0, -1);\n",
       "}\n",
       "url = baseURL + url;\n",
       "fetch(url).then(function(res) {\n",
       "    if (res.status === 404) {\n",
       "        div.innerHTML = 'Install QIIME 2 Jupyter extension with:<br />' +\n",
       "                        '<code>jupyter serverextension enable --py qiime2' +\n",
       "                        ' --sys-prefix</code><br />then restart your server.' +\n",
       "                        '<br /><br />(Interactive output not available on ' +\n",
       "                        'static notebook viewer services like nbviewer.)';\n",
       "    } else if (res.status === 409) {\n",
       "        div.innerHTML = 'Visualization no longer in scope. Re-run this cell' +\n",
       "                        ' to see the visualization.';\n",
       "    } else if (res.ok) {\n",
       "        url = res.url;\n",
       "        div.innerHTML = '<iframe src=\\'' + url + '\\' style=\\'' +\n",
       "                        'width: 100%; height: 700px; border: 0;\\'>' +\n",
       "                        '</iframe><hr />Open in a: <a href=\\'' + url + '\\'' +\n",
       "                        ' target=\\'_blank\\'>new window</a>'\n",
       "    } else {\n",
       "        div.innerHTML = 'Something has gone wrong. Check notebook server for' +\n",
       "                        ' errors.';\n",
       "    }\n",
       "});\n",
       "})(this.parentElement, '/qiime2/redirect?location=/tmp/qiime2/jovyan/data/b32caa64-0e3a-4e64-a46a-c8f63a01a2fb')\" src=\"data:image/gif;base64,R0lGODlhAQABAIAAAP///wAAACH5BAEAAAAALAAAAAABAAEAAAICRAEAOw==\" /></div>"
      ],
      "text/plain": [
       "<visualization: Visualization uuid: b32caa64-0e3a-4e64-a46a-c8f63a01a2fb>"
      ]
     },
     "execution_count": 4,
     "metadata": {},
     "output_type": "execute_result"
    }
   ],
   "source": [
    "Visualization.load('./FUNGuild/beta_group_significance_country.qzv')"
   ]
  },
  {
   "cell_type": "markdown",
   "id": "259590c6-e6fc-45d8-9fc1-e3f828c29f62",
   "metadata": {},
   "source": [
    "There seems to be a significant difference between the countries. The next step would be to do pairwise testing to see which countries are significantly different from one another. "
   ]
  },
  {
   "cell_type": "markdown",
   "id": "0f19f28f-422e-4d2b-aafe-c516605cc933",
   "metadata": {},
   "source": [
    "##### 10.1. Expanding on PERMANOVA and testing pairwise"
   ]
  },
  {
   "cell_type": "markdown",
   "id": "a747d6ff-8f8c-4f4f-accc-adf5f7f5e63b",
   "metadata": {},
   "source": [
    "When trying to use the pairwise test, it has come to our attention that samples that don't have more than one sample cannto be used in the analysis, so we decided to take out the columns with onl yone sample. \n",
    "Germany, Isle of Man, Sweden, and \"Not provided\" each have only 1 sample.\n",
    "PERMANOVA requires at least 2 samples per group to calculate \"within-group\" distances."
   ]
  },
  {
   "cell_type": "code",
   "execution_count": 28,
   "id": "b773eb84-dc83-4cfe-bd07-7856201126cf",
   "metadata": {
    "tags": []
   },
   "outputs": [
    {
     "name": "stdout",
     "output_type": "stream",
     "text": [
      "     42 Australia\n",
      "      1 Germany\n",
      "      1 Isle of Man\n",
      "      3 New Zealand\n",
      "      1 Not provided\n",
      "      1 Sweden\n",
      "     44 USA\n",
      "     53 United Kingdom\n",
      "      1 country_sample\n"
     ]
    }
   ],
   "source": [
    "#looking at the unique data\n",
    "! cut -f2 ./data/metadata/fungut_metadata_processed.tsv | sort | uniq -c"
   ]
  },
  {
   "cell_type": "code",
   "execution_count": 8,
   "id": "59dff8b2-4416-406d-87e2-d7bee5979f3a",
   "metadata": {
    "tags": []
   },
   "outputs": [],
   "source": [
    "#removing the columns that have only 1 sample\n",
    "! awk -F'\\t' 'NR==1 || ($2 != \"Germany\" && $2 != \"Isle of Man\" && $2 != \"Sweden\" && $2 != \"Not provided\")' \\\n",
    "./data/metadata/fungut_metadata_processed.tsv > ./data/metadata/fungut_metadata_filtered_for_PERMANOVA.tsv"
   ]
  },
  {
   "cell_type": "code",
   "execution_count": 9,
   "id": "8cdea29a-f022-41b2-a69e-58850d9310db",
   "metadata": {
    "tags": []
   },
   "outputs": [
    {
     "name": "stdout",
     "output_type": "stream",
     "text": [
      "     42 Australia\n",
      "      3 New Zealand\n",
      "     44 USA\n",
      "     53 United Kingdom\n",
      "      1 country_sample\n"
     ]
    }
   ],
   "source": [
    "#checking that we have removed those\n",
    "! cut -f2 ./data/metadata/fungut_metadata_filtered_for_PERMANOVA.tsv | sort | uniq -c"
   ]
  },
  {
   "cell_type": "markdown",
   "id": "5096938b-a795-4cfd-843b-6173f732e086",
   "metadata": {},
   "source": [
    "Now we are going to export the braycurtis_distance to see if the IDs we have filtered will match the IDs in the metadata"
   ]
  },
  {
   "cell_type": "code",
   "execution_count": 12,
   "id": "f379ce35-39fd-4643-a0de-cc0cf61e9a90",
   "metadata": {
    "tags": []
   },
   "outputs": [
    {
     "name": "stdout",
     "output_type": "stream",
     "text": [
      "\u001b[32mExported ./FUNGuild/braycurtis_distance_matrix_FUNGuild.qza as DistanceMatrixDirectoryFormat to directory ./exports/braycurtis_distance\u001b[0m\n",
      "\u001b[0m"
     ]
    }
   ],
   "source": [
    "! qiime tools export \\\n",
    "  --input-path ./FUNGuild/braycurtis_distance_matrix_FUNGuild.qza \\\n",
    "  --output-path ./exports/braycurtis_distance"
   ]
  },
  {
   "cell_type": "code",
   "execution_count": 19,
   "id": "a7815c16-d545-4176-994c-3ec637085b3e",
   "metadata": {
    "tags": []
   },
   "outputs": [],
   "source": [
    "#get the IDs form the distance matrix\n",
    "! cut -f1 ./exports/braycurtis_distance/distance-matrix.tsv | sort > ./exports/braycurtis_distance/distance_matrix_ids.txt"
   ]
  },
  {
   "cell_type": "code",
   "execution_count": 20,
   "id": "368c8f0d-4fa9-4fd3-b0d4-59ee601eddfd",
   "metadata": {
    "tags": []
   },
   "outputs": [],
   "source": [
    "#get the IDs from the metadata\n",
    "! cut -f1 ./data/metadata/fungut_metadata_processed.tsv | tail -n +2 > ./data/metadata/metadata_ids.txt"
   ]
  },
  {
   "cell_type": "code",
   "execution_count": 29,
   "id": "c8dae2cb-f03e-4c94-987b-eea1e83c8501",
   "metadata": {
    "tags": []
   },
   "outputs": [
    {
     "name": "stdout",
     "output_type": "stream",
     "text": [
      "\n"
     ]
    }
   ],
   "source": [
    "#comparing the two and seeing if there are any IDs that are not present in both \n",
    "! comm -13 ./data/metadata/metadata_ids.txt ./exports/braycurtis_distance/distance_matrix_ids.txt"
   ]
  },
  {
   "cell_type": "markdown",
   "id": "aca9a3d4-ce11-4f9d-800f-d36446c5c0d7",
   "metadata": {},
   "source": [
    "The command above did not have an output, meaning that thre are only IDs that are present in both."
   ]
  },
  {
   "cell_type": "code",
   "execution_count": 30,
   "id": "d7060871-5c59-4f60-b3a0-f8af3169f7b0",
   "metadata": {
    "tags": []
   },
   "outputs": [
    {
     "name": "stdout",
     "output_type": "stream",
     "text": [
      "\u001b[32mSaved DistanceMatrix to: ./FUNGuild/braycurtis_distance_matrix_filtered.qza\u001b[0m\n",
      "\u001b[0m"
     ]
    }
   ],
   "source": [
    "#filtering my distance matrix so that it matches with the metadata\n",
    "! qiime diversity filter-distance-matrix \\\n",
    "  --i-distance-matrix ./FUNGuild/braycurtis_distance_matrix_FUNGuild.qza \\\n",
    "  --m-metadata-file ./data/metadata/fungut_metadata_filtered_for_PERMANOVA.tsv \\\n",
    "  --o-filtered-distance-matrix ./FUNGuild/braycurtis_distance_matrix_filtered.qza"
   ]
  },
  {
   "cell_type": "code",
   "execution_count": 33,
   "id": "7ebb867b-4421-4b44-a573-0e38a43bd3d6",
   "metadata": {
    "tags": []
   },
   "outputs": [
    {
     "name": "stdout",
     "output_type": "stream",
     "text": [
      "\u001b[32mSaved Visualization to: ./FUNGuild/pairwise_permanova_countries.qzv\u001b[0m\n",
      "\u001b[0m"
     ]
    }
   ],
   "source": [
    "! qiime diversity beta-group-significance \\\n",
    "  --i-distance-matrix ./FUNGuild/braycurtis_distance_matrix_filtered.qza \\\n",
    "  --m-metadata-file ./data/metadata/fungut_metadata_filtered_for_PERMANOVA.tsv \\\n",
    "  --m-metadata-column country_sample \\\n",
    "  --o-visualization ./FUNGuild/pairwise_permanova_countries.qzv \\\n",
    "  --p-pairwise"
   ]
  },
  {
   "cell_type": "code",
   "execution_count": 37,
   "id": "d474f0b7-3085-4325-a04d-5f788eefaa64",
   "metadata": {
    "tags": []
   },
   "outputs": [
    {
     "data": {
      "text/html": [
       "<div><img onload=\"(function(div, url){\n",
       "if (typeof require !== 'undefined') {\n",
       "    var baseURL = require.toUrl('').split('/').slice(0, -2).join('/');\n",
       "} else {\n",
       "    var baseURL = JSON.parse(\n",
       "        document.getElementById('jupyter-config-data').innerHTML\n",
       "    ).baseUrl.slice(0, -1);\n",
       "}\n",
       "url = baseURL + url;\n",
       "fetch(url).then(function(res) {\n",
       "    if (res.status === 404) {\n",
       "        div.innerHTML = 'Install QIIME 2 Jupyter extension with:<br />' +\n",
       "                        '<code>jupyter serverextension enable --py qiime2' +\n",
       "                        ' --sys-prefix</code><br />then restart your server.' +\n",
       "                        '<br /><br />(Interactive output not available on ' +\n",
       "                        'static notebook viewer services like nbviewer.)';\n",
       "    } else if (res.status === 409) {\n",
       "        div.innerHTML = 'Visualization no longer in scope. Re-run this cell' +\n",
       "                        ' to see the visualization.';\n",
       "    } else if (res.ok) {\n",
       "        url = res.url;\n",
       "        div.innerHTML = '<iframe src=\\'' + url + '\\' style=\\'' +\n",
       "                        'width: 100%; height: 700px; border: 0;\\'>' +\n",
       "                        '</iframe><hr />Open in a: <a href=\\'' + url + '\\'' +\n",
       "                        ' target=\\'_blank\\'>new window</a>'\n",
       "    } else {\n",
       "        div.innerHTML = 'Something has gone wrong. Check notebook server for' +\n",
       "                        ' errors.';\n",
       "    }\n",
       "});\n",
       "})(this.parentElement, '/qiime2/redirect?location=/tmp/qiime2/jovyan/data/29578b80-1399-4e08-858c-e91fe929f812')\" src=\"data:image/gif;base64,R0lGODlhAQABAIAAAP///wAAACH5BAEAAAAALAAAAAABAAEAAAICRAEAOw==\" /></div>"
      ],
      "text/plain": [
       "<visualization: Visualization uuid: 29578b80-1399-4e08-858c-e91fe929f812>"
      ]
     },
     "execution_count": 37,
     "metadata": {},
     "output_type": "execute_result"
    }
   ],
   "source": [
    " Visualization.load('./FUNGuild/pairwise_permanova_countries.qzv')"
   ]
  },
  {
   "cell_type": "markdown",
   "id": "6206b569-85d8-4764-8227-eafd575d6454",
   "metadata": {},
   "source": [
    "According to our pairwise permanova, we can see that the global PERMANOVA tests all groups simultaneously, while pairwise comparisons test individual group pairs and may not reach significance due to small differences or low sample sizes."
   ]
  },
  {
   "cell_type": "markdown",
   "id": "ab1f8029-ada9-49db-92ae-41da2ddaff53",
   "metadata": {},
   "source": [
    "#### 10.2. Visualizing PCoA data with pandas and seaborn but for the pairwise PERMANOVA"
   ]
  },
  {
   "cell_type": "code",
   "execution_count": 45,
   "id": "137704bd-3199-4dd9-8a71-58a1c61eae99",
   "metadata": {
    "tags": []
   },
   "outputs": [],
   "source": [
    "#load filtered metadata\n",
    "meta_data_fil = pd.read_csv('./data/metadata/fungut_metadata_filtered_for_PERMANOVA.tsv', sep='\\t')"
   ]
  },
  {
   "cell_type": "code",
   "execution_count": 46,
   "id": "ee4225c4-38bd-4226-b84c-756fdacadac3",
   "metadata": {
    "tags": []
   },
   "outputs": [],
   "source": [
    "# merge metadata with country_sample\n",
    "pcs_data_country = pd.merge(pcs_data, meta_data_fil[['ID', 'country_sample']], left_index=True, right_on='ID')"
   ]
  },
  {
   "cell_type": "code",
   "execution_count": 56,
   "id": "61f5baa4-7f89-442b-8b91-3d3ad520bacc",
   "metadata": {
    "tags": []
   },
   "outputs": [
    {
     "data": {
      "image/png": "[encoded data removed]",
      "text/plain": [
       "<Figure size 640x480 with 1 Axes>"
      ]
     },
     "metadata": {},
     "output_type": "display_data"
    }
   ],
   "source": [
    "# Annotate significant comparisons on the plot\n",
    "sns.scatterplot(data=pcs_data_country, \n",
    "                x='Axis 1', y='Axis 2', \n",
    "                hue='country_sample', \n",
    "                palette='viridis')\n",
    "\n",
    "# Annotate significant pairs with adjusted y-coordinates\n",
    "y_positions = [-0.1, -0.14]  # Adjust y positions for spacing\n",
    "significant_pairs = [\n",
    "    ('Australia', 'USA'),\n",
    "    ('Australia', 'United Kingdom')\n",
    "]\n",
    "\n",
    "# Add annotations with adjusted positions\n",
    "for i, pair in enumerate(significant_pairs):\n",
    "    plt.text(-0.05, y_positions[i], f\"Significant: {pair[0]} vs {pair[1]}\", \n",
    "             fontsize=9, color='red')"
   ]
  }
 ],
 "metadata": {
  "kernelspec": {
   "display_name": "QIIME 2",
   "language": "python",
   "name": "python3"
  },
  "language_info": {
   "codemirror_mode": {
    "name": "ipython",
    "version": 3
   },
   "file_extension": ".py",
   "mimetype": "text/x-python",
   "name": "python",
   "nbconvert_exporter": "python",
   "pygments_lexer": "ipython3",
   "version": "3.9.19"
  }
 },
 "nbformat": 4,
 "nbformat_minor": 5
}
