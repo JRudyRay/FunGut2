{
 "cells": [
  {
   "cell_type": "markdown",
   "id": "fa44c477-b86e-4616-a9bc-7a34d8a55584",
   "metadata": {},
   "source": [
    "# Machine Learning"
   ]
  },
  {
   "cell_type": "code",
   "execution_count": 1,
   "id": "babb3bf0-a258-4eec-8547-713c3534550e",
   "metadata": {
    "tags": []
   },
   "outputs": [],
   "source": [
    "import os # version: 3.9.19\n",
    "import sys # version: 3.9.19\n",
    "import pandas as pd # version: 2.2.2\n",
    "import qiime2 as q2 # version: 2024.5.0\n",
    "from qiime2 import Visualization\n",
    "import matplotlib.pyplot as plt # version: 3.8.4\n",
    "%matplotlib inline\n",
    "\n",
    "# Define the data directory\n",
    "data_dir = './data'"
   ]
  },
  {
   "cell_type": "code",
   "execution_count": null,
   "id": "1b15e1b8-4679-493d-8f1d-737a4e8b6a34",
   "metadata": {
    "tags": []
   },
   "outputs": [],
   "source": [
    "import os"
   ]
  },
  {
   "cell_type": "code",
   "execution_count": 48,
   "id": "eab90f7a-9a8e-4495-a6b6-ecf02e8920f5",
   "metadata": {
    "tags": []
   },
   "outputs": [
    {
     "name": "stdout",
     "output_type": "stream",
     "text": [
      "/home/jovyan/FunGut2/full-pipeline\n"
     ]
    }
   ],
   "source": [
    "!pwd"
   ]
  },
  {
   "cell_type": "code",
   "execution_count": null,
   "id": "0989b6a4-852d-4131-9fd3-857f7781c474",
   "metadata": {
    "tags": []
   },
   "outputs": [],
   "source": [
    "!qiime sample-classifier classify-samples --help"
   ]
  },
  {
   "cell_type": "markdown",
   "id": "9d058214-2cb8-4b65-9b84-af92eb9a11ba",
   "metadata": {},
   "source": [
    "## Objective"
   ]
  },
  {
   "cell_type": "markdown",
   "id": "031dc0f1-cb7b-4da1-9ac9-ade40fe66001",
   "metadata": {},
   "source": [
    "In our data set we have some samples where certain features/columns in meta data are not provided. For example do we not know for some samples whether they are allergic to gluten or not. But we do not want to miss out on this samples. So it would be awsome if we can predict these missing values based on the patterns we see over all our data. Therefore, we want to use machine learning to predict the missing values based on the feature table (microbiome composition). If this works well (the accuracy of our test set is high) we can predict the not provided values which is great for other analysis steps where we need this information. And second, if it works well we know that the microbiome composition alone contains the information about the diesease state of a person."
   ]
  },
  {
   "cell_type": "markdown",
   "id": "b52cbdd9-3a0f-4b43-bdbe-6880322b6019",
   "metadata": {},
   "source": [
    "## Filter Feature Table"
   ]
  },
  {
   "cell_type": "markdown",
   "id": "dfcfb71b-84c5-42ed-ae80-5e3c8cd2ff2c",
   "metadata": {},
   "source": [
    "First we have to filter the 'Not provided' values. Because we only want to train on the samples that do not miss this information. We focus on the symptom state for 'gluten', 'IBD' and the 'diet type'. Therefore, we create for each feature a filtered feature table, where we filter out the 'Not provided' values its own column."
   ]
  },
  {
   "cell_type": "code",
   "execution_count": 8,
   "id": "5aa9b10c-f138-426c-a38d-00dcea8fea2a",
   "metadata": {
    "tags": []
   },
   "outputs": [
    {
     "name": "stdout",
     "output_type": "stream",
     "text": [
      "\u001b[32mSaved FeatureTable[Frequency] to: ./data/feature_tables_dada/machine_learning_gluten_table.qza\u001b[0m\n",
      "\u001b[0m"
     ]
    }
   ],
   "source": [
    "!qiime feature-table filter-samples \\\n",
    "    --i-table ./data/feature_tables_dada/filtered-feature-table.qza \\\n",
    "    --m-metadata-file $data_dir/metadata/fungut_metadata_processed.tsv \\\n",
    "    --p-where \"[gluten_symptoms] != 'Not provided'\" \\\n",
    "    --o-filtered-table ./data/feature_tables_dada/machine_learning_gluten_table.qza"
   ]
  },
  {
   "cell_type": "code",
   "execution_count": 17,
   "id": "e36e448a-c379-40b1-9049-7e66468eca72",
   "metadata": {
    "tags": []
   },
   "outputs": [
    {
     "name": "stdout",
     "output_type": "stream",
     "text": [
      "\u001b[32mSaved FeatureTable[Frequency] to: ./data/feature_tables_dada/machine_learning_ibd_table.qza\u001b[0m\n",
      "\u001b[0m"
     ]
    }
   ],
   "source": [
    "!qiime feature-table filter-samples \\\n",
    "    --i-table ./data/feature_tables_dada/filtered-feature-table.qza \\\n",
    "    --m-metadata-file $data_dir/metadata/fungut_metadata_processed.tsv \\\n",
    "    --p-where \"[ibd_symptoms] != 'Not provided'\" \\\n",
    "    --o-filtered-table ./data/feature_tables_dada/machine_learning_ibd_table.qza"
   ]
  },
  {
   "cell_type": "code",
   "execution_count": 18,
   "id": "6117e39c-1ef4-4e27-82d4-dca728225a9f",
   "metadata": {
    "tags": []
   },
   "outputs": [
    {
     "name": "stdout",
     "output_type": "stream",
     "text": [
      "\u001b[32mSaved FeatureTable[Frequency] to: ./data/feature_tables_dada/machine_learning_diet_table.qza\u001b[0m\n",
      "\u001b[0m"
     ]
    }
   ],
   "source": [
    "!qiime feature-table filter-samples \\\n",
    "    --i-table ./data/feature_tables_dada/filtered-feature-table.qza \\\n",
    "    --m-metadata-file $data_dir/metadata/fungut_metadata_processed.tsv \\\n",
    "    --p-where \"[diet_type_sample] != 'Not provided'\" \\\n",
    "    --o-filtered-table ./data/feature_tables_dada/machine_learning_diet_table.qza"
   ]
  },
  {
   "cell_type": "markdown",
   "id": "01b2a985-ea63-4932-a142-60c65bcc2335",
   "metadata": {},
   "source": [
    "In the next block we also prepare a feature table which only contains information where the samples are USA, Australe or United Kingdom. This is done to see if we can predict well this groups, since they are about equal in size and had significantly enriched taxas in the differential abundance analysis."
   ]
  },
  {
   "cell_type": "code",
   "execution_count": 43,
   "id": "96dfe78a-aeee-4215-b01e-a92a5d539308",
   "metadata": {
    "tags": []
   },
   "outputs": [
    {
     "name": "stdout",
     "output_type": "stream",
     "text": [
      "\u001b[32mSaved FeatureTable[Frequency] to: ./data/feature_tables_dada/machine_learning_country_table.qza\u001b[0m\n",
      "\u001b[0m"
     ]
    }
   ],
   "source": [
    "!qiime feature-table filter-samples \\\n",
    "    --i-table ./data/feature_tables_dada/filtered-feature-table.qza \\\n",
    "    --m-metadata-file $data_dir/metadata/fungut_metadata_processed.tsv \\\n",
    "    --p-where \"[country_sample] != 'Not provided' and ([country_sample] = 'USA' or [country_sample] = 'United Kingdom' or [country_sample] = 'Australia')\" \\\n",
    "    --o-filtered-table ./data/feature_tables_dada/machine_learning_country_table.qza"
   ]
  },
  {
   "cell_type": "markdown",
   "id": "8c55fd5c-7e7e-4643-bacd-44fa724d9e5a",
   "metadata": {},
   "source": [
    "## Classifying with Qiime2 classifier function  \n",
    "First, we try to use a pre-built function of Qiime2. This function takes a feature table and tries to learn to classify each sample into a category given by the meta data. Here we show the implementation for predicting the symptom state of 'gluten'.  \n",
    "As we can see in the visualisation the predicting model is pretty bad. The accuracy is high (about 80%) but this is not due to the fact that the model can distinguish well. It is the opposite, the model just always predicts the most common category, which is in our example 'no_symptoms'. The problem is that we have very unequal group sizes. The 'no_symptoms' group is much bigger than the other.  \n",
    "The same promlems appear for 'IBD' and 'diet type'. The distribution of the groups is very uneven and the model just always predicts the overrepresented group."
   ]
  },
  {
   "cell_type": "code",
   "execution_count": 45,
   "id": "c4861bc8-341c-4bca-9bea-1ebdfcbc263f",
   "metadata": {
    "tags": []
   },
   "outputs": [
    {
     "name": "stdout",
     "output_type": "stream",
     "text": [
      "rm: cannot remove './data/machine_learning': No such file or directory\n"
     ]
    }
   ],
   "source": [
    "! rm -r ./data/machine_learning/x"
   ]
  },
  {
   "cell_type": "code",
   "execution_count": 55,
   "id": "d7debc8c-3174-4d6b-bf49-9ce934b48fa3",
   "metadata": {
    "tags": []
   },
   "outputs": [
    {
     "name": "stdout",
     "output_type": "stream",
     "text": [
      "\u001b[32mSaved SampleEstimator[Classifier] to: ./data/machine_learning/gluten/sample_estimator.qza\u001b[0m\n",
      "\u001b[32mSaved FeatureData[Importance] to: ./data/machine_learning/gluten/feature_importance.qza\u001b[0m\n",
      "\u001b[32mSaved SampleData[ClassifierPredictions] to: ./data/machine_learning/gluten/predictions.qza\u001b[0m\n",
      "\u001b[32mSaved Visualization to: ./data/machine_learning/gluten/model_summary.qzv\u001b[0m\n",
      "\u001b[32mSaved Visualization to: ./data/machine_learning/gluten/accuracy_results.qzv\u001b[0m\n",
      "\u001b[32mSaved SampleData[Probabilities] to: ./data/machine_learning/gluten/probabilities.qza\u001b[0m\n",
      "\u001b[32mSaved Visualization to: ./data/machine_learning/gluten/heatmap.qzv\u001b[0m\n",
      "\u001b[32mSaved SampleData[TrueTargets] to: ./data/machine_learning/gluten/training_targets.qza\u001b[0m\n",
      "\u001b[32mSaved SampleData[TrueTargets] to: ./data/machine_learning/gluten/test_targets.qza\u001b[0m\n",
      "\u001b[0m"
     ]
    }
   ],
   "source": [
    "!qiime sample-classifier classify-samples \\\n",
    "    --i-table $data_dir/feature_tables_dada/machine_learning_gluten_table.qza \\\n",
    "    --m-metadata-file $data_dir/metadata/fungut_metadata_processed.tsv \\\n",
    "    --m-metadata-column gluten_symptoms \\\n",
    "    --p-random-state 42 \\\n",
    "    --p-parameter-tuning \\\n",
    "    --p-estimator GradientBoostingClassifier \\\n",
    "    --output-dir ./data/machine_learning/gluten"
   ]
  },
  {
   "cell_type": "code",
   "execution_count": 57,
   "id": "673207f1-1e5b-41c0-a9f6-0e51e8c874cf",
   "metadata": {
    "tags": []
   },
   "outputs": [
    {
     "data": {
      "text/html": [
       "<div><img onload=\"(function(div, url){\n",
       "if (typeof require !== 'undefined') {\n",
       "    var baseURL = require.toUrl('').split('/').slice(0, -2).join('/');\n",
       "} else {\n",
       "    var baseURL = JSON.parse(\n",
       "        document.getElementById('jupyter-config-data').innerHTML\n",
       "    ).baseUrl.slice(0, -1);\n",
       "}\n",
       "url = baseURL + url;\n",
       "fetch(url).then(function(res) {\n",
       "    if (res.status === 404) {\n",
       "        div.innerHTML = 'Install QIIME 2 Jupyter extension with:<br />' +\n",
       "                        '<code>jupyter serverextension enable --py qiime2' +\n",
       "                        ' --sys-prefix</code><br />then restart your server.' +\n",
       "                        '<br /><br />(Interactive output not available on ' +\n",
       "                        'static notebook viewer services like nbviewer.)';\n",
       "    } else if (res.status === 409) {\n",
       "        div.innerHTML = 'Visualization no longer in scope. Re-run this cell' +\n",
       "                        ' to see the visualization.';\n",
       "    } else if (res.ok) {\n",
       "        url = res.url;\n",
       "        div.innerHTML = '<iframe src=\\'' + url + '\\' style=\\'' +\n",
       "                        'width: 100%; height: 700px; border: 0;\\'>' +\n",
       "                        '</iframe><hr />Open in a: <a href=\\'' + url + '\\'' +\n",
       "                        ' target=\\'_blank\\'>new window</a>'\n",
       "    } else {\n",
       "        div.innerHTML = 'Something has gone wrong. Check notebook server for' +\n",
       "                        ' errors.';\n",
       "    }\n",
       "});\n",
       "})(this.parentElement, '/qiime2/redirect?location=/tmp/qiime2/jovyan/data/f99ddd28-f4e3-4e48-9d22-6138382d1bd1')\" src=\"data:image/gif;base64,R0lGODlhAQABAIAAAP///wAAACH5BAEAAAAALAAAAAABAAEAAAICRAEAOw==\" /></div>"
      ],
      "text/plain": [
       "<visualization: Visualization uuid: f99ddd28-f4e3-4e48-9d22-6138382d1bd1>"
      ]
     },
     "execution_count": 57,
     "metadata": {},
     "output_type": "execute_result"
    }
   ],
   "source": [
    "Visualization.load('./data/machine_learning/country/accuracy_results.qzv')"
   ]
  },
  {
   "cell_type": "markdown",
   "id": "73989158-4d97-4069-9f41-06982ad47a6c",
   "metadata": {},
   "source": [
    "# Self made Classifier\n",
    "We saw that we were not able to use the Qiime2 function (sample-classifier classify-samples) to predict accurately. Therefore, we tried to build our own machine learning classifier. This gives us more flexibility on the model. We can for example tweak the loss function or the preprocessing of the feature table (normalizing). And we can also try to over sample the minorty groups with Synthetic Minority Over-sampling Technique (SMOTE).\n",
    "\n",
    "First we install some packages (imblearn and xgboost)"
   ]
  },
  {
   "cell_type": "code",
   "execution_count": null,
   "id": "0b735be4-5936-48b7-886a-3a5b886f57d6",
   "metadata": {
    "tags": []
   },
   "outputs": [],
   "source": [
    "!pip install imblearn"
   ]
  },
  {
   "cell_type": "code",
   "execution_count": null,
   "id": "a9e05814-a3f7-4a47-91c5-756115b795e5",
   "metadata": {
    "tags": []
   },
   "outputs": [],
   "source": [
    "!pip install xgboost"
   ]
  },
  {
   "cell_type": "markdown",
   "id": "2b2a6eef-e896-48b6-9edf-80cbaed34620",
   "metadata": {},
   "source": [
    "Here we have to make sure that our seaborn version is 0.13.2! If not we get some wrong plots later (missing values)"
   ]
  },
  {
   "cell_type": "code",
   "execution_count": null,
   "id": "37e7517f-1e18-49dc-b256-bbce2381cdb9",
   "metadata": {
    "tags": []
   },
   "outputs": [],
   "source": [
    "!pip show seaborn"
   ]
  },
  {
   "cell_type": "markdown",
   "id": "f4c0bedc-1e60-49b7-ba9f-e04b297bcabd",
   "metadata": {},
   "source": [
    "So: If the version is older than 13.2 run the following command before loading the module"
   ]
  },
  {
   "cell_type": "code",
   "execution_count": null,
   "id": "00dff987-59e9-4312-b195-cb141b48b9c9",
   "metadata": {
    "tags": []
   },
   "outputs": [],
   "source": [
    "!pip install --upgrade seaborn"
   ]
  },
  {
   "cell_type": "code",
   "execution_count": 2,
   "id": "edd7f4a8-ae66-4904-99e3-0a85e099e513",
   "metadata": {
    "tags": []
   },
   "outputs": [],
   "source": [
    "import os\n",
    "import sys\n",
    "import seaborn as sns\n",
    "import pandas as pd\n",
    "import numpy as np\n",
    "import qiime2 as q2\n",
    "from qiime2 import Visualization\n",
    "import matplotlib.pyplot as plt\n",
    "%matplotlib inline\n",
    "\n",
    "from biom import load_table\n",
    "from sklearn.model_selection import train_test_split, StratifiedKFold\n",
    "from sklearn.svm import SVC\n",
    "from sklearn.metrics import accuracy_score\n",
    "from sklearn.utils.class_weight import compute_class_weight\n",
    "from sklearn.linear_model import LogisticRegression\n",
    "from imblearn.over_sampling import SMOTE\n",
    "from sklearn.ensemble import RandomForestClassifier\n",
    "from sklearn.metrics import confusion_matrix\n",
    "import xgboost as xgb\n",
    "from sklearn.preprocessing import LabelEncoder\n",
    "from sklearn.preprocessing import MinMaxScaler\n",
    "from sklearn.decomposition import SparsePCA\n",
    "\n",
    "# Define the data directory\n",
    "data_dir = './data'"
   ]
  },
  {
   "cell_type": "markdown",
   "id": "1cc2eee9-5700-4c4b-9a4b-dc2c898cb657",
   "metadata": {},
   "source": [
    "### export feature table and load as data frame\n",
    "Here, we export our feature table to be able to load it as a data frame."
   ]
  },
  {
   "cell_type": "code",
   "execution_count": null,
   "id": "21dd5433-0e7d-456c-bf07-d945ded5443b",
   "metadata": {
    "tags": []
   },
   "outputs": [],
   "source": [
    "!qiime tools export \\\n",
    "        --input-path $data_dir/feature_tables_dada/filtered-feature-table.qza \\\n",
    "        --output-path $data_dir/feature_tables_dada/exported-feature-table"
   ]
  },
  {
   "cell_type": "code",
   "execution_count": 3,
   "id": "5a240acc-2366-4e7a-9c2b-90b4b3a1f2ec",
   "metadata": {
    "tags": []
   },
   "outputs": [],
   "source": [
    "biom_table = load_table(f'{data_dir}/feature_tables_dada/exported-feature-table/feature-table.biom')\n",
    "# Convert the biom table to a pandas DataFrame\n",
    "feature_table = biom_table.to_dataframe()"
   ]
  },
  {
   "cell_type": "code",
   "execution_count": 4,
   "id": "ada033ec-e89f-4d2a-8340-32a42ab19c07",
   "metadata": {
    "tags": []
   },
   "outputs": [],
   "source": [
    "meta = pd.read_csv(f'{data_dir}/metadata/fungut_metadata_processed.tsv', sep='\\t')"
   ]
  },
  {
   "cell_type": "markdown",
   "id": "2b0c55e2-06ea-44af-9b65-abca1e7d7d41",
   "metadata": {},
   "source": [
    "### Prepare data (X=features and y=label)\n",
    "Then we load the data into numpy and perform a log-transformation and make a transform the string lables into binary format"
   ]
  },
  {
   "cell_type": "code",
   "execution_count": 5,
   "id": "b80331c1-dc11-4891-b101-fe1ad4228357",
   "metadata": {
    "tags": []
   },
   "outputs": [],
   "source": [
    "X = feature_table.T  \n",
    "y = meta.gluten_symptoms \n",
    "\n",
    "#filter 'not_provided'\n",
    "y = y[y != 'Not provided']\n",
    "X = X.iloc[y.index]"
   ]
  },
  {
   "cell_type": "code",
   "execution_count": 6,
   "id": "a85dcf28-529c-4234-a505-ad0a282c70a7",
   "metadata": {
    "tags": []
   },
   "outputs": [],
   "source": [
    "# scale with log-transformation\n",
    "X = np.log1p(X) \n",
    "# turn into numpy array\n",
    "X = X.to_numpy()\n",
    "y = y.to_numpy()"
   ]
  },
  {
   "cell_type": "code",
   "execution_count": 7,
   "id": "ccd25426-1b51-45ec-8389-5552c4555b65",
   "metadata": {
    "tags": []
   },
   "outputs": [],
   "source": [
    "# Here, we tried to use PCA to reduce the dimension of the feature table, but this did not improve the results...\n",
    "#spca = SparsePCA(n_components=100, random_state=42)\n",
    "#X = spca.fit_transform(X)\n",
    "\n",
    "# Encode the target labels into numeric values\n",
    "le = LabelEncoder()\n",
    "y = le.fit_transform(y)  # Converts strings to integers"
   ]
  },
  {
   "cell_type": "markdown",
   "id": "6868c6a8-3f17-4fff-9b23-d668f8483a6b",
   "metadata": {
    "tags": []
   },
   "source": [
    "### Model computation"
   ]
  },
  {
   "cell_type": "markdown",
   "id": "ecbd0194-6494-4f97-9078-a8641e9f0276",
   "metadata": {
    "jp-MarkdownHeadingCollapsed": true,
    "tags": []
   },
   "source": [
    "### testing"
   ]
  },
  {
   "cell_type": "code",
   "execution_count": 18,
   "id": "e39ba7db-ee02-42ce-9ad1-5a72116e4d4c",
   "metadata": {
    "tags": []
   },
   "outputs": [
    {
     "name": "stdout",
     "output_type": "stream",
     "text": [
      "Accuracy: 0.5517241379310345\n",
      "Ratio (predict most likely): 0.6956521739130435\n",
      "Accuracy: 0.5517241379310345\n",
      "Ratio (predict most likely): 0.6956521739130435\n",
      "Accuracy: 0.6206896551724138\n",
      "Ratio (predict most likely): 0.782608695652174\n",
      "Accuracy: 0.6896551724137931\n",
      "Ratio (predict most likely): 0.9090909090909092\n",
      "Accuracy: 0.75\n",
      "Ratio (predict most likely): 0.9545454545454546\n"
     ]
    },
    {
     "data": {
      "image/png": "[encoded data removed]",
      "text/plain": [
       "<Figure size 2000x500 with 5 Axes>"
      ]
     },
     "metadata": {},
     "output_type": "display_data"
    }
   ],
   "source": [
    "# Stratified K-Fold Cross-validation (ensures each fold has the same class distribution)\n",
    "kf = StratifiedKFold(n_splits=5)\n",
    "\n",
    "# Initialize the figure for subplots\n",
    "fig, axes = plt.subplots(1, 5, figsize=(20, 5))  # 1 row, 5 columns\n",
    "\n",
    "for fold, (train_idx, test_idx) in enumerate(kf.split(X, y), start=1):\n",
    "    X_train, X_test = X[train_idx], X[test_idx]\n",
    "    y_train, y_test = y[train_idx], y[test_idx]\n",
    "    \n",
    "    #calculate scale to adjust weight of underreprestend group\n",
    "    scale_pos_weight =  (len(y_train) - sum(y_train)) / sum(y_train)\n",
    "    \n",
    "    # Apply SMOTE to the training set --> create new datapoints of minority group (disease)\n",
    "    smote = SMOTE()\n",
    "    X_train_smote, y_train_smote = smote.fit_resample(X_train, y_train)\n",
    "    \n",
    "    #model = RandomForestClassifier(class_weight='balanced', random_state=42)\n",
    "    #model.fit(X_train, y_train)\n",
    "\n",
    "    model = xgb.XGBClassifier(scale_pos_weight=scale_pos_weight,  \n",
    "                              eval_metric='logloss',\n",
    "                              objective='binary:logistic')\n",
    "    model.fit(X_train_smote, y_train_smote)\n",
    "\n",
    "    #model = LogisticRegression(solver='lbfgs', class_weight='balanced', random_state=42)\n",
    "    #model.fit(X_train_smote, y_train_smote)\n",
    "    \n",
    "    \n",
    "    \n",
    "    # Evaluate model\n",
    "    y_pred = model.predict(X_test)\n",
    "    print(f'Accuracy: {accuracy_score(y_test, y_pred)}')\n",
    "    print(f'Ratio (predict most likely): {accuracy_score(y_test, y_pred)/((len(y_test) - sum(y_test))/len(y_test))}')\n",
    "    \n",
    "    # Get class distribution using numpy.unique()\n",
    "    unique_test, counts_test = np.unique(y_test, return_counts=True)\n",
    "    unique_pred, counts_pred = np.unique(y_pred, return_counts=True)\n",
    "    # Print class distributions\n",
    "    #print(f\"True class distribution: {dict(zip(unique_test, counts_test))}\")\n",
    "    #print(f\"Predicted class distribution: {dict(zip(unique_pred, counts_pred))}\")\n",
    "    \n",
    "    cm = confusion_matrix(y_test, y_pred)\n",
    "    \n",
    "    ax = axes[fold - 1]  # Select subplot\n",
    "    sns.heatmap(cm, annot=True, cmap='Blues', fmt='d',\n",
    "                xticklabels=np.unique(y), yticklabels=np.unique(y),\n",
    "                cbar=False, ax=ax)\n",
    "    ax.set_title(f'Fold {fold}')\n",
    "    ax.set_xlabel('Predicted')\n",
    "    ax.set_ylabel('True')\n",
    "    \n",
    "\n",
    "# Adjust layout\n",
    "plt.tight_layout()\n",
    "plt.suptitle('Confusion Matrices for 5 Folds', fontsize=16, y=1.05)\n",
    "plt.show()"
   ]
  },
  {
   "cell_type": "markdown",
   "id": "31331986-04a2-4518-abef-d18142ba9e0a",
   "metadata": {},
   "source": [
    "### final model\n",
    "We played around with a lot of different estimators, normalizing steps, oversampling etc. In the end we used the following model:"
   ]
  },
  {
   "cell_type": "code",
   "execution_count": 22,
   "id": "b07b5c0a-9095-4f52-a1c2-2c663a884d23",
   "metadata": {
    "tags": []
   },
   "outputs": [
    {
     "data": {
      "image/png": "[encoded data removed]",
      "text/plain": [
       "<Figure size 2000x500 with 5 Axes>"
      ]
     },
     "metadata": {},
     "output_type": "display_data"
    }
   ],
   "source": [
    "import matplotlib.pyplot as plt\n",
    "import seaborn as sns\n",
    "import numpy as np\n",
    "from sklearn.metrics import confusion_matrix, accuracy_score\n",
    "from imblearn.over_sampling import SMOTE\n",
    "from sklearn.model_selection import StratifiedKFold\n",
    "import xgboost as xgb\n",
    "\n",
    "# Stratified K-Fold Cross-validation\n",
    "kf = StratifiedKFold(n_splits=5)\n",
    "\n",
    "# Initialize the figure for subplots\n",
    "fig, axes = plt.subplots(1, 5, figsize=(20, 5))  # 1 row, 5 columns\n",
    "\n",
    "# Loop through the folds\n",
    "for fold, (train_idx, test_idx) in enumerate(kf.split(X, y), start=1):\n",
    "    X_train, X_test = X[train_idx], X[test_idx]\n",
    "    y_train, y_test = y[train_idx], y[test_idx]\n",
    "\n",
    "    # Calculate scale_pos_weight\n",
    "    scale_pos_weight = (len(y_train) - sum(y_train)) / sum(y_train)\n",
    "    \n",
    "    # Apply SMOTE to the training set\n",
    "    smote = SMOTE()\n",
    "    X_train_smote, y_train_smote = smote.fit_resample(X_train, y_train)\n",
    "    \n",
    "    # Train the model using XGBoost\n",
    "    model = xgb.XGBClassifier(scale_pos_weight=scale_pos_weight,  \n",
    "                              eval_metric='logloss',\n",
    "                              objective='binary:logistic')\n",
    "    model.fit(X_train_smote, y_train_smote)\n",
    "    \n",
    "    # Evaluate the model\n",
    "    y_pred = model.predict(X_test)\n",
    "    accuracy = accuracy_score(y_test, y_pred)\n",
    "    ratio = accuracy / ((len(y_test) - sum(y_test)) / len(y_test))\n",
    "    #print(f'Fold {fold} Accuracy: {accuracy:.4f}')\n",
    "    #print(f'Fold {fold} Ratio: {ratio:.4f}')\n",
    "    \n",
    "    # Confusion matrix\n",
    "    cm = confusion_matrix(y_test, y_pred)\n",
    "    \n",
    "    # Plot confusion matrix in the corresponding subplot\n",
    "    ax = axes[fold - 1]  # Select subplot\n",
    "    sns.heatmap(cm, annot=True, cmap='Blues', fmt='d',\n",
    "                xticklabels=np.unique(y), yticklabels=np.unique(y),\n",
    "                cbar=False, ax=ax, annot_kws={\"size\": 12})\n",
    "    \n",
    "    # Add titles and text with accuracy and ratio\n",
    "    ax.set_title(f'Fold {fold}\\nAccuracy: {accuracy:.4f}\\nRatio: {ratio:.4f}')\n",
    "    ax.set_xlabel('Predicted')\n",
    "    ax.set_ylabel('True')\n",
    "\n",
    "# Adjust layout\n",
    "plt.tight_layout()\n",
    "plt.suptitle('Confusion Matrices with Accuracy and Ratio for 5 Folds', fontsize=16, y=1.05)\n",
    "plt.show()\n"
   ]
  },
  {
   "cell_type": "markdown",
   "id": "367a66c4-02ca-46d3-b188-01ca348e4029",
   "metadata": {},
   "source": [
    "### Result\n",
    "We managed to build a model, so that it not only predicts the overrepresented group. This was done by scaling the weigths of the minority group and using SMOTE. From the confusion matrices above we can see that we are sometimes able to correctly predict the disease (bottom right of confusion matrix, 1=symptoms (minority group). But overall our accuracy is not very mind blowing. The Ratio (compared to base model of always predicting the overrepresented group) is never higher than 1.  \n",
    "We think that it might could be that there is no clear pattern/difference to find. Because in the differential abundance analysis we also did not find any significant enriched or depleted taxonomies."
   ]
  },
  {
   "cell_type": "markdown",
   "id": "58f3d92f-401a-484b-81ff-7d9dacf2e3cf",
   "metadata": {},
   "source": [
    "### Try to predict country (USA, UK and Australia)\n",
    "Here we try to predict the country based on the feature table. We are not very much interested in predicting the country, but we want to see whether we can get some more accurate predictions, because we found significant enriched/depleted taxonomies between these groups. Therefore, the classifier will also perfom better. But we only considered the three countries 'United Kingdom', 'USA' and 'Australia'. This will probably also increase the performance because these 3 groups are about equal in size."
   ]
  },
  {
   "cell_type": "code",
   "execution_count": 23,
   "id": "c5d77c82-bfbe-4317-b611-d52cbfa99a4f",
   "metadata": {
    "tags": []
   },
   "outputs": [],
   "source": [
    "X = feature_table.T  \n",
    "y = meta.country_sample\n",
    "\n",
    "#filter 'not_provided'\n",
    "y = y[y.isin(['United Kingdom', 'USA', 'Australia'])]\n",
    "X = X.iloc[y.index]\n",
    "# scale with log-transformation\n",
    "X = np.log1p(X) \n",
    "# turn into numpy array\n",
    "X = X.to_numpy()\n",
    "y = y.to_numpy()\n",
    "le = LabelEncoder()\n",
    "y= le.fit_transform(y)  # Converts strings to integers"
   ]
  },
  {
   "cell_type": "code",
   "execution_count": 24,
   "id": "6a09eb06-48db-4e13-b50f-6db48b828ed4",
   "metadata": {
    "tags": []
   },
   "outputs": [
    {
     "name": "stdout",
     "output_type": "stream",
     "text": [
      "[1 1 1 2 2 2 2 2 1 1 1 0 0 0 0 0 0 0 0 0 0 0 0 0 0 0 0 0 0 0 0 0 0 0 0 0 0\n",
      " 0 0 0 0 0 0 0 1 1 1 1 1 1 1 0 0 0 0 0 0 0 0 1 1 1 1 1 1 1 1 1 1 1 1 1 1 1\n",
      " 1 1 2 2 2 2 2 2 2 2 2 2 2 2 2 2 2 2 2 2 2 2 2 2 2 2 1 1 1 1 0 1 1 1 1 1 1\n",
      " 1 1 1 1 2 2 2 2 2 2 2 2 2 2 2 2 2 2 2 2 2 2 2 2 2 2 2 2]\n",
      "Accuracy of predicting overrepresented = 0.381294964028777\n"
     ]
    }
   ],
   "source": [
    "print(y)\n",
    "\n",
    "counts = np.bincount(y)\n",
    "most_common_count = counts.max()\n",
    "accuracy_null_model = most_common_count / len(y)\n",
    "print('Accuracy of predicting overrepresented =', accuracy_null_model)"
   ]
  },
  {
   "cell_type": "code",
   "execution_count": 27,
   "id": "87088234-2db6-486b-aa91-e04403a91d60",
   "metadata": {
    "tags": []
   },
   "outputs": [
    {
     "name": "stdout",
     "output_type": "stream",
     "text": [
      "Fold 1 Accuracy: 0.3571\n",
      "Fold 1 Ratio: 1.0714\n",
      "Fold 2 Accuracy: 0.4286\n",
      "Fold 2 Ratio: 1.2857\n",
      "Fold 3 Accuracy: 0.5357\n",
      "Fold 3 Ratio: 1.6071\n",
      "Fold 4 Accuracy: 0.4286\n",
      "Fold 4 Ratio: 1.2857\n",
      "Fold 5 Accuracy: 0.4815\n",
      "Fold 5 Ratio: 1.4444\n"
     ]
    },
    {
     "data": {
      "image/png": "[encoded data removed]",
      "text/plain": [
       "<Figure size 2500x500 with 5 Axes>"
      ]
     },
     "metadata": {},
     "output_type": "display_data"
    }
   ],
   "source": [
    "import matplotlib.pyplot as plt\n",
    "import seaborn as sns\n",
    "import numpy as np\n",
    "from sklearn.metrics import confusion_matrix, accuracy_score\n",
    "from sklearn.model_selection import StratifiedKFold\n",
    "import xgboost as xgb\n",
    "\n",
    "# Stratified K-Fold Cross-validation\n",
    "kf = StratifiedKFold(n_splits=5)\n",
    "\n",
    "# Initialize a figure with 5 subplots\n",
    "fig, axes = plt.subplots(1, 5, figsize=(25, 5))  # 1 row, 5 columns\n",
    "\n",
    "accuracy_null_model = 1 / len(np.unique(y))  # Baseline accuracy for ratio calculation\n",
    "\n",
    "# Loop through the folds\n",
    "for fold, (train_idx, test_idx) in enumerate(kf.split(X, y), start=1):\n",
    "    X_train, X_test = X[train_idx], X[test_idx]\n",
    "    y_train, y_test = y[train_idx], y[test_idx]\n",
    "\n",
    "    # Train the model\n",
    "    model = xgb.XGBClassifier(eval_metric='mlogloss', objective='multi:softmax')\n",
    "    model.fit(X_train, y_train)\n",
    "    \n",
    "    # Evaluate model\n",
    "    y_pred = model.predict(X_test)\n",
    "    accuracy = accuracy_score(y_test, y_pred)\n",
    "    ratio = accuracy / accuracy_null_model\n",
    "    \n",
    "    print(f\"Fold {fold} Accuracy: {accuracy:.4f}\")\n",
    "    print(f\"Fold {fold} Ratio: {ratio:.4f}\")\n",
    "    \n",
    "    # Confusion matrix\n",
    "    cm = confusion_matrix(y_test, y_pred)\n",
    "    \n",
    "    # Plot confusion matrix in the corresponding subplot\n",
    "    ax = axes[fold - 1]  # Select subplot\n",
    "    sns.heatmap(cm, annot=True, cmap='Blues', fmt='d',\n",
    "                xticklabels=np.unique(y), yticklabels=np.unique(y),\n",
    "                cbar=False, ax=ax, annot_kws={\"size\": 10})\n",
    "    \n",
    "    # Add titles and subtitle information\n",
    "    ax.set_title(f'Fold {fold}\\nAccuracy: {accuracy:.4f}\\nRatio: {ratio:.4f}')\n",
    "    ax.set_xlabel('Predicted')\n",
    "    ax.set_ylabel('True')\n",
    "\n",
    "# Adjust layout for clarity\n",
    "plt.tight_layout()\n",
    "plt.suptitle('Confusion Matrices with Accuracy and Ratio for 5 Folds', fontsize=16, y=1.05)\n",
    "plt.show()\n"
   ]
  },
  {
   "cell_type": "markdown",
   "id": "abcf5f14-5457-4e2f-8ae0-02e79f4f67fa",
   "metadata": {},
   "source": [
    "### Result  \n",
    "We managed to increase the Ratio to higher than 1. But the accuracy is still not that well. And our self built model was not better than the results of the prebuilt Qiime2 function. This means that we probalby would have potential to improve our model.\n",
    "\n",
    "Overall, we think using machine learning to predict missing values could work out if we had a much larger data set. Then we could better handle the unequal group sizes. And with further optimization of the model we would probably be able get some useful predictions. But we cannot confirm this since our data set is very small for a machine learning task and we are not experts in machine learning :)"
   ]
  },
  {
   "cell_type": "code",
   "execution_count": null,
   "id": "baeb00fb-07e0-44bc-9912-4b33c01387c8",
   "metadata": {},
   "outputs": [],
   "source": []
  }
 ],
 "metadata": {
  "kernelspec": {
   "display_name": "QIIME 2",
   "language": "python",
   "name": "python3"
  },
  "language_info": {
   "codemirror_mode": {
    "name": "ipython",
    "version": 3
   },
   "file_extension": ".py",
   "mimetype": "text/x-python",
   "name": "python",
   "nbconvert_exporter": "python",
   "pygments_lexer": "ipython3",
   "version": "3.9.19"
  }
 },
 "nbformat": 4,
 "nbformat_minor": 5
}
