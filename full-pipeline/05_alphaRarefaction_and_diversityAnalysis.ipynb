{
 "cells": [
  {
   "cell_type": "markdown",
   "id": "fa44c477-b86e-4616-a9bc-7a34d8a55584",
   "metadata": {},
   "source": [
    "# Alpha rarefaction & Diversity Analysis"
   ]
  },
  {
   "cell_type": "code",
   "execution_count": null,
   "id": "babb3bf0-a258-4eec-8547-713c3534550e",
   "metadata": {
    "tags": []
   },
   "outputs": [],
   "source": [
    "import os # version: 3.9.19\n",
    "import sys # version: 3.9.19\n",
    "import pandas as pd # version: 2.2.2\n",
    "import qiime2 as q2 # version: 2024.5.0\n",
    "from qiime2 import Visualization\n",
    "from skbio import OrdinationResults\n",
    "import matplotlib.pyplot as plt # version: 3.8.4\n",
    "import seaborn as sns # version: 0.12.2\n",
    "%matplotlib inline\n",
    "\n",
    "# Define the data directory\n",
    "data_dir = '/data'"
   ]
  },
  {
   "cell_type": "markdown",
   "id": "cfc1bb17-ea97-493c-a2e1-a89b2cefb29e",
   "metadata": {},
   "source": [
    "## Alpha rarefaction"
   ]
  },
  {
   "cell_type": "code",
   "execution_count": null,
   "id": "bdb5603c-4f71-4053-aebd-a249d7d1c55b",
   "metadata": {
    "tags": []
   },
   "outputs": [],
   "source": [
    "!qiime diversity alpha-rarefaction \\\n",
    "  --i-table ./data/feature_tables_dada/filtered-feature-table.qza \\\n",
    "  --p-max-depth  30000 \\\n",
    "  --m-metadata-file ./data/metadata/fungut_metadata_processed.tsv \\\n",
    "  --o-visualization ./data/diversity/alpha-rarefaction.qzv\n"
   ]
  },
  {
   "cell_type": "code",
   "execution_count": null,
   "id": "97a242cc-97fe-4c9b-85cb-bec081817655",
   "metadata": {
    "tags": []
   },
   "outputs": [],
   "source": [
    "Visualization.load('./data/diversity/alpha-rarefaction.qzv')"
   ]
  },
  {
   "cell_type": "markdown",
   "id": "02fcb3dc-edaf-4c9f-a2f8-bfa7a7ddc75a",
   "metadata": {},
   "source": [
    "----------------------------------------------------------------------------------"
   ]
  },
  {
   "cell_type": "markdown",
   "id": "8384e8fc-1b75-44ae-aaaf-48a2872b0fc8",
   "metadata": {
    "tags": []
   },
   "source": [
    "## Diversity analysis\n",
    "#### Computing core metrics \n",
    "We chose a sampling depth of 4000, as the shannon metric plateaus shortly before it  \n"
   ]
  },
  {
   "cell_type": "code",
   "execution_count": null,
   "id": "1c41aad5-0caf-4790-86ac-bdd0e17ea9e8",
   "metadata": {
    "tags": []
   },
   "outputs": [],
   "source": [
    "! qiime diversity core-metrics \\\n",
    "  --i-table ./data/feature_tables_dada/filtered-feature-table.qza \\\n",
    "  --m-metadata-file ./data/metadata/fungut_metadata_processed.tsv \\\n",
    "  --p-sampling-depth 4000 \\\n",
    "  --output-dir ./data/diversity/core-metrics-results"
   ]
  },
  {
   "cell_type": "markdown",
   "id": "d025666b-c5ac-4e1f-a912-c8a2cc3fd14e",
   "metadata": {},
   "source": [
    "-----------------------------------------------------------------------------------------------------------------------"
   ]
  },
  {
   "cell_type": "markdown",
   "id": "134268dc-45ea-451d-bead-28cf26aa8d10",
   "metadata": {},
   "source": [
    "## Alpha Diversity Analysis: Group and Correlation Significance"
   ]
  },
  {
   "cell_type": "markdown",
   "id": "56d58b3c-eaa9-4a76-8266-14e77d258015",
   "metadata": {},
   "source": [
    "### Shannon Diversity: Group Significance\n",
    "\n",
    "#### Here we perform Kruskal-Wallis tests to compare Shannon diversity across groups (categorical data) in the metadata."
   ]
  },
  {
   "cell_type": "code",
   "execution_count": null,
   "id": "bb40f9f4-bcfb-48ab-b4b3-1ca02f1feccc",
   "metadata": {
    "tags": []
   },
   "outputs": [],
   "source": [
    "! qiime diversity alpha-group-significance \\\n",
    "  --i-alpha-diversity ./data/diversity/core-metrics-results/shannon_vector.qza \\\n",
    "  --m-metadata-file ./data/metadata/fungut_metadata_processed.tsv \\\n",
    "  --o-visualization ./data/diversity/core-metrics-results/shannon-group-significance.qzv"
   ]
  },
  {
   "cell_type": "code",
   "execution_count": null,
   "id": "4d62c8f7-1ac9-46d6-b6ff-4ab5558a76bf",
   "metadata": {
    "tags": []
   },
   "outputs": [],
   "source": [
    "Visualization.load('./data/diversity/core-metrics-results/shannon-group-significance.qzv')"
   ]
  },
  {
   "cell_type": "markdown",
   "id": "abb191f3-7607-4f3f-91c6-30cb2c9e995d",
   "metadata": {},
   "source": [
    "### Pielou's Evenness: Group Significance\n",
    "#### Here we perform Kruskal-Wallis tests to compare Pielou's evenness across groups (categorical data) in the metadata."
   ]
  },
  {
   "cell_type": "code",
   "execution_count": null,
   "id": "8820d600-6ca9-41c9-903c-c70caa4f717b",
   "metadata": {
    "tags": []
   },
   "outputs": [],
   "source": [
    "! qiime diversity alpha-group-significance \\\n",
    "  --i-alpha-diversity ./data/diversity/core-metrics-results/evenness_vector.qza \\\n",
    "  --m-metadata-file ./data/metadata/fungut_metadata_processed.tsv \\\n",
    "  --o-visualization ./data/diversity/core-metrics-results/evenness-group-significance.qzv"
   ]
  },
  {
   "cell_type": "code",
   "execution_count": null,
   "id": "1a8d0314-10f7-4258-9797-3c5ce028144e",
   "metadata": {
    "tags": []
   },
   "outputs": [],
   "source": [
    "Visualization.load('./data/diversity/core-metrics-results/evenness-group-significance.qzv')"
   ]
  },
  {
   "cell_type": "markdown",
   "id": "7284a884-60ec-4271-a251-957d48090f0c",
   "metadata": {},
   "source": [
    "### Shannon Diversity: Correlation with Continuous Variables\n",
    "#### Here we perform a Spearman correlation between Shannon diversity and numerical variables in the metadata."
   ]
  },
  {
   "cell_type": "code",
   "execution_count": null,
   "id": "04325efd-8f63-4b91-a2da-1180a2f16fdd",
   "metadata": {
    "tags": []
   },
   "outputs": [],
   "source": [
    "! qiime diversity alpha-correlation \\\n",
    "  --i-alpha-diversity ./data/diversity/core-metrics-results/shannon_vector.qza \\\n",
    "  --m-metadata-file ./data/metadata/fungut_metadata_processed.tsv \\\n",
    "  --o-visualization ./data/diversity/core-metrics-results/shannon-group-significance-numeric.qzv"
   ]
  },
  {
   "cell_type": "code",
   "execution_count": null,
   "id": "d0276c3b-6378-4438-9809-63d7b5b35ed4",
   "metadata": {
    "tags": []
   },
   "outputs": [],
   "source": [
    "Visualization.load('./data/diversity/core-metrics-results/shannon-group-significance-numeric.qzv')"
   ]
  },
  {
   "cell_type": "markdown",
   "id": "74a4f697-564d-4ef9-9cc8-091b2e92ce65",
   "metadata": {},
   "source": [
    "### Pielou's Evenness: Correlation with Continuous Variables\n",
    "#### Here we perform a Spearman correlation between Pielou's evenness and numerical variables in the metadata."
   ]
  },
  {
   "cell_type": "code",
   "execution_count": null,
   "id": "59c5d954-3513-417d-a769-2ea66d22ac5d",
   "metadata": {
    "tags": []
   },
   "outputs": [],
   "source": [
    "! qiime diversity alpha-correlation \\\n",
    "  --i-alpha-diversity ./data/diversity/core-metrics-results/evenness_vector.qza \\\n",
    "  --m-metadata-file ./data/metadata/fungut_metadata_processed.tsv \\\n",
    "  --o-visualization ./data/diversity/core-metrics-results/evenness-group-significance-numeric.qzv"
   ]
  },
  {
   "cell_type": "code",
   "execution_count": null,
   "id": "3f885edb-0369-40e4-a770-ae3556c2117c",
   "metadata": {
    "tags": []
   },
   "outputs": [],
   "source": [
    "Visualization.load('./data/diversity/core-metrics-results/evenness-group-significance-numeric.qzv')"
   ]
  },
  {
   "cell_type": "code",
   "execution_count": null,
   "id": "7d331cef-8b2a-46c2-b95f-60e533058024",
   "metadata": {},
   "outputs": [],
   "source": []
  },
  {
   "cell_type": "code",
   "execution_count": null,
   "id": "235f7fad-8537-447a-87d6-304c1876f9a6",
   "metadata": {},
   "outputs": [],
   "source": []
  },
  {
   "cell_type": "code",
   "execution_count": null,
   "id": "cc371fbb-e2b3-49d1-8516-954c49b36e24",
   "metadata": {},
   "outputs": [],
   "source": []
  },
  {
   "cell_type": "markdown",
   "id": "011bf73c-11ae-4b3b-a1a7-4f97407f49cc",
   "metadata": {},
   "source": [
    "-----------------------------------------------------------------------------------------------------------------------"
   ]
  },
  {
   "cell_type": "markdown",
   "id": "2aa17082-c34b-4e0e-b792-45190fcc38f9",
   "metadata": {},
   "source": [
    "## Beta Diversity Analysis: PCoA & PERMANOVA"
   ]
  },
  {
   "cell_type": "markdown",
   "id": "f86dfaa2-70bc-4229-aa1b-1ef3b22b0447",
   "metadata": {},
   "source": [
    "### Principal Coordinate Axis (PCoA)"
   ]
  },
  {
   "cell_type": "markdown",
   "id": "970ebecc-cd5b-407f-92a9-10fc9efcff0e",
   "metadata": {
    "tags": []
   },
   "source": [
    "#### Bray-Curtis Dissimilarity"
   ]
  },
  {
   "cell_type": "code",
   "execution_count": null,
   "id": "0480e86a-8299-4ebd-8fbf-fdd42b413903",
   "metadata": {
    "tags": []
   },
   "outputs": [],
   "source": [
    "Visualization.load('./data/diversity/core-metrics-results/bray_curtis_emperor.qzv')"
   ]
  },
  {
   "cell_type": "markdown",
   "id": "fd70799a-26d0-4bcd-84e9-181e7063b8ac",
   "metadata": {},
   "source": [
    "There are more visible clusters than in alpha diversity -> visually speaking. Also, the axis 1 seems to be able to describe 19.89% of the variation in the dataset."
   ]
  },
  {
   "cell_type": "markdown",
   "id": "310a0294-ed03-45e2-beb5-ff5f2f805a35",
   "metadata": {},
   "source": [
    "#### Jaccard Index"
   ]
  },
  {
   "cell_type": "code",
   "execution_count": null,
   "id": "c0f7ac25-a2ed-4d60-af23-4076c752604b",
   "metadata": {
    "tags": []
   },
   "outputs": [],
   "source": [
    "Visualization.load('./data/diversity/core-metrics-results/jaccard_emperor.qzv')"
   ]
  },
  {
   "cell_type": "markdown",
   "id": "e797bbbb-6947-425b-9457-e72e920f6290",
   "metadata": {},
   "source": [
    "##### Results from PCoA (Visual inspection):\n",
    "No clear clustering patterns found for any groupings in Bray-Curtis or Jaccard"
   ]
  },
  {
   "cell_type": "markdown",
   "id": "4258e116-a660-48aa-92ec-e9e78eedd64c",
   "metadata": {},
   "source": [
    "-----------------------------------------------------------------------------------------------------------------------"
   ]
  },
  {
   "cell_type": "markdown",
   "id": "f2c347e8-a52f-4051-81f5-0af9a2379982",
   "metadata": {},
   "source": [
    "## PERMANOVA"
   ]
  },
  {
   "cell_type": "markdown",
   "id": "8c233ac3-73b6-4e70-85df-663d02b787ec",
   "metadata": {},
   "source": [
    "### Bray Curtis\n",
    "##### gluten_symptoms"
   ]
  },
  {
   "cell_type": "code",
   "execution_count": null,
   "id": "25812d3d-60fe-4e94-b9ab-97b5bd8f88ab",
   "metadata": {
    "tags": []
   },
   "outputs": [],
   "source": [
    "! qiime diversity beta-group-significance \\\n",
    "    --i-distance-matrix ./data/diversity/core-metrics-results/bray_curtis_distance_matrix.qza \\\n",
    "    --m-metadata-file ./data/metadata/fungut_metadata_processed.tsv \\\n",
    "    --m-metadata-column gluten_symptoms \\\n",
    "    --p-pairwise \\\n",
    "    --o-visualization ./data/diversity/core-metrics-results/bray-curtis-gluten-significance.qzv"
   ]
  },
  {
   "cell_type": "code",
   "execution_count": null,
   "id": "e793b937-475c-4906-afaf-df8f600cd136",
   "metadata": {
    "tags": []
   },
   "outputs": [],
   "source": [
    "Visualization.load('./data/diversity/core-metrics-results/bray-curtis-gluten-significance.qzv')"
   ]
  },
  {
   "cell_type": "markdown",
   "id": "f7003ea9-0ce2-4e12-81d8-6b26d0ff111c",
   "metadata": {},
   "source": [
    "##### ibd_symptoms"
   ]
  },
  {
   "cell_type": "code",
   "execution_count": null,
   "id": "a8f490e9-41f9-4a0e-bef6-d13c3981832d",
   "metadata": {
    "tags": []
   },
   "outputs": [],
   "source": [
    "! qiime diversity beta-group-significance \\\n",
    "    --i-distance-matrix ./data/diversity/core-metrics-results/bray_curtis_distance_matrix.qza \\\n",
    "    --m-metadata-file ./data/metadata/fungut_metadata_processed.tsv \\\n",
    "    --m-metadata-column ibd_symptoms \\\n",
    "    --p-pairwise \\\n",
    "    --o-visualization ./data/diversity/core-metrics-results/bray-curtis-ibd-significance.qzv"
   ]
  },
  {
   "cell_type": "code",
   "execution_count": null,
   "id": "6652e8a4-2a63-45d2-a62e-bab86bf2c615",
   "metadata": {
    "tags": []
   },
   "outputs": [],
   "source": [
    "Visualization.load('./data/diversity/core-metrics-results/bray-curtis-ibd-significance.qzv')"
   ]
  },
  {
   "cell_type": "markdown",
   "id": "41e362ed-5a03-44ec-be47-908c4bd09a97",
   "metadata": {},
   "source": [
    "##### age_group"
   ]
  },
  {
   "cell_type": "code",
   "execution_count": null,
   "id": "b880755b-3e2b-4abe-88bb-d809b1ee38d7",
   "metadata": {
    "tags": []
   },
   "outputs": [],
   "source": [
    "! qiime diversity beta-group-significance \\\n",
    "    --i-distance-matrix ./data/diversity/core-metrics-results/bray_curtis_distance_matrix.qza \\\n",
    "    --m-metadata-file ./data/metadata/fungut_metadata_processed.tsv \\\n",
    "    --m-metadata-column age_group \\\n",
    "    --p-pairwise \\\n",
    "    --o-visualization ./data/diversity/core-metrics-results/bray-curtis-age-group-significance.qzv"
   ]
  },
  {
   "cell_type": "code",
   "execution_count": null,
   "id": "573092f7-94fb-4307-b033-390b0f2ed253",
   "metadata": {
    "tags": []
   },
   "outputs": [],
   "source": [
    "Visualization.load('./data/diversity/core-metrics-results/bray-curtis-age-group-significance.qzv')"
   ]
  },
  {
   "cell_type": "markdown",
   "id": "58565278-1a16-4343-a278-5751eae76e91",
   "metadata": {},
   "source": [
    "##### diet_type"
   ]
  },
  {
   "cell_type": "code",
   "execution_count": null,
   "id": "0b56d0a2-e3d9-431b-ad7f-83369a3e12d3",
   "metadata": {
    "tags": []
   },
   "outputs": [],
   "source": [
    "! qiime diversity beta-group-significance \\\n",
    "    --i-distance-matrix ./data/diversity/core-metrics-results/bray_curtis_distance_matrix.qza \\\n",
    "    --m-metadata-file ./data/metadata/fungut_metadata_processed.tsv \\\n",
    "    --m-metadata-column diet_type_sample \\\n",
    "    --p-pairwise \\\n",
    "    --o-visualization ./data/diversity/core-metrics-results/bray-curtis-diet-significance.qzv"
   ]
  },
  {
   "cell_type": "code",
   "execution_count": null,
   "id": "ad7de02b-556d-4679-973e-6daec121c125",
   "metadata": {
    "tags": []
   },
   "outputs": [],
   "source": [
    "Visualization.load('./data/diversity/core-metrics-results/bray-curtis-diet-significance.qzv')"
   ]
  },
  {
   "cell_type": "markdown",
   "id": "dd386271-d91a-4064-8470-88dd240f1652",
   "metadata": {},
   "source": [
    "##### bmi_category"
   ]
  },
  {
   "cell_type": "code",
   "execution_count": null,
   "id": "1d7bc87e-ee9c-4c59-b639-41dddd16cfa0",
   "metadata": {
    "tags": []
   },
   "outputs": [],
   "source": [
    "! qiime diversity beta-group-significance \\\n",
    "    --i-distance-matrix ./data/diversity/core-metrics-results/bray_curtis_distance_matrix.qza \\\n",
    "    --m-metadata-file ./data/metadata/fungut_metadata_processed.tsv \\\n",
    "    --m-metadata-column bmi_category \\\n",
    "    --p-pairwise \\\n",
    "    --o-visualization ./data/diversity/core-metrics-results/bray-curtis-bmi-significance.qzv"
   ]
  },
  {
   "cell_type": "code",
   "execution_count": null,
   "id": "896fc73f-6642-495e-927e-a54099ac4607",
   "metadata": {
    "tags": []
   },
   "outputs": [],
   "source": [
    "Visualization.load('./data/diversity/core-metrics-results/bray-curtis-bmi-significance.qzv')"
   ]
  },
  {
   "cell_type": "code",
   "execution_count": null,
   "id": "e4ec9f99-e770-49b3-8a1f-cae6d59f9669",
   "metadata": {},
   "outputs": [],
   "source": []
  },
  {
   "cell_type": "markdown",
   "id": "0787ef14-673a-4ab1-a5f0-5499f912145e",
   "metadata": {},
   "source": [
    "-----------------------------------------------------------------------------------"
   ]
  },
  {
   "cell_type": "markdown",
   "id": "495e3d25-26ef-4b50-8638-9739882c727d",
   "metadata": {},
   "source": [
    "### Jaccard Index\n",
    "##### gluten_symptoms"
   ]
  },
  {
   "cell_type": "code",
   "execution_count": null,
   "id": "2eddcef9-0140-4596-a724-6b23b035c933",
   "metadata": {
    "tags": []
   },
   "outputs": [],
   "source": [
    "! qiime diversity beta-group-significance \\\n",
    "    --i-distance-matrix ./data/diversity/core-metrics-results/jaccard_distance_matrix.qza \\\n",
    "    --m-metadata-file ./data/metadata/fungut_metadata_processed.tsv \\\n",
    "    --m-metadata-column gluten_symptoms \\\n",
    "    --p-pairwise \\\n",
    "    --o-visualization ./data/diversity/core-metrics-results/jaccard-gluten-significance.qzv"
   ]
  },
  {
   "cell_type": "code",
   "execution_count": null,
   "id": "082c70cc-b55e-4384-a60d-5202ea674cdb",
   "metadata": {
    "tags": []
   },
   "outputs": [],
   "source": [
    "Visualization.load('./data/diversity/core-metrics-results/jaccard-gluten-significance.qzv')"
   ]
  },
  {
   "cell_type": "markdown",
   "id": "f89b8f68-1972-453c-b83f-5780378d94b9",
   "metadata": {},
   "source": [
    "##### ibd_symptoms"
   ]
  },
  {
   "cell_type": "code",
   "execution_count": null,
   "id": "25e19bcd-c53b-4558-b0ae-9feaad0be7d2",
   "metadata": {
    "tags": []
   },
   "outputs": [],
   "source": [
    "! qiime diversity beta-group-significance \\\n",
    "    --i-distance-matrix ./data/diversity/core-metrics-results/jaccard_distance_matrix.qza \\\n",
    "    --m-metadata-file ./data/metadata/fungut_metadata_processed.tsv \\\n",
    "    --m-metadata-column ibd_symptoms \\\n",
    "    --p-pairwise \\\n",
    "    --o-visualization ./data/diversity/core-metrics-results/jaccard-ibd-significance.qzv"
   ]
  },
  {
   "cell_type": "code",
   "execution_count": null,
   "id": "e6643105-1347-444d-9b69-681c06365e6e",
   "metadata": {
    "tags": []
   },
   "outputs": [],
   "source": [
    "Visualization.load('./data/diversity/core-metrics-results/jaccard-ibd-significance.qzv')"
   ]
  },
  {
   "cell_type": "markdown",
   "id": "2304b04a-f034-4fcd-85ab-2bcb733ffd04",
   "metadata": {},
   "source": [
    "##### age_group"
   ]
  },
  {
   "cell_type": "code",
   "execution_count": null,
   "id": "8f0b50c2-5a09-4906-9e80-ff9e3d198e9a",
   "metadata": {
    "tags": []
   },
   "outputs": [],
   "source": [
    "! qiime diversity beta-group-significance \\\n",
    "    --i-distance-matrix ./data/diversity/core-metrics-results/jaccard_distance_matrix.qza \\\n",
    "    --m-metadata-file ./data/metadata/fungut_metadata_processed.tsv \\\n",
    "    --m-metadata-column age_group \\\n",
    "    --p-pairwise \\\n",
    "    --o-visualization ./data/diversity/core-metrics-results/jaccard-age-group-significance.qzv"
   ]
  },
  {
   "cell_type": "code",
   "execution_count": null,
   "id": "0ccd0a3e-3e61-4438-a847-5f2eec2f2447",
   "metadata": {
    "tags": []
   },
   "outputs": [],
   "source": [
    "Visualization.load('./data/diversity/core-metrics-results/jaccard-age-group-significance.qzv')"
   ]
  },
  {
   "cell_type": "markdown",
   "id": "e8889c9d-37ee-42b3-ad50-cfecab06655a",
   "metadata": {},
   "source": [
    "Since the overall age had a significant result, it will be plotted using seaborn and pandas."
   ]
  },
  {
   "cell_type": "code",
   "execution_count": null,
   "id": "609bd590-47ff-4fea-ab48-c98c64f0a728",
   "metadata": {},
   "outputs": [],
   "source": [
    "data_dir_pcoa = '/home/jovyan/FunGut2/full-pipeline/data/diversity/core-metrics-results/'\n",
    "pcs = q2.Artifact.load(os.path.join(data_dir_pcoa, 'jaccard_pcoa_results.qza'))\n",
    "\n",
    "# View as an OrdinationResults object\n",
    "pcs = pcs.view(OrdinationResults)\n",
    "\n",
    "# Take the first 3 columns (PCoA axes)\n",
    "pcs_data = pcs.samples.iloc[:, :3]\n",
    "\n",
    "# Rename the columns for clarity\n",
    "pcs_data.columns = ['Axis 1', 'Axis 2', 'Axis 3']"
   ]
  },
  {
   "cell_type": "code",
   "execution_count": null,
   "id": "724aad51-98ed-4d60-8708-5c81f847b390",
   "metadata": {
    "tags": []
   },
   "outputs": [],
   "source": [
    "pcs_data_age = pd.merge(pcs_data, meta_data[['ID', 'age_group']], left_index=True, right_on='ID')"
   ]
  },
  {
   "cell_type": "code",
   "execution_count": null,
   "id": "54bc63dc-df65-4453-be57-3db7ef18af14",
   "metadata": {
    "tags": []
   },
   "outputs": [],
   "source": [
    "# Create the scatter plot\n",
    "plt.figure(figsize=(8, 6))  # Adjust figure size\n",
    "sns.scatterplot(\n",
    "    data=pcs_data_age,\n",
    "    x='Axis 1',\n",
    "    y='Axis 2',\n",
    "    hue='age_group', palette=\"colorblind\")\n",
    "\n",
    "# Adjust the legend to not overlap the graph\n",
    "plt.legend(bbox_to_anchor=(1.05, 1), loc='upper left', title='Age Group')\n",
    "\n",
    "# Add labels and title\n",
    "plt.xlabel('Axis 1')\n",
    "plt.ylabel('Axis 2')\n",
    "plt.title('PCoA Plot: Beta Diversity (Jaccard Distance) Age Group')\n",
    "\n",
    "# Show the plot\n",
    "plt.tight_layout()  # Ensure everything fits nicely\n",
    "\n",
    "# Save the plot as a PNG file\n",
    "plt.savefig(\"./data/diversity/pcoa_plot_beta_div_jaccard_age.png\", dpi=300, bbox_inches='tight')\n",
    "plt.show()"
   ]
  },
  {
   "cell_type": "markdown",
   "id": "6c9c4b5f-884b-4378-acf3-5e0216577468",
   "metadata": {},
   "source": [
    "##### diet_type"
   ]
  },
  {
   "cell_type": "code",
   "execution_count": null,
   "id": "55053e76-34a1-40f3-86d6-dc752e238c4b",
   "metadata": {
    "tags": []
   },
   "outputs": [],
   "source": [
    "! qiime diversity beta-group-significance \\\n",
    "    --i-distance-matrix ./data/diversity/core-metrics-results/jaccard_distance_matrix.qza \\\n",
    "    --m-metadata-file ./data/metadata/fungut_metadata_processed.tsv \\\n",
    "    --m-metadata-column diet_type_sample \\\n",
    "    --p-pairwise \\\n",
    "    --o-visualization ./data/diversity/core-metrics-results/jaccard-diet-significance.qzv"
   ]
  },
  {
   "cell_type": "code",
   "execution_count": null,
   "id": "e343c3a2-b263-46b5-acea-95b4f1e658fe",
   "metadata": {
    "tags": []
   },
   "outputs": [],
   "source": [
    "Visualization.load('./data/diversity/core-metrics-results/jaccard-diet-significance.qzv')"
   ]
  },
  {
   "cell_type": "markdown",
   "id": "c37cb471-f78f-4271-9d6e-32d5589ff0b4",
   "metadata": {},
   "source": [
    "Since the diet type had some significant results, they will be plotted using seaborn and pandas."
   ]
  },
  {
   "cell_type": "code",
   "execution_count": null,
   "id": "7f623648-22a9-46f2-a5e5-1a470d4c5d33",
   "metadata": {
    "tags": []
   },
   "outputs": [],
   "source": [
    "meta_data = pd.read_csv('./data/metadata/fungut_metadata_processed.tsv', sep='\\t')\n",
    "pcs_data_diet = pd.merge(pcs_data, meta_data[['ID', 'diet_type_sample']], left_index=True, right_on='ID')"
   ]
  },
  {
   "cell_type": "code",
   "execution_count": null,
   "id": "73ace73c-eb35-4afd-aa9a-2960d32d93dd",
   "metadata": {
    "tags": []
   },
   "outputs": [],
   "source": [
    "# Define a custom color palette for more distinct colors\n",
    "custom_palette = {\n",
    "    'Vegan': '#2ca02c',  # Green\n",
    "    'Vegetarian': '#ff7f0e',  # Orange\n",
    "    'Omnivore': '#1f77b4',  # Blue\n",
    "    'Omnivore but do not eat red meat': '#d62728',  # Red\n",
    "    'Vegetarian but eat seafood': '#9467bd',  # Purple\n",
    "    'Not provided': '#8c564b'  # Brown\n",
    "}\n",
    "\n",
    "# Create the scatter plot\n",
    "plt.figure(figsize=(8, 6))  # Adjust figure size\n",
    "sns.scatterplot(\n",
    "    data=pcs_data_diet,\n",
    "    x='Axis 1',\n",
    "    y='Axis 2',\n",
    "    hue='diet_type_sample',\n",
    "    palette=custom_palette\n",
    ")\n",
    "\n",
    "# Adjust the legend to not overlap the graph\n",
    "plt.legend(bbox_to_anchor=(1.05, 1), loc='upper left', title='Diet Type')\n",
    "\n",
    "# Add labels and title\n",
    "plt.xlabel('Axis 1')\n",
    "plt.ylabel('Axis 2')\n",
    "plt.title('PCoA Plot: Beta Diversity (Jaccard Distance) Diet Type')\n",
    "\n",
    "# Show the plot\n",
    "plt.tight_layout()  # Ensure everything fits nicely\n",
    "\n",
    "# Save the plot as a PNG file\n",
    "plt.savefig(\"./data/diversity/pcoa_plot_beta_div_jaccard_diet.png\", dpi=300, bbox_inches='tight')\n",
    "plt.show()"
   ]
  },
  {
   "cell_type": "markdown",
   "id": "44c04bfd-0b1e-4614-b844-198541e554da",
   "metadata": {},
   "source": [
    "##### bmi_category"
   ]
  },
  {
   "cell_type": "code",
   "execution_count": null,
   "id": "2badef69-d23e-4460-9eef-72bf36b9b463",
   "metadata": {
    "tags": []
   },
   "outputs": [],
   "source": [
    "! qiime diversity beta-group-significance \\\n",
    "    --i-distance-matrix ./data/diversity/core-metrics-results/jaccard_distance_matrix.qza \\\n",
    "    --m-metadata-file ./data/metadata/fungut_metadata_processed.tsv \\\n",
    "    --m-metadata-column bmi_category \\\n",
    "    --p-pairwise \\\n",
    "    --o-visualization ./data/diversity/core-metrics-results/jaccard-bmi-significance.qzv"
   ]
  },
  {
   "cell_type": "code",
   "execution_count": null,
   "id": "746b1dd9-7a9b-4154-8eaa-534bbe835080",
   "metadata": {
    "tags": []
   },
   "outputs": [],
   "source": [
    "Visualization.load('./data/diversity/core-metrics-results/jaccard-bmi-significance.qzv')"
   ]
  },
  {
   "cell_type": "code",
   "execution_count": null,
   "id": "42f2e545-5eab-4327-812e-8df096f4bc60",
   "metadata": {},
   "outputs": [],
   "source": []
  },
  {
   "cell_type": "code",
   "execution_count": null,
   "id": "435e6292-f23f-4a98-b168-18d1da4c0867",
   "metadata": {},
   "outputs": [],
   "source": []
  },
  {
   "cell_type": "code",
   "execution_count": null,
   "id": "9901e847-6218-47c9-bff8-a45e0ac00eae",
   "metadata": {},
   "outputs": [],
   "source": []
  },
  {
   "cell_type": "code",
   "execution_count": null,
   "id": "fca8e083-160c-4dbe-b252-bb199816ca04",
   "metadata": {},
   "outputs": [],
   "source": []
  }
 ],
 "metadata": {
  "kernelspec": {
   "display_name": "QIIME 2",
   "language": "python",
   "name": "python3"
  },
  "language_info": {
   "codemirror_mode": {
    "name": "ipython",
    "version": 3
   },
   "file_extension": ".py",
   "mimetype": "text/x-python",
   "name": "python",
   "nbconvert_exporter": "python",
   "pygments_lexer": "ipython3",
   "version": "3.9.19"
  }
 },
 "nbformat": 4,
 "nbformat_minor": 5
}
